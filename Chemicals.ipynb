{
  "nbformat": 4,
  "nbformat_minor": 0,
  "metadata": {
    "colab": {
      "name": "Chemicals.ipynb",
      "provenance": [],
      "collapsed_sections": [],
      "include_colab_link": true
    },
    "kernelspec": {
      "name": "python3",
      "display_name": "Python 3"
    }
  },
  "cells": [
    {
      "cell_type": "markdown",
      "metadata": {
        "id": "view-in-github",
        "colab_type": "text"
      },
      "source": [
        "<a href=\"https://colab.research.google.com/github/MWSteams/4590FSP/blob/master/Chemicals.ipynb\" target=\"_parent\"><img src=\"https://colab.research.google.com/assets/colab-badge.svg\" alt=\"Open In Colab\"/></a>"
      ]
    },
    {
      "cell_type": "markdown",
      "metadata": {
        "id": "lZNgRSu1Uj8D",
        "colab_type": "text"
      },
      "source": [
        "#Chemicals\n",
        "\n",
        "Authors: Bridget Childs, Ananya Gangadhar, Jacqueline Wong\n",
        "\n",
        "Some update about our tasks that we are going to work on.\n",
        "\n"
      ]
    },
    {
      "cell_type": "code",
      "metadata": {
        "id": "QjwM4ovYUokZ",
        "colab_type": "code",
        "outputId": "0a3db05c-3815-4491-f6b9-0db4a9b29600",
        "colab": {
          "base_uri": "https://localhost:8080/",
          "height": 572
        }
      },
      "source": [
        "!pip install aguaclara\n",
        "!pip install molmass"
      ],
      "execution_count": 0,
      "outputs": [
        {
          "output_type": "stream",
          "text": [
            "Collecting aguaclara\n",
            "\u001b[?25l  Downloading https://files.pythonhosted.org/packages/28/bd/ce0f9f758e58a15e5cc55812679fe6ded155da1b6bac2278e574ce63d728/aguaclara-0.2.0.tar.gz (87kB)\n",
            "\u001b[K     |████████████████████████████████| 92kB 2.9MB/s \n",
            "\u001b[?25hRequirement already satisfied: matplotlib in /usr/local/lib/python3.6/dist-packages (from aguaclara) (3.2.1)\n",
            "Requirement already satisfied: urllib3 in /usr/local/lib/python3.6/dist-packages (from aguaclara) (1.24.3)\n",
            "Collecting pint==0.8.1\n",
            "\u001b[?25l  Downloading https://files.pythonhosted.org/packages/1e/40/6938f7d544eef208a8183c2c80624289e8a4f4e0aea43f4658b9527077de/Pint-0.8.1.tar.gz (162kB)\n",
            "\u001b[K     |████████████████████████████████| 163kB 6.5MB/s \n",
            "\u001b[?25hRequirement already satisfied: pandas in /usr/local/lib/python3.6/dist-packages (from aguaclara) (1.0.3)\n",
            "Requirement already satisfied: scipy in /usr/local/lib/python3.6/dist-packages (from aguaclara) (1.4.1)\n",
            "Requirement already satisfied: python-dateutil>=2.1 in /usr/local/lib/python3.6/dist-packages (from matplotlib->aguaclara) (2.8.1)\n",
            "Requirement already satisfied: numpy>=1.11 in /usr/local/lib/python3.6/dist-packages (from matplotlib->aguaclara) (1.18.2)\n",
            "Requirement already satisfied: kiwisolver>=1.0.1 in /usr/local/lib/python3.6/dist-packages (from matplotlib->aguaclara) (1.2.0)\n",
            "Requirement already satisfied: pyparsing!=2.0.4,!=2.1.2,!=2.1.6,>=2.0.1 in /usr/local/lib/python3.6/dist-packages (from matplotlib->aguaclara) (2.4.7)\n",
            "Requirement already satisfied: cycler>=0.10 in /usr/local/lib/python3.6/dist-packages (from matplotlib->aguaclara) (0.10.0)\n",
            "Requirement already satisfied: pytz>=2017.2 in /usr/local/lib/python3.6/dist-packages (from pandas->aguaclara) (2018.9)\n",
            "Requirement already satisfied: six>=1.5 in /usr/local/lib/python3.6/dist-packages (from python-dateutil>=2.1->matplotlib->aguaclara) (1.12.0)\n",
            "Building wheels for collected packages: aguaclara, pint\n",
            "  Building wheel for aguaclara (setup.py) ... \u001b[?25l\u001b[?25hdone\n",
            "  Created wheel for aguaclara: filename=aguaclara-0.2.0-cp36-none-any.whl size=99623 sha256=7aa365eceb048edda6af77ef090a71c219238b2bfef574f68932187d4ee7faa6\n",
            "  Stored in directory: /root/.cache/pip/wheels/34/e9/34/0d3722243083a982623290c205c14a08b54ed290ee29219fd2\n",
            "  Building wheel for pint (setup.py) ... \u001b[?25l\u001b[?25hdone\n",
            "  Created wheel for pint: filename=Pint-0.8.1-py2.py3-none-any.whl size=134156 sha256=098bacb902dc38ad00606a9f553d57801c4a8e9fabaa85471afe091a15426286\n",
            "  Stored in directory: /root/.cache/pip/wheels/b4/56/36/7c4d6a4e3660e233b95e3b0482551915cb184abca0f93ee1dd\n",
            "Successfully built aguaclara pint\n",
            "Installing collected packages: pint, aguaclara\n",
            "Successfully installed aguaclara-0.2.0 pint-0.8.1\n",
            "Collecting molmass\n",
            "\u001b[?25l  Downloading https://files.pythonhosted.org/packages/12/2b/dd600a36b78bc9ebf9e8ff7c900150c7439af0c55504a4ab8213485cda94/molmass-2020.1.1-py3-none-any.whl (65kB)\n",
            "\u001b[K     |████████████████████████████████| 71kB 2.7MB/s \n",
            "\u001b[?25hInstalling collected packages: molmass\n",
            "Successfully installed molmass-2020.1.1\n"
          ],
          "name": "stdout"
        }
      ]
    },
    {
      "cell_type": "code",
      "metadata": {
        "id": "ttJT8q_wYhAV",
        "colab_type": "code",
        "outputId": "ef4fd9a5-f965-4858-becf-39ee9e4468ca",
        "colab": {
          "base_uri": "https://localhost:8080/",
          "height": 208
        }
      },
      "source": [
        "from aguaclara.core.units import unit_registry as u\n",
        "import aguaclara as ac\n",
        "import matplotlib.pyplot as plt\n",
        "import numpy as np\n",
        "import pandas as pd\n",
        "import molmass as mol\n",
        "!wget https://raw.githubusercontent.com/monroews/4590FSP/master/Fairmont.py\n",
        "import Fairmont as fmt"
      ],
      "execution_count": 0,
      "outputs": [
        {
          "output_type": "stream",
          "text": [
            "--2020-04-23 21:09:19--  https://raw.githubusercontent.com/monroews/4590FSP/master/Fairmont.py\n",
            "Resolving raw.githubusercontent.com (raw.githubusercontent.com)... 151.101.0.133, 151.101.64.133, 151.101.128.133, ...\n",
            "Connecting to raw.githubusercontent.com (raw.githubusercontent.com)|151.101.0.133|:443... connected.\n",
            "HTTP request sent, awaiting response... 200 OK\n",
            "Length: 2397 (2.3K) [text/plain]\n",
            "Saving to: ‘Fairmont.py’\n",
            "\n",
            "\rFairmont.py           0%[                    ]       0  --.-KB/s               \rFairmont.py         100%[===================>]   2.34K  --.-KB/s    in 0s      \n",
            "\n",
            "2020-04-23 21:09:20 (50.2 MB/s) - ‘Fairmont.py’ saved [2397/2397]\n",
            "\n"
          ],
          "name": "stdout"
        }
      ]
    },
    {
      "cell_type": "markdown",
      "metadata": {
        "id": "2SQpUtXCR5Xz",
        "colab_type": "text"
      },
      "source": [
        "# Task Definition\n",
        "\n",
        "The Chemicals team will be in charge of designing the chemical dosage system. This will include determining the coagulant and polymer dosage, conducting a cost analysis based on anticipated dosages and vendors, and designing chemical storage. These tasks require a determination of the chemical feeds, feed hydraulics and plumbing, and available vendors. Additionally, our storage system design will include the number of storage tanks, tank size, location, footprint, and safety add-ons in order to meet OSHA requirements (e.g. spillover capture, eye washes, safety showers). Information will be primarily sourced from government regulations, Fairmont Treatment plant SOW, relevant vendors, and similar go-by systems.  "
      ]
    },
    {
      "cell_type": "markdown",
      "metadata": {
        "id": "WoGtXtBGQZr5",
        "colab_type": "text"
      },
      "source": [
        "# Executive Summary\n",
        "\n",
        "(Highlight dominant constraints and your recommendation for the design.)"
      ]
    },
    {
      "cell_type": "markdown",
      "metadata": {
        "id": "Jonv4dYSQghA",
        "colab_type": "text"
      },
      "source": [
        "# Constraints\n",
        "\n",
        "* Design flow of the plant is 720 cfs.\n",
        "* Effluent aresenic levels should be under 10 ug/L.\n",
        "* Effluent TOC levels should be under 3 mg/L.\n",
        "* Effluent turbidity should be under 3 NTU.\n",
        "* Chemicals will be stored in an open tank farm and have at least a 30 day capacity  (Scope of work, pg 18).\n",
        "* All hazardous chemicals must be stored in an area that is designed to contain spills ([OSHA regulations](https://www.safetyinfo.com/safe-chemical-storage-osha-requirements-free-index/)).\n",
        "* All design values should be justifiable using design equations.\n",
        "* The chemical feed system should be easy to understand and operate, and should have relatively low maintenance.\n",
        "* The designed system should have a feedback loop wherein the chemical dosage is adjusted accordingly with a change in the plant flow rate.\n",
        "\n",
        "**CEE 4590 Logistical constraints**\n",
        "* Information in Scope of Work is often missing citations, and we are unsure of the source and degree of certainty of parameters like expected FeCl3 dosage.\n",
        "* At present, we have no communication with the LA engineers on this project, only the Stantec engineers Mickey and Tori.\n",
        "* It will be challenging to procure cost estimates from vendors since they are typically reluctant to share such information with students.\n",
        "* It may be wise to add more redundancy to the chemical storage system than the recommended 30 days for situations like a shutdown due to a pandemic when supply chains are disrupted.. \n",
        "\n",
        "# Physics*\n",
        "\n",
        "Since the Chemicals Team task concerns mainly the storage and delivery of coagulant and polymers, it is important to consider the energy and space that these chemicals will occupy. The **Energy equation** accounts the energy losses in fluid mechanics. Below is the general form, which will be useful as it is tailored to the chemical dosage design. [(AguaClara Textbook)](https://aguaclara.github.io/Textbook/Review/Review_Fluid_Mechanics.html#equation-review-review-fluid-mechanics-4)\n",
        "\n",
        "$$\\frac{p_{1}}{\\rho g} + z_{1} + \\alpha_{1} \\frac{\\bar v_{1}^2}{2g} + h_P = \\frac{p_{2}}{\\rho g} + z_{2} + {\\alpha_{2}} \\frac{\\bar v_{2}^2}{2g} + h_T + h_L$$\n",
        "\n",
        "Where:\n",
        "\n",
        "p = pressure\n",
        "\n",
        "ρ = density \n",
        "\n",
        "z = height \n",
        "\n",
        "v = velocity \n",
        "\n",
        "hp, ht = viscueous frictional loss due to pumps, turbines\n",
        "\n",
        "hl = head loss\n",
        "\n",
        "\n",
        "Head loss comprises of major losses from friction and minor losses from flow expansions, elbows. Major and minor loss equations are discussed below. \n",
        "\n",
        " $$h_L = h_{\\rm{f}} + h_e$$\n",
        "\n",
        "Minor losses may be summarized as the equation below. K will vary depending on the minor loss (e.g. expansion, elbow, etc.). \n",
        "\n",
        "$$h_e = \\sum K \\frac{\\bar v_{out}^2}{2g} =\\left( \\frac{A_{out}}{A_{in}} -1 \\right)^2 \\frac{\\bar v_{out}^2}{2g}$$\n",
        "\n",
        "The **Darcy-Weisbach equation** solves for major losses in the head loss equation. For this equation, it will be important to know the length and diameter of the pipes in our delivery system. Equation found in the [AguaClara Textbook](https://aguaclara.github.io/Textbook/Review/Review_Fluid_Mechanics.html#equation-darcy-weisbach). Additionally, there is an accompanying python function in the AguaClara python package to calculate major losses.\n",
        "\n",
        "$$h_{\\rm{f}} \\, = \\, {\\rm{f}} \\frac{L}{D} \\frac{\\bar v^2}{2g}$$\n",
        "\n",
        "$$h_{\\rm{f}} \\, = \\,{\\rm{f}} \\frac{8}{g \\pi^2} \\frac{LQ^2}{D^5}$$\n",
        "\n",
        "Such that: \n",
        "\n",
        "hf = major loss \n",
        "\n",
        "f = Darcy friction factor\n",
        " \n",
        "L = pipe length\n",
        "\n",
        "Q = pipe flow rate\n",
        " \n",
        "D = pipe diameter\n",
        "\n",
        "AC Python Function = pc.headloss_fric(FlowRate, Diam, Length, Nu, PipeRough)\n",
        "\n",
        "Below is the **Swamee-Jain equation** found from the [AguaClara Textbook](https://aguaclara.github.io/Textbook/Review/Review_Fluid_Mechanics.html#equation-swamee-jain). The Swamee-Jain equation helps determine the friction factor used in the Darcy-Weisbach equation. Ultimately, this will help calculate the major frictional losses of the system. \n",
        "\n",
        "$${\\rm{f}} = \\frac{0.25} {\\left[ \\log \\left( \\frac{\\epsilon }{3.7D} + \\frac{5.74}{{\\rm Re}^{0.9}} \\right) \\right]^2}$$\n",
        "\n",
        "Such that: \n",
        "\n",
        "f = friction factor \n",
        "\n",
        "ϵ = pipe roughness\n",
        "\n",
        "D = pipe diameter\n",
        "\n",
        "AC Python Function = pc.fric(FlowRate, Diam, Nu, PipeRough)\n",
        "\n",
        "Other types of energy that may be of use to our chemical dosage system will be kinetic and potential energy, listed below. These are more general, but may be important to consider, especially with respect to the site's geography and elevation.   \n",
        "\n",
        "$$ E_{potential} = mgh \\,\\,\\,\\,\\, E_{kinetic} = mv^2/2$$\n",
        "\n",
        "Ultimately, whatever power is neeeded to run the chemical dosage system will be supplied by pumps. For pumps, it will be important to consider how much power they will use. Below is the equation for power. E represents energy and t represents time. \n",
        "\n",
        "$$ P = \\frac{E}{t} $$\n",
        "\n",
        "Lastly, mass conservation will important to consider during our calculations. This will help us better understand how much storage will be required when considering the required dosage. \n",
        "\n",
        "$$Q_{in}C_{in} = Q_{out}C_{out}$$\n",
        "\n",
        "# Table listing potential strategies to meet the constraints and treatment objectives*\n",
        "\n",
        "| strategy | advantages  | disadvantages | data needed |\n",
        "|---|---|---|---|\n",
        "| open tank farm vs. enclosed storage | go-by, less expensive | less protection | weathering risk |\n",
        "| 3 storage tanks vs. using even more | less complexity | lower safety factor | storage area |\n",
        "| choosing vendor before choosing tank size | easier to pick model | more restricted | vendor details |\n",
        "| 30-day storage vs. keeping even more | resilience (e.g. COVID) | more expensive | area, budget |\n",
        "| single vs. multiple dosage system per train | maintenance, operator ease | fewer options if pipe fails | clogging risk |\n",
        "\n"
      ]
    },
    {
      "cell_type": "markdown",
      "metadata": {
        "id": "J9dPZVMbOka9",
        "colab_type": "text"
      },
      "source": [
        "# Vendors and contact information file\n",
        "\n",
        "See this [tab delimited spreadsheet](https://raw.githubusercontent.com/monroews/4590FSP/master/vendors.txt).\n",
        "\n",
        "Add rows to the vendor spreadsheet as you find them. The sheet can easily be edited in Excel. Just make sure to save it as a tab delimited sheet. Push your changes to github so the entire class has access to the document.\n",
        "\n"
      ]
    },
    {
      "cell_type": "code",
      "metadata": {
        "id": "l35d0BODlEsW",
        "colab_type": "code",
        "outputId": "aa69bee7-8649-4855-9b48-ba8964a93977",
        "colab": {
          "base_uri": "https://localhost:8080/",
          "height": 324
        }
      },
      "source": [
        "vendors = pd.read_csv('https://raw.githubusercontent.com/monroews/4590FSP/master/vendors.txt',sep='\\t')\n",
        "vendors.head()"
      ],
      "execution_count": 0,
      "outputs": [
        {
          "output_type": "execute_result",
          "data": {
            "text/html": [
              "<div>\n",
              "<style scoped>\n",
              "    .dataframe tbody tr th:only-of-type {\n",
              "        vertical-align: middle;\n",
              "    }\n",
              "\n",
              "    .dataframe tbody tr th {\n",
              "        vertical-align: top;\n",
              "    }\n",
              "\n",
              "    .dataframe thead th {\n",
              "        text-align: right;\n",
              "    }\n",
              "</style>\n",
              "<table border=\"1\" class=\"dataframe\">\n",
              "  <thead>\n",
              "    <tr style=\"text-align: right;\">\n",
              "      <th></th>\n",
              "      <th>item description</th>\n",
              "      <th>vendor</th>\n",
              "      <th>contact first name</th>\n",
              "      <th>contact last name</th>\n",
              "      <th>vendor website</th>\n",
              "      <th>product info</th>\n",
              "      <th>date of contact</th>\n",
              "      <th>who made the contact</th>\n",
              "      <th>notes</th>\n",
              "    </tr>\n",
              "  </thead>\n",
              "  <tbody>\n",
              "    <tr>\n",
              "      <th>0</th>\n",
              "      <td>plate settlers</td>\n",
              "      <td>MRI</td>\n",
              "      <td>still</td>\n",
              "      <td>pending</td>\n",
              "      <td>http://www.meurerresearch.com/</td>\n",
              "      <td>http://www.meurerresearch.com/literaturemedia/...</td>\n",
              "      <td>4/16/2020</td>\n",
              "      <td>Ian Cullings</td>\n",
              "      <td>NaN</td>\n",
              "    </tr>\n",
              "    <tr>\n",
              "      <th>1</th>\n",
              "      <td>sludge removal system</td>\n",
              "      <td>MRI</td>\n",
              "      <td>still</td>\n",
              "      <td>pending</td>\n",
              "      <td>http://www.meurerresearch.com/</td>\n",
              "      <td>http://www.meurerresearch.com/products/hoseles...</td>\n",
              "      <td>4/16/2020</td>\n",
              "      <td>Ian Cullings</td>\n",
              "      <td>NaN</td>\n",
              "    </tr>\n",
              "    <tr>\n",
              "      <th>2</th>\n",
              "      <td>plate settlers</td>\n",
              "      <td>Monore Environmental</td>\n",
              "      <td>still</td>\n",
              "      <td>pending</td>\n",
              "      <td>https://www.monroeenvironmental.com/</td>\n",
              "      <td>https://www.monroeenvironmental.com/water-and-...</td>\n",
              "      <td>4/16/2020</td>\n",
              "      <td>Ian Cullings</td>\n",
              "      <td>NaN</td>\n",
              "    </tr>\n",
              "    <tr>\n",
              "      <th>3</th>\n",
              "      <td>sludge removal system</td>\n",
              "      <td>Monore Environmental</td>\n",
              "      <td>still</td>\n",
              "      <td>pending</td>\n",
              "      <td>https://www.monroeenvironmental.com/</td>\n",
              "      <td>http://www.monroeenvironmental.com/water-and-w...</td>\n",
              "      <td>4/16/2020</td>\n",
              "      <td>Ian Cullings</td>\n",
              "      <td>NaN</td>\n",
              "    </tr>\n",
              "    <tr>\n",
              "      <th>4</th>\n",
              "      <td>plate settler with hopper</td>\n",
              "      <td>Parkson</td>\n",
              "      <td>still</td>\n",
              "      <td>pending</td>\n",
              "      <td>https://www.parkson.com/</td>\n",
              "      <td>https://www.parkson.com/products/lamella-ecoflow</td>\n",
              "      <td>4/16/2020</td>\n",
              "      <td>Ian Cullings</td>\n",
              "      <td>Includes sloped sludge hopper in design</td>\n",
              "    </tr>\n",
              "  </tbody>\n",
              "</table>\n",
              "</div>"
            ],
            "text/plain": [
              "            item description  ...                                    notes\n",
              "0             plate settlers  ...                                      NaN\n",
              "1      sludge removal system  ...                                      NaN\n",
              "2             plate settlers  ...                                      NaN\n",
              "3      sludge removal system  ...                                      NaN\n",
              "4  plate settler with hopper  ...  Includes sloped sludge hopper in design\n",
              "\n",
              "[5 rows x 9 columns]"
            ]
          },
          "metadata": {
            "tags": []
          },
          "execution_count": 3
        }
      ]
    },
    {
      "cell_type": "markdown",
      "metadata": {
        "id": "-jwNKdrCOmux",
        "colab_type": "text"
      },
      "source": [
        "# Shared Assumptions\n",
        "\n",
        "See this [python file, Fairmont.py](https://github.com/monroews/4590FSP/blob/master/Fairmont.py)\n",
        "\n",
        "Use this file to hold parameters that are in the SOW or elsewhere that\n",
        "influence the design of the entire plant. This provides an easy mechanism\n",
        "for all of us to share the same assumptions. Read the SOW to find sections that relate to your part of the design and enter all pertinent variables into [Fairmont.py](https://github.com/monroews/4590FSP/blob/master/Fairmont.py) and then push those changes to github.\n",
        "\n",
        "# Major Decisions\n",
        "\n",
        "(Write several paragraphs describing the major decisions that you will need to make in order to create a design and outline a strategy for how you will obtain the necessary information to make those decisions.)\n",
        "\n",
        "**Chemical Types**\n",
        "\n",
        "The Fairmont Sedimentation Plant Scope of Work Document notes that two types of products will be used: a coagulant (specifically, ferric chloride) and emulsion polymer. Due to communication constraints with engineers at the Los Angeles Department of Water and Power, we are unlikely to fully understand the rationale behind the selection of ferric chloride as the coagulant. However, consider that it was already specified, we have decided to move forward with ferric chloride as the coagulant of choice.\n",
        "\n",
        "On the other hand, the type of emulsion polymer was not specified in the Scope of Work document. There are many types and blends of polymers that are available in the water treatment market, many of which are proprietary and are vague in chemical makeup. \n",
        "\n",
        "**SPECIFYING EMULSION POLYMER...**\n",
        "\n",
        "It was noted by other teams that a high coagulant dosage could significantly alter the pH of the water. Since the Scope of Work did not specify the need for other chemical products, we made the assumption that the acid neutralizing capacity of raw water entering the Fairmont Sedimentatino Plant is adequate, and that additional chemicals beyond the coagulant and emulsion polymer are not required.\n",
        "\n",
        "**Chemical Storage**\n",
        "\n",
        "One challenge...\n",
        "\n",
        "**STORED CONCENTRATION**\n",
        "\n",
        "# Next Steps and Challenges\n",
        "\n",
        "(Summarize the next steps that you will be taking to move the design forward. Identify any challenges where you may need assistance.)\n",
        "\n",
        "1. Use Google Earth to estimate the total tank volume at Cottonwood Treatment Plant and Los Angeles Aqueduct Filtration Plant to estimate stored concentrations of ferric chloride.\n",
        "2. Write preliminary code for 30-day storage needs based on the estimated annual quantities.\n",
        "3. Identify missing variables from relevant physics equations to better understand \"known knowns\" and \"known unknowns\".\n",
        "4. Communicate with Residuals (and other teams) to see if additional chemical treatment is needed apart from ferric chloride and emulsion polymer."
      ]
    },
    {
      "cell_type": "markdown",
      "metadata": {
        "id": "DXlB_I6ZOw2J",
        "colab_type": "text"
      },
      "source": [
        "# Design\n",
        "\n",
        "Begin writing the code to start your design. Define flow rates, mass rates, energy requirements, and any readily calculated dimensions, velocities, flows, etc."
      ]
    },
    {
      "cell_type": "code",
      "metadata": {
        "id": "IrwTrVM2hZqH",
        "colab_type": "code",
        "outputId": "404a2966-a04d-43c9-a2ef-95a3d7bf1ea2",
        "colab": {
          "base_uri": "https://localhost:8080/",
          "height": 69
        }
      },
      "source": [
        "print('The average flow to be treated at Fairmont is',fmt.q_ave.to(u.Mgal/u.day),'or')\n",
        "print('The maximum flow to be treated at Fairmont is',fmt.q_max.to(u.Mgal/u.day))\n",
        "specific_energy = (fmt.electricity_power/fmt.q_ave).to(u.J/u.L)\n",
        "temp = 15 * u.degC\n",
        "specific_potential_energy = (specific_energy / u.gravity / ac.density_water(temp)).to(u.m)\n",
        "print('The average amount of energy used per liter of water is expected to be',specific_energy,'or',specific_potential_energy,'of potential energy')"
      ],
      "execution_count": 0,
      "outputs": [
        {
          "output_type": "stream",
          "text": [
            "The average flow to be treated at Fairmont is 206.8 megagallon / day or\n",
            "The maximum flow to be treated at Fairmont is 465.3 megagallon / day\n",
            "The average amount of energy used per liter of water is expected to be 118.1 joule / liter or 12.05 meter of potential energy\n"
          ],
          "name": "stdout"
        }
      ]
    },
    {
      "cell_type": "code",
      "metadata": {
        "id": "BV-FDRwq_b_x",
        "colab_type": "code",
        "outputId": "ce8d5ab0-6f79-4022-cde7-4f96146cfbab",
        "colab": {
          "base_uri": "https://localhost:8080/",
          "height": 69
        }
      },
      "source": [
        "#volume FeCl3 for 30 days via dosage \n",
        "time = 30 * u.days\n",
        "density_fecl3 = 2900*u.kg/(u.m**3)\n",
        "tank_volume = fmt.Fe_c_ave /density_fecl3* time * fmt.q_ave\n",
        "print (\"The volume of FeCl3 needed for 30 days is based on the recommended dosage is\",tank_volume.to(u.kgal))\n",
        "\n",
        "#volume FeCl3 for 30 days via annual mass estimate\n",
        "fecl3_ann_est = 4142 * u.tons\n",
        "fecl3_month = fecl3_ann_est *u.month/u.year \n",
        "fecl3_month_vol = fecl3_month /density_fecl3\n",
        "print(\"The volume of FeCl3 needed for 30 days based on the SOW annual estimate is\", fecl3_month_vol.to(u.kgal))\n",
        "\n",
        "#volume of polymer for 30 days via annual mass estimate\n",
        "polymer_ann_est = 165 * u.tons\n",
        "polymer_month = polymer_ann_est *u.month/u.year \n",
        "print(\"The mass of FeCl3 needed for 30 days based on the SOW annual estimate is\", polymer_month.to(u.ton))"
      ],
      "execution_count": 0,
      "outputs": [
        {
          "output_type": "stream",
          "text": [
            "The volume of FeCl3 needed for 30 days is based on the recommended dosage is 28.11 kilogallon\n",
            "The volume of FeCl3 needed for 30 days based on the SOW annual estimate is 28.52 kilogallon\n",
            "The mass of FeCl3 needed for 30 days based on the SOW annual estimate is 13.75 US_ton\n"
          ],
          "name": "stdout"
        }
      ]
    },
    {
      "cell_type": "code",
      "metadata": {
        "id": "SSS5SEdKzXRZ",
        "colab_type": "code",
        "outputId": "3a7c0518-4674-4fa7-d37b-06d7b2f674c4",
        "colab": {
          "base_uri": "https://localhost:8080/",
          "height": 34
        }
      },
      "source": [
        "#rough estimates of parameters\n",
        "elevation_tank = 0 *u.feet\n",
        "elevation_rapid_mix = 2 *u.feet\n",
        "pipe_d = 3*u.inches\n",
        "pipe_l = 1000 *u.feet\n",
        "stock_fecl_c = 4.4 *u.lb/u.gal\n",
        "num_elbow = 4\n",
        "k_elbow = .3 #Frank Fluid Mechanics pg 391, assumed 90 deg. regular flanged 4 in. nominal diameter\n",
        "temp = 20 *u.degC\n",
        "e = .0015 *u.mm #Frank Fluid Mechanics pg 371, assumed plastic\n",
        "\n",
        "#calculating power pump \n",
        "flow_coagulant = fmt.Fe_c_ave * fmt.q_ave / stock_fecl_c\n",
        "velocity_coagulant = flow_coagulant /(np.pi/4*(pipe_d**2))\n",
        "minor_loss = num_elbow * k_elbow * (velocity_coagulant**2)/(2*ac.GRAVITY)\n",
        "major_loss = ac.headloss_major_pipe(flow_coagulant, pipe_d, pipe_l, ac.viscosity_kinematic_water(temp), e)\n",
        "head_loss = minor_loss + major_loss\n",
        "head_pump = head_loss + elevation_rapid_mix - elevation_tank\n",
        "power_pump = flow_coagulant*density_fecl3*ac.GRAVITY*head_pump\n",
        "\n",
        "print(\"The power required to pump the coagulant to the treatment train is \",power_pump.to(u.watt))"
      ],
      "execution_count": 0,
      "outputs": [
        {
          "output_type": "stream",
          "text": [
            "The power required to pump the coagulant to the treatment train is  4.049 watt\n"
          ],
          "name": "stdout"
        }
      ]
    }
  ]
}