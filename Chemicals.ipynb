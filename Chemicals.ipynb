{
  "nbformat": 4,
  "nbformat_minor": 0,
  "metadata": {
    "colab": {
      "name": "Chemicals.ipynb",
      "provenance": [],
      "collapsed_sections": [],
      "include_colab_link": true
    },
    "kernelspec": {
      "name": "python3",
      "display_name": "Python 3"
    }
  },
  "cells": [
    {
      "cell_type": "markdown",
      "metadata": {
        "id": "view-in-github",
        "colab_type": "text"
      },
      "source": [
        "<a href=\"https://colab.research.google.com/github/MWSteams/4590FSP/blob/master/Chemicals.ipynb\" target=\"_parent\"><img src=\"https://colab.research.google.com/assets/colab-badge.svg\" alt=\"Open In Colab\"/></a>"
      ]
    },
    {
      "cell_type": "markdown",
      "metadata": {
        "id": "lZNgRSu1Uj8D",
        "colab_type": "text"
      },
      "source": [
        "# **Chemicals**\n",
        "\n",
        "**Authors: Bridget Childs, Ananya Gangadhar, Jacqueline Wong**\n",
        "\n",
        "[Monroe]: # (I'm realizing that you hadn't found all of my comments, so I've moved this out of the comments into the main text to ensure you find it. Make sure to open text boxes including this one! and the ones below to see if there are any comments!)\n",
        "\n",
        "[Monroe]: # (The progress since the previous submission seems to be minimal. The analysis that you have done is both relatively simple and appears to have significant errors. Pick up the pace, review each other's work, bring healthy skepticism to your design, make your default position be that you DON'T believe what your team mates have done and make them convinced you. Design is so important because it is when we create the dream of how we are going to change the real world. You want to make sure that you are creating design recommendations that will work. Design isn't for a grade. Design mistakes are expensive at best and deadly at worst. That is why engineering skepticism is so important.)\n",
        "\n",
        "[Monroe]: # (This was my feedback from the previous submission. You are making reasonable progress. Fix your estimates of flow rates and volumes, design the plumbing system, specify the pumps required, review your report for spelling errors [too bad that spell checkers don't work yet], design the storage tanks, etc.)\n",
        "\n"
      ]
    },
    {
      "cell_type": "code",
      "metadata": {
        "id": "QjwM4ovYUokZ",
        "colab_type": "code",
        "outputId": "1b2bacf8-0e6c-4c2c-986d-4725a6ddb022",
        "colab": {
          "base_uri": "https://localhost:8080/",
          "height": 581
        }
      },
      "source": [
        "!pip install aguaclara\n",
        "!pip install molmass"
      ],
      "execution_count": 0,
      "outputs": [
        {
          "output_type": "stream",
          "text": [
            "Collecting aguaclara\n",
            "\u001b[?25l  Downloading https://files.pythonhosted.org/packages/6d/b5/24c20d548db5d6dbbce2899e0c9e24eab6c5f593a2898b353f356bb9cd3b/aguaclara-0.2.1.tar.gz (87kB)\n",
            "\u001b[K     |████████████████████████████████| 92kB 5.2MB/s \n",
            "\u001b[?25hRequirement already satisfied: matplotlib in /usr/local/lib/python3.6/dist-packages (from aguaclara) (3.2.1)\n",
            "Requirement already satisfied: urllib3 in /usr/local/lib/python3.6/dist-packages (from aguaclara) (1.24.3)\n",
            "Collecting pint==0.8.1\n",
            "\u001b[?25l  Downloading https://files.pythonhosted.org/packages/1e/40/6938f7d544eef208a8183c2c80624289e8a4f4e0aea43f4658b9527077de/Pint-0.8.1.tar.gz (162kB)\n",
            "\u001b[K     |████████████████████████████████| 163kB 12.9MB/s \n",
            "\u001b[?25hRequirement already satisfied: pandas in /usr/local/lib/python3.6/dist-packages (from aguaclara) (1.0.3)\n",
            "Requirement already satisfied: scipy in /usr/local/lib/python3.6/dist-packages (from aguaclara) (1.4.1)\n",
            "Requirement already satisfied: kiwisolver>=1.0.1 in /usr/local/lib/python3.6/dist-packages (from matplotlib->aguaclara) (1.2.0)\n",
            "Requirement already satisfied: python-dateutil>=2.1 in /usr/local/lib/python3.6/dist-packages (from matplotlib->aguaclara) (2.8.1)\n",
            "Requirement already satisfied: numpy>=1.11 in /usr/local/lib/python3.6/dist-packages (from matplotlib->aguaclara) (1.18.4)\n",
            "Requirement already satisfied: pyparsing!=2.0.4,!=2.1.2,!=2.1.6,>=2.0.1 in /usr/local/lib/python3.6/dist-packages (from matplotlib->aguaclara) (2.4.7)\n",
            "Requirement already satisfied: cycler>=0.10 in /usr/local/lib/python3.6/dist-packages (from matplotlib->aguaclara) (0.10.0)\n",
            "Requirement already satisfied: pytz>=2017.2 in /usr/local/lib/python3.6/dist-packages (from pandas->aguaclara) (2018.9)\n",
            "Requirement already satisfied: six>=1.5 in /usr/local/lib/python3.6/dist-packages (from python-dateutil>=2.1->matplotlib->aguaclara) (1.12.0)\n",
            "Building wheels for collected packages: aguaclara, pint\n",
            "  Building wheel for aguaclara (setup.py) ... \u001b[?25l\u001b[?25hdone\n",
            "  Created wheel for aguaclara: filename=aguaclara-0.2.1-cp36-none-any.whl size=99466 sha256=37205d1792781a2f7e943eb84b5b8c14bae55db03f5c3a048a0483dbcde9f393\n",
            "  Stored in directory: /root/.cache/pip/wheels/7f/ff/4f/10d76e6a261d392aefbdf6ce8d3d5519e924dc334b102ca49b\n",
            "  Building wheel for pint (setup.py) ... \u001b[?25l\u001b[?25hdone\n",
            "  Created wheel for pint: filename=Pint-0.8.1-py2.py3-none-any.whl size=134156 sha256=7c78c65ec0cf53e7fd0398222b1b87cebd54b121b336561cc9fc5e5000288aa7\n",
            "  Stored in directory: /root/.cache/pip/wheels/b4/56/36/7c4d6a4e3660e233b95e3b0482551915cb184abca0f93ee1dd\n",
            "Successfully built aguaclara pint\n",
            "Installing collected packages: pint, aguaclara\n",
            "Successfully installed aguaclara-0.2.1 pint-0.8.1\n",
            "Collecting molmass\n",
            "\u001b[?25l  Downloading https://files.pythonhosted.org/packages/12/2b/dd600a36b78bc9ebf9e8ff7c900150c7439af0c55504a4ab8213485cda94/molmass-2020.1.1-py3-none-any.whl (65kB)\n",
            "\u001b[K     |████████████████████████████████| 71kB 5.1MB/s \n",
            "\u001b[?25hInstalling collected packages: molmass\n",
            "Successfully installed molmass-2020.1.1\n"
          ],
          "name": "stdout"
        }
      ]
    },
    {
      "cell_type": "code",
      "metadata": {
        "id": "ttJT8q_wYhAV",
        "colab_type": "code",
        "outputId": "88426e94-3dcc-4fdb-b16d-3e33c476b56f",
        "colab": {
          "base_uri": "https://localhost:8080/",
          "height": 204
        }
      },
      "source": [
        "from aguaclara.core.units import unit_registry as u\n",
        "import aguaclara as ac\n",
        "import matplotlib.pyplot as plt\n",
        "import numpy as np\n",
        "import pandas as pd\n",
        "import molmass as mol\n",
        "!wget https://raw.githubusercontent.com/monroews/4590FSP/master/Fairmont.py\n",
        "import Fairmont as fmt"
      ],
      "execution_count": 0,
      "outputs": [
        {
          "output_type": "stream",
          "text": [
            "--2020-05-17 19:58:10--  https://raw.githubusercontent.com/monroews/4590FSP/master/Fairmont.py\n",
            "Resolving raw.githubusercontent.com (raw.githubusercontent.com)... 151.101.0.133, 151.101.64.133, 151.101.128.133, ...\n",
            "Connecting to raw.githubusercontent.com (raw.githubusercontent.com)|151.101.0.133|:443... connected.\n",
            "HTTP request sent, awaiting response... 200 OK\n",
            "Length: 3052 (3.0K) [text/plain]\n",
            "Saving to: ‘Fairmont.py’\n",
            "\n",
            "\rFairmont.py           0%[                    ]       0  --.-KB/s               \rFairmont.py         100%[===================>]   2.98K  --.-KB/s    in 0s      \n",
            "\n",
            "2020-05-17 19:58:10 (51.4 MB/s) - ‘Fairmont.py’ saved [3052/3052]\n",
            "\n"
          ],
          "name": "stdout"
        }
      ]
    },
    {
      "cell_type": "markdown",
      "metadata": {
        "id": "2SQpUtXCR5Xz",
        "colab_type": "text"
      },
      "source": [
        "## **Task Definition**\n",
        "\n",
        "<p align=\"center\"> \n",
        "<img src=\"https://drive.google.com/uc?id=1IujmG6g8i9THTNARiC67swyN3FfKiPDl\">\n",
        "</p>\n",
        "\n",
        "The Chemicals team will be in charge of designing the chemical dosage system. This will include:\n",
        "- Determining coagulant and polymer dosage\n",
        "- Designing chemical storage, feed lines, and flow control system.\n",
        "- Calculating feed hydraulics and plumbing\n",
        "- Identifying available vendors.\n",
        "\n",
        "Additionally, our storage system design will include the number of storage tanks, tank size, location, footprint, and safety add-ons in order to meet OSHA requirements (e.g. spillover capture, eye washes, safety showers). Information will be primarily sourced from government regulations, the Fairmont Sedimentation Plant Scope of Work document, relevant vendors, and similar go-by systems.  "
      ]
    },
    {
      "cell_type": "markdown",
      "metadata": {
        "id": "WoGtXtBGQZr5",
        "colab_type": "text"
      },
      "source": [
        "## **Executive Summary**\n",
        "\n",
        "(Highlight dominant constraints and your recommendation for the design.)"
      ]
    },
    {
      "cell_type": "markdown",
      "metadata": {
        "id": "Jonv4dYSQghA",
        "colab_type": "text"
      },
      "source": [
        "## **Constraints**\n",
        "\n",
        "* Design flow of the plant is 720 cfs.\n",
        "* Effluent arsenic levels should be under 10 ug/L.\n",
        "* Effluent TOC levels should be under 3 mg/L.\n",
        "* Effluent turbidity should be under 3 NTU.\n",
        "* Chemicals will be stored in an open tank farm and have at least a 30 day capacity  (Scope of work, pg 18).\n",
        "* Proposed tank farm should have area under 200'x100'\n",
        "* All hazardous chemicals must be stored in an area that is designed to contain spills ([OSHA regulations](https://www.safetyinfo.com/safe-chemical-storage-osha-requirements-free-index/)).\n",
        "* All design values should be justifiable using design equations.\n",
        "* The chemical feed system should be easy to understand and operate, and should have relatively low maintenance.\n",
        "* The designed system should have a feedback loop wherein the chemical dosage is adjusted accordingly with a change in the plant flow rate.\n",
        "\n",
        "**CEE 4590 Logistical constraints**\n",
        "* Information in Scope of Work is often missing citations, and we are unsure of the source and degree of certainty of parameters like expected FeCl3 dosage.\n",
        "* At present, we have no communication with the LA engineers on this project, only the Stantec engineers, Mickey and Tori, who are working on Stantec's own proposal for this project. \n",
        "* It will be challenging to procure cost estimates from vendors since they are typically reluctant to share such information with students.\n",
        "* It may be wise to add more redundancy to the chemical storage system than the recommended 30 days for situations like a shutdown due to a pandemic when supply chains are disrupted.. \n",
        "\n",
        "## **Physics**\n",
        "\n",
        "Since the Chemicals Team task concerns mainly the storage and delivery of coagulant and polymers, it is important to consider the energy and space that these chemicals will occupy. The **Energy equation** accounts the energy losses in fluid mechanics. Below is the general form, which will be useful as it is tailored to the chemical dosage design. [(AguaClara Textbook)](https://aguaclara.github.io/Textbook/Review/Review_Fluid_Mechanics.html#equation-review-review-fluid-mechanics-4)\n",
        "\n",
        "$$\\frac{p_{1}}{\\rho g} + z_{1} + \\alpha_{1} \\frac{\\bar v_{1}^2}{2g} + h_P = \\frac{p_{2}}{\\rho g} + z_{2} + {\\alpha_{2}} \\frac{\\bar v_{2}^2}{2g} + h_T + h_L$$\n",
        "\n",
        "Where:\n",
        "\n",
        "p = pressure\n",
        "\n",
        "ρ = density \n",
        "\n",
        "z = height \n",
        "\n",
        "v = velocity \n",
        "\n",
        "hp, ht = viscueous frictional loss due to pumps, turbines\n",
        "\n",
        "hl = head loss\n",
        "\n",
        "\n",
        "Head loss comprises of major losses from friction and minor losses from flow expansions, elbows. Major and minor loss equations are discussed below. \n",
        "\n",
        " $$h_L = h_{\\rm{f}} + h_e$$\n",
        "\n",
        "Minor losses may be summarized as the equation below. Minor losses occur at flow expansions, elbows, and valves. K will vary depending on the kind of minor loss. \n",
        "\n",
        "$$h_e = \\sum K \\frac{\\bar v_{out}^2}{2g} =\\left( \\frac{A_{out}}{A_{in}} -1 \\right)^2 \\frac{\\bar v_{out}^2}{2g}$$\n",
        "\n",
        "The **Darcy-Weisbach equation** solves for major losses in the head loss equation. Major losses comprise the frictional losses that occur in pipes. For this equation, it will be important to know the length and diameter of the pipes in our delivery system. Equation found in the [AguaClara Textbook](https://aguaclara.github.io/Textbook/Review/Review_Fluid_Mechanics.html#equation-darcy-weisbach). Additionally, there is an accompanying python function in the AguaClara python package to calculate major losses.\n",
        "\n",
        "$$h_{\\rm{f}} \\, = \\, {\\rm{f}} \\frac{L}{D} \\frac{\\bar v^2}{2g}$$\n",
        "\n",
        "$$h_{\\rm{f}} \\, = \\,{\\rm{f}} \\frac{8}{g \\pi^2} \\frac{LQ^2}{D^5}$$\n",
        "\n",
        "Such that: \n",
        "\n",
        "hf = major loss \n",
        "\n",
        "f = Darcy friction factor\n",
        " \n",
        "L = pipe length\n",
        "\n",
        "Q = pipe flow rate\n",
        " \n",
        "D = pipe diameter\n",
        "\n",
        "AC Python Function = pc.headloss_fric(FlowRate, Diam, Length, Nu, PipeRough)\n",
        "\n",
        "\n",
        "Other types of energy that may be of use to our chemical dosage system will be kinetic and potential energy, listed below. These are more general, but may be important to consider, especially with respect to the site's geography and elevation.   \n",
        "\n",
        "$$ E_{potential} = mgh \\,\\,\\,\\,\\, E_{kinetic} = mv^2/2$$\n",
        "\n",
        "Ultimately, whatever power is neeeded to run the chemical dosage system will be supplied by pumps. Knowing the amount of power required will help choose the appropriate pump for the design. Below is the equation for power. E represents energy and t represents time. \n",
        "\n",
        "$$ P = \\frac{E}{t} $$\n",
        "\n",
        "Lastly, mass conservation will important to consider during our calculations. This will help us better understand how much storage will be required when considering the required dosage. \n",
        "\n",
        "$$Q_{in}C_{in} = Q_{out}C_{out}$$\n",
        "\n",
        "## **Table of potential strategies to meet the constraints and treatment objectives**\n",
        "\n",
        "| strategy | advantages  | disadvantages | data needed |\n",
        "|---|---|---|---|\n",
        "| open tank farm vs. enclosed storage | go-by, less expensive | less protection | weathering risk |\n",
        "| 3 storage tanks vs. using even more | less complexity | lower safety factor | storage area |\n",
        "| choosing vendor before choosing tank size | easier to pick model | more restricted | vendor details |\n",
        "| 30-day storage vs. keeping even more | resilience (e.g. COVID-19) | more expensive | area, budget |\n",
        "| single vs. multiple dosage system per train | maintenance, operator ease | fewer options if pipe fails | clogging risk |\n",
        "\n"
      ]
    },
    {
      "cell_type": "markdown",
      "metadata": {
        "id": "J9dPZVMbOka9",
        "colab_type": "text"
      },
      "source": [
        "## **Vendors and contact information file**\n",
        "\n",
        "See this [tab delimited spreadsheet](https://raw.githubusercontent.com/monroews/4590FSP/master/vendors.txt).\n",
        "\n",
        "Add rows to the vendor spreadsheet as you find them. The sheet can easily be edited in Excel. Just make sure to save it as a tab delimited sheet. Push your changes to github so the entire class has access to the document.\n",
        "\n"
      ]
    },
    {
      "cell_type": "code",
      "metadata": {
        "id": "l35d0BODlEsW",
        "colab_type": "code",
        "outputId": "0ae01e57-ee4b-449b-c967-31e2ca139d61",
        "colab": {
          "base_uri": "https://localhost:8080/",
          "height": 462
        }
      },
      "source": [
        "vendors = pd.read_csv('https://raw.githubusercontent.com/monroews/4590FSP/master/vendors.txt',sep='\\t')\n",
        "vendors.head()"
      ],
      "execution_count": 0,
      "outputs": [
        {
          "output_type": "execute_result",
          "data": {
            "text/html": [
              "<div>\n",
              "<style scoped>\n",
              "    .dataframe tbody tr th:only-of-type {\n",
              "        vertical-align: middle;\n",
              "    }\n",
              "\n",
              "    .dataframe tbody tr th {\n",
              "        vertical-align: top;\n",
              "    }\n",
              "\n",
              "    .dataframe thead th {\n",
              "        text-align: right;\n",
              "    }\n",
              "</style>\n",
              "<table border=\"1\" class=\"dataframe\">\n",
              "  <thead>\n",
              "    <tr style=\"text-align: right;\">\n",
              "      <th></th>\n",
              "      <th>item description</th>\n",
              "      <th>vendor</th>\n",
              "      <th>contact first name</th>\n",
              "      <th>contact last name</th>\n",
              "      <th>vendor website</th>\n",
              "      <th>product info</th>\n",
              "      <th>date of contact</th>\n",
              "      <th>who made the contact</th>\n",
              "      <th>notes</th>\n",
              "    </tr>\n",
              "  </thead>\n",
              "  <tbody>\n",
              "    <tr>\n",
              "      <th>0</th>\n",
              "      <td>plate settlers</td>\n",
              "      <td>MRI</td>\n",
              "      <td>still</td>\n",
              "      <td>pending</td>\n",
              "      <td>http://www.meurerresearch.com/</td>\n",
              "      <td>http://www.meurerresearch.com/literaturemedia/...</td>\n",
              "      <td>4/16/2020</td>\n",
              "      <td>Ian Cullings</td>\n",
              "      <td>NaN</td>\n",
              "    </tr>\n",
              "    <tr>\n",
              "      <th>1</th>\n",
              "      <td>sludge removal system</td>\n",
              "      <td>MRI</td>\n",
              "      <td>still</td>\n",
              "      <td>pending</td>\n",
              "      <td>http://www.meurerresearch.com/</td>\n",
              "      <td>http://www.meurerresearch.com/products/hoseles...</td>\n",
              "      <td>4/16/2020</td>\n",
              "      <td>Ian Cullings</td>\n",
              "      <td>NaN</td>\n",
              "    </tr>\n",
              "    <tr>\n",
              "      <th>2</th>\n",
              "      <td>plate settlers</td>\n",
              "      <td>Monore Environmental</td>\n",
              "      <td>still</td>\n",
              "      <td>pending</td>\n",
              "      <td>https://www.monroeenvironmental.com/</td>\n",
              "      <td>https://www.monroeenvironmental.com/water-and-...</td>\n",
              "      <td>4/16/2020</td>\n",
              "      <td>Ian Cullings</td>\n",
              "      <td>NaN</td>\n",
              "    </tr>\n",
              "    <tr>\n",
              "      <th>3</th>\n",
              "      <td>sludge removal system</td>\n",
              "      <td>Monore Environmental</td>\n",
              "      <td>still</td>\n",
              "      <td>pending</td>\n",
              "      <td>https://www.monroeenvironmental.com/</td>\n",
              "      <td>http://www.monroeenvironmental.com/water-and-w...</td>\n",
              "      <td>4/16/2020</td>\n",
              "      <td>Ian Cullings</td>\n",
              "      <td>NaN</td>\n",
              "    </tr>\n",
              "    <tr>\n",
              "      <th>4</th>\n",
              "      <td>plate settler with hopper</td>\n",
              "      <td>Parkson</td>\n",
              "      <td>still</td>\n",
              "      <td>pending</td>\n",
              "      <td>https://www.parkson.com/</td>\n",
              "      <td>https://www.parkson.com/products/lamella-ecoflow</td>\n",
              "      <td>4/16/2020</td>\n",
              "      <td>Ian Cullings</td>\n",
              "      <td>Includes sloped sludge hopper in design</td>\n",
              "    </tr>\n",
              "  </tbody>\n",
              "</table>\n",
              "</div>"
            ],
            "text/plain": [
              "            item description  ...                                    notes\n",
              "0             plate settlers  ...                                      NaN\n",
              "1      sludge removal system  ...                                      NaN\n",
              "2             plate settlers  ...                                      NaN\n",
              "3      sludge removal system  ...                                      NaN\n",
              "4  plate settler with hopper  ...  Includes sloped sludge hopper in design\n",
              "\n",
              "[5 rows x 9 columns]"
            ]
          },
          "metadata": {
            "tags": []
          },
          "execution_count": 4
        }
      ]
    },
    {
      "cell_type": "markdown",
      "metadata": {
        "id": "-jwNKdrCOmux",
        "colab_type": "text"
      },
      "source": [
        "# **Shared Assumptions**\n",
        "\n",
        "The Chemical team will be utilizing the [Fairmont.py](https://github.com/monroews/4590FSP/blob/master/Fairmont.py) file in conjunction with the other design teams in order to share assumptions from the Fairmont Sedimentation Tank Scope of Work document. It will also create dependency between the chemical design below and the designs of other teams.  \n",
        "\n",
        "# **Major Decisions**\n",
        "\n",
        "## **Ferric Chloride Coagulant**\n",
        "\n",
        "The Fairmont Sedimentation Plant Scope of Work Document notes that two types of products will be used: a coagulant (specifically, ferric chloride) and emulsion polymer. Due to communication constraints with engineers at the Los Angeles Department of Water and Power, we are unlikely to fully understand the rationale behind the selection of ferric chloride as the coagulant. However, consider that it was already specified, we have decided to move forward with ferric chloride as the coagulant of choice.\n",
        "\n",
        "Since the Scope of Work only states the average dose of ferric chloride is 13.14 mg/L. We have conservatively assumed that the maximum dose of ferric chloride will be 30 mg/L. This is slightly more than twice the average dose. \n",
        "\n",
        "## **Emulsion Polymer**\n",
        "\n",
        "On the other hand, the type of emulsion polymer was not specified in the Scope of Work document. There are many types and blends of polymers that are available in the water treatment market, many of which are proprietary and are <del>vague</del>  in chemical makeup. \n",
        "\n",
        "Due to limitations of this design project, we will not be able to select an emulsion polymer with confidence without bench testing capabilities. However, we do know that the polymer is going to be cationic, and there are multiple vendors available. We will research a few options from different vendors and select a representative emulsion polymer to provide an estimate for density, and viscosity. More information about the representative polymer will be provided in the design section. \n",
        "\n",
        "## **Other Chemicals**\n",
        "\n",
        "It was noted by other teams that a high coagulant dosage could significantly alter the pH of the water. Since the Scope of Work did not specify the need for other chemical products, we made the assumption that the acid neutralizing capacity of raw water entering the Fairmont Sedimentatino Plant is adequate, and that additional chemicals beyond the coagulant and emulsion polymer are not required.\n",
        "\n",
        "## **Chemical Storage**\n",
        "\n",
        "As both the Cottonwood Treatment Plant and Los Angeles Aqueduct Filtration Plant use ferric chloride, we initially thought of estimating tank volume using measurement tools from Google Earth. However, this proved to be quite a challenge and perhaps not the most accurate approach since the other plants may have different treatment goals.\n",
        "\n",
        "Instead, we decided to work backwards from the annual masses of ferric chloride and emulsion polymer used specified by the Scope of Work to calculate the required tank volumes, assuming that they will be stored at the highest concentration commercially available.\n",
        "\n",
        "## **Pump Selection**\n",
        "\n",
        "The Pennsylvania Department of Environmental Protection's water treatment training **<< ADD LINK >>** outlines popular chemical dosing pumps. It recommends peristaltic (tube) pumps for feed rates less than .1 gallon per hour (gph), Solenoid metering pumps for feed rates between .1 and 10 gph, and positive displacement pumps for feed rates less than 600 gallons per hour. The maximum feed rate will help decide what pump will be appropriate. \n",
        "\n",
        "For our design, we have selected a positive displacement diaphragm pump. The diaphgram pump uses a flexible membrane and valves to push water through the pump chamber. The membrane stretches outward to let water into the chamber and stretches inward to displace and push the water outward. The oscillating motion of the membrane may also be achieved with a piston or plunger. Shown below is a figure provided by [Diener Precision Pumps](https://www.dienerprecisionpumps.com/en/positive-displacement-pumps.html).\n",
        "\n",
        "<p align=\"center\"> \n",
        "<img src=\"https://www.dienerprecisionpumps.com/files/content%20bilder/info/190726/190726-diaphragm-pump.jpg\">\n",
        "</p>\n",
        "\n",
        "\n",
        "## **Accessory Equipment** \n",
        "\n",
        "The Pennsylvania Department of Environmental Protection also recommends the following accessory equipment for a liquid feed system: \n",
        "\n",
        "### 1. Pump Calibration Chamber\n",
        "A pump calibration chamber is necessary to check the flow rate of the metering pumps used to deliver the coagulant and cationic polymer to the treatment plant. In order to maintain system accuracy, it is important to perform periodic checks of the flow rates and recalibrate the pumps as necessary. A simple calibration column can be used for this purpose, and the amount of time it tkes for the solution to fill up from the zero mark on the column to the fill mark can be divided from the volume of the column to obtain a flow rate through that pump. One thing to note though is that FeCl3 solution may clog the column over time making the calibration imperfect so the calibration columns will have to be periodically replaced or cleaned.\n",
        "\n",
        "Shown below is a calibration column from [McMaster Carr](https://www.mcmaster.com/4446K78-4446K78) \n",
        "\n",
        "<p align=\"center\"> \n",
        "<img src=\"https://www.mcmaster.com/mvB/Contents/gfx/ImageCache/444/4446k71-@1x_636918023428203663.png?ver=ImageNotFound,/mvB/Contents/gfx/ImageCache/444/4446k71-@2x_636918023428203663.png?ver=ImageNotFound,/mvB/Contents/gfx/ImageCache/444/4446k71-@3x_636918023428203663.png?ver=ImageNotFound,/mvB/Contents/gfx/ImageCache/444/4446k71-@4x_636918023428203663.png?ver=ImageNotFound\">\n",
        "</p>\n",
        "\n",
        "At least one ball valve at the bottom and a return line at the top of the calibration column will also be necessary to complete the setup which will be located adjacent to the chemical storage tanks.\n",
        "\n",
        "\n",
        "### 2. Pressure Relief Valve\n",
        "\n",
        "A pressure relief valve will also be necessary in each flow control system to protect the piping from high pressures and ensure isobaric conditions.\n",
        "\n",
        "Shown below is a fast-acting pressure relief valve from [McMaster Carr](https://www.mcmaster.com/relief-valves/fast-acting-pressure-relief-valves-for-water/).\n",
        "\n",
        "<p align=\"center\"> \n",
        "<img src=\"https://www.mcmaster.com/mvB/Contents/gfx/ImageCache/627/6270t111p1-c03a-digital@1x_636855920611929328.png?ver=ImageNotFound,/mvB/Contents/gfx/ImageCache/627/6270t111p1-c03a-digital@2x_636855920611929328.png?ver=ImageNotFound,/mvB/Contents/gfx/ImageCache/627/6270t111p1-c03a-digital@3x_636855920611929328.png?ver=ImageNotFound,/mvB/Contents/gfx/ImageCache/627/6270t111p1-c03a-digital@4x_636855920611929328.png?ver=ImageNotFound\">\n",
        "</p>\n",
        "\n",
        "The pressure relief valve shown is made of bronze which is relatively resistant to corrosion due to its ability to form an outer oxide layer that protects the valve.\n",
        "\n",
        "### 3. Backpressure Valve\n",
        "Backpressure valves will also have to be used in the chemical feed system to maintain steady pressures. \n",
        "\n",
        "Shown below is a corrosion-resisitant back-pressure relief valve from [McMaster Carr](https://www.mcmaster.com/4741N4)\n",
        "\n",
        "<p align=\"center\"> \n",
        "<img src=\"https://www.mcmaster.com/mvb/contents/gfx/imagecache/474/4741n17-1585066163-p9@halfx_637206449733760008.png?ver=imagenotfound\">\n",
        "</p>\n",
        "\n",
        "### 4. Anti-siphon Valve\n",
        "The chemical feed system will also require anti-siphon valves to prevent back flow into the chemical feed system. In the event of a pressure drop, these valves have a vent that opens to relieve vacuum conditions and prevent backward suction drawing chemical solution to the upstream piping.\n",
        "\n",
        "Shown below is a chemical-resistant anti-siphon valve from [McMaster Carr](https://www.mcmaster.com/anti-siphon-valves)\n",
        "\n",
        "<p align=\"center\"> \n",
        "<img src=\"https://www.mcmaster.com/mvb/contents/gfx/imagecache/186/1868n15p1-c03a-digital@halfx_637043637669545740.png?ver=imagenotfound\">\n",
        "</p>\n",
        "\n",
        "### 5. Polymer Blending Unit\n",
        "A polymer blending unit will be necessary to activate and mix the cationic emulsion polymer before distribution to the treatment train.\n",
        "\n",
        "**NOT SURE WHAT ELSE TO SAY ABOUT THIS. HELP**\n",
        "\n",
        "### 6. Spill Containment Zone \n",
        "Since FeCl3 is a corrosive chemical, steps will have to be taken to ensure the containment of any potential spills, according to OSHA regulations. The necessary spill containment zone must consist of grating, leak detection probes and chemical resistant coatings on the walls and floor. \n",
        "\n",
        "The proposed tank farm will be sunken into the ground to contain any spillage. The area will include grating as well as a drain to deal with excess chemicals. It is recommended that [chemical-resistant sorbent socks](https://www.mcmaster.com/spill-control/sorbents-for-harsh-chemicals/) be kept on hand to absorb any spills. These socks are very flexible and can cover tight corners well.\n",
        "\n",
        "The go-by provided by this guide will be helpful for us to include and account for the necessary hydraulic valves in a typical chemical feed system. Additionally, these additions will likely be inexpensive and will not contribute majorly to the plan view area of the design. For safety, we will also provide the following to meet OSHA requirements:\n",
        "\n",
        "7. Eye Wash Stations\n",
        "In the event that an operator accidentally gets a corrosive chemical like the FeCl3 coagulant in their eyes, an eye wash station should be installed at a handy location in order to prevent permanent eye damage. One such eye wash station with the necessary piping found on [McMaster Carr](https://www.mcmaster.com/eye-wash-stations/ansi-compliant-floor-mount-eye-wash-stations-with-pipe-connection/) is shown below.\n",
        "<p align=\"center\"> \n",
        "<img src=\"https://www.mcmaster.com/mvB/Contents/gfx/ImageCache/556/5568t13-@1x_637074372322425986.png?ver=ImageNotFound,/mvB/Contents/gfx/ImageCache/556/5568t13-@2x_637074372322425986.png?ver=ImageNotFound,/mvB/Contents/gfx/ImageCache/556/5568t13-@3x_637074372322425986.png?ver=ImageNotFound,/mvB/Contents/gfx/ImageCache/556/5568t13-@4x_637074372322425986.png?ver=ImageNotFoundm\">\n",
        "</p>\n",
        "\n",
        "8. Safety Showers\n",
        "Safety showers should be provided on-site to deal with larger splashes of corroseive chemicals on the operator. The one shown below combines an eyewash station and safety shower and can also be found on [McMaster Carr](https://www.mcmaster.com/5557T7-5557T7)\n",
        "<p align=\"center\"> \n",
        "<img src=\"https://www.mcmaster.com/mvB/Contents/gfx/ImageCache/555/55505t2c1-i01bl1571005432@1x_637065843306759702.png?ver=ImageNotFound\">\n",
        "</p>\n",
        "\n",
        "\n",
        "# **Next Steps and Challenges**\n",
        "\n",
        "1. Sketch out chemical dosing system design: \n",
        "- Select tank farm location\n",
        "- Select number of tanks, pumps\n",
        "- Design pipe plumbing for dosage system\n",
        "2. Update the vendors table with relevant vendors. "
      ]
    },
    {
      "cell_type": "markdown",
      "metadata": {
        "id": "DXlB_I6ZOw2J",
        "colab_type": "text"
      },
      "source": [
        "# **Design**\n",
        "\n",
        "[/Monroe/]: # (Begin by writing several paragraphs with equations explaining your design process. Then do the python analysis.)\n",
        "\n",
        "[Chemicals]: # (Just found these comments yesterday, but definitely working on this!)\n",
        "\n",
        "[/Monroe/]: # (The tank volume calculation is incorrect. The density_fecl3 is NOT the concentration of the FeCl_3. You have to figure out what the 40% solution means and then turn that into the concentration of the FeCl3 stock solution.) \n",
        "\n",
        "[Chemicals]: # (Corrected by Ananya in the design code)\n",
        "\n",
        "[/Monroe/]: # (Your design process for the pipe size and pump power is not robust. The goal is to develop design processes that work reliably even if the basis of design changes. The pipe diameter for the chemical feed system needs to change automatically if the design chemical dose changes or if the type of coagulant changes. Use the AguaClara equations that calculate pipe diameters.) \n",
        "\n",
        "[/Jillian/]: # (Notes from 5/5 Class: There is pipes.py under AC. Some have \"this is minimum blahblah you need\". Min pipe diam function? SDR-26 is standard? Will chug out an actual pipe diameter... There are other functions too. Recall: Talk about the nominal diameter. But this is not the same as inside/outside diameter! Just make sure to be explicit about what diameter we are using in the design.)\n",
        "\n",
        "[Chemicals]: # (This is our next big task to work on!)\n",
        "\n",
        "[/Monroe/]: # (Start thinking about how many coagulant feed systems will be needed based on the number of rapid mix units. Pull that information from fmt. see my example below.)\n",
        "\n",
        "[Chemicals]: # (As mentioned in preliminary presentations, we need more than 1. We will likely go with 2 per unit to keep the hydraulics simple, but also to account for redundancy.)\n",
        "\n",
        "[/Monroe/]: # (You don't seem to be accounting for the fact that there are multiple chemical injection points and that each one will require a chemical dosing sytsem. Use the number of rapid mix units in the fairmont.py. You can access those values using fmt. notation. If this doesn't make sense please ask me or a TA)\n",
        "\n",
        "[/Jillian/]: # (Consider something similar to P&ID diagram in sketch. Say not to scale. Okay to keep 3D, make clear tank and containment zone. Make clear method of thinking, mention areas that we are struggling in?)\n",
        "\n",
        "[Chemicals]: # (Also, a task for the upcoming week is to start sketching designs. )"
      ]
    },
    {
      "cell_type": "markdown",
      "metadata": {
        "id": "qrB7eka_rhho",
        "colab_type": "text"
      },
      "source": [
        "### **Maximum coagulant dosage in plant**\n",
        "\n",
        "The first step in the design process is to determine the maximum coagulant (FeCl3) dosage expected in our system, given the design flow rate in the plant, calculated by conservation of mass: \n",
        "\n",
        "$$Q_{max,FeCl3} = \\frac{Q_{des}C_{max,FeCl3}}{C_{stock,FeCl3}}$$\n",
        "where\n",
        "\n",
        "Q<sub>des</sub> = design flow rate of the plant = 720 cfs\n",
        "\n",
        "C<sub>max,FeCl3</sub> = maximum coagulant dose used in the plant = 30 mg/L (assumed maximum, at least twice the average dose from Scope of Work)\n",
        "\n",
        "C<sub>stock,FeCl3</sub> = concentration of 40% FeCl3 stock solution in tanks = 400 g/L\n",
        "\n",
        "[/Monroe/]: # (How do you know that this interpretation is correct? When I google this I get many interpretations of what a percent solution means and given the densities involved it is critical that you use the correct definition. I suggest checking with a manufacturer and include a reference to the definition of percent. This is another example of engineers using units that are unhelpful! Below you sometimes assume that the density is 1.4 g per mL and sometimes you assume the concentration is 0.4 g per mL. Those assumptions are incompatible. Figure this out!)\n",
        "\n",
        "The necessary unit conversions have been left out of these equations as those can by easily calculated in Python using the pint library.\n",
        "\n",
        "[/Monroe/]: # (Thank you for leaving the unit conversions out of the equations.)"
      ]
    },
    {
      "cell_type": "code",
      "metadata": {
        "id": "IfMsAtXeIB-f",
        "colab_type": "code",
        "colab": {}
      },
      "source": [
        "#relevant parameters related to ferric chloride: \n",
        "fecl3_strength = 0.4 # Active strength of ferric chloride solution\n",
        "density_fecl3 = 1.356*u.g/(u.mL) # for 40% m/v FeCl3, Brenntech Connect \n",
        "mu_fecl3 = 0.12 * u.N * u.s / u.m**2 # include this in the text above and cite your source for this estimate.\n",
        "nu_fecl3 = mu_fecl3/density_fecl3\n",
        "temp = 20 *u.degC"
      ],
      "execution_count": 0,
      "outputs": []
    },
    {
      "cell_type": "markdown",
      "metadata": {
        "id": "L7NNrE-3f3R5",
        "colab_type": "text"
      },
      "source": [
        "Given that the viscosity of ferric chloride is much higher than that of water, the chemicals team has decided that a dilution would be helpful for the process. Neither viscosity nor density have linear relationships with concentration; however, due to limited information about the relationship between the concentrations of ferric chloride and its density and viscosity, it is assumed that this relationship is linear. This will cause the density and viscosity of the solutions to be overestimated. We justify this assumption because both of these estimates yield a conservative design when it comes to finding the power required as well as the optimal pipe diameter. Below are the equations for the calculations for the density and viscosity of the diluted solution. \n",
        "\n",
        "$$ \\rho_{FeCl_3, dil} = \\rho_{FeCl_3, dil} * \\frac{S_{dil}}{S_{o}} + \\rho_{H_2O} * (1- \\frac{S_{dil}}{S_{o}}) $$\n",
        "\n",
        "$$ \\nu_{FeCl_3, dil} = \\nu_{FeCl_3, dil} * \\frac{S_{dil}}{S_{o}} + \\nu_{H_2O} * (1- \\frac{S_{dil}}{S_{o}}) $$"
      ]
    },
    {
      "cell_type": "code",
      "metadata": {
        "id": "-Faa63rydp17",
        "colab_type": "code",
        "outputId": "1789009f-e756-4296-c8b9-50d7fd23f1ea",
        "colab": {
          "base_uri": "https://localhost:8080/",
          "height": 34
        }
      },
      "source": [
        "#diluted solution (diluted solution by half; 20% active strength)\n",
        "fecl3_strength_dil = 0.2\n",
        "density_fecl3_dil = density_fecl3*active_strength/fecl3_strength + ac.density_water(temp)* (1 - active_strength/fecl3_strength )\n",
        "nu_fecl3_dil = nu_fecl3* active_strength/fecl3_strength +ac.viscosity_kinematic_water(temp) * (1 - active_strength/fecl3_strength )\n"
      ],
      "execution_count": 0,
      "outputs": [
        {
          "output_type": "stream",
          "text": [
            "1.177 gram / milliliter 44.75 millimeter ** 2 / second\n"
          ],
          "name": "stdout"
        }
      ]
    },
    {
      "cell_type": "code",
      "metadata": {
        "id": "d0hXy5PTX6nC",
        "colab_type": "code",
        "outputId": "cf5206cd-8341-4fbd-d2ad-6dc01b3cc7ca",
        "colab": {
          "base_uri": "https://localhost:8080/",
          "height": 34
        }
      },
      "source": [
        "# Calculating the maximum coagulant dose in the plant from SOW\n",
        "fecl3_dose_max = 30 * u.mg/u.L \n",
        "# add this to our Basis of design in fmt. \n",
        "# Done, but I keep getting the error 'AttributeError: module 'Fairmont' has no attribute 'Fe_c_max', so we'll change code later]\n",
        "fecl3_stock = 400 * u.g/u.L # conc of coagulant stock in tank\n",
        "Q_fecl3_max_dose = (fmt.q_max * fecl3_dose_max/fecl3_stock).to(u.mL/u.s)\n",
        "print('The total maximum ferric chloride dosing flow rate is',Q_fecl3_max_dose.to(u.gal/u.hour), \"(\",Q_fecl3_max_dose.to(u.mL/u.s),\")\")"
      ],
      "execution_count": 0,
      "outputs": [
        {
          "output_type": "stream",
          "text": [
            "The total maximum ferric chloride dosing flow rate is 1454 gallon / hour ( 1529 milliliter / second )\n"
          ],
          "name": "stdout"
        }
      ]
    },
    {
      "cell_type": "code",
      "metadata": {
        "id": "VnIYcYgqqgKU",
        "colab_type": "code",
        "outputId": "52852379-540b-4177-d212-91312cfe0702",
        "colab": {
          "base_uri": "https://localhost:8080/",
          "height": 34
        }
      },
      "source": [
        "# Calculating max coagulant dose in the plant from Hering & Kneebone 2002 (p.169)\n",
        "fecl3_dose_avg_CTP = 5.7 * u.mg/u.L # Hering & Kneebone 2002\n",
        "fecl3_dose_max = fecl3_dose_avg_CTP * 2 # Assume that maximum dose is double\n",
        "\n",
        "fecl3_mass_delivery_rate = (fmt.q_max * fecl3_dose_max)/fecl3_strength\n",
        "fecl3_vol_delivery_rate = fecl3_mass_delivery_rate/density_fecl3\n",
        "print(\"The total maximum feed rate of ferric chloride solution is\", fecl3_vol_delivery_rate.to(u.gal/u.hour), \"(\",fecl3_vol_delivery_rate.to(u.mL/u.s),\")\")"
      ],
      "execution_count": 0,
      "outputs": [
        {
          "output_type": "stream",
          "text": [
            "The total maximum feed rate of ferric chloride solution is 407.5 gallon / hour ( 428.5 milliliter / second )\n"
          ],
          "name": "stdout"
        }
      ]
    },
    {
      "cell_type": "markdown",
      "metadata": {
        "id": "_cF2rp2gtNR2",
        "colab_type": "text"
      },
      "source": [
        "[/Monroe/]: # (Fix the incorrect assumptions for the stock concentration above.)\n",
        "\n",
        "[/Monroe/]: # (Provide a basis for your conclusion about what type of pump to use. Note that the flow rate calculation is incorrect for multiple reasons: wrong stock concentration, wrong number of rapid mix units)\n",
        "\n",
        "Pump selection will be made based on the coagulant maximum flow rate required for each pump. This will have to do with the total maximum feed rate of coagulant provided above. It will also depend on the the number of pumps selected based on the storage tank design. The threshold for a solenoid pump is 10 gph, so this design will likely utilize the positive displacement diaphragm pumps, whose threshold are 600 gph. "
      ]
    },
    {
      "cell_type": "markdown",
      "metadata": {
        "id": "dw6IxxhNrnW7",
        "colab_type": "text"
      },
      "source": [
        "### **Storage volume of coagulant for 30 days**\n",
        "\n",
        "[/Monroe/]: # (I believe the SOW provides an estimate of the annual use of FeCl3. I'd suggest using 1/12 of that estimate to get the storage requirement. Note that your first appoach is going around in circles because we estimated by the average coagulant dose based on the annual usage as reported in the SOW. So eliminate the first method.)\n",
        "\n",
        "The next step is to determine the storage volume for 30 days worth of coagulant needed to run the plant. We assume that the plant is running at average conditions for this duration. The method to calculate the volume of coagulant needed over 30 days is to use the annual mass estimate of coagulant given in the scope of work, using the equation\n",
        "\n",
        "$$V_{t,FeCl3} = \\frac{M_{ann, FeCl3}}{C_{stock, FeCl3}} $$\n",
        "where\n",
        "\n",
        "M<sub>ann,FeCl3</sub> = annual estimate of mass of FeCl3 needed = 4142 tons/yr (from scope of work)\n",
        "\n",
        "C<sub>stock,FeCl3</sub> = concentration of 40% FeCl3 stock solution in tanks = 400 g/L\n",
        "\n",
        "The SOW estimate will be used to calculate the storage since it yields the larger total feed rate required for the coagulant, ferric chloride. "
      ]
    },
    {
      "cell_type": "code",
      "metadata": {
        "id": "BV-FDRwq_b_x",
        "colab_type": "code",
        "outputId": "94d2b289-1d27-486a-b62f-d45a1a08e380",
        "colab": {
          "base_uri": "https://localhost:8080/",
          "height": 34
        }
      },
      "source": [
        "#volume FeCl3 for 30 days via annual mass estimate\n",
        "fecl3_ann_est = 4142 * u.tons\n",
        "fecl3_month_mass = fecl3_ann_est *u.month/u.year \n",
        "fecl3_month_vol = fecl3_month_mass /fecl3_stock\n",
        "print(\"The volume of FeCl3 needed for 30 days based on the SOW annual estimate is\", fecl3_month_vol.to(u.kgal), \"(\",fecl3_month_vol.to(u.ML),\")\")"
      ],
      "execution_count": 0,
      "outputs": [
        {
          "output_type": "stream",
          "text": [
            "The volume of FeCl3 needed for 30 days based on the SOW annual estimate is 206.8 kilogallon ( 0.7828 megaliter )\n"
          ],
          "name": "stdout"
        }
      ]
    },
    {
      "cell_type": "markdown",
      "metadata": {
        "id": "1ZmADTJBxuMh",
        "colab_type": "text"
      },
      "source": [
        "[/Monroe/]: # (Include a discussion after your calculations explaining the significance of the results.)\n",
        "  \n",
        "To get a picture of how many tanks at the LAAFP would be required to store this volume, Google Earth was utilized to observe the existing LAAFP tank farm. Three types of tanks were identified. Below are calculations how many of each type of tank would be required to store the calculated volume. These estimates will help guide us when deciding on the number of tanks to choose."
      ]
    },
    {
      "cell_type": "markdown",
      "metadata": {
        "id": "4iyimljMciMl",
        "colab_type": "text"
      },
      "source": [
        "![height of tank types 1, 2](https://drive.google.com/uc?id=1ueHQIRGAMqFvfSu6N_S7mmcFO7Y4VeaX)"
      ]
    },
    {
      "cell_type": "markdown",
      "metadata": {
        "id": "RzHQqFPIdBCJ",
        "colab_type": "text"
      },
      "source": [
        "![diameters of tank types 1, 2](https://drive.google.com/uc?id=1pSN_n2bjSVUst1jzg4zLsPVGoJF-KeUS)"
      ]
    },
    {
      "cell_type": "code",
      "metadata": {
        "id": "QC0lH-uq9rgo",
        "colab_type": "code",
        "outputId": "5f9a7738-cdfe-422d-dae5-f1a5b2153b2c",
        "colab": {
          "base_uri": "https://localhost:8080/",
          "height": 86
        }
      },
      "source": [
        "#LAAFP tank volume for type 1 (larger white tanks on the left)\n",
        "LAAFP_tank_1_height = 7.5 * u.m\n",
        "LAAFP_tank_1_diam = 6 * u.m\n",
        "LAAFP_tank_1_volume = np.pi * (LAAFP_tank_1_diam/2)**2 * LAAFP_tank_1_height\n",
        "LAAFP_tank_1_number = np.ceil(fecl3_month_vol.to(u.L)/LAAFP_tank_1_volume.to(u.L))\n",
        "print(\"The volume estimate for LAAFP tank type 1 is\",LAAFP_tank_1_volume.to(u.kilogallon), \"(\",LAAFP_tank_1_volume.to(u.ML),\")\")\n",
        "# Monroe stripped out the \"dimensionless\" unit to make the printouts clearer.\n",
        "# Thanks!\n",
        "print((LAAFP_tank_1_number.to(u.dimensionless)).magnitude, \"tanks are required for tank type 1 to store\", fecl3_month_vol.to(u.kL), \"(\",fecl3_month_vol.to(u.ML),\")\")\n",
        "\n",
        "#LAAFP tank volume for type 2 (smaller white tanks on the right)\n",
        "LAAFP_tank_2_height = 7.5 * u.m\n",
        "LAAFP_tank_2_diam = 5 * u.m\n",
        "LAAFP_tank_2_volume = np.pi * (LAAFP_tank_2_diam/2)**2 * LAAFP_tank_2_height\n",
        "LAAFP_tank_2_total = LAAFP_tank_2_volume * 3\n",
        "LAAFP_tank_2_number = np.ceil(fecl3_month_vol.to(u.L)/LAAFP_tank_2_volume.to(u.L))\n",
        "print(\"The volume estimate for LAAFP tank type 2 is\", LAAFP_tank_2_volume.to(u.kilogallon),\"(\",LAAFP_tank_2_volume.to(u.ML),\")\")\n",
        "print((LAAFP_tank_2_number.to(u.dimensionless)).magnitude,\"tanks are required for tank type 2 to store\", fecl3_month_vol.to(u.kL),  \"(\",fecl3_month_vol.to(u.ML),\")\")"
      ],
      "execution_count": 0,
      "outputs": [
        {
          "output_type": "stream",
          "text": [
            "The volume estimate for LAAFP tank type 1 is 56.02 kilogallon ( 0.2121 megaliter )\n",
            "4.0 tanks are required for tank type 1 to store 782.8 kiloliter ( 0.7828 megaliter )\n",
            "The volume estimate for LAAFP tank type 2 is 38.9 kilogallon ( 0.1473 megaliter )\n",
            "6.0 tanks are required for tank type 2 to store 782.8 kiloliter ( 0.7828 megaliter )\n"
          ],
          "name": "stdout"
        }
      ]
    },
    {
      "cell_type": "markdown",
      "metadata": {
        "id": "KznTH9g2gS71",
        "colab_type": "text"
      },
      "source": [
        "![height and diameter of tank type 3](https://drive.google.com/uc?id=1Op3aap9rhu6s8SCLtirSz8PZfWrZLp8x)"
      ]
    },
    {
      "cell_type": "code",
      "metadata": {
        "id": "ow7aL9oWf_ES",
        "colab_type": "code",
        "outputId": "3b85b597-4a97-4989-ee0a-88e138b5aed6",
        "colab": {
          "base_uri": "https://localhost:8080/",
          "height": 52
        }
      },
      "source": [
        "#LAAFP tank volume for type 3 (blue-green tanks)\n",
        "LAAFP_tank_3_height = 11 * u.m\n",
        "LAAFP_tank_3_diam = 6 * u.m\n",
        "LAAFP_tank_3_volume = np.pi * (LAAFP_tank_3_diam/2)**2 * LAAFP_tank_3_height\n",
        "LAAFP_tank_3_total = LAAFP_tank_3_volume * 2\n",
        "LAAFP_tank_3_number = np.ceil(fecl3_month_vol.to(u.L)/LAAFP_tank_3_volume.to(u.L))\n",
        "print(\"The volume estimate for LAAFP tank type 3 is\", LAAFP_tank_3_volume.to(u.kilogallon),\"(\",LAAFP_tank_3_volume.to(u.ML),\")\")\n",
        "print((LAAFP_tank_3_number.to(u.dimensionless)).magnitude, \"tanks are required for tank type 3 to store\", fecl3_month_vol.to(u.kL),  \"(\",fecl3_month_vol.to(u.ML),\")\")"
      ],
      "execution_count": 0,
      "outputs": [
        {
          "output_type": "stream",
          "text": [
            "The volume estimate for LAAFP tank type 3 is 82.16 kilogallon ( 0.311 megaliter )\n",
            "3.0 tanks are required for tank type 3 to store 782.8 kiloliter ( 0.7828 megaliter )\n"
          ],
          "name": "stdout"
        }
      ]
    },
    {
      "cell_type": "markdown",
      "metadata": {
        "id": "JJC4XPoGdMZL",
        "colab_type": "text"
      },
      "source": [
        "Considering that there are 2-3 tanks for each tank type in the Los Angeles Aqueduct Filtration Plant, the above estimates of having 3-6 tanks seem relatively reasonable. These numbers also meet the minimum 3 tanks that we would like to have for redundancy – one for use, one for back-up, and one for additional back-up during maintenance. We have decided to move forward with taller tanks similar to the blue-green type 3 tanks to save space."
      ]
    },
    {
      "cell_type": "markdown",
      "metadata": {
        "id": "OERNUfuIr0Au",
        "colab_type": "text"
      },
      "source": [
        "### **Annual cost of coagulant**\n",
        "\n",
        "[/Monroe/]: # (I don't have any confidence that the equation below is correct. The random ratio can't be right. And I don't know where you got the cost or what the units on the cost are. Is this cost per lb of FeCl3 or is it cost per lb of solution?)\n",
        "\n",
        "[Research](https://us.brenntagconnect.com/ccrz__ProductDetails?viewState=DetailView&cartID=&portalUser=&store=&cclcl=en_US&sku=273144) into vendors showed that for bulk orders, the cost of 40% FeCl3 solution is around $0.2243/lbs. This value can be used to calculate the annual cost of coagulant using the formula\n",
        "\n",
        "$$Annual\\: cost\\: of\\:FeCl3 = (unit\\: cost\\:of\\:FeCl3)*V_{30,FeCl3}* \\rho_{FeCl3}$$\n",
        "\n",
        "where \n",
        "\n",
        "V<sub>30,FeCl3</sub> = Volume needed to store 30 days worth of 40% FeCl3 solution (calculated above)\n",
        "\n",
        "$\\rho$<sub>FeCl3</sub> = density of 40% FeCl3 solution = 1.356 g/mL ( [BrennTag Connect](https://us.brenntagconnect.com/ccrz__ProductDetails?viewState=DetailView&cartID=&portalUser=&store=&cclcl=en_US&sku=273144))\n",
        "\n",
        "[/Monroe/]: # (Here you give a difference density of the stock solution. Getting these numbers right is a first step in your design. Make sure to fix this asap.)\n",
        "\n",
        "[/Monroe/]: # (I believe the SOW include a cost for the coagulant. Does your calculation agree?)"
      ]
    },
    {
      "cell_type": "code",
      "metadata": {
        "id": "Xu4r7JtmtAFg",
        "colab_type": "code",
        "outputId": "9800ffb5-8ac5-484d-df5e-9e9992b98aa2",
        "colab": {
          "base_uri": "https://localhost:8080/",
          "height": 52
        }
      },
      "source": [
        "#cost of FeCl3 \n",
        "unit_cost_fecl3 = 0.2243 * u.USD/u.lbs # from Brenntag vendor\n",
        "ann_cost_fecl3 = unit_cost_fecl3*fecl3_month_mass \n",
        "print('The annual cost of FeCl3 is', ann_cost_fecl3.to(u.USD))\n",
        "\n",
        "SOW_ann_cost_fecl3 = 2100000 *u.USD\n",
        "cost_ratio = ann_cost_fecl3/SOW_ann_cost_fecl3\n",
        "print(\"The cost_ratio based on vendors is\", cost_ratio.to(u.dimensionless).magnitude, \"the cost based on the scope of work\")"
      ],
      "execution_count": 0,
      "outputs": [
        {
          "output_type": "stream",
          "text": [
            "The annual cost of FeCl3 is 1.548e+05 dollar\n",
            "The cost_ratio based on vendors is 0.07373417460317461 the cost based on the scope of work\n"
          ],
          "name": "stdout"
        }
      ]
    },
    {
      "cell_type": "markdown",
      "metadata": {
        "id": "qgdD5SMYLb8G",
        "colab_type": "text"
      },
      "source": [
        "The answer calculated above is roughly 3 times the amount estimated in the scope of work. Usually, budget predictions are conservative which makes the ratio result surprising. Since we do not have a better idea of where the SOW price estimate comes from, we will leave our calculations as is. It is possible that LA engineers have a better unit pricing than the price posted online. "
      ]
    },
    {
      "cell_type": "markdown",
      "metadata": {
        "id": "Q0NQv_Lir7aF",
        "colab_type": "text"
      },
      "source": [
        "### **Storage Volume & Max. Feed Rate of Emulsion Polymer**\n",
        "\n",
        "Calculating the storage volume and maximum feed rate of the emulsion polymer is done similarly to the calculations used for ferric chloride. \n",
        "\n",
        "The maximum flow rate will be calculated using conservaion of mass. Knowing the concentration of the stock polymer solution, the concentration desired in the treatment train, and the maximum flow of the plant will be needed to calculate the maximum flow rate for the polymer stock solution. The equation utilized is provided below:  \n",
        "\n",
        "$$Q_{max,polymer} = \\frac{Q_{des}C_{max,polymer}}{C_{stock,polymer}}$$\n",
        "\n",
        "The volume needed to store polymer solution for 30 days is provided below. It is based on the definitions of volume, solution concentration, and mass. \n",
        "\n",
        "$$V_{month,polymer} = \\frac{M_{month, polymer}}{C_{stock, polymer}} $$\n",
        "\n",
        "The Tramfloc 300-399 Series Cationic Emulsion Polymer was selected for this design as a representative polymer. The polymer's safety data sheet may be found [here](http://tramfloc.com/material-safety-data-sheets/).\n",
        "\n",
        "\n"
      ]
    },
    {
      "cell_type": "code",
      "metadata": {
        "id": "n6Y4AHh9O1Po",
        "colab_type": "code",
        "colab": {}
      },
      "source": [
        "#Tramfloc 300-399 Series Cationic Emulsion Polymers properties: \n",
        "density_polymer = 1.01*u.g/(u.mL) # for 35% active content polymer\n",
        "polymer_strength = 0.35 # Active strength of polymer solution\n",
        "polymer_stock = 5 *u.g/u.L \n",
        "mu_polymer = 1 * u.N * u.s / u.m**2  #dynamic viscosity = 1000 cps \n",
        "nu_polymer = mu_fecl3/density_fecl3"
      ],
      "execution_count": 0,
      "outputs": []
    },
    {
      "cell_type": "markdown",
      "metadata": {
        "id": "vmMCbHE5PI7c",
        "colab_type": "text"
      },
      "source": [
        "The storage volume and maximum feed rate of the emulsion polymer may be done either by using the annual polymer mass estimate from the SOW or the average dose of polymer used at the Cottonwood Plant.\n",
        "\n",
        "#### **Method 1: Scope of Work assumption**\n",
        "\n",
        "The Scope of Work assumption was what was used to calculate the volume of coagulant needed for 30 days of storage. "
      ]
    },
    {
      "cell_type": "code",
      "metadata": {
        "id": "gSeN8CE8QgJo",
        "colab_type": "code",
        "outputId": "bae8224b-215e-4bfc-84eb-d4dd53b1d4ad",
        "colab": {
          "base_uri": "https://localhost:8080/",
          "height": 34
        }
      },
      "source": [
        "# Based on annual estimate provided in the SOW\n",
        "polymer_ann_mass = 165 * u.tons/u.year\n",
        "polymer_ann_vol = polymer_ann_mass/density_polymer\n",
        "print(\"The maximum polymer feed rate based on the SOW annual estimate is\",polymer_ann_vol.to(u.gal/u.hour),\"(\",polymer_ann_vol.to(u.ml/u.sec),\")\")"
      ],
      "execution_count": 0,
      "outputs": [
        {
          "output_type": "stream",
          "text": [
            "The maximum polymer feed rate based on the SOW annual estimate is 4.466 gallon / hour ( 4.696 milliliter / second )\n"
          ],
          "name": "stdout"
        }
      ]
    },
    {
      "cell_type": "code",
      "metadata": {
        "id": "gz3lPUDGyhu1",
        "colab_type": "code",
        "outputId": "2e79ef19-f92d-48f1-df54-998737b716e2",
        "colab": {
          "base_uri": "https://localhost:8080/",
          "height": 52
        }
      },
      "source": [
        "# Volume of polymer for 30 days via annual mass estimate (SOW)\n",
        "polymer_mass_month = polymer_ann_mass *u.month\n",
        "polymer_vol_month = polymer_mass_month/density_polymer\n",
        "print(\"The mass of polymer needed for 30 days based on the SOW annual estimate is\", polymer_mass_month.to(u.kilopound), \"(\",polymer_mass_month.to(u.Mg),\")\" )\n",
        "print(\"The volume of polymer needed for 30 days based on the SOW annual estimate is\", polymer_vol_month.to(u.kilogallon),\"(\",polymer_vol_month.to(u.kL),\")\")"
      ],
      "execution_count": 0,
      "outputs": [
        {
          "output_type": "stream",
          "text": [
            "The mass of polymer needed for 30 days based on the SOW annual estimate is 27.5 kilopound ( 12.47 megagram )\n",
            "The volume of polymer needed for 30 days based on the SOW annual estimate is 3.263 kilogallon ( 12.35 kiloliter )\n"
          ],
          "name": "stdout"
        }
      ]
    },
    {
      "cell_type": "markdown",
      "metadata": {
        "id": "3kCxtHG_Pp7R",
        "colab_type": "text"
      },
      "source": [
        "The results from this method appear to be in a reasonable magnitude.\n",
        "\n",
        "#### **Method 2: Cottonwood Plant assumption**\n",
        "\n",
        "Using the average dosing rate at the Cottonwood plant from [resources.md](https://github.com/MWSteams/4590FSP/blob/master/resources.md), we assumed a maximum dose tp calculate the required feed rate and 30 day storage volume required."
      ]
    },
    {
      "cell_type": "code",
      "metadata": {
        "id": "YeXgiGZf0G6I",
        "colab_type": "code",
        "outputId": "826de76e-f7c4-431f-a1a3-d8ca0bc844a7",
        "colab": {
          "base_uri": "https://localhost:8080/",
          "height": 34
        }
      },
      "source": [
        "# Based on the dosing rate at the Cottonwood plant (Hering & Kneebone 2002 (p.169))\n",
        "polymer_dose_avg_CTP = 1.7 * u.mg/u.L\n",
        "# Assume that maximum dose is double\n",
        "polymer_dose_max = polymer_dose_avg_CTP * 2\n",
        "\n",
        "polymer_mass_delivery_rate = (fmt.q_max * polymer_dose_max)/polymer_strength\n",
        "polymer_vol_delivery_rate = polymer_mass_delivery_rate/density_polymer\n",
        "print(\"The maximum feed rate of polymer solution is\", polymer_vol_delivery_rate.to(u.gal/u.hour),\"(\",polymer_vol_delivery_rate.to(u.mL/u.s),\")\" )"
      ],
      "execution_count": 0,
      "outputs": [
        {
          "output_type": "stream",
          "text": [
            "The maximum feed rate of polymer solution is 186.5 gallon / hour ( 196.1 milliliter / second )\n"
          ],
          "name": "stdout"
        }
      ]
    },
    {
      "cell_type": "code",
      "metadata": {
        "id": "bqFrof6jR-7P",
        "colab_type": "code",
        "outputId": "97945291-b693-4c75-952d-6d6761093161",
        "colab": {
          "base_uri": "https://localhost:8080/",
          "height": 52
        }
      },
      "source": [
        "#volume FeCl3 for 30 days via dosage at the Cottonwood Plant\n",
        "time = 30 * u.days\n",
        "tank_volume_polymer = polymer_dose_avg_CTP/polymer_stock* time * fmt.q_ave\n",
        "polymer_month_mass = tank_volume_polymer*density_polymer\n",
        "print(\"The mass of 35% polymer solution needed for 30 days based on the recommended dosage is\", polymer_month_mass.to(u.klbs), \"(\",polymer_month_mass.to(u.Mg),\")\" )\n",
        "print (\"The volume of polymer needed for 30 days based on the recommended dosage is\",tank_volume_polymer.to(u.kgal), \"(\",tank_volume_polymer.to(u.kL),\")\" )"
      ],
      "execution_count": 0,
      "outputs": [
        {
          "output_type": "stream",
          "text": [
            "The mass of 35% polymer solution needed for 30 days based on the recommended dosage is 1.778e+04 kilopound ( 8065 megagram )\n",
            "The volume of polymer needed for 30 days based on the recommended dosage is 2110 kilogallon ( 7986 kiloliter )\n"
          ],
          "name": "stdout"
        }
      ]
    },
    {
      "cell_type": "markdown",
      "metadata": {
        "id": "EoKdrOeSUfeb",
        "colab_type": "text"
      },
      "source": [
        "The two methods used to calculate emulsion polymer storage volume requirements are drastically different. The Scope of Work assumption gave a 30-day storage volume estimate of 12.35 kiloliters, while the Cottonwood assumption gave an estimate of 7986 kiloliters. The latter appears to be an extremely high and unreasonable value. Since the Scope of Work was likely already a conservative estimate used by the Los Angeles Department of Water and Power to calculate annual costs, and 12.35 kiloliters\n",
        "... \n",
        "Extremely high.\n",
        "Maintain consistency.\n"
      ]
    },
    {
      "cell_type": "markdown",
      "metadata": {
        "id": "CbidDsNEr8rR",
        "colab_type": "text"
      },
      "source": [
        "### **Pipe Design**\n",
        "\n",
        "[Chemicals]: # (TBC: Need to connect this to the pump selection process as well as incorporate this into the pipe diameter selection from AC Python Package)\n",
        "\n",
        "[Monroe]: # (Okay, you missed this last time. If you have questions about how to do these calculations, bring me in to a meeting!)\n",
        "\n",
        "[Monroe]: # (Design for the maximum chemical flow rate. It doesn't make sense to design a chemical feed system that fails when the flow rate is greater than the average flow. Don't forget to include the number of chemical dosing locations.)\n",
        "\n",
        "The design below calculates the optimal nominal diameter for a schedule 40 pipe. First, the function ac.diam_pipe was used to find the optimal inner diameter. This is then used to find the corresponding schedule 40 inner diameter and nominal diameter. The inputs the function considered where: the pipe flow, the acceptable head loss, the pipe length, the coagulant viscosity, the roughness of the pipe, and the minor losses. \n",
        "\n",
        "The design will include 2 feed lines per rapid mix unit for redundancy purposes. It is also assumed that 1 m of head loss is acceptable to start. "
      ]
    },
    {
      "cell_type": "code",
      "metadata": {
        "id": "SSS5SEdKzXRZ",
        "colab_type": "code",
        "colab": {}
      },
      "source": [
        "#rough estimates of parameters\n",
        "elevation_tank = 0 *u.feet\n",
        "elevation_rapid_mix = 10 *u.feet #max. elevation change based on SOW elevation map \n",
        "pipe_l = 1000 *u.feet \n",
        "num_elbow = 4\n",
        "k_elbow = 0.3 #Frank Fluid Mechanics pg 391, assumed 90 deg. regular flanged 4 in. nominal diameter\n",
        "temp = 20 *u.degC\n",
        "e = 0.0015 *u.mm #Frank Fluid Mechanics pg 371, assumed plastic"
      ],
      "execution_count": 0,
      "outputs": []
    },
    {
      "cell_type": "code",
      "metadata": {
        "id": "NAvsDxyzGFvN",
        "colab_type": "code",
        "outputId": "b85c994b-6919-4b83-cbda-0d32ab7a48b7",
        "colab": {
          "base_uri": "https://localhost:8080/",
          "height": 104
        }
      },
      "source": [
        "num_feed_pipes = 2*fmt.n_floc_mech #two pipes for redundancy\n",
        "q_treatment_train = fmt.q_max/ (fmt.n_floc_mech-1)\n",
        "feed_pipe_q = q_treatment_train * fecl3_dose_max / fecl3_stock \n",
        "print(\"The maximum flow rate is per feed is\",feed_pipe_q.to(u.gal/u.hour), \"(\",feed_pipe_q.to(u.ml/u.s),\")\")\n",
        "head_loss = 1 *u.m #1 m headloss to start\n",
        "diam_pipe = ac.diam_pipe(feed_pipe_q, head_loss, pipe_l, nu_fecl3_dil, e, num_elbow*k_elbow) #inner diameter\n",
        "print(\"The optimal pipe diameter for the design is\",diam_pipe.to(u.inch))\n",
        "\n",
        "av_pipe_array = ac.ID_sch40(ac.ND_all_available()) #returns all ID for sch40 \n",
        "ID_sch40 = ac.ceil_nearest(diam_pipe, av_pipe_array)\n",
        "\n",
        "#use index of ID to find value of ND \n",
        "index = np.where(ID_sch40 == av_pipe_array) #index of ND and ID\n",
        "ND_array = ac.ND_all_available()\n",
        "ND_sch40 = ND_array[index][0]\n",
        "print(\"The nominal diameter of the schedule 40 pipe is\",ND_sch40)\n",
        "\n",
        "actual_hl = ac.headloss_pipe(feed_pipe_q, ID_sch40, pipe_l, nu_fecl3_dil, e, num_elbow*k_elbow)\n",
        "print(\"The actual headloss of the current pipe design is\", actual_hl) #if you're willing to have this amount of hl, design is okay. \n",
        "\n",
        "#pressure = rho * g * h, use density of stock solution bc significant diff in density \n",
        "\n",
        "#calculating power pump \n",
        "head_pump = actual_hl + elevation_rapid_mix - elevation_tank\n",
        "power_pump = fecl3_vol_delivery_rate *density_fecl3*ac.GRAVITY*head_pump\n",
        "print(\"The power required to pump the coagulant to the treatment train is\",power_pump.to(u.watt))"
      ],
      "execution_count": 0,
      "outputs": [
        {
          "output_type": "stream",
          "text": [
            "The maximum flow rate is per feed is 78.94 gallon / hour ( 83.01 milliliter / second )\n",
            "The optimal pipe diameter for the design is 1.834 inch\n",
            "The nominal diameter of the schedule 40 pipe is 2 inch\n",
            "The actual headloss of the current pipe design is 0.6192 meter\n",
            "The power required to pump the coagulant to the treatment train is 20.9 watt\n"
          ],
          "name": "stdout"
        }
      ]
    },
    {
      "cell_type": "markdown",
      "metadata": {
        "id": "3bO988UeRlFE",
        "colab_type": "text"
      },
      "source": [
        "### **Accessory & Safety Equipment**\n",
        "\n",
        "Add pictures \n"
      ]
    },
    {
      "cell_type": "markdown",
      "metadata": {
        "id": "eJ4GATVFsFHR",
        "colab_type": "text"
      },
      "source": [
        "### **Plan View Area**"
      ]
    },
    {
      "cell_type": "markdown",
      "metadata": {
        "id": "evpXeTH3e-c_",
        "colab_type": "text"
      },
      "source": [
        "As the open tank farm will store ferric chloride coagulant for the rapid mix unit process as well as emulsion polymer for residuals handling, we suggest swapping the initial proposed open tank farm and truck staging areas from the layouts suggests in the Fairmont Sedimentation Plant Scope of Work document. The truck staging area may remain adjacent to the residuals handling area, while the chemicals will not have to be pumped as great of a distance to the relevant unit processes.\n",
        "\n",
        "![New layout](https://drive.google.com/uc?id=10A-rEgVnCaZrJXfaYHl1WWlCH9ITF0JQ)\n",
        "\n"
      ]
    }
  ]
}