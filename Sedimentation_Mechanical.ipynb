{
  "nbformat": 4,
  "nbformat_minor": 0,
  "metadata": {
    "colab": {
      "name": "Sedimentation_Mechanical.ipynb",
      "provenance": [],
      "collapsed_sections": [],
      "include_colab_link": true
    },
    "kernelspec": {
      "name": "python3",
      "display_name": "Python 3"
    }
  },
  "cells": [
    {
      "cell_type": "markdown",
      "metadata": {
        "id": "view-in-github",
        "colab_type": "text"
      },
      "source": [
        "<a href=\"https://colab.research.google.com/github/MWSteams/4590FSP/blob/master/Sedimentation_Mechanical.ipynb\" target=\"_parent\"><img src=\"https://colab.research.google.com/assets/colab-badge.svg\" alt=\"Open In Colab\"/></a>"
      ]
    },
    {
      "cell_type": "markdown",
      "metadata": {
        "id": "lZNgRSu1Uj8D",
        "colab_type": "text"
      },
      "source": [
        "# Sedimentation Mechanical\n",
        "\n",
        "Authors: Justin Conneely, Ian Cullings, Alycia Storch, Brenda Solorzano\n",
        "\n",
        "[/Monroe/]: # (Well done! Great start. Try to find designs for other large scale wtps to see how big the sedimentation tanks are. The MWH textbook might have guidance on constraints for sizes of sed tanks too.)"
      ]
    },
    {
      "cell_type": "code",
      "metadata": {
        "id": "QjwM4ovYUokZ",
        "colab_type": "code",
        "outputId": "ddb0e4cd-3f42-4566-ad55-bc87ac3b0320",
        "colab": {
          "base_uri": "https://localhost:8080/",
          "height": 561
        }
      },
      "source": [
        "!pip install aguaclara\n",
        "!pip install molmass"
      ],
      "execution_count": 1,
      "outputs": [
        {
          "output_type": "stream",
          "text": [
            "Collecting aguaclara\n",
            "\u001b[?25l  Downloading https://files.pythonhosted.org/packages/28/bd/ce0f9f758e58a15e5cc55812679fe6ded155da1b6bac2278e574ce63d728/aguaclara-0.2.0.tar.gz (87kB)\n",
            "\u001b[K     |████████████████████████████████| 92kB 2.7MB/s \n",
            "\u001b[?25hRequirement already satisfied: matplotlib in /usr/local/lib/python3.6/dist-packages (from aguaclara) (3.2.1)\n",
            "Requirement already satisfied: urllib3 in /usr/local/lib/python3.6/dist-packages (from aguaclara) (1.24.3)\n",
            "Collecting pint==0.8.1\n",
            "\u001b[?25l  Downloading https://files.pythonhosted.org/packages/1e/40/6938f7d544eef208a8183c2c80624289e8a4f4e0aea43f4658b9527077de/Pint-0.8.1.tar.gz (162kB)\n",
            "\u001b[K     |████████████████████████████████| 163kB 8.2MB/s \n",
            "\u001b[?25hRequirement already satisfied: pandas in /usr/local/lib/python3.6/dist-packages (from aguaclara) (1.0.3)\n",
            "Requirement already satisfied: scipy in /usr/local/lib/python3.6/dist-packages (from aguaclara) (1.4.1)\n",
            "Requirement already satisfied: numpy>=1.11 in /usr/local/lib/python3.6/dist-packages (from matplotlib->aguaclara) (1.18.2)\n",
            "Requirement already satisfied: pyparsing!=2.0.4,!=2.1.2,!=2.1.6,>=2.0.1 in /usr/local/lib/python3.6/dist-packages (from matplotlib->aguaclara) (2.4.7)\n",
            "Requirement already satisfied: python-dateutil>=2.1 in /usr/local/lib/python3.6/dist-packages (from matplotlib->aguaclara) (2.8.1)\n",
            "Requirement already satisfied: cycler>=0.10 in /usr/local/lib/python3.6/dist-packages (from matplotlib->aguaclara) (0.10.0)\n",
            "Requirement already satisfied: kiwisolver>=1.0.1 in /usr/local/lib/python3.6/dist-packages (from matplotlib->aguaclara) (1.2.0)\n",
            "Requirement already satisfied: pytz>=2017.2 in /usr/local/lib/python3.6/dist-packages (from pandas->aguaclara) (2018.9)\n",
            "Requirement already satisfied: six>=1.5 in /usr/local/lib/python3.6/dist-packages (from python-dateutil>=2.1->matplotlib->aguaclara) (1.12.0)\n",
            "Building wheels for collected packages: aguaclara, pint\n",
            "  Building wheel for aguaclara (setup.py) ... \u001b[?25l\u001b[?25hdone\n",
            "  Created wheel for aguaclara: filename=aguaclara-0.2.0-cp36-none-any.whl size=99623 sha256=053f36e9c34e4a7fecd6550b45741176b5ac79c20c30acbc1ca631282042f790\n",
            "  Stored in directory: /root/.cache/pip/wheels/34/e9/34/0d3722243083a982623290c205c14a08b54ed290ee29219fd2\n",
            "  Building wheel for pint (setup.py) ... \u001b[?25l\u001b[?25hdone\n",
            "  Created wheel for pint: filename=Pint-0.8.1-py2.py3-none-any.whl size=134156 sha256=3699dee199db0f0e50f80497c9b697338ca53f3cd0ab25c57f0f33c47900f592\n",
            "  Stored in directory: /root/.cache/pip/wheels/b4/56/36/7c4d6a4e3660e233b95e3b0482551915cb184abca0f93ee1dd\n",
            "Successfully built aguaclara pint\n",
            "Installing collected packages: pint, aguaclara\n",
            "Successfully installed aguaclara-0.2.0 pint-0.8.1\n",
            "Collecting molmass\n",
            "\u001b[?25l  Downloading https://files.pythonhosted.org/packages/12/2b/dd600a36b78bc9ebf9e8ff7c900150c7439af0c55504a4ab8213485cda94/molmass-2020.1.1-py3-none-any.whl (65kB)\n",
            "\u001b[K     |████████████████████████████████| 71kB 2.2MB/s \n",
            "\u001b[?25hInstalling collected packages: molmass\n",
            "Successfully installed molmass-2020.1.1\n"
          ],
          "name": "stdout"
        }
      ]
    },
    {
      "cell_type": "code",
      "metadata": {
        "id": "ttJT8q_wYhAV",
        "colab_type": "code",
        "outputId": "7dad6d04-f3f4-43f8-b9d3-3a0efb7030ac",
        "colab": {
          "base_uri": "https://localhost:8080/",
          "height": 204
        }
      },
      "source": [
        "from aguaclara.core.units import unit_registry as u\n",
        "import aguaclara as ac\n",
        "import matplotlib.pyplot as plt\n",
        "import numpy as np\n",
        "import pandas as pd\n",
        "import molmass as mol\n",
        "!wget https://raw.githubusercontent.com/monroews/4590FSP/master/Fairmont.py\n",
        "import Fairmont as fmt"
      ],
      "execution_count": 2,
      "outputs": [
        {
          "output_type": "stream",
          "text": [
            "--2020-04-20 12:06:20--  https://raw.githubusercontent.com/monroews/4590FSP/master/Fairmont.py\n",
            "Resolving raw.githubusercontent.com (raw.githubusercontent.com)... 151.101.0.133, 151.101.64.133, 151.101.128.133, ...\n",
            "Connecting to raw.githubusercontent.com (raw.githubusercontent.com)|151.101.0.133|:443... connected.\n",
            "HTTP request sent, awaiting response... 200 OK\n",
            "Length: 1604 (1.6K) [text/plain]\n",
            "Saving to: ‘Fairmont.py’\n",
            "\n",
            "\rFairmont.py           0%[                    ]       0  --.-KB/s               \rFairmont.py         100%[===================>]   1.57K  --.-KB/s    in 0s      \n",
            "\n",
            "2020-04-20 12:06:20 (32.8 MB/s) - ‘Fairmont.py’ saved [1604/1604]\n",
            "\n"
          ],
          "name": "stdout"
        }
      ]
    },
    {
      "cell_type": "markdown",
      "metadata": {
        "id": "2SQpUtXCR5Xz",
        "colab_type": "text"
      },
      "source": [
        "# Task Definition\n",
        "\n",
        "The task for our group is broadly to conduct research and analysis on different mechanical sedimentation and sludge removal systems in order to determine the optimal design for the Fairmont Sedimentation Plant. More specifically, this task can be broken down into smaller components: \n",
        "\n",
        "\n",
        "1.   to analyse the constraints that bind the sedimentation-sludge removal system\n",
        "2.   to determine the underlying physical principals that guide these constraints, \n",
        "3.   to assess different alternatives for design that arise from those constraints and physical principles, and lastly \n",
        "4.   to arrive at a final design proposal for the sedimentation system."
      ]
    },
    {
      "cell_type": "markdown",
      "metadata": {
        "id": "WoGtXtBGQZr5",
        "colab_type": "text"
      },
      "source": [
        "# Executive Summary \n",
        "\n",
        "As explained in the task definition above, there are several tasks that must be accomplished prior to determining the optimal design for the sedimentation and sludge removal system. Each of those steps will be summarized below in order to logically arrive at the the final design proposal.\n",
        "\n",
        "Firstly, there are several prominent constraints that must be taken into account. Below are some of those constraints and requirements:\n",
        "\n",
        "* Design flow rate must be achieved\n",
        "* The design must fit within the physical space allocated - the scope of work gives the sedimentation tanks a 510 foot by 250 foot area, for a total of 127500 $ft^2$.\n",
        "* An extra treatment train is required to prevent system from going offline entirely during cleaning\n",
        "\n",
        "[/Monroe/]: # (Rephrase the previous constraint. The goal is much more than preventing taking the entire plant offline!!!)\n",
        "\n",
        "* The number of sedimentation treatment trains must equal the number of flocculation treatment trains\n",
        "\n",
        "[/Monroe/]: # (Perhaps, but you could have multiple sedimentation tanks per flocculator.)\n",
        "\n",
        "* Walkways on top of sedimentation tanks are required for ease of maintenance\n",
        "* A minimum sludge removal rate must be achieved to prevent failure\n",
        "* The energy cost of running sludge removal system must not be unreasonable\n",
        "* There must be equal flow through sed tanks in each treatment train\n",
        "\n",
        "Next, the physics behind the unit process in question must be analysed. Here are a few of the physical parameters and ideas that will be explored in more depth in order to arrive at the proposed design.\n",
        "* Capture velocity of As floc vs clay floc\n",
        "* Flow equalization through tube/plate settlers\n",
        "* Flow equalization through sed tanks within treatment trains\n",
        "* Quantifying sludge production rate based on design.  This also sets the amount of water wasted in sludge effluent."
      ]
    },
    {
      "cell_type": "markdown",
      "metadata": {
        "id": "IjuEDt2Z5xOM",
        "colab_type": "text"
      },
      "source": [
        "# Constraints\n",
        "\n",
        "* Relevant regulations\n",
        "* client expectations\n",
        "* site and budget\n",
        "* process capabilities including process design equations\n",
        "* ease of use \n",
        "* operation requirements\n",
        "* maintainence requirements\n",
        "\n",
        "\n",
        "## Design Flow Rate\n",
        "\n",
        "The first constraint for the design of the mechanical sedimentation-sludge system is that it must achiece the required design flow rate of the entire water treatment system. This flow rate is 465 MGD.\n",
        "\n",
        "## Extra Treatment Train\n",
        "\n",
        "The next constraint is that the system must have, at a minimum, an additional treatment train. This is a requirement because it ensures that the system does not go offline when one of the treatment traints either fails or needs to be cleaned. An additional constraint related to this is that the remaining \"n-1\" treatment trains need to be able to support the entire design flow as well.\n",
        "\n",
        "[/Monroe/]: # (Clean up the previous paragraph to be consistent with the last sentence in the paragraph. The 2nd sentence is inconsistent with the last sentence.)\n",
        "\n",
        "\n",
        "## Water Quality\n",
        "\n",
        "Following the [Scope of Work](https://github.com/monroews/CEE4590/blob/master/LADWP/Fairmont%20Sedimentation%20Plant%20Scope%20of%20Work%20_FINAL%2006-01-17.pdf), the sedimentation tanks will be required to treat contaiminants in accordance with this table: \n",
        "\n",
        "![image](https://github.com/MWSteams/4590FSP/blob/master/Images/Sedimentation_Mechanical/water_qual.PNG?raw=true)\n",
        "\n",
        "Given that there is no filtration or additional treatment, all treatment will occur within the sedimentation tank, making this a guiding constaint for the design.  Additionally, influent parameters may vary above the design parameter, so sedimentation tanks should be designed to account for this, if this is possible while meeting the other constraints.  \n",
        "\n",
        "\n",
        "## Surface Loading Rate\n",
        "\n",
        "As stated in the scope of work, the surface loading rate (which we take as plan view area over the flowrate) is set at 0.5 gallons per minute per square foot ($gpm/ft^2$).  There is still a lot of uncertainty on exactly how this number is defined and why it was set to this value, which will be settled in further talks with the design engineers.\n",
        "\n",
        "[/Monroe/]: # (Convert this number to mm/s so that you can understand what it is. The nomenclature is terrible and your job is to figure out what this parameter is. You can figure this out! Do the math.)\n",
        "\n",
        "## Walkways\n",
        "As stated in the [Scope of Work](https://github.com/monroews/CEE4590/blob/master/LADWP/Fairmont%20Sedimentation%20Plant%20Scope%20of%20Work%20_FINAL%2006-01-17.pdf) section H.3.b, the design should accommodate walkways to allow for proper maintenance and routine operation. This includes the ability to walk directly on the plate settlers. This will constrain the material used for the plate settlers and may influence dimensional and product choices.  Walkways should also be designed to easily allow operators to view and make measurements of each unit process without strain.\n",
        "\n",
        "[/Monroe/]: # (Will it be possible to have walkways that are at the correct elevation for observing flocs rising in the sedimentation tanks?)\n",
        "\n",
        "## Physical Space\n",
        "The overall design of the sedimentation tanks will depend on the space available. The space available for the sedimentation tanks may be a factor in determining the size of each sedimentation tank, determining the number of sedimentation tanks per treatment train and/or number of treatment trains, and in choosing a sludge removal product. \n",
        "\n",
        "[/Monroe/]: # (What is the space allocated?)\n",
        "\n",
        "## Flocculation Treatment Trains\n",
        "The optimal number of flocculation treatment trains will influence the overall sedimentation tank designs because the number of treatment trains will set the flowrate per treatment train which affects the size of the sedimentation tanks and the number of them per train. \n",
        "\n",
        "[/Monroe/]: # (How do you know who sets the number of treatment trains? Here you state it is the flocculation team. Why?)\n",
        "\n",
        "## Equal Flow Through Sedimentation Tanks in each Treatment Train\n",
        "\n",
        "In order to provide optimal efficiency, it is important that each sedimentation tank recieves it's design flowrate of water, and not more or less.  While this is primarily a focus for the hydraulics team, it will be an important constraint to consider during the design process.  Design will also need to account for the range of flowrates from a design max of $ 720 ft^3/s $ to an average design flowrate $ 320 ft^3/s $, and even lower amounts during drought periods.\n",
        "\n",
        "[/Monroe/]: # (What is the minimum flow that you must be able to treat? We need this number and I'm not sure what it is either!)\n",
        "\n",
        "Additionally, it is important that water within each sedimentation tank is evenly distributed and is not preferentially flowing through one section.  This could cause reduced efficiency and allow the escape of flocs below the design capture velocity.\n",
        "\n",
        "## Temperature Management to Prevent Density Currents\n",
        "\n",
        "A common failure mode for sedimentation tanks is differing currents from changes in density due to temperature.  If influent water is significantly warmer or cooler than the water within the tank, it can cause short-circuiting flows where is rises faster than designed, or falls to the bottom.  To prevent this, the design should be fully walled and roofed to prevent excess heat from sunlight.  Enclosing the tanks in a structure will also provide protection from wind, nature, and other contaiminants entering the tanks.\n",
        "\n",
        "Additionally, any walls that are exposed to sunlight should be made from a material that does not conduct heat well, such as concrete, rather than metal.  This will also improve the comfort for operators and potentially reduce air conditioning costs.\n",
        "\n",
        "[/Monroe/]: # (I can guarantee that airconditioning is not going to be considered in this design. Convincing them to consider walls and a roof will be a major challenge!)\n",
        "\n",
        "## Accessibility and Maintenance \n",
        "\n",
        "One of the most important design criteria is to allow the entire plant to be easily accessible, so that operators can clearly monitor performance and perform maintenance and cleaning as necessary.  Some important considerations for this include:\n",
        "* Creating an entirely redundant treatment train so each train can be fully taken offline for maintenance\n",
        "* Building spacious walkways that allow easy access and viewing of sedimenation tank\n",
        "* Designing plate settlers that can dissassembled as necessary\n",
        "* Creating a hatch or other system to allow easy access to sludge collection area, in case of failure of mechanical system\n",
        "* Occupation safety must be accounted for in design, construction, and operation\n",
        "\n",
        "[/Monroe/]: # (I like the idea of emphasizing access for cleaning because mechanical sludge collection systems are a maintenance problem. It would be good to require the ability to replace a sludge collection system in a few days and perhaps require that a complete set of replacement parts be kept onsite.)\n",
        "\n"
      ]
    },
    {
      "cell_type": "markdown",
      "metadata": {
        "id": "Jonv4dYSQghA",
        "colab_type": "text"
      },
      "source": [
        "\n",
        "\n",
        "# Physics\n",
        "\n",
        "Briefly describe the physics that will determine whether your portion of the design succeeds or fails. Present relevant equations describing those physical laws and explain how you will use those concepts to guide your design.\n",
        "\n",
        "[/Monroe/]: # (I deleted F=ma...)\n",
        "\n",
        "### Capture Velocity\n",
        "$$v_{capture}=\\frac{v_{upflow}*d}{lcos\\theta+dsin\\theta}$$ \n",
        "<br>\n",
        "<center>\n",
        "$d$ = distance between plate settlers  <br>\n",
        "$l$ = length of plate settlers  <br>\n",
        "$\\theta$ = angle of plate settler from horizontal  \n",
        "</center>\n",
        "\n",
        "This equation will be used to choose the geometric parameters of the plate settlers ($d$, $l$, and $\\theta$) that will yield a capture velocity that is smaller than the terminal velocity of the smallest floc we want to capture. This will ensure that the flocs formed will be able to be captured by the sedimentation tanks. \n",
        "\n",
        "### Terminal Velocity of a Floc\n",
        "$$v_t = \\sqrt{\\frac{4}{3}\\frac{gD}{C_D}\\frac{(\\rho_{floc}-\\rho_{H_2O})}{\\rho_{H_2O}}}$$\n",
        "<br>\n",
        "<center>\n",
        "$v_t$ = particle terminal velocity <br>\n",
        "$g$ = acceleration due to gravity <br>\n",
        "$D$ = particle diameter <br>\n",
        "$C_D$ = drag coefficient <br>\n",
        "$\\rho_{H_2O}$ = density of water <br>\n",
        "$\\rho_{floc}$ = density of floc\n",
        "</center>\n",
        "\n",
        "The Flocculation team will be consulted for information such as floc density and diameter.\n",
        "\n",
        "### Flow Equalization \n",
        "\n",
        "As mentioned above in the constraints section, the flow through (1) each of the sedimentation tanks within a treatment train, and (2) each of the plate and/or tube settlers within a sed tank must be equal. This ensures there are no preferential flow paths, and improves the overall performance of the design as such. Generally, this constraint can be expressed as an inequality, as follows:\n",
        "\n",
        "$$Q_{sed, 1}=Q_{sed, 2}= ... =Q_{sed, n}$$\n",
        "$$Q_{plate, 1}=Q_{plate, 2}= ... =Q_{plate, n}$$\n",
        "\n",
        "\n",
        "Physically, each of these can be achieved either hydraulically (hydraulics team) or by being very intentional about the specific dimensions and layout of the final proposed design."
      ]
    },
    {
      "cell_type": "markdown",
      "metadata": {
        "id": "eujkPi4P9GDs",
        "colab_type": "text"
      },
      "source": [
        "# Table listing potential strategies to meet the constraints and treatment objectives\n",
        "\n",
        "Please remove my two rows of examples!\n",
        "\n",
        "| Strategy | Advantages  | Disadvantages | Data needed for decision |\n",
        "|---|---|---|---|\n",
        "| Match product availibility to ideal design | as close to ideal design as possible |  may be difficult to find products that match design,<br>may require reworking based on product availibility | theoretical values |\n",
        "| Design based on product availibility | design will incorporate real product specifications from the start | will not be able to achieve ideal design | real product specs |"
      ]
    },
    {
      "cell_type": "markdown",
      "metadata": {
        "id": "J9dPZVMbOka9",
        "colab_type": "text"
      },
      "source": [
        "# Vendors and contact information file\n",
        "\n",
        "See this [tab delimited spreadsheet](https://raw.githubusercontent.com/monroews/4590FSP/master/vendors.txt).\n",
        "\n",
        "Add rows to the vendor spreadsheet as you find them. The sheet can easily be edited in Excel. Just make sure to save it as a tab delimited sheet. Push your changes to github so the entire class has access to the document.\n",
        "\n"
      ]
    },
    {
      "cell_type": "code",
      "metadata": {
        "id": "l35d0BODlEsW",
        "colab_type": "code",
        "outputId": "96d0af13-420c-408c-ae65-46bd443943c2",
        "colab": {
          "base_uri": "https://localhost:8080/",
          "height": 382
        }
      },
      "source": [
        "vendors = pd.read_csv('https://raw.githubusercontent.com/monroews/4590FSP/master/vendors.txt',sep='\\t')\n",
        "vendors"
      ],
      "execution_count": 5,
      "outputs": [
        {
          "output_type": "execute_result",
          "data": {
            "text/html": [
              "<div>\n",
              "<style scoped>\n",
              "    .dataframe tbody tr th:only-of-type {\n",
              "        vertical-align: middle;\n",
              "    }\n",
              "\n",
              "    .dataframe tbody tr th {\n",
              "        vertical-align: top;\n",
              "    }\n",
              "\n",
              "    .dataframe thead th {\n",
              "        text-align: right;\n",
              "    }\n",
              "</style>\n",
              "<table border=\"1\" class=\"dataframe\">\n",
              "  <thead>\n",
              "    <tr style=\"text-align: right;\">\n",
              "      <th></th>\n",
              "      <th>item description</th>\n",
              "      <th>vendor</th>\n",
              "      <th>contact first name</th>\n",
              "      <th>contact last name</th>\n",
              "      <th>vendor website</th>\n",
              "      <th>product info</th>\n",
              "      <th>date of contact</th>\n",
              "      <th>who made the contact</th>\n",
              "      <th>notes</th>\n",
              "    </tr>\n",
              "  </thead>\n",
              "  <tbody>\n",
              "    <tr>\n",
              "      <th>0</th>\n",
              "      <td>plate settlers</td>\n",
              "      <td>MRI</td>\n",
              "      <td>still</td>\n",
              "      <td>pending</td>\n",
              "      <td>http://www.meurerresearch.com/</td>\n",
              "      <td>http://www.meurerresearch.com/literaturemedia/...</td>\n",
              "      <td>4/16/2020</td>\n",
              "      <td>Ian Cullings</td>\n",
              "      <td>NaN</td>\n",
              "    </tr>\n",
              "    <tr>\n",
              "      <th>1</th>\n",
              "      <td>sludge removal system</td>\n",
              "      <td>MRI</td>\n",
              "      <td>still</td>\n",
              "      <td>pending</td>\n",
              "      <td>http://www.meurerresearch.com/</td>\n",
              "      <td>http://www.meurerresearch.com/products/hoseles...</td>\n",
              "      <td>4/16/2020</td>\n",
              "      <td>Ian Cullings</td>\n",
              "      <td>NaN</td>\n",
              "    </tr>\n",
              "    <tr>\n",
              "      <th>2</th>\n",
              "      <td>plate settlers</td>\n",
              "      <td>Monore Environmental</td>\n",
              "      <td>still</td>\n",
              "      <td>pending</td>\n",
              "      <td>https://www.monroeenvironmental.com/</td>\n",
              "      <td>https://www.monroeenvironmental.com/water-and-...</td>\n",
              "      <td>4/16/2020</td>\n",
              "      <td>Ian Cullings</td>\n",
              "      <td>NaN</td>\n",
              "    </tr>\n",
              "    <tr>\n",
              "      <th>3</th>\n",
              "      <td>sludge removal system</td>\n",
              "      <td>Monore Environmental</td>\n",
              "      <td>still</td>\n",
              "      <td>pending</td>\n",
              "      <td>https://www.monroeenvironmental.com/</td>\n",
              "      <td>http://www.monroeenvironmental.com/water-and-w...</td>\n",
              "      <td>4/16/2020</td>\n",
              "      <td>Ian Cullings</td>\n",
              "      <td>NaN</td>\n",
              "    </tr>\n",
              "    <tr>\n",
              "      <th>4</th>\n",
              "      <td>plate settler with hopper</td>\n",
              "      <td>Parkson</td>\n",
              "      <td>still</td>\n",
              "      <td>pending</td>\n",
              "      <td>https://www.parkson.com/</td>\n",
              "      <td>https://www.parkson.com/products/lamella-ecoflow</td>\n",
              "      <td>4/16/2020</td>\n",
              "      <td>Ian Cullings</td>\n",
              "      <td>Includes sloped sludge hopper in design</td>\n",
              "    </tr>\n",
              "    <tr>\n",
              "      <th>5</th>\n",
              "      <td>rapid mixer (mech)</td>\n",
              "      <td>Dynamix</td>\n",
              "      <td>still</td>\n",
              "      <td>pending</td>\n",
              "      <td>https://www.dynamixinc.com</td>\n",
              "      <td>https://www.dynamixinc.com/industries/waste-wa...</td>\n",
              "      <td>4/16/2020</td>\n",
              "      <td>Lynn Li</td>\n",
              "      <td>NaN</td>\n",
              "    </tr>\n",
              "    <tr>\n",
              "      <th>6</th>\n",
              "      <td>rapid mixer (mech)</td>\n",
              "      <td>Meurer Research</td>\n",
              "      <td>still</td>\n",
              "      <td>pending</td>\n",
              "      <td>http://www.meurerresearch.com</td>\n",
              "      <td>http://www.meurerresearch.com/products/mixer/</td>\n",
              "      <td>4/16/2020</td>\n",
              "      <td>Lynn Li</td>\n",
              "      <td>NaN</td>\n",
              "    </tr>\n",
              "    <tr>\n",
              "      <th>7</th>\n",
              "      <td>rapid mixer (mech)</td>\n",
              "      <td>Philadelphia Mixing Solutions</td>\n",
              "      <td>still</td>\n",
              "      <td>pending</td>\n",
              "      <td>https://www.philamixers.com</td>\n",
              "      <td>https://www.philamixers.com/industries/water-w...</td>\n",
              "      <td>4/16/20</td>\n",
              "      <td>Lynn Li</td>\n",
              "      <td>NaN</td>\n",
              "    </tr>\n",
              "  </tbody>\n",
              "</table>\n",
              "</div>"
            ],
            "text/plain": [
              "            item description  ...                                    notes\n",
              "0             plate settlers  ...                                      NaN\n",
              "1      sludge removal system  ...                                      NaN\n",
              "2             plate settlers  ...                                      NaN\n",
              "3      sludge removal system  ...                                      NaN\n",
              "4  plate settler with hopper  ...  Includes sloped sludge hopper in design\n",
              "5         rapid mixer (mech)  ...                                      NaN\n",
              "6         rapid mixer (mech)  ...                                      NaN\n",
              "7         rapid mixer (mech)  ...                                      NaN\n",
              "\n",
              "[8 rows x 9 columns]"
            ]
          },
          "metadata": {
            "tags": []
          },
          "execution_count": 5
        }
      ]
    },
    {
      "cell_type": "markdown",
      "metadata": {
        "id": "-jwNKdrCOmux",
        "colab_type": "text"
      },
      "source": [
        "# Shared assumptions\n",
        "\n",
        "See this [python file, Fairmont.py](https://github.com/monroews/4590FSP/blob/master/Fairmont.py)\n",
        "\n",
        "Use this file to hold parameters that are in the SOW or elsewhere that\n",
        "influence the design of the entire plant. This provides an easy mechanism\n",
        "for all of us to share the same assumptions. Read the SOW to find sections that relate to your part of the design and enter all pertinent variables into [Fairmont.py](https://github.com/monroews/4590FSP/blob/master/Fairmont.py) and then push those changes to github.\n",
        "\n",
        "# Major Decisions\n",
        "\n",
        "Write several paragraphs describing the major decisions that you will need to make in order to create a design and outline a strategy for how you will obtain the necessary information to make those decisions.\n",
        "\n",
        "# Next Steps and Challenges\n",
        "\n",
        "Summarize the next steps that you will be taking to move the design forward. Identify any challenges where you may need assistance.\n",
        "\n",
        "The executive summary will be continually revised throughout the duration of the project with new information and findings. Updates to constraints will be made as relevent information from other teams is made available. More information will be added to the Physics section including relevant equations and values from other teams, vendors, and our own calculations. We will collborate with the Residuals team regarding the sludge removal system and the Flocculation team regarding the characteristics fo the flocs needed for our capture velocity calculations. Further research will be conducted on vendors. Vendors will be contacted for any needed further information. Once this information is gathered, the team will write code to calculate the necessary information for the design. A model or drawing will also be produced."
      ]
    },
    {
      "cell_type": "markdown",
      "metadata": {
        "id": "DXlB_I6ZOw2J",
        "colab_type": "text"
      },
      "source": [
        "# Design\n",
        "\n",
        "Begin writing the code to start your design. Define flow rates, mass rates, energy requirements, and any readily calculated dimensions, velocities, flows, etc."
      ]
    },
    {
      "cell_type": "code",
      "metadata": {
        "id": "IrwTrVM2hZqH",
        "colab_type": "code",
        "outputId": "f72b6ab9-6539-44fa-8ace-a77eae684a34",
        "colab": {
          "base_uri": "https://localhost:8080/",
          "height": 68
        }
      },
      "source": [
        "print('The average flow to be treated at Fairmont is',fmt.q_ave.to(u.Mgal/u.day),'or')\n",
        "print('The maximum flow to be treated at Fairmont is',fmt.q_max.to(u.Mgal/u.day))\n",
        "specific_energy = (fmt.electricity_power/fmt.q_ave).to(u.J/u.L)\n",
        "temp = 15 * u.degC\n",
        "specific_potential_energy = (specific_energy / u.gravity / ac.density_water(temp)).to(u.m)\n",
        "print('The average amount of energy used per liter of water is expected to be',specific_energy,'or',specific_potential_energy,'of potential energy')"
      ],
      "execution_count": 4,
      "outputs": [
        {
          "output_type": "stream",
          "text": [
            "The average flow to be treated at Fairmont is 206.8 megagallon / day or\n",
            "The maximum flow to be treated at Fairmont is 465.3 megagallon / day\n",
            "The average amount of energy used per liter of water is expected to be 118.1 joule / liter or 12.05 meter of potential energy\n"
          ],
          "name": "stdout"
        }
      ]
    }
  ]
}