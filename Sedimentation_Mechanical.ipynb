{
  "nbformat": 4,
  "nbformat_minor": 0,
  "metadata": {
    "colab": {
      "name": "Sedimentation_Mechanical.ipynb",
      "provenance": [],
      "collapsed_sections": [],
      "include_colab_link": true
    },
    "kernelspec": {
      "name": "python3",
      "display_name": "Python 3"
    }
  },
  "cells": [
    {
      "cell_type": "markdown",
      "metadata": {
        "id": "view-in-github",
        "colab_type": "text"
      },
      "source": [
        "<a href=\"https://colab.research.google.com/github/MWSteams/4590FSP/blob/master/Sedimentation_Mechanical.ipynb\" target=\"_parent\"><img src=\"https://colab.research.google.com/assets/colab-badge.svg\" alt=\"Open In Colab\"/></a>"
      ]
    },
    {
      "cell_type": "markdown",
      "metadata": {
        "id": "lZNgRSu1Uj8D",
        "colab_type": "text"
      },
      "source": [
        "# Sedimentation Mechanical\n",
        "\n",
        "Authors: Justin Conneely, Ian Cullings, Alycia Storch, Brenda Solorzano\n",
        "\n",
        "[/Monroe/]: # (Well done! Try to find designs for other large scale wtps to see how big the sedimentation tanks are. The MWH textbook might have guidance on constraints for sizes of sed tanks too. If you discover parameters where there is no clear optimum, consider creating a graph that illustrates how the design changes as that parameter changes. For example, you might find that the depth of the sed tank has to increase as the length of the sed tank increases.)\n",
        "[/Justin/]: # (We will try all these things!)"
      ]
    },
    {
      "cell_type": "code",
      "metadata": {
        "id": "QjwM4ovYUokZ",
        "colab_type": "code",
        "outputId": "8ee6fbd2-4797-4558-80cb-deae883c424c",
        "colab": {
          "base_uri": "https://localhost:8080/",
          "height": 554
        }
      },
      "source": [
        "!pip install aguaclara\n",
        "!pip install molmass"
      ],
      "execution_count": 1,
      "outputs": [
        {
          "output_type": "stream",
          "text": [
            "Collecting aguaclara\n",
            "\u001b[?25l  Downloading https://files.pythonhosted.org/packages/6d/b5/24c20d548db5d6dbbce2899e0c9e24eab6c5f593a2898b353f356bb9cd3b/aguaclara-0.2.1.tar.gz (87kB)\n",
            "\u001b[K     |████████████████████████████████| 92kB 2.5MB/s \n",
            "\u001b[?25hRequirement already satisfied: matplotlib in /usr/local/lib/python3.6/dist-packages (from aguaclara) (3.2.1)\n",
            "Requirement already satisfied: urllib3 in /usr/local/lib/python3.6/dist-packages (from aguaclara) (1.24.3)\n",
            "Collecting pint==0.8.1\n",
            "\u001b[?25l  Downloading https://files.pythonhosted.org/packages/1e/40/6938f7d544eef208a8183c2c80624289e8a4f4e0aea43f4658b9527077de/Pint-0.8.1.tar.gz (162kB)\n",
            "\u001b[K     |████████████████████████████████| 163kB 7.3MB/s \n",
            "\u001b[?25hRequirement already satisfied: pandas in /usr/local/lib/python3.6/dist-packages (from aguaclara) (1.0.3)\n",
            "Requirement already satisfied: scipy in /usr/local/lib/python3.6/dist-packages (from aguaclara) (1.4.1)\n",
            "Requirement already satisfied: cycler>=0.10 in /usr/local/lib/python3.6/dist-packages (from matplotlib->aguaclara) (0.10.0)\n",
            "Requirement already satisfied: pyparsing!=2.0.4,!=2.1.2,!=2.1.6,>=2.0.1 in /usr/local/lib/python3.6/dist-packages (from matplotlib->aguaclara) (2.4.7)\n",
            "Requirement already satisfied: numpy>=1.11 in /usr/local/lib/python3.6/dist-packages (from matplotlib->aguaclara) (1.18.4)\n",
            "Requirement already satisfied: kiwisolver>=1.0.1 in /usr/local/lib/python3.6/dist-packages (from matplotlib->aguaclara) (1.2.0)\n",
            "Requirement already satisfied: python-dateutil>=2.1 in /usr/local/lib/python3.6/dist-packages (from matplotlib->aguaclara) (2.8.1)\n",
            "Requirement already satisfied: pytz>=2017.2 in /usr/local/lib/python3.6/dist-packages (from pandas->aguaclara) (2018.9)\n",
            "Requirement already satisfied: six in /usr/local/lib/python3.6/dist-packages (from cycler>=0.10->matplotlib->aguaclara) (1.12.0)\n",
            "Building wheels for collected packages: aguaclara, pint\n",
            "  Building wheel for aguaclara (setup.py) ... \u001b[?25l\u001b[?25hdone\n",
            "  Created wheel for aguaclara: filename=aguaclara-0.2.1-cp36-none-any.whl size=99466 sha256=5bb662e6b39c3adf2013fcb5a2f118958d9913255b73187885f0c7a018dd0388\n",
            "  Stored in directory: /root/.cache/pip/wheels/7f/ff/4f/10d76e6a261d392aefbdf6ce8d3d5519e924dc334b102ca49b\n",
            "  Building wheel for pint (setup.py) ... \u001b[?25l\u001b[?25hdone\n",
            "  Created wheel for pint: filename=Pint-0.8.1-py2.py3-none-any.whl size=134156 sha256=012a5c2eaf2fd3f42f79ce92eff0757a4269bfd93f19f1d51fb78da5535dd71d\n",
            "  Stored in directory: /root/.cache/pip/wheels/b4/56/36/7c4d6a4e3660e233b95e3b0482551915cb184abca0f93ee1dd\n",
            "Successfully built aguaclara pint\n",
            "Installing collected packages: pint, aguaclara\n",
            "Successfully installed aguaclara-0.2.1 pint-0.8.1\n",
            "Collecting molmass\n",
            "\u001b[?25l  Downloading https://files.pythonhosted.org/packages/12/2b/dd600a36b78bc9ebf9e8ff7c900150c7439af0c55504a4ab8213485cda94/molmass-2020.1.1-py3-none-any.whl (65kB)\n",
            "\u001b[K     |████████████████████████████████| 71kB 2.1MB/s \n",
            "\u001b[?25hInstalling collected packages: molmass\n",
            "Successfully installed molmass-2020.1.1\n"
          ],
          "name": "stdout"
        }
      ]
    },
    {
      "cell_type": "code",
      "metadata": {
        "id": "ttJT8q_wYhAV",
        "colab_type": "code",
        "outputId": "44699038-5ea5-448c-df9f-da626fec3e41",
        "colab": {
          "base_uri": "https://localhost:8080/",
          "height": 202
        }
      },
      "source": [
        "from aguaclara.core.units import unit_registry as u\n",
        "import aguaclara as ac\n",
        "import matplotlib.pyplot as plt\n",
        "import numpy as np\n",
        "import pandas as pd\n",
        "import molmass as mol\n",
        "!wget https://raw.githubusercontent.com/monroews/4590FSP/master/Fairmont.py\n",
        "import Fairmont as fmt"
      ],
      "execution_count": 2,
      "outputs": [
        {
          "output_type": "stream",
          "text": [
            "--2020-05-18 23:10:43--  https://raw.githubusercontent.com/monroews/4590FSP/master/Fairmont.py\n",
            "Resolving raw.githubusercontent.com (raw.githubusercontent.com)... 151.101.0.133, 151.101.64.133, 151.101.128.133, ...\n",
            "Connecting to raw.githubusercontent.com (raw.githubusercontent.com)|151.101.0.133|:443... connected.\n",
            "HTTP request sent, awaiting response... 200 OK\n",
            "Length: 3064 (3.0K) [text/plain]\n",
            "Saving to: ‘Fairmont.py’\n",
            "\n",
            "\rFairmont.py           0%[                    ]       0  --.-KB/s               \rFairmont.py         100%[===================>]   2.99K  --.-KB/s    in 0s      \n",
            "\n",
            "2020-05-18 23:10:43 (65.0 MB/s) - ‘Fairmont.py’ saved [3064/3064]\n",
            "\n"
          ],
          "name": "stdout"
        }
      ]
    },
    {
      "cell_type": "markdown",
      "metadata": {
        "id": "2SQpUtXCR5Xz",
        "colab_type": "text"
      },
      "source": [
        "# Task Definition\n",
        "\n",
        "The task for our group is broadly to conduct research and analysis on different mechanical sedimentation and sludge removal systems in order to determine the optimal design for the Fairmont Sedimentation Plant. This task was broken down into the following subcomponents:\n",
        "\n",
        "\n",
        "1.   to analyse the constraints that bind the sedimentation-sludge removal system\n",
        "2.   to determine the underlying physical principals that guide these constraints, \n",
        "3.   to assess different alternatives for design that arise from those constraints and physical principles, and lastly \n",
        "4.   to arrive at a final design proposal for the sedimentation system."
      ]
    },
    {
      "cell_type": "markdown",
      "metadata": {
        "id": "WoGtXtBGQZr5",
        "colab_type": "text"
      },
      "source": [
        "# Executive Summary \n",
        "\n",
        "As explained in the task definition above, there were several tasks that were be accomplished prior to determining the optimal design for the sedimentation and sludge removal system. Each of those steps will be summarized below in order to logically arrive at the the final design proposal.\n",
        "\n",
        "Firstly, there are several prominent constraints that must be taken into account. Below are some of those constraints and requirements:\n",
        "\n",
        "* Design flow rate must be achieved\n",
        "* The design must fit within the physical space allocated - the scope of work gives the sedimentation tanks a 510 foot by 250 foot area, for a total of 127500 $ft^2$.\n",
        "* An extra treatment train beyond the maximum flowrate is required to prevent system from going offline entirely during cleaning or in the event of a failure, and to accomodate extreme events above the design flow rate.\n",
        "\n",
        "* The number of sedimentation treatment trains must equal the number of flocculation treatment trains.\n",
        "\n",
        "[/Monroe/]: # (Perhaps, but you could have multiple sedimentation tanks per flocculator.)\n",
        "[/Justin/]: # (The thought here was the number of flocculation and sedimentation *treatment trains* needs to be equal, independent of the number of sedimentation tanks per traitment train.)\n",
        "\n",
        "* Walkways on top of sedimentation tanks are required for ease of maintenance\n",
        "* A minimum sludge removal rate must be achieved to prevent failure\n",
        "* The energy cost of running sludge removal system must not be unreasonable\n",
        "* There must be equal flow through sed tanks in each treatment train\n",
        "\n",
        "Next, the physics behind the unit process in question must be analysed. Here are a few of the physical parameters and ideas that will be explored in more depth in order to arrive at the proposed design.\n",
        "* Communicating with vendors regarding suggested designs\n",
        "* Determining influent and effluent flow paths for different plate settler designs\n",
        "* Determining dimensions of (and quantity of) the sedimentation tanks\n",
        "\n",
        "Using these guiding principles, as well as guidance from industry representatives, we arrived at a final design of 10 sedimentation basins (one redundant), with sluice gates to allow for each to be turned offline individually. Each of the ten basins will have 32 Muerer Research Inc (MRI) plate packages, as well as one single vaccuum sludge removal system. The sedimentation tanks will be alined in a two by five grid, with a single influent channel feeding them all from the center, and effluent channels on either side of the rows of five. In all, this will cost rougly on the order of \\$20 million for materials alone (roughly \\$40 thousand per MGD)."
      ]
    },
    {
      "cell_type": "markdown",
      "metadata": {
        "id": "IjuEDt2Z5xOM",
        "colab_type": "text"
      },
      "source": [
        "# Constraints\n",
        "\n",
        "* Relevant regulations\n",
        "* client expectations\n",
        "* site and budget\n",
        "* process capabilities including process design equations\n",
        "* ease of use \n",
        "* operation requirements\n",
        "* maintainence requirements\n",
        "\n",
        "\n",
        "## Design Flow Rate\n",
        "\n",
        "The first constraint for the design of the mechanical sedimentation-sludge system is that it must achiece the required design flow rate of the entire water treatment system. This flow rate is 465 MGD.\n",
        "\n",
        "## Extra Treatment Train\n",
        "\n",
        "The next constraint is that the system must have, at a minimum, an additional treatment train. This is a requirement because it ensures that the plant can still run at the desired flowrate while one treatment train is offline for maintenance; the remaining treatment trains must be able to support the entire design flow as well.\n",
        "\n",
        "[/Monroe/]: # (Clean up the previous paragraph to be consistent with the last sentence in the paragraph. The 2nd sentence is inconsistent with the last sentence.)\n",
        "[/Justin/]: # (Fixed!)\n",
        "\n",
        "\n",
        "## Water Quality\n",
        "\n",
        "Following the [Scope of Work](https://github.com/monroews/CEE4590/blob/master/LADWP/Fairmont%20Sedimentation%20Plant%20Scope%20of%20Work%20_FINAL%2006-01-17.pdf), the sedimentation tanks will be required to treat contaiminants in accordance with the parameters laid out in this table: \n",
        "\n",
        "![image](https://github.com/MWSteams/4590FSP/blob/master/Images/Sedimentation_Mechanical/water_qual.PNG?raw=true)\n",
        "\n",
        "Given that there is no filtration or additional treatment, all contaminant removal will occur within the sedimentation tank, making this a guiding constaint for the design.  Additionally, influent parameters may vary above the design parameter, so sedimentation tanks should be designed to account for this, if this is possible while meeting the other constraints.  \n",
        "\n",
        "\n",
        "\n",
        "## Surface Loading Rate\n",
        "\n",
        "As stated in the scope of work, the surface loading rate is set at 0.5 gallons per minute per square foot ($gpm/ft^2$) which equals 0.3395 $mm/s$.  This value is taken to be the required capture velocity of the sedimentation tank, and will be used accordingly in determining the necessary dimensions and quantities of the sedimentation tanks in the proposed design.\n",
        "\n",
        "[/Monroe/]: # (Convert this number to mm/s so that you can understand what it is. The nomenclature is terrible and your job is to figure out what this parameter is. You can figure this out! Do the math.)\n",
        "\n",
        "[/Aly/]: # (After some more thinking about this, I think in our case the surface loading rate might be basically the same as the capture velocity? this website {https://www.sciencedirect.com/topics/engineering/surface-loading-rate} describes surface loading rate as flowrate over area and says that particles that fall with a velocity greater than or equal to the surface loading rate will reach the bottom. To me this sounds the same as capture velocity: only particles settling at a velocity greater than or equal to the capture velocity will be captured. I put a couple images in here to kinda help myself understand. Seems like instead of Q/A for plate settlers it would be more like flowrate per channel over area of plate settler or something along those lines. If you rotate the first image {no plate settlers} at an angle you {kinda} get the second plate settlers.)\n",
        "\n",
        "\n",
        "\n",
        "[/Monroe/]: # (Aly, you got it! This surface loading rate is either exactly the more precisely defined capture velocity or it is the flow rate divided by the projected area of the plate settlers which is almost equal to the capture velocity. The capture velocity also takes into account the area of the bottom of the sed tank under the plate settlers. So take that insight and clean up this section of the report.)\n",
        "[/Justin/]: # (We've updated this section accordingly!)\n",
        "\n",
        "\n",
        "\n",
        "## Walkways\n",
        "As stated in the [Scope of Work](https://github.com/monroews/CEE4590/blob/master/LADWP/Fairmont%20Sedimentation%20Plant%20Scope%20of%20Work%20_FINAL%2006-01-17.pdf) section H.3.b, the design should accommodate walkways to allow for proper maintenance and routine operation. This includes the ability to walk directly on the plate settlers. This will constrain the material used for the plate settlers and may influence dimensional and product choices.  Walkways should also be designed to easily allow operators to view and make measurements of each unit process without strain.\n",
        "\n",
        "[/Monroe/]: # (Will it be possible to have walkways that are at the correct elevation for observing flocs rising in the sedimentation tanks?)\n",
        "[/Justin/]: # (What max elevation would this require, do you think? It's largeley dependent on which manufacturer we proceed with, but we can add a response to this dependent on that!)\n",
        "[/Monroe/]: # (The walkways should be lower than the water level in the tanks so that you can lean over and see the flocs coming up through the plate settlers.)\n",
        "[/Justin/]: # (Perfect, we will add this information for the vendor we proceed with)\n",
        "\n",
        "## Physical Space\n",
        "The overall design of the sedimentation tanks will depend on the space available. The space available for the sedimentation tanks may be a factor in determining the size of each sedimentation tank, determining the number of sedimentation tanks per treatment train and/or number of treatment trains, and in choosing a sludge removal product. \n",
        "\n",
        "The Scope of Work provides a proposed plan view of the plant. The available area for the sedimentation tanks is shown in the image below. The total area allocated to the sedimentation tanks is 510 ft. by 250 ft. If the walkways shown are not included in the total plan view area for the sedimentation tanks, each basin (square) shown below is 100 ft. by 100 ft. This gives a total area for just the sedimentation tanks to be 80000 square ft. However, some of this calculated area will be allocated to channels carrying both the influent and effluent; as such, the actual allowable area for the sedimdntation tanks will be lower than this estimate.\n",
        "![image](https://raw.githubusercontent.com/MWSteams/4590FSP/master/Images/Sedimentation_Mechanical/FSP_Sed_tank_plan_view.png)\n",
        "\n",
        "[/Monroe/]: # (What is the space allocated?)\n",
        "[/Aly/]: # (information given in SOW added above)\n",
        "[/Monroe/]: # (We don't yet know how much of the total sed area will be occupied by channels to bring water in and taking water back out again. Thus this total area is NOT available for plate settlers. I also didn't notice until now, but they clearly show 8 sed tanks.)\n",
        "[/Justin/]: # (Updated accordingly!)\n",
        "\n",
        "\n",
        "## Flocculation Treatment Trains\n",
        "The optimal number of flocculation treatment trains will influence the overall sedimentation tank designs because the number of treatment trains will set the flowrate per treatment train which affects the size of the sedimentation tanks and the number of them per train. However, in order to prevent a design that requires twice the design flow rate to meet the aforementioned redundancy requirement, 3 or more sedimentation tanks are recommended.\n",
        "\n",
        "[/Monroe/]: # (How do you know who sets the number of treatment trains? Here you state it is the flocculation team. Why?)\n",
        "[/Justin/]: # (Poor phrasing on our part—we were more saying that sedimentation, based on this cursory anaysis, really only requires a minimum of 2 treatment trains and isn't constrained much beyond that.)\n",
        "[/Monroe/]: # (But if you only have 2 sed tanks then you need to have a total capacity of double the max! )\n",
        "[/Justin/]: # (Added an additional sentence to address this!)\n",
        "\n",
        "## Equal Flow Through Sedimentation Tanks in each Treatment Train\n",
        "\n",
        "In order to provide optimal efficiency, it is important that each sedimentation tank receives it's design flowrate of water, and not more or less.  While this is primarily a focus for the hydraulics team, it will be an important constraint to consider during the design process.  Design will also need to account for the range of flowrates from a design max of $ 720 ft^3/s $ to an average design flowrate $ 320 ft^3/s $, and even lower amounts during drought periods.\n",
        "\n",
        "[/Monroe/]: # (What is the minimum flow that you must be able to treat? We need this number and I'm not sure what it is either!)\n",
        "[/Justin/]: # (We will determine this!)\n",
        "\n",
        "Additionally, it is important that water within each sedimentation tank is evenly distributed and is not preferentially flowing through one section.  This could cause reduced efficiency and allow the escape of flocs below the design capture velocity.\n",
        "\n",
        "## Enclosure of Unit Processes\n",
        "\n",
        "In order to provide optimal treatment throughout the unit processes, the team  recommends that all of the unit processes be covered with an enclosed structure with walls and a roof.  This will prevent two common failure modes for sedimentation tanks: density currents and wind effects.\n",
        "\n",
        "Density currents occur when influent water is significantly warmer or cooler than the water within the tank, or when water on top of the tank is heated by solar exposure.  Changes in temperature will change the density of the water, which will cause it to preferentially rise through the tank if density is lower, or sink if density is higher.  This will cause short-circuiting in the flow patterns and reduce efficiency of sedimentation.\n",
        "\n",
        "If sedimentation tanks are exposed to winds, currents and waves can form on the surface.  This can effect effluent quality by changing the water surface elevation, which will reduce the equalization of flow set by the effluent manifold.  Winds can also create flow circulation patterns on the top of sedimentation tanks which create underflow currents on the bottom of the tanks, reducing sludge capture efficiency (MWH, 2012).  Winds can also bring small particles like sand or dust into the effluent water, reducing water quality.\n",
        "\n",
        "In addition to these two things, enclosed walls will also improve the comfort for operators and improve the system's ease of use. For these reasons we suggest that construction of even a rudimentary enclosure will improve treatment efficiency and be worth the extra expenditure.\n",
        "\n",
        "[/Monroe/]: # (I can guarantee that airconditioning is not going to be considered in this design. Convincing them to consider walls and a roof will be a major challenge!)\n",
        "[/Justin/]: # (Do you think we should remove this section from the report entirely then?)\n",
        "[/Monroe/]: # (I wasn't clear. Convincing them to include walls and a roof will be difficult, AND we should try. All of our experiences in Central America support the idea that enclosing a water treatment plant is a water quality issue and an ease of use issue for the operators. This is a very important section and can be made even clearer. Failure to put a roof over this plant will result in higher effluent turbidty due to nonuniform heating of walls and water and this will result in poor performance during early afternoon hours.)\n",
        "[/Justin/]: # (We've updated this section, and added it to our design section!)\n",
        "\n",
        "## Accessibility and Maintenance \n",
        "\n",
        "One of the most important design criteria is to allow the entire plant to be easily accessible, so that operators can clearly monitor performance and perform maintenance and cleaning as necessary.  Some important considerations for this include:\n",
        "* Creating an entirely redundant treatment train so each train can be fully taken offline for maintenance\n",
        "* Building spacious walkways that allow easy access and viewing of sedimenation tank\n",
        "* Designing plate settlers that can dissassembled as necessary\n",
        "* Designing adequate space in the sludge collection system for operators to enter and clean as necessary\n",
        "* Occupation safety must be accounted for in design, construction, and operation\n",
        "* Ease of replacement of a sludge colleciton system must also be considered, as sludge collection can require frequent maintenance; as such, appropriate replacement parts should be stored on-site and the sludge system iteself must be sufficienty easy to replace that it would not take more than several work days \n",
        "\n",
        "[/Monroe/]: # (I like the idea of emphasizing access for cleaning because mechanical sludge collection systems are a maintenance problem. It would be good to require the ability to replace a sludge collection system in a few days and perhaps require that a complete set of replacement parts be kept onsite.)\n",
        "[/Justin/]: # (Added!)"
      ]
    },
    {
      "cell_type": "markdown",
      "metadata": {
        "id": "Jonv4dYSQghA",
        "colab_type": "text"
      },
      "source": [
        "\n",
        "\n",
        "# Physics\n",
        "\n",
        "[/Monroe/]: # (There are so many potential channels that I don't know what the Channel Fluid Velocity is referring to.)\n",
        "### Fluid Velocity Parallel to Plates\n",
        "Here, this velocity is defined as the velocity of the fluid in between the plate settlers parallel to the plate settlers. \n",
        "$$v_{f\\theta}=\\frac{Q}{Asin\\theta}$$\n",
        "<br>\n",
        "<center>\n",
        "$Q$ = flowrate of sedimentation tank <br>\n",
        "$A$ = plan view area <br>\n",
        "$\\theta$ = angle of plate settlers with horizontal <br>\n",
        "</center>\n",
        "\n",
        "### Capture Velocity\n",
        "[/Monroe/]: # (Fix the subscripted theta (or consider copying the code directly from the textbook so you don't have to type it in and make mistakes)\n",
        "\n",
        "[/Aly/]: # (I got this equation from the MWH textbook and that is the subsript they used. In te textbook it looks like this is denoted as v_alpha, is this what you'd like me to change it to? Or are you saying the theta shouldn't be a subscript? The equation uses the velocity described above, it doesn't have the angle actually in the numerator. I did notice though that it looks like in the AC textbook in table 17 here :https://aguaclara.github.io/Textbook/Sedimentation/Sed_Derivations.html?highlight=plate%20settler#equation-sedimentation-sed-derivations-9 if you rearrange the equation in the single TUBES column and v_alpha row you get what I have here and what MWH says but if you rarrange the equation in the multiple tubes/plates you would have 1/sin instead of sin in the denom. Am I misinterpretaing the table or should we update this equation?)\n",
        "\n",
        "$$v_{capture}=\\frac{v_{f\\theta}*d}{lcos\\theta+dsin\\theta}$$ \n",
        "<br>\n",
        "<center>\n",
        "$d$ = distance between plate settlers  <br>\n",
        "$l$ = length of plate settlers  <br>\n",
        "$\\theta$ = angle of plate settler from horizontal  \n",
        "</center>\n",
        "\n",
        "This equation will be used to choose the geometric parameters of the plate settlers ($d$, $l$, and $\\theta$) that will yield a capture velocity that is smaller than the terminal velocity of the smallest floc we want to capture. This will ensure that the flocs formed will be able to be captured by the sedimentation tanks. \n",
        "\n",
        "### Terminal Velocity of a Floc\n",
        "$$v_t = \\sqrt{\\frac{4}{3}\\frac{gD}{C_D}\\frac{(\\rho_{floc}-\\rho_{H_2O})}{\\rho_{H_2O}}}$$\n",
        "<br>\n",
        "<center>\n",
        "$v_t$ = particle terminal velocity <br>\n",
        "$g$ = acceleration due to gravity <br>\n",
        "$D$ = particle diameter <br>\n",
        "$C_D$ = drag coefficient <br>\n",
        "$\\rho_{H_2O}$ = density of water <br>\n",
        "$\\rho_{floc}$ = density of floc\n",
        "</center>\n",
        "\n",
        "Because the floc properties are currently unknown, the provided surface loading rate in the SOW will be taken to achieve the desired removal, capturing all particles with a certain desired terminal velocity.\n",
        "\n",
        "[/Monroe/]: # (Floc teams will not be able to tell you the floc properties because no one has a model for floc properties. I'm working on that now and it is a big project.)\n",
        "[/Justin/]: # (Adjusted the previous sentence to address this!)\n",
        "\n",
        "### Flow Equalization \n",
        "\n",
        "As mentioned above in the constraints section, the flow through (1) each of the sedimentation tanks within a treatment train, and (2) each of the plate and/or tube settlers within a sed tank must be equal. This ensures there are no preferential flow paths, and improves the overall performance of the design as such. Generally, this constraint can be expressed as an equality, as follows:\n",
        "\n",
        "$$Q_{sed, 1}=Q_{sed, 2}= ... =Q_{sed, n}$$\n",
        "$$Q_{plate, 1}=Q_{plate, 2}= ... =Q_{plate, m}$$\n",
        "\n",
        "\n",
        "Mechanisms for addressing flow equaliziation for our proposed design are addressed in more depth in the Design section!"
      ]
    },
    {
      "cell_type": "markdown",
      "metadata": {
        "id": "eujkPi4P9GDs",
        "colab_type": "text"
      },
      "source": [
        "# Table listing potential strategies to meet the constraints and treatment objectives\n",
        "\n",
        "\n",
        "| Strategy | Advantages  | Disadvantages | Data needed for decision |\n",
        "|---|---|---|---|\n",
        "| Match product availibility to ideal design | as close to ideal design as possible |  may be difficult to find products that match design,<br>may require reworking based on product availibility | theoretical values |\n",
        "| Design based on product availibility | design will incorporate real product specifications from the start | will not be able to achieve ideal design | real product specs |"
      ]
    },
    {
      "cell_type": "markdown",
      "metadata": {
        "id": "J9dPZVMbOka9",
        "colab_type": "text"
      },
      "source": [
        "# Vendors and contact information file\n",
        "\n",
        "See this [tab delimited spreadsheet](https://raw.githubusercontent.com/monroews/4590FSP/master/vendors.txt).\n",
        "\n",
        "Add rows to the vendor spreadsheet as you find them. The sheet can easily be edited in Excel. Just make sure to save it as a tab delimited sheet. Push your changes to github so the entire class has access to the document.\n",
        "\n"
      ]
    },
    {
      "cell_type": "code",
      "metadata": {
        "id": "l35d0BODlEsW",
        "colab_type": "code",
        "outputId": "c90df168-8657-44a5-fbed-9d96a5e0984f",
        "colab": {
          "base_uri": "https://localhost:8080/",
          "height": 488
        }
      },
      "source": [
        "vendors = pd.read_csv('https://raw.githubusercontent.com/monroews/4590FSP/master/vendors.txt',sep='\\t')\n",
        "vendors"
      ],
      "execution_count": 3,
      "outputs": [
        {
          "output_type": "error",
          "ename": "ParserError",
          "evalue": "ignored",
          "traceback": [
            "\u001b[0;31m---------------------------------------------------------------------------\u001b[0m",
            "\u001b[0;31mParserError\u001b[0m                               Traceback (most recent call last)",
            "\u001b[0;32m<ipython-input-3-fe539ff2e286>\u001b[0m in \u001b[0;36m<module>\u001b[0;34m()\u001b[0m\n\u001b[0;32m----> 1\u001b[0;31m \u001b[0mvendors\u001b[0m \u001b[0;34m=\u001b[0m \u001b[0mpd\u001b[0m\u001b[0;34m.\u001b[0m\u001b[0mread_csv\u001b[0m\u001b[0;34m(\u001b[0m\u001b[0;34m'https://raw.githubusercontent.com/monroews/4590FSP/master/vendors.txt'\u001b[0m\u001b[0;34m,\u001b[0m\u001b[0msep\u001b[0m\u001b[0;34m=\u001b[0m\u001b[0;34m'\\t'\u001b[0m\u001b[0;34m)\u001b[0m\u001b[0;34m\u001b[0m\u001b[0;34m\u001b[0m\u001b[0m\n\u001b[0m\u001b[1;32m      2\u001b[0m \u001b[0mvendors\u001b[0m\u001b[0;34m\u001b[0m\u001b[0;34m\u001b[0m\u001b[0m\n",
            "\u001b[0;32m/usr/local/lib/python3.6/dist-packages/pandas/io/parsers.py\u001b[0m in \u001b[0;36mparser_f\u001b[0;34m(filepath_or_buffer, sep, delimiter, header, names, index_col, usecols, squeeze, prefix, mangle_dupe_cols, dtype, engine, converters, true_values, false_values, skipinitialspace, skiprows, skipfooter, nrows, na_values, keep_default_na, na_filter, verbose, skip_blank_lines, parse_dates, infer_datetime_format, keep_date_col, date_parser, dayfirst, cache_dates, iterator, chunksize, compression, thousands, decimal, lineterminator, quotechar, quoting, doublequote, escapechar, comment, encoding, dialect, error_bad_lines, warn_bad_lines, delim_whitespace, low_memory, memory_map, float_precision)\u001b[0m\n\u001b[1;32m    674\u001b[0m         )\n\u001b[1;32m    675\u001b[0m \u001b[0;34m\u001b[0m\u001b[0m\n\u001b[0;32m--> 676\u001b[0;31m         \u001b[0;32mreturn\u001b[0m \u001b[0m_read\u001b[0m\u001b[0;34m(\u001b[0m\u001b[0mfilepath_or_buffer\u001b[0m\u001b[0;34m,\u001b[0m \u001b[0mkwds\u001b[0m\u001b[0;34m)\u001b[0m\u001b[0;34m\u001b[0m\u001b[0;34m\u001b[0m\u001b[0m\n\u001b[0m\u001b[1;32m    677\u001b[0m \u001b[0;34m\u001b[0m\u001b[0m\n\u001b[1;32m    678\u001b[0m     \u001b[0mparser_f\u001b[0m\u001b[0;34m.\u001b[0m\u001b[0m__name__\u001b[0m \u001b[0;34m=\u001b[0m \u001b[0mname\u001b[0m\u001b[0;34m\u001b[0m\u001b[0;34m\u001b[0m\u001b[0m\n",
            "\u001b[0;32m/usr/local/lib/python3.6/dist-packages/pandas/io/parsers.py\u001b[0m in \u001b[0;36m_read\u001b[0;34m(filepath_or_buffer, kwds)\u001b[0m\n\u001b[1;32m    452\u001b[0m \u001b[0;34m\u001b[0m\u001b[0m\n\u001b[1;32m    453\u001b[0m     \u001b[0;32mtry\u001b[0m\u001b[0;34m:\u001b[0m\u001b[0;34m\u001b[0m\u001b[0;34m\u001b[0m\u001b[0m\n\u001b[0;32m--> 454\u001b[0;31m         \u001b[0mdata\u001b[0m \u001b[0;34m=\u001b[0m \u001b[0mparser\u001b[0m\u001b[0;34m.\u001b[0m\u001b[0mread\u001b[0m\u001b[0;34m(\u001b[0m\u001b[0mnrows\u001b[0m\u001b[0;34m)\u001b[0m\u001b[0;34m\u001b[0m\u001b[0;34m\u001b[0m\u001b[0m\n\u001b[0m\u001b[1;32m    455\u001b[0m     \u001b[0;32mfinally\u001b[0m\u001b[0;34m:\u001b[0m\u001b[0;34m\u001b[0m\u001b[0;34m\u001b[0m\u001b[0m\n\u001b[1;32m    456\u001b[0m         \u001b[0mparser\u001b[0m\u001b[0;34m.\u001b[0m\u001b[0mclose\u001b[0m\u001b[0;34m(\u001b[0m\u001b[0;34m)\u001b[0m\u001b[0;34m\u001b[0m\u001b[0;34m\u001b[0m\u001b[0m\n",
            "\u001b[0;32m/usr/local/lib/python3.6/dist-packages/pandas/io/parsers.py\u001b[0m in \u001b[0;36mread\u001b[0;34m(self, nrows)\u001b[0m\n\u001b[1;32m   1131\u001b[0m     \u001b[0;32mdef\u001b[0m \u001b[0mread\u001b[0m\u001b[0;34m(\u001b[0m\u001b[0mself\u001b[0m\u001b[0;34m,\u001b[0m \u001b[0mnrows\u001b[0m\u001b[0;34m=\u001b[0m\u001b[0;32mNone\u001b[0m\u001b[0;34m)\u001b[0m\u001b[0;34m:\u001b[0m\u001b[0;34m\u001b[0m\u001b[0;34m\u001b[0m\u001b[0m\n\u001b[1;32m   1132\u001b[0m         \u001b[0mnrows\u001b[0m \u001b[0;34m=\u001b[0m \u001b[0m_validate_integer\u001b[0m\u001b[0;34m(\u001b[0m\u001b[0;34m\"nrows\"\u001b[0m\u001b[0;34m,\u001b[0m \u001b[0mnrows\u001b[0m\u001b[0;34m)\u001b[0m\u001b[0;34m\u001b[0m\u001b[0;34m\u001b[0m\u001b[0m\n\u001b[0;32m-> 1133\u001b[0;31m         \u001b[0mret\u001b[0m \u001b[0;34m=\u001b[0m \u001b[0mself\u001b[0m\u001b[0;34m.\u001b[0m\u001b[0m_engine\u001b[0m\u001b[0;34m.\u001b[0m\u001b[0mread\u001b[0m\u001b[0;34m(\u001b[0m\u001b[0mnrows\u001b[0m\u001b[0;34m)\u001b[0m\u001b[0;34m\u001b[0m\u001b[0;34m\u001b[0m\u001b[0m\n\u001b[0m\u001b[1;32m   1134\u001b[0m \u001b[0;34m\u001b[0m\u001b[0m\n\u001b[1;32m   1135\u001b[0m         \u001b[0;31m# May alter columns / col_dict\u001b[0m\u001b[0;34m\u001b[0m\u001b[0;34m\u001b[0m\u001b[0;34m\u001b[0m\u001b[0m\n",
            "\u001b[0;32m/usr/local/lib/python3.6/dist-packages/pandas/io/parsers.py\u001b[0m in \u001b[0;36mread\u001b[0;34m(self, nrows)\u001b[0m\n\u001b[1;32m   2035\u001b[0m     \u001b[0;32mdef\u001b[0m \u001b[0mread\u001b[0m\u001b[0;34m(\u001b[0m\u001b[0mself\u001b[0m\u001b[0;34m,\u001b[0m \u001b[0mnrows\u001b[0m\u001b[0;34m=\u001b[0m\u001b[0;32mNone\u001b[0m\u001b[0;34m)\u001b[0m\u001b[0;34m:\u001b[0m\u001b[0;34m\u001b[0m\u001b[0;34m\u001b[0m\u001b[0m\n\u001b[1;32m   2036\u001b[0m         \u001b[0;32mtry\u001b[0m\u001b[0;34m:\u001b[0m\u001b[0;34m\u001b[0m\u001b[0;34m\u001b[0m\u001b[0m\n\u001b[0;32m-> 2037\u001b[0;31m             \u001b[0mdata\u001b[0m \u001b[0;34m=\u001b[0m \u001b[0mself\u001b[0m\u001b[0;34m.\u001b[0m\u001b[0m_reader\u001b[0m\u001b[0;34m.\u001b[0m\u001b[0mread\u001b[0m\u001b[0;34m(\u001b[0m\u001b[0mnrows\u001b[0m\u001b[0;34m)\u001b[0m\u001b[0;34m\u001b[0m\u001b[0;34m\u001b[0m\u001b[0m\n\u001b[0m\u001b[1;32m   2038\u001b[0m         \u001b[0;32mexcept\u001b[0m \u001b[0mStopIteration\u001b[0m\u001b[0;34m:\u001b[0m\u001b[0;34m\u001b[0m\u001b[0;34m\u001b[0m\u001b[0m\n\u001b[1;32m   2039\u001b[0m             \u001b[0;32mif\u001b[0m \u001b[0mself\u001b[0m\u001b[0;34m.\u001b[0m\u001b[0m_first_chunk\u001b[0m\u001b[0;34m:\u001b[0m\u001b[0;34m\u001b[0m\u001b[0;34m\u001b[0m\u001b[0m\n",
            "\u001b[0;32mpandas/_libs/parsers.pyx\u001b[0m in \u001b[0;36mpandas._libs.parsers.TextReader.read\u001b[0;34m()\u001b[0m\n",
            "\u001b[0;32mpandas/_libs/parsers.pyx\u001b[0m in \u001b[0;36mpandas._libs.parsers.TextReader._read_low_memory\u001b[0;34m()\u001b[0m\n",
            "\u001b[0;32mpandas/_libs/parsers.pyx\u001b[0m in \u001b[0;36mpandas._libs.parsers.TextReader._read_rows\u001b[0;34m()\u001b[0m\n",
            "\u001b[0;32mpandas/_libs/parsers.pyx\u001b[0m in \u001b[0;36mpandas._libs.parsers.TextReader._tokenize_rows\u001b[0;34m()\u001b[0m\n",
            "\u001b[0;32mpandas/_libs/parsers.pyx\u001b[0m in \u001b[0;36mpandas._libs.parsers.raise_parser_error\u001b[0;34m()\u001b[0m\n",
            "\u001b[0;31mParserError\u001b[0m: Error tokenizing data. C error: Expected 9 fields in line 9, saw 10\n"
          ]
        }
      ]
    },
    {
      "cell_type": "markdown",
      "metadata": {
        "id": "-jwNKdrCOmux",
        "colab_type": "text"
      },
      "source": [
        "# Shared assumptions\n",
        "\n",
        "See this [python file, Fairmont.py](https://github.com/monroews/4590FSP/blob/master/Fairmont.py)\n",
        "\n",
        "Use this file to hold parameters that are in the SOW or elsewhere that\n",
        "influence the design of the entire plant. This provides an easy mechanism\n",
        "for all of us to share the same assumptions. Read the SOW to find sections that relate to your part of the design and enter all pertinent variables into [Fairmont.py](https://github.com/monroews/4590FSP/blob/master/Fairmont.py) and then push those changes to github.\n",
        "\n",
        "# Major Decisions\n",
        "\n",
        "### Capture Velocity and Floc Density\n",
        "\n",
        "Initially, the team worked to study more specifically the structure of the flocs that would be expected at the Fairmont plant.  By characterizing the density of these flocs, the design capture velocity could be altered to better capture these particles.  However, lacking either a strong model of floc formation with $FeCl_3$, or the ability to run experiments on floc formation, it is impossible to find a good estimate for this value.  Instead the team has decided to move forward with design using the given capture velocity (described as the surface loading rate in the scope of work) of 0.3395 mm/s.  There is still not clarity on how this number was determined.\n",
        "\n",
        "### Sludge Production Rate\n",
        "\n",
        "Similar to the problem of floc density, the team initially wanted to better characterize the sludge production rate within the reactors.  However, work by the residuals team verified that the value given in the scope of work, 144 wet tons per day, was a good estimate.  Without better data on peak turbidity events, this is the best estimate we can find for production.\n",
        "\n",
        "### Quantity and Size of Sedimentation Basins\n",
        "\n",
        "Another major decision is the size of each sedimentation basin, as well as the overall quantity of sedimentation basins. In deciding these values, first several other water treatment plants of comparable size were analyzed using Google Maps. Next, using the provided surface loading rate and available area, as well as the dimension ranges provided in the MWH Drinking Water Treatment Textbook, proposed dimensions were arrived on (roughly 30' by 110'), as well as a quantity of sedimentation tanks (7, and one redundant tank). \n",
        "\n",
        "### Design of Sedimentation Tank Inlets and Outlets\n",
        "\n",
        "Finally, the design of the sedimentation tank inlets and outlets is another major concern in finalizing the design of the sedimentation unit process. Currently, the team is in communication with MRI and Parkson to try to determine how their own in-place plate settler package units are able to direct and control flow both before and after entering the sedimentation basin. Once a clear explanation is recieved, the team will determine an appropriate design accordingly."
      ]
    },
    {
      "cell_type": "markdown",
      "metadata": {
        "id": "DXlB_I6ZOw2J",
        "colab_type": "text"
      },
      "source": [
        "# Design\n",
        "\n",
        "### Basin Dimensions and Layout\n",
        "First, in order to determine a feasible range for the dimensions of each individual sedimentation tank, the water treatment plants of several other major cities were analyzed. First, each of the cities’ municipal websites were located to determine the address of their largest treatment plant, then google maps was used to determine the dimensions of the sedimentation tanks if they were outside and therefore visible using satellite view. Using this method, the three following measurements were found:\n",
        "\n",
        "| Location | Design Flow Rate | Number of Sed Tanks | Dimensions of Sed Tanks |\n",
        "| -------- | ---------------- | ------------------- | ----------------------- |\n",
        "| Austin, TX | 50 MGD\t| 3 | 30’ by 110’ |\n",
        "| Houston, TX\t|\t80-160 MGD | 9 | 45’ by 230’ |\n",
        "| San Jose, CA | 100 MGD | 4 | 50’ by 215’|\n",
        "\n",
        "These values provided context for the proposed widths and lengths or the proposed design's sedimentation tanks. For reference, below is a sample Google Maps screenshot depicting the dimensions of the Austin, TX sedimentation basins:\n",
        "\n",
        "![image](https://raw.githubusercontent.com/MWSteams/4590FSP/master/Images/Sedimentation_Mechanical/Austin%2C%20TX%20Sed%20Tanks.png)\n",
        "\n",
        "Below is some preliminary code that calculates some of the most pertinent characteristics of the design of the sedimentation system. \n",
        "\n",
        "To do this, four basins (and two redundant basins) were decided upon using the go-bys provided for the project. Next, values for several geometric parameters were obtained by taking the average values provided in the parameters ranges in the MWH textbook—these values serve as stand-ins before we recieve more precise measurements from the vendor of choice. Using these figures, we were able to determine the energy usage, the surface loading rate, the length of the plate settlers, and the number of plate settlers per basin. Additionally, these measurements were used to calculate total plan view area required for the design."
      ]
    },
    {
      "cell_type": "code",
      "metadata": {
        "id": "IrwTrVM2hZqH",
        "colab_type": "code",
        "colab": {}
      },
      "source": [
        "print('The average flow to be treated at Fairmont is',fmt.q_ave.to(u.Mgal/u.day),'or')\n",
        "print('The maximum flow to be treated at Fairmont is',fmt.q_max.to(u.Mgal/u.day))\n",
        "specific_energy = (fmt.electricity_power/fmt.q_ave).to(u.J/u.L)\n",
        "temp = 15 * u.degC\n",
        "specific_potential_energy = (specific_energy / u.gravity / ac.density_water(temp)).to(u.m)\n",
        "print('The average amount of energy used per liter of water is expected to be',specific_energy,'or',specific_potential_energy,'of potential energy')\n",
        "\n",
        "surface_loading_rate = (0.5*u.gallon/u.min/u.ft**2).to(u.mm/u.s)\n",
        "print('The surface loading rate is', surface_loading_rate)\n"
      ],
      "execution_count": 0,
      "outputs": []
    },
    {
      "cell_type": "code",
      "metadata": {
        "id": "lOHosmhQsRzd",
        "colab_type": "code",
        "colab": {}
      },
      "source": [
        "surface_loading_rate = (0.5*u.gallon/u.min/u.ft**2).to(u.mm/u.s) #capture velocity for design\n",
        "number_of_redundant_basins = 1\n",
        "number_of_basins = (np.ceil((fmt.q_max.to(u.Mgal/u.day)/(55*u.Mgal/u.day)))).to(u.dimensionless)\n",
        "fraction_of_max_flow_per_basin = 1/(number_of_basins)\n",
        "flowrate_per_basin = fraction_of_max_flow_per_basin*fmt.q_max.to(u.Mgal/u.day)\n",
        "print('The plant will have', number_of_basins, 'sed tanks and', number_of_redundant_basins, 'redundant sed tank(s)')\n",
        "print('Each basin can treat up to', flowrate_per_basin)\n",
        "plate_length = (9.92*u.ft).to(u.m)\n",
        "needed_effective_plate_area = (flowrate_per_basin/surface_loading_rate).to(u.m**2)\n",
        "efficiency = 0.8\n",
        "projected_plate_area = needed_effective_plate_area/efficiency\n",
        "\n",
        "angle = (55*u.deg).to(u.rad)\n",
        "plate_width = (4.5*u.ft).to(u.m)\n",
        "plate_d = 2.25*u.inch\n",
        "projected_area_per_plate = plate_width*plate_length*np.cos(angle)\n",
        "plates_per_basin = projected_plate_area/projected_area_per_plate\n",
        "rows_per_basin = 8\n",
        "packs_per_row = 4\n",
        "packs_per_basin = rows_per_basin*packs_per_row\n",
        "plates_per_pack = plates_per_basin/packs_per_basin\n",
        "length_plate_pack = (plates_per_pack*2.25*u.inch+10*u.inch).to(u.m)\n",
        "flow_per_plate = flowrate_per_basin/plates_per_basin\n",
        "inside_trough_width = (3*u.ft).to(u.m)\n",
        "outside_trough_width = (2*u.ft).to(u.m)\n",
        "troughs_per_basin = 9\n",
        "basin_width = (plate_width*rows_per_basin+inside_trough_width*(troughs_per_basin-2)+outside_trough_width*2).to(u.m)\n",
        "basin_length = (length_plate_pack*packs_per_row+5*u.ft).to(u.m)\n",
        "basin_area = basin_width*basin_length #not sure if this is valid, looks like MRI adds space... probably for a reason\n",
        "print('The dimensions of one basin is', basin_width.to(u.m), 'x', basin_length.to(u.m))\n",
        "print('The plan view area of one basin is', basin_area)\n",
        "total_area = basin_area*(number_of_basins+number_of_redundant_basins)\n",
        "SOW_area = (510*250*u.ft**2).to(u.m**2)\n",
        "print('The total area allocated to the sed tanks in the SOW is', SOW_area)\n",
        "area_reduction_fraction = 1 - total_area/SOW_area \n",
        "area_reduction_amount = SOW_area-total_area\n",
        "print('We can reduce the total surface area needed by a fraction of',area_reduction_fraction, 'or by', area_reduction_amount)\n"
      ],
      "execution_count": 0,
      "outputs": []
    },
    {
      "cell_type": "code",
      "metadata": {
        "id": "r4bfH5ECyjwM",
        "colab_type": "code",
        "colab": {}
      },
      "source": [
        "v_upflow_alpha = flowrate_per_basin/(basin_area*np.sin(angle))\n",
        "#plate_length = (1/np.cos(angle)*(v_upflow_alpha*plate_d/surface_loading_rate-plate_d*np.sin(angle))).to(u.ft)\n",
        "#print(plate_length)"
      ],
      "execution_count": 0,
      "outputs": []
    },
    {
      "cell_type": "code",
      "metadata": {
        "id": "fJFzBw3Pyc4t",
        "colab_type": "code",
        "colab": {}
      },
      "source": [
        "plate_length = (9.92*u.ft).to(u.m)\n",
        "v_capture = (v_upflow_alpha*plate_d/(plate_length*np.cos(angle)+plate_d*np.sin(angle))).to(u.mm/u.s)\n",
        "depth = (plate_length*np.sin(angle)+7*u.ft).to(u.m) #Depth of plate settlers is 7.8 vertically.  Assume 6 feet space underneath for access to sludge collection area and 1 foot for support beams\n",
        "print('Depth is', depth)\n",
        "print(v_capture)\n",
        "print(plate_width.to(u.ft), length_plate_pack.to(u.ft))"
      ],
      "execution_count": 0,
      "outputs": []
    },
    {
      "cell_type": "markdown",
      "metadata": {
        "id": "UupZVGc2Lkde",
        "colab_type": "text"
      },
      "source": [
        "Per the above specifications, there will be 10 sedimentation basins. The basins will be laid out in a 2 x 5 grid, with the influent channel coming down the center and feeding into each of the basins. On the outer side of both rows, a channel will collect the clean effluent. At the entrance to each tank, an open channel sluice gate will be implemented to allow for each of the basins to be taken offline individually. Below is an image depicting this layout:\n",
        "\n",
        "![image](https://raw.githubusercontent.com/MWSteams/4590FSP/master/Images/Sedimentation_Mechanical/MechSed_System.png)\n",
        "\n",
        "Each of the 10 basins will have 8 rows of 4 plate packs each. Between each of the 8 rows is a trough for the clean effluent. Per manufacturer recommendations, the entrace to the sedimentation basin remains laregly open in order to allow the flow to flow and to help ensure proper flow equalization. For more information on this, see the flow equalization section below.\n",
        "\n",
        "![image](https://raw.githubusercontent.com/MWSteams/4590FSP/master/Images/Sedimentation_Mechanical/MechSed_Basin.png)\n"
      ]
    },
    {
      "cell_type": "markdown",
      "metadata": {
        "id": "pfrvSwpiNGKf",
        "colab_type": "text"
      },
      "source": [
        "### Residence Time\n",
        "\n",
        "Per the Ten States Standards, the residence time in the sedimentation tank is required to be 30 minutes or greater. Below, we compare our residence time to that value to ensure it meets the standard.\n",
        "\n",
        "[FIX CALC Below]"
      ]
    },
    {
      "cell_type": "code",
      "metadata": {
        "id": "TTYhGKShgSdS",
        "colab_type": "code",
        "colab": {}
      },
      "source": [
        "#Check residence time through sed tank\n",
        "#Typically 30 minutes following ten state standards\n",
        "\n",
        "depth_basin = 7.8 * u.ft + 6 * u.ft + 1 * u.ft \n",
        "residence_t =  depth * basin_area / flowrate_per_basin\n",
        "print('Sed tank residence time is', residence_t.to(u.min))"
      ],
      "execution_count": 0,
      "outputs": []
    },
    {
      "cell_type": "markdown",
      "metadata": {
        "id": "gNyWVqI2zsPl",
        "colab_type": "text"
      },
      "source": [
        "### Floc Roll-Up \n",
        "\n",
        "A primary concern for the design of sedimentation tanks is floc roll-up; if flocs do not settle out on the plates and then down onto the bottom of the sedimentation basin, then the effluent will be vastly worse in quality. Tom Grubb, Technical Sales Manager at MRI, states that for their design, an upflow velocity between the plates of less than 0.02 is required to ensure floc roll-up does not hinder performance. \n",
        "\n",
        "Below, we verify the velocity between the plates of our design. As is evident, our design meets the floc roll-up constraint!"
      ]
    },
    {
      "cell_type": "code",
      "metadata": {
        "id": "4WV_OrRBv9r3",
        "colab_type": "code",
        "colab": {}
      },
      "source": [
        "# Check average upflow velocity in bottom of tank\n",
        "# Constraint from MRI is upflow velocity must be less than 0.02 ft/s\n",
        "\n",
        "v_upflow_avg = flowrate_per_basin / basin_area\n",
        "v_upflow_alpha = v_upflow_avg / np.sin(angle)\n",
        "print(v_upflow_avg.to(u.mm/u.s))"
      ],
      "execution_count": 0,
      "outputs": []
    },
    {
      "cell_type": "markdown",
      "metadata": {
        "id": "xtIEqwwuL45N",
        "colab_type": "text"
      },
      "source": [
        "### Depth of Sedimentation Tanks\n",
        "\n",
        "Next, we analyzed the physics to investigate the possible dimensions further.  The plots below compare the length of the plate settlers, which is directly related to the depth of the tank, to the maximum upflow velocity possible while maintaining the design capture velocity.  This was determined with equation 421 from the AguaClara textbook:\n",
        "\n",
        "$\\bar v_c = \\frac{S \\bar v_{z_{Plate}}}{Lsin\\alpha cos\\alpha + S}$\n",
        "\n",
        "Analysis was done with the assumption of 2 inch spacing between plate settlers.  This value is still unclear and we are waiting to hear back from vendors on what the typical value is and why.  Decreasing spacing would further increase maximum upflow velocity and reduce plan view area."
      ]
    },
    {
      "cell_type": "code",
      "metadata": {
        "id": "Pqgg-Jf2L5dH",
        "colab_type": "code",
        "colab": {}
      },
      "source": [
        "#Plot length of plate settlers versus upflow velocity to get desired capture velocity\n",
        "#assume same assumptions as above, S = 2 in, angle = 60 deg\n",
        "#This can be edited with more specific info from vendors\n",
        "\n",
        "L = np.linspace(1,4,100) * u.m\n",
        "d_plate = 2.25*u.inch\n",
        "v_z = (surface_loading_rate*(L*np.sin(angle)*np.cos(angle)/d_plate)).to(u.mm/u.s)\n",
        "v_z_design = (surface_loading_rate*(plate_length*np.sin(angle)*np.cos(angle)/d_plate)).to(u.mm/u.s)\n",
        "plt.plot(L,v_z,'k',plate_length, v_z_design, 'bo')\n",
        "plt.plot(plate_length, v_z_design)\n",
        "plt.xlabel(\"Length of Plate Settlers (m)\")\n",
        "plt.ylabel(\"Upflow Velocity Below Plate Settlers (mm/s)\")\n",
        "plt.title(\"Maximum Upflow Velocity Under Plate Settlers with Design Capture Velocity of 0.33 mm/s\")"
      ],
      "execution_count": 0,
      "outputs": []
    },
    {
      "cell_type": "code",
      "metadata": {
        "id": "s-IFNq6bPrbA",
        "colab_type": "code",
        "colab": {}
      },
      "source": [
        "#Calculate Plan View Area Based On Upflow Velocity and Length of Plate Settlers\n",
        "A_plan = (fmt.q_max / v_z).to(u.m**2)\n",
        "plt.plot(L,A_plan)\n",
        "plt.xlabel(\"Length of Plate Settlers (m)\")\n",
        "plt.ylabel(\"Plan View Area (m^2)\")\n",
        "plt.title(\"Plan View Area versus Length of Plate Settlers with Design Capture Velocity of 0.33 mm/s\")"
      ],
      "execution_count": 0,
      "outputs": []
    },
    {
      "cell_type": "markdown",
      "metadata": {
        "id": "NMizg2dkgMyF",
        "colab_type": "text"
      },
      "source": [
        "The results show that longer plate settlers increase upflow velocity, and thus decrease plan view area and costs significantly.  However, there will also be an economic and design cost with making a deeper tank.  More work is needed on economic analysis to clarify this and find the breakpoint between depth and plan view area.  However, our assumption is that sedimentation tank depth is cheaper to increase than plan view area and thus plate settlers should be as long as possible meeting site and vendor requirements.  We also recommend that all available area in the sedimentation tanks should be filled with plate settlers, only leaving room for flow to enter from the bottom, and sludge to settle."
      ]
    },
    {
      "cell_type": "markdown",
      "metadata": {
        "id": "yG8QmlHrhwbJ",
        "colab_type": "text"
      },
      "source": [
        "### Upflow Velocity at Bottom of Sed Tank\n",
        "\n",
        "The maximum upflow velocity below the plate settlers is also constrained by the sludge falling at the bottom of the plate settlers.  Upflow velocities must be small enough to allow sludge to fall out of the plate settlers and to the bottom to be collected.  Horizontal velocities along the bottom space under the the plate settlers must also be low enough to prevent scouring or resuspension of settled sludge into the water.\n",
        "\n",
        "One possible approach to solving this issue is having flow enter the plate settlers horizontally before flowing upwards.  One example of this are the [MRI plate settlers](https://www.meurerresearch.com/sites/default/files/documents/2020-03/platesettler_singles1.pdf), which are demonstrated in [video](https://www.youtube.com/watch?v=OxYLOGqr10I).  This design includes two important solutions: it uses the helical flow diffuser the reduce velocity coming into the tank, and has entry ports on the side of the plate settlers horzontally (although we are skeptical that most flow enters through these ports and not the bottom of the sedimentation tank).  \n",
        "\n",
        "Without using a process like this, there is little guidance on what is the maximum velocity entering the plate settlers.  Table 10.6 in the MWH textbook (MWH, pg. 681) lists the maximum velocity through tube settlers as 2.5 mm/s, which is significantly smaller than even the shortest plate settler design.  Baed on the physics we would expect this value should be close to the capture velocity to allow the flocs to fall, but this would also required areas unfeasibly large.  The team is still working on quantifying this and creating a safe design.  The current plan is to talk with vendors, Tori, and Mickey about this design constraint.  "
      ]
    },
    {
      "cell_type": "markdown",
      "metadata": {
        "id": "82D7ZOmNTOZk",
        "colab_type": "text"
      },
      "source": [
        "### Flow Distribution Calculations\n",
        "\n",
        "For a large plant with many sed tanks each with many plate settlers, we want to ensure even flows through each part of the basin.  The main sources of headloss through the plate settlers are in the influent manifold, where water enters through an orifice, and the exit, where water flows into a manifold or trough to the next channel.  Headloss through the plate settlers is order $\\mu$m and thus neglibible.  \n",
        "\n",
        "Given that water will flow through the path with the lowest headloss, small changes in headloss through the influent or effluent mainfold can create uneven flow patterns.  To prevent this we create an additional source of headloss that is significantly larger than other losses.  Since other losses are orders of magnitude smaller, this headloss will drive the flow and divide the flow evenly at each source.  \n",
        "\n",
        "This headloss is usually accomplished either by designing the orifices on the effluent mainfold to create additional headloss, or by adding an additional orifice, often within the plate settlers, to create this headloss at the end of the flow path.  \n",
        "\n",
        "To ensure even flow distribution we use the following equation:\n",
        "$\\frac{\\bar v_{P}}{\\bar v_{M_1}} = \\sqrt{\\frac{\\Pi_{Q}^2 + 1}{2(1 - \\Pi_{Q}^2)}}$"
      ]
    },
    {
      "cell_type": "code",
      "metadata": {
        "id": "97-NOWzYPBT1",
        "colab_type": "code",
        "colab": {}
      },
      "source": [
        "def Ratio_Pipe_Manifold_V_Port_to_V_Man(Ratio_Flow):\n",
        "  return np.sqrt((Ratio_Flow**2 + 1)/(2*(1-Ratio_Flow**2)))\n",
        "\n",
        "design_ratio = Ratio_Pipe_Manifold_V_Port_to_V_Man(0.85)\n",
        "eff_vel = v_z * design_ratio\n",
        "plt.plot(v_z,eff_vel)\n",
        "plt.xlabel(\"Upflow Velocity under Plate Settlers (mm/s)\")\n",
        "plt.ylabel(\"Velocity Through Effluent Manifold (mm/s)\")\n",
        "plt.title(\"Design Effluent Velocity for Even Flow with Design Flow Ratio of 0.85\")\n"
      ],
      "execution_count": 0,
      "outputs": []
    },
    {
      "cell_type": "markdown",
      "metadata": {
        "id": "ctx-NO4kocMO",
        "colab_type": "text"
      },
      "source": [
        "This plot shows a comparison of the required velocity through an effluent mainfold at the top of the plate settlers versus the upflow velocity below the plate settlers.  This velocity could be set by an orifice created with the correct dimensions using the following equation:\n",
        "\n",
        "$ A_{port} = \\frac{Q}{n_{ports}*v_{port}} $\n",
        "\n",
        "\n",
        "A challenge of this approach is that headloss will change if flowrate varies as it is proportional to velocity^2.  One solution for this problem would be to carefully manage flow to each sedimentation tank and shut off unecessary tanks to ensure each runs at close to the maximum velocity always.  Another would be to decrease port velocity further and create more headloss, to ensure there is still optimal headloss at lower flowrates."
      ]
    },
    {
      "cell_type": "markdown",
      "metadata": {
        "id": "BK8Y46S_o5AW",
        "colab_type": "text"
      },
      "source": [
        "### Mechanical Sludge Removal System\n",
        "We decided to use MRI's Hoseless Cable-Vac™ sludge removal system. The outlet to each system can connect to the residual management equipment. The Hoseless Cable-Vac™ can remove 1.5%-2% solid concentration at a rate of 150 GPM. The estimated sludge production rate is 264.24 GPM (found by the Residuals team) which would result in 29.36 GPM per sedimentation tank. This is well under the capacity of the Hoseless Cable-Vac™. This sludge removal system also includes an operator friendly control system that allows duration, speed, frequency of operation, and more to be adjusted. The system can also be triggered by sludge depth, time, or signals from SCADA. This allows the sludge to be removed only when necessary which may reduce electricity costs and will ensure the sludge going to the residual management will not be overly diluted when the turbidity is low. Diluted sludge would make the residuals management a longer, harder, more expensive process so this is an important feature of the sludge removal system. \n",
        "  \n",
        "\n",
        "\n",
        "![image](https://github.com/MWSteams/4590FSP/blob/master/Images/Sedimentation_Mechanical/IMG_0067.jpg?raw=true)"
      ]
    },
    {
      "cell_type": "markdown",
      "metadata": {
        "id": "csaRzwOMY-WS",
        "colab_type": "text"
      },
      "source": [
        "### Economic Analysis\n",
        "\n",
        "In order to get a rough idea of the relative cost of the proposed design, a cursory economic analysis was conducted. This economic analysis is a model consisting of fixed and variable costs that go into the construction and continued operation of the sedimentation tanks at the FWSP. \n",
        "\n",
        "The fixed costs include:\n",
        "* Construction \n",
        " * Plate settler units\n",
        " * Sludge removal units\n",
        " * Concrete used in basin design\n",
        " * Land development costs\n",
        " * Transport and installation costs\n",
        "\n",
        "\n",
        " The variable costs include:\n",
        "* Operation costs\n",
        " * Chemical costs\n",
        " * Labor costs\n",
        " * Electricity costs\n",
        "* Maintenance/replacement costs\n",
        "\n",
        "Below is a model used to tabulate these two cost categories. For the sake of the model, chemical costs, variable labor costs, fixed labor costs, installation/transport costs, and land development costs will be withheld--the former two because they are not unique to the sedimentation unit process, and the latter two because they cannot be easily estimated and depend largely on the clients' preferences and relationships with outside firms. More explicity, the model includes: material costs (concrete, plate settler units, sludge removal units), electricity costs, and part replacement costs. \n",
        "\n",
        "In order to deveop the  model, the following assumptions were made:\n",
        "* The cost per plate settler unit and cost per sludge removal unit, as well as lifespan of the plate settlers, were all provided by Tom Grubb, Technical Sales Manager at MRI. \n",
        "* A plate settler unit is defined as a pre-desinged plate package per MRI's specificaitons (100 plates with the given widths and lengths provided in the sedimentation basin design section); a total of 352 units, wach with a cost of \\$50,000, are required. \n",
        "* A sludge removal unit is defined as a one package unit per MRI's specificaitons that handles sludge removal. The cost figures provided by Tom Grubb were \\$55,000 for a sedimentation basin with a length of less than 100 ft and a width less than 30 ft; \\$100,000 for a basin with a width up to 50 ft; and \\$150,000 for a basin width up to 90 ft.  \n",
        "* Lifespan of the sludge removal units was taken to be 50 years, in conjunction with the estimate for the plate settler units. We are waiting for more information from Tom Grubb on this value!\n",
        "* Concrete cost per was determined to be $300 per cubic yard, as outlined in the SOW. \n",
        "* Electricity cost used is for the greater Los Angeles area for the year 2019. This figure was sourced from the [Bureau of Labor Statistics](https://www.bls.gov/regions/west/news-release/2019/pdf/averageenergyprices_losangeles_20191113.pdf)\n",
        "* Thickness of basin walls was determined using vendor-provided engineering drawings for a similar project.\n",
        "* The cost per sluice gate was determined to be approximately \\$2500; this was done using the listed price provided by [Direct Pivot Parts](https://directpivotparts.com/products/X-Gate-Flat-Back-Frame-36-x-96); additional designs and cost estimates for open channel sluice gates do not have prices readily accesible online.\n",
        "* Until a more accurate estimate of electricity use is provided by MRI, a stand-in value of 100 kWh per day is being used; we are waiting on a more accurate figure from Tom Grubb!"
      ]
    },
    {
      "cell_type": "code",
      "metadata": {
        "id": "n8_gWNyxY9so",
        "colab_type": "code",
        "colab": {}
      },
      "source": [
        "# fixed costs\n",
        "n_plate_units = packs_per_basin*number_of_basins\n",
        "cost_plate_unit = 50000 * u.USD\n",
        "cost_plates = n_plate_units*cost_plate_unit\n",
        "\n",
        "n_sludge_units = number_of_basins\n",
        "if basin_width.to(u.ft).magnitude<=30:\n",
        "  cost_sludge_unit = 55000 * u.USD\n",
        "elif basin_width.to(u.ft).magnitude<=60:\n",
        "  cost_sludge_unit = 100000 * u.USD\n",
        "else:\n",
        "  cost_sludge_unit = 150000 * u.USD\n",
        "cost_sludge = n_sludge_units*cost_sludge_unit\n",
        "\n",
        "n_gates = number_of_basins\n",
        "cost_per_gate = 2500*u.USD\n",
        "cost_gates = n_gates * cost_per_gate\n",
        "\n",
        "conc_cost_per_vol = 300*u.USD/u.yard**3\n",
        "basin_t = 3*u.ft \n",
        "conc_vol_per_basin = (2*basin_length + 2*basin_width + 4*basin_t)*depth*basin_t\n",
        "conc_vol = conc_vol_per_basin * number_of_basins\n",
        "conc_cost = conc_vol * conc_cost_per_vol\n",
        "\n",
        "tot_fixed_cost = conc_cost + cost_sludge + cost_plates + cost_gates\n",
        "print(\"The total fixed cost is\", tot_fixed_cost.to(u.MUSD))\n",
        "\n",
        "# variable costs\n",
        "elec_cost_per_unit = 0.19*u.USD/u.kWh\n",
        "elec_usage = 100*u.kWh/u.day\n",
        "elec_cost = (elec_cost_per_unit*elec_usage).to(u.USD/u.day)\n",
        "\n",
        "lifespan = 50*u.year\n",
        "maintenance_costs = ((cost_sludge + cost_plates)/lifespan).to(u.USD/u.day)\n",
        "\n",
        "tot_var_cost = elec_cost + maintenance_costs\n",
        "print(\"The total variable cost is\", tot_var_cost.to(u.USD/u.day))"
      ],
      "execution_count": 0,
      "outputs": []
    },
    {
      "cell_type": "markdown",
      "metadata": {
        "id": "dlkhyzNkimjL",
        "colab_type": "text"
      },
      "source": [
        "From this cursory analysis, we can see the fixed cost of the proposed design will be on the order of \\$17.2 million, and the variable cost will be on the order of \\$880/day. For the fixed costs, this equates to roughly \\$37,000 per MGD. These numbers should be used as a rough estimate to compare with the proposed hydraulic sedimentation design!\n",
        "\n",
        "However, it's important to highlight again the limitations of this model. It does not take into account land development costs, transportation and installation costs, labor costs, and chemical costs. Furthermore, while the assumptions hold for this rough cost estimate, they should not be used in determining an actual project budget; for example, the lifespan of a sludge removal system is likely a lot smaller than 50 years, as was anecdotally shared by Mickey and Tori! "
      ]
    },
    {
      "cell_type": "markdown",
      "metadata": {
        "id": "nJnuQzTCgNNw",
        "colab_type": "text"
      },
      "source": [
        "### Enclosure of the FWSP\n",
        "\n",
        "An additional final consideration for our design is the full enclosure of the FWSP. As outlined in the constraints section of this Basis of Design Report, the enclosure of the FWSP will (1) prevent issues with density currents negatively impacting effluent water quality, (2) prevent wind waves and undertow currents from forming on top of sedimentation tanks (3) improve comfort for the operators and ease of use of the plant itself. For these reasons, we propose that the sedimentation unit process, as well as the entire treatment plant, be fully enclosed."
      ]
    },
    {
      "cell_type": "markdown",
      "metadata": {
        "id": "JTwh4RgH1oQi",
        "colab_type": "text"
      },
      "source": [
        "Monroe's reflections\n",
        "I'm interested in seeing what you find about maximum velocity beneath the plate settlers and how that influences the dimensions of the sed tanks.\n",
        "I'd suggest only having one redundant sed tank.\n",
        "See if 8 sed tanks is viable given that they drew that many in the SOW.\n",
        "\n",
        "[/Aly/]: # (If you were wondering, an email came in late Tues. night from MRI that said 0.02 ft/s for this. We actually got a decent amount of info from them this time around so we will hopefully be adding a lit of it into our design for the next draft!)"
      ]
    },
    {
      "cell_type": "markdown",
      "metadata": {
        "id": "VtcQMiACtb5i",
        "colab_type": "text"
      },
      "source": [
        "### Design Appendix\n",
        "\n",
        "Included below are additional design considerations which were ultimately not relevant to the design due to the constraints set by the vendor and "
      ]
    }
  ]
}