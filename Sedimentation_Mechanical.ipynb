{
  "nbformat": 4,
  "nbformat_minor": 0,
  "metadata": {
    "colab": {
      "name": "Sedimentation_Mechanical.ipynb",
      "provenance": [],
      "collapsed_sections": [],
      "include_colab_link": true
    },
    "kernelspec": {
      "name": "python3",
      "display_name": "Python 3"
    }
  },
  "cells": [
    {
      "cell_type": "markdown",
      "metadata": {
        "id": "view-in-github",
        "colab_type": "text"
      },
      "source": [
        "<a href=\"https://colab.research.google.com/github/MWSteams/4590FSP/blob/master/Sedimentation_Mechanical.ipynb\" target=\"_parent\"><img src=\"https://colab.research.google.com/assets/colab-badge.svg\" alt=\"Open In Colab\"/></a>"
      ]
    },
    {
      "cell_type": "markdown",
      "metadata": {
        "id": "lZNgRSu1Uj8D",
        "colab_type": "text"
      },
      "source": [
        "# Sedimentation Mechanical\n",
        "\n",
        "Authors: Justin Conneely, Ian Cullings, Alycia Storch, Brenda Solorzano\n",
        "\n",
        "[/Monroe/]: # (Well done! Try to find designs for other large scale wtps to see how big the sedimentation tanks are. The MWH textbook might have guidance on constraints for sizes of sed tanks too. If you discover parameters where there is no clear optimum, consider creating a graph that illustrates how the design changes as that parameter changes. For example, you might find that the depth of the sed tank has to increase as the length of the sed tank increases.)\n",
        "[/Justin/]: # (We will try all these things!)"
      ]
    },
    {
      "cell_type": "code",
      "metadata": {
        "id": "QjwM4ovYUokZ",
        "colab_type": "code",
        "outputId": "c6c48293-46c9-45dc-dc35-07dc94cb38c8",
        "colab": {
          "base_uri": "https://localhost:8080/",
          "height": 272
        }
      },
      "source": [
        "!pip install aguaclara\n",
        "!pip install molmass"
      ],
      "execution_count": 40,
      "outputs": [
        {
          "output_type": "stream",
          "text": [
            "Requirement already satisfied: aguaclara in /usr/local/lib/python3.6/dist-packages (0.2.1)\n",
            "Requirement already satisfied: scipy in /usr/local/lib/python3.6/dist-packages (from aguaclara) (1.4.1)\n",
            "Requirement already satisfied: pandas in /usr/local/lib/python3.6/dist-packages (from aguaclara) (1.0.3)\n",
            "Requirement already satisfied: urllib3 in /usr/local/lib/python3.6/dist-packages (from aguaclara) (1.24.3)\n",
            "Requirement already satisfied: pint==0.8.1 in /usr/local/lib/python3.6/dist-packages (from aguaclara) (0.8.1)\n",
            "Requirement already satisfied: matplotlib in /usr/local/lib/python3.6/dist-packages (from aguaclara) (3.2.1)\n",
            "Requirement already satisfied: numpy>=1.13.3 in /usr/local/lib/python3.6/dist-packages (from scipy->aguaclara) (1.18.4)\n",
            "Requirement already satisfied: python-dateutil>=2.6.1 in /usr/local/lib/python3.6/dist-packages (from pandas->aguaclara) (2.8.1)\n",
            "Requirement already satisfied: pytz>=2017.2 in /usr/local/lib/python3.6/dist-packages (from pandas->aguaclara) (2018.9)\n",
            "Requirement already satisfied: kiwisolver>=1.0.1 in /usr/local/lib/python3.6/dist-packages (from matplotlib->aguaclara) (1.2.0)\n",
            "Requirement already satisfied: pyparsing!=2.0.4,!=2.1.2,!=2.1.6,>=2.0.1 in /usr/local/lib/python3.6/dist-packages (from matplotlib->aguaclara) (2.4.7)\n",
            "Requirement already satisfied: cycler>=0.10 in /usr/local/lib/python3.6/dist-packages (from matplotlib->aguaclara) (0.10.0)\n",
            "Requirement already satisfied: six>=1.5 in /usr/local/lib/python3.6/dist-packages (from python-dateutil>=2.6.1->pandas->aguaclara) (1.12.0)\n",
            "Requirement already satisfied: molmass in /usr/local/lib/python3.6/dist-packages (2020.1.1)\n"
          ],
          "name": "stdout"
        }
      ]
    },
    {
      "cell_type": "code",
      "metadata": {
        "id": "ttJT8q_wYhAV",
        "colab_type": "code",
        "outputId": "3ccaba16-8b42-4788-d9d8-808c88e3be22",
        "colab": {
          "base_uri": "https://localhost:8080/",
          "height": 222
        }
      },
      "source": [
        "from aguaclara.core.units import unit_registry as u\n",
        "import aguaclara as ac\n",
        "import matplotlib.pyplot as plt\n",
        "import numpy as np\n",
        "import pandas as pd\n",
        "import molmass as mol\n",
        "!wget https://raw.githubusercontent.com/monroews/4590FSP/master/Fairmont.py\n",
        "import Fairmont as fmt"
      ],
      "execution_count": 41,
      "outputs": [
        {
          "output_type": "stream",
          "text": [
            "--2020-05-19 03:13:20--  https://raw.githubusercontent.com/monroews/4590FSP/master/Fairmont.py\n",
            "Resolving raw.githubusercontent.com (raw.githubusercontent.com)... 151.101.0.133, 151.101.64.133, 151.101.128.133, ...\n",
            "Connecting to raw.githubusercontent.com (raw.githubusercontent.com)|151.101.0.133|:443... connected.\n",
            "HTTP request sent, awaiting response... 200 OK\n",
            "Length: 3064 (3.0K) [text/plain]\n",
            "Saving to: ‘Fairmont.py.2’\n",
            "\n",
            "\rFairmont.py.2         0%[                    ]       0  --.-KB/s               \rFairmont.py.2       100%[===================>]   2.99K  --.-KB/s    in 0s      \n",
            "\n",
            "2020-05-19 03:13:20 (65.4 MB/s) - ‘Fairmont.py.2’ saved [3064/3064]\n",
            "\n"
          ],
          "name": "stdout"
        }
      ]
    },
    {
      "cell_type": "markdown",
      "metadata": {
        "id": "2SQpUtXCR5Xz",
        "colab_type": "text"
      },
      "source": [
        "# Task Definition\n",
        "\n",
        "The task for our group is broadly to conduct research and analysis on different mechanical sedimentation and sludge removal systems in order to determine the optimal design for the Fairmont Sedimentation Plant. This task was broken down into the following subcomponents:\n",
        "\n",
        "\n",
        "1.   to analyse the constraints that bind the sedimentation-sludge removal system\n",
        "2.   to determine the underlying physical principals that guide these constraints, \n",
        "3.   to assess different alternatives for design that arise from those constraints and physical principles, and lastly \n",
        "4.   to arrive at a final design proposal for the sedimentation system."
      ]
    },
    {
      "cell_type": "markdown",
      "metadata": {
        "id": "WoGtXtBGQZr5",
        "colab_type": "text"
      },
      "source": [
        "# Executive Summary \n",
        "\n",
        "As explained in the task definition above, there were several tasks that were be accomplished prior to determining the optimal design for the sedimentation and sludge removal system. Each of those steps will be summarized below in order to logically arrive at the the final design proposal.\n",
        "\n",
        "Firstly, there are several prominent constraints that must be taken into account. Below are some of those constraints and requirements:\n",
        "\n",
        "* Design flow rate must be achieved\n",
        "* The design must fit within the physical space allocated - the scope of work gives the sedimentation tanks a 510 foot by 250 foot area, for a total of 127500 $ft^2$.\n",
        "* An extra treatment train beyond the maximum flowrate is required to prevent system from going offline entirely during cleaning or in the event of a failure, and to accomodate extreme events above the design flow rate.\n",
        "\n",
        "* The number of sedimentation treatment trains must equal the number of flocculation treatment trains.\n",
        "\n",
        "[/Monroe/]: # (Perhaps, but you could have multiple sedimentation tanks per flocculator.)\n",
        "[/Justin/]: # (The thought here was the number of flocculation and sedimentation *treatment trains* needs to be equal, independent of the number of sedimentation tanks per traitment train.)\n",
        "\n",
        "* Walkways on top of sedimentation tanks are required for ease of maintenance\n",
        "* A minimum sludge removal rate must be achieved to prevent failure\n",
        "* The energy cost of running sludge removal system must not be unreasonable\n",
        "* There must be equal flow through sed tanks in each treatment train\n",
        "\n",
        "Next, the physics behind the unit process in question must be analysed. Here are a few of the physical parameters and ideas that will be explored in more depth in order to arrive at the proposed design.\n",
        "* Communicating with vendors regarding suggested designs\n",
        "* Determining influent and effluent flow paths for different plate settler designs\n",
        "* Determining dimensions of (and quantity of) the sedimentation tanks\n",
        "\n",
        "Using these guiding principles, as well as guidance from industry representatives, we arrived at a final design of 10 sedimentation basins (one redundant), with sluice gates to allow for each to be turned offline individually. Each of the ten basins will have 32 Muerer Research Inc (MRI) plate packages, as well as one single vaccuum sludge removal system. The sedimentation tanks will be aligned in a two by five grid, with a single influent channel feeding them all from the center, and effluent channels on either side of the rows of five. In all, this will cost rougly on the order of \\\\$20 million for materials alone, or roughly \\\\$40 thousand per MGD."
      ]
    },
    {
      "cell_type": "markdown",
      "metadata": {
        "id": "IjuEDt2Z5xOM",
        "colab_type": "text"
      },
      "source": [
        "# Constraints\n",
        "\n",
        "* Relevant regulations\n",
        "* client expectations\n",
        "* site and budget\n",
        "* process capabilities including process design equations\n",
        "* ease of use \n",
        "* operation requirements\n",
        "* maintainence requirements\n",
        "\n",
        "\n",
        "## Design Flow Rate\n",
        "\n",
        "The first constraint for the design of the mechanical sedimentation-sludge system is that it must achiece the required design flow rate of the entire water treatment system. This flow rate is 465 MGD.\n",
        "\n",
        "## Extra Treatment Train\n",
        "\n",
        "The next constraint is that the system must have, at a minimum, an additional treatment train. This is a requirement because it ensures that the plant can still run at the desired flowrate while one treatment train is offline for maintenance; the remaining treatment trains must be able to support the entire design flow as well.\n",
        "\n",
        "\n",
        "## Water Quality\n",
        "\n",
        "Following the [Scope of Work](https://github.com/monroews/CEE4590/blob/master/LADWP/Fairmont%20Sedimentation%20Plant%20Scope%20of%20Work%20_FINAL%2006-01-17.pdf), the sedimentation tanks will be required to treat contaiminants in accordance with the parameters laid out in this table: \n",
        "\n",
        "![image](https://github.com/MWSteams/4590FSP/blob/master/Images/Sedimentation_Mechanical/water_qual.PNG?raw=true)\n",
        "\n",
        "Given that there is no filtration or additional treatment, all contaminant removal will occur within the sedimentation tank, making this a guiding constaint for the design.  Additionally, influent parameters may vary above the design parameter, so sedimentation tanks should be designed to account for this, if this is possible while meeting the other constraints.  \n",
        "\n",
        "\n",
        "## Surface Loading Rate\n",
        "\n",
        "As stated in the scope of work, the surface loading rate is set at 0.5 gallons per minute per square foot ($gpm/ft^2$) which equals $0.3395 mm/s$.  This value is taken to be the flow rate of a basin divided by the projected area of the plate settlers.  This is a critical design factor that is used to determine the necessary dimensions and quantities of the sedimentation tanks in the proposed design.\n",
        "\n",
        "## Walkways\n",
        "As stated in the [Scope of Work](https://github.com/monroews/CEE4590/blob/master/LADWP/Fairmont%20Sedimentation%20Plant%20Scope%20of%20Work%20_FINAL%2006-01-17.pdf) section H.3.b, the design should accommodate walkways to allow for proper maintenance and routine operation. This includes the ability to walk directly on the plate settlers. This will constrain the material used for the plate settlers and may influence dimensional and product choices.  Walkways should also be designed to easily allow operators to view and make measurements of each unit process without strain.\n",
        "\n",
        "## Physical Space\n",
        "The overall design of the sedimentation tanks will depend on the space available. The space available for the sedimentation tanks may be a factor in determining the size of each sedimentation tank, determining the number of sedimentation tanks per treatment train and/or number of treatment trains, and in choosing a sludge removal product. \n",
        "\n",
        "The Scope of Work provides a proposed plan view of the plant. The available area for the sedimentation tanks is shown in the image below. The total area allocated to the sedimentation tanks is 510 ft. by 250 ft. If the walkways shown are not included in the total plan view area for the sedimentation tanks, each basin (square) shown below is 100 ft. by 100 ft. This gives a total area for just the sedimentation tanks to be 80000 square ft. However, some of this calculated area will be allocated to channels carrying both the influent and effluent; as such, the actual allowable area for the sedimdntation tanks will be lower than this estimate.\n",
        "![image](https://raw.githubusercontent.com/MWSteams/4590FSP/master/Images/Sedimentation_Mechanical/FSP_Sed_tank_plan_view.png)\n",
        "\n",
        "## Equal Flow Through Sedimentation Tanks in each Treatment Train\n",
        "\n",
        "In order to provide optimal efficiency, it is important that each sedimentation tank receives it's design flowrate of water, and not more or less.  While this is primarily a focus for the hydraulics team, it will be an important constraint to consider during the design process.  Design will also need to account for the range of flowrates from a design max of $ 720 ft^3/s $ to an average design flowrate $ 320 ft^3/s $, and even lower amounts during drought periods.\n",
        "\n",
        "Additionally, it is important that water within each sedimentation tank is evenly distributed and is not preferentially flowing through one section.  This could cause reduced efficiency and allow the escape of flocs below the design capture velocity.\n",
        "\n",
        "## Enclosure of Unit Processes\n",
        "\n",
        "In order to provide optimal treatment throughout the unit processes, the team  recommends that all of the unit processes be covered with an enclosed structure with walls and a roof.  This will prevent two common failure modes for sedimentation tanks: density currents and wind effects.\n",
        "\n",
        "Density currents occur when influent water is significantly warmer or cooler than the water within the tank, or when water on top of the tank is heated by solar exposure.  Changes in temperature will change the density of the water, which will cause it to preferentially rise through the tank if density is lower, or sink if density is higher.  This will cause short-circuiting in the flow patterns and reduce efficiency of sedimentation.\n",
        "\n",
        "If sedimentation tanks are exposed to winds, currents and waves can form on the surface.  This can effect effluent quality by changing the water surface elevation, which will reduce the equalization of flow set by the effluent manifold.  Winds can also create flow circulation patterns on the top of sedimentation tanks which create underflow currents on the bottom of the tanks, reducing sludge capture efficiency (MWH, 2012).  Winds can also bring small particles like sand or dust into the effluent water, reducing water quality.\n",
        "\n",
        "In addition to these two things, enclosed walls will also improve the comfort for operators and improve the system's ease of use. For these reasons we suggest that construction of even a rudimentary enclosure will improve treatment efficiency and be worth the extra expenditure.\n",
        "\n",
        "## Accessibility and Maintenance \n",
        "\n",
        "One of the most important design criteria is to allow the entire plant to be easily accessible, so that operators can clearly monitor performance and perform maintenance and cleaning as necessary.  Some important considerations for this include:\n",
        "* Creating an entirely redundant treatment train so each train can be fully taken offline for maintenance\n",
        "* Building spacious walkways that allow easy access and viewing of sedimenation tank\n",
        "* Designing plate settlers that can dissassembled as necessary for cleaning or replacement\n",
        "* Designing adequate space in the sludge collection system for operators to enter and clean as necessary\n",
        "* Occupation safety must be accounted for in design, construction, and operation\n",
        "* Ease of replacement of a sludge colleciton system must also be considered, as sludge collection can require frequent maintenance; as such, appropriate replacement parts should be stored on-site and the sludge system iteself must be sufficienty easy to replace that it would not take more than several work days \n",
        "\n"
      ]
    },
    {
      "cell_type": "markdown",
      "metadata": {
        "id": "Jonv4dYSQghA",
        "colab_type": "text"
      },
      "source": [
        "\n",
        "\n",
        "# Physics\n",
        "\n",
        "This section lays out the physical equations used in our design process.\n",
        "\n",
        "### Surface Loading Rate\n",
        "The surface loading rate (SLR) is defined here as:\n",
        "$$SLR = \\frac{Q}{a_{effective}}$$\n",
        "<br>\n",
        "<center>\n",
        "$Q$ = flowrate of sedimentation tank <br>\n",
        "$a_{effective}$ = effective projected area of plate settlers in tank <br>\n",
        "</center>\n",
        "\n",
        "The efficiency of the plate settlers relates the effective projected area of the plates to the actual projected area. \n",
        "$$a_{effective}=a_{actual}\\cdot \\eta$$\n",
        "$$a_{actual}=N \\cdot l\\cdot w\\cdot cos(\\alpha)$$\n",
        "<br>\n",
        "<center>\n",
        "$a_{actual}$ = actual total projected area of all plate settlers in tank  <br>\n",
        "$N$ = number of plate settlers in sedimentation tank <br>\n",
        "$l$ = length of plate settler <br>\n",
        "$w$ = width of plate settler <br>\n",
        "$\\alpha$ = angle of plate settlers with horizontal <br>\n",
        "</center>\n",
        "\n",
        "[/Monroe/]: # (There are so many potential channels that I don't know what the Channel Fluid Velocity is referring to.)\n",
        "### Fluid Velocity Parallel to Plates\n",
        "Here, this velocity is defined as the velocity of the fluid in between the plate settlers parallel to the plate settlers. \n",
        "$$v_{\\alpha}=\\frac{Q}{Asin\\alpha}$$\n",
        "<br>\n",
        "<center>\n",
        "$A$ = plan view area <br>\n",
        "</center>\n",
        "\n",
        "### Capture Velocity\n",
        "\n",
        "$$v_{capture}=\\frac{v_{\\alpha} \\cdot d}{lcos\\alpha+dsin\\alpha}$$ \n",
        "<br>\n",
        "<center>\n",
        "$d$ = distance between plate settlers  <br> \n",
        "</center>\n",
        "\n",
        "This equation gives the settling velocity of the slowest settling floc that will be captured by the sedimentation tank. While the floc characteristics are not determined here since the surface loading rate was given, finding the settling velocities of the flocs and comparing them to or using them to find the capture velocity was likely a step in the process of determining an ideal surface loading rate. Finding the desired capture velocity is a parameter other than surface loading rate that could be used to determine the geometry of the plate settlers. \n",
        "\n",
        "### Terminal Velocity of a Floc\n",
        "$$v_t = \\sqrt{\\frac{4}{3}\\frac{gD}{C_D}\\frac{(\\rho_{floc}-\\rho_{H_2O})}{\\rho_{H_2O}}}$$\n",
        "<br>\n",
        "<center>\n",
        "$v_t$ = particle terminal velocity <br>\n",
        "$g$ = acceleration due to gravity <br>\n",
        "$D$ = particle diameter <br>\n",
        "$C_D$ = drag coefficient <br>\n",
        "$\\rho_{H_2O}$ = density of water <br>\n",
        "$\\rho_{floc}$ = density of floc\n",
        "</center>\n",
        "\n",
        "The provided surface loading rate in the SOW will be taken to achieve the desired removal, capturing all particles with a certain desired terminal velocity. However, as stated above the terminal velocity of the flocs are a factor that could be used to determine the plate settler geometry had the surface loading rate not been provided. \n",
        "\n",
        "[/Monroe/]: # (Floc teams will not be able to tell you the floc properties because no one has a model for floc properties. I'm working on that now and it is a big project.)\n",
        "[/Justin/]: # (Adjusted the previous sentence to address this!)\n",
        "\n",
        "### Flow Equalization \n",
        "\n",
        "As mentioned above in the constraints section, the flow through (1) each of the sedimentation tanks within a treatment train, and (2) each of the plate and/or tube settlers within a sed tank must be equal. This ensures there are no preferential flow paths, and improves the overall performance of the design as such. Generally, this constraint can be expressed as an equality, as follows:\n",
        "\n",
        "$$Q_{sed, 1}=Q_{sed, 2}= ... =Q_{sed, n}$$\n",
        "$$Q_{plate, 1}=Q_{plate, 2}= ... =Q_{plate, m}$$\n",
        "\n",
        "\n",
        "Mechanisms for addressing flow equaliziation for our proposed design are addressed in more depth in the Design section."
      ]
    },
    {
      "cell_type": "markdown",
      "metadata": {
        "id": "eujkPi4P9GDs",
        "colab_type": "text"
      },
      "source": [
        "# Table listing potential strategies to meet the constraints and treatment objectives\n",
        "\n",
        "\n",
        "| Strategy | Advantages  | Disadvantages | Data needed for decision |\n",
        "|---|---|---|---|\n",
        "| Match product availibility to ideal design | as close to ideal design as possible |  may be difficult to find products that match design,<br>may require reworking based on product availibility | theoretical values |\n",
        "| Design based on product availibility | design will incorporate real product specifications from the start | will not be able to achieve ideal design | real product specs |"
      ]
    },
    {
      "cell_type": "markdown",
      "metadata": {
        "id": "J9dPZVMbOka9",
        "colab_type": "text"
      },
      "source": [
        "# Vendors \n",
        "\n",
        "The team reached out to three vendors for the design process: [Meurer Research Incorporated](https://www.meurerresearch.com/) (MRI), [Parkson](https://www.parkson.com/), and [Monroe Environmental](https://www.monroeenvironmental.com/water-and-wastewater-treatment/lamella-plate-vertical-clarifiers/).  We recieved responses from MRI and Parkson but were unable to get in contact with Monroe Environmental.  We learned that Parkson and MRI were part of a larger organization under the same ownership, so we were able to get information on both systems from Tom Grubb, an operations engineer with the company.\n",
        "\n",
        "After further talks we decided that the Parkson technology would not be suitable for the Fairmont Treatment Plant as it is designed for smaller scale applications.  After this we decided to move forward with the MRI design, which are a proven technology with over 300 installations across the US.  They also provided us with the most information and design guidance for this project.  Future work should examine more plate settler manufacturers to compare costs and designs.\n",
        "\n",
        "This spreadsheet containts all vendors reached out to for the design process across all the team. It is also availble in this [tab delimited spreadsheet](https://raw.githubusercontent.com/monroews/4590FSP/master/vendors.txt).\n",
        "\n",
        "\n"
      ]
    },
    {
      "cell_type": "code",
      "metadata": {
        "id": "l35d0BODlEsW",
        "colab_type": "code",
        "outputId": "4b5c43f7-383a-4800-9ffa-6b62e1af20a9",
        "colab": {
          "base_uri": "https://localhost:8080/",
          "height": 1000
        }
      },
      "source": [
        "vendors = pd.read_csv('https://raw.githubusercontent.com/monroews/4590FSP/master/vendors.txt',sep='\\t')\n",
        "vendors"
      ],
      "execution_count": 42,
      "outputs": [
        {
          "output_type": "execute_result",
          "data": {
            "text/html": [
              "<div>\n",
              "<style scoped>\n",
              "    .dataframe tbody tr th:only-of-type {\n",
              "        vertical-align: middle;\n",
              "    }\n",
              "\n",
              "    .dataframe tbody tr th {\n",
              "        vertical-align: top;\n",
              "    }\n",
              "\n",
              "    .dataframe thead th {\n",
              "        text-align: right;\n",
              "    }\n",
              "</style>\n",
              "<table border=\"1\" class=\"dataframe\">\n",
              "  <thead>\n",
              "    <tr style=\"text-align: right;\">\n",
              "      <th></th>\n",
              "      <th>item description</th>\n",
              "      <th>vendor</th>\n",
              "      <th>contact first name</th>\n",
              "      <th>contact last name</th>\n",
              "      <th>vendor website</th>\n",
              "      <th>product info</th>\n",
              "      <th>date of contact</th>\n",
              "      <th>who made the contact</th>\n",
              "      <th>notes</th>\n",
              "    </tr>\n",
              "  </thead>\n",
              "  <tbody>\n",
              "    <tr>\n",
              "      <th>0</th>\n",
              "      <td>plate settlers</td>\n",
              "      <td>MRI</td>\n",
              "      <td>still</td>\n",
              "      <td>pending</td>\n",
              "      <td>http://www.meurerresearch.com/</td>\n",
              "      <td>http://www.meurerresearch.com/literaturemedia/...</td>\n",
              "      <td>4/16/2020</td>\n",
              "      <td>Ian Cullings</td>\n",
              "      <td>NaN</td>\n",
              "    </tr>\n",
              "    <tr>\n",
              "      <th>1</th>\n",
              "      <td>sludge removal system</td>\n",
              "      <td>MRI</td>\n",
              "      <td>still</td>\n",
              "      <td>pending</td>\n",
              "      <td>http://www.meurerresearch.com/</td>\n",
              "      <td>http://www.meurerresearch.com/products/hoseles...</td>\n",
              "      <td>4/16/2020</td>\n",
              "      <td>Ian Cullings</td>\n",
              "      <td>NaN</td>\n",
              "    </tr>\n",
              "    <tr>\n",
              "      <th>2</th>\n",
              "      <td>plate settlers</td>\n",
              "      <td>Monore Environmental</td>\n",
              "      <td>still</td>\n",
              "      <td>pending</td>\n",
              "      <td>https://www.monroeenvironmental.com/</td>\n",
              "      <td>https://www.monroeenvironmental.com/water-and-...</td>\n",
              "      <td>4/16/2020</td>\n",
              "      <td>Ian Cullings</td>\n",
              "      <td>NaN</td>\n",
              "    </tr>\n",
              "    <tr>\n",
              "      <th>3</th>\n",
              "      <td>sludge removal system</td>\n",
              "      <td>Monore Environmental</td>\n",
              "      <td>still</td>\n",
              "      <td>pending</td>\n",
              "      <td>https://www.monroeenvironmental.com/</td>\n",
              "      <td>http://www.monroeenvironmental.com/water-and-w...</td>\n",
              "      <td>4/16/2020</td>\n",
              "      <td>Ian Cullings</td>\n",
              "      <td>NaN</td>\n",
              "    </tr>\n",
              "    <tr>\n",
              "      <th>4</th>\n",
              "      <td>plate settler with hopper</td>\n",
              "      <td>Parkson</td>\n",
              "      <td>still</td>\n",
              "      <td>pending</td>\n",
              "      <td>https://www.parkson.com/</td>\n",
              "      <td>https://www.parkson.com/products/lamella-ecoflow</td>\n",
              "      <td>4/16/2020</td>\n",
              "      <td>Ian Cullings</td>\n",
              "      <td>Includes sloped sludge hopper in design</td>\n",
              "    </tr>\n",
              "    <tr>\n",
              "      <th>5</th>\n",
              "      <td>Pump calibration column</td>\n",
              "      <td>McMaster Carr</td>\n",
              "      <td>still</td>\n",
              "      <td>pending</td>\n",
              "      <td>https://www.mcmaster.com/</td>\n",
              "      <td>https://www.mcmaster.com/4446K78-4446K78/</td>\n",
              "      <td>5/15/2020</td>\n",
              "      <td>Ananya Gangadhar</td>\n",
              "      <td>20,000 mL for FeCl3 and 250 mL for polymer</td>\n",
              "    </tr>\n",
              "    <tr>\n",
              "      <th>6</th>\n",
              "      <td>Eye wash stations</td>\n",
              "      <td>McMaster Carr</td>\n",
              "      <td>still</td>\n",
              "      <td>pending</td>\n",
              "      <td>https://www.mcmaster.com/safety-showers/</td>\n",
              "      <td>https://www.mcmaster.com/5557T7-5557T7</td>\n",
              "      <td>5/15/2020</td>\n",
              "      <td>Ananya Gangadhar</td>\n",
              "      <td>Meets OSHA requirements</td>\n",
              "    </tr>\n",
              "    <tr>\n",
              "      <th>7</th>\n",
              "      <td>Safety showers with eye wash stations</td>\n",
              "      <td>McMaster Carr</td>\n",
              "      <td>still</td>\n",
              "      <td>pending</td>\n",
              "      <td>https://www.mcmaster.com/eye-wash-stations/ans...</td>\n",
              "      <td>https://www.mcmaster.com/5568T13-5568T13</td>\n",
              "      <td>5/15/2020</td>\n",
              "      <td>Ananya Gangadhar</td>\n",
              "      <td>Meets OSHA requirements</td>\n",
              "    </tr>\n",
              "    <tr>\n",
              "      <th>8</th>\n",
              "      <td>40% FeCl3 solution</td>\n",
              "      <td>Brenntag</td>\n",
              "      <td>still</td>\n",
              "      <td>pending</td>\n",
              "      <td>https://us.brenntagconnect.com/</td>\n",
              "      <td>https://us.brenntagconnect.com/ccrz__ProductDe...</td>\n",
              "      <td>5/15/2020</td>\n",
              "      <td>Ananya Gangadhar</td>\n",
              "      <td>Maximize plan view area</td>\n",
              "    </tr>\n",
              "    <tr>\n",
              "      <th>9</th>\n",
              "      <td>Coagulant storage tank</td>\n",
              "      <td>Precision tank</td>\n",
              "      <td>Gary</td>\n",
              "      <td>Ruff</td>\n",
              "      <td>https://www.precisiontank.com/</td>\n",
              "      <td>https://www.precisiontank.com/products/fibergl...</td>\n",
              "      <td>5/15/2020</td>\n",
              "      <td>Bridget Childs</td>\n",
              "      <td>Fiberglass tank, 12' Diameter</td>\n",
              "    </tr>\n",
              "    <tr>\n",
              "      <th>10</th>\n",
              "      <td>Coagulant storage tank</td>\n",
              "      <td>National Storage Tank, Inc.</td>\n",
              "      <td>still</td>\n",
              "      <td>pending</td>\n",
              "      <td>http://www.diamondfiberglass.com/</td>\n",
              "      <td>http://www.diamondfiberglass.com/fiberglass-re...</td>\n",
              "      <td>5/15/2020</td>\n",
              "      <td>Bridget Childs</td>\n",
              "      <td>12660 Gallon Above Ground Fiberglass Tank, 12’...</td>\n",
              "    </tr>\n",
              "    <tr>\n",
              "      <th>11</th>\n",
              "      <td>Coagulant storage tank</td>\n",
              "      <td>Diamond Fiberglass</td>\n",
              "      <td>still</td>\n",
              "      <td>pending</td>\n",
              "      <td>http://www.diamondfiberglass.com/</td>\n",
              "      <td>http://www.diamondfiberglass.com/fiberglass-re...</td>\n",
              "      <td>5/15/2020</td>\n",
              "      <td>Bridget Childs</td>\n",
              "      <td>Fiberglass tank, &lt;14’ Diameter</td>\n",
              "    </tr>\n",
              "    <tr>\n",
              "      <th>12</th>\n",
              "      <td>Polymer storage tank</td>\n",
              "      <td>The Tank Depot</td>\n",
              "      <td>still</td>\n",
              "      <td>pending</td>\n",
              "      <td>https://www.tank-depot.com/</td>\n",
              "      <td>https://www.tank-depot.com/productdetails.aspx...</td>\n",
              "      <td>5/15/2020</td>\n",
              "      <td>Bridget Childs</td>\n",
              "      <td>2000 Gallon Vertical Liquid Storage Tank, 7.6'...</td>\n",
              "    </tr>\n",
              "    <tr>\n",
              "      <th>13</th>\n",
              "      <td>Cationic polymer</td>\n",
              "      <td>CARUS Water</td>\n",
              "      <td>still</td>\n",
              "      <td>pending</td>\n",
              "      <td>https://www.caruscorporation.com/</td>\n",
              "      <td>https://www.caruscorporation.com/resources/con...</td>\n",
              "      <td>5/15/2020</td>\n",
              "      <td>Bridget Childs</td>\n",
              "      <td>POLYPRO cationic polymer: POLYPRO 4935, Densit...</td>\n",
              "    </tr>\n",
              "    <tr>\n",
              "      <th>14</th>\n",
              "      <td>Diaphragm pump for coagulant feed</td>\n",
              "      <td>PSG</td>\n",
              "      <td>still</td>\n",
              "      <td>pending</td>\n",
              "      <td>https://www.psgdover.com/</td>\n",
              "      <td>https://www.psgdover.com/all-flo/markets/chemi...</td>\n",
              "      <td>5/15/2020</td>\n",
              "      <td>Bridget Childs</td>\n",
              "      <td>Diaphragm Pump: AO50, Max flow rate: 17 gpm</td>\n",
              "    </tr>\n",
              "    <tr>\n",
              "      <th>15</th>\n",
              "      <td>Diaphragm pump for polymer feed</td>\n",
              "      <td>PSG</td>\n",
              "      <td>still</td>\n",
              "      <td>pending</td>\n",
              "      <td>https://www.psgdover.com/</td>\n",
              "      <td>https://www.psgdover.com/all-flo/markets/chemi...</td>\n",
              "      <td>5/15/2020</td>\n",
              "      <td>Bridget Childs</td>\n",
              "      <td>Diaphragm Pump: All-Flo A100,  Max capacity: 2...</td>\n",
              "    </tr>\n",
              "    <tr>\n",
              "      <th>16</th>\n",
              "      <td>Polymer blending unit</td>\n",
              "      <td>PolyBlend</td>\n",
              "      <td>still</td>\n",
              "      <td>pending</td>\n",
              "      <td>https://ugsichemicalfeed.com/</td>\n",
              "      <td>https://ugsichemicalfeed.com/Product-Literatur...</td>\n",
              "      <td>5/15/2020</td>\n",
              "      <td>Bridget Childs</td>\n",
              "      <td>Polymer Feed System PB Series (Large Frame) PB...</td>\n",
              "    </tr>\n",
              "    <tr>\n",
              "      <th>17</th>\n",
              "      <td>Polymer blending unit</td>\n",
              "      <td>Veloblend</td>\n",
              "      <td>still</td>\n",
              "      <td>pending</td>\n",
              "      <td>https://velodynesystems.com/</td>\n",
              "      <td>https://velodynesystems.com/assets/Docs/2018%2...</td>\n",
              "      <td>5/15/2020</td>\n",
              "      <td>Bridget Childs</td>\n",
              "      <td>Liquid Polymer Activation Technology: VM-10P-1...</td>\n",
              "    </tr>\n",
              "    <tr>\n",
              "      <th>18</th>\n",
              "      <td>rapid mixer (mech)</td>\n",
              "      <td>Dynamix</td>\n",
              "      <td>still</td>\n",
              "      <td>pending</td>\n",
              "      <td>https://www.dynamixinc.com</td>\n",
              "      <td>https://www.dynamixinc.com/industries/waste-wa...</td>\n",
              "      <td>4/16/2020</td>\n",
              "      <td>Lynn Li</td>\n",
              "      <td>NaN</td>\n",
              "    </tr>\n",
              "    <tr>\n",
              "      <th>19</th>\n",
              "      <td>rapid mixer (mech)</td>\n",
              "      <td>Meurer Research</td>\n",
              "      <td>still</td>\n",
              "      <td>pending</td>\n",
              "      <td>http://www.meurerresearch.com</td>\n",
              "      <td>http://www.meurerresearch.com/products/mixer/</td>\n",
              "      <td>4/16/2020</td>\n",
              "      <td>Lynn Li</td>\n",
              "      <td>NaN</td>\n",
              "    </tr>\n",
              "    <tr>\n",
              "      <th>20</th>\n",
              "      <td>rapid mixer (mech)</td>\n",
              "      <td>Philadelphia Mixing Solutions</td>\n",
              "      <td>still</td>\n",
              "      <td>pending</td>\n",
              "      <td>https://www.philamixers.com</td>\n",
              "      <td>https://www.philamixers.com/industries/water-w...</td>\n",
              "      <td>4/16/20</td>\n",
              "      <td>Lynn Li</td>\n",
              "      <td>NaN</td>\n",
              "    </tr>\n",
              "    <tr>\n",
              "      <th>21</th>\n",
              "      <td>flocculator (mech)</td>\n",
              "      <td>Sereco</td>\n",
              "      <td>still</td>\n",
              "      <td>pending</td>\n",
              "      <td>http://www.sereco.it/</td>\n",
              "      <td>https://www.directindustry.com/prod/sereco/pro...</td>\n",
              "      <td>05/04/2020</td>\n",
              "      <td>Lynn Li</td>\n",
              "      <td>NaN</td>\n",
              "    </tr>\n",
              "    <tr>\n",
              "      <th>22</th>\n",
              "      <td>decanter centrifuge (resid)  GN Solids Control...</td>\n",
              "      <td>NaN</td>\n",
              "      <td>NaN</td>\n",
              "      <td>NaN</td>\n",
              "      <td>NaN</td>\n",
              "      <td>NaN</td>\n",
              "      <td>NaN</td>\n",
              "      <td>NaN</td>\n",
              "      <td>NaN</td>\n",
              "    </tr>\n",
              "    <tr>\n",
              "      <th>23</th>\n",
              "      <td>decanter centrifuge (resid)     ANDRITZ Group ...</td>\n",
              "      <td>NaN</td>\n",
              "      <td>NaN</td>\n",
              "      <td>NaN</td>\n",
              "      <td>NaN</td>\n",
              "      <td>NaN</td>\n",
              "      <td>NaN</td>\n",
              "      <td>NaN</td>\n",
              "      <td>NaN</td>\n",
              "    </tr>\n",
              "  </tbody>\n",
              "</table>\n",
              "</div>"
            ],
            "text/plain": [
              "                                     item description  ...                                              notes\n",
              "0                                      plate settlers  ...                                                NaN\n",
              "1                               sludge removal system  ...                                                NaN\n",
              "2                                      plate settlers  ...                                                NaN\n",
              "3                               sludge removal system  ...                                                NaN\n",
              "4                           plate settler with hopper  ...            Includes sloped sludge hopper in design\n",
              "5                             Pump calibration column  ...         20,000 mL for FeCl3 and 250 mL for polymer\n",
              "6                                   Eye wash stations  ...                            Meets OSHA requirements\n",
              "7               Safety showers with eye wash stations  ...                            Meets OSHA requirements\n",
              "8                                  40% FeCl3 solution  ...                            Maximize plan view area\n",
              "9                              Coagulant storage tank  ...                      Fiberglass tank, 12' Diameter\n",
              "10                             Coagulant storage tank  ...  12660 Gallon Above Ground Fiberglass Tank, 12’...\n",
              "11                             Coagulant storage tank  ...                     Fiberglass tank, <14’ Diameter\n",
              "12                               Polymer storage tank  ...  2000 Gallon Vertical Liquid Storage Tank, 7.6'...\n",
              "13                                   Cationic polymer  ...  POLYPRO cationic polymer: POLYPRO 4935, Densit...\n",
              "14                  Diaphragm pump for coagulant feed  ...        Diaphragm Pump: AO50, Max flow rate: 17 gpm\n",
              "15                    Diaphragm pump for polymer feed  ...  Diaphragm Pump: All-Flo A100, \n",
              "Max capacity: 2...\n",
              "16                              Polymer blending unit  ...  Polymer Feed System PB Series (Large Frame) PB...\n",
              "17                              Polymer blending unit  ...  Liquid Polymer Activation Technology: VM-10P-1...\n",
              "18                                 rapid mixer (mech)  ...                                                NaN\n",
              "19                                 rapid mixer (mech)  ...                                                NaN\n",
              "20                                 rapid mixer (mech)  ...                                                NaN\n",
              "21                                 flocculator (mech)  ...                                                NaN\n",
              "22  decanter centrifuge (resid)  GN Solids Control...  ...                                                NaN\n",
              "23  decanter centrifuge (resid)     ANDRITZ Group ...  ...                                                NaN\n",
              "\n",
              "[24 rows x 9 columns]"
            ]
          },
          "metadata": {
            "tags": []
          },
          "execution_count": 42
        }
      ]
    },
    {
      "cell_type": "markdown",
      "metadata": {
        "id": "-jwNKdrCOmux",
        "colab_type": "text"
      },
      "source": [
        "# Shared assumptions\n",
        "\n",
        "Shared assumptions are available in this  [python file](https://github.com/monroews/4590FSP/blob/master/Fairmont.py).  These shared assumptions are used in the design code below.\n",
        "\n",
        "# Major Decisions\n",
        "\n",
        "### Capture Velocity and Floc Density\n",
        "\n",
        "Initially, the team worked to study more specifically the structure of the flocs that would be expected at the Fairmont plant.  By characterizing the density of these flocs, the design capture velocity could be altered to better capture these particles.  However, lacking either a strong model of floc formation with $FeCl_3$, or the ability to run experiments on floc formation, it is impossible to find a good estimate for this value.  Instead the team has decided to move forward with design using the given capture velocity (described as the surface loading rate in the scope of work) of 0.3395 mm/s.  There is still not clarity on how this number was determined.\n",
        "\n",
        "### Sludge Production Rate\n",
        "\n",
        "Similar to the problem of floc density, the team initially wanted to better characterize the sludge production rate within the reactors.  However, work by the residuals team verified that the value given in the scope of work, 144 wet tons per day, was a good estimate.  Without better data on peak turbidity events, this is the best estimate we can find for production.\n",
        "\n",
        "### Quantity and Size of Sedimentation Basins\n",
        "\n",
        "The main design challenge for the sedimentation tanks was deciding on the number of sedimentation tanks, and the dimensions of each tank.  The team began with assuming 4 basins and experimented with the layout of this and the dimensions of each.  Later in the project after talks with vendors we found more information about layout of plants from past projects using their plate settler systems.\n",
        "\n",
        "### Design of Sedimentation Tank Inlets and Outlets\n",
        "\n",
        "Another critical portion of the design are the inlet and effluent systems from the tanks.  The team worked with vendors on the design portion of each of these, but were unable to get detailed information on the design of either of these systems.  Given time constraints the team settled on a simple effluent system with the channel entering the tank, and with the typical effluent system on the plate settlers.  More details are given in the design section below."
      ]
    },
    {
      "cell_type": "markdown",
      "metadata": {
        "id": "DXlB_I6ZOw2J",
        "colab_type": "text"
      },
      "source": [
        "# Design\n",
        "\n",
        "### Initial Research of Other Plants\n",
        "First, in order to determine a feasible range for the dimensions of each individual sedimentation tank, the water treatment plants of several other major cities were analyzed. First, each of the cities’ municipal websites were located to determine the address of their largest treatment plant, then google maps was used to determine the dimensions of the sedimentation tanks if they were outside and therefore visible using satellite view. Using this method, the three following measurements were found:\n",
        "\n",
        "| Location | Design Flow Rate | Number of Sed Tanks | Dimensions of Sed Tanks |\n",
        "| -------- | ---------------- | ------------------- | ----------------------- |\n",
        "| Austin, TX | 50 MGD\t| 3 | 30’ by 110’ |\n",
        "| Houston, TX\t|\t80-160 MGD | 9 | 45’ by 230’ |\n",
        "| San Jose, CA | 100 MGD | 4 | 50’ by 215’|\n",
        "\n",
        "These values provided context for the proposed widths and lengths or the proposed design's sedimentation tanks. For reference, below is a sample Google Maps screenshot depicting the dimensions of the Austin, TX sedimentation basins:\n",
        "\n",
        "![image](https://raw.githubusercontent.com/MWSteams/4590FSP/master/Images/Sedimentation_Mechanical/Austin%2C%20TX%20Sed%20Tanks.png)\n",
        "\n",
        "### Basin Dimensions and Layout\n",
        "After exploring some designs based on the observed systems, we recieved more information from MRI about their plate settler applications.  They shared with us documents from the [Miramar Water Treatment Plant](https://www.water-technology.net/projects/miramar/), a 220 MGD plant built outside San Diego, CA.  This design had a similar background, a SLR very close to the one proposed for FSP, and almost exactly half the design flowrate for the FSP.  The major design points we learned from this conversation were:\n",
        "\n",
        "Dimensions of the Plate Settlers: Each plate settler is 4.5 feet wide by 9.92 feet long, with 2.25 inch spacing measured from the perpendicular.  The angle of the plates is 55 degrees.  Plates come in \"packs\" of 100 which each treat about 1 MGD\n",
        "\n",
        "Flow per basin: The Miramar CA WTP used 4 74 foot by 110 foot basins at 0.54 gpm/ft^2 to treat the design 220 MGD flow.  They suggested that for a 0.5 gpm/ft^2 surface loading rate, the maximum loading per basin is around 50 MGD to ensure even flow.  It was unclear on exactly how higher flowrates would change flow, but we assume it has to do with flow equalization through the plate settlers.\n",
        "\n",
        "Spacing Below the Plate Settlers: The Vendor recommends at least 6 feet underneath the plate settlers to allow the sludge to settle and for ease of maintenance.  We also assume about 1 foot will be required for support beams.\n",
        "\n",
        "Residence Time: The vendor recommends 30 minutes residence time within the sedimentation tanks following the [10 States Standards](https://www.health.state.mn.us/communities/environment/water/docs/tenstates/waterrev2012.pdf).  They stated that this was often necessary to get regulatory approval for designs.  However, the only guidance available in the 10 state standards is that \"A minimum of four hours of settling time shall be provided. This may be reduced to two hours\n",
        "for lime-soda softening facilities treating only groundwater. Reduced detention time may also\n",
        "be approved when equivalent effective settling is demonstrated or when the overflow rate is\n",
        "not more than 0.5 gpm per square foot (1.2 m/hr)\" (10 States Standards, 2012)\n",
        "\n",
        "The code below was used to calculate different characteristics and dimensions of the sedimentation tanks and plate settlers.\n",
        "\n"
      ]
    },
    {
      "cell_type": "code",
      "metadata": {
        "id": "IrwTrVM2hZqH",
        "colab_type": "code",
        "outputId": "56c7f2d9-02f7-4d8f-da92-81145147efb4",
        "colab": {
          "base_uri": "https://localhost:8080/",
          "height": 104
        }
      },
      "source": [
        "print('The average flow to be treated at Fairmont is',fmt.q_ave.to(u.Mgal/u.day),'or')\n",
        "print('The maximum flow to be treated at Fairmont is',fmt.q_max.to(u.Mgal/u.day))\n",
        "specific_energy = (fmt.electricity_power/fmt.q_ave).to(u.J/u.L)\n",
        "temp = 15 * u.degC\n",
        "specific_potential_energy = (specific_energy / u.gravity / ac.density_water(temp)).to(u.m)\n",
        "print('The average amount of energy used per liter of water is expected to be',specific_energy,'or',specific_potential_energy,'of potential energy')\n",
        "\n",
        "surface_loading_rate = (0.5*u.gallon/u.min/u.ft**2).to(u.mm/u.s)\n",
        "print('The surface loading rate is', surface_loading_rate)\n"
      ],
      "execution_count": 43,
      "outputs": [
        {
          "output_type": "stream",
          "text": [
            "The average flow to be treated at Fairmont is 206.8 megagallon / day or\n",
            "The maximum flow to be treated at Fairmont is 465.3 megagallon / day\n",
            "The average amount of energy used per liter of water is expected to be 118.1 joule / liter or 12.05 meter of potential energy\n",
            "The surface loading rate is 0.3395 millimeter / second\n"
          ],
          "name": "stdout"
        }
      ]
    },
    {
      "cell_type": "code",
      "metadata": {
        "id": "lOHosmhQsRzd",
        "colab_type": "code",
        "outputId": "52f256a6-b0ea-4f86-ff9d-447e34d3fb7e",
        "colab": {
          "base_uri": "https://localhost:8080/",
          "height": 171
        }
      },
      "source": [
        "surface_loading_rate = (0.5*u.gallon/u.min/u.ft**2).to(u.mm/u.s) #Set by SOW\n",
        "number_of_redundant_basins = 1\n",
        "number_of_basins = (np.ceil((fmt.q_max.to(u.Mgal/u.day)/(55*u.Mgal/u.day)))).to(u.dimensionless)\n",
        "fraction_of_max_flow_per_basin = 1/(number_of_basins)\n",
        "flowrate_per_basin = fraction_of_max_flow_per_basin*fmt.q_max.to(u.Mgal/u.day)\n",
        "print('The plant will have', number_of_basins, 'sed tanks and', number_of_redundant_basins, 'redundant sed tank(s)')\n",
        "print('Each basin can treat up to', flowrate_per_basin)\n",
        "\n",
        "#The following values are used in the Miramar Go-By\n",
        "angle = (55*u.deg).to(u.rad) \n",
        "plate_width = (4.5*u.ft).to(u.m) \n",
        "plate_length = (9.92*u.ft).to(u.m) \n",
        "efficiency = 0.8 \n",
        "plate_d = (2.25*u.inch).to(u.m)\n",
        "rows_per_basin = 8\n",
        "packs_per_row = 4\n",
        "troughs_per_basin = 9\n",
        "inside_trough_width = (3*u.ft).to(u.m)\n",
        "outside_trough_width = (2*u.ft).to(u.m)\n",
        "#The following trough depths were determined using a spreadsheet provided by MRI that determines trough depth based on proposed width and necessary flow characteristics\n",
        "inside_trough_depth = (1.786*u.ft).to(u.m) \n",
        "outside_trough_depth = (1.421*u.ft).to(u.m)\n",
        "\n",
        "needed_effective_plate_area = (flowrate_per_basin/surface_loading_rate).to(u.m**2) #Needed effective plate area to achieve desired SLR\n",
        "projected_plate_area = needed_effective_plate_area/efficiency #Actual plate area taking efficiency into account\n",
        "projected_area_per_plate = plate_width*plate_length*np.cos(angle)\n",
        "plates_per_basin = projected_plate_area/projected_area_per_plate\n",
        "packs_per_basin = rows_per_basin*packs_per_row\n",
        "plates_per_pack = plates_per_basin/packs_per_basin\n",
        "length_plate_pack = (plates_per_pack*2.25*u.inch+10*u.inch).to(u.m) #This equation was provided by MRI\n",
        "flow_per_plate = flowrate_per_basin/plates_per_basin\n",
        "\n",
        "\n",
        "basin_width = (plate_width*rows_per_basin+inside_trough_width*(troughs_per_basin-2)+outside_trough_width*2).to(u.m)\n",
        "basin_length = (length_plate_pack*packs_per_row+5*u.ft).to(u.m) #A small amount of space is added between the influent and plate settlers to prevent influent jet\n",
        "basin_depth = (plate_length*np.sin(angle)+7*u.ft).to(u.m) #Depth of plate settlers is 7.8 vertically.  Assume 6 feet space underneath for access to sludge collection area and 1 foot for support beams\n",
        "basin_area = (basin_width*basin_length).to(u.m**2)\n",
        "print('The dimensions of one basin is', basin_width.to(u.m), 'x', basin_length.to(u.m))\n",
        "print('Basin depth is', basin_depth)\n",
        "print('The plan view area of one basin is', basin_area)\n",
        "\n",
        "total_area = basin_area*(number_of_basins+number_of_redundant_basins)\n",
        "SOW_area = (510*250*u.ft**2).to(u.m**2)\n",
        "area_reduction_fraction = 1 - total_area/SOW_area \n",
        "area_reduction_amount = SOW_area-total_area\n",
        "print('The total area allocated to the sed tanks in the SOW is', SOW_area)\n",
        "print('We can reduce the total surface area needed by a fraction of',area_reduction_fraction, 'or by', area_reduction_amount)\n",
        "\n",
        "v_capture = (v_upflow_alpha*plate_d/(plate_length*np.cos(angle)+plate_d*np.sin(angle))).to(u.mm/u.s)\n",
        "print('The capture velocity is',v_capture)"
      ],
      "execution_count": 44,
      "outputs": [
        {
          "output_type": "stream",
          "text": [
            "The plant will have 9 dimensionless sed tanks and 1 redundant sed tank(s)\n",
            "Each basin can treat up to 51.71 megagallon / day\n",
            "The dimensions of one basin is 18.59 meter x 27.59 meter\n",
            "Basin depth is 4.61 meter\n",
            "The plan view area of one basin is 512.9 meter ** 2\n",
            "The total area allocated to the sed tanks in the SOW is 1.185e+04 meter ** 2\n",
            "We can reduce the total surface area needed by a fraction of 0.567 dimensionless or by 6716 meter ** 2\n",
            "The capture velocity is 0.173 millimeter / second\n"
          ],
          "name": "stdout"
        }
      ]
    },
    {
      "cell_type": "markdown",
      "metadata": {
        "id": "UupZVGc2Lkde",
        "colab_type": "text"
      },
      "source": [
        "Per the above specifications, there will be 10 sedimentation basins. The basins will be laid out in a 2 x 5 grid, with the influent channel coming down the center and feeding into each of the basins. On the outer side of both rows, a channel will collect the clean effluent. At the entrance to each tank, an open channel sluice gate will be implemented to allow for each of the basins to be taken offline individually. Below is an image depicting this layout:\n",
        "\n",
        "![image](https://raw.githubusercontent.com/MWSteams/4590FSP/master/Images/Sedimentation_Mechanical/MechSed_System.png)\n",
        "\n",
        "Each of the 10 basins will have 8 rows of 4 plate packs each. Between each of the 8 rows is a trough for the clean effluent. Per manufacturer recommendations, the entrace to the sedimentation basin remains laregly open in order to allow the flow to flow and to help ensure proper flow equalization. For more information on this, see the flow equalization section below.\n",
        "\n",
        "![image](https://raw.githubusercontent.com/MWSteams/4590FSP/master/Images/Sedimentation_Mechanical/MechSed_Basin.png)\n"
      ]
    },
    {
      "cell_type": "markdown",
      "metadata": {
        "id": "pfrvSwpiNGKf",
        "colab_type": "text"
      },
      "source": [
        "### Residence Time\n",
        "\n",
        "Per the Ten States Standards, the residence time in the sedimentation tank is required to be 30 minutes or greater. Below, we compare our residence time to that value to ensure it meets the standard."
      ]
    },
    {
      "cell_type": "code",
      "metadata": {
        "id": "TTYhGKShgSdS",
        "colab_type": "code",
        "outputId": "7a85aae5-6ada-4c8d-b8fd-65c25c10b84a",
        "colab": {
          "base_uri": "https://localhost:8080/",
          "height": 34
        }
      },
      "source": [
        "#Check residence time through sed tank\n",
        "#Typically 30 minutes following ten state standards\n",
        "\n",
        "residence_t =  depth_basin * basin_area / flowrate_per_basin\n",
        "print('Sed tank residence time is', residence_t.to(u.min))"
      ],
      "execution_count": 45,
      "outputs": [
        {
          "output_type": "stream",
          "text": [
            "Sed tank residence time is 17.02 minute\n"
          ],
          "name": "stdout"
        }
      ]
    },
    {
      "cell_type": "markdown",
      "metadata": {
        "id": "XEucbv5wWD-R",
        "colab_type": "text"
      },
      "source": [
        "From this we found that our residence time was significantly below the Ten States Standards guidelines.  However we were also unable to find whether the State of California follows this regulation or any other for residence time.  Given this, we decided to remain with our design for now, as it minimizes plan view area.  If it is found that we must meet this residence time, we recommend adding additional depth to the basins, and increasing the empty area in front of the plate settlers to meet this requirement."
      ]
    },
    {
      "cell_type": "markdown",
      "metadata": {
        "id": "gNyWVqI2zsPl",
        "colab_type": "text"
      },
      "source": [
        "### Floc Roll-Up \n",
        "\n",
        "A primary concern for the design of sedimentation tanks is floc roll-up; if flocs do not settle out on the plates and then down onto the bottom of the sedimentation basin, then the effluent will be vastly worse in quality. Tom Grubb, Technical Sales Manager at MRI, states that for their design, an upflow velocity between the plates of less than 0.02 is required to ensure floc roll-up does not hinder performance. \n",
        "\n",
        "Below, we verify the velocity between the plates of our design. "
      ]
    },
    {
      "cell_type": "code",
      "metadata": {
        "id": "4WV_OrRBv9r3",
        "colab_type": "code",
        "outputId": "49abcfcb-0c3e-4320-ee7e-752a70ae9128",
        "colab": {
          "base_uri": "https://localhost:8080/",
          "height": 34
        }
      },
      "source": [
        "# Check average upflow velocity in bottom of tank\n",
        "# Constraint from MRI is upflow velocity must be less than 0.02 ft/s\n",
        "\n",
        "v_upflow_avg = flowrate_per_basin / basin_area\n",
        "v_upflow_alpha = v_upflow_avg / np.sin(angle)\n",
        "print(v_upflow_avg.to(u.mm/u.s))"
      ],
      "execution_count": 46,
      "outputs": [
        {
          "output_type": "stream",
          "text": [
            "4.417 millimeter / second\n"
          ],
          "name": "stdout"
        }
      ]
    },
    {
      "cell_type": "markdown",
      "metadata": {
        "id": "ZzWYxZcqIxnv",
        "colab_type": "text"
      },
      "source": [
        "### Influent and Effluent System\n",
        "\n",
        "[This video](https://www.youtube.com/watch?time_continue=1&v=ZyLBzBzRcTU&feature=emb_title) summarizes the influent and effluent flow patterns through the sedimentation tank.  Influent water enters from a channel or pipe and is directed downwards by a barrier to remove the horizontal velocity component.  Water enters the plate settlers from the side and flows up and out around the effluent manifold pipes on top.  This forms a 1 inch layer of water on top, which is drawn in through orifices on each of the effluent pipes at a constant rate.  This sets the flow distribution through each plate settler to be approximately even, as the headloss created from the orifice is much larger than the headloss through the plate settlers.\n",
        "\n",
        "![](https://github.com/MWSteams/4590FSP/blob/master/Images/Sedimentation_Mechanical/flowdist.PNG?raw=true)\n",
        "\n",
        "A CFD analysis by MRI of the flow distribution patterns from the inlet.  Red and yellow areas represent high velocities while blue represents low. (MRI, 2020)\n",
        "\n",
        "We are skeptical of certain parts of this design.  First of all, we predict that flow will not only enter from the orifices on each side of the plate settlers, but also through the bottom.  Since the bottom is open as well, and is a large exposed space, it is unlikely that no flow will enter through that area.  This means that if the upflow velocity through this bottom zone is too large, it could influence sludge settling, or stir up sludge settled on the bottom.  We were unable to find guidance or research on constraints for this design, so for the purposes of this design we decided to focus on minimizing area with our current design.  If necessary, we recommend increasing the length of the entry area to increase overall plan view area and reduce upflow velocity.\n",
        "\n",
        "We are also unsure about the effluent orifice systems.  Our assumption with each orifice is that there is little horizontal velocity across the top water level, meaning that water that comes up through one area in the plate settler leaves from that same area.  This creates the uniform draw across the top of the plate settlers as elevation and headloss are the same at each point.  However, if there is significant horizontal flow and mixing on the top layer this is not true and flow distribution will not be even.  Further research is required to quantify this, but a possible design to resolve this would be to add orifices at the exit of the plate settlers to create extra headloss across them.  The Flow Distribution Calcs section in the Design Appendix calculates the design velocity through the orifice to achieve this.\n",
        "\n",
        "### Headloss\n",
        "\n",
        "Estimates from the vendors approximate the total headloss through the sedimentation tanks to be around 11 inches.  This is nearly half the 2 feet available for the entire sedimentation tank, so the flocculators, as well as all hydraulic channels, will need to be carefully designed to account for this.  \n",
        "\n",
        "We calculated the velocity head and compared it to the head loss through the plate settlers and found the velocity head is larger.  Therefore additional headloss should be built into the plate settlers to help equalize flow distribution.  This can be achieved with creating additional orifices or a flow expansion at the end."
      ]
    },
    {
      "cell_type": "code",
      "metadata": {
        "id": "3Z6PnDnSwSL1",
        "colab_type": "code",
        "outputId": "3afb6d9c-aad3-4395-f48a-687fae84cef6",
        "colab": {
          "base_uri": "https://localhost:8080/",
          "height": 67
        }
      },
      "source": [
        "# Velocity Head Calculation\n",
        "basin_vertical_area = basin_depth*basin_width #The cross-sectional area of the basin that is perpendicular to the influent channel and the floor of the basin\n",
        "total_plate_pack_area = rows_per_basin*plate_width*plate_length*np.sin(angle) #The cross-sectional area of the plate packs in the same direction\n",
        "total_inside_trough_area = (troughs_per_basin-2)*inside_trough_width*inside_trough_depth #approximated as a rectangle\n",
        "total_outside_trough_area = 2*outside_trough_width*outside_trough_depth #approximated as a rectangle\n",
        "water_area = (basin_vertical_area-(total_plate_pack_area+total_inside_trough_area+total_outside_trough_area)).to(u.m**2)\n",
        "v_horizontal = flowrate_per_basin/water_area\n",
        "vel_head = v_horizontal**2/(2*ac.GRAVITY)\n",
        "\n",
        "print('The velocity head is', vel_head.to(u.m))\n",
        "\n",
        "#Head loss in plate settlers using equation 489 in AC textbook\n",
        "hl = 2 * ac.viscosity_kinematic_water(10*u.degC) / ac.GRAVITY * (6*v_upflow_avg/(plate_d*np.sin(angle)**2 * np.cos(angle))) * (v_upflow_avg / surface_loading_rate - 1)\n",
        "print(\"Headloss through the plate settlers is\", hl.to(u.m))\n",
        "\n",
        "if hl > vel_head:\n",
        "  print('Head loss through plate settlers is greater than the velocity head')\n",
        "else:\n",
        "    print('Velocity head is greater than head loss through plate settlers. This is a problem')"
      ],
      "execution_count": 53,
      "outputs": [
        {
          "output_type": "stream",
          "text": [
            "The velocity head is 8.799e-05 meter\n",
            "Headloss through the plate settlers is 3.836e-06 meter\n",
            "Velocity head is greater than head loss through plate settlers. This is a problem\n"
          ],
          "name": "stdout"
        }
      ]
    },
    {
      "cell_type": "markdown",
      "metadata": {
        "id": "BK8Y46S_o5AW",
        "colab_type": "text"
      },
      "source": [
        "### Mechanical Sludge Removal System\n",
        "We decided to use MRI's Hoseless Cable-Vac™ sludge removal system. The outlet to each system can connect to the residual management equipment. The Hoseless Cable-Vac™ can remove 1.5%-2% solids concentration at a rate of 150 GPM. The residuals team estimated a solids concentration of 2% at the FSP. The estimated sludge production rate is 264.24 GPM (found by the Residuals team) which would result in 29.36 GPM per sedimentation tank. This is well under the capacity of the Hoseless Cable-Vac™. This sludge removal system also includes an operator friendly control system that allows duration, speed, frequency of operation, and more to be adjusted. The system can also be triggered by sludge depth, time, or signals from SCADA. This allows the sludge to be removed only when necessary which may reduce electricity costs and will ensure the sludge going to the residual management will not be overly diluted when the turbidity is low. Diluted sludge would make the residuals management a longer, harder, more expensive process so this is an important feature of the sludge removal system. \n",
        "  \n",
        "\n",
        "\n",
        "![image](https://github.com/MWSteams/4590FSP/blob/master/Images/Sedimentation_Mechanical/IMG_0067.jpg?raw=true)"
      ]
    },
    {
      "cell_type": "markdown",
      "metadata": {
        "id": "csaRzwOMY-WS",
        "colab_type": "text"
      },
      "source": [
        "### Economic Analysis\n",
        "\n",
        "In order to get a rough idea of the relative cost of the proposed design, a cursory economic analysis was conducted. This economic analysis is a model consisting of fixed and variable costs that go into the construction and continued operation of the sedimentation tanks at the FWSP. \n",
        "\n",
        "The fixed costs include:\n",
        "* Construction \n",
        " * Plate settler units\n",
        " * Sludge removal units\n",
        " * Concrete used in basin design\n",
        " * Land development costs\n",
        " * Transport and installation costs\n",
        "\n",
        "\n",
        " The variable costs include:\n",
        "* Operation costs\n",
        " * Chemical costs\n",
        " * Labor costs\n",
        " * Electricity costs\n",
        "* Maintenance/replacement costs\n",
        "\n",
        "Below is a model used to tabulate these two cost categories. For the sake of the model, chemical costs, variable labor costs, fixed labor costs, installation/transport costs, and land development costs will be withheld--the former two because they are not unique to the sedimentation unit process, and the latter two because they cannot be easily estimated and depend largely on the clients' preferences and relationships with outside firms. More explicity, the model includes: material costs (concrete, plate settler units, sludge removal units), electricity costs, and part replacement costs. \n",
        "\n",
        "In order to deveop the  model, the following assumptions were made:\n",
        "* The cost per plate settler unit and cost per sludge removal unit, as well as lifespan of the plate settlers, were all provided by Tom Grubb, Technical Sales Manager at MRI. \n",
        "* A plate settler unit is defined as a pre-desinged plate package per MRI's specificaitons (100 plates with the given widths and lengths provided in the sedimentation basin design section); a total of 352 units, wach with a cost of \\$50,000, are required. \n",
        "* A sludge removal unit is defined as a one package unit per MRI's specificaitons that handles sludge removal. The cost figures provided by Tom Grubb were \\$55,000 for a sedimentation basin with a length of less than 100 ft and a width less than 30 ft; \\$100,000 for a basin with a width up to 50 ft; and \\$150,000 for a basin width up to 90 ft.  \n",
        "* Lifespan of the sludge removal units was taken to be 50 years, in conjunction with the estimate for the plate settler units. We are waiting for more information from Tom Grubb on this value!\n",
        "* Concrete cost per was determined to be $300 per cubic yard, as outlined in the SOW. \n",
        "* Electricity cost used is for the greater Los Angeles area for the year 2019. This figure was sourced from the [Bureau of Labor Statistics](https://www.bls.gov/regions/west/news-release/2019/pdf/averageenergyprices_losangeles_20191113.pdf)\n",
        "* Thickness of basin walls was determined using vendor-provided engineering drawings for a similar project.\n",
        "* The cost per sluice gate was determined to be approximately \\$2500; this was done using the listed price provided by [Direct Pivot Parts](https://directpivotparts.com/products/X-Gate-Flat-Back-Frame-36-x-96); additional designs and cost estimates for open channel sluice gates do not have prices readily accesible online.\n",
        "* Until a more accurate estimate of electricity use is provided by MRI, a stand-in value of 100 kWh per day is being used; we are waiting on a more accurate figure from Tom Grubb!"
      ]
    },
    {
      "cell_type": "code",
      "metadata": {
        "id": "n8_gWNyxY9so",
        "colab_type": "code",
        "colab": {}
      },
      "source": [
        "# fixed costs\n",
        "n_plate_units = packs_per_basin*number_of_basins\n",
        "cost_plate_unit = 50000 * u.USD\n",
        "cost_plates = n_plate_units*cost_plate_unit\n",
        "\n",
        "n_sludge_units = number_of_basins\n",
        "if basin_width.to(u.ft).magnitude<=30:\n",
        "  cost_sludge_unit = 55000 * u.USD\n",
        "elif basin_width.to(u.ft).magnitude<=60:\n",
        "  cost_sludge_unit = 100000 * u.USD\n",
        "else:\n",
        "  cost_sludge_unit = 150000 * u.USD\n",
        "cost_sludge = n_sludge_units*cost_sludge_unit\n",
        "\n",
        "n_gates = number_of_basins\n",
        "cost_per_gate = 2500*u.USD\n",
        "cost_gates = n_gates * cost_per_gate\n",
        "\n",
        "conc_cost_per_vol = 300*u.USD/u.yard**3\n",
        "basin_t = 3*u.ft \n",
        "conc_vol_per_basin = (2*basin_length + 2*basin_width + 4*basin_t)*depth*basin_t\n",
        "conc_vol = conc_vol_per_basin * number_of_basins\n",
        "conc_cost = conc_vol * conc_cost_per_vol\n",
        "\n",
        "tot_fixed_cost = conc_cost + cost_sludge + cost_plates + cost_gates\n",
        "print(\"The total fixed cost is\", tot_fixed_cost.to(u.MUSD))\n",
        "\n",
        "# variable costs\n",
        "elec_cost_per_unit = 0.19*u.USD/u.kWh\n",
        "elec_usage = 100*u.kWh/u.day\n",
        "elec_cost = (elec_cost_per_unit*elec_usage).to(u.USD/u.day)\n",
        "\n",
        "lifespan = 50*u.year\n",
        "maintenance_costs = ((cost_sludge + cost_plates)/lifespan).to(u.USD/u.day)\n",
        "\n",
        "tot_var_cost = elec_cost + maintenance_costs\n",
        "print(\"The total variable cost is\", tot_var_cost.to(u.USD/u.day))"
      ],
      "execution_count": 0,
      "outputs": []
    },
    {
      "cell_type": "markdown",
      "metadata": {
        "id": "dlkhyzNkimjL",
        "colab_type": "text"
      },
      "source": [
        "From this cursory analysis, we can see the fixed cost of the proposed design will be on the order of \\$17.2 million, and the variable cost will be on the order of \\$880/day. For the fixed costs, this equates to roughly \\$37,000 per MGD. These numbers should be used as a rough estimate to compare with the proposed hydraulic sedimentation design!\n",
        "\n",
        "However, it's important to highlight again the limitations of this model. It does not take into account land development costs, transportation and installation costs, labor costs, and chemical costs. Furthermore, while the assumptions hold for this rough cost estimate, they should not be used in determining an actual project budget; for example, the lifespan of a sludge removal system is likely a lot smaller than 50 years, as was anecdotally shared by Mickey and Tori! "
      ]
    },
    {
      "cell_type": "markdown",
      "metadata": {
        "id": "nJnuQzTCgNNw",
        "colab_type": "text"
      },
      "source": [
        "### Enclosure of the FWSP\n",
        "\n",
        "An additional final consideration for our design is the full enclosure of the FWSP. As outlined in the constraints section of this Basis of Design Report, the enclosure of the FWSP will (1) prevent issues with density currents negatively impacting effluent water quality, (2) prevent wind waves and undertow currents from forming on top of sedimentation tanks (3) improve comfort for the operators and ease of use of the plant itself. For these reasons, we propose that the sedimentation unit process, as well as the entire treatment plant, be fully enclosed."
      ]
    },
    {
      "cell_type": "markdown",
      "metadata": {
        "id": "-H9LMQxf70WV",
        "colab_type": "text"
      },
      "source": [
        "### Works Cited\n",
        "\n",
        "MRI. \"MRI - Treating More Water in Less Space\" *Youtube*, Apr. 6, 2020.  https://www.youtube.com/watch?v=ZyLBzBzRcTU\n",
        "\n",
        "Crittenden, John C., MWH’s Water Treatment\n",
        "Principles and Design\n",
        "Third Edition, * John Wiley & Sons, Inc.* 2012."
      ]
    },
    {
      "cell_type": "markdown",
      "metadata": {
        "id": "VtcQMiACtb5i",
        "colab_type": "text"
      },
      "source": [
        "## Design Appendix\n",
        "\n",
        "Included below are additional design considerations which were ultimately not relevant to the design due to the constraints set by the vendor and "
      ]
    },
    {
      "cell_type": "markdown",
      "metadata": {
        "id": "lEdz7sCdXWDd",
        "colab_type": "text"
      },
      "source": [
        "### Depth of Sedimentation Tanks\n",
        "\n",
        "Early in the design process we analyzed the physics to investigate the possible dimensions further.  The plots below compare the length of the plate settlers, which is directly related to the depth of the tank, to the maximum upflow velocity possible while maintaining the design capture velocity.  This was determined with equation 421 from the AguaClara textbook:\n",
        "\n",
        "$\\bar v_c = \\frac{S \\bar v_{z_{Plate}}}{Lsin\\alpha cos\\alpha + S}$\n",
        "\n",
        "ultimately this design was not included as the vendors set the length of the plate settlers.  However for other applications it would be interesting to investigate changing the dimensions of the plate settlers to meet different design needs.  The blue dot shows where our current design lies."
      ]
    },
    {
      "cell_type": "code",
      "metadata": {
        "id": "wObx8CZDXa4o",
        "colab_type": "code",
        "colab": {}
      },
      "source": [
        "#Plot length of plate settlers versus upflow velocity to get desired capture velocity\n",
        "#assume same assumptions as above, S = 2 in, angle = 60 deg\n",
        "#This can be edited with more specific info from vendors\n",
        "\n",
        "L = np.linspace(1,4,100) * u.m\n",
        "d_plate = 2.25*u.inch\n",
        "v_z = (surface_loading_rate*(L*np.sin(angle)*np.cos(angle)/d_plate)).to(u.mm/u.s)\n",
        "v_z_design = (surface_loading_rate*(plate_length*np.sin(angle)*np.cos(angle)/d_plate)).to(u.mm/u.s)\n",
        "plt.plot(L,v_z,'k',plate_length, v_z_design, 'bo')\n",
        "plt.plot(plate_length, v_z_design)\n",
        "plt.xlabel(\"Length of Plate Settlers (m)\")\n",
        "plt.ylabel(\"Upflow Velocity Below Plate Settlers (mm/s)\")\n",
        "plt.title(\"Maximum Upflow Velocity Under Plate Settlers with Design Capture Velocity of 0.33 mm/s\")"
      ],
      "execution_count": 0,
      "outputs": []
    },
    {
      "cell_type": "code",
      "metadata": {
        "id": "0oW6OFgDXfhP",
        "colab_type": "code",
        "colab": {}
      },
      "source": [
        "#Calculate Plan View Area Based On Upflow Velocity and Length of Plate Settlers\n",
        "A_plan = (fmt.q_max / v_z).to(u.m**2)\n",
        "plt.plot(L,A_plan)\n",
        "plt.xlabel(\"Length of Plate Settlers (m)\")\n",
        "plt.ylabel(\"Plan View Area (m^2)\")\n",
        "plt.title(\"Plan View Area versus Length of Plate Settlers with Design Capture Velocity of 0.33 mm/s\")"
      ],
      "execution_count": 0,
      "outputs": []
    },
    {
      "cell_type": "markdown",
      "metadata": {
        "id": "6et5IkVylo8H",
        "colab_type": "text"
      },
      "source": [
        "### Flow Distribution Calculations\n",
        "\n",
        "For a large plant with many sed tanks each with many plate settlers, we want to ensure even flows through each part of the basin.  The main sources of headloss through the plate settlers are in the influent manifold, where water enters through an orifice, and the exit, where water flows into a manifold or trough to the next channel.  Headloss through the plate settlers is order $\\mu$m and thus neglibible.  \n",
        "\n",
        "Given that water will flow through the path with the lowest headloss, small changes in headloss through the influent or effluent mainfold can create uneven flow patterns.  To prevent this we create an additional source of headloss that is significantly larger than other losses.  Since other losses are orders of magnitude smaller, this headloss will drive the flow and divide the flow evenly at each source.  \n",
        "\n",
        "This headloss is usually accomplished either by designing the orifices on the effluent mainfold to create additional headloss, or by adding an additional orifice, often within the plate settlers, to create this headloss at the end of the flow path.  \n",
        "\n",
        "To ensure even flow distribution we use the following equation:\n",
        "$\\frac{\\bar v_{P}}{\\bar v_{M_1}} = \\sqrt{\\frac{\\Pi_{Q}^2 + 1}{2(1 - \\Pi_{Q}^2)}}$"
      ]
    },
    {
      "cell_type": "code",
      "metadata": {
        "id": "eD8bQjq2lp8o",
        "colab_type": "code",
        "colab": {}
      },
      "source": [
        "def Ratio_Pipe_Manifold_V_Port_to_V_Man(Ratio_Flow):\n",
        "  return np.sqrt((Ratio_Flow**2 + 1)/(2*(1-Ratio_Flow**2)))\n",
        "\n",
        "design_ratio = Ratio_Pipe_Manifold_V_Port_to_V_Man(0.85)\n",
        "eff_vel = v_z * design_ratio\n",
        "plt.plot(v_z,eff_vel)\n",
        "plt.xlabel(\"Upflow Velocity under Plate Settlers (mm/s)\")\n",
        "plt.ylabel(\"Velocity Through Effluent Manifold (mm/s)\")\n",
        "plt.title(\"Design Effluent Velocity for Even Flow with Design Flow Ratio of 0.85\")"
      ],
      "execution_count": 0,
      "outputs": []
    },
    {
      "cell_type": "markdown",
      "metadata": {
        "id": "4VvyG3a7lvC7",
        "colab_type": "text"
      },
      "source": [
        "This plot shows a comparison of the required velocity through an effluent mainfold at the top of the plate settlers versus the upflow velocity below the plate settlers.  This velocity could be set by an orifice created with the correct dimensions using the following equation:\n",
        "\n",
        "$ A_{port} = \\frac{Q}{n_{ports}*v_{port}} $\n",
        "\n",
        "\n",
        "A challenge of this approach is that headloss will change if flowrate varies as it is proportional to velocity^2.  One solution for this problem would be to carefully manage flow to each sedimentation tank and shut off unecessary tanks to ensure each runs at close to the maximum velocity always.  Another would be to decrease port velocity further and create more headloss, to ensure there is still optimal headloss at lower flowrates."
      ]
    }
  ]
}