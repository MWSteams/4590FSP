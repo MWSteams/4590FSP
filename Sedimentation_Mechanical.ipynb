{
  "nbformat": 4,
  "nbformat_minor": 0,
  "metadata": {
    "colab": {
      "name": "Sedimentation_Mechanical.ipynb",
      "provenance": [],
      "collapsed_sections": [],
      "include_colab_link": true
    },
    "kernelspec": {
      "name": "python3",
      "display_name": "Python 3"
    }
  },
  "cells": [
    {
      "cell_type": "markdown",
      "metadata": {
        "id": "view-in-github",
        "colab_type": "text"
      },
      "source": [
        "<a href=\"https://colab.research.google.com/github/MWSteams/4590FSP/blob/master/Sedimentation_Mechanical.ipynb\" target=\"_parent\"><img src=\"https://colab.research.google.com/assets/colab-badge.svg\" alt=\"Open In Colab\"/></a>"
      ]
    },
    {
      "cell_type": "markdown",
      "metadata": {
        "id": "lZNgRSu1Uj8D",
        "colab_type": "text"
      },
      "source": [
        "# Sedimentation Mechanical\n",
        "\n",
        "Authors: Justin Conneely, Ian Cullings, Alycia Storch, Brenda Solorzano\n",
        "\n",
        "See my comment below\n",
        "\n",
        "[/Monroe/]: # (Well done! Try to find designs for other large scale wtps to see how big the sedimentation tanks are. The MWH textbook might have guidance on constraints for sizes of sed tanks too. If you discover parameters where there is no clear optimum, consider creating a graph that illustrates how the design changes as that parameter changes. For example, you might find that the depth of the sed tank has to increase as the length of the sed tank increases.)\n",
        "[/Justin/]: # (We will try all these things!)"
      ]
    },
    {
      "cell_type": "code",
      "metadata": {
        "id": "QjwM4ovYUokZ",
        "colab_type": "code",
        "outputId": "dd47a476-56f1-4c58-e3e0-02a6157c2540",
        "colab": {
          "base_uri": "https://localhost:8080/",
          "height": 554
        }
      },
      "source": [
        "!pip install aguaclara\n",
        "!pip install molmass"
      ],
      "execution_count": 1,
      "outputs": [
        {
          "output_type": "stream",
          "text": [
            "Collecting aguaclara\n",
            "\u001b[?25l  Downloading https://files.pythonhosted.org/packages/6d/b5/24c20d548db5d6dbbce2899e0c9e24eab6c5f593a2898b353f356bb9cd3b/aguaclara-0.2.1.tar.gz (87kB)\n",
            "\u001b[K     |████████████████████████████████| 92kB 2.9MB/s \n",
            "\u001b[?25hRequirement already satisfied: matplotlib in /usr/local/lib/python3.6/dist-packages (from aguaclara) (3.2.1)\n",
            "Requirement already satisfied: urllib3 in /usr/local/lib/python3.6/dist-packages (from aguaclara) (1.24.3)\n",
            "Collecting pint==0.8.1\n",
            "\u001b[?25l  Downloading https://files.pythonhosted.org/packages/1e/40/6938f7d544eef208a8183c2c80624289e8a4f4e0aea43f4658b9527077de/Pint-0.8.1.tar.gz (162kB)\n",
            "\u001b[K     |████████████████████████████████| 163kB 10.8MB/s \n",
            "\u001b[?25hRequirement already satisfied: pandas in /usr/local/lib/python3.6/dist-packages (from aguaclara) (1.0.3)\n",
            "Requirement already satisfied: scipy in /usr/local/lib/python3.6/dist-packages (from aguaclara) (1.4.1)\n",
            "Requirement already satisfied: cycler>=0.10 in /usr/local/lib/python3.6/dist-packages (from matplotlib->aguaclara) (0.10.0)\n",
            "Requirement already satisfied: pyparsing!=2.0.4,!=2.1.2,!=2.1.6,>=2.0.1 in /usr/local/lib/python3.6/dist-packages (from matplotlib->aguaclara) (2.4.7)\n",
            "Requirement already satisfied: kiwisolver>=1.0.1 in /usr/local/lib/python3.6/dist-packages (from matplotlib->aguaclara) (1.2.0)\n",
            "Requirement already satisfied: python-dateutil>=2.1 in /usr/local/lib/python3.6/dist-packages (from matplotlib->aguaclara) (2.8.1)\n",
            "Requirement already satisfied: numpy>=1.11 in /usr/local/lib/python3.6/dist-packages (from matplotlib->aguaclara) (1.18.3)\n",
            "Requirement already satisfied: pytz>=2017.2 in /usr/local/lib/python3.6/dist-packages (from pandas->aguaclara) (2018.9)\n",
            "Requirement already satisfied: six in /usr/local/lib/python3.6/dist-packages (from cycler>=0.10->matplotlib->aguaclara) (1.12.0)\n",
            "Building wheels for collected packages: aguaclara, pint\n",
            "  Building wheel for aguaclara (setup.py) ... \u001b[?25l\u001b[?25hdone\n",
            "  Created wheel for aguaclara: filename=aguaclara-0.2.1-cp36-none-any.whl size=99466 sha256=76a1f0bb440b0e61f0700c2feb521582b7be73294769c8421a3d3890a971c259\n",
            "  Stored in directory: /root/.cache/pip/wheels/7f/ff/4f/10d76e6a261d392aefbdf6ce8d3d5519e924dc334b102ca49b\n",
            "  Building wheel for pint (setup.py) ... \u001b[?25l\u001b[?25hdone\n",
            "  Created wheel for pint: filename=Pint-0.8.1-py2.py3-none-any.whl size=134156 sha256=e3c246fd4ebac5868a43603159a4dd5e58a00d52deafd61a2a67aa62d8fab3f6\n",
            "  Stored in directory: /root/.cache/pip/wheels/b4/56/36/7c4d6a4e3660e233b95e3b0482551915cb184abca0f93ee1dd\n",
            "Successfully built aguaclara pint\n",
            "Installing collected packages: pint, aguaclara\n",
            "Successfully installed aguaclara-0.2.1 pint-0.8.1\n",
            "Collecting molmass\n",
            "\u001b[?25l  Downloading https://files.pythonhosted.org/packages/12/2b/dd600a36b78bc9ebf9e8ff7c900150c7439af0c55504a4ab8213485cda94/molmass-2020.1.1-py3-none-any.whl (65kB)\n",
            "\u001b[K     |████████████████████████████████| 71kB 2.7MB/s \n",
            "\u001b[?25hInstalling collected packages: molmass\n",
            "Successfully installed molmass-2020.1.1\n"
          ],
          "name": "stdout"
        }
      ]
    },
    {
      "cell_type": "code",
      "metadata": {
        "id": "ttJT8q_wYhAV",
        "colab_type": "code",
        "outputId": "f536a574-9345-4f6d-89b3-903038a66ace",
        "colab": {
          "base_uri": "https://localhost:8080/",
          "height": 202
        }
      },
      "source": [
        "from aguaclara.core.units import unit_registry as u\n",
        "import aguaclara as ac\n",
        "import matplotlib.pyplot as plt\n",
        "import numpy as np\n",
        "import pandas as pd\n",
        "import molmass as mol\n",
        "!wget https://raw.githubusercontent.com/monroews/4590FSP/master/Fairmont.py\n",
        "import Fairmont as fmt"
      ],
      "execution_count": 2,
      "outputs": [
        {
          "output_type": "stream",
          "text": [
            "--2020-05-06 00:55:59--  https://raw.githubusercontent.com/monroews/4590FSP/master/Fairmont.py\n",
            "Resolving raw.githubusercontent.com (raw.githubusercontent.com)... 151.101.0.133, 151.101.64.133, 151.101.128.133, ...\n",
            "Connecting to raw.githubusercontent.com (raw.githubusercontent.com)|151.101.0.133|:443... connected.\n",
            "HTTP request sent, awaiting response... 200 OK\n",
            "Length: 3025 (3.0K) [text/plain]\n",
            "Saving to: ‘Fairmont.py’\n",
            "\n",
            "\rFairmont.py           0%[                    ]       0  --.-KB/s               \rFairmont.py         100%[===================>]   2.95K  --.-KB/s    in 0s      \n",
            "\n",
            "2020-05-06 00:55:59 (60.8 MB/s) - ‘Fairmont.py’ saved [3025/3025]\n",
            "\n"
          ],
          "name": "stdout"
        }
      ]
    },
    {
      "cell_type": "markdown",
      "metadata": {
        "id": "2SQpUtXCR5Xz",
        "colab_type": "text"
      },
      "source": [
        "# Task Definition\n",
        "\n",
        "The task for our group is broadly to conduct research and analysis on different mechanical sedimentation and sludge removal systems in order to determine the optimal design for the Fairmont Sedimentation Plant. More specifically, this task can be broken down into smaller components: \n",
        "\n",
        "\n",
        "1.   to analyse the constraints that bind the sedimentation-sludge removal system\n",
        "2.   to determine the underlying physical principals that guide these constraints, \n",
        "3.   to assess different alternatives for design that arise from those constraints and physical principles, and lastly \n",
        "4.   to arrive at a final design proposal for the sedimentation system."
      ]
    },
    {
      "cell_type": "markdown",
      "metadata": {
        "id": "WoGtXtBGQZr5",
        "colab_type": "text"
      },
      "source": [
        "# Executive Summary \n",
        "\n",
        "As explained in the task definition above, there are several tasks that must be accomplished prior to determining the optimal design for the sedimentation and sludge removal system. Each of those steps will be summarized below in order to logically arrive at the the final design proposal.\n",
        "\n",
        "Firstly, there are several prominent constraints that must be taken into account. Below are some of those constraints and requirements:\n",
        "\n",
        "* Design flow rate must be achieved\n",
        "* The design must fit within the physical space allocated - the scope of work gives the sedimentation tanks a 510 foot by 250 foot area, for a total of 127500 $ft^2$.\n",
        "* An extra treatment train is required to prevent system from going offline entirely during cleaning or in the event of a failure, and to accomodate the very large design flow rate.\n",
        "\n",
        "[/Monroe/]: # (Rephrase the previous constraint. The goal is much more than preventing taking the entire plant offline!!!)\n",
        "[/Justin/]: # (Revised--are there any other major reasons for the extra treatment train that we missed?)\n",
        "\n",
        "* The number of sedimentation treatment trains must equal the number of flocculation treatment trains.\n",
        "\n",
        "[/Monroe/]: # (Perhaps, but you could have multiple sedimentation tanks per flocculator.)\n",
        "[/Justin/]: # (The thought here was the number of flocculation and sedimentation *treatment trains* needs to be equal, independent of the number of sedimentation tanks per traitment train.)\n",
        "\n",
        "* Walkways on top of sedimentation tanks are required for ease of maintenance\n",
        "* A minimum sludge removal rate must be achieved to prevent failure\n",
        "* The energy cost of running sludge removal system must not be unreasonable\n",
        "* There must be equal flow through sed tanks in each treatment train\n",
        "\n",
        "Next, the physics behind the unit process in question must be analysed. Here are a few of the physical parameters and ideas that will be explored in more depth in order to arrive at the proposed design.\n",
        "* Communicating with vendors regarding suggested designs\n",
        "* Determining influent and effluent flow paths for different plate settler designs\n",
        "* Determining dimensions of (and quantity of) the sedimentation tanks"
      ]
    },
    {
      "cell_type": "markdown",
      "metadata": {
        "id": "IjuEDt2Z5xOM",
        "colab_type": "text"
      },
      "source": [
        "# Constraints\n",
        "\n",
        "* Relevant regulations\n",
        "* client expectations\n",
        "* site and budget\n",
        "* process capabilities including process design equations\n",
        "* ease of use \n",
        "* operation requirements\n",
        "* maintainence requirements\n",
        "\n",
        "\n",
        "## Design Flow Rate\n",
        "\n",
        "The first constraint for the design of the mechanical sedimentation-sludge system is that it must achiece the required design flow rate of the entire water treatment system. This flow rate is 465 MGD.\n",
        "\n",
        "## Extra Treatment Train\n",
        "\n",
        "The next constraint is that the system must have, at a minimum, an additional treatment train. This is a requirement because it ensures that the plant can still run at the desired flowrate while one treatment train is offline for maintenance; the remaining treatment trains must be able to support the entire design flow as well.\n",
        "\n",
        "[/Monroe/]: # (Clean up the previous paragraph to be consistent with the last sentence in the paragraph. The 2nd sentence is inconsistent with the last sentence.)\n",
        "[/Justin/]: # (Fixed!)\n",
        "\n",
        "\n",
        "## Water Quality\n",
        "\n",
        "Following the [Scope of Work](https://github.com/monroews/CEE4590/blob/master/LADWP/Fairmont%20Sedimentation%20Plant%20Scope%20of%20Work%20_FINAL%2006-01-17.pdf), the sedimentation tanks will be required to treat contaiminants in accordance with this table: \n",
        "\n",
        "![image](https://github.com/MWSteams/4590FSP/blob/master/Images/Sedimentation_Mechanical/water_qual.PNG?raw=true)\n",
        "\n",
        "Given that there is no filtration or additional treatment, all contaminant removal will occur within the sedimentation tank, making this a guiding constaint for the design.  Additionally, influent parameters may vary above the design parameter, so sedimentation tanks should be designed to account for this, if this is possible while meeting the other constraints.  \n",
        "\n",
        "\n",
        "\n",
        "## Surface Loading Rate\n",
        "\n",
        "As stated in the scope of work, the surface loading rate is set at 0.5 gallons per minute per square foot ($gpm/ft^2$) which equals 0.3395 $mm/s$.  This value is taken to be the required capture velocity of the sedimentation tank, and will be used accordingly in determining the necessary dimensions and quantities of the sedimentation tanks in the proposed design.\n",
        "\n",
        "[/Monroe/]: # (Convert this number to mm/s so that you can understand what it is. The nomenclature is terrible and your job is to figure out what this parameter is. You can figure this out! Do the math.)\n",
        "\n",
        "[/Aly/]: # (After some more thinking about this, I think in our case the surface loading rate might be basically the same as the capture velocity? this website {https://www.sciencedirect.com/topics/engineering/surface-loading-rate} describes surface loading rate as flowrate over area and says that particles that fall with a velocity greater than or equal to the surface loading rate will reach the bottom. To me this sounds the same as capture velocity: only particles settling at a velocity greater than or equal to the capture velocity will be captured. I put a couple images in here to kinda help myself understand. Seems like instead of Q/A for plate settlers it would be more like flowrate per channel over area of plate settler or something along those lines. If you rotate the first image {no plate settlers} at an angle you {kinda} get the second plate settlers.)\n",
        "\n",
        "\n",
        "\n",
        "[/Monroe/]: # (Aly, you got it! This surface loading rate is either exactly the more precisely defined capture velocity or it is the flow rate divided by the projected area of the plate settlers which is almost equal to the capture velocity. The capture velocity also takes into account the area of the bottom of the sed tank under the plate settlers. So take that insight and clean up this section of the report.)\n",
        "[/Justin/]: # (We've updated this section accordingly!)\n",
        "\n",
        "\n",
        "\n",
        "## Walkways\n",
        "As stated in the [Scope of Work](https://github.com/monroews/CEE4590/blob/master/LADWP/Fairmont%20Sedimentation%20Plant%20Scope%20of%20Work%20_FINAL%2006-01-17.pdf) section H.3.b, the design should accommodate walkways to allow for proper maintenance and routine operation. This includes the ability to walk directly on the plate settlers. This will constrain the material used for the plate settlers and may influence dimensional and product choices.  Walkways should also be designed to easily allow operators to view and make measurements of each unit process without strain.\n",
        "\n",
        "[/Monroe/]: # (Will it be possible to have walkways that are at the correct elevation for observing flocs rising in the sedimentation tanks?)\n",
        "[/Justin/]: # (What max elevation would this require, do you think? It's largeley dependent on which manufacturer we proceed with, but we can add a response to this dependent on that!)\n",
        "[/Monroe/]: # (The walkways should be lower than the water level in the tanks so that you can lean over and see the flocs coming up through the plate settlers.)\n",
        "[/Justin/]: # (Perfect, we will add this information for the vendor we proceed with)\n",
        "\n",
        "## Physical Space\n",
        "The overall design of the sedimentation tanks will depend on the space available. The space available for the sedimentation tanks may be a factor in determining the size of each sedimentation tank, determining the number of sedimentation tanks per treatment train and/or number of treatment trains, and in choosing a sludge removal product. \n",
        "\n",
        "The Scope of Work provides a proposed plan view of the plant. The available area for the sedimentation tanks is shown in the image below. The total area allocated to the sedimentation tanks is 510 ft. by 250 ft. If the walkways shown are not included in the total plan view area for the sedimentation tanks, each basin (square) shown below is 100 ft. by 100 ft. This gives a total area for just the sedimentation tanks to be 80000 square ft. However, some of this calculated area will be allocated to channels carrying both the influent and effluent; as such, the actual allowable area for the sedimdntation tanks will be lower than this estimate.\n",
        "![image](https://raw.githubusercontent.com/MWSteams/4590FSP/master/Images/Sedimentation_Mechanical/FSP_Sed_tank_plan_view.png)\n",
        "\n",
        "[/Monroe/]: # (What is the space allocated?)\n",
        "[/Aly/]: # (information given in SOW added above)\n",
        "[/Monroe/]: # (We don't yet know how much of the total sed area will be occupied by channels to bring water in and taking water back out again. Thus this total area is NOT available for plate settlers. I also didn't notice until now, but they clearly show 8 sed tanks.)\n",
        "[/Justin/]: # (Updated accordingly!)\n",
        "\n",
        "\n",
        "## Flocculation Treatment Trains\n",
        "The optimal number of flocculation treatment trains will influence the overall sedimentation tank designs because the number of treatment trains will set the flowrate per treatment train which affects the size of the sedimentation tanks and the number of them per train. However, in order to prevent a design that requires twice the design flow rate to meet the aforementioned redundancy requirement, 3 or more sedimentation tanks are recommended.\n",
        "\n",
        "[/Monroe/]: # (How do you know who sets the number of treatment trains? Here you state it is the flocculation team. Why?)\n",
        "[/Justin/]: # (Poor phrasing on our part—we were more saying that sedimentation, based on this cursory anaysis, really only requires a minimum of 2 treatment trains and isn't constrained much beyond that.)\n",
        "[/Monroe/]: # (But if you only have 2 sed tanks then you need to have a total capacity of double the max! )\n",
        "[/Justin/]: # (Added an additional sentence to address this!)\n",
        "\n",
        "## Equal Flow Through Sedimentation Tanks in each Treatment Train\n",
        "\n",
        "In order to provide optimal efficiency, it is important that each sedimentation tank receives it's design flowrate of water, and not more or less.  While this is primarily a focus for the hydraulics team, it will be an important constraint to consider during the design process.  Design will also need to account for the range of flowrates from a design max of $ 720 ft^3/s $ to an average design flowrate $ 320 ft^3/s $, and even lower amounts during drought periods.\n",
        "\n",
        "[/Monroe/]: # (What is the minimum flow that you must be able to treat? We need this number and I'm not sure what it is either!)\n",
        "[/Justin/]: # (We will determine this!)\n",
        "\n",
        "Additionally, it is important that water within each sedimentation tank is evenly distributed and is not preferentially flowing through one section.  This could cause reduced efficiency and allow the escape of flocs below the design capture velocity.\n",
        "\n",
        "## Enclosure of Unit Processes\n",
        "\n",
        "Another important design consideration is the enclosure of all the different unit processes. For example, a common failure mode for sedimentation tanks is caused by density currents due to temperature differences.  If influent water is significantly warmer or cooler than the water within the tank, it can cause short-circuiting flows where is rises faster than designed, or falls to the bottom. For the same reason, any walls that are exposed to sunlight should be made from a material that does not conduct heat well, such as concrete, rather than metal. Without the walls and a roof, the effluent water quality will suffer in the later afternoons due to the aformentioned density currents.\n",
        "\n",
        "Similarly, walls and roofs over the unit processes—be it either one large roof or several smaller structures-will improve water quality further by preventing other particulates from entering the water as it progresses through the treatment process. This is especially important for sedimentation, because particulates (e.g. leaves) falling onto the top of the sedimenation tank can easily escape with the effluent. This presents a signficiant water quality concern.\n",
        "\n",
        "In addition to these two things, enclosed walls will also improve the comfort for operators and improve the system's ease of use. These reasons provide a compelling argument to consider fully enclosing the FWSP. \n",
        "\n",
        "[/Monroe/]: # (I can guarantee that airconditioning is not going to be considered in this design. Convincing them to consider walls and a roof will be a major challenge!)\n",
        "[/Justin/]: # (Do you think we should remove this section from the report entirely then?)\n",
        "[/Monroe/]: # (I wasn't clear. Convincing them to include walls and a roof will be difficult, AND we should try. All of our experiences in Central America support the idea that enclosing a water treatment plant is a water quality issue and an ease of use issue for the operators. This is a very important section and can be made even clearer. Failure to put a roof over this plant will result in higher effluent turbidty due to nonuniform heating of walls and water and this will result in poor performance during early afternoon hours.)\n",
        "[/Justin/]: # (We've updated this section, and added it to our design seciton!)\n",
        "\n",
        "## Accessibility and Maintenance \n",
        "\n",
        "One of the most important design criteria is to allow the entire plant to be easily accessible, so that operators can clearly monitor performance and perform maintenance and cleaning as necessary.  Some important considerations for this include:\n",
        "* Creating an entirely redundant treatment train so each train can be fully taken offline for maintenance\n",
        "* Building spacious walkways that allow easy access and viewing of sedimenation tank\n",
        "* Designing plate settlers that can dissassembled as necessary\n",
        "* Creating a hatch or other system to allow easy access to sludge collection area, in case of failure of mechanical system\n",
        "* Occupation safety must be accounted for in design, construction, and operation\n",
        "* Ease of replacement of a sludge colleciton system must also be considered, as sludge collection can require frequent maintenance; as such, appropriate replacement parts should be stored on-site and the sludge system iteself must be sufficienty easy to replace that it would not take more than several work days \n",
        "\n",
        "[/Monroe/]: # (I like the idea of emphasizing access for cleaning because mechanical sludge collection systems are a maintenance problem. It would be good to require the ability to replace a sludge collection system in a few days and perhaps require that a complete set of replacement parts be kept onsite.)\n",
        "[/Justin/]: # (Added!)"
      ]
    },
    {
      "cell_type": "markdown",
      "metadata": {
        "id": "Jonv4dYSQghA",
        "colab_type": "text"
      },
      "source": [
        "\n",
        "\n",
        "# Physics\n",
        "\n",
        "[/Monroe/]: # (There are so many potential channels that I don't know what the Channel Fluid Velocity is referring to.)\n",
        "### Channel Fluid Velocity\n",
        "Here, the upflow velocity is defined as the fluid velocity in the channels between the plate settlers parallel to the plate settlers. \n",
        "$$v_{f\\theta}=\\frac{Q}{Asin\\theta}$$\n",
        "<br>\n",
        "<center>\n",
        "$Q$ = flowrate of sedimentation tank <br>\n",
        "$A$ = plan view area <br>\n",
        "$\\theta$ = angle of plate settlers with horizontal <br>\n",
        "</center>\n",
        "\n",
        "### Capture Velocity\n",
        "[/Monroe/]: # (Fix the subscripted theta (or consider copying the code directly from the textbook so you don't have to type it in and make mistakes)\n",
        "$$v_{capture}=\\frac{v_{f\\theta}*d}{lcos\\theta+dsin\\theta}$$ \n",
        "<br>\n",
        "<center>\n",
        "$d$ = distance between plate settlers  <br>\n",
        "$l$ = length of plate settlers  <br>\n",
        "$\\theta$ = angle of plate settler from horizontal  \n",
        "</center>\n",
        "\n",
        "This equation will be used to choose the geometric parameters of the plate settlers ($d$, $l$, and $\\theta$) that will yield a capture velocity that is smaller than the terminal velocity of the smallest floc we want to capture. This will ensure that the flocs formed will be able to be captured by the sedimentation tanks. \n",
        "\n",
        "### Terminal Velocity of a Floc\n",
        "$$v_t = \\sqrt{\\frac{4}{3}\\frac{gD}{C_D}\\frac{(\\rho_{floc}-\\rho_{H_2O})}{\\rho_{H_2O}}}$$\n",
        "<br>\n",
        "<center>\n",
        "$v_t$ = particle terminal velocity <br>\n",
        "$g$ = acceleration due to gravity <br>\n",
        "$D$ = particle diameter <br>\n",
        "$C_D$ = drag coefficient <br>\n",
        "$\\rho_{H_2O}$ = density of water <br>\n",
        "$\\rho_{floc}$ = density of floc\n",
        "</center>\n",
        "\n",
        "Because the floc properties are currently unknown, the provided surface loading rate in the SOW will be taken to achieve the desired removal, capturing all particles with a certain desired terminal velocity.\n",
        "\n",
        "[/Monroe/]: # (Floc teams will not be able to tell you the floc properties because no one has a model for floc properties. I'm working on that now and it is a big project.)\n",
        "[/Justin/]: # (Adjusted the previous sentence to address this!)\n",
        "\n",
        "### Flow Equalization \n",
        "\n",
        "As mentioned above in the constraints section, the flow through (1) each of the sedimentation tanks within a treatment train, and (2) each of the plate and/or tube settlers within a sed tank must be equal. This ensures there are no preferential flow paths, and improves the overall performance of the design as such. Generally, this constraint can be expressed as an <s>in</s>equality, as follows:\n",
        "\n",
        "$$Q_{sed, 1}=Q_{sed, 2}= ... =Q_{sed, n}$$\n",
        "$$Q_{plate, 1}=Q_{plate, 2}= ... =Q_{plate, n}$$\n",
        "\n",
        "\n",
        "Physically, each of these can be achieved either hydraulically (hydraulics team) or by being very intentional about the specific dimensions and layout of the final proposed design.\n",
        "\n",
        "[/Monroe/]: # (Here you can include information about how plate settler vendors work to improve flow distribution between plate settlers.)"
      ]
    },
    {
      "cell_type": "markdown",
      "metadata": {
        "id": "eujkPi4P9GDs",
        "colab_type": "text"
      },
      "source": [
        "# Table listing potential strategies to meet the constraints and treatment objectives\n",
        "\n",
        "\n",
        "| Strategy | Advantages  | Disadvantages | Data needed for decision |\n",
        "|---|---|---|---|\n",
        "| Match product availibility to ideal design | as close to ideal design as possible |  may be difficult to find products that match design,<br>may require reworking based on product availibility | theoretical values |\n",
        "| Design based on product availibility | design will incorporate real product specifications from the start | will not be able to achieve ideal design | real product specs |"
      ]
    },
    {
      "cell_type": "markdown",
      "metadata": {
        "id": "J9dPZVMbOka9",
        "colab_type": "text"
      },
      "source": [
        "# Vendors and contact information file\n",
        "\n",
        "See this [tab delimited spreadsheet](https://raw.githubusercontent.com/monroews/4590FSP/master/vendors.txt).\n",
        "\n",
        "Add rows to the vendor spreadsheet as you find them. The sheet can easily be edited in Excel. Just make sure to save it as a tab delimited sheet. Push your changes to github so the entire class has access to the document.\n",
        "\n"
      ]
    },
    {
      "cell_type": "code",
      "metadata": {
        "id": "l35d0BODlEsW",
        "colab_type": "code",
        "outputId": "577791be-646d-424c-b585-def59fef783b",
        "colab": {
          "base_uri": "https://localhost:8080/",
          "height": 515
        }
      },
      "source": [
        "vendors = pd.read_csv('https://raw.githubusercontent.com/monroews/4590FSP/master/vendors.txt',sep='\\t')\n",
        "vendors"
      ],
      "execution_count": 3,
      "outputs": [
        {
          "output_type": "execute_result",
          "data": {
            "text/html": [
              "<div>\n",
              "<style scoped>\n",
              "    .dataframe tbody tr th:only-of-type {\n",
              "        vertical-align: middle;\n",
              "    }\n",
              "\n",
              "    .dataframe tbody tr th {\n",
              "        vertical-align: top;\n",
              "    }\n",
              "\n",
              "    .dataframe thead th {\n",
              "        text-align: right;\n",
              "    }\n",
              "</style>\n",
              "<table border=\"1\" class=\"dataframe\">\n",
              "  <thead>\n",
              "    <tr style=\"text-align: right;\">\n",
              "      <th></th>\n",
              "      <th>item description</th>\n",
              "      <th>vendor</th>\n",
              "      <th>contact first name</th>\n",
              "      <th>contact last name</th>\n",
              "      <th>vendor website</th>\n",
              "      <th>product info</th>\n",
              "      <th>date of contact</th>\n",
              "      <th>who made the contact</th>\n",
              "      <th>notes</th>\n",
              "    </tr>\n",
              "  </thead>\n",
              "  <tbody>\n",
              "    <tr>\n",
              "      <th>0</th>\n",
              "      <td>plate settlers</td>\n",
              "      <td>MRI</td>\n",
              "      <td>still</td>\n",
              "      <td>pending</td>\n",
              "      <td>http://www.meurerresearch.com/</td>\n",
              "      <td>http://www.meurerresearch.com/literaturemedia/...</td>\n",
              "      <td>4/16/2020</td>\n",
              "      <td>Ian Cullings</td>\n",
              "      <td>NaN</td>\n",
              "    </tr>\n",
              "    <tr>\n",
              "      <th>1</th>\n",
              "      <td>sludge removal system</td>\n",
              "      <td>MRI</td>\n",
              "      <td>still</td>\n",
              "      <td>pending</td>\n",
              "      <td>http://www.meurerresearch.com/</td>\n",
              "      <td>http://www.meurerresearch.com/products/hoseles...</td>\n",
              "      <td>4/16/2020</td>\n",
              "      <td>Ian Cullings</td>\n",
              "      <td>NaN</td>\n",
              "    </tr>\n",
              "    <tr>\n",
              "      <th>2</th>\n",
              "      <td>plate settlers</td>\n",
              "      <td>Monore Environmental</td>\n",
              "      <td>still</td>\n",
              "      <td>pending</td>\n",
              "      <td>https://www.monroeenvironmental.com/</td>\n",
              "      <td>https://www.monroeenvironmental.com/water-and-...</td>\n",
              "      <td>4/16/2020</td>\n",
              "      <td>Ian Cullings</td>\n",
              "      <td>NaN</td>\n",
              "    </tr>\n",
              "    <tr>\n",
              "      <th>3</th>\n",
              "      <td>sludge removal system</td>\n",
              "      <td>Monore Environmental</td>\n",
              "      <td>still</td>\n",
              "      <td>pending</td>\n",
              "      <td>https://www.monroeenvironmental.com/</td>\n",
              "      <td>http://www.monroeenvironmental.com/water-and-w...</td>\n",
              "      <td>4/16/2020</td>\n",
              "      <td>Ian Cullings</td>\n",
              "      <td>NaN</td>\n",
              "    </tr>\n",
              "    <tr>\n",
              "      <th>4</th>\n",
              "      <td>plate settler with hopper</td>\n",
              "      <td>Parkson</td>\n",
              "      <td>still</td>\n",
              "      <td>pending</td>\n",
              "      <td>https://www.parkson.com/</td>\n",
              "      <td>https://www.parkson.com/products/lamella-ecoflow</td>\n",
              "      <td>4/16/2020</td>\n",
              "      <td>Ian Cullings</td>\n",
              "      <td>Includes sloped sludge hopper in design</td>\n",
              "    </tr>\n",
              "    <tr>\n",
              "      <th>5</th>\n",
              "      <td>rapid mixer (mech)</td>\n",
              "      <td>Dynamix</td>\n",
              "      <td>still</td>\n",
              "      <td>pending</td>\n",
              "      <td>https://www.dynamixinc.com</td>\n",
              "      <td>https://www.dynamixinc.com/industries/waste-wa...</td>\n",
              "      <td>4/16/2020</td>\n",
              "      <td>Lynn Li</td>\n",
              "      <td>NaN</td>\n",
              "    </tr>\n",
              "    <tr>\n",
              "      <th>6</th>\n",
              "      <td>rapid mixer (mech)</td>\n",
              "      <td>Meurer Research</td>\n",
              "      <td>still</td>\n",
              "      <td>pending</td>\n",
              "      <td>http://www.meurerresearch.com</td>\n",
              "      <td>http://www.meurerresearch.com/products/mixer/</td>\n",
              "      <td>4/16/2020</td>\n",
              "      <td>Lynn Li</td>\n",
              "      <td>NaN</td>\n",
              "    </tr>\n",
              "    <tr>\n",
              "      <th>7</th>\n",
              "      <td>rapid mixer (mech)</td>\n",
              "      <td>Philadelphia Mixing Solutions</td>\n",
              "      <td>still</td>\n",
              "      <td>pending</td>\n",
              "      <td>https://www.philamixers.com</td>\n",
              "      <td>https://www.philamixers.com/industries/water-w...</td>\n",
              "      <td>4/16/20</td>\n",
              "      <td>Lynn Li</td>\n",
              "      <td>NaN</td>\n",
              "    </tr>\n",
              "    <tr>\n",
              "      <th>8</th>\n",
              "      <td>flocculator (mech)</td>\n",
              "      <td>Sereco</td>\n",
              "      <td>still</td>\n",
              "      <td>pending</td>\n",
              "      <td>http://www.sereco.it/</td>\n",
              "      <td>https://www.directindustry.com/prod/sereco/pro...</td>\n",
              "      <td>05/04/2020</td>\n",
              "      <td>Lynn Li</td>\n",
              "      <td>NaN</td>\n",
              "    </tr>\n",
              "  </tbody>\n",
              "</table>\n",
              "</div>"
            ],
            "text/plain": [
              "            item description  ...                                    notes\n",
              "0             plate settlers  ...                                      NaN\n",
              "1      sludge removal system  ...                                      NaN\n",
              "2             plate settlers  ...                                      NaN\n",
              "3      sludge removal system  ...                                      NaN\n",
              "4  plate settler with hopper  ...  Includes sloped sludge hopper in design\n",
              "5         rapid mixer (mech)  ...                                      NaN\n",
              "6         rapid mixer (mech)  ...                                      NaN\n",
              "7         rapid mixer (mech)  ...                                      NaN\n",
              "8         flocculator (mech)  ...                                      NaN\n",
              "\n",
              "[9 rows x 9 columns]"
            ]
          },
          "metadata": {
            "tags": []
          },
          "execution_count": 3
        }
      ]
    },
    {
      "cell_type": "markdown",
      "metadata": {
        "id": "-jwNKdrCOmux",
        "colab_type": "text"
      },
      "source": [
        "# Shared assumptions\n",
        "\n",
        "See this [python file, Fairmont.py](https://github.com/monroews/4590FSP/blob/master/Fairmont.py)\n",
        "\n",
        "Use this file to hold parameters that are in the SOW or elsewhere that\n",
        "influence the design of the entire plant. This provides an easy mechanism\n",
        "for all of us to share the same assumptions. Read the SOW to find sections that relate to your part of the design and enter all pertinent variables into [Fairmont.py](https://github.com/monroews/4590FSP/blob/master/Fairmont.py) and then push those changes to github.\n",
        "\n",
        "# Major Decisions\n",
        "\n",
        "## Capture Velocity and Floc Density\n",
        "\n",
        "Initially, the team worked to study more specifically the structure of the flocs that would be expected at the Fairmont plant.  By characterizing the density of these flocs, the design capture velocity could be altered to better capture these particles.  However, lacking either a strong model of floc formation with $FeCl_3$, or the ability to run experiments on floc formation, it is impossible to find a good estimate for this value.  Instead the team has decided to move forward with design using the given capture velocity (described as the surface loading rate in the scope of work) of 0.3395 mm/s.  There is still not clarity on how this number was determined.\n",
        "\n",
        "## Sludge Production Rate\n",
        "\n",
        "Similar to the problem of floc density, the team initially wanted to better characterize the sludge production rate within the reactors.  However, work by the residuals team verified that the value given in the scope of work, 144 wet tons per day, was a good estimate.  Without better data on peak turbidity events, this is the best estimate we can find for production.\n",
        "\n",
        "## Quantity and Size of Sedimentation Basins\n",
        "\n",
        "Another major decision is the size of each sedimentation basin, as well as the overall quantity of sedimentation basins. In deciding these values, first several other water treatment plants of comparable size were analyzed using Google Maps. Next, using the provided surface loading rate and available area, as well as the dimension ranges provided in the MWH Drinking Water Treatment Textbook, proposed dimensions were arrived on (roughly 30' by 110'), as well as a quantity of sedimentation tanks (7, and one redundant tank). \n",
        "\n",
        "## Design of Sedimentation Tank Inlets and Outlets\n",
        "\n",
        "Finally, the design of the sedimentation tank inlets and outlets is another major concern in finalizing the design of the sedimentation unit process. Currently, the team is in communication with MRI and Parkson to try to determine how their own in-place plate settler package units are able to direct and control flow both before and after entering the sedimentation basin. Once a clear explanation is recieved, the team will determine an appropriate design accordingly.\n",
        "\n",
        "# Next Steps and Challenges\n",
        "\n",
        "The executive summary will be continually revised throughout the duration of the project with new information and findings. Updates to constraints will be made as relevant information from other teams is made available. We will collborate with the Residuals team regarding the sludge removal system and the Flocculation team regarding the characteristics fo the flocs needed for our capture velocity calculations. Further research will be conducted on vendors. Vendors will be contacted for any needed further information. Once this information is gathered, the team will write code to calculate the necessary information for the design. A model or drawing will also be produced.\n",
        "\n",
        "Currently, we are working on improving our model both for the dimensions of the sedimentation tanks themselves, as well as for the hydraulic constraints centered around the velocity of water below the plate settlers. Similarly, we are in communication with Parkson and MRI, and are trying to find guidance and clarity for them regarding their own designs, and how they are able to avoid preferential flow through the bottom of their stand alone plate settler units.\n",
        "\n",
        "Once these models have achieved a sufficient level of sophistication, we will then create a CAD drawing to depict our final proposed design."
      ]
    },
    {
      "cell_type": "markdown",
      "metadata": {
        "id": "DXlB_I6ZOw2J",
        "colab_type": "text"
      },
      "source": [
        "# Design\n",
        "\n",
        "First, in order to determine a feasible range for the dimensions of each individual sedimentation tank, the water treatment plants of several other major cities were analyzed. First, each of the cities’ municipal websites were located to determine the address of their largest treatment plant, then google maps was used to determine the dimensions of the sedimentation tanks if they were outside and therefore visible using satellite view. Using this method, the three following measurements were found:\n",
        "\n",
        "| Location | Design Flow Rate | Number of Sed Tanks | Dimensions of Sed Tanks |\n",
        "| -------- | ---------------- | ------------------- | ----------------------- |\n",
        "| Austin, TX | 50 MGD\t| 3 | 30’ by 110’ |\n",
        "| Houston, TX\t|\t80-160 MGD | 9 | 45’ by 230’ |\n",
        "| San Jose, CA | 100 MGD | 4 | 50’ by 215’|\n",
        "\n",
        "These values provided context for the proposed widths and lengths or the proposed design's sedimentation tanks. For reference, below is a sample Google Maps screenshot depicting the dimensions of the Austin, TX sedimentation basins:\n",
        "\n",
        "![image](https://raw.githubusercontent.com/MWSteams/4590FSP/master/Images/Sedimentation_Mechanical/Austin%2C%20TX%20Sed%20Tanks.png)\n",
        "\n",
        "Below is some preliminary code that calculates some of the most pertinent characteristics of the design of the sedimentation system. \n",
        "\n",
        "To do this, four basins (and two redundant basins) were decided upon using the go-bys provided for the project. Next, values for several geometric parameters were obtained by taking the average values provided in the parameters ranges in the MWH textbook—these values serve as stand-ins before we recieve more precise measurements from the vendor of choice. Using these figures, we were able to determine the energy usage, the surface loading rate, the length of the plate settlers, and the number of plate settlers per basin. Additionally, these measurements were used to calculate total plan view area required for the design."
      ]
    },
    {
      "cell_type": "code",
      "metadata": {
        "id": "IrwTrVM2hZqH",
        "colab_type": "code",
        "outputId": "4132b588-ab79-4082-f15d-bbc1d827f645",
        "colab": {
          "base_uri": "https://localhost:8080/",
          "height": 185
        }
      },
      "source": [
        "print('The average flow to be treated at Fairmont is',fmt.q_ave.to(u.Mgal/u.day),'or')\n",
        "print('The maximum flow to be treated at Fairmont is',fmt.q_max.to(u.Mgal/u.day))\n",
        "specific_energy = (fmt.electricity_power/fmt.q_ave).to(u.J/u.L)\n",
        "temp = 15 * u.degC\n",
        "specific_potential_energy = (specific_energy / u.gravity / ac.density_water(temp)).to(u.m)\n",
        "print('The average amount of energy used per liter of water is expected to be',specific_energy,'or',specific_potential_energy,'of potential energy')\n",
        "\n",
        "surface_loading_rate = (0.5*u.gallon/u.min/u.ft**2).to(u.mm/u.s)\n",
        "print('The surface loading rate is', surface_loading_rate)\n",
        "\n",
        "#number_of_basins = 6\n",
        "#number_of_redundant_basins = 2\n",
        "#fraction_of_max_flow_per_basin = 1/(number_of_basins-number_of_redundant_basins)\n",
        "\n",
        "#For One Basin:\n",
        "# assumed using average values of parameter ranges given in MWH until we have specific vendor dimensions\n",
        "#w = 20*u.m \n",
        "#L = 60*u.m\n",
        "#depth = 4*u.m\n",
        "\n",
        "#q_basin = fraction_of_max_flow_per_basin*fmt.q_max\n",
        "#time_in_basin = (w*L*depth/q_basin).to(u.min)\n",
        "\n",
        "#v_capture = 0.5*u.gallon/u.min/u.ft**2 #from SOW (surface loading rate)\n",
        "#d_plate = 2*u.inch #also assumed average value from MWH until we have vendor specs\n",
        "#angle_plate = (60*u.deg).to(u.radian) #also assumed average value from MWH until we have vendor specs\n",
        "#v_parallel_to_plate = (q_basin/(w*L*np.sin(angle_plate))).to(u.m/u.s)\n",
        "#l_plate = (1/np.cos(angle_plate)*(d_plate/(v_capture/v_parallel_to_plate)-d_plate*np.sin(angle_plate))).to(u.m)\n",
        "#print('The length of the plate settlers is', l_plate)\n",
        "\n",
        "#number_of_plates = (L/d_plate).to(u.dimensionless)\n",
        "#print('The number of settling plates per basin is', number_of_plates)\n",
        "\n",
        "#time_in_plates = (l_plate/(v_parallel_to_plate+v_capture*np.sin(angle_plate))).to(u.min)\n",
        "#print('The detention time in the plate settlers is', time_in_plates)\n",
        "\n",
        "number_of_basins = 8\n",
        "number_of_redundant_basins = 1\n",
        "fraction_of_max_flow_per_basin = 1/(number_of_basins-number_of_redundant_basins)\n",
        "\n",
        "#For One Basin\n",
        "q_basin = fraction_of_max_flow_per_basin*fmt.q_max\n",
        "l_plate = 3*u.m\n",
        "d_plate = 2*u.inch #also assumed average value from MWH until we have vendor specs\n",
        "angle_plate = (60*u.deg).to(u.radian) #also assumed average value from MWH until we have vendor specs\n",
        "v_capture = 0.5*u.gallon/u.min/u.ft**2 #from SOW (surface loading rate)\n",
        "v_parallel = (v_capture*(l_plate*np.cos(angle_plate)+d_plate*np.sin(angle_plate))/d_plate).to(u.m/u.s)\n",
        "print('The velocity parallel to the plates is', v_parallel)\n",
        "area = (q_basin/(v_parallel*np.sin(angle_plate))).to(u.m**2)\n",
        "print('The area of one basin is', area)\n",
        "square_length = area**0.5\n",
        "print('For square basins, the length is', square_length)\n",
        "total_area = area * number_of_basins\n",
        "print('The total area needed for the sed tanks is', total_area)\n",
        "SOW_area = (510*250*u.ft**2).to(u.m**2)\n",
        "print('The total area allocated to the sed tanks in the SOW is', SOW_area)\n",
        "area_reduction_percent = 1 - total_area/SOW_area #Reduction in area seems way too big, what am I missing?\n",
        "area_reduction_amount = SOW_area-total_area\n",
        "print('We can reduce the total surface area needed by',area_reduction_percent,'%, or by', area_reduction_amount)"
      ],
      "execution_count": 4,
      "outputs": [
        {
          "output_type": "stream",
          "text": [
            "The average flow to be treated at Fairmont is 206.8 megagallon / day or\n",
            "The maximum flow to be treated at Fairmont is 465.3 megagallon / day\n",
            "The average amount of energy used per liter of water is expected to be 118.1 joule / liter or 12.05 meter of potential energy\n",
            "The surface loading rate is 0.3395 millimeter / second\n",
            "The velocity parallel to the plates is 0.01032 meter / second\n",
            "The area of one basin is 325.9 meter ** 2\n",
            "For square basins, the length is 18.05 meter\n",
            "The total area needed for the sed tanks is 2607 meter ** 2\n",
            "The total area allocated to the sed tanks in the SOW is 1.185e+04 meter ** 2\n",
            "We can reduce the total surface area needed by 0.7799 dimensionless %, or by 9238 meter ** 2\n"
          ],
          "name": "stdout"
        }
      ]
    },
    {
      "cell_type": "markdown",
      "metadata": {
        "id": "xtIEqwwuL45N",
        "colab_type": "text"
      },
      "source": [
        "### Depth of Sedimentation Tanks\n",
        "\n",
        "Next, we analyzed the physics to investigate the possible dimensions further.  The plots below compare the length of the plate settlers, which is directly related to the depth of the tank, to the maximum upflow velocity possible while maintaining the design capture velocity.  This was determined with equation 421 from the AguaClara textbook:\n",
        "\n",
        "$\\bar v_c = \\frac{S \\bar v_{z_{Plate}}}{Lsin\\alpha cos\\alpha + S}$\n",
        "\n",
        "Analysis was done with the assumption of 2 inch spacing between plate settlers.  This value is still unclear and we are waiting to hear back from vendors on what the typical value is and why.  Decreasing spacing would further increase maximum upflow velocity and reduce plan view area."
      ]
    },
    {
      "cell_type": "code",
      "metadata": {
        "id": "Pqgg-Jf2L5dH",
        "colab_type": "code",
        "outputId": "3ce10965-9a9d-4109-c9ca-a4828326102a",
        "colab": {
          "base_uri": "https://localhost:8080/",
          "height": 312
        }
      },
      "source": [
        "#Plot length of plate settlers versus upflow velocity to get desired capture velocity\n",
        "#assume same assumptions as above, S = 2 in, angle = 60 deg\n",
        "#This can be edited with more specific info from vendors\n",
        "\n",
        "L = np.linspace(1,4,100) * u.m\n",
        "v_z = (v_capture*(L*np.sin(angle_plate)*np.cos(angle_plate)/d_plate)).to(u.mm/u.s)\n",
        "\n",
        "plt.plot(L,v_z)\n",
        "plt.xlabel(\"Length of Plate Settlers (m)\")\n",
        "plt.ylabel(\"Upflow Velocity Below Plate Settlers (mm/s)\")\n",
        "plt.title(\"Maximum Upflow Velocity Under Plate Settlers with Design Capture Velocity of 0.33 mm/s\")"
      ],
      "execution_count": 5,
      "outputs": [
        {
          "output_type": "execute_result",
          "data": {
            "text/plain": [
              "Text(0.5, 1.0, 'Maximum Upflow Velocity Under Plate Settlers with Design Capture Velocity of 0.33 mm/s')"
            ]
          },
          "metadata": {
            "tags": []
          },
          "execution_count": 5
        },
        {
          "output_type": "display_data",
          "data": {
            "image/png": "[encoded data removed]",
            "text/plain": [
              "<Figure size 432x288 with 1 Axes>"
            ]
          },
          "metadata": {
            "tags": [],
            "needs_background": "light"
          }
        }
      ]
    },
    {
      "cell_type": "code",
      "metadata": {
        "id": "s-IFNq6bPrbA",
        "colab_type": "code",
        "outputId": "c6691052-bf40-43be-ce2f-2f40a96b1fd1",
        "colab": {
          "base_uri": "https://localhost:8080/",
          "height": 312
        }
      },
      "source": [
        "#Calculate Plan View Area Based On Upflow Velocity and Length of Plate Settlers\n",
        "A_plan = (fmt.q_max / v_z).to(u.m**2)\n",
        "plt.plot(L,A_plan)\n",
        "plt.xlabel(\"Length of Plate Settlers (m)\")\n",
        "plt.ylabel(\"Plan View Area (m^2)\")\n",
        "plt.title(\"Plan View Area versus Length of Plate Settlers with Design Capture Velocity of 0.33 mm/s\")"
      ],
      "execution_count": 6,
      "outputs": [
        {
          "output_type": "execute_result",
          "data": {
            "text/plain": [
              "Text(0.5, 1.0, 'Plan View Area versus Length of Plate Settlers with Design Capture Velocity of 0.33 mm/s')"
            ]
          },
          "metadata": {
            "tags": []
          },
          "execution_count": 6
        },
        {
          "output_type": "display_data",
          "data": {
            "image/png": "[encoded data removed]",
            "text/plain": [
              "<Figure size 432x288 with 1 Axes>"
            ]
          },
          "metadata": {
            "tags": [],
            "needs_background": "light"
          }
        }
      ]
    },
    {
      "cell_type": "markdown",
      "metadata": {
        "id": "NMizg2dkgMyF",
        "colab_type": "text"
      },
      "source": [
        "The results show that longer plate settlers increase upflow velocity, and thus decrease plan view area and costs significantly.  However, there will also be an economic and design cost with making a deeper tank.  More work is needed on economic analysis to clarify this and find the breakpoint between depth and plan view area.  However, our assumption is that sedimentation tank depth is cheaper to increase than plan view area and thus plate settlers should be as long as possible meeting site and vendor requirements.  We also recommend that all available area in the sedimentation tanks should be filled with plate settlers, only leaving room for flow to enter from the bottom, and sludge to settle."
      ]
    },
    {
      "cell_type": "markdown",
      "metadata": {
        "id": "yG8QmlHrhwbJ",
        "colab_type": "text"
      },
      "source": [
        "### Upflow Velocity at Bottom of Sed Tank\n",
        "\n",
        "The maximum upflow velocity below the plate settlers is also constrained by the sludge falling at the bottom of the plate settlers.  Upflow velocities must be small enough to allow sludge to fall out of the plate settlers and to the bottom to be collected.  Horizontal velocities along the bottom space under the the plate settlers must also be low enough to prevent scouring or resuspension of settled sludge into the water.\n",
        "\n",
        "One possible approach to solving this issue is having flow enter the plate settlers horizontally before flowing upwards.  One example of this are the [MRI plate settlers](https://www.meurerresearch.com/sites/default/files/documents/2020-03/platesettler_singles1.pdf), which are demonstrated in [video](https://www.youtube.com/watch?v=OxYLOGqr10I).  This design includes two important solutions: it uses the helical flow diffuser the reduce velocity coming into the tank, and has entry ports on the side of the plate settlers horzontally (although we are skeptical that most flow enters through these ports and not the bottom of the sedimentation tank).  \n",
        "\n",
        "Without using a process like this, there is little guidance on what is the maximum velocity entering the plate settlers.  Table 10.6 in the MWH textbook (MWH, pg. 681) lists the maximum velocity through tube settlers as 2.5 mm/s, which is significantly smaller than even the shortest plate settler design.  Baed on the physics we would expect this value should be close to the capture velocity to allow the flocs to fall, but this would also required areas unfeasibly large.  The team is still working on quantifying this and creating a safe design.  The current plan is to talk with vendors, Tori, and Mickey about this design constraint.  "
      ]
    },
    {
      "cell_type": "markdown",
      "metadata": {
        "id": "82D7ZOmNTOZk",
        "colab_type": "text"
      },
      "source": [
        "### Flow Distribution Calcs\n",
        "\n",
        "For a large plant with many sed tanks each with many plate settlers, we want to ensure even flows through each part of the basin.  The main sources of headloss through the plate settlers are in the influent manifold, where water enters through an orifice, and the exit, where water flows into a manifold or trough to the next channel.  Headloss through the plate settlers is order $\\mu$m and thus neglibible.  \n",
        "\n",
        "Given that water will flow through the path with the lowest headloss, small changes in headloss through the influent or effluent mainfold can create uneven flow patterns.  To prevent this we create an additional source of headloss that is significantly larger than other losses.  Since other losses are orders of magnitude smaller, this headloss will drive the flow and divide the flow evenly at each source.  \n",
        "\n",
        "This headloss is usually accomplished either by designing the orifices on the effluent mainfold to create additional headloss, or by adding an additional orifice, often within the plate settlers, to create this headloss at the end of the flow path.  \n",
        "\n",
        "To ensure even flow distribution we use the following equation:\n",
        "$\\frac{\\bar v_{P}}{\\bar v_{M_1}} = \\sqrt{\\frac{\\Pi_{Q}^2 + 1}{2(1 - \\Pi_{Q}^2)}}$"
      ]
    },
    {
      "cell_type": "code",
      "metadata": {
        "id": "97-NOWzYPBT1",
        "colab_type": "code",
        "outputId": "9f7e9c52-21b7-4307-8105-ce2e69b35287",
        "colab": {
          "base_uri": "https://localhost:8080/",
          "height": 312
        }
      },
      "source": [
        "def Ratio_Pipe_Manifold_V_Port_to_V_Man(Ratio_Flow):\n",
        "  return np.sqrt((Ratio_Flow**2 + 1)/(2*(1-Ratio_Flow**2)))\n",
        "\n",
        "design_ratio = Ratio_Pipe_Manifold_V_Port_to_V_Man(0.85)\n",
        "eff_vel = v_z * design_ratio\n",
        "plt.plot(v_z,eff_vel)\n",
        "plt.xlabel(\"Upflow Velocity under Plate Settlers (mm/s)\")\n",
        "plt.ylabel(\"Velocity Through Effluent Manifold (mm/s)\")\n",
        "plt.title(\"Design Effluent Velocity for Even Flow with Design Flow Ratio of 0.85\")\n"
      ],
      "execution_count": 7,
      "outputs": [
        {
          "output_type": "execute_result",
          "data": {
            "text/plain": [
              "Text(0.5, 1.0, 'Design Effluent Velocity for Even Flow with Design Flow Ratio of 0.85')"
            ]
          },
          "metadata": {
            "tags": []
          },
          "execution_count": 7
        },
        {
          "output_type": "display_data",
          "data": {
            "image/png": "[encoded data removed]",
            "text/plain": [
              "<Figure size 432x288 with 1 Axes>"
            ]
          },
          "metadata": {
            "tags": [],
            "needs_background": "light"
          }
        }
      ]
    },
    {
      "cell_type": "markdown",
      "metadata": {
        "id": "ctx-NO4kocMO",
        "colab_type": "text"
      },
      "source": [
        "This plot shows a comparison of the required velocity through an effluent mainfold at the top of the plate settlers versus the upflow velocity below the plate settlers.  This velocity could be set by an orifice created with the correct dimensions using the following equation:\n",
        "\n",
        "$ v_{port} = \\frac{Q}{n_{ports}*A_{port}} $\n",
        "\n",
        "\n",
        "A challenge of this approach is that headloss will change if flowrate varies as it is proportional to velocity^2.  One solution for this problem would be to carefully manage flow to each sedimentation tank and shut off unecessary tanks to ensure each runs at close to the maximum velocity always.  Another would be to decrease port velocity further and create more headloss, to ensure there is still optimal headloss at lower flowrates."
      ]
    },
    {
      "cell_type": "markdown",
      "metadata": {
        "id": "nJnuQzTCgNNw",
        "colab_type": "text"
      },
      "source": [
        "### Enclosure of the FWSP\n",
        "\n",
        "An additional final consideration for our design is the full enclosure of the FWSP. As outlined in the constraints section of this Basis of Design Report, the enclosure of the FWSP will (1) prevent issues with density currents negatively impacting effluent water quality, (2) prevent other particulates from entering the plant and damaging effluent water quality, and (3) improve comfort for the operators and ease of use of the plant itself. For these reasons, we propose that the sedimentation unit process, as well as the entire treatment plant, be fully enclosed."
      ]
    },
    {
      "cell_type": "markdown",
      "metadata": {
        "id": "JTwh4RgH1oQi",
        "colab_type": "text"
      },
      "source": [
        "Monroe's reflections\n",
        "I'm interested in seeing what you find about maximum velocity beneath the plate settlers and how that influences the dimensions of the sed tanks.\n",
        "I'd suggest only having one redundant sed tank.\n",
        "See if 8 sed tanks is viable given that they drew that many in the SOW."
      ]
    }
  ]
}