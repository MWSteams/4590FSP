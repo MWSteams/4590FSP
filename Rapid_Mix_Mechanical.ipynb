{
  "nbformat": 4,
  "nbformat_minor": 0,
  "metadata": {
    "colab": {
      "name": "Group3_Rapid_Mix_Mechanical.ipynb",
      "provenance": [],
      "collapsed_sections": []
    },
    "kernelspec": {
      "name": "python3",
      "display_name": "Python 3"
    }
  },
  "cells": [
    {
      "cell_type": "markdown",
      "metadata": {
        "id": "lZNgRSu1Uj8D",
        "colab_type": "text"
      },
      "source": [
        "# Rapid Mix Mechanical\n",
        "\n",
        "Authors: Lynn Li, Allison Tran\n"
      ]
    },
    {
      "cell_type": "code",
      "metadata": {
        "id": "QjwM4ovYUokZ",
        "colab_type": "code",
        "outputId": "6fd27c7b-32bd-4f67-f097-ebf6113cfa10",
        "colab": {
          "base_uri": "https://localhost:8080/",
          "height": 260
        }
      },
      "source": [
        "!pip install aguaclara\n",
        "!pip install molmass"
      ],
      "execution_count": 5,
      "outputs": [
        {
          "output_type": "stream",
          "text": [
            "Requirement already satisfied: aguaclara in /usr/local/lib/python3.6/dist-packages (0.2.0)\n",
            "Requirement already satisfied: matplotlib in /usr/local/lib/python3.6/dist-packages (from aguaclara) (3.2.1)\n",
            "Requirement already satisfied: pint==0.8.1 in /usr/local/lib/python3.6/dist-packages (from aguaclara) (0.8.1)\n",
            "Requirement already satisfied: urllib3 in /usr/local/lib/python3.6/dist-packages (from aguaclara) (1.24.3)\n",
            "Requirement already satisfied: scipy in /usr/local/lib/python3.6/dist-packages (from aguaclara) (1.4.1)\n",
            "Requirement already satisfied: pandas in /usr/local/lib/python3.6/dist-packages (from aguaclara) (1.0.3)\n",
            "Requirement already satisfied: python-dateutil>=2.1 in /usr/local/lib/python3.6/dist-packages (from matplotlib->aguaclara) (2.8.1)\n",
            "Requirement already satisfied: cycler>=0.10 in /usr/local/lib/python3.6/dist-packages (from matplotlib->aguaclara) (0.10.0)\n",
            "Requirement already satisfied: numpy>=1.11 in /usr/local/lib/python3.6/dist-packages (from matplotlib->aguaclara) (1.18.2)\n",
            "Requirement already satisfied: kiwisolver>=1.0.1 in /usr/local/lib/python3.6/dist-packages (from matplotlib->aguaclara) (1.2.0)\n",
            "Requirement already satisfied: pyparsing!=2.0.4,!=2.1.2,!=2.1.6,>=2.0.1 in /usr/local/lib/python3.6/dist-packages (from matplotlib->aguaclara) (2.4.7)\n",
            "Requirement already satisfied: pytz>=2017.2 in /usr/local/lib/python3.6/dist-packages (from pandas->aguaclara) (2018.9)\n",
            "Requirement already satisfied: six>=1.5 in /usr/local/lib/python3.6/dist-packages (from python-dateutil>=2.1->matplotlib->aguaclara) (1.12.0)\n",
            "Requirement already satisfied: molmass in /usr/local/lib/python3.6/dist-packages (2020.1.1)\n"
          ],
          "name": "stdout"
        }
      ]
    },
    {
      "cell_type": "code",
      "metadata": {
        "id": "ttJT8q_wYhAV",
        "colab_type": "code",
        "outputId": "2d1a7a91-51ff-41cc-9409-6ef686ae97ed",
        "colab": {
          "base_uri": "https://localhost:8080/",
          "height": 443
        }
      },
      "source": [
        "from aguaclara.core.units import unit_registry as u\n",
        "import aguaclara as ac\n",
        "import matplotlib.pyplot as plt\n",
        "import numpy as np\n",
        "import pandas as pd\n",
        "import molmass as mol\n",
        "!wget https://raw.githubusercontent.com/MWSteams/4590FSP/master/Fairmont.py\n",
        "import Fairmont as fmt"
      ],
      "execution_count": 6,
      "outputs": [
        {
          "output_type": "stream",
          "text": [
            "--2020-04-17 21:49:20--  https://raw.githubusercontent.com/MWSteams/4590FSP/master/Fairmont.py\n",
            "Resolving raw.githubusercontent.com (raw.githubusercontent.com)... 151.101.0.133, 151.101.64.133, 151.101.128.133, ...\n",
            "Connecting to raw.githubusercontent.com (raw.githubusercontent.com)|151.101.0.133|:443... connected.\n",
            "HTTP request sent, awaiting response... 404 Not Found\n",
            "2020-04-17 21:49:20 ERROR 404: Not Found.\n",
            "\n"
          ],
          "name": "stdout"
        },
        {
          "output_type": "error",
          "ename": "ModuleNotFoundError",
          "evalue": "ignored",
          "traceback": [
            "\u001b[0;31m---------------------------------------------------------------------------\u001b[0m",
            "\u001b[0;31mModuleNotFoundError\u001b[0m                       Traceback (most recent call last)",
            "\u001b[0;32m<ipython-input-6-85e2ca82515b>\u001b[0m in \u001b[0;36m<module>\u001b[0;34m()\u001b[0m\n\u001b[1;32m      6\u001b[0m \u001b[0;32mimport\u001b[0m \u001b[0mmolmass\u001b[0m \u001b[0;32mas\u001b[0m \u001b[0mmol\u001b[0m\u001b[0;34m\u001b[0m\u001b[0;34m\u001b[0m\u001b[0m\n\u001b[1;32m      7\u001b[0m \u001b[0mget_ipython\u001b[0m\u001b[0;34m(\u001b[0m\u001b[0;34m)\u001b[0m\u001b[0;34m.\u001b[0m\u001b[0msystem\u001b[0m\u001b[0;34m(\u001b[0m\u001b[0;34m'wget https://raw.githubusercontent.com/MWSteams/4590FSP/master/Fairmont.py'\u001b[0m\u001b[0;34m)\u001b[0m\u001b[0;34m\u001b[0m\u001b[0;34m\u001b[0m\u001b[0m\n\u001b[0;32m----> 8\u001b[0;31m \u001b[0;32mimport\u001b[0m \u001b[0mFairmont\u001b[0m \u001b[0;32mas\u001b[0m \u001b[0mfmt\u001b[0m\u001b[0;34m\u001b[0m\u001b[0;34m\u001b[0m\u001b[0m\n\u001b[0m",
            "\u001b[0;31mModuleNotFoundError\u001b[0m: No module named 'Fairmont'",
            "",
            "\u001b[0;31m---------------------------------------------------------------------------\u001b[0;32m\nNOTE: If your import is failing due to a missing package, you can\nmanually install dependencies using either !pip or !apt.\n\nTo view examples of installing some common dependencies, click the\n\"Open Examples\" button below.\n\u001b[0;31m---------------------------------------------------------------------------\u001b[0m\n"
          ]
        }
      ]
    },
    {
      "cell_type": "markdown",
      "metadata": {
        "id": "2SQpUtXCR5Xz",
        "colab_type": "text"
      },
      "source": [
        "# Task Definition\n",
        "\n",
        "Our task was to evaluate the process of mechanical rapid mix, methods and strategies to optimize this process, and its purpose and effectiveness as part of the overall water treatment process. In a standard treatment train, rapid mix occurs between coagulant addition and flocculation, and provides an enhanced method of distributing the coagulant evenly through the water. Unfortunately, not much is known about rapid mix and how useful it truly is to the overall treatment train. Therefore our mechanical rapid mix will be aimed to reach a target energy dissipation rate. In turn, we hope that this will result in effectively covering all particles with coagulant. By modifying certain constraints and variables, our goal is to develop code for rapid mix that will accurately predict the turbidity, concentration of dissolved organic matter (DOM), and concentration of arsenic of the water output."
      ]
    },
    {
      "cell_type": "markdown",
      "metadata": {
        "id": "WoGtXtBGQZr5",
        "colab_type": "text"
      },
      "source": [
        "# Executive Summary \n",
        "\n",
        "At this time we cannot make a reccomendation because we aren't sure which contaminant will control the coagulant dosage and therefore we aren't sure which variable(s) we want to optimize in rapid mix. However, we are sure that energy dissipation will be important as well as how effectively the coagulant coats the particles.\n"
      ]
    },
    {
      "cell_type": "markdown",
      "metadata": {
        "id": "Jonv4dYSQghA",
        "colab_type": "text"
      },
      "source": [
        "# Constraints\n",
        "\n",
        "* Relevant Regulations\n",
        "    * The rapid mix step needs to remove partial amounts of turbidity, DOM, and arsenic so that the water is up to drinking standards by the end of the treatment train\n",
        "    * We want to use this unit process to remove as much arsenic as possible\n",
        "* Client Expectations\n",
        "    * Varying rapid mix systems have varying mixing times which then affects the plant's efficiency\n",
        "* Site and Budget\n",
        "    * Varying rapid mix systems will use varying amounts of energy which then affects monthly electricity bills\n",
        "    * Rapid mix mechanical is one of the most energy intensive units in treatment train\n",
        "    * Statics mixers are expensive (MWH)\n",
        "* Process Capabilities Including Process Design Equations\n",
        "    * Residence time affects the volume of water that can be treated at once\n",
        "    * \"Rapid blending must be achieved with water treatment chemicals that involve irreversible competitive consecutive reactions.\" (MWH)\n",
        "* Ease of Use\n",
        "    * Static mixers are simple and reliable but they are prone to clogging (MWH)\n",
        "* Operation Requirements\n",
        "    * If there are multiple treatment trains, parallel treatment trains must receive the same concentration of coagulant; coagulant musst be mixed equally\n",
        "    * Removing arsenic with an iron based coagulant will require a \n",
        "    * The optimal pH for aluminum coagulant nanoparticle formation is between pH of 6.5 and 8.5. Addng coagulant usually reduces pH so somtimes it is necessary to add a base to increase the pH of the raw water\n",
        "* Maintenance Requirements\n",
        "    * Needs to be easy to clean\n",
        "    * Parts that can be easily bought and replaced\n",
        "\n",
        "![Table 6-6](https://github.com/MWSteams/4590FSP/raw/Rapid_Mix_Mechanical/table_6-6.PNG)"
      ]
    },
    {
      "cell_type": "markdown",
      "metadata": {
        "id": "ThTr6ag8a0FN",
        "colab_type": "text"
      },
      "source": [
        "\n",
        "# Physics\n",
        "\n",
        "Briefly describe the physics that will determine whether your portion of the design succeeds or fails. Present relevant equations describing those physical laws and explain how you will use those concepts to guide your design.\n",
        "\n",
        "$$G=\\frac{\\Delta v}{\\Delta h}$$\n",
        "\n",
        "where $G$ is the velocity gradient, $\\Delta v$ is the difference in velocity between two points on two different streamlines and $\\Delta h$ is the distance between the streamlines.\n",
        "\n",
        "G is a measure of how quickly one point of water along one streamline moves in comparison to another point on a different streamline.\n",
        "\n",
        "$$\\varepsilon = G^2 \\nu$$ \n",
        "\n",
        "where $\\epsilon$ is the energy dissipation rate, $G$ is the velocity gradient, and $\\nu$ is the kinematic viscosity of water.\n",
        "\n",
        "It is hypotheiszed that it's ultimately velocity gradients that transport coagulant nanoparticles to the surface of particles.\n",
        "\n",
        "$$P = \\rho \\bar G^2 \\nu Q \\theta$$ \n",
        "\n",
        "where $P$ is power input required, $\\rho$ is density of water, $Q$ is the flow rate, and $\\theta$ is the hydraulic residence time.\n",
        "\n",
        "This equation can be used to estimate electrical motor sizing requirements for mechanical rapid mix units.\n",
        "\n",
        "$$t_{coagulant, \\, application} = \\frac{2.3p C_{CN} \\Lambda_{Clay}^2}{\\pi G k \\, d_{Clay}  L_{Diff_{CN}} }$$\n",
        "\n",
        "where $t$ is time required to reach a target efficiency of application of coagulant nanoparticles to clay, $pC_{CN}$ describes the removal efficiency of other contaminants, and $\\Lambda_{clay}$ is the average spacing of clay particles."
      ]
    },
    {
      "cell_type": "markdown",
      "metadata": {
        "id": "HsnX16jYa3Ow",
        "colab_type": "text"
      },
      "source": [
        "# Table Listing Potential Strategies to Meet the Constraints and Treatment Objectives\n",
        "\n",
        "| strategies | advantages | disadvantages | data needed for decision |\n",
        "| ---------- | ---------- | ---------- | ---------- |\n",
        "| Reducing energy used to power mechanical mixers | Lower cost, lower electricity usage | Less power to mixers affects energy dissipation, velocity, residence time, and more | Power usage typical for mechanical rapid mix |\n",
        "| Modifying coagulant dosage to ensure removal of arsenic | Meet water treatment plant standards for arsenic removal | Rapid mix can be expensive (coagulant and electricity to power mixers) | Coagulant dosage needed to remove certain concentration of arsenic, cost of powering rapid mixers\n",
        "| Modifying coagulant dosage to ensure even distribution | Increased coagulant will remove more contaminant (arsenic) | Increased coagulant will be more expensive | Type of coagulant used, velocity gradient, ideal dosage, residence time of mixer |\n",
        "\n",
        "![](https://github.com/MWSteams/4590FSP/raw/Rapid_Mix_Mechanical/pump1.PNG)\n",
        "![](https://github.com/MWSteams/4590FSP/raw/Rapid_Mix_Mechanical/pump2.PNG)\n",
        "![](https://github.com/MWSteams/4590FSP/raw/Rapid_Mix_Mechanical/pump3.PNG)\n",
        "\n",
        "[(a) pumped flash mixer, (b) in-line static mixer, and (c) in-line Venturi mixer]"
      ]
    },
    {
      "cell_type": "markdown",
      "metadata": {
        "id": "J9dPZVMbOka9",
        "colab_type": "text"
      },
      "source": [
        "# Vendors and Contact Information File"
      ]
    },
    {
      "cell_type": "code",
      "metadata": {
        "id": "l35d0BODlEsW",
        "colab_type": "code",
        "colab": {}
      },
      "source": [
        "vendors = pd.read_csv('https://raw.githubusercontent.com/MWSteams/4590FSP/master/vendors.txt',sep='\\t')\n",
        "vendors"
      ],
      "execution_count": 0,
      "outputs": []
    },
    {
      "cell_type": "markdown",
      "metadata": {
        "id": "-jwNKdrCOmux",
        "colab_type": "text"
      },
      "source": [
        "# Shared Assumptions\n",
        "\n",
        "See this [python file, Fairmont.py](https://github.com/monroews/4590FSP/blob/master/Fairmont.py)\n",
        "\n",
        "Use this file to hold parameters that are in the SOW or elsewhere that\n",
        "influence the design of the entire plant. This provides an easy mechanism\n",
        "for all of us to share the same assumptions. Read the SOW to find sections that relate to your part of the design and enter all pertinent variables into [Fairmont.py](https://github.com/monroews/4590FSP/blob/master/Fairmont.py) and then push those changes to github."
      ]
    },
    {
      "cell_type": "markdown",
      "metadata": {
        "id": "2d_HqzBWfj4k",
        "colab_type": "text"
      },
      "source": [
        "We are creating our model with the assumption that the main constituents for removal by rapid mix are turbidity, DOM, and arsenic. We will be able to compile a list of pertinent variables once we begin the code for the process and have determined which variables will be needed from the file. "
      ]
    },
    {
      "cell_type": "markdown",
      "metadata": {
        "id": "XStSmjO36duL",
        "colab_type": "text"
      },
      "source": [
        "# Major Decisions\n",
        "\n",
        "Write several paragraphs describing the major decisions that you will need to make in order to create a design and outline a strategy for how you will obtain the necessary information to make those decisions."
      ]
    },
    {
      "cell_type": "markdown",
      "metadata": {
        "id": "JeobVYWx6fp4",
        "colab_type": "text"
      },
      "source": [
        "# Next Steps and Challenges\n",
        "\n",
        "The greatest challenge for us will be to figure out which contaminant (turbidity, DOM, or arsenic) concentration will determine/control the coagulant dose amount. More research needs to be done to better understand how each contaminant reacts to the iron based coagulant and the fluids knowledge behind how they would move in a rapid mix.\n",
        "\n",
        "Hopefully we will be able to find some case studies that include quantitative data in order to move our deisgn forward. We will also be looking at previous AguaClara rapid mix mechanical designs."
      ]
    },
    {
      "cell_type": "markdown",
      "metadata": {
        "id": "DXlB_I6ZOw2J",
        "colab_type": "text"
      },
      "source": [
        "# Design\n",
        "\n",
        "Begin writing the code to start your design. Define flow rates, mass rates, energy requirements, and any readily calculated dimensions, velocities, flows, etc."
      ]
    },
    {
      "cell_type": "code",
      "metadata": {
        "id": "IrwTrVM2hZqH",
        "colab_type": "code",
        "colab": {}
      },
      "source": [
        "print('The average flow to be treated at Fairmont is',fmt.q_ave.to(u.Mgal/u.day),'or')\n",
        "print('The maximum flow to be treated at Fairmont is',fmt.q_max.to(u.Mgal/u.day))\n",
        "specific_energy = (fmt.electricity_power/fmt.q_ave).to(u.J/u.L)\n",
        "temp = 15 * u.degC\n",
        "specific_potential_energy = (specific_energy / u.gravity / ac.density_water(temp)).to(u.m)\n",
        "fsp_flow = 480*(u.Mgal/u.day)\n",
        "# G = \n",
        "print('The average amount of energy used per liter of water is expected to be',specific_energy,'or',specific_potential_energy,'of potential energy')"
      ],
      "execution_count": 0,
      "outputs": []
    },
    {
      "cell_type": "markdown",
      "metadata": {
        "id": "4CqcnOUCyGk3",
        "colab_type": "text"
      },
      "source": [
        "# References\n",
        "\n",
        "https://aguaclara.github.io/Textbook/Rapid_Mix"
      ]
    }
  ]
}