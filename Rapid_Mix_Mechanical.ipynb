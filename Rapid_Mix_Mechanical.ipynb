{
  "nbformat": 4,
  "nbformat_minor": 0,
  "metadata": {
    "colab": {
      "name": "Group3_Rapid_Mix_Mechanical.ipynb",
      "provenance": [],
      "collapsed_sections": [],
      "include_colab_link": true
    },
    "kernelspec": {
      "name": "python3",
      "display_name": "Python 3"
    }
  },
  "cells": [
    {
      "cell_type": "markdown",
      "metadata": {
        "id": "view-in-github",
        "colab_type": "text"
      },
      "source": [
        "<a href=\"https://colab.research.google.com/github/MWSteams/4590FSP/blob/master/Rapid_Mix_Mechanical.ipynb\" target=\"_parent\"><img src=\"https://colab.research.google.com/assets/colab-badge.svg\" alt=\"Open In Colab\"/></a>"
      ]
    },
    {
      "cell_type": "markdown",
      "metadata": {
        "id": "lZNgRSu1Uj8D",
        "colab_type": "text"
      },
      "source": [
        "# Rapid Mix Mechanical\n",
        "\n",
        "Authors: Lynn Li, Allison Tran\n",
        "\n",
        "[/Monroe/]: # (Well done! Great start. In addition to the vendors I'd suggest seeing if you can get any information from the world's biggest water treatment plants to see what other plants of this scale use for rapid mix. This would include the Cottonwood plant that the Fairmont plant will be eliminating and the LA filtration plant. I don't think that you need to know what the coagulant dose will be or what contaminants will be removed in order to design the rapid mix. The big question is whether the rapid mix is supposed to do something in addition to getting the coagulant equally mixed with water before it divides into multiple treatment trains.)"
      ]
    },
    {
      "cell_type": "code",
      "metadata": {
        "id": "QjwM4ovYUokZ",
        "colab_type": "code",
        "outputId": "ea39fe51-9e28-4814-ae1d-716839c06541",
        "colab": {
          "base_uri": "https://localhost:8080/",
          "height": 561
        }
      },
      "source": [
        "!pip install aguaclara\n",
        "!pip install molmass"
      ],
      "execution_count": 1,
      "outputs": [
        {
          "output_type": "stream",
          "text": [
            "Collecting aguaclara\n",
            "\u001b[?25l  Downloading https://files.pythonhosted.org/packages/28/bd/ce0f9f758e58a15e5cc55812679fe6ded155da1b6bac2278e574ce63d728/aguaclara-0.2.0.tar.gz (87kB)\n",
            "\u001b[K     |████████████████████████████████| 92kB 2.4MB/s \n",
            "\u001b[?25hRequirement already satisfied: matplotlib in /usr/local/lib/python3.6/dist-packages (from aguaclara) (3.2.1)\n",
            "Requirement already satisfied: urllib3 in /usr/local/lib/python3.6/dist-packages (from aguaclara) (1.24.3)\n",
            "Collecting pint==0.8.1\n",
            "\u001b[?25l  Downloading https://files.pythonhosted.org/packages/1e/40/6938f7d544eef208a8183c2c80624289e8a4f4e0aea43f4658b9527077de/Pint-0.8.1.tar.gz (162kB)\n",
            "\u001b[K     |████████████████████████████████| 163kB 8.7MB/s \n",
            "\u001b[?25hRequirement already satisfied: pandas in /usr/local/lib/python3.6/dist-packages (from aguaclara) (1.0.3)\n",
            "Requirement already satisfied: scipy in /usr/local/lib/python3.6/dist-packages (from aguaclara) (1.4.1)\n",
            "Requirement already satisfied: pyparsing!=2.0.4,!=2.1.2,!=2.1.6,>=2.0.1 in /usr/local/lib/python3.6/dist-packages (from matplotlib->aguaclara) (2.4.7)\n",
            "Requirement already satisfied: numpy>=1.11 in /usr/local/lib/python3.6/dist-packages (from matplotlib->aguaclara) (1.18.2)\n",
            "Requirement already satisfied: cycler>=0.10 in /usr/local/lib/python3.6/dist-packages (from matplotlib->aguaclara) (0.10.0)\n",
            "Requirement already satisfied: python-dateutil>=2.1 in /usr/local/lib/python3.6/dist-packages (from matplotlib->aguaclara) (2.8.1)\n",
            "Requirement already satisfied: kiwisolver>=1.0.1 in /usr/local/lib/python3.6/dist-packages (from matplotlib->aguaclara) (1.2.0)\n",
            "Requirement already satisfied: pytz>=2017.2 in /usr/local/lib/python3.6/dist-packages (from pandas->aguaclara) (2018.9)\n",
            "Requirement already satisfied: six in /usr/local/lib/python3.6/dist-packages (from cycler>=0.10->matplotlib->aguaclara) (1.12.0)\n",
            "Building wheels for collected packages: aguaclara, pint\n",
            "  Building wheel for aguaclara (setup.py) ... \u001b[?25l\u001b[?25hdone\n",
            "  Created wheel for aguaclara: filename=aguaclara-0.2.0-cp36-none-any.whl size=99623 sha256=43c855946a59267dbf9520c907c38e7170f99321355609dacc4a66951352c85c\n",
            "  Stored in directory: /root/.cache/pip/wheels/34/e9/34/0d3722243083a982623290c205c14a08b54ed290ee29219fd2\n",
            "  Building wheel for pint (setup.py) ... \u001b[?25l\u001b[?25hdone\n",
            "  Created wheel for pint: filename=Pint-0.8.1-py2.py3-none-any.whl size=134156 sha256=3eb5ce108aa696f0fbcd2b52833743e207d3d5c973808b66f49327041d735ada\n",
            "  Stored in directory: /root/.cache/pip/wheels/b4/56/36/7c4d6a4e3660e233b95e3b0482551915cb184abca0f93ee1dd\n",
            "Successfully built aguaclara pint\n",
            "Installing collected packages: pint, aguaclara\n",
            "Successfully installed aguaclara-0.2.0 pint-0.8.1\n",
            "Collecting molmass\n",
            "\u001b[?25l  Downloading https://files.pythonhosted.org/packages/12/2b/dd600a36b78bc9ebf9e8ff7c900150c7439af0c55504a4ab8213485cda94/molmass-2020.1.1-py3-none-any.whl (65kB)\n",
            "\u001b[K     |████████████████████████████████| 71kB 2.1MB/s \n",
            "\u001b[?25hInstalling collected packages: molmass\n",
            "Successfully installed molmass-2020.1.1\n"
          ],
          "name": "stdout"
        }
      ]
    },
    {
      "cell_type": "code",
      "metadata": {
        "id": "ttJT8q_wYhAV",
        "colab_type": "code",
        "outputId": "3f7f37ce-e606-4ba2-e788-340f49ec4190",
        "colab": {
          "base_uri": "https://localhost:8080/",
          "height": 204
        }
      },
      "source": [
        "from aguaclara.core.units import unit_registry as u\n",
        "import aguaclara as ac\n",
        "import matplotlib.pyplot as plt\n",
        "import numpy as np\n",
        "import pandas as pd\n",
        "import molmass as mol\n",
        "!wget https://raw.githubusercontent.com/MWSteams/4590FSP/master/Fairmont.py\n",
        "import Fairmont as fmt"
      ],
      "execution_count": 3,
      "outputs": [
        {
          "output_type": "stream",
          "text": [
            "--2020-04-18 14:56:49--  https://raw.githubusercontent.com/MWSteams/4590FSP/master/Fairmont.py\n",
            "Resolving raw.githubusercontent.com (raw.githubusercontent.com)... 151.101.0.133, 151.101.64.133, 151.101.128.133, ...\n",
            "Connecting to raw.githubusercontent.com (raw.githubusercontent.com)|151.101.0.133|:443... connected.\n",
            "HTTP request sent, awaiting response... 200 OK\n",
            "Length: 1604 (1.6K) [text/plain]\n",
            "Saving to: ‘Fairmont.py’\n",
            "\n",
            "\rFairmont.py           0%[                    ]       0  --.-KB/s               \rFairmont.py         100%[===================>]   1.57K  --.-KB/s    in 0s      \n",
            "\n",
            "2020-04-18 14:56:49 (29.0 MB/s) - ‘Fairmont.py’ saved [1604/1604]\n",
            "\n"
          ],
          "name": "stdout"
        }
      ]
    },
    {
      "cell_type": "markdown",
      "metadata": {
        "id": "2SQpUtXCR5Xz",
        "colab_type": "text"
      },
      "source": [
        "# Task Definition\n",
        "\n",
        "Our task was to evaluate the process of mechanical rapid mix, methods and strategies to optimize this process, and its purpose and effectiveness as part of the overall water treatment process. In a standard treatment train, rapid mix occurs between coagulant addition and flocculation, and provides an enhanced method of distributing the coagulant evenly through the water. Unfortunately, not much is known about rapid mix and how useful it truly is to the overall treatment train. Therefore our mechanical rapid mix will be aimed to reach a target energy dissipation rate. In turn, we hope that this will result in effectively covering all particles with coagulant. By modifying certain constraints and variables, our goal is to develop code for rapid mix that will accurately predict the turbidity, concentration of dissolved organic matter (DOM), and concentration of arsenic of the water output."
      ]
    },
    {
      "cell_type": "markdown",
      "metadata": {
        "id": "WoGtXtBGQZr5",
        "colab_type": "text"
      },
      "source": [
        "# Executive Summary \n",
        "\n",
        "At this time we cannot make a reccomendation because we aren't sure which contaminant will control the coagulant dosage and therefore we aren't sure which variable(s) we want to optimize in rapid mix. However, we are sure that energy dissipation will be important as well as how effectively the coagulant coats the particles.\n",
        "\n",
        "[/Monroe/]: # (Mixing coagulant uniformly with the raw water before splitting the flow into multiple treatment trains might be one of the goals of rapid mix in this plant. I suspect that your design will not be influenced in any way by knowing the contaminant that controls the coagulant dosage because we don't have a physics-based model for the design of the rapid mix. See https://aguaclara.github.io/Textbook/Rapid_Mix/RM_Derivations.html#turbulent-large-scale-eddies for mixing length estimates. Note that you would want to include a safety factor on these equations.)\n"
      ]
    },
    {
      "cell_type": "markdown",
      "metadata": {
        "id": "Jonv4dYSQghA",
        "colab_type": "text"
      },
      "source": [
        "# Constraints\n",
        "\n",
        "* Relevant Regulations\n",
        "    * The rapid mix step needs to remove partial amounts of turbidity, DOM, and arsenic so that the water is up to drinking standards by the end of the treatment train \n",
        "    * We want to use this unit process to remove as much arsenic as possible\n",
        "[/Monroe/]: # (Rapid Mix doesn't remove anything!)\n",
        "* Client Expectations\n",
        "    * Varying rapid mix systems have varying mixing times which then affects the plant's efficiency \n",
        "[/Monroe/]: # (Not clear if mixing times influence plant efficiency)\n",
        "* Site and Budget\n",
        "    * Varying rapid mix systems will use varying amounts of energy which then affects monthly electricity bills \n",
        "[/Monroe/]: # (Not clear what you mean here)\n",
        "    * Rapid mix mechanical is one of the most energy intensive units in treatment train\n",
        "    * Statics mixers are expensive (MWH)\n",
        "    \n",
        "* Process Capabilities Including Process Design Equations\n",
        "    * Residence time affects the volume of water that can be treated at once \n",
        "    \n",
        "[/Monroe/]: # (Residence time sets the required VOLUME of the unit. Calculate this for a range of designs.)\n",
        "    * \"Rapid blending must be achieved with water treatment chemicals that involve irreversible competitive consecutive reactions.\" (MWH) \n",
        "[/Monroe/]: # (Be skeptical of this statement.)\n",
        "* Ease of Use\n",
        "    * Static mixers are simple and reliable but they are prone to clogging (MWH)\n",
        "* Operation Requirements\n",
        "    * If there are multiple treatment trains, parallel treatment trains must receive the same concentration of coagulant; coagulant musst be mixed equally\n",
        "    * Removing arsenic with an iron based coagulant will require a \n",
        "    * The optimal pH for aluminum coagulant nanoparticle formation is between pH of 6.5 and 8.5. Adding coagulant usually reduces pH so somtimes it is necessary to add a base to increase the pH of the raw water\n",
        "* Maintenance Requirements\n",
        "    * Needs to be easy to clean\n",
        "    * Parts that can be easily bought and replaced\n",
        "\n",
        "[/Monroe/]: # (A big design question is whether the rapid mix units are before or after the flow splitting to treatment trains.)\n",
        "\n",
        "[/Monroe/]: # (I'm not sure, but I believe the table below is for a very unusual case where the coagulant is at concentrations below its solubility limit. We certainly don't attempt to have mixing complete in 0.3 seconds in AguaClara plants and some plant operators for conventional water treatment plants have turned off the rapid mix units and not seen a change in performance.)\n",
        "\n",
        "[/Monroe/]: # (Quote from Benjamin and Lawler [https://newcatalog.library.cornell.edu/catalog/8516026] page 546: \"While much research remains to be done on the interactions of chemicals, paricles, and mixing, the emerging picture at this point is tha ta high degree of turbulence leads to more efficient chemical use for destabilization by adsorption and charge neutralization, whereas destabilization by precipitation is less sensitive to the mixing conditions.\" My understanding is that drinking water treatment plants use destabilization by precipitation; the only mechanism that we have been able to replicate in our labs here at Cornell. We now recognize that it isn't destabilization, but rather is simply that the coagulant nanoparticles are sticky.)\n",
        "\n",
        "See [new resources](https://raw.githubusercontent.com/MWSteams/4590FSP/master/resources.md) for information on rapid mix and the Cottonwood plant.\n",
        "\n",
        "![Table 6-6](https://github.com/MWSteams/4590FSP/raw/Rapid_Mix_Mechanical/table_6-6.PNG)"
      ]
    },
    {
      "cell_type": "markdown",
      "metadata": {
        "id": "ThTr6ag8a0FN",
        "colab_type": "text"
      },
      "source": [
        "\n",
        "# Physics\n",
        "\n",
        "Briefly describe the physics that will determine whether your portion of the design succeeds or fails. Present relevant equations describing those physical laws and explain how you will use those concepts to guide your design.\n",
        "\n",
        "$$G=\\frac{\\Delta v}{\\Delta h}$$\n",
        "\n",
        "where $G$ is the velocity gradient, $\\Delta v$ is the difference in velocity between two points on two different streamlines and $\\Delta h$ is the distance between the streamlines.\n",
        "\n",
        "G is a measure of how quickly one point of water along one streamline moves in comparison to another point on a different streamline.\n",
        "\n",
        "$$\\varepsilon = G^2 \\nu$$ \n",
        "\n",
        "where $\\epsilon$ is the energy dissipation rate, $G$ is the velocity gradient, and $\\nu$ is the kinematic viscosity of water.\n",
        "\n",
        "It is hypotheiszed that it's ultimately velocity gradients that transport coagulant nanoparticles to the surface of particles.\n",
        "\n",
        "$$P = \\rho \\bar G^2 \\nu Q \\theta$$ \n",
        "\n",
        "where $P$ is power input required, $\\rho$ is density of water, $Q$ is the flow rate, and $\\theta$ is the hydraulic residence time.\n",
        "\n",
        "This equation can be used to estimate electrical motor sizing requirements for mechanical rapid mix units.\n",
        "\n",
        "$$t_{coagulant, \\, application} = \\frac{2.3p C_{CN} \\Lambda_{Clay}^2}{\\pi G k \\, d_{Clay}  L_{Diff_{CN}} }$$\n",
        "\n",
        "where $t$ is time required to reach a target efficiency of application of coagulant nanoparticles to clay, $pC_{CN}$ describes the removal efficiency of other contaminants, and $\\Lambda_{clay}$ is the average spacing of clay particles.\n",
        "\n",
        "[/Monroe/]: # (The previous equation needs to be combined with an estimate of the diffusion length scale for the coagulant nanoparticles. In any case that equation strongly suggests that the coagulant nanoparticles are not transported to the clay surfaces in the short amount of time spent in the rapid mix.)\n",
        "\n",
        "[/Monroe/]: # (Another equation is the eddy turnover time\n",
        "https://aguaclara.github.io/Textbook/Rapid_Mix/RM_Derivations.html#equation-rapid-mix-rm-derivations-38)"
      ]
    },
    {
      "cell_type": "markdown",
      "metadata": {
        "id": "HsnX16jYa3Ow",
        "colab_type": "text"
      },
      "source": [
        "# Table Listing Potential Strategies to Meet the Constraints and Treatment Objectives\n",
        "\n",
        "| strategies | advantages | disadvantages | data needed for decision |\n",
        "| ---------- | ---------- | ---------- | ---------- |\n",
        "| Reducing energy used to power mechanical mixers | Lower cost, lower electricity usage | Less power to mixers affects energy dissipation, velocity, residence time, and more | Power usage typical for mechanical rapid mix |\n",
        "| Modifying coagulant dosage to ensure removal of arsenic | Meet water treatment plant standards for arsenic removal | Rapid mix can be expensive (coagulant and electricity to power mixers) | Coagulant dosage needed to remove certain concentration of arsenic, cost of powering rapid mixers\n",
        "| Modifying coagulant dosage to ensure even distribution | Increased coagulant will remove more contaminant (arsenic) | Increased coagulant will be more expensive | Type of coagulant used, velocity gradient, ideal dosage, residence time of mixer |\n",
        "\n",
        "![](https://github.com/MWSteams/4590FSP/raw/Rapid_Mix_Mechanical/pump1.PNG)\n",
        "![](https://github.com/MWSteams/4590FSP/raw/Rapid_Mix_Mechanical/pump2.PNG)\n",
        "![](https://github.com/MWSteams/4590FSP/raw/Rapid_Mix_Mechanical/pump3.PNG)\n",
        "\n",
        "[(a) pumped flash mixer, (b) in-line static mixer, and (c) in-line Venturi mixer]"
      ]
    },
    {
      "cell_type": "markdown",
      "metadata": {
        "id": "J9dPZVMbOka9",
        "colab_type": "text"
      },
      "source": [
        "# Vendors and Contact Information File\n",
        "\n",
        "[/Monroe/]: # (Excellent work finding some suppliers)"
      ]
    },
    {
      "cell_type": "code",
      "metadata": {
        "id": "l35d0BODlEsW",
        "colab_type": "code",
        "colab": {
          "base_uri": "https://localhost:8080/",
          "height": 399
        },
        "outputId": "a2dfd6ae-be0a-4ab9-b02c-cb7d27744998"
      },
      "source": [
        "vendors = pd.read_csv('https://raw.githubusercontent.com/MWSteams/4590FSP/master/vendors.txt',sep='\\t')\n",
        "vendors"
      ],
      "execution_count": 4,
      "outputs": [
        {
          "output_type": "execute_result",
          "data": {
            "text/html": [
              "<div>\n",
              "<style scoped>\n",
              "    .dataframe tbody tr th:only-of-type {\n",
              "        vertical-align: middle;\n",
              "    }\n",
              "\n",
              "    .dataframe tbody tr th {\n",
              "        vertical-align: top;\n",
              "    }\n",
              "\n",
              "    .dataframe thead th {\n",
              "        text-align: right;\n",
              "    }\n",
              "</style>\n",
              "<table border=\"1\" class=\"dataframe\">\n",
              "  <thead>\n",
              "    <tr style=\"text-align: right;\">\n",
              "      <th></th>\n",
              "      <th>item description</th>\n",
              "      <th>vendor</th>\n",
              "      <th>contact first name</th>\n",
              "      <th>contact last name</th>\n",
              "      <th>vendor website</th>\n",
              "      <th>product info</th>\n",
              "      <th>date of contact</th>\n",
              "      <th>who made the contact</th>\n",
              "      <th>notes</th>\n",
              "    </tr>\n",
              "  </thead>\n",
              "  <tbody>\n",
              "    <tr>\n",
              "      <th>0</th>\n",
              "      <td>plate settlers</td>\n",
              "      <td>MRI</td>\n",
              "      <td>still</td>\n",
              "      <td>pending</td>\n",
              "      <td>http://www.meurerresearch.com/</td>\n",
              "      <td>http://www.meurerresearch.com/literaturemedia/...</td>\n",
              "      <td>4/16/2020</td>\n",
              "      <td>Ian Cullings</td>\n",
              "      <td>NaN</td>\n",
              "    </tr>\n",
              "    <tr>\n",
              "      <th>1</th>\n",
              "      <td>sludge removal system</td>\n",
              "      <td>MRI</td>\n",
              "      <td>still</td>\n",
              "      <td>pending</td>\n",
              "      <td>http://www.meurerresearch.com/</td>\n",
              "      <td>http://www.meurerresearch.com/products/hoseles...</td>\n",
              "      <td>4/16/2020</td>\n",
              "      <td>Ian Cullings</td>\n",
              "      <td>NaN</td>\n",
              "    </tr>\n",
              "    <tr>\n",
              "      <th>2</th>\n",
              "      <td>plate settlers</td>\n",
              "      <td>Monore Environmental</td>\n",
              "      <td>still</td>\n",
              "      <td>pending</td>\n",
              "      <td>https://www.monroeenvironmental.com/</td>\n",
              "      <td>https://www.monroeenvironmental.com/water-and-...</td>\n",
              "      <td>4/16/2020</td>\n",
              "      <td>Ian Cullings</td>\n",
              "      <td>NaN</td>\n",
              "    </tr>\n",
              "    <tr>\n",
              "      <th>3</th>\n",
              "      <td>sludge removal system</td>\n",
              "      <td>Monore Environmental</td>\n",
              "      <td>still</td>\n",
              "      <td>pending</td>\n",
              "      <td>https://www.monroeenvironmental.com/</td>\n",
              "      <td>http://www.monroeenvironmental.com/water-and-w...</td>\n",
              "      <td>4/16/2020</td>\n",
              "      <td>Ian Cullings</td>\n",
              "      <td>NaN</td>\n",
              "    </tr>\n",
              "    <tr>\n",
              "      <th>4</th>\n",
              "      <td>plate settler with hopper</td>\n",
              "      <td>Parkson</td>\n",
              "      <td>still</td>\n",
              "      <td>pending</td>\n",
              "      <td>https://www.parkson.com/</td>\n",
              "      <td>https://www.parkson.com/products/lamella-ecoflow</td>\n",
              "      <td>4/16/2020</td>\n",
              "      <td>Ian Cullings</td>\n",
              "      <td>Includes sloped sludge hopper in design</td>\n",
              "    </tr>\n",
              "    <tr>\n",
              "      <th>5</th>\n",
              "      <td>rapid mixer (mech)</td>\n",
              "      <td>Dynamix</td>\n",
              "      <td>still</td>\n",
              "      <td>pending</td>\n",
              "      <td>https://www.dynamixinc.com</td>\n",
              "      <td>https://www.dynamixinc.com/industries/waste-wa...</td>\n",
              "      <td>4/16/2020</td>\n",
              "      <td>Lynn Li</td>\n",
              "      <td>NaN</td>\n",
              "    </tr>\n",
              "    <tr>\n",
              "      <th>6</th>\n",
              "      <td>rapid mixer (mech)</td>\n",
              "      <td>Meurer Research</td>\n",
              "      <td>still</td>\n",
              "      <td>pending</td>\n",
              "      <td>http://www.meurerresearch.com</td>\n",
              "      <td>http://www.meurerresearch.com/products/mixer/</td>\n",
              "      <td>4/16/2020</td>\n",
              "      <td>Lynn Li</td>\n",
              "      <td>NaN</td>\n",
              "    </tr>\n",
              "    <tr>\n",
              "      <th>7</th>\n",
              "      <td>rapid mixer (mech)</td>\n",
              "      <td>Philadelphia Mixing Solutions</td>\n",
              "      <td>still</td>\n",
              "      <td>pending</td>\n",
              "      <td>https://www.philamixers.com</td>\n",
              "      <td>https://www.philamixers.com/industries/water-w...</td>\n",
              "      <td>4/16/20</td>\n",
              "      <td>Lynn Li</td>\n",
              "      <td>NaN</td>\n",
              "    </tr>\n",
              "  </tbody>\n",
              "</table>\n",
              "</div>"
            ],
            "text/plain": [
              "            item description  ...                                    notes\n",
              "0             plate settlers  ...                                      NaN\n",
              "1      sludge removal system  ...                                      NaN\n",
              "2             plate settlers  ...                                      NaN\n",
              "3      sludge removal system  ...                                      NaN\n",
              "4  plate settler with hopper  ...  Includes sloped sludge hopper in design\n",
              "5         rapid mixer (mech)  ...                                      NaN\n",
              "6         rapid mixer (mech)  ...                                      NaN\n",
              "7         rapid mixer (mech)  ...                                      NaN\n",
              "\n",
              "[8 rows x 9 columns]"
            ]
          },
          "metadata": {
            "tags": []
          },
          "execution_count": 4
        }
      ]
    },
    {
      "cell_type": "markdown",
      "metadata": {
        "id": "-jwNKdrCOmux",
        "colab_type": "text"
      },
      "source": [
        "# Shared Assumptions\n",
        "\n",
        "See this [python file, Fairmont.py](https://github.com/monroews/4590FSP/blob/master/Fairmont.py)\n",
        "\n",
        "Use this file to hold parameters that are in the SOW or elsewhere that\n",
        "influence the design of the entire plant. This provides an easy mechanism\n",
        "for all of us to share the same assumptions. Read the SOW to find sections that relate to your part of the design and enter all pertinent variables into [Fairmont.py](https://github.com/monroews/4590FSP/blob/master/Fairmont.py) and then push those changes to github."
      ]
    },
    {
      "cell_type": "markdown",
      "metadata": {
        "id": "2d_HqzBWfj4k",
        "colab_type": "text"
      },
      "source": [
        "We are creating our model with the assumption that the main constituents for removal by rapid mix are turbidity, DOM, and arsenic. \n",
        "\n",
        "[/Monroe/]: # (Rewrite this now that you recall that rapid mix doesn't remove anything.)\n",
        "\n",
        "We will be able to compile a list of pertinent variables once we begin the code for the process and have determined which variables will be needed from the file. \n",
        "\n",
        "[/Monroe/]: # (You can also create a range of rapid mix volumes, power requirements, and annual operating costs for standard designs for rapid mix units. Those preliminary designs are trivial and will help give insight for goal of reducing the energy footprint of this facility.)"
      ]
    },
    {
      "cell_type": "markdown",
      "metadata": {
        "id": "XStSmjO36duL",
        "colab_type": "text"
      },
      "source": [
        "# Major Decisions\n",
        "\n",
        "Write several paragraphs describing the major decisions that you will need to make in order to create a design and outline a strategy for how you will obtain the necessary information to make those decisions."
      ]
    },
    {
      "cell_type": "markdown",
      "metadata": {
        "id": "JeobVYWx6fp4",
        "colab_type": "text"
      },
      "source": [
        "# Next Steps and Challenges\n",
        "\n",
        "The greatest challenge for us will be to figure out which contaminant (turbidity, DOM, or arsenic) concentration will determine/control the coagulant dose amount. More research needs to be done to better understand how each contaminant reacts to the iron based coagulant and the fluids knowledge behind how they would move in a rapid mix.\n",
        "\n",
        "Hopefully we will be able to find some case studies that include quantitative data in order to move our deisgn forward. We will also be looking at previous AguaClara rapid mix mechanical designs."
      ]
    },
    {
      "cell_type": "markdown",
      "metadata": {
        "id": "DXlB_I6ZOw2J",
        "colab_type": "text"
      },
      "source": [
        "# Design\n",
        "\n",
        "Begin writing the code to start your design. Define flow rates, mass rates, energy requirements, and any readily calculated dimensions, velocities, flows, etc."
      ]
    },
    {
      "cell_type": "code",
      "metadata": {
        "id": "IrwTrVM2hZqH",
        "colab_type": "code",
        "colab": {}
      },
      "source": [
        "print('The average flow to be treated at Fairmont is',fmt.q_ave.to(u.Mgal/u.day),'or')\n",
        "print('The maximum flow to be treated at Fairmont is',fmt.q_max.to(u.Mgal/u.day))\n",
        "specific_energy = (fmt.electricity_power/fmt.q_ave).to(u.J/u.L)\n",
        "temp = 15 * u.degC\n",
        "specific_potential_energy = (specific_energy / u.gravity / ac.density_water(temp)).to(u.m)\n",
        "fsp_flow = 480*(u.Mgal/u.day)\n",
        "# G = \n",
        "print('The average amount of energy used per liter of water is expected to be',specific_energy,'or',specific_potential_energy,'of potential energy')"
      ],
      "execution_count": 0,
      "outputs": []
    },
    {
      "cell_type": "markdown",
      "metadata": {
        "id": "4CqcnOUCyGk3",
        "colab_type": "text"
      },
      "source": [
        "# References\n",
        "\n",
        "https://aguaclara.github.io/Textbook/Rapid_Mix"
      ]
    }
  ]
}