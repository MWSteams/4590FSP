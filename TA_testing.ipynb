{
  "nbformat": 4,
  "nbformat_minor": 0,
  "metadata": {
    "colab": {
      "name": "TA_testing.ipynb",
      "provenance": [],
      "collapsed_sections": [],
      "toc_visible": true,
      "include_colab_link": true
    },
    "kernelspec": {
      "name": "python3",
      "display_name": "Python 3"
    }
  },
  "cells": [
    {
      "cell_type": "markdown",
      "metadata": {
        "id": "view-in-github",
        "colab_type": "text"
      },
      "source": [
        "<a href=\"https://colab.research.google.com/github/MWSteams/4590FSP/blob/master/TA_testing.ipynb\" target=\"_parent\"><img src=\"https://colab.research.google.com/assets/colab-badge.svg\" alt=\"Open In Colab\"/></a>"
      ]
    },
    {
      "cell_type": "markdown",
      "metadata": {
        "id": "lZNgRSu1Uj8D",
        "colab_type": "text"
      },
      "source": [
        "#TAs having fun\n",
        "\n",
        "Authors: Jillian Eirini Nina and Ellie\n",
        "\n",
        "Some update about our tasks that we are going to work on.\n",
        "Testing123123123\n",
        "\n"
      ]
    },
    {
      "cell_type": "code",
      "metadata": {
        "id": "QjwM4ovYUokZ",
        "colab_type": "code",
        "outputId": "69b60e92-5923-42c8-f505-e6bb6d0932e2",
        "colab": {
          "base_uri": "https://localhost:8080/",
          "height": 561
        }
      },
      "source": [
        "!pip install aguaclara\n",
        "!pip install molmass"
      ],
      "execution_count": 1,
      "outputs": [
        {
          "output_type": "stream",
          "text": [
            "Collecting aguaclara\n",
            "\u001b[?25l  Downloading https://files.pythonhosted.org/packages/6d/b5/24c20d548db5d6dbbce2899e0c9e24eab6c5f593a2898b353f356bb9cd3b/aguaclara-0.2.1.tar.gz (87kB)\n",
            "\u001b[K     |████████████████████████████████| 92kB 2.3MB/s \n",
            "\u001b[?25hRequirement already satisfied: matplotlib in /usr/local/lib/python3.6/dist-packages (from aguaclara) (3.2.1)\n",
            "Requirement already satisfied: urllib3 in /usr/local/lib/python3.6/dist-packages (from aguaclara) (1.24.3)\n",
            "Collecting pint==0.8.1\n",
            "\u001b[?25l  Downloading https://files.pythonhosted.org/packages/1e/40/6938f7d544eef208a8183c2c80624289e8a4f4e0aea43f4658b9527077de/Pint-0.8.1.tar.gz (162kB)\n",
            "\u001b[K     |████████████████████████████████| 163kB 7.9MB/s \n",
            "\u001b[?25hRequirement already satisfied: pandas in /usr/local/lib/python3.6/dist-packages (from aguaclara) (1.0.3)\n",
            "Requirement already satisfied: scipy in /usr/local/lib/python3.6/dist-packages (from aguaclara) (1.4.1)\n",
            "Requirement already satisfied: cycler>=0.10 in /usr/local/lib/python3.6/dist-packages (from matplotlib->aguaclara) (0.10.0)\n",
            "Requirement already satisfied: python-dateutil>=2.1 in /usr/local/lib/python3.6/dist-packages (from matplotlib->aguaclara) (2.8.1)\n",
            "Requirement already satisfied: numpy>=1.11 in /usr/local/lib/python3.6/dist-packages (from matplotlib->aguaclara) (1.18.4)\n",
            "Requirement already satisfied: pyparsing!=2.0.4,!=2.1.2,!=2.1.6,>=2.0.1 in /usr/local/lib/python3.6/dist-packages (from matplotlib->aguaclara) (2.4.7)\n",
            "Requirement already satisfied: kiwisolver>=1.0.1 in /usr/local/lib/python3.6/dist-packages (from matplotlib->aguaclara) (1.2.0)\n",
            "Requirement already satisfied: pytz>=2017.2 in /usr/local/lib/python3.6/dist-packages (from pandas->aguaclara) (2018.9)\n",
            "Requirement already satisfied: six in /usr/local/lib/python3.6/dist-packages (from cycler>=0.10->matplotlib->aguaclara) (1.12.0)\n",
            "Building wheels for collected packages: aguaclara, pint\n",
            "  Building wheel for aguaclara (setup.py) ... \u001b[?25l\u001b[?25hdone\n",
            "  Created wheel for aguaclara: filename=aguaclara-0.2.1-cp36-none-any.whl size=99466 sha256=d6ae8e190f7204cc800301b0015f02e4bf11df9d90dbbfb77b11c2793321e60e\n",
            "  Stored in directory: /root/.cache/pip/wheels/7f/ff/4f/10d76e6a261d392aefbdf6ce8d3d5519e924dc334b102ca49b\n",
            "  Building wheel for pint (setup.py) ... \u001b[?25l\u001b[?25hdone\n",
            "  Created wheel for pint: filename=Pint-0.8.1-py2.py3-none-any.whl size=134156 sha256=38cdea3c678af98ad81ae79f6fb4df9baeffe73f66718b8b93d66fa5c400dd6b\n",
            "  Stored in directory: /root/.cache/pip/wheels/b4/56/36/7c4d6a4e3660e233b95e3b0482551915cb184abca0f93ee1dd\n",
            "Successfully built aguaclara pint\n",
            "Installing collected packages: pint, aguaclara\n",
            "Successfully installed aguaclara-0.2.1 pint-0.8.1\n",
            "Collecting molmass\n",
            "\u001b[?25l  Downloading https://files.pythonhosted.org/packages/12/2b/dd600a36b78bc9ebf9e8ff7c900150c7439af0c55504a4ab8213485cda94/molmass-2020.1.1-py3-none-any.whl (65kB)\n",
            "\u001b[K     |████████████████████████████████| 71kB 2.3MB/s \n",
            "\u001b[?25hInstalling collected packages: molmass\n",
            "Successfully installed molmass-2020.1.1\n"
          ],
          "name": "stdout"
        }
      ]
    },
    {
      "cell_type": "code",
      "metadata": {
        "id": "ttJT8q_wYhAV",
        "colab_type": "code",
        "outputId": "f6f74c1f-aa48-4d20-9d86-ca24a888dfee",
        "colab": {
          "base_uri": "https://localhost:8080/",
          "height": 204
        }
      },
      "source": [
        "from aguaclara.core.units import unit_registry as u\n",
        "import aguaclara as ac\n",
        "import matplotlib.pyplot as plt\n",
        "import numpy as np\n",
        "import pandas as pd\n",
        "import molmass as mol\n",
        "!wget https://raw.githubusercontent.com/monroews/4590FSP/master/Fairmont.py\n",
        "import Fairmont as fmt"
      ],
      "execution_count": 2,
      "outputs": [
        {
          "output_type": "stream",
          "text": [
            "--2020-05-14 19:07:59--  https://raw.githubusercontent.com/monroews/4590FSP/master/Fairmont.py\n",
            "Resolving raw.githubusercontent.com (raw.githubusercontent.com)... 151.101.0.133, 151.101.64.133, 151.101.128.133, ...\n",
            "Connecting to raw.githubusercontent.com (raw.githubusercontent.com)|151.101.0.133|:443... connected.\n",
            "HTTP request sent, awaiting response... 200 OK\n",
            "Length: 3052 (3.0K) [text/plain]\n",
            "Saving to: ‘Fairmont.py’\n",
            "\n",
            "\rFairmont.py           0%[                    ]       0  --.-KB/s               \rFairmont.py         100%[===================>]   2.98K  --.-KB/s    in 0s      \n",
            "\n",
            "2020-05-14 19:07:59 (61.4 MB/s) - ‘Fairmont.py’ saved [3052/3052]\n",
            "\n"
          ],
          "name": "stdout"
        }
      ]
    },
    {
      "cell_type": "markdown",
      "metadata": {
        "id": "2SQpUtXCR5Xz",
        "colab_type": "text"
      },
      "source": [
        "# Task Definition\n",
        "\n",
        "Write a paragraph describing what is included in your task."
      ]
    },
    {
      "cell_type": "markdown",
      "metadata": {
        "id": "WoGtXtBGQZr5",
        "colab_type": "text"
      },
      "source": [
        "# Executive Summary \n",
        "\n",
        "Highlight dominant constraints and your recommendation for the design.\n"
      ]
    },
    {
      "cell_type": "markdown",
      "metadata": {
        "id": "Jonv4dYSQghA",
        "colab_type": "text"
      },
      "source": [
        "# Constraints\n",
        "\n",
        "* Relevant regulations\n",
        "* client expectations\n",
        "* site and budget\n",
        "* process capabilities including process design equations\n",
        "* ease of use \n",
        "* operation requirements\n",
        "* maintainence requirements\n",
        "\n",
        "# Physics\n",
        "\n",
        "Briefly describe the physics that will determine whether your portion of the design succeeds or fails. Present relevant equations describing those physical laws and explain how you will use those concepts to guide your design.\n",
        "\n",
        "Replace this with equations that are important to your part of the design. Explain what each equation means.\n",
        "\n",
        "$$ F = ma$$\n",
        "\n",
        "where $F$ is the force, $m$ is the mass, and $a$ is the acceleration.\n",
        "\n",
        "# Table listing potential strategies to meet the constraints and treatment objectives\n",
        "\n",
        "Please remove my two rows of examples!\n",
        "\n",
        "| strategy | advantages  | disadvantages | data needed for decision |\n",
        "|---|---|---|---|\n",
        "| physics-based design | high potential for success | requires knowledge | lots |\n",
        "| wishful design | easy design steps | likely won't work | none |\n",
        "\n"
      ]
    },
    {
      "cell_type": "markdown",
      "metadata": {
        "id": "J9dPZVMbOka9",
        "colab_type": "text"
      },
      "source": [
        "# Vendors and contact information file\n",
        "\n",
        "See this [tab delimited spreadsheet](https://raw.githubusercontent.com/monroews/4590FSP/master/vendors.txt).\n",
        "\n",
        "Add rows to the vendor spreadsheet as you find them. The sheet can easily be edited in Excel. Just make sure to save it as a tab delimited sheet. Push your changes to github so the entire class has access to the document.\n",
        "\n"
      ]
    },
    {
      "cell_type": "code",
      "metadata": {
        "id": "l35d0BODlEsW",
        "colab_type": "code",
        "outputId": "afc152f2-25d7-4958-aa97-68658492d651",
        "colab": {
          "base_uri": "https://localhost:8080/",
          "height": 594
        }
      },
      "source": [
        "vendors = pd.read_csv('https://raw.githubusercontent.com/monroews/4590FSP/master/vendors.txt',sep='\\t')\n",
        "vendors"
      ],
      "execution_count": 3,
      "outputs": [
        {
          "output_type": "execute_result",
          "data": {
            "text/html": [
              "<div>\n",
              "<style scoped>\n",
              "    .dataframe tbody tr th:only-of-type {\n",
              "        vertical-align: middle;\n",
              "    }\n",
              "\n",
              "    .dataframe tbody tr th {\n",
              "        vertical-align: top;\n",
              "    }\n",
              "\n",
              "    .dataframe thead th {\n",
              "        text-align: right;\n",
              "    }\n",
              "</style>\n",
              "<table border=\"1\" class=\"dataframe\">\n",
              "  <thead>\n",
              "    <tr style=\"text-align: right;\">\n",
              "      <th></th>\n",
              "      <th>item description</th>\n",
              "      <th>vendor</th>\n",
              "      <th>contact first name</th>\n",
              "      <th>contact last name</th>\n",
              "      <th>vendor website</th>\n",
              "      <th>product info</th>\n",
              "      <th>date of contact</th>\n",
              "      <th>who made the contact</th>\n",
              "      <th>notes</th>\n",
              "    </tr>\n",
              "  </thead>\n",
              "  <tbody>\n",
              "    <tr>\n",
              "      <th>0</th>\n",
              "      <td>plate settlers</td>\n",
              "      <td>MRI</td>\n",
              "      <td>still</td>\n",
              "      <td>pending</td>\n",
              "      <td>http://www.meurerresearch.com/</td>\n",
              "      <td>http://www.meurerresearch.com/literaturemedia/...</td>\n",
              "      <td>4/16/2020</td>\n",
              "      <td>Ian Cullings</td>\n",
              "      <td>NaN</td>\n",
              "    </tr>\n",
              "    <tr>\n",
              "      <th>1</th>\n",
              "      <td>sludge removal system</td>\n",
              "      <td>MRI</td>\n",
              "      <td>still</td>\n",
              "      <td>pending</td>\n",
              "      <td>http://www.meurerresearch.com/</td>\n",
              "      <td>http://www.meurerresearch.com/products/hoseles...</td>\n",
              "      <td>4/16/2020</td>\n",
              "      <td>Ian Cullings</td>\n",
              "      <td>NaN</td>\n",
              "    </tr>\n",
              "    <tr>\n",
              "      <th>2</th>\n",
              "      <td>plate settlers</td>\n",
              "      <td>Monore Environmental</td>\n",
              "      <td>still</td>\n",
              "      <td>pending</td>\n",
              "      <td>https://www.monroeenvironmental.com/</td>\n",
              "      <td>https://www.monroeenvironmental.com/water-and-...</td>\n",
              "      <td>4/16/2020</td>\n",
              "      <td>Ian Cullings</td>\n",
              "      <td>NaN</td>\n",
              "    </tr>\n",
              "    <tr>\n",
              "      <th>3</th>\n",
              "      <td>sludge removal system</td>\n",
              "      <td>Monore Environmental</td>\n",
              "      <td>still</td>\n",
              "      <td>pending</td>\n",
              "      <td>https://www.monroeenvironmental.com/</td>\n",
              "      <td>http://www.monroeenvironmental.com/water-and-w...</td>\n",
              "      <td>4/16/2020</td>\n",
              "      <td>Ian Cullings</td>\n",
              "      <td>NaN</td>\n",
              "    </tr>\n",
              "    <tr>\n",
              "      <th>4</th>\n",
              "      <td>plate settler with hopper</td>\n",
              "      <td>Parkson</td>\n",
              "      <td>still</td>\n",
              "      <td>pending</td>\n",
              "      <td>https://www.parkson.com/</td>\n",
              "      <td>https://www.parkson.com/products/lamella-ecoflow</td>\n",
              "      <td>4/16/2020</td>\n",
              "      <td>Ian Cullings</td>\n",
              "      <td>Includes sloped sludge hopper in design</td>\n",
              "    </tr>\n",
              "    <tr>\n",
              "      <th>5</th>\n",
              "      <td>rapid mixer (mech)</td>\n",
              "      <td>Dynamix</td>\n",
              "      <td>still</td>\n",
              "      <td>pending</td>\n",
              "      <td>https://www.dynamixinc.com</td>\n",
              "      <td>https://www.dynamixinc.com/industries/waste-wa...</td>\n",
              "      <td>4/16/2020</td>\n",
              "      <td>Lynn Li</td>\n",
              "      <td>NaN</td>\n",
              "    </tr>\n",
              "    <tr>\n",
              "      <th>6</th>\n",
              "      <td>rapid mixer (mech)</td>\n",
              "      <td>Meurer Research</td>\n",
              "      <td>still</td>\n",
              "      <td>pending</td>\n",
              "      <td>http://www.meurerresearch.com</td>\n",
              "      <td>http://www.meurerresearch.com/products/mixer/</td>\n",
              "      <td>4/16/2020</td>\n",
              "      <td>Lynn Li</td>\n",
              "      <td>NaN</td>\n",
              "    </tr>\n",
              "    <tr>\n",
              "      <th>7</th>\n",
              "      <td>rapid mixer (mech)</td>\n",
              "      <td>Philadelphia Mixing Solutions</td>\n",
              "      <td>still</td>\n",
              "      <td>pending</td>\n",
              "      <td>https://www.philamixers.com</td>\n",
              "      <td>https://www.philamixers.com/industries/water-w...</td>\n",
              "      <td>4/16/20</td>\n",
              "      <td>Lynn Li</td>\n",
              "      <td>NaN</td>\n",
              "    </tr>\n",
              "    <tr>\n",
              "      <th>8</th>\n",
              "      <td>flocculator (mech)</td>\n",
              "      <td>Sereco</td>\n",
              "      <td>still</td>\n",
              "      <td>pending</td>\n",
              "      <td>http://www.sereco.it/</td>\n",
              "      <td>https://www.directindustry.com/prod/sereco/pro...</td>\n",
              "      <td>05/04/2020</td>\n",
              "      <td>Lynn Li</td>\n",
              "      <td>NaN</td>\n",
              "    </tr>\n",
              "    <tr>\n",
              "      <th>9</th>\n",
              "      <td>decanter centrifuge (resid)  GN Solids Control...</td>\n",
              "      <td>NaN</td>\n",
              "      <td>NaN</td>\n",
              "      <td>NaN</td>\n",
              "      <td>NaN</td>\n",
              "      <td>NaN</td>\n",
              "      <td>NaN</td>\n",
              "      <td>NaN</td>\n",
              "      <td>NaN</td>\n",
              "    </tr>\n",
              "    <tr>\n",
              "      <th>10</th>\n",
              "      <td>decanter centrifuge (resid)     ANDRITZ Group ...</td>\n",
              "      <td>NaN</td>\n",
              "      <td>NaN</td>\n",
              "      <td>NaN</td>\n",
              "      <td>NaN</td>\n",
              "      <td>NaN</td>\n",
              "      <td>NaN</td>\n",
              "      <td>NaN</td>\n",
              "      <td>NaN</td>\n",
              "    </tr>\n",
              "  </tbody>\n",
              "</table>\n",
              "</div>"
            ],
            "text/plain": [
              "                                     item description  ...                                    notes\n",
              "0                                      plate settlers  ...                                      NaN\n",
              "1                               sludge removal system  ...                                      NaN\n",
              "2                                      plate settlers  ...                                      NaN\n",
              "3                               sludge removal system  ...                                      NaN\n",
              "4                           plate settler with hopper  ...  Includes sloped sludge hopper in design\n",
              "5                                  rapid mixer (mech)  ...                                      NaN\n",
              "6                                  rapid mixer (mech)  ...                                      NaN\n",
              "7                                  rapid mixer (mech)  ...                                      NaN\n",
              "8                                  flocculator (mech)  ...                                      NaN\n",
              "9   decanter centrifuge (resid)  GN Solids Control...  ...                                      NaN\n",
              "10  decanter centrifuge (resid)     ANDRITZ Group ...  ...                                      NaN\n",
              "\n",
              "[11 rows x 9 columns]"
            ]
          },
          "metadata": {
            "tags": []
          },
          "execution_count": 3
        }
      ]
    },
    {
      "cell_type": "markdown",
      "metadata": {
        "id": "-jwNKdrCOmux",
        "colab_type": "text"
      },
      "source": [
        "# Shared assumptions\n",
        "\n",
        "See this [python file, Fairmont.py](https://github.com/monroews/4590FSP/blob/master/Fairmont.py)\n",
        "\n",
        "Use this file to hold parameters that are in the SOW or elsewhere that\n",
        "influence the design of the entire plant. This provides an easy mechanism\n",
        "for all of us to share the same assumptions. Read the SOW to find sections that relate to your part of the design and enter all pertinent variables into [Fairmont.py](https://github.com/monroews/4590FSP/blob/master/Fairmont.py) and then push those changes to github.\n",
        "\n",
        "# Major Decisions\n",
        "\n",
        "Write several paragraphs describing the major decisions that you will need to make in order to create a design and outline a strategy for how you will obtain the necessary information to make those decisions.\n",
        "\n",
        "# Next Steps and Challenges\n",
        "\n",
        "Summarize the next steps that you will be taking to move the design forward. Identify any challenges where you may need assistance."
      ]
    },
    {
      "cell_type": "markdown",
      "metadata": {
        "id": "DXlB_I6ZOw2J",
        "colab_type": "text"
      },
      "source": [
        "# Design\n",
        "\n",
        "Begin writing the code to start your design. Define flow rates, mass rates, energy requirements, and any readily calculated dimensions, velocities, flows, etc."
      ]
    },
    {
      "cell_type": "code",
      "metadata": {
        "id": "IrwTrVM2hZqH",
        "colab_type": "code",
        "outputId": "25cc0989-d6ae-4bb0-d0a0-d0b01fd3c28b",
        "colab": {
          "base_uri": "https://localhost:8080/",
          "height": 102
        }
      },
      "source": [
        "print('The average flow to be treated at Fairmont is',fmt.q_ave.to(u.Mgal/u.day),'or')\n",
        "print('The maximum flow to be treated at Fairmont is',fmt.q_max.to(u.Mgal/u.day))\n",
        "specific_energy = (fmt.electricity_power/fmt.q_ave).to(u.J/u.L)\n",
        "temp = 15 * u.degC\n",
        "specific_potential_energy = (specific_energy / u.gravity / ac.density_water(temp)).to(u.m)\n",
        "print('The average amount of energy used per liter of water is expected to be',specific_energy,'or',specific_potential_energy,'of potential energy')\n",
        "print('Number of mechanical sed tanks is',fmt.n_sed_mech)\n",
        "print('Number of hydraulic sed tanks is',fmt.n_sed_hyd)"
      ],
      "execution_count": 4,
      "outputs": [
        {
          "output_type": "stream",
          "text": [
            "The average flow to be treated at Fairmont is 206.8 megagallon / day or\n",
            "The maximum flow to be treated at Fairmont is 465.3 megagallon / day\n",
            "The average amount of energy used per liter of water is expected to be 118.1 joule / liter or 12.05 meter of potential energy\n",
            "Number of mechanical sed tanks is 8\n",
            "Number of hydraulic sed tanks is 8\n"
          ],
          "name": "stdout"
        }
      ]
    },
    {
      "cell_type": "code",
      "metadata": {
        "id": "0MvnGJXBJxfJ",
        "colab_type": "code",
        "colab": {}
      },
      "source": [
        ""
      ],
      "execution_count": 0,
      "outputs": []
    },
    {
      "cell_type": "markdown",
      "metadata": {
        "id": "AZBuCKoezRv3",
        "colab_type": "text"
      },
      "source": [
        "\n",
        "Design a rapid mix unit given a set amount of head loss with a target of having a large eddy turnover time of 0.3 s. \n",
        "We have the equation for eddy turnover time. Larger eddies turn over more slowly and thus to obtain a fast turnover time we need to inject chemicals closely spaced so that the eddy turnover time is reduced.\n",
        "\n",
        "[Eddy turnover time: AguaClara textbook](https://aguaclara.github.io/Textbook/Rapid_Mix/RM_Derivations.html#equation-eq-t-eddy)\n",
        "\n",
        "$$t_{eddy} \\approx \\left( \\frac{L_{eddy}^2}{ \\bar\\varepsilon }\\right)^\\frac{1}{3}$$\n",
        "\n",
        "We can use the center to center distance of the contractions (and injection ports) as the eddy length scale. This is because the eddies will need to mix over the length scale of the spacing of the injection ports.\n",
        "\n",
        "We also have a relationship between head loss and energy dissipation rate\n",
        "\n",
        "$$g h_e = \\theta \\bar\\varepsilon $$\n",
        "\n",
        "where $\\theta$ is $t_{eddy}$. Eliminate the unknown $\\bar\\varepsilon$\n",
        "\n",
        "$$t_{eddy} \\approx \\left( \\frac{L_{eddy}^2 t_{eddy}}{ g h_e }\\right)^\\frac{1}{3}$$\n",
        "\n",
        "Solve for $L_{eddy}$ which is the spacing of the contractions and the spacing of the coagulant injection points.\n",
        "\n",
        "$$L_{eddy} \\approx  t_{eddy} \\sqrt{g h_e }$$\n",
        "\n",
        "The rapid mix unit will be created by placing round cylinders vertically in the inlet channel. The goal is to minimize the number of chemical injection points and thus to use as large a spacing between cylinders, $L_{eddy}$, as possible.\n",
        "\n",
        "The dimensions of the opening between cylinders and the diameter of the cylinders can be obtained by analyzing the head loss through a flow expansion.\n",
        "\n",
        "$$h_e = \\left(\\frac{A_{exp}}{A_{con}} -1 \\right)^2 \\, \\frac{\\bar  v_{exp}^2}{2g}$$ \n",
        "\n",
        "We can solve the head loss equation for the dimensions of the contractions.\n",
        "\n",
        "[flow expansion head loss: AguaClara textbook](https://aguaclara.github.io/Textbook/Review/Review_Fluid_Mechanics.html?highlight=flow%20expansion%20head%20loss#equation-eq-exp-v-out)\n",
        "\n",
        "where con = contracted control surface and exp = expanded control surface\n",
        "solve for the area ratio\n",
        "\n",
        "$$\\frac{A_{exp}}{A_{con}}=\\frac{\\sqrt{2gh_e}}{\\bar  v_{exp}} + 1$$\n",
        "\n",
        "Here the area ratio is also equal to the width ratios because the depth of flow is the other dimension. We assume here that the depth of flow is large compared with the head loss.\n",
        "\n",
        "$$\\frac{A_{exp}}{A_{con}} = \\frac{\\bar v_{con}}{\\bar v_{exp}}$$\n",
        "\n",
        "$$\\frac{W_{con}}{W_{exp}} = \\frac{A_{con}}{A_{exp}}$$\n",
        "\n",
        "The width of the expanded flow, $W_{exp}$, is equal to the large eddy length scale, $L_{eddy}$.\n",
        "\n",
        "$$W_{con} = L_{eddy}\\frac{A_{con}}{A_{exp}}$$\n",
        "\n",
        "The diameter of the cylinder is equal to \n",
        "\n",
        "$$D_{cylinder}=L_{eddy} - W_{con} $$\n"
      ]
    },
    {
      "cell_type": "code",
      "metadata": {
        "id": "zFAYimtfPC-Y",
        "colab_type": "code",
        "outputId": "0c3a8e0e-4b3c-406b-ef15-52265556314e",
        "colab": {
          "base_uri": "https://localhost:8080/",
          "height": 119
        }
      },
      "source": [
        "Head_loss_max = 20 * u.cm\n",
        "t_eddy = 0.3 * u.s\n",
        "L_eddy = (t_eddy * np.sqrt(u.gravity * Head_loss_max)).to(u.m)\n",
        "print('The spacing between injection ports is',L_eddy)\n",
        "\n",
        "\n",
        "#expanded velocity\n",
        "v_channel = 0.45 * u.m/u.s\n",
        "Q_per_mixer = (v_channel * L_eddy**2).to(u.L/u.s)\n",
        "print('The flow rate of raw water per chemical injection point is',Q_per_mixer)\n",
        "\n",
        "Q=20000/7 * u.L/u.s #Fairmont design\n",
        "A_channel = Q/v_channel\n",
        "n_ports = (A_channel/L_eddy**2).to(u.dimensionless)\n",
        "print('The number of injection ports is',(np.round(n_ports)).magnitude)\n",
        "\n",
        "Pi_A = np.sqrt(2*u.gravity*Head_loss_max)/v_channel + 1\n",
        "print('The expansion ratio is',Pi_A)\n",
        "v_jet = v_channel * Pi_A\n",
        "w_contraction = L_eddy/Pi_A\n",
        "print('The width of the contractions is',w_contraction)\n",
        "\n",
        "D_cyl = L_eddy - w_contraction\n",
        "print('The diameter of the cylinder is',D_cyl)"
      ],
      "execution_count": 5,
      "outputs": [
        {
          "output_type": "stream",
          "text": [
            "The spacing between injection ports is 0.4201 meter\n",
            "The flow rate of raw water per chemical injection point is 79.43 liter / second\n",
            "The number of injection ports is 36.0\n",
            "The expansion ratio is 5.401 dimensionless\n",
            "The width of the contractions is 0.07779 meter\n",
            "The diameter of the cylinder is 0.3424 meter\n"
          ],
          "name": "stdout"
        }
      ]
    },
    {
      "cell_type": "code",
      "metadata": {
        "id": "pnYemtecRyvt",
        "colab_type": "code",
        "outputId": "15cdf280-b199-4573-a67e-cd4f9f51dca8",
        "colab": {
          "base_uri": "https://localhost:8080/",
          "height": 480
        }
      },
      "source": [
        "n_points = 50\n",
        "h_e_graph = np.logspace(-1,1,n_points) * u.m\n",
        "\n",
        "v_channel = 0.45 * u.m/u.s\n",
        "def Q_per_mixer(t_eddy):\n",
        "  return (u.gravity * h_e_graph * t_eddy**2 * v_channel).to(u.L/u.s)\n",
        "\n",
        "plt.plot(h_e_graph,Q_per_mixer(1*u.s),linewidth=3)\n",
        "plt.plot(h_e_graph,Q_per_mixer(0.3*u.s),linewidth=3)\n",
        "plt.plot(h_e_graph,Q_per_mixer(0.1*u.s),linewidth=3)\n",
        "plt.xscale(\"log\")\n",
        "plt.yscale(\"log\")\n",
        "plt.xlabel('Head loss (m)')\n",
        "plt.ylabel('Flow rate (L/s)')\n",
        "plt.grid(which='both')\n",
        "plt.legend(['1 s','0.3 s','0.1 s'])\n",
        "plt.gca().yaxis.set_major_formatter(ticker.ScalarFormatter())\n",
        "plt.gca().xaxis.set_major_formatter(ticker.ScalarFormatter())"
      ],
      "execution_count": 6,
      "outputs": [
        {
          "output_type": "error",
          "ename": "NameError",
          "evalue": "ignored",
          "traceback": [
            "\u001b[0;31m---------------------------------------------------------------------------\u001b[0m",
            "\u001b[0;31mNameError\u001b[0m                                 Traceback (most recent call last)",
            "\u001b[0;32m<ipython-input-6-2289508e2c72>\u001b[0m in \u001b[0;36m<module>\u001b[0;34m()\u001b[0m\n\u001b[1;32m     15\u001b[0m \u001b[0mplt\u001b[0m\u001b[0;34m.\u001b[0m\u001b[0mgrid\u001b[0m\u001b[0;34m(\u001b[0m\u001b[0mwhich\u001b[0m\u001b[0;34m=\u001b[0m\u001b[0;34m'both'\u001b[0m\u001b[0;34m)\u001b[0m\u001b[0;34m\u001b[0m\u001b[0;34m\u001b[0m\u001b[0m\n\u001b[1;32m     16\u001b[0m \u001b[0mplt\u001b[0m\u001b[0;34m.\u001b[0m\u001b[0mlegend\u001b[0m\u001b[0;34m(\u001b[0m\u001b[0;34m[\u001b[0m\u001b[0;34m'1 s'\u001b[0m\u001b[0;34m,\u001b[0m\u001b[0;34m'0.3 s'\u001b[0m\u001b[0;34m,\u001b[0m\u001b[0;34m'0.1 s'\u001b[0m\u001b[0;34m]\u001b[0m\u001b[0;34m)\u001b[0m\u001b[0;34m\u001b[0m\u001b[0;34m\u001b[0m\u001b[0m\n\u001b[0;32m---> 17\u001b[0;31m \u001b[0mplt\u001b[0m\u001b[0;34m.\u001b[0m\u001b[0mgca\u001b[0m\u001b[0;34m(\u001b[0m\u001b[0;34m)\u001b[0m\u001b[0;34m.\u001b[0m\u001b[0myaxis\u001b[0m\u001b[0;34m.\u001b[0m\u001b[0mset_major_formatter\u001b[0m\u001b[0;34m(\u001b[0m\u001b[0mticker\u001b[0m\u001b[0;34m.\u001b[0m\u001b[0mScalarFormatter\u001b[0m\u001b[0;34m(\u001b[0m\u001b[0;34m)\u001b[0m\u001b[0;34m)\u001b[0m\u001b[0;34m\u001b[0m\u001b[0;34m\u001b[0m\u001b[0m\n\u001b[0m\u001b[1;32m     18\u001b[0m \u001b[0mplt\u001b[0m\u001b[0;34m.\u001b[0m\u001b[0mgca\u001b[0m\u001b[0;34m(\u001b[0m\u001b[0;34m)\u001b[0m\u001b[0;34m.\u001b[0m\u001b[0mxaxis\u001b[0m\u001b[0;34m.\u001b[0m\u001b[0mset_major_formatter\u001b[0m\u001b[0;34m(\u001b[0m\u001b[0mticker\u001b[0m\u001b[0;34m.\u001b[0m\u001b[0mScalarFormatter\u001b[0m\u001b[0;34m(\u001b[0m\u001b[0;34m)\u001b[0m\u001b[0;34m)\u001b[0m\u001b[0;34m\u001b[0m\u001b[0;34m\u001b[0m\u001b[0m\n",
            "\u001b[0;31mNameError\u001b[0m: name 'ticker' is not defined"
          ]
        },
        {
          "output_type": "display_data",
          "data": {
            "image/png": "[encoded data removed]",
            "text/plain": [
              "<Figure size 432x288 with 1 Axes>"
            ]
          },
          "metadata": {
            "tags": [],
            "needs_background": "light"
          }
        }
      ]
    },
    {
      "cell_type": "code",
      "metadata": {
        "id": "ZKGMazNDlf4B",
        "colab_type": "code",
        "colab": {
          "base_uri": "https://localhost:8080/",
          "height": 34
        },
        "outputId": "3b957db4-5ffa-4029-d0d9-95f7d3336394"
      },
      "source": [
        "A_sed_MRI = 74 * u.ft * 110 * u.ft\n",
        "Q_sed_MRI= 50 * u.Mgal/u.day\n",
        "v_up_MRI = (Q_sed_MRI/A_sed_MRI).to(u.mm/u.s)\n",
        "print(v_up_MRI)"
      ],
      "execution_count": 8,
      "outputs": [
        {
          "output_type": "stream",
          "text": [
            "2.897 millimeter / second\n"
          ],
          "name": "stdout"
        }
      ]
    },
    {
      "cell_type": "code",
      "metadata": {
        "id": "-sxvH0b6l2bb",
        "colab_type": "code",
        "colab": {}
      },
      "source": [
        ""
      ],
      "execution_count": 0,
      "outputs": []
    }
  ]
}