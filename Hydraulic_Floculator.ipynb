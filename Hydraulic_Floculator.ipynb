{
  "nbformat": 4,
  "nbformat_minor": 0,
  "metadata": {
    "colab": {
      "name": "Hydraulic_Floculator.ipynb",
      "provenance": [],
      "collapsed_sections": []
    },
    "kernelspec": {
      "name": "python3",
      "display_name": "Python 3"
    }
  },
  "cells": [
    {
      "cell_type": "markdown",
      "metadata": {
        "id": "XUxHZRaQVbpj",
        "colab_type": "text"
      },
      "source": [
        "# **Flocculator Redesign Workbook** "
      ]
    },
    {
      "cell_type": "code",
      "metadata": {
        "id": "FYjxDM0idXYT",
        "colab_type": "code",
        "outputId": "ad39064b-1f19-421b-909c-7c1f330f3436",
        "colab": {
          "base_uri": "https://localhost:8080/",
          "height": 238
        }
      },
      "source": [
        "!pip install aguaclara\n",
        "import aguaclara.core.head_loss as minorloss\n",
        "import aguaclara.design.human_access as ha\n",
        "import aguaclara.core.physchem as pc\n",
        "import aguaclara.core.pipes as pipes\n",
        "from aguaclara.core.units import unit_registry as u\n",
        "import numpy as np\n",
        "import pandas as pd"
      ],
      "execution_count": 3,
      "outputs": [
        {
          "output_type": "stream",
          "text": [
            "Requirement already satisfied: aguaclara in /usr/local/lib/python3.6/dist-packages (0.2.0)\n",
            "Requirement already satisfied: urllib3 in /usr/local/lib/python3.6/dist-packages (from aguaclara) (1.24.3)\n",
            "Requirement already satisfied: pint==0.8.1 in /usr/local/lib/python3.6/dist-packages (from aguaclara) (0.8.1)\n",
            "Requirement already satisfied: pandas in /usr/local/lib/python3.6/dist-packages (from aguaclara) (1.0.3)\n",
            "Requirement already satisfied: matplotlib in /usr/local/lib/python3.6/dist-packages (from aguaclara) (3.2.1)\n",
            "Requirement already satisfied: scipy in /usr/local/lib/python3.6/dist-packages (from aguaclara) (1.4.1)\n",
            "Requirement already satisfied: pytz>=2017.2 in /usr/local/lib/python3.6/dist-packages (from pandas->aguaclara) (2018.9)\n",
            "Requirement already satisfied: numpy>=1.13.3 in /usr/local/lib/python3.6/dist-packages (from pandas->aguaclara) (1.18.3)\n",
            "Requirement already satisfied: python-dateutil>=2.6.1 in /usr/local/lib/python3.6/dist-packages (from pandas->aguaclara) (2.8.1)\n",
            "Requirement already satisfied: cycler>=0.10 in /usr/local/lib/python3.6/dist-packages (from matplotlib->aguaclara) (0.10.0)\n",
            "Requirement already satisfied: kiwisolver>=1.0.1 in /usr/local/lib/python3.6/dist-packages (from matplotlib->aguaclara) (1.2.0)\n",
            "Requirement already satisfied: pyparsing!=2.0.4,!=2.1.2,!=2.1.6,>=2.0.1 in /usr/local/lib/python3.6/dist-packages (from matplotlib->aguaclara) (2.4.7)\n",
            "Requirement already satisfied: six>=1.5 in /usr/local/lib/python3.6/dist-packages (from python-dateutil>=2.6.1->pandas->aguaclara) (1.12.0)\n"
          ],
          "name": "stdout"
        }
      ]
    },
    {
      "cell_type": "code",
      "metadata": {
        "id": "x70WKQTnbP3W",
        "colab_type": "code",
        "outputId": "d7eb2e41-ded3-417d-e68c-8d4390c87689",
        "colab": {
          "base_uri": "https://localhost:8080/",
          "height": 34
        }
      },
      "source": [
        "Pi = 3\n",
        "Q = 720 * u.cubic_feet/u.s\n",
        "K = 4\n",
        "W = 4 * u.m\n",
        "viscosity = pc.viscosity_kinematic_water(25*u.degC)\n",
        "Gt = 37000\n",
        "theta = 7.5 *u.min\n",
        "G = Gt/theta\n",
        "H = ((Pi**3*Q**3*K)/(W**3*2*viscosity*G**2))**(1/4)\n",
        "print(H.to(u.m))"
      ],
      "execution_count": 4,
      "outputs": [
        {
          "output_type": "stream",
          "text": [
            "32.99 meter\n"
          ],
          "name": "stdout"
        }
      ]
    },
    {
      "cell_type": "markdown",
      "metadata": {
        "id": "U4qvULuN__pu",
        "colab_type": "text"
      },
      "source": [
        "Flocculation is widely used in water treatment because of the use of sedimentation to remove particles from the water. Flocculation aims to increase the diameter of the particles through applying coagulant during rapid mix. In order to facilitate particle collisions, we must design a flocculator that takes into account collision potential and energy dissipation rate.\n",
        "In our analysis, we will take into account the number of treatment trains, variation of flow rates, turbidity, and downstream H of the flocculation tank. In our design, we will use a horizontal hydraulic flocculator. We will use a residence time of 7.5 minutes, minimum width of 4 meters, and a flow rate of 720 cubic feet per second.\n",
        "Outputs from our analysis will include the plan view area of the tank, the length of the channels, width of the channel, width and spacing of the baffles."
      ]
    },
    {
      "cell_type": "markdown",
      "metadata": {
        "id": "ETBpl3KbW67H",
        "colab_type": "text"
      },
      "source": [
        "New Flocculator Design"
      ]
    },
    {
      "cell_type": "code",
      "metadata": {
        "id": "yk0FQfNkW-MT",
        "colab_type": "code",
        "outputId": "f0c05755-7014-460a-eb5b-cedc62b897a5",
        "colab": {
          "base_uri": "https://localhost:8080/",
          "height": 255
        }
      },
      "source": [
        "##HydraluicFloculator Code\n",
        "class HydraluicFloculator:\n",
        "    \"\"\"Calculates physical dimensions of a HydraluicFloculator\n",
        "    ----------------------------\n",
        "    - BAFFLE_K (K or K_{baffle}): float\n",
        "        - The minor loss coefficient of the flocculator baffles.\n",
        "    - CHANNEL_N_MIN (N_{channel}: int\n",
        "        - The minimum number of flocculator channels.\n",
        "    - WS_RATIO_MIN (\\Pi_{WS}): float\n",
        "        - The minimum ratio between expansion height and baffle spacing\n",
        "    - RATIO_MAX_WS (\\Pi_{WS}): float\n",
        "        - The maximum ratio between expansion height and baffle spacing\n",
        "    - SDR (sdr): float\n",
        "        - The standard dimension ratio.\n",
        "    \"\"\"\n",
        "\n",
        "    # Increased both to provide a safety margin on flocculator head loss and\n",
        "    # to simultaneously scale back on the actual collision potential we are\n",
        "    # trying to achieve.\n",
        "    # Originally calculated to be 2.3 from the equations:\n",
        "\n",
        "\n",
        "    BAFFLE_K = 4\n",
        "    CHANNEL_N_MIN = 1\n",
        "    RATIO_MAX_WS = 3\n",
        "    SDR = 41.0\n",
        "\n",
        "    def __init__(\n",
        "            self,\n",
        "            Q=1 * u.L/u.s,\n",
        "            temp=25 * u.degC,\n",
        "            Gt=37000,\n",
        "            HL = 40 * u.cm,\n",
        "            downstream_H = 2 * u.m,\n",
        "            channel_H = 4 * u.m,\n",
        "            n_treatment_trains = 1,\n",
        "            ):\n",
        "\n",
        "        self.Q = Q\n",
        "        self.temp = temp\n",
        "        self.Gt = Gt\n",
        "        self.HL = HL\n",
        "        self.downstream_H = downstream_H\n",
        "        self.channel_H = channel_H\n",
        "        self.n_treatment_trains = n_treatment_trains\n",
        "\n",
        "\n",
        "    @property\n",
        "    def vel_grad_avg(self):\n",
        "        #NOTE: this is borrowed from AguaClara source code\n",
        "        \"\"\"Calculate the average velocity gradient (G-bar) of water flowing\n",
        "        through the flocculator.\n",
        "        :returns: Average velocity gradient (G-bar)\n",
        "        :rtype: float * 1 / second\n",
        "        \"\"\"\n",
        "        return ((u.standard_gravity * self.HL) /\n",
        "               (pc.viscosity_kinematic_water(self.temp) * self.Gt)).to(u.s ** -1)\n",
        "\n",
        "    @property\n",
        "    def retention_time(self):\n",
        "        #NOTE: this is borrowed from AguaClara source code\n",
        "        \"\"\"Calculates the hydraulic retention time neglecting the volume created by head loss in the flocculator.\n",
        "        :returns: Hydraulic retention time (:math:`\\theta`)\n",
        "        :rtype: float * second\n",
        "        \"\"\"\n",
        "        return (self.Gt / self.vel_grad_avg).to(u.s)\n",
        "\n",
        "    @property\n",
        "    def total_vol(self):\n",
        "        #NOTE: this is borrowed from AguaClara source code\n",
        "        \"\"\"Calculate the target volume (not counting the volume added by head loss) of the flocculator.\n",
        "        :returns: Target volume\n",
        "        :rtype: float * meter ** 3\n",
        "        \"\"\"\n",
        "        return (self.Q * self.retention_time).to(u.m ** 3)\n",
        "\n",
        "    @property\n",
        "    def treatment_train_vol(self):\n",
        "        #NOTE: this is borrowed from AguaClara source code\n",
        "        \"\"\"Calculate the target volume (not counting the volume added by head loss) of the flocculator.\n",
        "        :returns: Target volume\n",
        "        :rtype: float * meter ** 3\n",
        "        \"\"\"\n",
        "        return (self.total_vol/self.n_treatment_trains).to(u.m ** 3)\n",
        "\n",
        "    @property\n",
        "    def baffle_W(self):\n",
        "       \"\"\"This function calculates the baffle width by multiplying by the maximum width to spacing ratio\"\"\"\n",
        "       return (((self.RATIO_MAX_WS**3*self.Q**3*self.BAFFLE_K)/\n",
        "                (self.channel_H**3*2*pc.viscosity_kinematic_water(self.temp)*self.vel_grad_avg**2))**(1/4)).to(u.m)\n",
        "\n",
        "    @property\n",
        "    def baffle_S(self):\n",
        "      #NOTE: This is borrowed from AguaClara source code\n",
        "        \"\"\"Return the spacing between baffles.\n",
        "        :returns: Spacing between baffles\n",
        "        :rtype: int\n",
        "        \"\"\"\n",
        "        return (self.baffle_W/3).to(u.m)\n",
        "\n",
        "    @property\n",
        "    def channel_W(self):\n",
        "       \"\"\"This function calculates the channel width by adding baffle width and baffle spacing\"\"\"\n",
        "       return (self.baffle_W+self.baffle_S).to(u.m)\n",
        "\n",
        "\n",
        "    @property\n",
        "    def channel_L(self):\n",
        "        \"\"\"This function determines channel length based the largest square that fits inside of the selected tank. So, channel length is the the length of the square\"\"\"\n",
        "        return (self.treatment_train_vol/(self.channel_W*self.channel_H)).to(u.m)\n",
        "        \n",
        "    @property\n",
        "    def side_view_area(self):\n",
        "        \"\"\"This function calculates the necessary active cross sectional area of the flocculator\"\"\"\n",
        "        return (self.treatment_train_vol/self.channel_W).to(u.m**2)\n",
        "\n",
        "    @property\n",
        "    def plan_view_area(self):\n",
        "        \"\"\"This function calculates the plan view area of the flocculator\"\"\"\n",
        "        return (self.treatment_train_vol/self.channel_H).to(u.m**2)\n",
        "\n",
        "    @property\n",
        "    def baffle_n(self):\n",
        "        \"\"\"This function calclulates the number of the baffles in the flocculator.\"\"\"\n",
        "        return (np.ceil((self.channel_L/self.baffle_S))).to(u.dimensionless)\n",
        "\n",
        "    @property\n",
        "    def vel_scour(self):\n",
        "        \"\"\"This function calclulates the number of the baffles in the flocculator.\"\"\"\n",
        "        return (self.Q/(self.channel_H*self.baffle_S)).to(u.m/u.s)\n",
        "\n",
        "    @property\n",
        "    def design(self):\n",
        "        \"\"\"Returns the designed values.\n",
        "        :returns: list of designed values (G, t, channel_W, obstacle_n)\n",
        "        :rtype: int\n",
        "        \"\"\"\n",
        "        floc_dict = {'total_vol': self.total_vol,\n",
        "                     'treatment_train_vol': self.treatment_train_vol,\n",
        "                     'side_view_area': self.side_view_area,\n",
        "                     'plan_view_area': self.plan_view_area,\n",
        "                     'channel_L': self.channel_L,\n",
        "                     'channel_W': self.channel_W,\n",
        "                     'channel_H': self.channel_H,\n",
        "                     'baffle_S': self.baffle_S,\n",
        "                     'baffle_W': self.baffle_W,\n",
        "                     'baffle_n': self.baffle_n,\n",
        "                     'G': self.vel_grad_avg,\n",
        "                     't': self.retention_time,\n",
        "                     'vel_scour': self.vel_scour}\n",
        "        return floc_dict\n",
        "\n",
        "\n",
        "##make a data frame to show results\n",
        "q  = 720 * u.cubic_feet/u.s #change this flow rate in order to display design specs for the HydraluicFloculator handling that flow rate\n",
        "tester=HydraluicFloculator(Q=q)\n",
        "#print(type(HydraluicFloculator(n_treatment_trains=1, Q=q).total_vol))\n",
        "\n",
        "row_names = ['Total Volume', \n",
        "                'Volume of Treatment Train', \n",
        "                'Side View Area', \n",
        "                'Plan View Area', \n",
        "                'Channel Length', \n",
        "                'Channel Width', \n",
        "                'Channel Height', \n",
        "                'Baffle Spacing', \n",
        "                'Baffle Width', \n",
        "                'Number of Baffles',\n",
        "                'Scour Velocity']\n",
        "  \n",
        "df=pd.DataFrame()\n",
        "for i in range(1, 9):\n",
        "  data = [HydraluicFloculator(n_treatment_trains=i, Q=q).total_vol,\n",
        "          HydraluicFloculator(n_treatment_trains=i, Q=q).treatment_train_vol,\n",
        "          HydraluicFloculator(n_treatment_trains=i, Q=q).side_view_area,\n",
        "          HydraluicFloculator(n_treatment_trains=i, Q=q).plan_view_area,\n",
        "          HydraluicFloculator(n_treatment_trains=i, Q=q).channel_L,\n",
        "          HydraluicFloculator(n_treatment_trains=i, Q=q).channel_W,\n",
        "          HydraluicFloculator(n_treatment_trains=i, Q=q).channel_H,\n",
        "          HydraluicFloculator(n_treatment_trains=i, Q=q).baffle_S,\n",
        "          HydraluicFloculator(n_treatment_trains=i, Q=q).baffle_W,\n",
        "          HydraluicFloculator(n_treatment_trains=i, Q=q).baffle_n,\n",
        "          HydraluicFloculator(n_treatment_trains=i, Q=q).vel_scour]\n",
        "  df[str(i)+' Treatment Trains'] = pd.Series(data,index=row_names)\n",
        "print(df)\n",
        "\n",
        "\n",
        "class Floc_7_5_min_res(HydraluicFloculator):\n",
        "  \"\"\"This class models a HydraluicFloculator with 1 minute residence time\"\"\"\n",
        "  @property\n",
        "  def retention_time(self):\n",
        "    return 7.5*u.min\n",
        "  @property\n",
        "  def vol(self):\n",
        "    return ((self.Q*self.retention_time).to(u.L))\n"
      ],
      "execution_count": 7,
      "outputs": [
        {
          "output_type": "stream",
          "text": [
            "                             1 Treatment Trains  ...    8 Treatment Trains\n",
            "Total Volume                    6354 meter ** 3  ...       6354 meter ** 3\n",
            "Volume of Treatment Train       6354 meter ** 3  ...      794.3 meter ** 3\n",
            "Side View Area                 173.6 meter ** 2  ...       21.7 meter ** 2\n",
            "Plan View Area                  1589 meter ** 2  ...      198.6 meter ** 2\n",
            "Channel Length                       43.4 meter  ...           5.425 meter\n",
            "Channel Width                       36.61 meter  ...           36.61 meter\n",
            "Channel Height                          4 meter  ...               4 meter\n",
            "Baffle Spacing                      9.152 meter  ...           9.152 meter\n",
            "Baffle Width                        27.45 meter  ...           27.45 meter\n",
            "Number of Baffles               5 dimensionless  ...       1 dimensionless\n",
            "Scour Velocity             0.557 meter / second  ...  0.557 meter / second\n",
            "\n",
            "[11 rows x 8 columns]\n"
          ],
          "name": "stdout"
        }
      ]
    }
  ]
}