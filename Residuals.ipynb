{
  "nbformat": 4,
  "nbformat_minor": 0,
  "metadata": {
    "colab": {
      "name": "Residuals.ipynb",
      "provenance": [],
      "collapsed_sections": [],
      "include_colab_link": true
    },
    "kernelspec": {
      "name": "python3",
      "display_name": "Python 3"
    }
  },
  "cells": [
    {
      "cell_type": "markdown",
      "metadata": {
        "id": "view-in-github",
        "colab_type": "text"
      },
      "source": [
        "<a href=\"https://colab.research.google.com/github/MWSteams/4590FSP/blob/Residuals/Residuals.ipynb\" target=\"_parent\"><img src=\"https://colab.research.google.com/assets/colab-badge.svg\" alt=\"Open In Colab\"/></a>"
      ]
    },
    {
      "cell_type": "markdown",
      "metadata": {
        "id": "lZNgRSu1Uj8D",
        "colab_type": "text"
      },
      "source": [
        "# Residuals\n",
        "\n",
        "Authors: Madeline Keep, Izabella Kornak, Hannah Weinstein\n"
      ]
    },
    {
      "cell_type": "code",
      "metadata": {
        "id": "QjwM4ovYUokZ",
        "colab_type": "code",
        "outputId": "fb7fefc4-4fcd-4b80-fcd7-bede7281f657",
        "colab": {
          "base_uri": "https://localhost:8080/",
          "height": 275
        }
      },
      "source": [
        "!pip install aguaclara\n",
        "!pip install molmass"
      ],
      "execution_count": 7,
      "outputs": [
        {
          "output_type": "stream",
          "text": [
            "Requirement already satisfied: aguaclara in /usr/local/lib/python3.6/dist-packages (0.2.1)\n",
            "Requirement already satisfied: matplotlib in /usr/local/lib/python3.6/dist-packages (from aguaclara) (3.2.1)\n",
            "Requirement already satisfied: urllib3 in /usr/local/lib/python3.6/dist-packages (from aguaclara) (1.24.3)\n",
            "Requirement already satisfied: pandas in /usr/local/lib/python3.6/dist-packages (from aguaclara) (1.0.3)\n",
            "Requirement already satisfied: pint==0.8.1 in /usr/local/lib/python3.6/dist-packages (from aguaclara) (0.8.1)\n",
            "Requirement already satisfied: scipy in /usr/local/lib/python3.6/dist-packages (from aguaclara) (1.4.1)\n",
            "Requirement already satisfied: pyparsing!=2.0.4,!=2.1.2,!=2.1.6,>=2.0.1 in /usr/local/lib/python3.6/dist-packages (from matplotlib->aguaclara) (2.4.7)\n",
            "Requirement already satisfied: cycler>=0.10 in /usr/local/lib/python3.6/dist-packages (from matplotlib->aguaclara) (0.10.0)\n",
            "Requirement already satisfied: kiwisolver>=1.0.1 in /usr/local/lib/python3.6/dist-packages (from matplotlib->aguaclara) (1.2.0)\n",
            "Requirement already satisfied: python-dateutil>=2.1 in /usr/local/lib/python3.6/dist-packages (from matplotlib->aguaclara) (2.8.1)\n",
            "Requirement already satisfied: numpy>=1.11 in /usr/local/lib/python3.6/dist-packages (from matplotlib->aguaclara) (1.18.4)\n",
            "Requirement already satisfied: pytz>=2017.2 in /usr/local/lib/python3.6/dist-packages (from pandas->aguaclara) (2018.9)\n",
            "Requirement already satisfied: six in /usr/local/lib/python3.6/dist-packages (from cycler>=0.10->matplotlib->aguaclara) (1.12.0)\n",
            "Requirement already satisfied: molmass in /usr/local/lib/python3.6/dist-packages (2020.1.1)\n"
          ],
          "name": "stdout"
        }
      ]
    },
    {
      "cell_type": "code",
      "metadata": {
        "id": "ttJT8q_wYhAV",
        "colab_type": "code",
        "outputId": "ac2174cc-9039-42f2-ed25-8d62bfc1ddcd",
        "colab": {
          "base_uri": "https://localhost:8080/",
          "height": 224
        }
      },
      "source": [
        "from aguaclara.core.units import unit_registry as u\n",
        "import aguaclara as ac\n",
        "import matplotlib.pyplot as plt\n",
        "import numpy as np\n",
        "import pandas as pd\n",
        "import molmass as mol\n",
        "!wget https://raw.githubusercontent.com/monroews/4590FSP/master/Fairmont.py\n",
        "import Fairmont as fmt"
      ],
      "execution_count": 8,
      "outputs": [
        {
          "output_type": "stream",
          "text": [
            "--2020-05-18 15:15:22--  https://raw.githubusercontent.com/monroews/4590FSP/master/Fairmont.py\n",
            "Resolving raw.githubusercontent.com (raw.githubusercontent.com)... 151.101.0.133, 151.101.64.133, 151.101.128.133, ...\n",
            "Connecting to raw.githubusercontent.com (raw.githubusercontent.com)|151.101.0.133|:443... connected.\n",
            "HTTP request sent, awaiting response... 200 OK\n",
            "Length: 3057 (3.0K) [text/plain]\n",
            "Saving to: ‘Fairmont.py.1’\n",
            "\n",
            "\rFairmont.py.1         0%[                    ]       0  --.-KB/s               \rFairmont.py.1       100%[===================>]   2.99K  --.-KB/s    in 0s      \n",
            "\n",
            "2020-05-18 15:15:22 (53.9 MB/s) - ‘Fairmont.py.1’ saved [3057/3057]\n",
            "\n"
          ],
          "name": "stdout"
        }
      ]
    },
    {
      "cell_type": "markdown",
      "metadata": {
        "id": "2SQpUtXCR5Xz",
        "colab_type": "text"
      },
      "source": [
        "# Task Definition\n",
        "\n",
        "Our goal is to develop a complete analysis of the composition, management, and disposal of residuals from the proposed treatment process.\n",
        "According to the Fairmont Treatment Plant’s Scope Of Work document, settled solids from the sedimentation process will be mechanically thickened in an on-site facility. The preliminary evaluation suggests using equalization basins, rapid mixers, then settling tanks, and introducing coagulants to form and settle out thickened solids. The residual solids will then be further mechanically dewatered through the use of on-site centrifuges. A preliminary evaluation has concluded that centrifuges are the most effective active dewatering technology when compared to belt filter presses and plate and frame filter presses. The dewatered residuals will then be loaded onto trucks and transported to a hazardous waste disposal site. The leftover water will be recycled to the head of the Fairmont sedimentation plant. \n",
        "\n",
        "We will develop a design for the thickening facility and dewatering facility and evaluate their cost and effectiveness. Our thickening facility will take the collected sludge and thicken it, and also even out the flow before the sludge enters the dewatering facility. These are expected to be similar to the coagulation and flocculation tanks. The dewatering facility will be composed of centrifuges that will further dewater the sludge to create a sludge cake. There also must be a distribution mechanism for the sludge cake to be moved out of the facility, which will be achieved through the use of trucks.\n",
        "\n",
        "We will develop a more exact estimate of the expected residuals output of the process, and determine a minimum capacity for our residual treatment train.\n",
        "\n",
        "* Residuals management systems may limit overall plant capacity if not designed and operated properly **(Is this necessary to have right here?)**\n",
        "\n",
        "The overarching goal of Fairmont's residuals management team is to minimize the amount of hazardous waste generated, as hazardous waste is expensive to dispose of and carries a strict cradle-to-grave liability.\n",
        "\n",
        "\n",
        "\n"
      ]
    },
    {
      "cell_type": "markdown",
      "metadata": {
        "id": "WoGtXtBGQZr5",
        "colab_type": "text"
      },
      "source": [
        "# Executive Summary \n",
        "\n",
        "Our main constraints will rely on the amount of sludge that needs to be treated. Those calculations will depend on the treatment specifications of the plant. This will determine the characteristics of the sludge, and allow us to analyze potential solutions with concrete estimations of the costs of management. Our design solution will develop as we calculate these values.\n",
        "\n"
      ]
    },
    {
      "cell_type": "markdown",
      "metadata": {
        "id": "Jonv4dYSQghA",
        "colab_type": "text"
      },
      "source": [
        "# Constraints\n",
        "\n",
        "##Fairmont Design Constraints\n",
        "*Constraint information taken from [Fairmont Sedimentation Plant Scope of Work Document](SOWlink) and [MWH](mwhlink)*\n",
        "\n",
        "* Design flow of the plant has a maximum of 720 cfs and with an average flow of 320 cfs\n",
        "* Treatment standards are defined in the below table: \n",
        "\n",
        "| Contaminant | Design Influent Water Quality  | Fairmont Sedimentation Plant Settled Water Goal | \n",
        "|---|---|---|\n",
        "| Arsenic (μg/L) | 55 | 10 |\n",
        "| TOC (mg/L)| 4 | 3 |\n",
        "|Turbidity (NTU) | 23 | 3 |\n",
        "\n",
        "* Centrifuge capacities\n",
        "* Unit filter rn volumes (UFRV)\n",
        "* Unit backwash volume (UBMV)\n",
        "* Transportation capacities (truck volumes and availability)\n",
        "* Sludge characteristics\n",
        "* SOW estimates 144 wet tons of sludge after processing (for off site disposal)\n",
        "\n",
        "\n",
        "##Costs\n",
        "* Energy costs\n",
        "* Transportation costs\n",
        "* Disposal costs\n",
        "* Centrifuge costs\n",
        "* Maintenance costs\n",
        "\n",
        "##California Waste Discharge Requirements\n",
        "*Constraint information taken from [The California Water Code](https://www.easylawlookup.com/California-Law/Water-Code/pg-298/_easylookup.blp?data=WATER&sidfw=&site=EASY&location=78232&spon=&stype=P&sterm=+&smode=AND&sexact=ON&pgno=298&par=6901&dlevel=2#par_6901)\n",
        "and the\n",
        "[EPA](https://www.epa.gov/sites/production/files/2015-09/documents/train6-residuals.pdf). See appendix for more information.*\n",
        "\n",
        "* Disposal requirements\n",
        "  * Hazardous residuals must be disposed of in a hazardous waste landfill\n",
        "  * Liquid residuals cannot be disposed of in a land disposal unit. To discharge resdiuals directly to a body, the residuals must be non-hazardous and meet National Pollutant Discharge Elimination System (NPDES) discharge requirements.\n",
        "  * Any mixture or derivative of a hazardous waste is also characterized as a hazardous waste. \n",
        "\n",
        "\n",
        "* National TC (toxicity characteristic) for arsenic is 5 mg/L.\n",
        "* Health-based acceptable loading limits established under 40 CFR 503 are defined in the following table:\n",
        "\n",
        "\n",
        "Pollutant | Max. Conc (mg/kg) | Monthly Avg Conc (mg/kg) \n",
        "--- | --- | --- \n",
        "Arsenic| 75 |  41 \n",
        "Cadmium | 85 | 39 \n",
        "Copper | 4300 |  1500 \n",
        "Lead | 840 |  300 \n",
        "Mercury | 57 | 17 \n",
        "Molybdenum | 75 |  -- \n",
        "Nickel | 420 | 420 \n",
        "Selenium | 100 | 100 \n",
        "Zinc | 7500 | 2800 \n",
        "\n",
        "\n",
        "\n",
        "\n",
        "\n"
      ]
    },
    {
      "cell_type": "markdown",
      "metadata": {
        "id": "WVelNe91plUE",
        "colab_type": "text"
      },
      "source": [
        "# Potential strategies to meet dewatering constraints and treatment objectives \n",
        "\n",
        "\n",
        "| Strategy | Advantages  | Disadvantages |\n",
        "|---|---|---|\n",
        "| Centrifuge | High speed dewatering | High energy input | \n",
        "| | 25% and 35% solids by weight| Standby unit needed in some cases |\n",
        "||Works for all sludge types|Very loud to run|\n",
        "||Costs less to operate than filter press||\n",
        "| Plate and Frame Filter Press | Stackable, cake-like solids | High potential for blockage and damage | \n",
        "| | 40% and 70% solids by weight | Potential for leakage |\n",
        "| |Can operate on a continual basis | |\n",
        "| Belt Filter Press | Effective on high-volume waste streams  | Difficult maintenance |  |\n",
        "| | 18% and 25% solids by weight | Suitable for high sludge moisture content|\n",
        "| | Low energy and space taken up| |\n",
        "||10 year service life||\n",
        "\n",
        "#Potential strategies to meet sludge handling constraints and objectives\n",
        "\n",
        "| Strategy | Advantages  | Disadvantages |\n",
        "|---|---|---|\n",
        "|Sludge Detention Ponds| Can further thicken sludge | 280,000 sq ft of land required|\n",
        "| | Lowers volume of sludge in dumping site| High cost of $46000/day| \n",
        "|Sludge Processing Facility| Converts hazardous waste into nonhazardous waste | High cost|\n",
        "| | Has potential to create new materials | Still in research phase, not usable|\n",
        "|Off-Site Dumping | Lower cost | Hazardous waste dumping | \n",
        "| | No extra land or equipment needed | Highest volume of waste produced |\n"
      ]
    },
    {
      "cell_type": "markdown",
      "metadata": {
        "id": "EpyDaKk9yWsW",
        "colab_type": "text"
      },
      "source": [
        "# Shared assumptions\n",
        "\n",
        "See this [python file, Fairmont.py](https://github.com/monroews/4590FSP/blob/master/Fairmont.py)\n",
        "\n",
        "Use this file to hold parameters that are in the SOW or elsewhere that\n",
        "influence the design of the entire plant. This provides an easy mechanism\n",
        "for all of us to share the same assumptions. Read the SOW to find sections that relate to your part of the design and enter all pertinent variables into [Fairmont.py](https://github.com/monroews/4590FSP/blob/master/Fairmont.py) and then push those changes to github.\n"
      ]
    },
    {
      "cell_type": "markdown",
      "metadata": {
        "id": "-jwNKdrCOmux",
        "colab_type": "text"
      },
      "source": [
        "\n",
        "# Major Decisions\n",
        "\n",
        "### Sludge Composition\n",
        "We can determine the sludge composition based on estimates of the treatment dosages from Fairmont Sedimentation Plant Scope of Work document and the other teams. We calculated the average dose of polymer using the yearly amount of 165 tons/year from the SOW. However, our calculations also require the amount of solids (or percent water composition) as well as the amount of volatile solids in the sludge. We are unable to calculate these exact numbers, and will make assumptions for their values.\n",
        "### Sludge Dewatering System\n",
        "Based on our research and calculations, we have to choose which dewatering system will work best in the Fairmont Plant. From the comparisons above, we chose centrifuges as the optimal dewatering technology.\n",
        "### Polymer addition\n",
        "A polymer must be added to thickenthe sludge prior to dewatering. We must determine which polymer to use and what dosage, as this choice will affect the sludge composition going into the dewatering centrifuges. We will make this decision based on the type of centrifuge used, size of the centrifuge, the type of influent solids, ionic characteristics of the sludge, water reintroduction potential, and polymer injection point. Based on the Fairmont SOW, we are assuming that the polymer used will be an emulsion polymer.\n",
        "\n",
        "Based on assumptions detailed in the \n",
        "[Polymer Addition section](#Polymer_Addition) below, we will be using a generic emulsion polymer, and have determined the dosage based on the SOW.\n",
        "\n",
        "\n",
        "\n",
        "\n",
        "###Centrifuges\n",
        "After evaluating the necessary amount of centrifuges needed to accomodate our design flow and any equipment malfuctions, we will choose a layout to fit within the plant. Essentially, the number of centrifuges we suggest purchasing is the number required plus one, in order to account for any mechanical failures.\n",
        "The throughput can de adjusted in a centrifuge based on the goal outcomes of percent solids. Our team recommends a range between 80 and 150 gallons per minute to ensure a higher residence time for each unit of sludge. \n",
        "\n",
        "Aditionally, the differential speed of the decanter needs to be set correctly to ensure the solids are effectively driven through the machine. The beach angle also affects the volume of the centrifuge, which in turn affects the centrifuge's performance. \n",
        "\n",
        "### Sludge Handling System\n",
        "We need to choose a strategy to handle dewatered sludge. We decided to use off-site dumping, as our sludge is hazardous, and because off-site dumping requires the least amount of extra land at the lowest cost. Given that our sludge is hazardous, it must be disposed of in a hazardous waste landfill. The sludge must pass a paint filter test before it can be disposed of in a dry landfill.\n",
        "\n",
        "### Transportation and Storages\n",
        "We will have to determine how often we want to remove dewatered residuals from the plant, based on truck capacity and removal cost, and how much storage we will need to accomdate the residuals between removals.\n",
        "\n",
        "\n",
        "\n",
        "\n",
        "\n",
        "\n",
        "\n",
        "\n"
      ]
    },
    {
      "cell_type": "markdown",
      "metadata": {
        "id": "0_Y2kMPGvETF",
        "colab_type": "text"
      },
      "source": [
        "#Physics: Sludge Composition\n",
        "\n",
        "Our first step is determining the amount and composition of the sludge that is coming from the treatment. We have designed a Sludge class in python to determine the characteristics of the sludge based on the treatment.\n",
        "\n",
        "Using the total mass of sludge equation, (adapted fromm equation 21-13 in MWH), we can find the weight of the total dry sludge produced from the different parts of treatment:\n",
        "\n",
        "$$W_s=D_{coagulant}*E_{coagulant}+(\\Delta turbidity)*E_{turbidity}+TOC+X$$\n",
        "\n",
        "$W_s=$ total dry sludge produced,  $kg/m^3$\n",
        "\n",
        "$\\Delta turbidity=$ influent turbidity - goal turbidity\n",
        "\n",
        "$D_{coagulant}=$ coagulant dose, $kg/m^3$\n",
        "\n",
        "$E_{coagulant/turbidity}=$ value used to estimate sludge quantities (from table 21-4 in MWH), kg sludge/kg coagulant or turbidity\n",
        "\n",
        "TOC= total organic carbon $kg/m^3$\n",
        "\n",
        "X= other coagulant aids\n",
        "\n",
        "According to the Fairmont SOW, they are using ferric chloride as a coagulant with the addition of a cationic polymer (emulsion polymer), and are also removing turbidity and TOC. \n",
        "We are in the process of figuring out how to account for the TOC removed. ***Should the previous sentence be included in final report?***\n",
        "\n",
        "We then adapted equation Equation 21-3 from MWH to estimate the volume of sludge.\n",
        "\n",
        "$$V=\\frac{W_s}{\\rho_{s1}*P_s}$$\n",
        "\n",
        "$V =$ volume of wet sludge, $m^3$\n",
        "\n",
        "$W_s=$ weight of total dry solids, kg\n",
        "\n",
        "\n",
        "\n",
        "$\\rho_{sl}=$ density of sludge, $kg/m^3$\n",
        "\n",
        "$P_s$ = percent solids expressed as a decimal\n",
        "\n",
        "To determine the specific gravity of sludge, we adapted Equation 21-1:\n",
        "\n",
        "$$\\frac{W_s}{S_s\\rho_w}=\\frac{W_f}{S_f\\rho_w}+\\frac{W_v}{S_v\\rho_w}$$\n",
        "\n",
        "$$\\frac{W_s}{\\rho_s}=\\frac{W_f}{\\rho_f}+\\frac{W_v}{\\rho_v}$$\n",
        "\n",
        "$W_s=$ weight of total dry solids, kg\n",
        "\n",
        "$\\rho_s=$ density of total solids, $kg/m^3$\n",
        "\n",
        "$W_f=$ weight of fixed solids(mineralmatter),kg\n",
        "\n",
        "$\\rho_f=$ density of fixed solids, $kg/m^3$\n",
        "\n",
        "$W_v=$ weight of volatile solids, kg\n",
        "\n",
        "$\\rho_v=$ density of volatile solids, $kg/m^3$\n",
        "\n",
        "With the assumption that the density of the dry volatile solids is approximately 1.0 and the density of the dry fixed solids approximately 2.5.(DEU) The weight of volatile solids will be expressed as a percent of the calculated weight of removed coagulant. We are have used averages based on coagulant type from MWH table 21-5, which is laid out as the chemical/physical properties tables coded below.\n",
        "###Percent Solids\n",
        "We currently do not have information on the percent solids composition of our sludge. Without solids input, our code uses the average percent of solids based on the coagulant type from MWH table 21-5. Based on this table, we have assumed that the sludge will be 0.25% solids. This is 4% of the total dry solids per day, so the amount of solids will be expressed as kg/day.\n",
        "From these equations, we created a sludge class to calculate the mass of dry sludge, and volume and mass of wet sludge.\n",
        "\n",
        "From this information, we can determine the ideal treatment plan and the design and performance data.\n",
        "\n",
        "![image.png](https://github.com/MWSteams/4590FSP/raw/master/Images/Residuals/MWHTable21-4.png)"
      ]
    },
    {
      "cell_type": "code",
      "metadata": {
        "id": "fXJ7jqIJEXBf",
        "colab_type": "code",
        "outputId": "618f5557-aa1e-4a58-e04c-d341d37f0ac0",
        "colab": {
          "base_uri": "https://localhost:8080/",
          "height": 361
        }
      },
      "source": [
        "#residual production table 21.2\n",
        "data_residuals={'Min':[(.08),(4),(2),(1.5),(.08),(.3),(2),(10)],'Max':[.3,8,5,10,.3,6,8,50],'Typical':[.1,'-', ('2 or 3'),(5-8),.1,4,6,(20-30)]}\n",
        "rows_resid=['Alum','Direct filtration backwash water','Filter backwash water','Ion exchange brine','Iron coagulation sludge','Lime-softening sludge','Microfiltration backwash water','Reverse osmosis concentrate']\n",
        "data_residproduction=pd.DataFrame(data=data_residuals,index=rows_resid)\n",
        "#physical properties reference table from table 21-5 asumin max values\n",
        "#alum, iron\n",
        "data_physproperties={'Min Volume':[.05,.06],'Max Volume':[.15,.15],'Min Total Solids':[.1,.25], 'Max Total solids':[4,3.5],'Min Dry Density':[1200*u.kg/u.m**3,1200*u.kg/u.m**3],'Max Dry Density': [1500*u.kg/u.m**3,1800*u.kg/u.m**3],'Min Wet Density': [1025*u.kg/u.m**3,1050*u.kg/u.m**3], 'Max Wet Density': [1100*u.kg/u.m**3,1200*u.kg/u.m**3],'Min Spec Resistance':[10110*u.m/u.kg,40440*u.m/u.kg],'Max Spec Resistance':[50550*u.m/u.kg,151650*u.m/u.kg]}\n",
        "rows=['Alum','Iron']\n",
        "data_chemconstit={'Min Solids(Al/Fe)':[15,4],'Max Solids(Al/Fe)':[40,21],'Min Solids(Silicates and inert mats)':[35,35],'max Solids(Silicates and inert mats)':[70,70],'Min solids(organics/volatile)':[10,5],'Max solids(organics)':[25,15]}\n",
        "physical_properties=pd.DataFrame(data=data_physproperties,index=rows)\n",
        "chemical_constituents=pd.DataFrame(data=data_chemconstit,index=rows)\n",
        "display(physical_properties)\n",
        "display(chemical_constituents)"
      ],
      "execution_count": 9,
      "outputs": [
        {
          "output_type": "display_data",
          "data": {
            "text/html": [
              "<div>\n",
              "<style scoped>\n",
              "    .dataframe tbody tr th:only-of-type {\n",
              "        vertical-align: middle;\n",
              "    }\n",
              "\n",
              "    .dataframe tbody tr th {\n",
              "        vertical-align: top;\n",
              "    }\n",
              "\n",
              "    .dataframe thead th {\n",
              "        text-align: right;\n",
              "    }\n",
              "</style>\n",
              "<table border=\"1\" class=\"dataframe\">\n",
              "  <thead>\n",
              "    <tr style=\"text-align: right;\">\n",
              "      <th></th>\n",
              "      <th>Min Volume</th>\n",
              "      <th>Max Volume</th>\n",
              "      <th>Min Total Solids</th>\n",
              "      <th>Max Total solids</th>\n",
              "      <th>Min Dry Density</th>\n",
              "      <th>Max Dry Density</th>\n",
              "      <th>Min Wet Density</th>\n",
              "      <th>Max Wet Density</th>\n",
              "      <th>Min Spec Resistance</th>\n",
              "      <th>Max Spec Resistance</th>\n",
              "    </tr>\n",
              "  </thead>\n",
              "  <tbody>\n",
              "    <tr>\n",
              "      <th>Alum</th>\n",
              "      <td>0.05</td>\n",
              "      <td>0.15</td>\n",
              "      <td>0.1</td>\n",
              "      <td>4</td>\n",
              "      <td>1200 kilogram / meter ** 3</td>\n",
              "      <td>1500 kilogram / meter ** 3</td>\n",
              "      <td>1025 kilogram / meter ** 3</td>\n",
              "      <td>1100 kilogram / meter ** 3</td>\n",
              "      <td>1.011e+04 meter / kilogram</td>\n",
              "      <td>5.055e+04 meter / kilogram</td>\n",
              "    </tr>\n",
              "    <tr>\n",
              "      <th>Iron</th>\n",
              "      <td>0.06</td>\n",
              "      <td>0.15</td>\n",
              "      <td>0.25</td>\n",
              "      <td>3.5</td>\n",
              "      <td>1200 kilogram / meter ** 3</td>\n",
              "      <td>1800 kilogram / meter ** 3</td>\n",
              "      <td>1050 kilogram / meter ** 3</td>\n",
              "      <td>1200 kilogram / meter ** 3</td>\n",
              "      <td>4.044e+04 meter / kilogram</td>\n",
              "      <td>1.516e+05 meter / kilogram</td>\n",
              "    </tr>\n",
              "  </tbody>\n",
              "</table>\n",
              "</div>"
            ],
            "text/plain": [
              "      Min Volume  ...         Max Spec Resistance\n",
              "Alum        0.05  ...  5.055e+04 meter / kilogram\n",
              "Iron        0.06  ...  1.516e+05 meter / kilogram\n",
              "\n",
              "[2 rows x 10 columns]"
            ]
          },
          "metadata": {
            "tags": []
          }
        },
        {
          "output_type": "display_data",
          "data": {
            "text/html": [
              "<div>\n",
              "<style scoped>\n",
              "    .dataframe tbody tr th:only-of-type {\n",
              "        vertical-align: middle;\n",
              "    }\n",
              "\n",
              "    .dataframe tbody tr th {\n",
              "        vertical-align: top;\n",
              "    }\n",
              "\n",
              "    .dataframe thead th {\n",
              "        text-align: right;\n",
              "    }\n",
              "</style>\n",
              "<table border=\"1\" class=\"dataframe\">\n",
              "  <thead>\n",
              "    <tr style=\"text-align: right;\">\n",
              "      <th></th>\n",
              "      <th>Min Solids(Al/Fe)</th>\n",
              "      <th>Max Solids(Al/Fe)</th>\n",
              "      <th>Min Solids(Silicates and inert mats)</th>\n",
              "      <th>max Solids(Silicates and inert mats)</th>\n",
              "      <th>Min solids(organics/volatile)</th>\n",
              "      <th>Max solids(organics)</th>\n",
              "    </tr>\n",
              "  </thead>\n",
              "  <tbody>\n",
              "    <tr>\n",
              "      <th>Alum</th>\n",
              "      <td>15</td>\n",
              "      <td>40</td>\n",
              "      <td>35</td>\n",
              "      <td>70</td>\n",
              "      <td>10</td>\n",
              "      <td>25</td>\n",
              "    </tr>\n",
              "    <tr>\n",
              "      <th>Iron</th>\n",
              "      <td>4</td>\n",
              "      <td>21</td>\n",
              "      <td>35</td>\n",
              "      <td>70</td>\n",
              "      <td>5</td>\n",
              "      <td>15</td>\n",
              "    </tr>\n",
              "  </tbody>\n",
              "</table>\n",
              "</div>"
            ],
            "text/plain": [
              "      Min Solids(Al/Fe)  ...  Max solids(organics)\n",
              "Alum                 15  ...                    25\n",
              "Iron                  4  ...                    15\n",
              "\n",
              "[2 rows x 6 columns]"
            ]
          },
          "metadata": {
            "tags": []
          }
        }
      ]
    },
    {
      "cell_type": "code",
      "metadata": {
        "id": "u-fec8gCrs0u",
        "colab_type": "code",
        "colab": {}
      },
      "source": [
        "class sludge:\n",
        "  def __init__(self,flow):\n",
        "    self.flow=flow\n",
        "  def dry_sludge(self,coag_type='None',coag_dose=0*u.mg/u.L,percent_al=0,\\\n",
        "                     influent_turbidity=0*u.NTU,goal_turbidity=0*u.NTU,removal_ratio=1.4*u.g/(u.m**3*u.NTU),\\\n",
        "                     polymer_dose=0*u.mg/u.L):\n",
        "    if coag_type =='Alum':\n",
        "      est_val=.26\n",
        "    elif coag_type =='Ferric sulfate':\n",
        "      est_val=.53\n",
        "    elif coag_type =='Ferric chloride':\n",
        "      est_val=.66\n",
        "    elif coag_type =='PACl':\n",
        "      est_val=.0489*percent_al\n",
        "    else: est_val=0\n",
        "    self.coag_type=coag_type\n",
        "    dry_sludge_coag=(self.flow*coag_dose*est_val).to(u.kg/u.day)\n",
        "    dry_sludge_turbidity=(self.flow*(influent_turbidity-goal_turbidity)*removal_ratio).to(u.kg/u.day)\n",
        "    dry_sludge_polymer=(self.flow*polymer_dose*1).to(u.kg/u.day)\n",
        "  #HOW DO WE ACCOUNT FOR TOC\n",
        "  #influent_TOC=0*u.mg/u.L,goal_TOC=0*u.mg/u.L\n",
        "    dry_sludge=(dry_sludge_coag+dry_sludge_turbidity+dry_sludge_polymer).to(u.kg/u.day)\n",
        "    self.dry_sludge=dry_sludge \n",
        "    self.coag=dry_sludge_coag\n",
        "    self.turbidity=dry_sludge_turbidity\n",
        "    self.polymer=dry_sludge_polymer\n",
        "    return self.dry_sludge\n",
        "  def wet_sludge_volume(self,dry_sludge= 0 *u.kg/u.day, temp=15*u.degC,percent_solids=0,rho_fixed=(2.5*1000)*u.kg/(u.m**3),rho_volatile=(1*1000)*u.kg/(u.m**3),volatile_solids=0*u.kg/u.day):\n",
        "    #REPLACE THIS HERE WHEN WE FIND OUT WHAT THE PERCENT SOLIDS\n",
        "    #REPLACE THIS WITH THE ASSUMPTION THAT THE VOLATILE SOLIDS WEIGHT = DRY WEIGHT OF TOC SLUDGE\n",
        "    if dry_sludge==0*u.kg/u.day:\n",
        "      dry_sludge=self.dry_sludge\n",
        "    else: self.dry_sludge=dry_sludge\n",
        "    self.percent_solids=percent_solids\n",
        "    if percent_solids == 0:\n",
        "      if self.coag_type =='Alum':\n",
        "        percent_solids=((4+.1)/2)/100\n",
        "      elif self.coag_type =='Ferric sulfate' or self.coag_type =='Ferric chloride':\n",
        "        percent_solids=((3.5+.25)/2)/100\n",
        "      else: percent_solids= .15\n",
        "    #Add in volatile\n",
        "    self.volatile=volatile_solids\n",
        "    if self.volatile==0 *u.kg/u.day:\n",
        "      if self.coag_type =='Alum':\n",
        "        self.volatile=(((10+25)/2)/100)*self.coag\n",
        "      elif self.coag_type =='Ferric sulfate' or self.coag_type =='Ferric chloride':\n",
        "        self.volatile=(((5+15)/2)/100)*self.coag\n",
        "      else: self.volatile=.1*self.coag \n",
        "    else: self.volatile=volatile_solids\n",
        "    rho_water=ac.density_water(temp)\n",
        "    rho_solids=(self.dry_sludge/(((self.dry_sludge-self.volatile)/(rho_fixed))+(self.volatile/(rho_volatile))))\n",
        "    rho_sludge_wet=(1/((percent_solids/rho_solids)+(1-percent_solids)/rho_water))\n",
        "    self.rho_sludge_wet=rho_sludge_wet\n",
        "    self.rho_solids=rho_solids\n",
        "    wet_sludge_volume=self.dry_sludge/(self.rho_sludge_wet*percent_solids)\n",
        "    self.wet_sludge_volume=wet_sludge_volume\n",
        "    return self.wet_sludge_volume.to(u.m**3/u.day)\n",
        "  def wet_sludge_mass(self):\n",
        "    wet_sludge_mass=self.wet_sludge_volume*self.rho_sludge_wet\n",
        "    self.wet_sludge_mass=wet_sludge_mass\n",
        "    return self.wet_sludge_mass.to(u.kg/u.day)\n",
        "  def dry_sludge_volume(self):\n",
        "    dry_sludge_volume=self.dry_sludge/self.rho_solids\n",
        "    self.dry_sludge_volume=dry_sludge_volume\n",
        "    return self.dry_sludge_volume\n",
        "  \n",
        "\n",
        "#test=sludge(flow=320*u.feet**3/u.s)\n",
        "\n",
        "#test.dry_sludge(coag_type='Alum',coag_dose=30*u.mg/u.L,influent_turbidity=25*u.NTU,polymer_dose=1*u.mg/u.L)\n",
        "#print(test.dry_sludge)\n",
        "#print(test.dry_sludge)\n",
        "#test.wet_sludge_volume(temp=15*u.degC,percent_solids=.05,rho_fixed=(2.65*1000)*u.kg/(u.m**3),rho_volatile=(1.05*1000)*u.kg/(u.m**3),volatile_solids=.06*test.dry_sludge)\n",
        "#print(test.rho_sludge_wet)\n",
        "#print(test.wet_sludge_volume)\n",
        "#print(test.coag)\n",
        "#(test.dry_sludge/(320*u.ft**3/u.sec)).to_base_units()\n",
        "#volatile_solids=.06*test.drysludge)\n",
        "#test.density_sludge_wet"
      ],
      "execution_count": 0,
      "outputs": []
    },
    {
      "cell_type": "markdown",
      "metadata": {
        "id": "Prcsk9Ehw9D5",
        "colab_type": "text"
      },
      "source": [
        "#Estimated Sludge Composition\n",
        "Using the following variables, we estimated the sludge composition using the sludge class.\n",
        "* Flow rate = design average flow rate = 320 cfs\n",
        "* Influent turbidity = 23 NTU\n",
        "* Goal Effluent turbidity = 3 NTU\n",
        "* Ferric chloride dose = 13.14 mg/L \n",
        "* Polymer dose = 0.5235 mg/L\n",
        "* Percent solids = 2 % (based on table 21-5)\n",
        "\n",
        "According to the SOW, the dewatering and thickening process should produce 144 wet tons of residuals. From this number, we calculated the percent of water that must be removed during this process.\n"
      ]
    },
    {
      "cell_type": "code",
      "metadata": {
        "id": "So3LRmfoHQou",
        "colab_type": "code",
        "outputId": "4c9894fa-9d03-40b1-98da-ee8b1478e6c2",
        "colab": {
          "base_uri": "https://localhost:8080/",
          "height": 102
        }
      },
      "source": [
        "#our estimate\n",
        "percent_solids=.02\n",
        "sludge_estimate=sludge(flow=fmt.q_ave)\n",
        "dry_sludge=sludge_estimate.dry_sludge(coag_type='Ferric chloride',coag_dose=fmt.Fe_c_ave,influent_turbidity=fmt.turbidity_c_in_design,goal_turbidity=fmt.turbidity_c_out_design,polymer_dose=fmt.emulsionpolymer_c_ave)\n",
        "wet_sludge_volume=sludge_estimate.wet_sludge_volume(percent_solids=percent_solids)\n",
        "wet_sludge_mass=sludge_estimate.wet_sludge_mass()\n",
        "dry_sludge_volume=sludge_estimate.dry_sludge_volume()\n",
        "print('We estimate that the dry sludge mass produced will be', dry_sludge.to(u.US_ton/u.second),'or',dry_sludge.to(u.kg/u.second))\n",
        "\n",
        "print('We estimate that the wet sludge volume will be', wet_sludge_volume.to(u.gallon/u.second),'or', wet_sludge_volume.to(u.L/u.second))\n",
        "print('We estimate that the wet sludge mass will be', wet_sludge_mass.to(u.ton/u.second),'or', wet_sludge_mass.to(u.kg/u.second))\n",
        "print('We will have to handle', wet_sludge_mass.to(u.ton/u.day),'of wet sludge')\n",
        "print('The sludge will be', ((wet_sludge_volume/fmt.q_ave).to_base_units())*100, 'percent of the flow of the plant')\n",
        "\n"
      ],
      "execution_count": 11,
      "outputs": [
        {
          "output_type": "stream",
          "text": [
            "We estimate that the dry sludge mass produced will be 0.0003715 US_ton / second or 0.337 kilogram / second\n",
            "We estimate that the wet sludge volume will be 4.404 gallon / second or 16.67 liter / second\n",
            "We estimate that the wet sludge mass will be 0.01858 US_ton / second or 16.85 kilogram / second\n",
            "We will have to handle 1605 US_ton / day of wet sludge\n",
            "The sludge will be 0.184 dimensionless percent of the flow of the plant\n"
          ],
          "name": "stdout"
        }
      ]
    },
    {
      "cell_type": "markdown",
      "metadata": {
        "id": "Y2VAipbcs9FF",
        "colab_type": "text"
      },
      "source": [
        "#Preliminary Schematic and Process Descriptions\n",
        "\n",
        "The imagine below represents our resdiduals treatment and disposal\n",
        " schematic \n",
        "![image.png](https://github.com/MWSteams/4590FSP/raw/master/Images/Residuals/treatment_train_diagram.png)\n",
        "\n",
        "1.   Equalization Basin: Provides consistent influent flow to downstream processes by retaining high flow fluctuations.\n",
        "  *   Requires aeration and mixing (due to the additional retention time)\n",
        "2. Holding Tank: Holds condensed sludge to maintain centrifugation loading rates.\n",
        "3. Decanter Centrifuge: Further thickens solids into a cake.\n",
        "  *  Need to use a decanter centrifuge to decrease the water content of the sludge. \n",
        "  *  Treatment rate: 85-150 gpm\n",
        "  *  There is continuous recovery of the clarified liquid (centrate) by overflow, and continuous gravity discharge of dewatered solids.\n",
        "\n",
        "4.  Throughout the process, waster is reintroduced to the head of the plant.\n",
        "  * This dewatered sludge is not expected to carry heavy contaiminants, as the main purpose of this plant is to treat arsenic laden waters through the application of ferric chloride.  \n",
        "\n",
        "5. Off site disposal: Solid residual cakes, with a solids concentration of 20-30%, will be be hauled off in trucks to be disposed of off site.\n",
        "\n",
        "6. Backup Generator: Used to ensure that the plant has enough power to run during a power outtage. Generally, power goals will meet a week of operation."
      ]
    },
    {
      "cell_type": "markdown",
      "metadata": {
        "id": "gHeOlwabYYKC",
        "colab_type": "text"
      },
      "source": [
        "<a id='Polymer_Addition'></a>\n",
        "#Polymer Addition\n",
        "\n",
        "A polymer should be added for thickening, which will vary on a number of different factors. This includes the type of centrifuge used, size of the centrifuge, the type of influent solids, ionic characteristics of the sludge, water reintroduction potential, and polymer injection point. The dosing should always be based upon lbs/ton of solids coming in, which may fluctuate. We estimate a fluctuation of about one percent, and for this report have assumed a value of 1.5% to 2.5% percent solids.\n",
        "\n",
        "The centrisys centrifuge that we picked for this project handles a lot of energy, which can cause high turbulence and speed in the machine. This requires a robust, high strength, cross length polymer that will not detach from the solids mid-process. \n",
        "\n",
        "However, it is important to keep in mind that a robust polymer tends to only accept a short window of input solids concentration fluctuations. Many problems can arise if a polymer is only tested at the perfect solids concentration. If a small variance occurs in the real world, the whole process can fall apart quickly. Therefore, solids concentration should be accurately measured and tested thoroughly to ensure that the best polymer is being used. Information regarding polymer reactions to fluctuations in solids concentration can be found online and tested in the lab. An additional consideration includes observing the impact that overdosing a polymer has on coagulation potential of the mix, which can help determine if that polymer would be beneficial for use on highly fluctuating inflows. \n",
        "\n",
        "Ferric sludge, which is what is being dealt with at the Fairmont plant, is easy to dewater. This lets the plant get away with using a cheaper polymer as compared to traditional blends. Overall, it is important to understand the balance of requiring more polymer for cheaper varieties vs less polymer for more expensive varieties to yield similar results. City projects tend to rely on cheaper polymers, however, it is very important to do lab testing and realize the effects of different polymers. Testing involves spinning samples in a centrifuge with different polymer types and solids concentrations. We recommend using the centrysis company to do testing because they can use their centrifuge to directly test Fairmont sludge. Additionally, centrysis would not actually be selling the polymer product, which ensures an unbiased suggestion, and the best possible option. Contact information for a California based worker managing these operations is listed in the Vendor Information.\n",
        "\n",
        "The volume and beach angle of the centrifuge also impacts polymer addition requirements. Every increase in volume is multiplied by an increase in the G-force of the centrifuge, creating something known as a \"G Volume\". A higher G Volume allows for improved floc settling, which results in a lower polymer requirement. Beach angle, or steepness, also affects volume of the centrifuge. A steeper angle allows for a higher volume, and in turn, a higher settling rate. Keeping these in mind, it is important to note changes in centrifuge design specifications, and how polymer dosing should be altered to account for these changes. \n",
        "\n",
        "As usual, it is important to understand the ionic properties of the sludge, as the point of the polymer is to attract flocs. Always choose anionic polymers with cationic flocs, and vice versa. Another consideration includes the form of the polymer. Very large facilities tend to use dry polymer as it comes in pure solid form and requires less storage volume and transportation costs. Emulsion polymers, on the other hand, are already absorbed into an oil or liquid, which means that they are already unraveled and ready to apply. Dry polymers need a makedown system in order to properly unravel. If this step is not considered, the polymer may not be as effective as advertised, and there should be considerations toward loss in the whole system. \n",
        "\n",
        "This brings the conversation towards considering injection points into the system. Some option inlude right before centrifuging, directly into the feed pump, in the holding tank, or even in the equalization basins. This is all determined by the type of polymer used. Fragile polymers should be fed into the solution right before the centrifuge. Robust or dry polymers need more retention time, or time to mix, and so they must be inserted earlier in the process.\n",
        "\n",
        "Water treatment plants that deal with the reintriduction of dewatering liquid into the head of the plant will likely require an National Science Foundation (NSF) approved polymer, which drastically limits the possibilities of polymers in the plant. Since this is one of our team's main goals in the plant, this will be an important consideration.\n",
        "\n",
        "Based on our limited knowledge, we can only recommend a generic polymer and dosage for the plant. Please note that these calculations are intended to provide insight on approximate costs and quanitity amounts, but should not be directly followed without prior testing. When nonionic or anionic polymers are used as coagulant aids with inorganic coagulants, dosages in the range of 0.1 to 0.5 parts per million are common, while dosages from 0.1 to 0.2 parts per million are usually sufficient for most waters. Since the coagulant being used is ferric chloride, our team expects a lower dosage to go a long way in the residuals process. Additionally, anionic and nonionic polymers are generally less toxic than cationic polymers, which can block fish gills and cause suffocation. Therefore, minimum dosage to meet flocullation goals should be understood and applied. Based on the SOW, we are assuming that the polymer used will be an emulsion polymer.\n",
        "\n",
        "citations: http://tramfloc.com/polymers-water-clarification/ \n",
        "\n",
        "***id clarify which part of the text this is referring to (above or below) and insert a link for the source rather than putting in the url directly *** \n",
        "\n",
        "According to [SNF](https://www.snf.us/wp-content/uploads/2014/08/Sludge-Dewatering-E.pdf), polymer dosage should be between 0.2 and 1.0 kg/dry solids\n",
        "tonne (0,4 and 2 lbs/DT).\n",
        "Our initial plan was to use the emulsion polymer dosage from the SOW:"
      ]
    },
    {
      "cell_type": "code",
      "metadata": {
        "id": "6syB73eDeAXx",
        "colab_type": "code",
        "colab": {
          "base_uri": "https://localhost:8080/",
          "height": 34
        },
        "outputId": "c37bb43c-b0fa-463f-e102-f1a8796be7af"
      },
      "source": [
        "Polymer_dosage=fmt.yearly_emulsion_polymer_est\n",
        "dose=Polymer_dosage/dry_sludge\n",
        "print('Using the SOW emulsion polymer dose, the polymer dosage per dry solids would be ', dose.to(u.kg/u.tonne))"
      ],
      "execution_count": 19,
      "outputs": [
        {
          "output_type": "stream",
          "text": [
            "Using the SOW emulsion polymer dose, the polymer dosage per dry solids would be  14.07 kilogram / metric_ton\n"
          ],
          "name": "stdout"
        }
      ]
    },
    {
      "cell_type": "markdown",
      "metadata": {
        "id": "frhCBvKlgK_m",
        "colab_type": "text"
      },
      "source": [
        "However, this dosage is clearly way too high."
      ]
    },
    {
      "cell_type": "markdown",
      "metadata": {
        "id": "ewjqcRNwH0nU",
        "colab_type": "text"
      },
      "source": [
        "#Centrifuges\n",
        "\n",
        "Information and images from [EPA](https://nepis.epa.gov/Exe/ZyNET.exe/2000CAKU.txt?ZyActionD=ZyDocument&Client=EPA&Index=1986%20Thru%201990&Docs=&Query=&Time=&EndTime=&SearchMethod=1&TocRestrict=n&Toc=&TocEntry=&QField=&QFieldYear=&QFieldMonth=&QFieldDay=&UseQField=&IntQFieldOp=0&ExtQFieldOp=0&XmlQuery=&File=D%3A%5CZYFILES%5CINDEX%20DATA%5C86THRU90%5CTXT%5C00000000%5C2000CAKU.txt&User=ANONYMOUS&Password=anonymous&SortMethod=h%7C-&MaximumDocuments=1&FuzzyDegree=0&ImageQuality=r75g8/r75g8/x150y150g16/i425&Display=hpfr&DefSeekPage=x&SearchBack=ZyActionL&Back=ZyActionS&BackDesc=Results%20page&MaximumPages=1&ZyEntry=1)\n",
        "\n",
        "Solid bowl centrifuges designed for large-scale municipal use are generally 25 feet long and 14 feet wide. These dimensions account for the rotating assembly, backdrive, and adjacent motor. Centrifuges used to dewater sludge can accomodate flow rates of 100-200 gallons per minute (gpm), while centrifuges used to thicken sludge can accomodate flow rates of 400-600 gpm. \n",
        "\n",
        "Solid bowl centrifuges come in two designs, a concurrent centrifuge and a countercurrent centrifuge. \n",
        "\n",
        "| Concurrent Centrifuge | Countercurrent Centrifuge  |\n",
        "|---|---|\n",
        "|Sludge feed introduced into rotating assembly though cylindrical end of bowl |Sludge feed introduced through conical end of bowl |\n",
        "|Helix orientation draws settle solids in direction of sludge feed towards conical portion of centrifuge|Helix orientation draws solids against direction of sludge feed toward sludge discharge| \n",
        "\n",
        "\n",
        "a) Solid bowl concurrent centrifuge\n",
        "\n",
        "\n",
        "![alt text](https://github.com/MWSteams/4590FSP/raw/master/Images/Residuals/%20Solid_bowl_concurrent_centrifuge.png)\n",
        "\n",
        "b) Solid bowl countercurrent centrifuge \n",
        "\n",
        "\n",
        "![alt text](https://github.com/MWSteams/4590FSP/raw/master/Images/Residuals/Solid_bowl_countercurrent_centrifuge.png)\n",
        "\n",
        "Solid bowl centrifuges can be either low-speed (operate at gravitational forces less than 1100 g) or high-speed (operate at gravitational forces greater than 1100 g). \n",
        "\n",
        "| Strategy | Advantages  | Disadvantages |\n",
        "|---|---|---|\n",
        "| Low-speed centrifuge | Lower energy consumption | Lower performance | \n",
        "| | Less noisy | Lower capacity to dewater sludge |\n",
        "||Lower maintenance costs|Needs polymer conditioning|\n",
        "| High-speed centrifuge | Increased performance | Higher energy consumption | \n",
        "| | Increased capacity to dewater sludge (speeds up process) | Higher maintenance costs |\n",
        "| |Reduces need for polymer conditioning | |\n",
        "\n",
        "Although high-speed centrifuges have a higher maintence cost, they are now being constructed from improved wear-resistant materials which has lowered the amount of maintenance these centrifuges require. As such, high-speed centrifuges have gained popularity in the realm of municipal residual dewatering.  \n",
        "\n",
        "*** Do we know if the centrifuges we have decided on are low speed vs high speed and concurrent vs countercurrent? Could be good info to get from vendor ***\n",
        "\n",
        "\n",
        "\n"
      ]
    },
    {
      "cell_type": "markdown",
      "metadata": {
        "id": "-sgyetTuo5li",
        "colab_type": "text"
      },
      "source": [
        "#Available Centrifuges\n",
        "\n",
        "##Thickening\n",
        "###[Centrisys Sludge Thickener THK350](https://cdn2.hubspot.net/hubfs/4299619/6-1%20Literature/EQUIPMENT%20THK%20Series%20Centrisys.pdf)\n",
        "* Does not require polymer addition for thickening\n",
        "* Maximum feed flow rate: 320 gpm\n",
        "* Average feed flow rate: 265 gpm\n",
        "* Performance:\n",
        "\n",
        "| Sludge Thickener | Performance | Waste Activated Sludge  |\n",
        "|---|---|---|\n",
        "| No polymer (kW/gpm)|  Min | .07 |\n",
        "| - |  Max | .18 |\n",
        "| -|  Avg | .12 |\n",
        "| With polymer (kW/gpm)|  Min | .05 |\n",
        "| -|  Min | .15 |\n",
        "| -|  Min | .08 |\n",
        "|Avg Solids Recovery (% wt/wt)| w polymer| 99\n",
        "|-| w/out polymer| 93\n",
        "|Avg Cake Solids  (% total solids)| w polymer| 5-10\n",
        "|-| w/out polymer| 4-7\n",
        "\n",
        "###[Flottweg X5E-4](https://www.flottweg.com/fileadmin/user_upload/data/pdf-downloads/Klaerschlamm-EN.pdf)\n",
        "* Flow capacity: 130-300 gpm\n",
        "* Dimensions: 162“ x 61“ x 48“\n",
        "* Motor for bowl drive: 45 – 75 kW \n",
        "* Motor for scroll drive: 15 kW\n",
        "\n",
        "## Dewatering\n",
        "### [Centrisys Dewatering Centrifuge CS26-4](https://cdn2.hubspot.net/hubfs/4299619/6-1%20Literature/EQUIPMENT%20CS%20Series%20Centrisys.pdf)\n",
        "\n",
        "* Flow capacity: 200 to 400 gpm\n",
        "* 225'' x 56'' x 62''\n",
        "* Up to 40% cake dryness\n",
        "\n",
        "\n",
        "###[Flottweg C5E-4](https://www.flottweg.com/fileadmin/user_upload/data/pdf-downloads/Klaerschlamm-EN.pdf)\n",
        "* Flow capacity: 200-400 gpm\n",
        "* Dimensions: 161“ x 60“ x 48“\n",
        "* Motor for bowl drive: 45 – 75 kW \n",
        "* Motor for scroll drive: 15 kW\n",
        "\n",
        "###[Hiller DecaPress DP66](http://www.hiller-us.com/decapress.php)\n",
        "* Flow capacity: up to 300 gpm\n",
        "* Bowl ratio: 4.2:1 L/D\n",
        "* dimensions: 26” x 109”\n",
        "* Max G: 3,100 “G”\n",
        "\n",
        "\n"
      ]
    },
    {
      "cell_type": "markdown",
      "metadata": {
        "id": "wc4XSSMYgvK9",
        "colab_type": "text"
      },
      "source": [
        "#Centrifuge Considerations\n",
        "##Design Considerations\n",
        "*Information from [SNF](https://www.snf.us/wp-content/uploads/2014/08/Sludge-Dewatering-E.pdf) and [Hiller US](http://www.hiller-us.com/sludge-dewatering.php)*\n",
        "* Plant flow rate\n",
        "* Sludge produced per day\n",
        "* Seasonal variations\n",
        "* Volume of thickened solids to be dewatered\n",
        "* Range of solids concentration\n",
        "* Operation hours and times\n",
        "* Capacity to handle future increases and changes in sewer discharges\n",
        "\n",
        "\n",
        "The percent solids removal depends on:\n",
        "1. Feed rate\n",
        "2. Surface area to depth ratio\n",
        "3. Design efficiency\n",
        "4. Feed solids concentration\n",
        "5. Solids characteristics\n",
        "6. Coagulant dose\n",
        "\n",
        "\n",
        "##Centrifuge Capacities\n",
        "Below, we have calculated the daily maximum and minimum dewaterng capacities of Fairmont WTP's centrifuges.\n",
        "\n",
        "To calculate the number of centrifuges needed to dewater Fairmont's residuals, we divide the maximum daily flow rate of the Fairmont WTP by the the maximum daily flow rate one centrifuge can handle.\n",
        "\n",
        "\n",
        "\n"
      ]
    },
    {
      "cell_type": "markdown",
      "metadata": {
        "id": "4HgffMUEUjAc",
        "colab_type": "text"
      },
      "source": [
        "*** The code blow runs on the assumption that the residuals are first being thickened in centrifuges to 3-5% solids, so we need to change this once we update our percent solids info based on polymer used ***"
      ]
    },
    {
      "cell_type": "code",
      "metadata": {
        "id": "TPOFxkV1gjRR",
        "colab_type": "code",
        "outputId": "8096775c-e7b0-4090-afb8-f879a63b41a1",
        "colab": {
          "base_uri": "https://localhost:8080/",
          "height": 54
        }
      },
      "source": [
        "#Thickened sludge volume\n",
        "#thickening_percent_min=.03\n",
        "#thickening_percent_max=.05\n",
        "#thickened_sludge_min=(percent_solids/thickening_percent_max)*wet_sludge_volume\n",
        "#thickened_sludge_max=(percent_solids/thickening_percent_min)*wet_sludge_volume\n",
        "#print('The sludge will be thickened to a volume between', thickened_sludge_min,'and',thickened_sludge_max)\n",
        "\n",
        "\n",
        "#Centrifuge Dewatering capacity(85-150 gpm)\n",
        "dewatering_capacity_min=85*(u.gallon/u.minute)\n",
        "dewatering_capacity_max=150*(u.gallon/u.minute) \n",
        "print('An estimate for the amount of residuals that a centrifuge can dewater is', dewatering_capacity_min.to(u.gallon/u.day), 'to', dewatering_capacity_max.to(u.gallon/u.day))\n",
        "\n",
        "#Number of centrifuges for dewatering\n",
        "#min_sludge_min_centrifuges_dewatering=(thickened_sludge_min/dewatering_capacity_max).to_base_units()\n",
        "#min_sludge_max_centrifuges_dewatering=(thickened_sludge_min/dewatering_capacity_min).to_base_units()\n",
        "#max_sludge_min_centrifuges_dewatering=(thickened_sludge_max/dewatering_capacity_max).to_base_units()\n",
        "#max_sludge_max_centrifuges_dewatering=(thickened_sludge_max/dewatering_capacity_min).to_base_units()\n",
        "\n",
        "#print('The number of centrifuges needed to dewater residuals will range from', np.ceil(min(min_sludge_min_centrifuges_dewatering, min_sludge_max_centrifuges_dewatering, max_sludge_min_centrifuges_dewatering, max_sludge_max_centrifuges_dewatering)),'to',np.ceil(max(min_sludge_min_centrifuges_dewatering, min_sludge_max_centrifuges_dewatering, max_sludge_min_centrifuges_dewatering, max_sludge_max_centrifuges_dewatering)))\n",
        "\n",
        "dewatering_percent_min=.1\n",
        "dewatering_percent_max=.6\n",
        "#dewatered_sludge_min=(thickening_percent_min/dewatering_percent_max)*thickened_sludge_max\n",
        "#dewatered_sludge_max=(thickening_percent_max/dewatering_percent_min)*thickened_sludge_min\n",
        "#print('The sludge will be thickened to a volume between', dewatered_sludge_min,'and',dewatered_sludge_max)\n",
        "\n",
        "\n"
      ],
      "execution_count": 13,
      "outputs": [
        {
          "output_type": "stream",
          "text": [
            "An estimate for the amount of residuals that a centrifuge can dewater is 1.224e+05 gallon / day to 2.16e+05 gallon / day\n"
          ],
          "name": "stdout"
        }
      ]
    },
    {
      "cell_type": "markdown",
      "metadata": {
        "id": "DnMgrZSYRi78",
        "colab_type": "text"
      },
      "source": [
        "# Dewatering Time\n",
        "\n",
        "Below, we calculate the amount of time each centrifuge must run per day in order to dewater the inputted residuals.\n",
        "\n",
        "\n"
      ]
    },
    {
      "cell_type": "code",
      "metadata": {
        "id": "28qiEwTFRkzS",
        "colab_type": "code",
        "colab": {}
      },
      "source": [
        "#Amount of time it takes for centrifuges to dewater sludge \n",
        "dewatering_time_fast=(thickened_sludge_max/dewatering_capacity_max).to(u.minute/u.day)\n",
        "dewatering_time_slow=(thickened_sludge_min/dewatering_capacity_min).to(u.minute/u.day)\n",
        "print('The daily time it will take each centrifuge to dewater sludge varies from', dewatering_time_fast.to(u.hour/u.day),'to',dewatering_time_slow.to(u.hour/u.day)/3,'depending on whether one or three centrifuges are utilized') #dividing by three because 3 centrifgues are required when slowest flow rate is fed into centrifuge"
      ],
      "execution_count": 0,
      "outputs": []
    },
    {
      "cell_type": "markdown",
      "metadata": {
        "id": "OQAs4yi-UwP3",
        "colab_type": "text"
      },
      "source": [
        "#Loading Trucks\n",
        "Fairmont WTP will utilize 6,500 gallon tankers to transport dewatered residuals\n",
        "to disposal sites. The code below calculates the number of trucks needed to transport residuals per day based on our estimate of the amount of dewatered residuals produced."
      ]
    },
    {
      "cell_type": "code",
      "metadata": {
        "id": "BY4tOd7pV4K4",
        "colab_type": "code",
        "colab": {}
      },
      "source": [
        "#must decide if we are doing this calculation in terms of gallons or tons of sludge\n",
        "truck_capacity=6500*u.gallon\n",
        "trucks_per_day=(dry_sludge_volume/truck_capacity).to_base_units() #must accounts for % liquids that remain in addition to dry sludge volume\n",
        "print('The number of trucks required to haul dewatered residuals off site is',np.ceil(trucks_per_day.to(1/u.day))) "
      ],
      "execution_count": 0,
      "outputs": []
    },
    {
      "cell_type": "markdown",
      "metadata": {
        "id": "n3evD5Ye_8l_",
        "colab_type": "text"
      },
      "source": [
        "#Dry Solids Estimates and Variables\n",
        "In addition to inorganic chemicals including metal salts and polyelectrolites, a large variety of organic-based polymers are employed as coagulant aids either independently or in concert with the inorganic coagulation aids. A large number of different formulations of polymer beads, polyacrylamide, polyamines, and polydimethylammonium chloride are listed in ANSI/NSF Standard 60 and can be used to promote the removal of turbidity from drinking water. Some of these chemicals are also referred to as filtration aids, but function the same way as coagulants. Residuals are generated as underflow discharges from the sedimentation tanks. These residuals contain source water contaminants, as well as chemicals added to aid solid removal and formulation impurities in the added treatment chemicals.\n",
        "Below is a chart formed from data aquired by field testing regarding polymer addition and solids concentration output as it relates to three different polymers.\n",
        "\n",
        "![image.png](https://github.com/MWSteams/4590FSP/raw/master/Images/Residuals/polymer%20addition%20cake%20dryness.png)\n",
        "\n",
        "The graph below illustrates how torque can influence the cake dryness of centrifugal solids. Fortunately, most centrifuges have a torque meter that can easily be read, which allows for a direct estimate of the cake dryness values. As the cake dryness increases, it requires more torque to convey or scroll the cake up through the conical section and out the cake discharge ports. \n",
        "\n",
        "![image.png](https://github.com/MWSteams/4590FSP/raw/master/Images/Residuals/torque%20cake%20dryness.png)\n",
        "\n",
        "The ANDRITZ separation company tested out three different polymers, and discovered that Polydyne C 9530 produced the best results, as highlighted in the blue graph.\n",
        "Furthermore, the highest cake dryness was produced with this polymer, at a dryness of 22%, which will meet our residuals percent solids composition goal of 20-30%. This dryness was acheieved with the addition of 25 active pounds per ton of total solids. This graph also shows us that additional polymer dosing increases cake dryness, but these positive results taper off at a certain dosage. This research can help us determine the amount of polymer that should be added to our process.\n",
        "\n",
        "The below graph, also provided by research produced by the ANDRITZ company, shows the effects of throughput on solids production. In these terms, throughput represents the amount of sludge passing through the centrifuge. As the throughput increases, the differential speed between the bowl and scroll must be increased to maintain the solids capture rate. This reduction in sludge retention time causes the cake dryness to\n",
        "decrease as seen in the below graph. Therefore, we can deduce that, though centrifuges can pass 200 gallons per minute, this may not be a flow rate which can help meet our cake dryness goal. As presented below, the percent total solids decreased dramatically between 85 and 115 GPM, and continued to taper downwards. At throughputs between 50 and 85 GPM, there was not a very noticeable difference in effectiveness of dewatering. These results are what prompted us to define our centrifuge feeding rate as 85-150 gpm of residuals, as this range allows for a relatively time-efficient dewatering process while also ensuring optimal dewatering capabilities.  \n",
        "![image.png](https://github.com/MWSteams/4590FSP/raw/master/Images/Residuals/throughput%20cake%20dryness.png)\n"
      ]
    },
    {
      "cell_type": "markdown",
      "metadata": {
        "id": "__jJjiFMSLVe",
        "colab_type": "text"
      },
      "source": [
        "# Hazardous Waste Disposal Costs\n",
        "\n",
        "\n",
        "Information from [Management of Water Treatment Plant Residuals](https://nepis.epa.gov/Exe/ZyNET.exe/30004PI0.TXT?ZyActionD=ZyDocument&Client=EPA&Index=1995+Thru+1999&Docs=&Query=&Time=&EndTime=&SearchMethod=1&TocRestrict=n&Toc=&TocEntry=&QField=&QFieldYear=&QFieldMonth=&QFieldDay=&IntQFieldOp=0&ExtQFieldOp=0&XmlQuery=&File=D%3A%5Czyfiles%5CIndex%20Data%5C95thru99%5CTxt%5C00000003%5C30004PI0.txt&User=ANONYMOUS&Password=anonymous&SortMethod=h%7C-&MaximumDocuments=1&FuzzyDegree=0&ImageQuality=r75g8/r75g8/x150y150g16/i425&Display=hpfr&DefSeekPage=x&SearchBack=ZyActionL&Back=ZyActionS&BackDesc=Results%20page&MaximumPages=1&ZyEntry=1&SeekPage=x&ZyPURL)\n",
        "\n",
        "The costs associated with hazardous waste disposal include tranportation costs, hazardous waste landfill disposal costs, and stabilization costs. If wastes fail to pass the Paint Filter Liquids Test, they must be stabalized before they are disposed of. \n",
        "\n",
        "A PFL test is EPA-approved and is used to determine whether or not there are free liquids in a sample of waste. The use of centrifuges at the Fairmont WTP are to ensure that its residuals will pass the PLF test so that additional costs are not incurred when disposing of the residuals. \n",
        "\n",
        "**Hazardous Waste Disposal**\n",
        "\n",
        "$$Y=[Disposal]+[Transportation]$$\n",
        "\n",
        "$$Y=[200X]+{[7.9+0.22(Z)][X]}$$\n",
        "\n",
        "\n",
        "$Y=$ $/year\n",
        "\n",
        "$X=$ tons of residuals disposed of/year\n",
        "\n",
        "$Z=$ transportation distance (200-500 miles)\n",
        "\n",
        "\n",
        "**Stabilization and Hazardous Waste Disposal**\n",
        "\n",
        "$$Y=[Stabilization/Disposal]+[Transportation]$$\n",
        "\n",
        "$$Y=[400X]+{[7.9+0.22(Z)][X]}$$\n",
        "\n",
        "\n",
        "$Y=$ $/year\n",
        "\n",
        "$X=$ tons of residuals disposed of/year\n",
        "\n",
        "$Z=$ transportation distance (200-500 miles)\n",
        " "
      ]
    },
    {
      "cell_type": "code",
      "metadata": {
        "id": "SkwZPSKlX9Fl",
        "colab_type": "code",
        "colab": {}
      },
      "source": [
        "#Hazardous waste disposal costs\n",
        "\n",
        "#distance=350*u.mile #average of 200 and 500 miles\n",
        "#tons_residuals_disposed_per_year=6\n",
        "\n",
        "#hazardous_disposal_cost=(200+7.9+(0.22*distance))*tons_residuals_disposed_per_year\n"
      ],
      "execution_count": 0,
      "outputs": []
    },
    {
      "cell_type": "markdown",
      "metadata": {
        "id": "HyK3hSJX3x96",
        "colab_type": "text"
      },
      "source": [
        "# Electricity Usage and Costs\n",
        "\n",
        "Through a conversation with Jared Swanson, the primary contact for the California region of Centrisys Operations, we obtained estimates for lifecycle costs and electricity requirements for each centrifuge of our process.\n",
        "\n",
        "Electricity consumption varies by centrifuge loading, and can best be calculated by kWh/gpm. Optimal loading varies between 0.1 to 0.2 kWh/gpm. Highest energy consumption, which comes from very low flow in a typically large centrifuge, can be expected to reach 0.3 kWh/gpm. For our purposes, we will calculate energy demands for each scenario in order to be prepared for future requirements. Our baseline throughput will be 150 gpm, the high end of our loading velocity, to ensure that the following calculations do not underestimate eelctricity costs. These calculations can and should be altered to reflect the changing throughput values within the plant.\n",
        "\n"
      ]
    },
    {
      "cell_type": "code",
      "metadata": {
        "id": "LexPSWQp85DV",
        "colab_type": "code",
        "colab": {}
      },
      "source": [
        "Optimal_loading = .1*u.kilowatt_hour/(u.gallons/u.minute)\n",
        "Typical_loading = .2*u.kilowatt_hour/(u.gallons/u.minute)\n",
        "Poor_loading = .3*u.kilowatt_hour/(u.gallons/u.minute)\n",
        "\n",
        "throughput = 150*(u.gallons/u.minute) \n",
        "hours_perday = 8/u.day #change this to reflect actual time once we know how many centrifuges we will really need\n",
        "\n",
        "optimal_energy = Optimal_loading * throughput * hours_perday \n",
        "# optimal_cost = cost_per_kWh*optimal_energy\n",
        "print ('The optimal energy requirement for each working centrifuge would be', optimal_energy)\n",
        "# print ('The cost of running a centrifuge for eight hours per day at optimal loading is approximated at', optimal_cost )\n",
        "\n",
        "typical_energy = Typical_loading * throughput * hours_perday\n",
        "print ('The typical expected energy requirement would be', typical_energy)\n",
        "\n",
        "poor_energy = Poor_loading * throughput * hours_perday\n",
        "print ('The highest energy requirement would be', poor_energy)\n",
        "\n",
        "\n"
      ],
      "execution_count": 0,
      "outputs": []
    },
    {
      "cell_type": "markdown",
      "metadata": {
        "id": "ZOdRNMc2KUtl",
        "colab_type": "text"
      },
      "source": [
        "Based on these energy requirements, and the assumption that the average cost of electricity is 10 cents/kWh, the cost of electricity can be calculated from the following code:"
      ]
    },
    {
      "cell_type": "code",
      "metadata": {
        "id": "zj9yi-P232cU",
        "colab_type": "code",
        "colab": {}
      },
      "source": [
        "#Electricity costs ($/kWh*kWh)\n",
        "\n",
        "low_electricity_cost=0.1*u.dollar/u.kilowatt_hour*optimal_energy\n",
        "print ('The optimal electricity cost to dewater residuals is', low_electricity_cost)\n",
        "\n",
        "average_electricity_cost=0.1*u.dollar/u.kilowatt_hour*typical_energy\n",
        "print ('The typical electricity cost to dewater residuals is', average_electricity_cost)\n",
        "\n",
        "high_electricity_cost=0.1*u.dollar/u.kilowatt_hour*poor_energy\n",
        "print ('The highest electricity cost to dewater resdiuals is', high_electricity_cost)\n"
      ],
      "execution_count": 0,
      "outputs": []
    },
    {
      "cell_type": "markdown",
      "metadata": {
        "id": "JeE0Nv7B4ZiC",
        "colab_type": "text"
      },
      "source": [
        "# Centrifuge and Maintenance Costs\n",
        "\n",
        "Average operating and maintenance costs for centrifuges vary with hours of use, which we have based on our calculated vaue of 8 hrs of ontime per day for one centrifuge ***update this value once code is updated***. Every 10,000-15,000 hours, a minor maintencance issue costing between $10,000 and $25,000 may be expected, and must be accounted for towards costs. Every 20,000-30,000 hours, a \"bowl and scroll\" fix will cost between $40,000 and $80,000 dollars. This will not happen every year, but is still beneficial to budget for.\n",
        "\n",
        "We rounded the above ranges to average values for our calculations, at $18,000 every 12,000 hours, and $60,000 every 25,000 hours of opeeration. These values are based off of centrifuge usage of 8 hours per day, and a given average lifecycle estimate of 20 years."
      ]
    },
    {
      "cell_type": "code",
      "metadata": {
        "id": "sRXUgeyTJlkE",
        "colab_type": "code",
        "colab": {}
      },
      "source": [
        "#Maintenance Costs\n",
        "\n",
        "days_minor = (12000/8) *u.day  #This value shows us how many days to expect before a minor failure occurs\n",
        "days_major = (25000/8) *u.day  #This value shows us how many days to expect before a minor failure occurs\n",
        "cost_minor = 18000*u.dollar\n",
        "cost_major = 60000*u.dollar\n",
        "days_peryear = 365*u.day/u.year\n",
        "\n",
        "annual_cost = ((cost_minor * days_peryear /days_minor) + (cost_major * (days_peryear/days_major))).to(u.dollar/u.year)\n",
        "print('The annual maintenace costs of one centrifuge would be approximated at', annual_cost)"
      ],
      "execution_count": 0,
      "outputs": []
    },
    {
      "cell_type": "markdown",
      "metadata": {
        "id": "J9dPZVMbOka9",
        "colab_type": "text"
      },
      "source": [
        "# Vendors and contact information file\n",
        "\n",
        "See this [tab delimited spreadsheet](https://raw.githubusercontent.com/monroews/4590FSP/master/vendors.txt).\n",
        "\n",
        "Add rows to the vendor spreadsheet as you find them. The sheet can easily be edited in Excel. Just make sure to save it as a tab delimited sheet. Push your changes to github so the entire class has access to the document.\n",
        "\n"
      ]
    },
    {
      "cell_type": "code",
      "metadata": {
        "id": "l35d0BODlEsW",
        "colab_type": "code",
        "colab": {}
      },
      "source": [
        "vendors = pd.read_csv('https://raw.githubusercontent.com/monroews/4590FSP/master/vendors.txt',sep='\\t')\n",
        "vendors.head()"
      ],
      "execution_count": 0,
      "outputs": []
    },
    {
      "cell_type": "markdown",
      "metadata": {
        "id": "WfMWNqI0a1Ix",
        "colab_type": "text"
      },
      "source": [
        "Resources:\n",
        "\n",
        "https://www.epa.gov/sites/production/files/2015-11/documents/dw-treatment-residuals-mgmt-tech-report-sept-2011.pdf\n",
        "\n",
        "https://www.epa.gov/sites/production/files/2015-10/documents/method_1684_draft_2001.pdf\n",
        "\n",
        "http://web.deu.edu.tr/atiksu/ana58/c-7.pdf\n",
        "\n",
        "https://vtechworks.lib.vt.edu/bitstream/handle/10919/26604/04Chapter3.pdf?sequence=3\n",
        "\n",
        "https://nepis.epa.gov/Exe/ZyNET.exe/30004PI0.txt?ZyActionD=ZyDocument&Client=EPA&Index=1995%20Thru%201999&Docs=&Query=&Time=&EndTime=&SearchMethod=1&TocRestrict=n&Toc=&TocEntry=&QField=&QFieldYear=&QFieldMonth=&QFieldDay=&UseQField=&IntQFieldOp=0&ExtQFieldOp=0&XmlQuery=&File=D%3A%5CZYFILES%5CINDEX%20DATA%5C95THRU99%5CTXT%5C00000003%5C30004PI0.txt&User=ANONYMOUS&Password=anonymous&SortMethod=h%7C-&MaximumDocuments=1&FuzzyDegree=0&ImageQuality=r75g8/r75g8/x150y150g16/i425&Display=hpfr&DefSeekPage=x&SearchBack=ZyActionL&Back=ZyActionS&BackDesc=Results%20page&MaximumPages=1&ZyEntry=213\n",
        "\n",
        "https://www.epa.gov/sites/production/files/2015-09/documents/train6-residuals.pdf\n",
        "\n",
        "https://nepis.epa.gov/Exe/ZyNET.exe/2000CAKU.txt?ZyActionD=ZyDocument&Client=EPA&Index=1986%20Thru%201990&Docs=&Query=&Time=&EndTime=&SearchMethod=1&TocRestrict=n&Toc=&TocEntry=&QField=&QFieldYear=&QFieldMonth=&QFieldDay=&UseQField=&IntQFieldOp=0&ExtQFieldOp=0&XmlQuery=&File=D%3A%5CZYFILES%5CINDEX%20DATA%5C86THRU90%5CTXT%5C00000000%5C2000CAKU.txt&User=ANONYMOUS&Password=anonymous&SortMethod=h%7C-&MaximumDocuments=1&FuzzyDegree=0&ImageQuality=r75g8/r75g8/x150y150g16/i425&Display=hpfr&DefSeekPage=x&SearchBack=ZyActionL&Back=ZyActionS&BackDesc=Results%20page&MaximumPages=1&ZyEntry=3"
      ]
    },
    {
      "cell_type": "markdown",
      "metadata": {
        "id": "c3m7JsWgBYyK",
        "colab_type": "text"
      },
      "source": [
        "#**Questions:**\n",
        "\n",
        "How do we know what the sludge compostion is?\n",
        "For physical properties which are we using in the range?"
      ]
    },
    {
      "cell_type": "markdown",
      "metadata": {
        "id": "VdKbdFMejIyB",
        "colab_type": "text"
      },
      "source": [
        ">How do we know how the centrifuge works/ how well it will dewater our sludge?"
      ]
    },
    {
      "cell_type": "markdown",
      "metadata": {
        "id": "x8iKFAlegV3d",
        "colab_type": "text"
      },
      "source": [
        "#Appendix \n",
        "##California Waste Discharge Requirements\n",
        "*Constraint information taken from [The California Water Code](https://www.easylawlookup.com/California-Law/Water-Code/pg-298/_easylookup.blp?data=WATER&sidfw=&site=EASY&location=78232&spon=&stype=P&sterm=+&smode=AND&sexact=ON&pgno=298&par=6901&dlevel=2#par_6901)\n",
        "and the\n",
        "[EPA](https://www.epa.gov/sites/production/files/2015-09/documents/train6-residuals.pdf).*\n",
        "\n",
        "* Only non hazardous residuals may be disposed in a solid waste landfill, \n",
        "\n",
        "\n",
        "The treatment of drinking water results in liquid and solid wastes that contain concentrated contaminants such as arsenic. ([EPA](https://www.epa.gov/sites/production/files/2015-09/documents/train6-residuals.pdf)) The Faimont Water Treatment Plant must dispose of their residuals in a way that complies with California law and minimizes environmental impact. Raw water characteristics that may impact the disposal optins of residuals include:\n",
        "* Excessively high or low pH;\n",
        "* High total suspended solids (TSS);\n",
        "* High total dissolved solids (TDS);\n",
        "* High concentrations of heavy metals, including arsenic, lead, and aluminum;\n",
        "* High concentrations of competing ions, including fluoride, sodium, sulfate chloride, and other salts concentrations;\n",
        "* High concentrations of radionuclides and daughter products.\n",
        "\n",
        "\n",
        "To dispose of residuals in a solid waste landfill, the residuals must be nonhazardous, otherwise they must be disposed of in a hazardous waste landfill. Liquid residuals cannot be disposed of in a land disposal unit. To discharge resdiuals directly to a body, the residuals must be non-hazardous and meet National Pollutant Discharge Elimination System (NPDES) discharge requirements.\n",
        "\n",
        "\n",
        "Depending on the concentrations of contanimants in a waste stream, intermediate processing may be neccessary before disposal. Types of **intermediate processing for liquid waste** includes flow equilization (detaining and mixing water system wastes before releasing residuals to a POTW), brine recycling (caution must be exercised, as reused brine streams can possess higher levels of suspended solids and contaminants), pH neutralization for wastes streams with a significantly high or low pH, settling or gravity thickening (removes contaminants from liquid waste stream, resulting in a cleaner liquid waste and a concentrated sludge), evaporation (leaves solids and contaminants behind), and chemical precipitation. Types of **intermediate processing for solid wastes** include mechanical dewatering processes (centrifugal filter presses, vacuumassisted dewatering beds, belt filter presses, plate-and-frame filter presses), filter presses, non-mechanical dewatering processes (lagoons, settling basins, gravity thickening, evaporation ponds, drying beds), and thermal processing (incineration, pyrolysis).\n",
        "\n",
        "\n",
        "For the most part, the dillution of hazardous waste in not recommended, as any mixture or derivative of a hazardous waste is also characterized as a hazardous waste. \n",
        "\n",
        "# Arsenic Standards \n",
        "\n",
        "The national TC (toxicity characteristic) for arsenic is 5 mg/L. If the concentration of arsenic in residuals exceeds this value, the waste in considered hazardous and is not acceptable for direct discharge. However, this value can vary region-to-region. The TBLL (technically based local limit) for arsenic is 1 mg/L in San Jose, CA and 2 mg/L in Orange County, CA. \n",
        "\n",
        "\n",
        "# Processing of Nonhazardous Residuals\n",
        "\n",
        "\n",
        "Nonhazardous residuals produced from sorption processes or chemical precipitation may be disposed of in the following ways:\n",
        "\n",
        ">Recycle backwash water to facility headwokrs, discharge backwash to recieving body or POTW, and dispose of solid wastes in landfill.\n",
        "\n",
        "Nonhazardous residuals produced from membrane processes may be disposed of in the following ways:\n",
        "\n",
        ">Solid wastes disposed in landfill, liquid wastes may need pretreatment before discharge into POTW. \n",
        "\n",
        "\n",
        "\n",
        "# Health-based acceptable loading limits established under 40 CFR 503:\n",
        "\n",
        "\n",
        "Pollutant | Ceiling concentration (mg/kg) | Cumulative pollutant loading rate (kg/hectare) | Monthly avg concentration (mg/kg) | Annual Pollutant loading rate (kg/hectare/365 day period)\n",
        "--- | --- | --- | --- | ---\n",
        "Arsenic| 75 | 41 | 41 | 2.0 \n",
        "Cadmium | 85 | 39 | 39 | 1.9 \n",
        "Copper | 4300 | 1500 | 1500 | 75\n",
        "Lead | 840 | 300 | 300 | 15\n",
        "Mercury | 57 | 17 | 17 | 0.85\n",
        "Molybdenum | 75 | -- | -- | -- \n",
        "Nickel | 420 | 420 | 420 | 21\n",
        "Selenium | 100 | 100 | 100 | 5.0\n",
        "Zinc | 7500 | 2800 | 2800 | 140\n",
        "\n",
        "\n",
        "\n",
        "The overall goal of Fairmont's residuals management team is to minimize the amount of hazardous waste generated, as hazardous waste is expensive to dispose of and carries a strict cradle-to-grave liability."
      ]
    },
    {
      "cell_type": "markdown",
      "metadata": {
        "id": "yIldv5Yr4XdY",
        "colab_type": "text"
      },
      "source": [
        "#Physics: Centrifuges\n",
        "\n",
        "$$G=\\frac{r\\omega^2}{g}$$\n",
        "$r=$ radius of centrifugal dewatering vessel\n",
        "\n",
        "$g=$ gravitational acceleration\n",
        "\n",
        "Using Darcy's law to predict the rate of drainage through the filter cake [1,12]:\n",
        "$$Q=\\frac{K\\Delta P A}{\\mu L}$$\n",
        "\n",
        "$Q=$ flow rate\n",
        "\n",
        "$K=$ permeability of cake\n",
        "\n",
        "$\\Delta P=$ pressure drop across the cake\n",
        "\n",
        "$A=$ filtration area\n",
        "\n",
        "$\\mu=$ dynamic viscosity of water\n",
        "\n",
        "$L=$ cake thickness\n",
        "\n",
        "During filtration period, the pressure drop across the cake is determined by the following relationship:\n",
        "$$\\Delta P=\\frac{1}{2}\\rho\\omega^2(r_s^2-r_0^2)$$\n",
        "\n",
        "$\\rho=$ density of the liquid\n",
        "\n",
        "$r_0=$ radial distance from the rotation axis of the centerfuge to the free water\n",
        "\n",
        "$r_s =$ radial distance from the rotation axis of the centerfuge to the cake surface\n",
        "\n",
        "Centrifugal dewatering is largely used for separating excess water from sludge. The applied centrifugal force created by the angular velocity of the rotating basket allows for w lower moisture content of the product, which is the goal of our team, both to limit the amount of waste that is being dumped, and to best salvage water for reintroduction into the treatment process. \n",
        "\n",
        "Centrifugal treatment starts with a process called filtration, in which water flows outwards through the sludge while the sludge is covered in a layer of water. In time, as the water is increasingly removed from the sludge, drainage occurs in the centrifuge. The pressure drop becomes negative during this slower process, as the thickness of the solid cake is increased. \n",
        "\n",
        "To start to observe the physical characteristics that outline the process of centrifugal dewatering, we calculated...\n",
        "\n",
        "\n",
        "From the top equations, we can deduce that the rate of filtration should increase with angular velocity and the thickness of the water\n",
        "over a filter cake. \n",
        "\n",
        "We also see that the change in pressure approaches zero when the water over the cake decreases. As the water level in the cake decreases further, the pressure within the cake becomes lower than the ambient pressure.This may be the fundamental reason that centrifuges cannot produce as low cake moistures as vacuum or pressure filters for\n",
        "the finer particles."
      ]
    },
    {
      "cell_type": "markdown",
      "metadata": {
        "id": "AkU2jgvI5zlt",
        "colab_type": "text"
      },
      "source": [
        "# Energy Requirements (can probably take this out for final report)\n",
        "\n",
        "From a stuy of Chinese WWTPs, the treatment of sludge amounts for 4.1-13.9% of the total energy consumption of a WWTP. The treatment processes examined were thickening, conditioning, and dewatering, which all serve to decrease the water composition of sludge. Gravity thickeners utilize electricty in order to rotate sludge scrapers at the bottom of the tank, while centifuges require electricty to run their electric motor. From this study, it was found that gravity thickening required 0.0019-0.0021 Kwh m^-3 for plants that serve over 50,000 people, while thickening centrigues required 0.015-0.035 kWh m^-3. At Beijung's Gaobeidian WWTP, sludge thickening accounts for 0.04% of the plant's energy consumption. Plate and frame filter presses utilize 100 kWh of electricty per dry ton of sludege while centrifugal dewatering utilizes 108 kWh of electricity per dry ton. \n",
        "\n",
        "`Given that we do not yet know how many dry tons of sludge will be produced per day, to calculate the approximate energy requirements of a centrifuge we will utilize our wet sludge mass. `To calculate daily energy required, Fairmont's daily *dry* sludge mass must be multiplied by the electricity requirement per ton. Once the dry sludge mass is calculated, we can determine the energy requirement given that centrifugal dewatering utilizes 108 kWh of electricity per dry ton of residuals. To calculate the cost of this electricity requirement, we will make the assuption that the average cost of electricity is 10 cents/kWh. "
      ]
    },
    {
      "cell_type": "code",
      "metadata": {
        "id": "mNy_1M0LLmm_",
        "colab_type": "code",
        "colab": {}
      },
      "source": [
        "#daily energy requirement to run centrifuge\n",
        "#thickening_kWh_requirement=0.035*u.kilowatt_hour/u.meter**(3)\n",
        "#daily_electricity_requirement=thickening_kWh_requirement*wet_sludge_volume #use wet sludge volume until we know dry sludge volume\n",
        "dewatering_kWh_requirement=108*u.kilowatt_hour/u.ton\n",
        "daily_electricity_requirement=dewatering_kWh_requirement*dry_sludge.to(u.ton/u.day) \n",
        "print(daily_electricity_requirement, 'of electricity will be required to run a centrifuge')\n",
        "\n",
        "#daily electricty cost of running centrifuge\n",
        "cost_per_kWh=0.1*u.dollar/(u.kilowatt_hour)\n",
        "daily_electricity_cost=cost_per_kWh*daily_electricity_requirement\n",
        "print('It will cost',daily_electricity_cost,'to power a centrifuge')"
      ],
      "execution_count": 0,
      "outputs": []
    },
    {
      "cell_type": "markdown",
      "metadata": {
        "id": "C4HBgDjGyjSX",
        "colab_type": "text"
      },
      "source": [
        "\n",
        "# Next Steps and Challenges\n",
        "\n",
        "Challenges include trying to reduce the volume of residuals within the plant. This should be done by concentrating wastes as much as possible. This leftover water should be recycled back into the front end of the plant. Also, considering what to do with the residuals can be difficult. Another challenge includes finding safe ways to deal with Arsenic in the residuals, since it is a hazardous waste, and presents itself in high concentrations through the plant inflow. The management of liquid waste streams is also going to be challenging, as our team will try to recycle as much water as possible, and the constituents in the return flow are difficult to manage. Additionally, it will be difficult to choose the best polymer to satisfy all of the plant's requirements. \n"
      ]
    }
  ]
}