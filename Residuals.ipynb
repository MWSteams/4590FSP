{
  "nbformat": 4,
  "nbformat_minor": 0,
  "metadata": {
    "colab": {
      "name": "Residuals.ipynb",
      "provenance": [],
      "collapsed_sections": []
    },
    "kernelspec": {
      "name": "python3",
      "display_name": "Python 3"
    }
  },
  "cells": [
    {
      "cell_type": "markdown",
      "metadata": {
        "id": "lZNgRSu1Uj8D",
        "colab_type": "text"
      },
      "source": [
        "# Residuals\n",
        "\n",
        "Authors: Madeline Keep, Izabella Kornak, Hannah Weinstein\n"
      ]
    },
    {
      "cell_type": "code",
      "metadata": {
        "id": "QjwM4ovYUokZ",
        "colab_type": "code",
        "outputId": "7294744e-1614-4d09-8764-cad91609bc61",
        "colab": {
          "base_uri": "https://localhost:8080/",
          "height": 275
        }
      },
      "source": [
        "!pip install aguaclara\n",
        "!pip install molmass"
      ],
      "execution_count": 0,
      "outputs": [
        {
          "output_type": "stream",
          "text": [
            "Requirement already satisfied: aguaclara in /usr/local/lib/python3.6/dist-packages (0.2.0)\n",
            "Requirement already satisfied: pandas in /usr/local/lib/python3.6/dist-packages (from aguaclara) (1.0.3)\n",
            "Requirement already satisfied: pint==0.8.1 in /usr/local/lib/python3.6/dist-packages (from aguaclara) (0.8.1)\n",
            "Requirement already satisfied: scipy in /usr/local/lib/python3.6/dist-packages (from aguaclara) (1.4.1)\n",
            "Requirement already satisfied: urllib3 in /usr/local/lib/python3.6/dist-packages (from aguaclara) (1.24.3)\n",
            "Requirement already satisfied: matplotlib in /usr/local/lib/python3.6/dist-packages (from aguaclara) (3.2.1)\n",
            "Requirement already satisfied: pytz>=2017.2 in /usr/local/lib/python3.6/dist-packages (from pandas->aguaclara) (2018.9)\n",
            "Requirement already satisfied: numpy>=1.13.3 in /usr/local/lib/python3.6/dist-packages (from pandas->aguaclara) (1.18.3)\n",
            "Requirement already satisfied: python-dateutil>=2.6.1 in /usr/local/lib/python3.6/dist-packages (from pandas->aguaclara) (2.8.1)\n",
            "Requirement already satisfied: pyparsing!=2.0.4,!=2.1.2,!=2.1.6,>=2.0.1 in /usr/local/lib/python3.6/dist-packages (from matplotlib->aguaclara) (2.4.7)\n",
            "Requirement already satisfied: cycler>=0.10 in /usr/local/lib/python3.6/dist-packages (from matplotlib->aguaclara) (0.10.0)\n",
            "Requirement already satisfied: kiwisolver>=1.0.1 in /usr/local/lib/python3.6/dist-packages (from matplotlib->aguaclara) (1.2.0)\n",
            "Requirement already satisfied: six>=1.5 in /usr/local/lib/python3.6/dist-packages (from python-dateutil>=2.6.1->pandas->aguaclara) (1.12.0)\n",
            "Requirement already satisfied: molmass in /usr/local/lib/python3.6/dist-packages (2020.1.1)\n"
          ],
          "name": "stdout"
        }
      ]
    },
    {
      "cell_type": "code",
      "metadata": {
        "id": "ttJT8q_wYhAV",
        "colab_type": "code",
        "outputId": "7dc0895e-4c3f-43c4-85a9-a122b5b70d46",
        "colab": {
          "base_uri": "https://localhost:8080/",
          "height": 224
        }
      },
      "source": [
        "from aguaclara.core.units import unit_registry as u\n",
        "import aguaclara as ac\n",
        "import matplotlib.pyplot as plt\n",
        "import numpy as np\n",
        "import pandas as pd\n",
        "import molmass as mol\n",
        "!wget https://raw.githubusercontent.com/monroews/4590FSP/master/Fairmont.py\n",
        "import Fairmont as fmt"
      ],
      "execution_count": 0,
      "outputs": [
        {
          "output_type": "stream",
          "text": [
            "--2020-04-28 00:28:30--  https://raw.githubusercontent.com/monroews/4590FSP/master/Fairmont.py\n",
            "Resolving raw.githubusercontent.com (raw.githubusercontent.com)... 151.101.0.133, 151.101.64.133, 151.101.128.133, ...\n",
            "Connecting to raw.githubusercontent.com (raw.githubusercontent.com)|151.101.0.133|:443... connected.\n",
            "HTTP request sent, awaiting response... 200 OK\n",
            "Length: 2397 (2.3K) [text/plain]\n",
            "Saving to: ‘Fairmont.py.3’\n",
            "\n",
            "\rFairmont.py.3         0%[                    ]       0  --.-KB/s               \rFairmont.py.3       100%[===================>]   2.34K  --.-KB/s    in 0s      \n",
            "\n",
            "2020-04-28 00:28:30 (48.7 MB/s) - ‘Fairmont.py.3’ saved [2397/2397]\n",
            "\n"
          ],
          "name": "stdout"
        }
      ]
    },
    {
      "cell_type": "markdown",
      "metadata": {
        "id": "2SQpUtXCR5Xz",
        "colab_type": "text"
      },
      "source": [
        "# Task Definition\n",
        "\n",
        "Our goal is to develop a complete analysis of the composition, management, and disposal of residuals from the proposed treatment process.\n",
        "According to the Fairmont Treatment Plant’s Scope Of Work document, settled solids from the sedimentation process will be mechanically thickened in an on site facility. The preliminary evaluation suggests using equalization basins, rapid mixers, then settling tanks, and introducing coagulants to form and settle out thickened solids. The residual solids will then be further mechanically dewatered at a separate facility, then can be temporarily stored in a sludge hopper (with the capacity to store a minimum of a week’s worth of sludge) before they are transferred via truck to be disposed off-site. The leftover water will be recycled to the head of the Fairmont sedimentation plant. \n",
        "\n",
        "A preliminary evaluation has concluded that that centrifuges are most effective active dewatering technology. We will develop a design for the thickening facility and dewatering facility and evaluate their cost and effectiveness. Our thickening facility will take the collected sludge and thicken it, and also even out the flow before the sludge before it enters the dewatering facility. These are expected to be similar to the coagulation and flocculation tanks. The dewatering facility will be composed of centrifuges that will further dewater the sludge to create a sludge cake. There also must be a distribution mechanism for the sludge cake to be moved out of the facility.\n",
        "\n",
        "We will also develop a more exact estimate of the expected residual output of the process, and determine a minimum capacity for our residual treatment train.\n"
      ]
    },
    {
      "cell_type": "markdown",
      "metadata": {
        "id": "WoGtXtBGQZr5",
        "colab_type": "text"
      },
      "source": [
        "# Executive Summary \n",
        "\n",
        "Our main constraints will rely on the amount of sludge that needs to be treated. Those calculations will depend on the treatment specifications of the plant. This will determine the characteristics of the sludge, and allow us to analyze potential solutions with concrete estimations of the costs of management. Our design solution will develop as we calculate these values\n",
        "\n"
      ]
    },
    {
      "cell_type": "markdown",
      "metadata": {
        "id": "Jonv4dYSQghA",
        "colab_type": "text"
      },
      "source": [
        "# Constraints\n",
        "*(Relevant regulations, client expectations, site and budget, process capabilities including process design equations, ease of use, operation requirements,maintainence requirements)*\n",
        "\n",
        "* Amount of material that must be disposed of\n",
        "* Transportation costs\n",
        "* Disposal costs\n",
        "* Discharge requirements/pollution standards\n",
        "* Residuals management systems may limit overall plant capacity if not designed and operated properly\n",
        "* Toxicity of residuals\n",
        "* Specific resistance of sludge\n",
        "* Amount of water used\n",
        "  * (“The quantity of waste washwater for both granular and membrane filters will typically comprise from 2 to 5 percent of the total amount of water processed”-MWH)\n",
        "* Capacity of washwater facility to to accept high, intermittent flows from backwashing \n",
        "* Unit filter rn volumes (UFRV)\n",
        "* Unit backwash volume (UBMV)\n",
        "* Effective filtration rate and recover or production efficiency of filter\n",
        "  * (“Typically, waste washwater quantities are 8 m3/m2 (200 gal/ft2). To achieve a filter production efficiency of 95 percent, the UFRV would have to be at least 200 m3/m2 (5000 gal/ft2) a run. At a filtration rate of 12.2 m/h (5 gpm/ft2), a filter run would have to last at least 1000 min between backwash cycles.” -MWH)\n",
        "\n",
        "\n",
        "# Physics\n",
        "\n",
        "* At what steps we should treat/recycle residuals\n",
        "* Typically, waste washwater quantities are 8 m3/m2 (200 gal/ft2). To achieve a filter production efficiency of 95 percent, the UFRV would have to be at least 200 m3/m2 (5000 gal/ft2) a run. At a filtration rate of 12.2 m/h (5 gpm/ft2), a filter run would have to last at least 1000 min between backwash cycles. -MWH\n",
        "* The TSS/turbidity ratio for most water sources will vary between 1 and 2, with a typical value being about 1.4. For turbidities less than 10 NTU the ratio is nearly equal to 1. -MWH\n",
        "* Percentage of plant flow that each type of residual contributes to (Table 21-1 MWH)\n",
        "* Table 21-3 (Physical, chemical, and biological properties used to characterize water treatment plant residuals)\n",
        " \n",
        "\n",
        "Total mass of sludge (adapted fromm equation 21-13 in MWH):\n",
        "$$W_s=D_{coagulant}*E_{coagulant}+(Influent \\space turbidity-goal\\space turbidity)*E_{turbidity}+X$$\n",
        "\n",
        "$W_s=$ total sludge produced,  $kg/m^3$\n",
        "\n",
        "$D_{coagulant}=$ coagulant dose, $kg/m^3$\n",
        "\n",
        "$E_{coagulant/turbidity}=$ value used to estimate sludge quantities (from table 21-4 in MWH), kg sludge/kg coagulant/turbidity\n",
        "\n",
        "X= other coagulent aids\n",
        "\n",
        "from SOW: uses ferric chloride and cationic polumer\n",
        "\n",
        "Equation 21-3\n",
        "\n",
        "$$V=\\frac{W_s}{\\rho_w*S_{s1}*P_s}$$\n",
        "\n",
        "$V =$ volume of wet sludge, $m^3$\n",
        "\n",
        "$W_s=$ weight of total dry solids, kg\n",
        "\n",
        "$\\rho_w=$ density of water, kg/m3\n",
        "\n",
        "$S_{sl}=$ specific gravity of sludge, unitless\n",
        "\n",
        "$P_s$ = percent solids expressed as a decimal\n",
        "\n",
        "Equation 21-1\n",
        "\n",
        "$$\\frac{W_s}{S_s\\rho_w}=\\frac{W_f}{S_f\\rho_w}+\\frac{W_v}{S_v\\rho_w}$$\n",
        "\n",
        "$W_s=$ weight of total dry solids, kg\n",
        "\n",
        "$S_s=$specific gravity of total solids, unitless\n",
        "  \n",
        "\n",
        "$W_f=$ weight of fixed solids(mineralmatter),kg\n",
        "\n",
        "$S_sf=$ specific gravity of fixed solids,unitless\n",
        "\n",
        "$W_v=$ weight of volatile solids, kg\n",
        "\n",
        "$S_v=$ specific gravity of volatile solids, unitless\n",
        "\n",
        "\"The specific gravity of the dry volatile solids is about 1.0 and dry fixed solids about 2.5.\" (DEU)\n",
        "\n",
        "\n"
      ]
    },
    {
      "cell_type": "code",
      "metadata": {
        "id": "eIRuo9JK9Rwr",
        "colab_type": "code",
        "outputId": "f7bf3266-2933-49c9-bee2-19ffbdb71f3c",
        "colab": {
          "base_uri": "https://localhost:8080/",
          "height": 153
        }
      },
      "source": [
        "def sludge_dry(flow,coag_type='None',coag_dose=0*u.mg/u.L,percent_al=0,\\\n",
        "                     influent_turbidity=0*u.NTU,goal_turbidity=0*u.NTU,removal_ratio=1.4*u.g/(u.m**3*u.NTU),\\\n",
        "                     polymer_dose=0*u.mg/u.L):\n",
        "  if coag_type =='Alum':\n",
        "    est_val=.26\n",
        "  elif coag_type =='Ferric sulfate':\n",
        "    est_val=.53\n",
        "  elif coag_type =='Ferric chloride':\n",
        "    est_val=.66\n",
        "  elif coag_type =='PACl':\n",
        "    est_val=.0489*percent_al\n",
        "  else: est_val=0\n",
        "  dry_sludge_coag=(flow*coag_dose*est_val).to(u.kg/u.day)\n",
        "  dry_sludge_turbidity=(flow*(influent_turbidity-goal_turbidity)*removal_ratio).to(u.kg/u.day)\n",
        "  dry_sludge_polymer=(flow*polymer_dose*1).to(u.kg/u.day)\n",
        "#HOW DO WE ACCOUNT FOR TOC\n",
        "#influent_TOC=0*u.mg/u.L,goal_TOC=0*u.mg/u.L\n",
        "  drysludge=dry_sludge_coag+dry_sludge_turbidity+dry_sludge_polymer\n",
        "  drysludge.coag=dry_sludge_coag\n",
        "  drysludge.turbidity=dry_sludge_turbidity\n",
        "  drysludge.polymer=dry_sludge_polymer\n",
        "  return drysludge\n",
        "\n",
        "test=sludge_dry(flow=.5*u.m**3/u.s,coag_type='Alum',coag_dose=30*u.mg/u.L,influent_turbidity=25*u.NTU,polymer_dose=1*u.mg/u.L)\n",
        "print(test)\n",
        "print(test.coag)\n",
        "print(test.turbidity)\n",
        "print(test.polymer)\n",
        "print(test.turbidity/test)\n",
        "print(test.polymer/test)\n",
        "print(test.coag/test)\n",
        "C_c_in_design = 4 * u.mg/u.L\n",
        "C_c_out_design = 3 * u.mg/u.L\n",
        "\n",
        "def sludge_volume_wet(dry_solids=6*u.kg/u.day,temperature=15*u.degC,percent_solids=.15,sg_fixed=2.5,sg_volatile=1,volatile_solids=.06*6*u.kg/u.day):\n",
        "  rho_water=ac.density_water(temperature)\n",
        "  sg_solids=dry_solids/(rho_water*((dry_solids-volatile_solids)/(rho_water*sg_fixed)+volatile_solids/(rho_water*sg_volatile)))\n",
        "  sg_sludge=1/((percent_solids/sg_solids)+(1-percent_solids)/1)\n",
        "  density_sludge_wet=rho_water*sg_sludge\n",
        "  wet_sludge_volume=dry_solids/(rho_water*sg_sludge*percent_solids)\n",
        "  return wet_sludge_volume\n",
        "v=sludge_volume_wet(dry_solids=test,temperature=15*u.degC,percent_solids=.05,volatile_solids=.06*test)\n",
        "print(v)"
      ],
      "execution_count": 0,
      "outputs": [
        {
          "output_type": "stream",
          "text": [
            "1892 kilogram / day\n",
            "337 kilogram / day\n",
            "1512 kilogram / day\n",
            "43.2 kilogram / day\n",
            "0.7991 dimensionless\n",
            "0.02283 dimensionless\n",
            "0.1781 dimensionless\n",
            "36.81 meter ** 3 / day\n"
          ],
          "name": "stdout"
        }
      ]
    },
    {
      "cell_type": "code",
      "metadata": {
        "id": "HGUM7I2VIWWR",
        "colab_type": "code",
        "colab": {}
      },
      "source": [
        "def wet_sludge_volume(sg_fixedsolids,sg_volatile,weight_total_dry,percent_solids,percent_volatilematter,temperature):\n",
        "  #sg fixed solids assumed from MWH \n",
        "  rho_water=ac.density_water(temperature)\n",
        "  sg_solids= 1/(((1-percent_volatilematter)/(sg_fixedsolids)+percent_volatilematter/(sg_volatile)))\n",
        "  sg_sludge=1/(((1-percent_solids)/(1)+percent_solids/(sg_solids)))\n",
        "  rho_sludge_wet=sg_sludge*rho_water\n",
        "  wet_sludge_volume=weight_total_dry/(rho_water*sg_sludge*percent_solids)\n",
        "  wet_sludge_volume.sg_solids=sg_solids\n",
        "  wet_sludge_volume.sg_sludge=sg_sludge\n",
        "  wet_sludge_volume.rho_sludge_wet=rho_sludge_wet\n",
        "  return wet_sludge_volume\n"
      ],
      "execution_count": 0,
      "outputs": []
    },
    {
      "cell_type": "code",
      "metadata": {
        "id": "fXJ7jqIJEXBf",
        "colab_type": "code",
        "colab": {}
      },
      "source": [
        "#residual production table 21.2\n",
        "data_residuals={'Min':[(.08),(4),(2),(1.5),(.08),(.3),(2),(10)],'Max':[.3,8,5,10,.3,6,8,50],'Typical':[.1,'-', ('2 or 3'),(5-8),.1,4,6,(20-30)]}\n",
        "rows_resid=['Alum','Direct filtration backwash water','Filter backwash water','Ion exchange brine','Iron coagulation sludge','Lime-softening sludge','Microfiltration backwash water','Reverse osmosis concentrate']\n",
        "data_residproduction=pd.DataFrame(data=data_residuals,index=rows_resid)\n",
        "#physical properties reference table from table 21-5 asumin max values\n",
        "#alum, iron\n",
        "data_physproperties={'Min Volume':[.05,.06],'Max Volume':[.15,.15],'Min Total Solids':[.1,.25], 'Max Total solids':[4,3.5],'Min Dry Density':[1200*u.kg/u.m**3,1200*u.kg/u.m**3],'Max Dry Density': [1500*u.kg/u.m**3,1800*u.kg/u.m**3],'Min Wet Density': [1025*u.kg/u.m**3,1050*u.kg/u.m**3], 'Max Wet Density': [1100*u.kg/u.m**3,1200*u.kg/u.m**3],'Min Spec Resistance':[10110*u.m/u.kg,40440*u.m/u.kg],'Max Spec Resistance':[50550*u.m/u.kg,151650*u.m/u.kg]}\n",
        "rows=['Alum','Iron']\n",
        "data_chemconstit={'Min Solids(Al/Fe)':[15,4],'Max Solids(Al/Fe)':[40,21],'Min Solids(Silicates and inert mats)':[35,35],'max Solids(Silicates and inert mats)':[70,70],'Min solids(organics/volatile)':[10,5],'Max solids(organics)':[25,15]}\n",
        "physical_properties=pd.DataFrame(data=data_physproperties,index=rows)\n",
        "chemical_constituents=pd.DataFrame(data=data_chemconstit,index=rows)\n",
        "\n",
        "chemical_constituents"
      ],
      "execution_count": 0,
      "outputs": []
    },
    {
      "cell_type": "markdown",
      "metadata": {
        "id": "WVelNe91plUE",
        "colab_type": "text"
      },
      "source": [
        "# Table listing potential strategies to meet the dewatering constraints and treatment objectives \n",
        "\n",
        "\n",
        "| strategy | advantages  | disadvantages |\n",
        "|---|---|---|\n",
        "| Centrifuge | high speed dewatering | high energy input | \n",
        "| | 25% and 35% solids by weight.| standby unit needed in some cases |\n",
        "||works for all sludge types|very loud to run|\n",
        "||cost less to operate than filter press||\n",
        "| Plate and Frame Filter Press | stackable, cake-like solids | high potential for blockage and damage | \n",
        "| | 40% and 70% solids by weight | potential for leakage |\n",
        "| |can operate on a continual basis | |\n",
        "| Belt Filter Press | effective on high-volume waste streams  | difficult maintenance |  |\n",
        "| | 18% and 25% solids by weight. | suitable for high sludge moisture content|\n",
        "| | low energy and space taken up| |\n",
        "||10 year service life||\n",
        "\n",
        "#Table listing potential strategis to meet sludge handling constraints and objectives\n",
        "\n",
        "| strategy | advantages  | disadvantages |\n",
        "|---|---|---|\n",
        "|Sludge Detention Ponds| can further thicken sludge | 280,000 sq ft of land required|\n",
        "| | lowers volume of sludge in dumping site| high cost of $46000/day| \n",
        "|Sludge Processing Facility| converts hazardous waste into nonhazardous | high cost|\n",
        "| | has potential to create new materials | still in research phase, not usable|\n",
        "|Off-Site Dumping | lower cost | hazardous waste dumping | \n",
        "| | No extra land or equipment needed | highest volume of waste produced |\n"
      ]
    },
    {
      "cell_type": "markdown",
      "metadata": {
        "id": "J9dPZVMbOka9",
        "colab_type": "text"
      },
      "source": [
        "# Vendors and contact information file\n",
        "\n",
        "See this [tab delimited spreadsheet](https://raw.githubusercontent.com/monroews/4590FSP/master/vendors.txt).\n",
        "\n",
        "Add rows to the vendor spreadsheet as you find them. The sheet can easily be edited in Excel. Just make sure to save it as a tab delimited sheet. Push your changes to github so the entire class has access to the document.\n",
        "\n"
      ]
    },
    {
      "cell_type": "code",
      "metadata": {
        "id": "l35d0BODlEsW",
        "colab_type": "code",
        "colab": {}
      },
      "source": [
        "vendors = pd.read_csv('https://raw.githubusercontent.com/monroews/4590FSP/master/vendors.txt',sep='\\t')\n",
        "vendors.head()"
      ],
      "execution_count": 0,
      "outputs": []
    },
    {
      "cell_type": "markdown",
      "metadata": {
        "id": "-jwNKdrCOmux",
        "colab_type": "text"
      },
      "source": [
        "# Shared assumptions\n",
        "\n",
        "See this [python file, Fairmont.py](https://github.com/monroews/4590FSP/blob/master/Fairmont.py)\n",
        "\n",
        "Use this file to hold parameters that are in the SOW or elsewhere that\n",
        "influence the design of the entire plant. This provides an easy mechanism\n",
        "for all of us to share the same assumptions. Read the SOW to find sections that relate to your part of the design and enter all pertinent variables into [Fairmont.py](https://github.com/monroews/4590FSP/blob/master/Fairmont.py) and then push those changes to github.\n",
        "\n",
        "# Major Decisions\n",
        "\n",
        "Write several paragraphs describing the major decisions that you will need to make in order to create a design and outline a strategy for how you will obtain the necessary information to make those decisions.\n",
        "\n",
        "The major decisions we we need to make in order to create a design and outline a strategy for managing the residuals is to assume plant characteristics, and build off of them to start calculating values neccesary to produce our designs. We used an estimated average flow rate of 320 ft^3/s  for our plant. We also used an influent turbidity value of 14 NTU s a starting point of the plant's inflow water. This would help us determine the sludge characterisitcs we would work with as an effluent in our residuals. The goal trubidity of the plant was set as 3 NTU, and the ferric chloride dose was set at 13.14 mg/l in our calculations. We calculated the average dose of polymer using the yearly amount of 165 tons/year and the average flow rate of the plant. \n",
        "\n",
        "To carry out our initial code, we used equations given in the MWH textbook. Using equation 21-12 and 21-13, we were able to find the amount of dry sludge from the coagulant dose in mass/day, from the removal of trubidity in mass/day, and the dry sludge from polymer addition, also in mass/day. These values helped us to determine the total dry sludge amount in mass/day that we can expect when determining our residuals process.\n",
        "\n",
        "Using the value we found for the weight of total dry solids, and the density of water, we were able to use equation 21-3 and table 21-2 to find the percent solids. Next, we calculated the weight of the volayile solids using values of 2.5 for fixed specific gravity and 1 for specific gravity. We assumed that the volatile solids equalled the dry sludge from the coagulant in our calculations.\n",
        "\n",
        "\n",
        "\n",
        "\n",
        "# Next Steps and Challenges\n",
        "\n",
        "Challenges include trying to reduce the volume of residuals within the plant. This should be done by concentrating wastes as much as possible. This leftover water should be recycled back into the front end of the plant. Also, considering what to do with the residuals can be difficult due to limited space availability of dumping in Los Angeles. Another challenge includes finding safe ways to deal with Arsenic in the residuals, since it is a hazardous waste, and presents itself in high concentrations through the plant inflow. The management of liquid waste streams is also going to be challenging, as our team will try to recycle as much water as possible, and the constituents in the return flow are difficult to manage. \n",
        "\n",
        "Next Steps include contacting the other teams to decide which treatment trains we should focus on removing residuals from, and researching more on the types of contaminants in typical inflow waters in the area. This could help our team in determining what types of chemicals and processes will be used in getting rid of contaminants, and the amount of residual flows we will need to focus on. \n",
        "We also will need to research the regulatory standards out in place for the contaminants we will be working to remove, in order to understand how and where they can be disposed of. \n",
        "Another large part of our next steps includes researching methods of equations for mass of wastes, figure out who manufacturers are of units that process the solids, and suggest centrifuges. A reasonable task might be to look at the top options for consolidating solids in addition to centrifuges, see if we agree that using a centrifuge for dewatering is the top choice. We want to identify the \"why\" of the  technology approach.\n",
        "\n"
      ]
    },
    {
      "cell_type": "markdown",
      "metadata": {
        "id": "DXlB_I6ZOw2J",
        "colab_type": "text"
      },
      "source": [
        "# Design\n",
        "\n",
        "Begin writing the code to start your design. Define flow rates, mass rates, energy requirements, and any readily calculated dimensions, velocities, flows, etc."
      ]
    },
    {
      "cell_type": "code",
      "metadata": {
        "id": "IrwTrVM2hZqH",
        "colab_type": "code",
        "colab": {}
      },
      "source": [
        "print('The average flow to be treated at Fairmont is',fmt.q_ave.to(u.Mgal/u.day),'or')\n",
        "print('The maximum flow to be treated at Fairmont is',fmt.q_max.to(u.Mgal/u.day))\n",
        "specific_energy = (fmt.electricity_power/fmt.q_ave).to(u.J/u.L)\n",
        "temp = 15 * u.degC\n",
        "specific_potential_energy = (specific_energy / u.gravity / ac.density_water(temp)).to(u.m)\n",
        "print('The average amount of energy used per liter of water is expected to be',specific_energy,'or',specific_potential_energy,'of potential energy')"
      ],
      "execution_count": 0,
      "outputs": []
    },
    {
      "cell_type": "code",
      "metadata": {
        "id": "xJyfzmsRT4-r",
        "colab_type": "code",
        "colab": {}
      },
      "source": [
        "\n",
        "\n",
        "yearly_emulsion_polymer=165*u.ton/u.year\n",
        "avg_dose_emulsion_polymer=(yearly_emulsion_polymer/(fmt.q_ave)).to(u.mg/u.liter)\n",
        "\n",
        "dry_sludge_estimate=total_dry_sludge(flow=fmt.q_ave,coag_type='Ferric chloride',coag_dose=fmt.Fe_c_ave,influent_turbidity=fmt.turbidity_c_in_ave,goal_turbidity=fmt.turbidity_c_out_design,polymer_dose=avg_dose_emulsion_polymer)\n",
        "print('We estimate that the dry sludge produced will be', dry_sludge_estimate.total)\n",
        "\n",
        "\n"
      ],
      "execution_count": 0,
      "outputs": []
    },
    {
      "cell_type": "code",
      "metadata": {
        "id": "gNZdfKIaa0Uq",
        "colab_type": "code",
        "colab": {}
      },
      "source": [
        ""
      ],
      "execution_count": 0,
      "outputs": []
    },
    {
      "cell_type": "markdown",
      "metadata": {
        "id": "WfMWNqI0a1Ix",
        "colab_type": "text"
      },
      "source": [
        "Resources:\n",
        "\n",
        "https://www.epa.gov/sites/production/files/2015-11/documents/dw-treatment-residuals-mgmt-tech-report-sept-2011.pdf\n",
        "\n",
        "https://www.epa.gov/sites/production/files/2015-10/documents/method_1684_draft_2001.pdf\n",
        "\n",
        "http://web.deu.edu.tr/atiksu/ana58/c-7.pdf\n",
        "\n",
        "https://vtechworks.lib.vt.edu/bitstream/handle/10919/26604/04Chapter3.pdf?sequence=3"
      ]
    },
    {
      "cell_type": "markdown",
      "metadata": {
        "id": "c3m7JsWgBYyK",
        "colab_type": "text"
      },
      "source": [
        "#**Questions:**\n",
        "\n",
        "How do we know what the sludge compostion is?\n",
        "For physical properties which are we using in the range?"
      ]
    },
    {
      "cell_type": "markdown",
      "metadata": {
        "id": "VdKbdFMejIyB",
        "colab_type": "text"
      },
      "source": [
        ">How do we know how the centrifuge works/ how well it will dewater our sludge?"
      ]
    },
    {
      "cell_type": "markdown",
      "metadata": {
        "id": "x8iKFAlegV3d",
        "colab_type": "text"
      },
      "source": [
        "Centrifugal dewatering is largely used for separating excess water from sludge. The applied centrifugal force created by the angular velocity of the rotating basket allows for w lower moisture content of the product, which is the goal of our team, both to limit the amount of waste that is being dumped, and to best salvage water for reintroduction into the treatment process. \n",
        "\n",
        "Centrifugal treatment starts with a process called filtration, in which water flows outwards through the sludge while the sludge is covered in a layer of water. In time, as the water is increasingly removed from the sludge, drainage occurs in the centrifuge. The pressure drop becomes negative during this slower process, as the thickness of the solid cake is increased. \n",
        "\n",
        "To start to observe the physical characteristics that outline the process of centrifugal dewatering, we calculated...\n",
        "\n",
        "\n",
        "\"From Equations [1] and [2],\n",
        "one can see that the rate of filtration should increase with ω and the thickness (rS-r0) of the water\n",
        "over a filter cake. \n",
        "\n",
        "According to the Equation [3], ∆P becomes zero when the water over the cake disappears, i.e., r0=rS. As the water level in the cake decreases further, i.e., r0>rS, the pressure\n",
        "within the cake becomes lower than the ambient pressure [1].This may be the fundamental reason that centrifuges cannot produce as low cake moistures as vacuum or pressure filters for\n",
        "the finer particles \""
      ]
    },
    {
      "cell_type": "code",
      "metadata": {
        "id": "NclCnRiqhzIN",
        "colab_type": "code",
        "colab": {}
      },
      "source": [
        "# Gforce = r w^2 / g\n",
        "# r is radius of vessel, g is grav acceleration, w is angular velocity\n",
        "\n",
        "#Darcy's law can predict the rate of drainage through filter cake\n",
        "#Q = K dP A / (miu L)\n",
        "# Q is flow rate, K is permeability, dP is pressure drop, A is filtration area, miu dynamic viscosity, L is cake thickness\n",
        "\n",
        "#dP = 1/2 (density w^2)(rs^2 - ro^2)\n",
        "#where ρ is the density of the liquid, and r0 and rS are the radial distances of the free water and the\n",
        "#cake surface from the rotational axis of a centrifuge, respectively. \n",
        "\n"
      ],
      "execution_count": 0,
      "outputs": []
    },
    {
      "cell_type": "markdown",
      "metadata": {
        "id": "oQCBYMOKCdM6",
        "colab_type": "text"
      },
      "source": [
        "Extra code below:"
      ]
    },
    {
      "cell_type": "code",
      "metadata": {
        "id": "QbzYLL7spkUK",
        "colab_type": "code",
        "colab": {}
      },
      "source": [
        "#defining function for Specifiv gravity of sludge\n",
        "#eq 21.1\n",
        "#FIX THIS \n",
        "def spec_grav_sludge(weight_total_dry,sg_fixed,sg_volatile,weight_fixed,weight_volatile,temperature):\n",
        "  #the weights can be inputted as percents where total weight is = 1\n",
        "  rho=ac.density_water(temperature)\n",
        "  sg_sludge= weight_total_dry/(rho*(weight_fixed/(rho*sg_fixed)+weight_volatile/(rho*sg_volatile)))\n",
        "  sg_sludge.temp=temperature\n",
        "  sg_sludge.rho_water=rho\n",
        "  return sg_sludge\n",
        "sg_sludge=spec_grav_sludge(1,2.5,1,.9,.1,25*u.degC)\n",
        "\n",
        "def density_sludge_wet(sg_sludge):\n",
        "  rho_sludge=sg_sludge.rho_water*sg_sludge\n",
        "  return rho_sludge\n",
        "\n",
        "density=density_sludge_wet(sg_sludge)\n",
        "\n",
        "def wet_sludge_volume(weight_total_dry,sg_sludge,percent_solids):\n",
        "  wet_sludge_volume=weight_total_dry/(sg_sludge.rho_water*sg_sludge*percent_solids)\n",
        "  return wet_sludge_volume\n",
        "wsv=wet_sludge_volume(1,sg_sludge,.5)\n",
        "print (wsv)\n",
        "\n"
      ],
      "execution_count": 0,
      "outputs": []
    },
    {
      "cell_type": "code",
      "metadata": {
        "id": "cKDyRy081WPt",
        "colab_type": "code",
        "colab": {}
      },
      "source": [
        "def total_dry_sludge(flow,coag_type='None',coag_dose=0*u.mg/u.L,percent_al=0,\\\n",
        "                     influent_turbidity=0*u.NTU,goal_turbidity=0*u.NTU,removal_ratio=1.4*u.g/(u.m**3*u.NTU),\\\n",
        "                     polymer_dose=0*u.mg/u.L):\n",
        "  if coag_type =='Alum':\n",
        "    est_val=.26\n",
        "  elif coag_type =='Ferric sulfate':\n",
        "    est_val=.53\n",
        "  elif coag_type =='Ferric chloride':\n",
        "    est_val=.66\n",
        "  elif coag_type =='PACl':\n",
        "    est_val=.0489*percent_al\n",
        "  else: est_val=0\n",
        "  sludge_coag=(flow*coag_dose*est_val).to(u.kg/u.day)\n",
        "  sludge_turbidity=(flow*(influent_turbidity-goal_turbidity)*removal_ratio).to(u.kg/u.day)\n",
        "  sludge_polymer=(flow*polymer_dose*1).to(u.kg/u.day)\n",
        "#HOW DO WE ACCOUNT FOR TOC\n",
        "#influent_TOC=0*u.mg/u.L,goal_TOC=0*u.mg/u.L\n",
        "  sludge=sludge_coag+sludge_turbidity+sludge_polymer\n",
        "  sludge.total=sludge\n",
        "  sludge.coag=sludge_coag\n",
        "  sludge.turbidity=sludge_turbidity\n",
        "  sludge.polymer=sludge_polymer\n",
        "  return sludge\n",
        "\n",
        "test=total_dry_sludge(flow=.5*u.m**3/u.s,coag_type='Alum',coag_dose=30*u.mg/u.L,influent_turbidity=25*u.NTU,polymer_dose=1*u.mg/u.L)\n",
        "print(test)\n",
        "print(test.coag)\n",
        "print(test.turbidity)\n",
        "print(test.polymer)\n",
        "print(test.turbidity/test)\n",
        "print(test.polymer/test)\n",
        "print(test.coag/test)\n",
        "C_c_in_design = 4 * u.mg/u.L\n",
        "C_c_out_design = 3 * u.mg/u.L\n",
        "\n",
        "\n",
        "\n"
      ],
      "execution_count": 0,
      "outputs": []
    },
    {
      "cell_type": "code",
      "metadata": {
        "id": "iszcx9Maw0Br",
        "colab_type": "code",
        "colab": {}
      },
      "source": [
        "def wet_sludge_volume(sg_fixedsolids,sg_volatile,weight_total_dry,percent_solids,percent_volatilematter,temperature):\n",
        "  #sg fixed solids assumed from MWH \n",
        "  rho_water=ac.density_water(temperature)\n",
        "  sg_solids= 1/(((1-percent_volatilematter)/(sg_fixedsolids)+percent_volatilematter/(sg_volatile)))\n",
        "  sg_sludge=1/(((1-percent_solids)/(1)+percent_solids/(sg_solids)))\n",
        "  rho_sludge_wet=sg_sludge*rho_water\n",
        "  wet_sludge_volume=weight_total_dry/(rho_water*sg_sludge*percent_solids)\n",
        "  wet_sludge_volume.sg_solids=sg_solids\n",
        "  wet_sludge_volume.sg_sludge=sg_sludge\n",
        "  wet_sludge_volume.rho_sludge_wet=rho_sludge_wet\n",
        "  return wet_sludge_volume\n"
      ],
      "execution_count": 0,
      "outputs": []
    },
    {
      "cell_type": "code",
      "metadata": {
        "id": "nJe3HoDpIuhy",
        "colab_type": "code",
        "colab": {}
      },
      "source": [
        "#Maybe making t his a class...\n",
        "class sludge:\n",
        "  def __init__(self,flow,coag_type):\n",
        "    self.flow=flow\n",
        "    self.coag_type=coag_type\n",
        "  def total_dry_sludge(coag_dose,percent_al=0,\\\n",
        "                     influent_turbidity=0*u.NTU,goal_turbidity=0*u.NTU,removal_ratio=1.4*u.g/(u.m**3*u.NTU),\\\n",
        "                     polymer_dose=0*u.mg/u.L):\n",
        "    if self.coag_type =='Alum':\n",
        "      est_val=.26\n",
        "    elif self.coag_type =='Ferric sulfate':\n",
        "      est_val=.53\n",
        "    elif self.coag_type =='Ferric chloride':\n",
        "      est_val=.66\n",
        "    elif self.coag_type =='PACl':\n",
        "      est_val=.0489*percent_al\n",
        "    else: est_val=0\n",
        "    sludge_coag=(self.flow*coag_dose*est_val).to(u.kg/u.day)\n",
        "    sludge_turbidity=(self.flow*(influent_turbidity-goal_turbidity)*removal_ratio).to(u.kg/u.day)\n",
        "    sludge_polymer=(self.flow*polymer_dose*1).to(u.kg/u.day)\n",
        "  #HOW DO WE ACCOUNT FOR TOC\n",
        "  #influent_TOC=0*u.mg/u.L,goal_TOC=0*u.mg/u.L\n",
        "    sludge_total=sludge_coag+sludge_turbidity+sludge_polymer\n",
        "    self.total=sludge_total\n",
        "    self.coag=sludge_coag\n",
        "    self.turbidity=sludge_turbidity\n",
        "    self.polymer=sludge_polymer\n",
        "\n",
        "sludgeinfo=sludge(flow=.5*u.m**3/u.s,coag_type='Alum')\n",
        "sludgeinfo.total_dry_sludge(30*u.mg/u.L,influent_turbidity=25*u.NTU,polymer_dose=1*u.mg/u.L)\n"
      ],
      "execution_count": 0,
      "outputs": []
    }
  ]
}