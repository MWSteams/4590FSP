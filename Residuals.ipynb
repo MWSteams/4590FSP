{
  "nbformat": 4,
  "nbformat_minor": 0,
  "metadata": {
    "colab": {
      "name": "Residuals.ipynb",
      "provenance": [],
      "collapsed_sections": []
    },
    "kernelspec": {
      "name": "python3",
      "display_name": "Python 3"
    }
  },
  "cells": [
    {
      "cell_type": "markdown",
      "metadata": {
        "id": "lZNgRSu1Uj8D",
        "colab_type": "text"
      },
      "source": [
        "# Residuals\n",
        "\n",
        "Authors: Madeline Keep, Izabella Kornak, Hannah Weinstein\n"
      ]
    },
    {
      "cell_type": "code",
      "metadata": {
        "id": "QjwM4ovYUokZ",
        "colab_type": "code",
        "outputId": "7695fdf7-8abb-480b-e57a-9141f3e290dc",
        "colab": {
          "base_uri": "https://localhost:8080/",
          "height": 255
        }
      },
      "source": [
        "!pip install aguaclara\n",
        "!pip install molmass"
      ],
      "execution_count": 72,
      "outputs": [
        {
          "output_type": "stream",
          "text": [
            "Requirement already satisfied: aguaclara in /usr/local/lib/python3.6/dist-packages (0.2.1)\n",
            "Requirement already satisfied: matplotlib in /usr/local/lib/python3.6/dist-packages (from aguaclara) (3.2.1)\n",
            "Requirement already satisfied: pint==0.8.1 in /usr/local/lib/python3.6/dist-packages (from aguaclara) (0.8.1)\n",
            "Requirement already satisfied: pandas in /usr/local/lib/python3.6/dist-packages (from aguaclara) (1.0.3)\n",
            "Requirement already satisfied: urllib3 in /usr/local/lib/python3.6/dist-packages (from aguaclara) (1.24.3)\n",
            "Requirement already satisfied: scipy in /usr/local/lib/python3.6/dist-packages (from aguaclara) (1.4.1)\n",
            "Requirement already satisfied: cycler>=0.10 in /usr/local/lib/python3.6/dist-packages (from matplotlib->aguaclara) (0.10.0)\n",
            "Requirement already satisfied: pyparsing!=2.0.4,!=2.1.2,!=2.1.6,>=2.0.1 in /usr/local/lib/python3.6/dist-packages (from matplotlib->aguaclara) (2.4.7)\n",
            "Requirement already satisfied: python-dateutil>=2.1 in /usr/local/lib/python3.6/dist-packages (from matplotlib->aguaclara) (2.8.1)\n",
            "Requirement already satisfied: numpy>=1.11 in /usr/local/lib/python3.6/dist-packages (from matplotlib->aguaclara) (1.18.3)\n",
            "Requirement already satisfied: kiwisolver>=1.0.1 in /usr/local/lib/python3.6/dist-packages (from matplotlib->aguaclara) (1.2.0)\n",
            "Requirement already satisfied: pytz>=2017.2 in /usr/local/lib/python3.6/dist-packages (from pandas->aguaclara) (2018.9)\n",
            "Requirement already satisfied: six in /usr/local/lib/python3.6/dist-packages (from cycler>=0.10->matplotlib->aguaclara) (1.12.0)\n",
            "Requirement already satisfied: molmass in /usr/local/lib/python3.6/dist-packages (2020.1.1)\n"
          ],
          "name": "stdout"
        }
      ]
    },
    {
      "cell_type": "code",
      "metadata": {
        "id": "ttJT8q_wYhAV",
        "colab_type": "code",
        "outputId": "fa34024f-5992-406e-b598-aa84dda723e3",
        "colab": {
          "base_uri": "https://localhost:8080/",
          "height": 204
        }
      },
      "source": [
        "from aguaclara.core.units import unit_registry as u\n",
        "import aguaclara as ac\n",
        "import matplotlib.pyplot as plt\n",
        "import numpy as np\n",
        "import pandas as pd\n",
        "import molmass as mol\n",
        "!wget https://raw.githubusercontent.com/monroews/4590FSP/master/Fairmont.py\n",
        "import Fairmont as fmt"
      ],
      "execution_count": 73,
      "outputs": [
        {
          "output_type": "stream",
          "text": [
            "--2020-05-05 05:06:14--  https://raw.githubusercontent.com/monroews/4590FSP/master/Fairmont.py\n",
            "Resolving raw.githubusercontent.com (raw.githubusercontent.com)... 151.101.0.133, 151.101.64.133, 151.101.128.133, ...\n",
            "Connecting to raw.githubusercontent.com (raw.githubusercontent.com)|151.101.0.133|:443... connected.\n",
            "HTTP request sent, awaiting response... 200 OK\n",
            "Length: 3025 (3.0K) [text/plain]\n",
            "Saving to: ‘Fairmont.py.2’\n",
            "\n",
            "\rFairmont.py.2         0%[                    ]       0  --.-KB/s               \rFairmont.py.2       100%[===================>]   2.95K  --.-KB/s    in 0s      \n",
            "\n",
            "2020-05-05 05:06:14 (58.6 MB/s) - ‘Fairmont.py.2’ saved [3025/3025]\n",
            "\n"
          ],
          "name": "stdout"
        }
      ]
    },
    {
      "cell_type": "markdown",
      "metadata": {
        "id": "SeUUgqMZ6xV0",
        "colab_type": "text"
      },
      "source": [
        "#Task list\n",
        "\n",
        "\n",
        "*   Contact manufactures to find max flow rate of centrifuges\n",
        "*   Calculate how many centrifuges we need to accomodate our flow rate\n",
        "*   Calculate mass of sludge after dewatering\n",
        "*   Find out truck capacity and calculate how many trucks we will eed per day to transport our waste\n",
        "*   Backup generators for a power outage? (p1686 in MWH)\n",
        "*  **We still dont know what the percent solids for our sludge is**\n",
        "*  transfer tables\n",
        "*  upload preliminary schematic to images folder and link to that (instead of the whole big text)\n",
        "\n",
        "\n",
        "*Sludge class isnt working, so replacing with the values we found before*\n",
        "*sludge vol=143.8m^3/day*\n",
        "\n"
      ]
    },
    {
      "cell_type": "markdown",
      "metadata": {
        "id": "2SQpUtXCR5Xz",
        "colab_type": "text"
      },
      "source": [
        "# Task Definition\n",
        "\n",
        "Our goal is to develop a complete analysis of the composition, management, and disposal of residuals from the proposed treatment process.\n",
        "According to the Fairmont Treatment Plant’s Scope Of Work document, settled solids from the sedimentation process will be mechanically thickened in an on site facility. The preliminary evaluation suggests using equalization basins, rapid mixers, then settling tanks, and introducing coagulants to form and settle out thickened solids. The residual solids will then be further mechanically dewatered at a separate facility, then can be temporarily stored in a sludge hopper (with the capacity to store a minimum of a week’s worth of sludge) before they are transferred via truck to be disposed off-site. The leftover water will be recycled to the head of the Fairmont sedimentation plant. \n",
        "\n",
        "A preliminary evaluation has concluded that that centrifuges are most effective active dewatering technology. We will develop a design for the thickening facility and dewatering facility and evaluate their cost and effectiveness. Our thickening facility will take the collected sludge and thicken it, and also even out the flow before the sludge before it enters the dewatering facility. These are expected to be similar to the coagulation and flocculation tanks. The dewatering facility will be composed of centrifuges that will further dewater the sludge to create a sludge cake. There also must be a distribution mechanism for the sludge cake to be moved out of the facility.\n",
        "\n",
        "We will also develop a more exact estimate of the expected residual output of the process, and determine a minimum capacity for our residual treatment train.\n"
      ]
    },
    {
      "cell_type": "markdown",
      "metadata": {
        "id": "WoGtXtBGQZr5",
        "colab_type": "text"
      },
      "source": [
        "# Executive Summary \n",
        "\n",
        "Our main constraints will rely on the amount of sludge that needs to be treated. Those calculations will depend on the treatment specifications of the plant. This will determine the characteristics of the sludge, and allow us to analyze potential solutions with concrete estimations of the costs of management. Our design solution will develop as we calculate these values\n",
        "\n"
      ]
    },
    {
      "cell_type": "markdown",
      "metadata": {
        "id": "Jonv4dYSQghA",
        "colab_type": "text"
      },
      "source": [
        "# Constraints\n",
        "*(Relevant regulations, client expectations, site and budget, process capabilities including process design equations, ease of use, operation requirements,maintainence requirements)*\n",
        "\n",
        "* Amount of material that must be disposed of\n",
        "* Transportation costs\n",
        "* Disposal costs\n",
        "* Discharge requirements/pollution standards\n",
        "* Residuals management systems may limit overall plant capacity if not designed and operated properly\n",
        "* Toxicity of residuals\n",
        "* Specific resistance of sludge\n",
        "* Amount of water used\n",
        "  * (“The quantity of waste washwater for both granular and membrane filters will typically comprise from 2 to 5 percent of the total amount of water processed”-MWH)\n",
        "* Capacity of washwater facility to to accept high, intermittent flows from backwashing \n",
        "* Unit filter rn volumes (UFRV)\n",
        "* Unit backwash volume (UBMV)\n",
        "* Effective filtration rate and recover or production efficiency of filter\n",
        "  * (“Typically, waste washwater quantities are 8 m3/m2 (200 gal/ft2). To achieve a filter production efficiency of 95 percent, the UFRV would have to be at least 200 m3/m2 (5000 gal/ft2) a run. At a filtration rate of 12.2 m/h (5 gpm/ft2), a filter run would have to last at least 1000 min between backwash cycles.” -MWH)\n",
        "\n",
        "\n",
        "\n",
        "\n",
        "\n"
      ]
    },
    {
      "cell_type": "markdown",
      "metadata": {
        "id": "0_Y2kMPGvETF",
        "colab_type": "text"
      },
      "source": [
        "# Physics\n",
        "\n",
        "\n",
        "* At what steps we should treat/recycle residuals\n",
        "* The TSS/turbidity ratio for most water sources will vary between 1 and 2, with a typical value being about 1.4. For turbidities less than 10 NTU the ratio is nearly equal to 1. -MWH\n",
        "* Percentage of plant flow that each type of residual contributes to (Table 21-1 MWH)\n",
        "* Table 21-3 (Physical, chemical, and biological properties used to characterize water treatment plant residuals)\n",
        "\n",
        "#Physics: Sludge Composition\n",
        "\n",
        "Our first step is determining the amount and composition of the sludge that is coming from the treatment. Using the total mass of sludge equation, (adapted fromm equation 21-13 in MWH), we can find the weight of the total dry sludge produced from the different parts of treatment:\n",
        "\n",
        "$$W_s=D_{coagulant}*E_{coagulant}+(\\Delta turbidity)*E_{turbidity}+TOC+X$$\n",
        "\n",
        "$W_s=$ total dry sludge produced,  $kg/m^3$\n",
        "\n",
        "$\\Delta turbidity=$ influent turbidity - goal turbidity\n",
        "\n",
        "$D_{coagulant}=$ coagulant dose, $kg/m^3$\n",
        "\n",
        "$E_{coagulant/turbidity}=$ value used to estimate sludge quantities (from table 21-4 in MWH), kg sludge/kg coagulant or turbidity\n",
        "\n",
        "TOC= total organic carbon $kg/m^3$\n",
        "\n",
        "X= other coagulant aids\n",
        "\n",
        "According to the Fairmont SOW, they are using ferric chloride as a coagulant with the addition of a cationic polymer (emulsion polymer), and are also removing turbidity and TOC. \n",
        "We are in the process of figuring out how to account for the TOC removed.\n",
        "\n",
        "We then adapted equation Equation 21-3 from MWH to estimate the volume of sludge.\n",
        "\n",
        "$$V=\\frac{W_s}{\\rho_{s1}*P_s}$$\n",
        "\n",
        "$V =$ volume of wet sludge, $m^3$\n",
        "\n",
        "$W_s=$ weight of total dry solids, kg\n",
        "\n",
        "\n",
        "\n",
        "$\\rho_{sl}=$ density of sludge, $kg/m^3$\n",
        "\n",
        "$P_s$ = percent solids expressed as a decimal\n",
        "\n",
        "To determine the specific gravity of sludge, we adapted Equation 21-1:\n",
        "\n",
        "$$\\frac{W_s}{S_s\\rho_w}=\\frac{W_f}{S_f\\rho_w}+\\frac{W_v}{S_v\\rho_w}$$\n",
        "\n",
        "$$\\frac{W_s}{\\rho_s}=\\frac{W_f}{\\rho_f}+\\frac{W_v}{\\rho_v}$$\n",
        "\n",
        "$W_s=$ weight of total dry solids, kg\n",
        "\n",
        "$\\rho_s=$ density of total solids, $kg/m^3$\n",
        "\n",
        "$W_f=$ weight of fixed solids(mineralmatter),kg\n",
        "\n",
        "$\\rho_f=$ density of fixed solids, $kg/m^3$\n",
        "\n",
        "$W_v=$ weight of volatile solids, kg\n",
        "\n",
        "$\\rho_v=$ density of volatile solids, $kg/m^3$\n",
        "\n",
        "With the assumption that the density of the dry volatile solids is about 1.0 and dry fixed solids about 2.5.(DEU) The weight of volatile solids will come from the calculated weight of removed TOC dry solids. We are currently using averages based on coagulant type from MWH table 21-5 which is laid out as the chemical/physical properties tables coded below.\n",
        "\n",
        "Right now we don't have information on the percent of solids, so our code uses the average percent of solids based on the coagulant type from MWH table 21-5.  \n",
        "\n",
        "From this information, we can determine the ideal treatment plan and the design and performance data."
      ]
    },
    {
      "cell_type": "markdown",
      "metadata": {
        "id": "dfnzN8F09Cz6",
        "colab_type": "text"
      },
      "source": [
        "More of Monroe's comments\n",
        "Move the table into your github images folder (https://github.com/MWSteams/4590FSP/tree/master/Images/Residuals) and then link to the image to eliminate the long text string.\n",
        "Nice work creating a sludge class! \n",
        "I would replace specific gravity values with densities. I think that is less convoluted approach. And it doesn't create the confusion of thinking that the density of the iron hydroxide changes if the temperature of the water changes!\n",
        "\n",
        "Use the basis of design info in Fairmont.py for flow rates and coagulant dosages. https://github.com/MWSteams/4590FSP/blob/master/Fairmont.py\n"
      ]
    },
    {
      "cell_type": "markdown",
      "metadata": {
        "id": "ASSKDaZmAftc",
        "colab_type": "text"
      },
      "source": [
        "![alt text](https://github.com/MWSteams/4590FSP/tree/master/Images/Residuals/MWHTable21-4.png)\n",
        "\n",
        "\n",
        "THIS IMAGE SHOULD BE TABLE 21.4, WHY DOESNT IT WORK \n"
      ]
    },
    {
      "cell_type": "code",
      "metadata": {
        "id": "u-fec8gCrs0u",
        "colab_type": "code",
        "colab": {}
      },
      "source": [
        "class sludge:\n",
        "  def __init__(self,flow):\n",
        "    self.flow=flow\n",
        "  def dry_sludge(self,coag_type='None',coag_dose=0*u.mg/u.L,percent_al=0,\\\n",
        "                     influent_turbidity=0*u.NTU,goal_turbidity=0*u.NTU,removal_ratio=1.4*u.g/(u.m**3*u.NTU),\\\n",
        "                     polymer_dose=0*u.mg/u.L):\n",
        "    if coag_type =='Alum':\n",
        "      est_val=.26\n",
        "    elif coag_type =='Ferric sulfate':\n",
        "      est_val=.53\n",
        "    elif coag_type =='Ferric chloride':\n",
        "      est_val=.66\n",
        "    elif coag_type =='PACl':\n",
        "      est_val=.0489*percent_al\n",
        "    else: est_val=0\n",
        "    self.coag_type=coag_type\n",
        "    dry_sludge_coag=(self.flow*coag_dose*est_val).to(u.kg/u.day)\n",
        "    dry_sludge_turbidity=(self.flow*(influent_turbidity-goal_turbidity)*removal_ratio).to(u.kg/u.day)\n",
        "    dry_sludge_polymer=(self.flow*polymer_dose*1).to(u.kg/u.day)\n",
        "  #HOW DO WE ACCOUNT FOR TOC\n",
        "  #influent_TOC=0*u.mg/u.L,goal_TOC=0*u.mg/u.L\n",
        "    drysludge=dry_sludge_coag+dry_sludge_turbidity+dry_sludge_polymer\n",
        "    self.drysludge=drysludge \n",
        "    self.coag=dry_sludge_coag\n",
        "    self.turbidity=dry_sludge_turbidity\n",
        "    self.polymer=dry_sludge_polymer\n",
        "    return drysludge\n",
        "  def sludge_volume_wet(self,temperature=15*u.degC,percent_solids=0):\n",
        "    #REPLACE THIS HERE WHEN WE FIND OUT WHAT THE PERCENT SOLIDS\n",
        "    #REPLACE THIS WITH THE ASSUMPTION THAT THE VOLATILE SOLIDS WEIGHT = DRY WEIGHT OF TOC SLUDGE\n",
        "    if percent_solids == 0:\n",
        "      if self.coag_type =='Alum':\n",
        "        percent_solids=((15+40)/2)/100\n",
        "      elif self.coag_type =='Ferric sulfate' or self.coag_type =='Ferric chloride':\n",
        "        percent_solids=((4+21)/2)/100\n",
        "      else: percent_solids= .15\n",
        "    #Add in volatile\n",
        "    self.volatile=0 *u.kg/u.day\n",
        "    if self.coag_type =='Alum':\n",
        "      self.volatile=(((10+25)/2)/100)*self.drysludge\n",
        "    elif self.coag_type =='Ferric sulfate' or self.coag_type =='Ferric chloride':\n",
        "      self.volatile=(((5+15)/2)/100)*self.drysludge\n",
        "    else: self.volatile=.1*self.drysludge \n",
        "    rho_fixed=2.5*u.kg/(u.m**3)\n",
        "    rho_volatile=1*u.kg/(u.m**3)\n",
        "    rho_solids=(self.drysludge/(((self.drysludge-self.volatile)/(rho_fixed))+(self.volatile/(rho_volatile)))).to(u.kg/u.m**3)\n",
        "    rho_sludge_wet=(1/((percent_solids/rho_solids)+(1-percent_solids)/1)).to(u.kg/u.m**3)\n",
        "    self.density_sludge_wet=rho_sludge_wet\n",
        "    wet_sludge_volume=self.drysludge/(self.density_sludge_wet*percent_solids)\n",
        "    self.wet_sludge_volume=wet_sludge_volume\n",
        "    return wet_sludge_volume\n",
        "  def sludge_mass_wet(self):\n",
        "    mass_wet_solids=self.wet_sludge_volume*self.density_sludge_wet\n",
        "    self.mass_wet_sludge=mass_wet_solids\n",
        "    return mass_wet_solids.to(u.kg/u.year)\n",
        "  \n",
        "\n",
        "\n",
        "\n",
        "#test=sludge(flow=.5*u.m**3/u.s)\n",
        "#test.dry_sludge(coag_type='Alum',coag_dose=30*u.mg/u.L,influent_turbidity=25*u.NTU,polymer_dose=1*u.mg/u.L)\n",
        "#test.turbidity\n",
        "#print(test.drysludge)\n",
        "#test.sludge_volume_wet(temperature=15*u.degC,percent_solids=.05)\n",
        "#test.sludge_volume_wet1(temperature=15*u.degC,percent_solids=.05,sg_fixed=2.5,sg_volatile=1\n",
        "#volatile_solids=.06*test.drysludge)\n",
        "#test.density_sludge_wet"
      ],
      "execution_count": 0,
      "outputs": []
    },
    {
      "cell_type": "code",
      "metadata": {
        "id": "fXJ7jqIJEXBf",
        "colab_type": "code",
        "outputId": "158c96f1-bd6d-4bf4-c31f-67c8ee92ede6",
        "colab": {
          "base_uri": "https://localhost:8080/",
          "height": 128
        }
      },
      "source": [
        "#residual production table 21.2\n",
        "data_residuals={'Min':[(.08),(4),(2),(1.5),(.08),(.3),(2),(10)],'Max':[.3,8,5,10,.3,6,8,50],'Typical':[.1,'-', ('2 or 3'),(5-8),.1,4,6,(20-30)]}\n",
        "rows_resid=['Alum','Direct filtration backwash water','Filter backwash water','Ion exchange brine','Iron coagulation sludge','Lime-softening sludge','Microfiltration backwash water','Reverse osmosis concentrate']\n",
        "data_residproduction=pd.DataFrame(data=data_residuals,index=rows_resid)\n",
        "#physical properties reference table from table 21-5 asumin max values\n",
        "#alum, iron\n",
        "data_physproperties={'Min Volume':[.05,.06],'Max Volume':[.15,.15],'Min Total Solids':[.1,.25], 'Max Total solids':[4,3.5],'Min Dry Density':[1200*u.kg/u.m**3,1200*u.kg/u.m**3],'Max Dry Density': [1500*u.kg/u.m**3,1800*u.kg/u.m**3],'Min Wet Density': [1025*u.kg/u.m**3,1050*u.kg/u.m**3], 'Max Wet Density': [1100*u.kg/u.m**3,1200*u.kg/u.m**3],'Min Spec Resistance':[10110*u.m/u.kg,40440*u.m/u.kg],'Max Spec Resistance':[50550*u.m/u.kg,151650*u.m/u.kg]}\n",
        "rows=['Alum','Iron']\n",
        "data_chemconstit={'Min Solids(Al/Fe)':[15,4],'Max Solids(Al/Fe)':[40,21],'Min Solids(Silicates and inert mats)':[35,35],'max Solids(Silicates and inert mats)':[70,70],'Min solids(organics/volatile)':[10,5],'Max solids(organics)':[25,15]}\n",
        "physical_properties=pd.DataFrame(data=data_physproperties,index=rows)\n",
        "chemical_constituents=pd.DataFrame(data=data_chemconstit,index=rows)\n",
        "\n",
        "chemical_constituents"
      ],
      "execution_count": 75,
      "outputs": [
        {
          "output_type": "execute_result",
          "data": {
            "text/html": [
              "<div>\n",
              "<style scoped>\n",
              "    .dataframe tbody tr th:only-of-type {\n",
              "        vertical-align: middle;\n",
              "    }\n",
              "\n",
              "    .dataframe tbody tr th {\n",
              "        vertical-align: top;\n",
              "    }\n",
              "\n",
              "    .dataframe thead th {\n",
              "        text-align: right;\n",
              "    }\n",
              "</style>\n",
              "<table border=\"1\" class=\"dataframe\">\n",
              "  <thead>\n",
              "    <tr style=\"text-align: right;\">\n",
              "      <th></th>\n",
              "      <th>Min Solids(Al/Fe)</th>\n",
              "      <th>Max Solids(Al/Fe)</th>\n",
              "      <th>Min Solids(Silicates and inert mats)</th>\n",
              "      <th>max Solids(Silicates and inert mats)</th>\n",
              "      <th>Min solids(organics/volatile)</th>\n",
              "      <th>Max solids(organics)</th>\n",
              "    </tr>\n",
              "  </thead>\n",
              "  <tbody>\n",
              "    <tr>\n",
              "      <th>Alum</th>\n",
              "      <td>15</td>\n",
              "      <td>40</td>\n",
              "      <td>35</td>\n",
              "      <td>70</td>\n",
              "      <td>10</td>\n",
              "      <td>25</td>\n",
              "    </tr>\n",
              "    <tr>\n",
              "      <th>Iron</th>\n",
              "      <td>4</td>\n",
              "      <td>21</td>\n",
              "      <td>35</td>\n",
              "      <td>70</td>\n",
              "      <td>5</td>\n",
              "      <td>15</td>\n",
              "    </tr>\n",
              "  </tbody>\n",
              "</table>\n",
              "</div>"
            ],
            "text/plain": [
              "      Min Solids(Al/Fe)  ...  Max solids(organics)\n",
              "Alum                 15  ...                    25\n",
              "Iron                  4  ...                    15\n",
              "\n",
              "[2 rows x 6 columns]"
            ]
          },
          "metadata": {
            "tags": []
          },
          "execution_count": 75
        }
      ]
    },
    {
      "cell_type": "markdown",
      "metadata": {
        "id": "yIldv5Yr4XdY",
        "colab_type": "text"
      },
      "source": [
        "#Physics: Centrifuges\n",
        "$$G=\\frac{r\\omega^2}{g}$$\n",
        "$r=$ radius of centrifugal dewatering vessel\n",
        "\n",
        "$g=$ gravitational acceleration\n",
        "\n",
        "Using Darcy's law to predict the rate of drainage through the filter cake [1,12]:\n",
        "$$Q=\\frac{K\\Delta P A}{\\mu L}$$\n",
        "\n",
        "$Q=$ flow rate\n",
        "\n",
        "$K=$ permeability of cake\n",
        "\n",
        "$\\Delta P=$ pressure drop across the cake\n",
        "\n",
        "$A=$ filtration area\n",
        "\n",
        "$\\mu=$ dynamic viscosity of water\n",
        "\n",
        "$L=$ cake thickness\n",
        "\n",
        "During filtration period, the pressure drop across the cake is determined by the following relationship:\n",
        "$$\\Delta P=\\frac{1}{2}\\rho\\omega^2(r_s^2-r_0^2)$$\n",
        "\n",
        "$\\rho=$ density of the liquid\n",
        "\n",
        "$r_0=$ radial distance from the rotation axis of the centerfuge to the free water\n",
        "\n",
        "$r_s =$ radial distance from the rotation axis of the centerfuge to the cake surface"
      ]
    },
    {
      "cell_type": "markdown",
      "metadata": {
        "id": "WVelNe91plUE",
        "colab_type": "text"
      },
      "source": [
        "# Table listing potential strategies to meet the dewatering constraints and treatment objectives \n",
        "\n",
        "\n",
        "| strategy | advantages  | disadvantages |\n",
        "|---|---|---|\n",
        "| Centrifuge | high speed dewatering | high energy input | \n",
        "| | 25% and 35% solids by weight.| standby unit needed in some cases |\n",
        "||works for all sludge types|very loud to run|\n",
        "||cost less to operate than filter press||\n",
        "| Plate and Frame Filter Press | stackable, cake-like solids | high potential for blockage and damage | \n",
        "| | 40% and 70% solids by weight | potential for leakage |\n",
        "| |can operate on a continual basis | |\n",
        "| Belt Filter Press | effective on high-volume waste streams  | difficult maintenance |  |\n",
        "| | 18% and 25% solids by weight. | suitable for high sludge moisture content|\n",
        "| | low energy and space taken up| |\n",
        "||10 year service life||\n",
        "\n",
        "#Table listing potential strategies to meet sludge handling constraints and objectives\n",
        "\n",
        "| strategy | advantages  | disadvantages |\n",
        "|---|---|---|\n",
        "|Sludge Detention Ponds| can further thicken sludge | 280,000 sq ft of land required|\n",
        "| | lowers volume of sludge in dumping site| high cost of $46000/day| \n",
        "|Sludge Processing Facility| converts hazardous waste into nonhazardous | high cost|\n",
        "| | has potential to create new materials | still in research phase, not usable|\n",
        "|Off-Site Dumping | lower cost | hazardous waste dumping | \n",
        "| | No extra land or equipment needed | highest volume of waste produced |\n"
      ]
    },
    {
      "cell_type": "markdown",
      "metadata": {
        "id": "AkU2jgvI5zlt",
        "colab_type": "text"
      },
      "source": [
        "# Energy Requirements\n",
        "\n",
        "From a stuy of Chinese WWTPs, the treatment of sludge amounts for 4.1-13.9% of the total energy consumption of a WWTP. The treatment processes examined were thickening, conditioning, and dewatering, which all serve to decrease the water composition of sludge. Gravity thickeners utilize electricty in order to rotate sludge scrapers at the bottom of the tank, while centifuges require electricty to run their electric motor. From this study, it was found that gravity thickening required 0.0019-0.0021 Kwh m^-3 for plants that serve over 50,000 people, while thickening centrigues required 0.015-0.035 kWh m^-3. At Beijung's Gaobeidian WWTP, sludge thickening accounts for 0.04% of the plant's energy consumption. Plate and frame filter presses utilize 100 kWh of electricty per dry ton of sludege while centrifugal dewatering utilizes 108 kWh of electricity per dry ton. "
      ]
    },
    {
      "cell_type": "markdown",
      "metadata": {
        "id": "ewjqcRNwH0nU",
        "colab_type": "text"
      },
      "source": [
        "#Centrifuge Capacity and Stats\n",
        "\n",
        "Solid bowl centrifuges designed for large-scale municipal use are generally 25 feet long and 14 feet wide. These dimensions account for the rotating assembly, backdrive, and adjacent motor. Centrifuges used to dewater sludge can accomodate flow rates of 100-200 gallons per minute (gpm), while centrifuges used to thicken sludge can accomodate flow rates of 400-600 gpm. \n",
        "\n",
        "Solid bowl centrifuges come in two designs, a concurrent centrifuge and a countercurrent centrifuge. \n",
        "\n",
        "| Concurrent Centrifuge | Countercurrent Centrifuge  |\n",
        "|---|---|\n",
        "|Sludge feed introduced into rotating assembly though cylindrical end of bowl |Sludge feed introduced through conical end of bowl |\n",
        "|Helix orientation draws settle solids in direction of sludge feed towards conical portion of centrifuge|Helix draws solids against direction of sludge feed toward sludge discharge| \n",
        "\n",
        "\n",
        "a) Solid bowl concurrent centrifuge\n",
        "\n",
        "\n",
        "![alt text](http://web.deu.edu.tr/atiksu/ana52/sludisx-17.gif)\n",
        "\n",
        "b) Solid bowl countercurrent centrifuge \n",
        "\n",
        "\n",
        "![alt text](http://web.deu.edu.tr/atiksu/ana52/sludisx-16.gif)\n",
        "\n",
        "Solid bowl centrifuges can be either low-speed (operate at gravitational forces less than 1100 g) or high-speed (operate at gravitational forces greater than 1100 g). \n",
        "\n",
        "| strategy | advantages  | disadvantages |\n",
        "|---|---|---|\n",
        "| Low-speed centrifuge | Lower energy consumptiom | Lower performance | \n",
        "| | Less noisy | Lower capacity to dewater sludge |\n",
        "||Lower maintenance costs|Need polymer conditioning|\n",
        "| High-speed centrifuge | Increased performance | Higher energy consumption | \n",
        "| | Increased capacity to dewater sludge (speeds up process) | Higher maintenance costs |\n",
        "| |Reduces need for polymer conditioning | |\n",
        "\n",
        "Although high-speed centrifuges have a higher maintence cost, they are now being constructed from improved wear-resistant materials which has lowered the amount of maintenance these centrifuges require. As such, high-speed centrifuges have gained popularity in the realm of municipal residual dewatering.  \n",
        "\n",
        "\n",
        "\n",
        "\n"
      ]
    },
    {
      "cell_type": "markdown",
      "metadata": {
        "id": "wc4XSSMYgvK9",
        "colab_type": "text"
      },
      "source": [
        "#Amount of sludge centrifuges can thicken/dewater in one day\n",
        "\n",
        "In the following code, we calculate the gallons of residuals that a single centrifuge can either thicken or dewater in a single day by converting the flow rate from gallons per minute to gallons per day. Since the flow rates are given as a range (centrifuge can either thicken 400-600 gpm or dewater 100-200 gpm), we reported the daily flow rate as both a high and low estimate.\n",
        "** THIS NEEDS TO BE MOVED DOWN TO DESIGN BECAUSE IT SHOULD REFERENCE MY VARIABLES WHICH ARE CALCULATED BELOW. I COPIED THOSE UP HERE SO WE CAN USE THEM \n"
      ]
    },
    {
      "cell_type": "code",
      "metadata": {
        "id": "So3LRmfoHQou",
        "colab_type": "code",
        "colab": {}
      },
      "source": [
        "\n",
        "\n",
        "#yearly_emulsion_polymer=165*u.ton/u.year\n",
        "#avg_dose_emulsion_polymer=(yearly_emulsion_polymer/(fmt.q_ave)).to(u.mg/u.liter)\n",
        "\n",
        "#sludge_estimate=sludge(flow=fmt.q_ave)\n",
        "#dry_sludge=sludge_estimate.dry_sludge(coag_type='Ferric chloride',coag_dose=fmt.Fe_c_ave,influent_turbidity=fmt.turbidity_c_in_ave,goal_turbidity=fmt.turbidity_c_out_design,polymer_dose=fmt.emulsionpolymer_c_ave)\n",
        "#wet_sludge_volume=sludge_estimate.sludge_volume_wet()\n",
        "#wet_sludge_mass=sludge_estimate.sludge_mass_wet()\n",
        "\n",
        "#print('We estimate that the dry sludge mass produced will be', dry_sludge.to(u.ton/u.day))\n",
        "#print('We estimate that the wet sludge volume will be', wet_sludge_volume)\n",
        "#print('We estimate that the wet sludge mass will be', wet_sludge_mass.to(u.ton/u.day))\n",
        "\n",
        "\n",
        "wet_sludge_volume=143.8 *u.m**3/u.day"
      ],
      "execution_count": 0,
      "outputs": []
    },
    {
      "cell_type": "code",
      "metadata": {
        "id": "TPOFxkV1gjRR",
        "colab_type": "code",
        "outputId": "bd7e8c5b-09a6-48d1-ed40-1d31e060194c",
        "colab": {
          "base_uri": "https://localhost:8080/",
          "height": 51
        }
      },
      "source": [
        "#Thickening capacity (400-600 gpm)\n",
        "\n",
        "thickening_capacity_min=400*(u.gallon/u.minute)\n",
        "thickening_capacity_max=600*(u.gallon/u.minute)\n",
        "print('An estimate for the amount of residuals that a centrifuge can thicken is', thickening_capacity_min.to(u.gallon/u.day), 'to', thickening_capacity_max.to(u.gallon/u.day))\n",
        "\n",
        "#Dewatering capacity(100-200 gpm)\n",
        "\n",
        "dewatering_capacity_min=100*(u.gallon/u.minute)\n",
        "dewatering_capacity_max=200*(u.gallon/u.minute)\n",
        "print('An estimate for the amount of residuals that a centrifuge can dewater is', dewatering_capacity_min.to(u.gallon/u.day), 'to', dewatering_capacity_max.to(u.gallon/u.day))\n"
      ],
      "execution_count": 87,
      "outputs": [
        {
          "output_type": "stream",
          "text": [
            "An estimate for the amount of residuals that a centrifuge can thicken is 5.76e+05 gallon / day to 8.64e+05 gallon / day\n",
            "An estimate for the amount of residuals that a centrifuge can dewater is 1.44e+05 gallon / day to 2.88e+05 gallon / day\n"
          ],
          "name": "stdout"
        }
      ]
    },
    {
      "cell_type": "markdown",
      "metadata": {
        "id": "geiCjlrilfap",
        "colab_type": "text"
      },
      "source": [
        "To calculate the number of centrifuges needed to either thicken or dewater Fairmont's residuals, we divide the maximum daily flowrate of the Fairmont WTP by the the maximum daily flowrate one centrifuge can handle."
      ]
    },
    {
      "cell_type": "code",
      "metadata": {
        "id": "yPHw-Lj6lf38",
        "colab_type": "code",
        "outputId": "bad9fc27-10cd-4715-acf9-66549d24b476",
        "colab": {
          "base_uri": "https://localhost:8080/",
          "height": 72
        }
      },
      "source": [
        "#Number of centrifuges for thickening \n",
        "min_centrifuges_thickening=(wet_sludge_volume/thickening_capacity_max).to_base_units()\n",
        "max_centrifuges_thickening=(wet_sludge_volume/thickening_capacity_min).to_base_units()\n",
        "print('The number of centrifuges needed to thicken residuals will range from', min_centrifuges_thickening,'to',max_centrifuges_thickening)\n",
        "#Number of centrifuges for dewatering\n",
        "min_centrifuges_dewatering=(wet_sludge_volume/dewatering_capacity_max).to_base_units()\n",
        "max_centrifuges_dewatering=(wet_sludge_volume/dewatering_capacity_min).to_base_units()\n",
        "print('The number of centrifuges needed to thicken residuals will range from', min_centrifuges_dewatering,'to',max_centrifuges_dewatering)\n"
      ],
      "execution_count": 88,
      "outputs": [
        {
          "output_type": "stream",
          "text": [
            "The number of centrifuges needed to thicken residuals will range from 0.04397 dimensionless to 0.06595 dimensionless\n",
            "The number of centrifuges needed to thicken residuals will range from 0.1319 dimensionless to 0.2638 dimensionless\n"
          ],
          "name": "stdout"
        },
        {
          "output_type": "execute_result",
          "data": {
            "text/latex": "$143.8\\ \\frac{\\mathrm{meter}^{3}}{\\mathrm{day}}$",
            "text/html": [
              "143.8 meter<sup>3</sup>/day"
            ],
            "text/plain": [
              "<Quantity(143.8, 'meter ** 3 / day')>"
            ]
          },
          "metadata": {
            "tags": []
          },
          "execution_count": 88
        }
      ]
    },
    {
      "cell_type": "markdown",
      "metadata": {
        "id": "3vQZ5k6GNy7-",
        "colab_type": "text"
      },
      "source": [
        "It appears that one centrifuge will be adequate. "
      ]
    },
    {
      "cell_type": "markdown",
      "metadata": {
        "id": "J9dPZVMbOka9",
        "colab_type": "text"
      },
      "source": [
        "# Vendors and contact information file\n",
        "\n",
        "See this [tab delimited spreadsheet](https://raw.githubusercontent.com/monroews/4590FSP/master/vendors.txt).\n",
        "\n",
        "Add rows to the vendor spreadsheet as you find them. The sheet can easily be edited in Excel. Just make sure to save it as a tab delimited sheet. Push your changes to github so the entire class has access to the document.\n",
        "\n"
      ]
    },
    {
      "cell_type": "code",
      "metadata": {
        "id": "l35d0BODlEsW",
        "colab_type": "code",
        "colab": {}
      },
      "source": [
        "vendors = pd.read_csv('https://raw.githubusercontent.com/monroews/4590FSP/master/vendors.txt',sep='\\t')\n",
        "vendors.head()"
      ],
      "execution_count": 0,
      "outputs": []
    },
    {
      "cell_type": "markdown",
      "metadata": {
        "id": "6ldwXptYBhJV",
        "colab_type": "text"
      },
      "source": [
        "# Conversation with EMA Resources, Inc\n",
        "\n",
        "EMA travels to water treatment plants with their personal belt presses, which they connect to the plant's gravity settler through a pipe. The plant can choose to mechanically thicken their sludge before EMA arrives, but EMA does not recommend that the percent solids of the sludge exceed 6%, as this can lead to blockages in the pipe. EMA's belt presses are able to dewater 200 gpm of sludge at a cost of 6-8 cents per gallon. EMA then transports the dewatered residuals to a disposal site. \n",
        "\n",
        "Accoring to EMA's estimates, we can calculate the daily espense of a third party dewatering our reiduals on site by multiplying the cost per gallon by the gallons of resdidual sludge produced per day."
      ]
    },
    {
      "cell_type": "code",
      "metadata": {
        "id": "On_EfeSsFeFR",
        "colab_type": "code",
        "colab": {}
      },
      "source": [
        "cost_per_gallon=0.07*u.dollar/u.gallon\n",
        "cost_per_day=cost_per_gallon*gallons_produced\n",
        "print('The daily cost to dewater residuals is',cost_per_day)"
      ],
      "execution_count": 0,
      "outputs": []
    },
    {
      "cell_type": "markdown",
      "metadata": {
        "id": "OCunf1TYHFi1",
        "colab_type": "text"
      },
      "source": [
        "The following code calculates how long it will take one belt press to dewater a day's worth of residuals given that a belt press can dewater 200 gallons of sludge per minute."
      ]
    },
    {
      "cell_type": "code",
      "metadata": {
        "id": "5uHoiIJGHVgx",
        "colab_type": "code",
        "colab": {}
      },
      "source": [
        "belt_press_capacity=(200*u.gallon/u.minute).to(u.gallon/u.hour)\n",
        "dewatering_time=(gallons_produced/belt_press_capacity)*1*u.day\n",
        "print('If one belt press is utilized, it will take', dewatering_time,'to dewater a days worth of residuals')"
      ],
      "execution_count": 0,
      "outputs": []
    },
    {
      "cell_type": "markdown",
      "metadata": {
        "id": "GppKvhVMsAYl",
        "colab_type": "text"
      },
      "source": [
        "#Preliminary Schematic and Process Descriptions\n",
        "\n"
      ]
    },
    {
      "cell_type": "markdown",
      "metadata": {
        "id": "4URQuqAYsc-5",
        "colab_type": "text"
      },
      "source": [
        "![image.png](data:image/png;base64,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)"
      ]
    },
    {
      "cell_type": "markdown",
      "metadata": {
        "id": "Y2VAipbcs9FF",
        "colab_type": "text"
      },
      "source": [
        "Equalization Basins: are designed to provide consistent influent flow to downstream processes by retaining high flow fluctuations. Due to the additional retention time, aeration and mixing is required in these basins.\n",
        "\n",
        "Rapid mixing: aims to efficiently spread coagulant the water.\n",
        "\n",
        "Clarifier: used to remove solid particulates or suspended solids from liquid. Concentrated impurities discharged from the bottom of the tank are known as sludge, while the particles that float to the surface of the liquid are called scum.\n",
        "\n",
        "Thickener/ Settling tank: used to increase the solids concentration and decrease the free water. This step minimizes the load on the downstream processes\n",
        "\n",
        "Holding Tank: Holds the condensed sludge to maintain batch centrifugation \n",
        "\n",
        "Centrifuge: further thickens solids into a cake \n",
        "\n",
        "Throughout the process: water is reintroduced to the head of the plant \n",
        "\n",
        "Dispose of solid cakes off site\n"
      ]
    },
    {
      "cell_type": "markdown",
      "metadata": {
        "id": "DmE3Zraj_4ED",
        "colab_type": "text"
      },
      "source": [
        "# California Waste Discharge Requirements\n",
        "\n",
        "\n",
        "\"Section 13260(a) of the California Water Code requires that any person discharging waste or proposing to discharge waste within any region, other than to a community sewer system, that could affect the quality of the waters of the State, must file a report of waste discharge. All waste discharge requirements issued by the Regional Water Board include self-monitoring programs requiring the waste discharger to collect pertinent water quality data and to submit it to the Regional Water Board for evaluation of compliance with waste discharge requirements.\n",
        "\n",
        "\n",
        "\n",
        "The treatment of drinking water results in liquid and solid wastes that contain concentrated contaminants such as arsenic. The Faimont Water Treatment Plant must dispose of their residuals in a way that complies with California law and minimizes environmental impact. Raw water characteristics that may impact the disposal optins of residuals include:\n",
        "\n",
        "\n",
        "• Excessively high or low pH;\n",
        "\n",
        "\n",
        "• High total suspended solids (TSS);\n",
        "\n",
        "\n",
        "• High total dissolved solids (TDS);\n",
        "\n",
        "\n",
        "• High concentrations of heavy metals, including arsenic, lead, and aluminum;\n",
        "\n",
        "\n",
        "• High concentrations of competing ions, including fluoride, sodium, sulfate chloride, and other salts concentrations;\n",
        "\n",
        "• High concentrations of radionuclides and daughter products.\n",
        "\n",
        "\n",
        "[source](https://www.epa.gov/sites/production/files/2015-09/documents/train6-residuals.pdf)\n",
        "\n",
        "\n",
        "\n",
        "To dispose of residuals in a solid waste landfill, the residuals must be nonhazardous, otherwise they must be disposed of in a hazardous waste landfill. Liquid residuals cannot be disposed of in a land disposal unit. To discharge resdiuals directly to a body, the residuals must be non-hazardous and meet National Pollutant Discharge Elimination System (NPDES) discharge requirements.\n",
        "\n",
        "\n",
        "Depending on the concentrations of contanimants in a waste stream, intermediate processing may be neccessary before disposal. Types of **intermediate processing for liquid waste** includes flow equilization (detaining and mixing water system wastes before releasing residuals to a POTW), brine recycling (caution must be exercised, as reused brine streams can possess higher levels of suspended solids and contaminants), pH neutralization for wastes streams with a significantly high or low pH, settling or gravity thickening (removes contaminants from liquid waste stream, resulting in a cleaner liquid waste and a concentrated sludge), evaporation (leaves solids and contaminants behind), and chemical precipitation. Types of **intermediate processing for solid wastes** include mechanical dewatering processes (centrifugal filter presses, vacuumassisted dewatering beds, belt filter presses, plate-and-frame filter presses), filter presses, non-mechanical dewatering processes (lagoons, settling basins, gravity thickening, evaporation ponds, drying beds), and thermal processing (incineration, pyrolysis).\n",
        "\n",
        "\n",
        "For the most part, the dillution of hazardous waste in not recommended, as any mixture or derivative of a hazardous waste is also characterized as a hazardous waste. \n",
        "\n",
        "# Arsenic Standards \n",
        "\n",
        "The national TC (toxicity characteristic) for arsenic is 5 mg/L. If the concentration of arsenic in residuals exceeds this value, the waste in considered hazardous and is not acceptable for direct discharge. However, this value can vary region-to-region. The TBLL (technically based local limit) for arsenic is 1 mg/L in San Jose, CA and 2 mg/L in Orange County, CA. \n",
        "\n",
        "\n",
        "# Processing of Nonhazardous Residuals\n",
        "\n",
        "\n",
        "Nonhazardous residuals produced from sorption processes or chemical precipitation may be disposed of in the following ways:\n",
        "\n",
        ">Recycle backwash water to facility headwokrs, discharge backwash to recieving body or POTW, and dispose of solid wastes in landfill.\n",
        "\n",
        "Nonhazardous residuals produced from membrane processes may be disposed of in the following ways:\n",
        "\n",
        ">Solid wastes disposed in landfill, liquid wastes may need pretreatment before discharge into POTW. \n",
        "\n",
        "\n",
        "\n",
        "# Health-based acceptable loading limites established under 40 CFR 503:\n",
        "\n",
        "\n",
        "Pollutant | Ceiling concentration (mg/kg) | Cumulative pollutant loading rate (kg/hectare) | Monthly avg concentration (mg/kg) | Annual Pollutant loading rate (kg/hectare/365 day period)\n",
        "--- | --- | --- | --- | ---\n",
        "Arsenic| 75 | 41 | 41 | 2.0 \n",
        "Cadmium | 85 | 39 | 39 | 1.9 \n",
        "Copper | 4300 | 1500 | 1500 | 75\n",
        "Lead | 840 | 300 | 300 | 15\n",
        "Mercury | 57 | 17 | 17 | 0.85\n",
        "Molybdenum | 75 | -- | -- | -- \n",
        "Nickel | 420 | 420 | 420 | 21\n",
        "Selenium | 100 | 100 | 100 | 5.0\n",
        "Zinc | 7500 | 2800 | 2800 | 140\n",
        "\n",
        "\n",
        "\n",
        "The overall goal of Fairmont's residuals management team is to minimize the amount of hazardous waste generated, as hazardous waste is expensive to dispose of and carries a strict cradle-to-grave liability."
      ]
    },
    {
      "cell_type": "markdown",
      "metadata": {
        "id": "-jwNKdrCOmux",
        "colab_type": "text"
      },
      "source": [
        "# Shared assumptions\n",
        "\n",
        "See this [python file, Fairmont.py](https://github.com/monroews/4590FSP/blob/master/Fairmont.py)\n",
        "\n",
        "Use this file to hold parameters that are in the SOW or elsewhere that\n",
        "influence the design of the entire plant. This provides an easy mechanism\n",
        "for all of us to share the same assumptions. Read the SOW to find sections that relate to your part of the design and enter all pertinent variables into [Fairmont.py](https://github.com/monroews/4590FSP/blob/master/Fairmont.py) and then push those changes to github.\n",
        "\n",
        "# Major Decisions\n",
        "\n",
        "Write several paragraphs describing the major decisions that you will need to make in order to create a design and outline a strategy for how you will obtain the necessary information to make those decisions.\n",
        "\n",
        "The major decisions we we need to make in order to create a design and outline a strategy for managing the residuals is to assume plant characteristics, and build off of them to start calculating values neccesary to produce our designs. We used an estimated average flow rate of 320 ft^3/s  for our plant. We also used an influent turbidity value of 14 NTU s a starting point of the plant's inflow water. This would help us determine the sludge characterisitcs we would work with as an effluent in our residuals. The goal trubidity of the plant was set as 3 NTU, and the ferric chloride dose was set at 13.14 mg/l in our calculations. We calculated the average dose of polymer using the yearly amount of 165 tons/year and the average flow rate of the plant. \n",
        "\n",
        "To carry out our initial code, we used equations given in the MWH textbook. Using equation 21-12 and 21-13, we were able to find the amount of dry sludge from the coagulant dose in mass/day, from the removal of trubidity in mass/day, and the dry sludge from polymer addition, also in mass/day. These values helped us to determine the total dry sludge amount in mass/day that we can expect when determining our residuals process.\n",
        "\n",
        "Using the value we found for the weight of total dry solids, and the density of water, we were able to use equation 21-3 and table 21-2 to find the percent solids. Next, we calculated the weight of the volayile solids using values of 2.5 for fixed specific gravity and 1 for specific gravity. We assumed that the volatile solids equalled the dry sludge from the coagulant in our calculations.\n",
        "\n",
        "\n",
        "\n",
        "\n",
        "# Next Steps and Challenges\n",
        "\n",
        "Challenges include trying to reduce the volume of residuals within the plant. This should be done by concentrating wastes as much as possible. This leftover water should be recycled back into the front end of the plant. Also, considering what to do with the residuals can be difficult due to limited space availability of dumping in Los Angeles. Another challenge includes finding safe ways to deal with Arsenic in the residuals, since it is a hazardous waste, and presents itself in high concentrations through the plant inflow. The management of liquid waste streams is also going to be challenging, as our team will try to recycle as much water as possible, and the constituents in the return flow are difficult to manage. \n",
        "\n",
        "Next Steps include contacting the other teams to decide which treatment trains we should focus on removing residuals from, and researching more on the types of contaminants in typical inflow waters in the area. This could help our team in determining what types of chemicals and processes will be used in getting rid of contaminants, and the amount of residual flows we will need to focus on. \n",
        "We also will need to research the regulatory standards out in place for the contaminants we will be working to remove, in order to understand how and where they can be disposed of. \n",
        "Another large part of our next steps includes researching methods of equations for mass of wastes, figure out who manufacturers are of units that process the solids, and suggest centrifuges. A reasonable task might be to look at the top options for consolidating solids in addition to centrifuges, see if we agree that using a centrifuge for dewatering is the top choice. We want to identify the \"why\" of the  technology approach.\n",
        "\n"
      ]
    },
    {
      "cell_type": "markdown",
      "metadata": {
        "id": "DXlB_I6ZOw2J",
        "colab_type": "text"
      },
      "source": [
        "# Design\n",
        "\n",
        "Begin writing the code to start your design. Define flow rates, mass rates, energy requirements, and any readily calculated dimensions, velocities, flows, etc."
      ]
    },
    {
      "cell_type": "code",
      "metadata": {
        "id": "IrwTrVM2hZqH",
        "colab_type": "code",
        "colab": {}
      },
      "source": [
        "print('The average flow to be treated at Fairmont is',fmt.q_ave.to(u.Mgal/u.day),'or')\n",
        "print('The maximum flow to be treated at Fairmont is',fmt.q_max.to(u.Mgal/u.day))\n",
        "specific_energy = (fmt.electricity_power/fmt.q_ave).to(u.J/u.L)\n",
        "temp = 15 * u.degC\n",
        "specific_potential_energy = (specific_energy / u.gravity / ac.density_water(temp)).to(u.m)\n",
        "print('The average amount of energy used per liter of water is expected to be',specific_energy,'or',specific_potential_energy,'of potential energy')"
      ],
      "execution_count": 0,
      "outputs": []
    },
    {
      "cell_type": "code",
      "metadata": {
        "id": "xJyfzmsRT4-r",
        "colab_type": "code",
        "colab": {}
      },
      "source": [
        "\n",
        "\n",
        "yearly_emulsion_polymer=165*u.ton/u.year\n",
        "avg_dose_emulsion_polymer=(yearly_emulsion_polymer/(fmt.q_ave)).to(u.mg/u.liter)\n",
        "\n",
        "sludge_estimate=sludge(flow=fmt.q_ave)\n",
        "dry_sludge=sludge_estimate.dry_sludge(coag_type='Ferric chloride',coag_dose=fmt.Fe_c_ave,influent_turbidity=fmt.turbidity_c_in_ave,goal_turbidity=fmt.turbidity_c_out_design,polymer_dose=fmt.emulsionpolymer_c_ave)\n",
        "wet_sludge_volume=sludge_estimate.sludge_volume_wet(temperature=15*u.degC)\n",
        "wet_sludge_mass=sludge_estimate.sludge_mass_wet()\n",
        "\n",
        "print('We estimate that the dry sludge mass produced will be', dry_sludge.to(u.ton/u.day))\n",
        "print('We estimate that the wet sludge volume will be', wet_sludge_volume)\n",
        "print('We estimate that the wet sludge mass will be', wet_sludge_mass.to(u.ton/u.day))\n",
        "\n",
        "\n"
      ],
      "execution_count": 0,
      "outputs": []
    },
    {
      "cell_type": "code",
      "metadata": {
        "id": "gNZdfKIaa0Uq",
        "colab_type": "code",
        "colab": {}
      },
      "source": [
        ""
      ],
      "execution_count": 0,
      "outputs": []
    },
    {
      "cell_type": "markdown",
      "metadata": {
        "id": "WfMWNqI0a1Ix",
        "colab_type": "text"
      },
      "source": [
        "Resources:\n",
        "\n",
        "https://www.epa.gov/sites/production/files/2015-11/documents/dw-treatment-residuals-mgmt-tech-report-sept-2011.pdf\n",
        "\n",
        "https://www.epa.gov/sites/production/files/2015-10/documents/method_1684_draft_2001.pdf\n",
        "\n",
        "http://web.deu.edu.tr/atiksu/ana58/c-7.pdf\n",
        "\n",
        "https://vtechworks.lib.vt.edu/bitstream/handle/10919/26604/04Chapter3.pdf?sequence=3"
      ]
    },
    {
      "cell_type": "markdown",
      "metadata": {
        "id": "c3m7JsWgBYyK",
        "colab_type": "text"
      },
      "source": [
        "#**Questions:**\n",
        "\n",
        "How do we know what the sludge compostion is?\n",
        "For physical properties which are we using in the range?"
      ]
    },
    {
      "cell_type": "markdown",
      "metadata": {
        "id": "VdKbdFMejIyB",
        "colab_type": "text"
      },
      "source": [
        ">How do we know how the centrifuge works/ how well it will dewater our sludge?"
      ]
    },
    {
      "cell_type": "markdown",
      "metadata": {
        "id": "x8iKFAlegV3d",
        "colab_type": "text"
      },
      "source": [
        "Centrifugal dewatering is largely used for separating excess water from sludge. The applied centrifugal force created by the angular velocity of the rotating basket allows for w lower moisture content of the product, which is the goal of our team, both to limit the amount of waste that is being dumped, and to best salvage water for reintroduction into the treatment process. \n",
        "\n",
        "Centrifugal treatment starts with a process called filtration, in which water flows outwards through the sludge while the sludge is covered in a layer of water. In time, as the water is increasingly removed from the sludge, drainage occurs in the centrifuge. The pressure drop becomes negative during this slower process, as the thickness of the solid cake is increased. \n",
        "\n",
        "To start to observe the physical characteristics that outline the process of centrifugal dewatering, we calculated...\n",
        "\n",
        "\n",
        "\"From Equations [1] and [2],\n",
        "one can see that the rate of filtration should increase with ω and the thickness (rS-r0) of the water\n",
        "over a filter cake. \n",
        "\n",
        "According to the Equation [3], ∆P becomes zero when the water over the cake disappears, i.e., r0=rS. As the water level in the cake decreases further, i.e., r0>rS, the pressure\n",
        "within the cake becomes lower than the ambient pressure [1].This may be the fundamental reason that centrifuges cannot produce as low cake moistures as vacuum or pressure filters for\n",
        "the finer particles \""
      ]
    },
    {
      "cell_type": "code",
      "metadata": {
        "id": "NclCnRiqhzIN",
        "colab_type": "code",
        "colab": {}
      },
      "source": [
        "# Gforce = r w^2 / g\n",
        "# r is radius of vessel, g is grav acceleration, w is angular velocity\n",
        "\n",
        "#Darcy's law can predict the rate of drainage through filter cake\n",
        "#Q = K dP A / (miu L)\n",
        "# Q is flow rate, K is permeability, dP is pressure drop, A is filtration area, miu dynamic viscosity, L is cake thickness\n",
        "\n",
        "#dP = 1/2 (density w^2)(rs^2 - ro^2)\n",
        "#where ρ is the density of the liquid, and r0 and rS are the radial distances of the free water and the\n",
        "#cake surface from the rotational axis of a centrifuge, respectively. \n",
        "\n"
      ],
      "execution_count": 0,
      "outputs": []
    }
  ]
}