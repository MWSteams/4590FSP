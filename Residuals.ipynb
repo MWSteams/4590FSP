{
  "nbformat": 4,
  "nbformat_minor": 0,
  "metadata": {
    "colab": {
      "name": "Residuals.ipynb",
      "provenance": [],
      "collapsed_sections": []
    },
    "kernelspec": {
      "name": "python3",
      "display_name": "Python 3"
    }
  },
  "cells": [
    {
      "cell_type": "markdown",
      "metadata": {
        "id": "lZNgRSu1Uj8D",
        "colab_type": "text"
      },
      "source": [
        "# Residuals\n",
        "\n",
        "Authors: Madeline Keep, Izabella Kornak, Hannah Weinstein\n"
      ]
    },
    {
      "cell_type": "code",
      "metadata": {
        "id": "QjwM4ovYUokZ",
        "colab_type": "code",
        "outputId": "9d1f827d-bdb0-4d4f-cf27-6b61cec060b4",
        "colab": {
          "base_uri": "https://localhost:8080/",
          "height": 275
        }
      },
      "source": [
        "!pip install aguaclara\n",
        "!pip install molmass"
      ],
      "execution_count": 115,
      "outputs": [
        {
          "output_type": "stream",
          "text": [
            "Requirement already satisfied: aguaclara in /usr/local/lib/python3.6/dist-packages (0.2.0)\n",
            "Requirement already satisfied: pint==0.8.1 in /usr/local/lib/python3.6/dist-packages (from aguaclara) (0.8.1)\n",
            "Requirement already satisfied: matplotlib in /usr/local/lib/python3.6/dist-packages (from aguaclara) (3.2.1)\n",
            "Requirement already satisfied: scipy in /usr/local/lib/python3.6/dist-packages (from aguaclara) (1.4.1)\n",
            "Requirement already satisfied: urllib3 in /usr/local/lib/python3.6/dist-packages (from aguaclara) (1.24.3)\n",
            "Requirement already satisfied: pandas in /usr/local/lib/python3.6/dist-packages (from aguaclara) (1.0.3)\n",
            "Requirement already satisfied: numpy>=1.11 in /usr/local/lib/python3.6/dist-packages (from matplotlib->aguaclara) (1.18.3)\n",
            "Requirement already satisfied: pyparsing!=2.0.4,!=2.1.2,!=2.1.6,>=2.0.1 in /usr/local/lib/python3.6/dist-packages (from matplotlib->aguaclara) (2.4.7)\n",
            "Requirement already satisfied: kiwisolver>=1.0.1 in /usr/local/lib/python3.6/dist-packages (from matplotlib->aguaclara) (1.2.0)\n",
            "Requirement already satisfied: cycler>=0.10 in /usr/local/lib/python3.6/dist-packages (from matplotlib->aguaclara) (0.10.0)\n",
            "Requirement already satisfied: python-dateutil>=2.1 in /usr/local/lib/python3.6/dist-packages (from matplotlib->aguaclara) (2.8.1)\n",
            "Requirement already satisfied: pytz>=2017.2 in /usr/local/lib/python3.6/dist-packages (from pandas->aguaclara) (2018.9)\n",
            "Requirement already satisfied: six in /usr/local/lib/python3.6/dist-packages (from cycler>=0.10->matplotlib->aguaclara) (1.12.0)\n",
            "Requirement already satisfied: molmass in /usr/local/lib/python3.6/dist-packages (2020.1.1)\n"
          ],
          "name": "stdout"
        }
      ]
    },
    {
      "cell_type": "code",
      "metadata": {
        "id": "ttJT8q_wYhAV",
        "colab_type": "code",
        "outputId": "8c41ee73-eb62-4b36-f290-c95e41ded071",
        "colab": {
          "base_uri": "https://localhost:8080/",
          "height": 204
        }
      },
      "source": [
        "from aguaclara.core.units import unit_registry as u\n",
        "import aguaclara as ac\n",
        "import matplotlib.pyplot as plt\n",
        "import numpy as np\n",
        "import pandas as pd\n",
        "import molmass as mol\n",
        "!wget https://raw.githubusercontent.com/monroews/4590FSP/master/Fairmont.py\n",
        "import Fairmont as fmt"
      ],
      "execution_count": 116,
      "outputs": [
        {
          "output_type": "stream",
          "text": [
            "--2020-04-27 23:10:29--  https://raw.githubusercontent.com/monroews/4590FSP/master/Fairmont.py\n",
            "Resolving raw.githubusercontent.com (raw.githubusercontent.com)... 151.101.0.133, 151.101.64.133, 151.101.128.133, ...\n",
            "Connecting to raw.githubusercontent.com (raw.githubusercontent.com)|151.101.0.133|:443... connected.\n",
            "HTTP request sent, awaiting response... 200 OK\n",
            "Length: 2397 (2.3K) [text/plain]\n",
            "Saving to: ‘Fairmont.py.1’\n",
            "\n",
            "\rFairmont.py.1         0%[                    ]       0  --.-KB/s               \rFairmont.py.1       100%[===================>]   2.34K  --.-KB/s    in 0s      \n",
            "\n",
            "2020-04-27 23:10:29 (14.7 MB/s) - ‘Fairmont.py.1’ saved [2397/2397]\n",
            "\n"
          ],
          "name": "stdout"
        }
      ]
    },
    {
      "cell_type": "markdown",
      "metadata": {
        "id": "2SQpUtXCR5Xz",
        "colab_type": "text"
      },
      "source": [
        "# Task Definition\n",
        "\n",
        "Our goal is to develop a complete analysis of the composition, management, and disposal of residuals from the proposed treatment process.\n",
        "According to the Fairmont Treatment Plant’s Scope Of Work document, settled solids from the sedimentation process will be mechanically thickened in an on site facility. The preliminary evaluation suggests using equalization basins, rapid mixers, then settling tanks, and introducing coagulants to form and settle out thickened solids. The residual solids will then be further mechanically dewatered at a separate facility, then can be temporarily stored in a sludge hopper (with the capacity to store a minimum of a week’s worth of sludge) before they are transferred via truck to be disposed off-site. The leftover water will be recycled to the head of the Fairmont sedimentation plant. \n",
        "\n",
        "A preliminary evaluation has concluded that that centrifuges are most effective active dewatering technology. We will develop a design for the thickening facility and dewatering facility and evaluate their cost and effectiveness. Our thickening facility will take the collected sludge and thicken it, and also even out the flow before the sludge before it enters the dewatering facility. These are expected to be similar to the coagulation and flocculation tanks. The dewatering facility will be composed of centrifuges that will further dewater the sludge to create a sludge cake. There also must be a distribution mechanism for the sludge cake to be moved out of the facility.\n",
        "\n",
        "We will also develop a more exact estimate of the expected residual output of the process, and determine a minimum capacity for our residual treatment train.\n"
      ]
    },
    {
      "cell_type": "markdown",
      "metadata": {
        "id": "WoGtXtBGQZr5",
        "colab_type": "text"
      },
      "source": [
        "# Executive Summary \n",
        "\n",
        "Our main constraints will rely on the amount of sludge that needs to be treated. Those calculations will depend on the treatment specifications of the plant. This will determine the characteristics of the sludge, and allow us to analyze potential solutions with concrete estimations of the costs of management. Our design solution will develop as we calculate these values\n",
        "\n"
      ]
    },
    {
      "cell_type": "markdown",
      "metadata": {
        "id": "Jonv4dYSQghA",
        "colab_type": "text"
      },
      "source": [
        "# Constraints\n",
        "*(Relevant regulations, client expectations, site and budget, process capabilities including process design equations, ease of use, operation requirements,maintainence requirements)*\n",
        "\n",
        "* Amount of material that must be disposed of\n",
        "* Transportation costs\n",
        "* Disposal costs\n",
        "* Discharge requirements/pollution standards\n",
        "* Residuals management systems may limit overall plant capacity if not designed and operated properly\n",
        "* Toxicity of residuals\n",
        "* Specific resistance of sludge\n",
        "* Amount of water used\n",
        "  * (“The quantity of waste washwater for both granular and membrane filters will typically comprise from 2 to 5 percent of the total amount of water processed”-MWH)\n",
        "* Capacity of washwater facility to to accept high, intermittent flows from backwashing \n",
        "* Unit filter rn volumes (UFRV)\n",
        "* Unit backwash volume (UBMV)\n",
        "* Effective filtration rate and recover or production efficiency of filter\n",
        "  * (“Typically, waste washwater quantities are 8 m3/m2 (200 gal/ft2). To achieve a filter production efficiency of 95 percent, the UFRV would have to be at least 200 m3/m2 (5000 gal/ft2) a run. At a filtration rate of 12.2 m/h (5 gpm/ft2), a filter run would have to last at least 1000 min between backwash cycles.” -MWH)\n",
        "\n",
        "\n",
        "# Physics\n",
        "\n",
        "* At what steps we should treat/recycle residuals\n",
        "* Typically, waste washwater quantities are 8 m3/m2 (200 gal/ft2). To achieve a filter production efficiency of 95 percent, the UFRV would have to be at least 200 m3/m2 (5000 gal/ft2) a run. At a filtration rate of 12.2 m/h (5 gpm/ft2), a filter run would have to last at least 1000 min between backwash cycles. -MWH\n",
        "* The TSS/turbidity ratio for most water sources will vary between 1 and 2, with a typical value being about 1.4. For turbidities less than 10 NTU the ratio is nearly equal to 1. -MWH\n",
        "* Percentage of plant flow that each type of residual contributes to (Table 21-1 MWH)\n",
        "* Table 21-3 (Physical, chemical, and biological properties used to characterize water treatment plant residuals)\n",
        " \n",
        "\n",
        "Total mass of sludge (adapted fromm equation 21-13 in MWH):\n",
        "$$M=D_{coagulant}*E_{coagulant}+(Influent \\space turbidity-goal\\space turbidity)*E_{turbidity}+X$$\n",
        "\n",
        "$M=$ total sludge produced,  $kg/m^3$\n",
        "\n",
        "$D_{coagulant}=$ coagulant dose, $kg/m^3$\n",
        "\n",
        "$E_{coagulant/turbidity}=$ value used to estimate sludge quantities (from table 21-4 in MWH), kg sludge/kg coagulant/turbidity\n",
        "\n",
        "X= other coagulent aids\n",
        "\n",
        "from sow: uses ferric chloride and cationic polumer\n",
        "\n",
        "\"The specific gravity of the dry volatile solids is about 1.0 and dry fixed solids about 2.5.\" (DEU)\n",
        "\n",
        "\n"
      ]
    },
    {
      "cell_type": "code",
      "metadata": {
        "id": "iszcx9Maw0Br",
        "colab_type": "code",
        "colab": {}
      },
      "source": [
        "def wet_sludge_volume(sg_fixedsolids,sg_volatile,weight_total_dry,percent_solids,percent_volatilematter,temperature):\n",
        "  #sg fixed solids assumed from MWH \n",
        "  rho_water=ac.density_water(temperature)\n",
        "  sg_solids= 1/(((1-percent_volatilematter)/(sg_fixedsolids)+percent_volatilematter/(sg_volatile)))\n",
        "  sg_sludge=1/(((1-percent_solids)/(1)+percent_solids/(sg_solids)))\n",
        "  rho_sludge_wet=sg_sludge*rho_water\n",
        "  wet_sludge_volume=weight_total_dry/(rho_water*sg_sludge*percent_solids)\n",
        "  wet_sludge_volume.sg_solids=sg_solids\n",
        "  wet_sludge_volume.sg_sludge=sg_sludge\n",
        "  wet_sludge_volume.rho_sludge_wet=rho_sludge_wet\n",
        "  return wet_sludge_volume\n"
      ],
      "execution_count": 0,
      "outputs": []
    },
    {
      "cell_type": "code",
      "metadata": {
        "id": "eIRuo9JK9Rwr",
        "colab_type": "code",
        "colab": {
          "base_uri": "https://localhost:8080/",
          "height": 136
        },
        "outputId": "7131ed05-af00-4675-b3bb-5a7c2f240e01"
      },
      "source": [
        "def total_dry_sludge(flow,coag_type='None',coag_dose=0*u.mg/u.L,percent_al=0,\\\n",
        "                     influent_turbidity=0*u.NTU,goal_turbidity=0*u.NTU,removal_ratio=1.4*u.g/(u.m**3*u.NTU),\\\n",
        "                     polymer_dose=0*u.mg/u.L):\n",
        "  if coag_type =='Alum':\n",
        "    est_val=.26\n",
        "  elif coag_type =='Ferric sulfate':\n",
        "    est_val=.53\n",
        "  elif coag_type =='Ferric chloride':\n",
        "    est_val=.66\n",
        "  elif coag_type =='PACl':\n",
        "    est_val=.0489*percent_al\n",
        "  else: est_val=0\n",
        "  sludge_coag=(flow*coag_dose*est_val).to(u.kg/u.day)\n",
        "  sludge_turbidity=(flow*(influent_turbidity-goal_turbidity)*removal_ratio).to(u.kg/u.day)\n",
        "  sludge_polymer=(flow*polymer_dose*1).to(u.kg/u.day)\n",
        "#HOW DO WE ACCOUNT FOR TOC\n",
        "#influent_TOC=0*u.mg/u.L,goal_TOC=0*u.mg/u.L\n",
        "  sludge=sludge_coag+sludge_turbidity+sludge_polymer\n",
        "  sludge.total=sludge\n",
        "  sludge.coag=sludge_coag\n",
        "  sludge.turbidity=sludge_turbidity\n",
        "  sludge.polymer=sludge_polymer\n",
        "  return sludge\n",
        "\n",
        "test=total_dry_sludge(flow=.5*u.m**3/u.s,coag_type='Alum',coag_dose=30*u.mg/u.L,influent_turbidity=25*u.NTU,polymer_dose=1*u.mg/u.L)\n",
        "print(test)\n",
        "print(test.coag)\n",
        "print(test.turbidity)\n",
        "print(test.polymer)\n",
        "print(test.turbidity/test)\n",
        "print(test.polymer/test)\n",
        "print(test.coag/test)\n",
        "C_c_in_design = 4 * u.mg/u.L\n",
        "C_c_out_design = 3 * u.mg/u.L\n",
        "\n",
        "\n",
        "\n"
      ],
      "execution_count": 130,
      "outputs": [
        {
          "output_type": "stream",
          "text": [
            "1892 kilogram / day\n",
            "337 kilogram / day\n",
            "1512 kilogram / day\n",
            "43.2 kilogram / day\n",
            "0.7991 dimensionless\n",
            "0.02283 dimensionless\n",
            "0.1781 dimensionless\n"
          ],
          "name": "stdout"
        }
      ]
    },
    {
      "cell_type": "code",
      "metadata": {
        "id": "fXJ7jqIJEXBf",
        "colab_type": "code",
        "colab": {}
      },
      "source": [
        "#residual production table 21.2\n",
        "data_residuals={'Min':[(.08),(4),(2),(1.5),(.08),(.3),(2),(10)],'Max':[.3,8,5,10,.3,6,8,50],'Typical':[.1,'-', ('2 or 3'),(5-8),.1,4,6,(20-30)]}\n",
        "rows_resid=['Alum','Direct filtration backwash water','Filter backwash water','Ion exchange brine','Iron coagulation sludge','Lime-softening sludge','Microfiltration backwash water','Reverse osmosis concentrate']\n",
        "data_residproduction=pd.DataFrame(data=data_residuals,index=rows_resid)\n",
        "#physical properties reference table from table 21-5 asumin max values\n",
        "#alum, iron\n",
        "data_physproperties={'Min Volume':[.05,.06],'Max Volume':[.15,.15],'Min Total Solids':[.1,.25], 'Max Total solids':[4,3.5],'Min Dry Density':[1200*u.kg/u.m**3,1200*u.kg/u.m**3],'Max Dry Density': [1500*u.kg/u.m**3,1800*u.kg/u.m**3],'Min Wet Density': [1025*u.kg/u.m**3,1050*u.kg/u.m**3], 'Max Wet Density': [1100*u.kg/u.m**3,1200*u.kg/u.m**3],'Min Spec Resistance':[10110*u.m/u.kg,40440*u.m/u.kg],'Max Spec Resistance':[50550*u.m/u.kg,151650*u.m/u.kg]}\n",
        "rows=['Alum','Iron']\n",
        "data_chemconstit={'Min Solids(Al/Fe)':[15,4],'Max Solids(Al/Fe)':[40,21],'Min Solids(Silicates and inert mats)':[35,35],'max Solids(Silicates and inert mats)':[70,70],'Min solids(organics/volatile)':[10,5],'Max solids(organics)':[25,15]}\n",
        "physical_properties=pd.DataFrame(data=data_physproperties,index=rows)\n",
        "chemical_constituents=pd.DataFrame(data=data_chemconstit,index=rows)\n",
        "\n",
        "physical_properties"
      ],
      "execution_count": 0,
      "outputs": []
    },
    {
      "cell_type": "markdown",
      "metadata": {
        "id": "WVelNe91plUE",
        "colab_type": "text"
      },
      "source": [
        "# Table listing potential strategies to meet the dewatering constraints and treatment objectives \n",
        "\n",
        "\n",
        "| strategy | advantages  | disadvantages |\n",
        "|---|---|---|\n",
        "| Centrifuge | high speed dewatering | high energy input | \n",
        "| | 25% and 35% solids by weight.| standby unit needed in some cases |\n",
        "||works for all sludge types|very loud to run|\n",
        "||cost less to operate than filter press||\n",
        "| Plate and Frame Filter Press | stackable, cake-like solids | high potential for blockage and damage | \n",
        "| | 40% and 70% solids by weight | potential for leakage |\n",
        "| |can operate on a continual basis | |\n",
        "| Belt Filter Press | effective on high-volume waste streams  | difficult maintenance |  |\n",
        "| | 18% and 25% solids by weight. | suitable for high sludge moisture content|\n",
        "| | low energy and space taken up| |\n",
        "||10 year service life||\n",
        "\n",
        "#Table listing potential strategis to meet sludge handling constraints and objectives\n",
        "\n",
        "| strategy | advantages  | disadvantages |\n",
        "|---|---|---|\n",
        "|Sludge Detention Ponds| can further thicken sludge | 280,000 sq ft of land required|\n",
        "| | lowers volume of sludge in dumping site| high cost of $46000/day| \n",
        "|Sludge Processing Facility| converts hazardous waste into nonhazardous | high cost|\n",
        "| | has potential to create new materials | still in research phase, not usable|\n",
        "|Off-Site Dumping | lower cost | hazardous waste dumping | \n",
        "| | No extra land or equipment needed | highest volume of waste produced |\n"
      ]
    },
    {
      "cell_type": "markdown",
      "metadata": {
        "id": "J9dPZVMbOka9",
        "colab_type": "text"
      },
      "source": [
        "# Vendors and contact information file\n",
        "\n",
        "See this [tab delimited spreadsheet](https://raw.githubusercontent.com/monroews/4590FSP/master/vendors.txt).\n",
        "\n",
        "Add rows to the vendor spreadsheet as you find them. The sheet can easily be edited in Excel. Just make sure to save it as a tab delimited sheet. Push your changes to github so the entire class has access to the document.\n",
        "\n"
      ]
    },
    {
      "cell_type": "code",
      "metadata": {
        "id": "l35d0BODlEsW",
        "colab_type": "code",
        "colab": {}
      },
      "source": [
        "vendors = pd.read_csv('https://raw.githubusercontent.com/monroews/4590FSP/master/vendors.txt',sep='\\t')\n",
        "vendors.head()"
      ],
      "execution_count": 0,
      "outputs": []
    },
    {
      "cell_type": "markdown",
      "metadata": {
        "id": "-jwNKdrCOmux",
        "colab_type": "text"
      },
      "source": [
        "# Shared assumptions\n",
        "\n",
        "See this [python file, Fairmont.py](https://github.com/monroews/4590FSP/blob/master/Fairmont.py)\n",
        "\n",
        "Use this file to hold parameters that are in the SOW or elsewhere that\n",
        "influence the design of the entire plant. This provides an easy mechanism\n",
        "for all of us to share the same assumptions. Read the SOW to find sections that relate to your part of the design and enter all pertinent variables into [Fairmont.py](https://github.com/monroews/4590FSP/blob/master/Fairmont.py) and then push those changes to github.\n",
        "\n",
        "# Major Decisions\n",
        "\n",
        "Write several paragraphs describing the major decisions that you will need to make in order to create a design and outline a strategy for how you will obtain the necessary information to make those decisions.\n",
        "\n",
        "# Next Steps and Challenges\n",
        "\n",
        "Challenges include trying to reduce the volume of residuals within the plant. This should be done by concentrating wastes as much as possible. This leftover water should be recycled back into the front end of the plant. Also, considering what to do with the residuals can be difficult due to limited space availability of dumping in Los Angeles. Another challenge includes finding safe ways to deal with Arsenic in the residuals, since it is a hazardous waste, and presents itself in high concentrations through the plant inflow. The management of liquid waste streams is also going to be challenging, as our team will try to recycle as much water as possible, and the constituents in the return flow are difficult to manage. \n",
        "\n",
        "Next Steps include contacting the other teams to decide which treatment trains we should focus on removing residuals from, and researching more on the types of contaminants in typical inflow waters in the area. This could help our team in determining what types of chemicals and processes will be used in getting rid of contaminants, and the amount of residual flows we will need to focus on. \n",
        "We also will need to research the regulatory standards out in place for the contaminants we will be working to remove, in order to understand how and where they can be disposed of. \n",
        "Another large part of our next steps includes researching methods of equations for mass of wastes, figure out who manufacturers are of units that process the solids, and suggest centrifuges. reasonable task might be to look at the top options for consolidating solids in addition to centrifuges (other good options) see if you agree if that is the top choice. Identify the \"why\" of the  technology approach. Helping to think about the overall task, not necessarily this week.\n"
      ]
    },
    {
      "cell_type": "markdown",
      "metadata": {
        "id": "DXlB_I6ZOw2J",
        "colab_type": "text"
      },
      "source": [
        "# Design\n",
        "\n",
        "Begin writing the code to start your design. Define flow rates, mass rates, energy requirements, and any readily calculated dimensions, velocities, flows, etc."
      ]
    },
    {
      "cell_type": "code",
      "metadata": {
        "id": "IrwTrVM2hZqH",
        "colab_type": "code",
        "colab": {}
      },
      "source": [
        "print('The average flow to be treated at Fairmont is',fmt.q_ave.to(u.Mgal/u.day),'or')\n",
        "print('The maximum flow to be treated at Fairmont is',fmt.q_max.to(u.Mgal/u.day))\n",
        "specific_energy = (fmt.electricity_power/fmt.q_ave).to(u.J/u.L)\n",
        "temp = 15 * u.degC\n",
        "specific_potential_energy = (specific_energy / u.gravity / ac.density_water(temp)).to(u.m)\n",
        "print('The average amount of energy used per liter of water is expected to be',specific_energy,'or',specific_potential_energy,'of potential energy')"
      ],
      "execution_count": 0,
      "outputs": []
    },
    {
      "cell_type": "code",
      "metadata": {
        "id": "xJyfzmsRT4-r",
        "colab_type": "code",
        "colab": {}
      },
      "source": [
        "\n",
        "\n",
        "yearly_emulsion_polymer=165*u.ton/u.year\n",
        "avg_dose_emulsion_polymer=(yearly_emulsion_polymer/(fmt.q_ave)).to(u.mg/u.liter)\n",
        "\n",
        "dry_sludge_estimate=total_dry_sludge(flow=fmt.q_ave,coag_type='Ferric chloride',coag_dose=fmt.Fe_c_ave,influent_turbidity=fmt.turbidity_c_in_ave,goal_turbidity=fmt.turbidity_c_out_design,polymer_dose=avg_dose_emulsion_polymer)\n",
        "print('We estimate that the dry sludge produced will be', dry_sludge_estimate.total)\n",
        "\n",
        "\n"
      ],
      "execution_count": 0,
      "outputs": []
    },
    {
      "cell_type": "code",
      "metadata": {
        "id": "gNZdfKIaa0Uq",
        "colab_type": "code",
        "colab": {}
      },
      "source": [
        ""
      ],
      "execution_count": 0,
      "outputs": []
    },
    {
      "cell_type": "markdown",
      "metadata": {
        "id": "WfMWNqI0a1Ix",
        "colab_type": "text"
      },
      "source": [
        "Resources:\n",
        "\n",
        "https://www.epa.gov/sites/production/files/2015-11/documents/dw-treatment-residuals-mgmt-tech-report-sept-2011.pdf\n",
        "\n",
        "https://www.epa.gov/sites/production/files/2015-10/documents/method_1684_draft_2001.pdf\n",
        "\n",
        "http://web.deu.edu.tr/atiksu/ana58/c-7.pdf"
      ]
    },
    {
      "cell_type": "code",
      "metadata": {
        "id": "Y3s3GdddwMgV",
        "colab_type": "code",
        "colab": {}
      },
      "source": [
        ""
      ],
      "execution_count": 0,
      "outputs": []
    },
    {
      "cell_type": "code",
      "metadata": {
        "id": "xkBY8ejRwMd0",
        "colab_type": "code",
        "colab": {}
      },
      "source": [
        ""
      ],
      "execution_count": 0,
      "outputs": []
    },
    {
      "cell_type": "markdown",
      "metadata": {
        "id": "c3m7JsWgBYyK",
        "colab_type": "text"
      },
      "source": [
        "#**Questions:**\n",
        "\n",
        "How do we know what the sludge compostion is?\n",
        "For physical properties which are we using in the range?"
      ]
    },
    {
      "cell_type": "markdown",
      "metadata": {
        "id": "oQCBYMOKCdM6",
        "colab_type": "text"
      },
      "source": [
        "Extra code below:"
      ]
    },
    {
      "cell_type": "code",
      "metadata": {
        "id": "QbzYLL7spkUK",
        "colab_type": "code",
        "colab": {
          "base_uri": "https://localhost:8080/",
          "height": 34
        },
        "outputId": "d7adeec0-1c28-4fb2-c257-471df8f8dffd"
      },
      "source": [
        "#defining function for Specifiv gravity of sludge\n",
        "#eq 21.1\n",
        "#FIX THIS \n",
        "def spec_grav_sludge(weight_total_dry,sg_fixed,sg_volatile,weight_fixed,weight_volatile,temperature):\n",
        "  #the weights can be inputted as percents where total weight is = 1\n",
        "  rho=ac.density_water(temperature)\n",
        "  sg_sludge= weight_total_dry/(rho*(weight_fixed/(rho*sg_fixed)+weight_volatile/(rho*sg_volatile)))\n",
        "  sg_sludge.temp=temperature\n",
        "  sg_sludge.rho_water=rho\n",
        "  return sg_sludge\n",
        "sg_sludge=spec_grav_sludge(1,2.5,1,.9,.1,25*u.degC)\n",
        "\n",
        "def density_sludge_wet(sg_sludge):\n",
        "  rho_sludge=sg_sludge.rho_water*sg_sludge\n",
        "  return rho_sludge\n",
        "\n",
        "density=density_sludge_wet(sg_sludge)\n",
        "\n",
        "def wet_sludge_volume(weight_total_dry,sg_sludge,percent_solids):\n",
        "  wet_sludge_volume=weight_total_dry/(sg_sludge.rho_water*sg_sludge*percent_solids)\n",
        "  return wet_sludge_volume\n",
        "wsv=wet_sludge_volume(1,sg_sludge,.5)\n",
        "print (wsv)\n",
        "\n"
      ],
      "execution_count": 118,
      "outputs": [
        {
          "output_type": "stream",
          "text": [
            "0.0009227 meter ** 3 / kilogram\n"
          ],
          "name": "stdout"
        }
      ]
    },
    {
      "cell_type": "code",
      "metadata": {
        "id": "cKDyRy081WPt",
        "colab_type": "code",
        "colab": {}
      },
      "source": [
        "#mass and volume fom coag addition \n",
        "#inputs are going to be flow rate, raw water turbidity, dose\n",
        "#sludge solidce concenctraten, solids sg, TSS:turbidity (NTU)\n",
        "def sludge_coag(coag_type,dose,flow_rate):\n",
        "  if coag_type =='Alum':\n",
        "    est_val=.26\n",
        "  elif coag_type =='Ferric sulfate':\n",
        "    est_val=.53\n",
        "  elif coag_type =='Ferric chloride':\n",
        "    est_val=.66\n",
        "  #FIND A WAY TO INPUT THIS \n",
        "  #elif coag_type =='PACl'\n",
        "    #est_val=.0489*%Al\n",
        "  else: est_val=0\n",
        "  sludge_coag=flow_rate*dose*est_val\n",
        "  return sludge_coag.to(u.kg/u.day)\n",
        "\n",
        "sludge=sludge_coag('Alum',30*u.mg/u.L,.5*u.m**3/u.s)\n",
        "print(sludge)\n",
        "  \n",
        "def sludge_turbidity(flow,raw_water_turbidity,removal_ratio=1.4*u.g/(u.m**3*u.NTU)):\n",
        "  sludge_turbidity=flow*raw_water_turbidity*removal_ratio\n",
        "  return sludge_turbidity.to(u.kg/u.day)\n",
        "\n",
        "sludge_t=sludge_turbidity(.5*u.m**3/u.s,25*u.NTU)\n",
        "print(sludge_t)\n",
        "\n",
        "def sludge_polymer(flow,polymer_dose):\n",
        "  sludge_polymer=flow*polymer_dose*1\n",
        "  return sludge_polymer.to(u.kg/u.day)\n",
        "\n",
        "sludge_p=sludge_polymer(.5*u.m**3/u.s,1*u.mg/u.L)\n",
        "print(sludge_p)\n"
      ],
      "execution_count": 0,
      "outputs": []
    }
  ]
}