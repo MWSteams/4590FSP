{
  "nbformat": 4,
  "nbformat_minor": 0,
  "metadata": {
    "colab": {
      "name": "Residuals.ipynb",
      "provenance": [],
      "collapsed_sections": [],
      "include_colab_link": true
    },
    "kernelspec": {
      "name": "python3",
      "display_name": "Python 3"
    }
  },
  "cells": [
    {
      "cell_type": "markdown",
      "metadata": {
        "id": "view-in-github",
        "colab_type": "text"
      },
      "source": [
        "<a href=\"https://colab.research.google.com/github/MWSteams/4590FSP/blob/Residuals/Residuals.ipynb\" target=\"_parent\"><img src=\"https://colab.research.google.com/assets/colab-badge.svg\" alt=\"Open In Colab\"/></a>"
      ]
    },
    {
      "cell_type": "markdown",
      "metadata": {
        "id": "lZNgRSu1Uj8D",
        "colab_type": "text"
      },
      "source": [
        "# Residuals\n",
        "\n",
        "Authors: Madeline Keep, Izabella Kornak, Hannah Weinstein\n"
      ]
    },
    {
      "cell_type": "code",
      "metadata": {
        "id": "QjwM4ovYUokZ",
        "colab_type": "code",
        "outputId": "264302c1-afff-4388-9044-ee85eb287b00",
        "colab": {
          "base_uri": "https://localhost:8080/",
          "height": 768
        }
      },
      "source": [
        "!pip install aguaclara\n",
        "!pip install molmass"
      ],
      "execution_count": 16,
      "outputs": [
        {
          "output_type": "stream",
          "text": [
            "\u001b[?25hRequirement already satisfied: matplotlib in /usr/local/lib/python3.6/dist-packages (from aguaclara) (3.2.1)\n",
            "Requirement already satisfied: urllib3 in /usr/local/lib/python3.6/dist-packages (from aguaclara) (1.24.3)\n",
            "Collecting pint==0.8.1\n",
            "\u001b[?25l  Downloading https://files.pythonhosted.org/packages/1e/40/6938f7d544eef208a8183c2c80624289e8a4f4e0aea43f4658b9527077de/Pint-0.8.1.tar.gz (162kB)\n",
            "\r\u001b[K     |██                              | 10kB 19.2MB/s eta 0:00:01\r\u001b[K     |████                            | 20kB 22.3MB/s eta 0:00:01\r\u001b[K     |██████                          | 30kB 27.1MB/s eta 0:00:01\r\u001b[K     |████████                        | 40kB 23.0MB/s eta 0:00:01\r\u001b[K     |██████████                      | 51kB 14.2MB/s eta 0:00:01\r\u001b[K     |████████████▏                   | 61kB 13.9MB/s eta 0:00:01\r\u001b[K     |██████████████▏                 | 71kB 13.4MB/s eta 0:00:01\r\u001b[K     |████████████████▏               | 81kB 13.1MB/s eta 0:00:01\r\u001b[K     |██████████████████▏             | 92kB 11.6MB/s eta 0:00:01\r\u001b[K     |████████████████████▏           | 102kB 11.1MB/s eta 0:00:01\r\u001b[K     |██████████████████████▎         | 112kB 11.1MB/s eta 0:00:01\r\u001b[K     |████████████████████████▎       | 122kB 11.1MB/s eta 0:00:01\r\u001b[K     |██████████████████████████▎     | 133kB 11.1MB/s eta 0:00:01\r\u001b[K     |████████████████████████████▎   | 143kB 11.1MB/s eta 0:00:01\r\u001b[K     |██████████████████████████████▎ | 153kB 11.1MB/s eta 0:00:01\r\u001b[K     |████████████████████████████████| 163kB 11.1MB/s \n",
            "\u001b[?25hRequirement already satisfied: pandas in /usr/local/lib/python3.6/dist-packages (from aguaclara) (1.0.3)\n",
            "Requirement already satisfied: scipy in /usr/local/lib/python3.6/dist-packages (from aguaclara) (1.4.1)\n",
            "Requirement already satisfied: pyparsing!=2.0.4,!=2.1.2,!=2.1.6,>=2.0.1 in /usr/local/lib/python3.6/dist-packages (from matplotlib->aguaclara) (2.4.7)\n",
            "Requirement already satisfied: cycler>=0.10 in /usr/local/lib/python3.6/dist-packages (from matplotlib->aguaclara) (0.10.0)\n",
            "Requirement already satisfied: kiwisolver>=1.0.1 in /usr/local/lib/python3.6/dist-packages (from matplotlib->aguaclara) (1.2.0)\n",
            "Requirement already satisfied: numpy>=1.11 in /usr/local/lib/python3.6/dist-packages (from matplotlib->aguaclara) (1.18.4)\n",
            "Requirement already satisfied: python-dateutil>=2.1 in /usr/local/lib/python3.6/dist-packages (from matplotlib->aguaclara) (2.8.1)\n",
            "Requirement already satisfied: pytz>=2017.2 in /usr/local/lib/python3.6/dist-packages (from pandas->aguaclara) (2018.9)\n",
            "Requirement already satisfied: six in /usr/local/lib/python3.6/dist-packages (from cycler>=0.10->matplotlib->aguaclara) (1.12.0)\n",
            "Building wheels for collected packages: aguaclara, pint\n",
            "  Building wheel for aguaclara (setup.py) ... \u001b[?25l\u001b[?25hdone\n",
            "  Created wheel for aguaclara: filename=aguaclara-0.2.1-cp36-none-any.whl size=99466 sha256=631dfdba6689e43495f7b87dae49397651fcec530fa3fc2151dfcff9e83b974e\n",
            "  Stored in directory: /root/.cache/pip/wheels/7f/ff/4f/10d76e6a261d392aefbdf6ce8d3d5519e924dc334b102ca49b\n",
            "  Building wheel for pint (setup.py) ... \u001b[?25l\u001b[?25hdone\n",
            "  Created wheel for pint: filename=Pint-0.8.1-py2.py3-none-any.whl size=134156 sha256=897b57399c30776b89572dc0cdd4ecf2250daf453d200dd21bbd0aaba4963df4\n",
            "  Stored in directory: /root/.cache/pip/wheels/b4/56/36/7c4d6a4e3660e233b95e3b0482551915cb184abca0f93ee1dd\n",
            "Successfully built aguaclara pint\n",
            "Installing collected packages: pint, aguaclara\n",
            "Successfully installed aguaclara-0.2.1 pint-0.8.1\n",
            "Collecting molmass\n",
            "\u001b[?25l  Downloading https://files.pythonhosted.org/packages/12/2b/dd600a36b78bc9ebf9e8ff7c900150c7439af0c55504a4ab8213485cda94/molmass-2020.1.1-py3-none-any.whl (65kB)\n",
            "\u001b[K     |████████████████████████████████| 71kB 2.3MB/s \n",
            "\u001b[?25hInstalling collected packages: molmass\n",
            "Successfully installed molmass-2020.1.1\n",
            "Requirement already satisfied: aguaclara in /usr/local/lib/python3.6/dist-packages (0.2.1)\n",
            "Requirement already satisfied: pandas in /usr/local/lib/python3.6/dist-packages (from aguaclara) (1.0.3)\n",
            "Requirement already satisfied: scipy in /usr/local/lib/python3.6/dist-packages (from aguaclara) (1.4.1)\n",
            "Requirement already satisfied: matplotlib in /usr/local/lib/python3.6/dist-packages (from aguaclara) (3.2.1)\n",
            "Requirement already satisfied: pint==0.8.1 in /usr/local/lib/python3.6/dist-packages (from aguaclara) (0.8.1)\n",
            "Requirement already satisfied: urllib3 in /usr/local/lib/python3.6/dist-packages (from aguaclara) (1.24.3)\n",
            "Requirement already satisfied: pytz>=2017.2 in /usr/local/lib/python3.6/dist-packages (from pandas->aguaclara) (2018.9)\n",
            "Requirement already satisfied: numpy>=1.13.3 in /usr/local/lib/python3.6/dist-packages (from pandas->aguaclara) (1.18.4)\n",
            "Requirement already satisfied: python-dateutil>=2.6.1 in /usr/local/lib/python3.6/dist-packages (from pandas->aguaclara) (2.8.1)\n",
            "Requirement already satisfied: pyparsing!=2.0.4,!=2.1.2,!=2.1.6,>=2.0.1 in /usr/local/lib/python3.6/dist-packages (from matplotlib->aguaclara) (2.4.7)\n",
            "Requirement already satisfied: kiwisolver>=1.0.1 in /usr/local/lib/python3.6/dist-packages (from matplotlib->aguaclara) (1.2.0)\n",
            "Requirement already satisfied: cycler>=0.10 in /usr/local/lib/python3.6/dist-packages (from matplotlib->aguaclara) (0.10.0)\n",
            "Requirement already satisfied: six>=1.5 in /usr/local/lib/python3.6/dist-packages (from python-dateutil>=2.6.1->pandas->aguaclara) (1.12.0)\n",
            "Requirement already satisfied: molmass in /usr/local/lib/python3.6/dist-packages (2020.1.1)\n"
          ],
          "name": "stdout"
        }
      ]
    },
    {
      "cell_type": "code",
      "metadata": {
        "id": "ttJT8q_wYhAV",
        "colab_type": "code",
        "outputId": "e11b0f27-eb0d-4e39-8fa9-798166341386",
        "colab": {
          "base_uri": "https://localhost:8080/",
          "height": 411
        }
      },
      "source": [
        "from aguaclara.core.units import unit_registry as u\n",
        "import aguaclara as ac\n",
        "import matplotlib.pyplot as plt\n",
        "import numpy as np\n",
        "import pandas as pd\n",
        "import molmass as mol\n",
        "!wget https://raw.githubusercontent.com/monroews/4590FSP/master/Fairmont.py\n",
        "import Fairmont as fmt"
      ],
      "execution_count": 17,
      "outputs": [
        {
          "output_type": "stream",
          "text": [
            "--2020-05-15 23:38:43--  https://raw.githubusercontent.com/monroews/4590FSP/master/Fairmont.py\n",
            "Resolving raw.githubusercontent.com (raw.githubusercontent.com)... 151.101.0.133, 151.101.64.133, 151.101.128.133, ...\n",
            "Connecting to raw.githubusercontent.com (raw.githubusercontent.com)|151.101.0.133|:443... connected.\n",
            "HTTP request sent, awaiting response... 200 OK\n",
            "Length: 3052 (3.0K) [text/plain]\n",
            "Saving to: ‘Fairmont.py’\n",
            "\n",
            "\rFairmont.py           0%[                    ]       0  --.-KB/s               \rFairmont.py         100%[===================>]   2.98K  --.-KB/s    in 0s      \n",
            "\n",
            "2020-05-15 23:38:43 (38.9 MB/s) - ‘Fairmont.py’ saved [3052/3052]\n",
            "\n",
            "--2020-05-15 23:38:50--  https://raw.githubusercontent.com/monroews/4590FSP/master/Fairmont.py\n",
            "Resolving raw.githubusercontent.com (raw.githubusercontent.com)... 151.101.0.133, 151.101.64.133, 151.101.128.133, ...\n",
            "Connecting to raw.githubusercontent.com (raw.githubusercontent.com)|151.101.0.133|:443... connected.\n",
            "HTTP request sent, awaiting response... 200 OK\n",
            "Length: 3052 (3.0K) [text/plain]\n",
            "Saving to: ‘Fairmont.py.1’\n",
            "\n",
            "Fairmont.py.1       100%[===================>]   2.98K  --.-KB/s    in 0s      \n",
            "\n",
            "2020-05-15 23:38:50 (45.4 MB/s) - ‘Fairmont.py.1’ saved [3052/3052]\n",
            "\n"
          ],
          "name": "stdout"
        }
      ]
    },
    {
      "cell_type": "markdown",
      "metadata": {
        "id": "2SQpUtXCR5Xz",
        "colab_type": "text"
      },
      "source": [
        "# Task Definition\n",
        "\n",
        "Our goal is to develop a complete analysis of the composition, management, and disposal of residuals from the proposed treatment process.\n",
        "According to the Fairmont Treatment Plant’s Scope Of Work document, settled solids from the sedimentation process will be mechanically thickened in an on site facility. The preliminary evaluation suggests using equalization basins, rapid mixers, then settling tanks, and introducing coagulants to form and settle out thickened solids. The residual solids will then be further mechanically dewatered at a separate facility, then can be temporarily stored in a sludge hopper (with the capacity to store a minimum of a week’s worth of sludge) before they are transferred via truck to be disposed off-site. The leftover water will be recycled to the head of the Fairmont sedimentation plant. \n",
        "\n",
        "A preliminary evaluation has concluded that that centrifuges are most effective active dewatering technology. We will develop a design for the thickening facility and dewatering facility and evaluate their cost and effectiveness. Our thickening facility will take the collected sludge and thicken it, and also even out the flow before the sludge before it enters the dewatering facility. These are expected to be similar to the coagulation and flocculation tanks. The dewatering facility will be composed of centrifuges that will further dewater the sludge to create a sludge cake. There also must be a distribution mechanism for the sludge cake to be moved out of the facility.\n",
        "\n",
        "We will also develop a more exact estimate of the expected residual output of the process, and determine a minimum capacity for our residual treatment train.\n",
        "\n",
        "* Residuals management systems may limit overall plant capacity if not designed and operated properly\n",
        "\n",
        "The overall goal of Fairmont's residuals management team is to minimize the amount of hazardous waste generated, as hazardous waste is expensive to dispose of and carries a strict cradle-to-grave liability.\n",
        "\n",
        "\n",
        "\n"
      ]
    },
    {
      "cell_type": "markdown",
      "metadata": {
        "id": "WoGtXtBGQZr5",
        "colab_type": "text"
      },
      "source": [
        "# Executive Summary \n",
        "\n",
        "Our main constraints will rely on the amount of sludge that needs to be treated. Those calculations will depend on the treatment specifications of the plant. This will determine the characteristics of the sludge, and allow us to analyze potential solutions with concrete estimations of the costs of management. Our design solution will develop as we calculate these values\n",
        "\n"
      ]
    },
    {
      "cell_type": "markdown",
      "metadata": {
        "id": "Jonv4dYSQghA",
        "colab_type": "text"
      },
      "source": [
        "# Constraints\n",
        "\n",
        "##Fairmont Design Constraints\n",
        "*Constraint information taken from [Fairmont Sedimentation Plant Scope of Work Document](SOWlink) and [MWH](mwhlink)*\n",
        "\n",
        "* Design flow of the plant has a maximum of 720 cfs and with an average flow of 320 cfs\n",
        "* Treatment standards are defined in the below table: \n",
        "\n",
        "| Contaminant | Design Influent Water Quality  | Fairmont Sedimentation Plant Settled Water Goal | \n",
        "|---|---|---|\n",
        "| Arsenic (μg/L) | 55 | 10 |\n",
        "| TOC (mg/L)| 4 | 3 |\n",
        "|Turbidity (NTU) | 23 | 3 |\n",
        "\n",
        "* Centrifuge capacities\n",
        "* Unit filter rn volumes (UFRV)\n",
        "* Unit backwash volume (UBMV)\n",
        "* Transportation capacities (truck volumes and avaialbility)\n",
        "* Sludge characteristics\n",
        "* SOW estimates 144 wet tons of sludge after processing (for off site disposal\n",
        "\n",
        "\n",
        "##Costs\n",
        "* Energy costs\n",
        "* Transportation costs\n",
        "* Disposal costs\n",
        "\n",
        "##California Waste Discharge Requirements\n",
        "*Constraint information taken from [The California Water Code](https://www.easylawlookup.com/California-Law/Water-Code/pg-298/_easylookup.blp?data=WATER&sidfw=&site=EASY&location=78232&spon=&stype=P&sterm=+&smode=AND&sexact=ON&pgno=298&par=6901&dlevel=2#par_6901)\n",
        "and the\n",
        "[EPA](https://www.epa.gov/sites/production/files/2015-09/documents/train6-residuals.pdf). See appendix for more information.*\n",
        "\n",
        "* Disposal requirements\n",
        "  * Hazardous residuals must be disposed of in a hazardous waste landfill\n",
        "  * Liquid residuals cannot be disposed of in a land disposal unit. To discharge resdiuals directly to a body, the residuals must be non-hazardous and meet National Pollutant Discharge Elimination System (NPDES) discharge requirements.\n",
        "  * Any mixture or derivative of a hazardous waste is also characterized as a hazardous waste. \n",
        "\n",
        "\n",
        "* National TC (toxicity characteristic) for arsenic is 5 mg/L.\n",
        "* The technically based local limit for arsenic is 1 mg/L in San Jose, CA and 2 mg/L in Orange County, CA. \n",
        "* Health-based acceptable loading limits established under 40 CFR 503 are defined in the following table:\n",
        "\n",
        "\n",
        "Pollutant | Max. Conc (mg/kg) | Monthly Avg Conc (mg/kg) \n",
        "--- | --- | --- \n",
        "Arsenic| 75 |  41 \n",
        "Cadmium | 85 | 39 \n",
        "Copper | 4300 |  1500 \n",
        "Lead | 840 |  300 \n",
        "Mercury | 57 | 17 \n",
        "Molybdenum | 75 |  -- \n",
        "Nickel | 420 | 420 \n",
        "Selenium | 100 | 100 \n",
        "Zinc | 7500 | 2800 \n",
        "\n",
        "\n",
        "\n",
        "\n",
        "\n"
      ]
    },
    {
      "cell_type": "markdown",
      "metadata": {
        "id": "WVelNe91plUE",
        "colab_type": "text"
      },
      "source": [
        "# Potential strategies to meet the dewatering constraints and treatment objectives \n",
        "\n",
        "\n",
        "| strategy | advantages  | disadvantages |\n",
        "|---|---|---|\n",
        "| Centrifuge | high speed dewatering | high energy input | \n",
        "| | 25% and 35% solids by weight.| standby unit needed in some cases |\n",
        "||works for all sludge types|very loud to run|\n",
        "||cost less to operate than filter press||\n",
        "| Plate and Frame Filter Press | stackable, cake-like solids | high potential for blockage and damage | \n",
        "| | 40% and 70% solids by weight | potential for leakage |\n",
        "| |can operate on a continual basis | |\n",
        "| Belt Filter Press | effective on high-volume waste streams  | difficult maintenance |  |\n",
        "| | 18% and 25% solids by weight. | suitable for high sludge moisture content|\n",
        "| | low energy and space taken up| |\n",
        "||10 year service life||\n",
        "\n",
        "#Potential strategies to meet sludge handling constraints and objectives\n",
        "\n",
        "| strategy | advantages  | disadvantages |\n",
        "|---|---|---|\n",
        "|Sludge Detention Ponds| can further thicken sludge | 280,000 sq ft of land required|\n",
        "| | lowers volume of sludge in dumping site| high cost of $46000/day| \n",
        "|Sludge Processing Facility| converts hazardous waste into nonhazardous | high cost|\n",
        "| | has potential to create new materials | still in research phase, not usable|\n",
        "|Off-Site Dumping | lower cost | hazardous waste dumping | \n",
        "| | No extra land or equipment needed | highest volume of waste produced |\n"
      ]
    },
    {
      "cell_type": "markdown",
      "metadata": {
        "id": "EpyDaKk9yWsW",
        "colab_type": "text"
      },
      "source": [
        "# Shared assumptions\n",
        "\n",
        "See this [python file, Fairmont.py](https://github.com/monroews/4590FSP/blob/master/Fairmont.py)\n",
        "\n",
        "Use this file to hold parameters that are in the SOW or elsewhere that\n",
        "influence the design of the entire plant. This provides an easy mechanism\n",
        "for all of us to share the same assumptions. Read the SOW to find sections that relate to your part of the design and enter all pertinent variables into [Fairmont.py](https://github.com/monroews/4590FSP/blob/master/Fairmont.py) and then push those changes to github.\n"
      ]
    },
    {
      "cell_type": "markdown",
      "metadata": {
        "id": "-jwNKdrCOmux",
        "colab_type": "text"
      },
      "source": [
        "\n",
        "# Major Decisions\n",
        "\n",
        "*Write several paragraphs describing the major decisions that you will need to make in order to create a design and outline a strategy for how you will obtain the necessary information to make those decisions.*\n",
        "### Sludge Composition\n",
        "We can determine the sludge composition based on estimates of the treatment dosages from Fairmont Sedimentation Plant Scope of Work document and the other teams. We calculated the average dose of polymer using the yearly amount of 165 tons/year from the SOW. However, our calculations aslo require the amount of solids (or percent water composition) as well as the amount of volatile solids in the sludge. We are unable to calculate these exact numbers, and will make assumptions for their values.\n",
        "### Sludge Dewatering System\n",
        "Based on our research and calculations, we have to choose which dewatering system will work best in the Fairmont Plant. We chose centrifuges.\n",
        "### Polymer addition\n",
        "A polymer should be added for thickening, which will vary on a number of different factors. This includes the type of centrifuge used, size of the centrifuge, the type of influent solids, ionic characteristics of the sludge, water reintroduction potential, and polymer injection point. The dosing should always be based upon lbs/ton of solids coming in, which may fluctuate. We estimate a fluctuation of about one percent, and for this report have assumed a value of 5.5% to 6.5% percent solids.\n",
        "\n",
        "The centrisys centrifuge that we picked for this project handles a lot of energy, which can cause high turbulence and speed in the machine. This requires a robust, high strength, cross length polymer that will not detach from the solids mid-process. \n",
        "\n",
        "However, it is very important to keep in mind that robust polymer tends to only accept a short window of input solids concentration fluctuations. Many problems can arise if polymer is only tested at the perfect solids concentration. If a small swign occurs in the real world, the whole process can fall apart quickly. Therefore, solids concentration should be accurately measured and tested thoroughly to ensure that the best polymer is being used. Information regarding polymer reactions to fluctuations in solids concentration can be found online and tested in the lab. An additional consideration includes observing the impact that overdosing polymer has on coagulation potential of the mix, which can help determine if that polymer would be beneficial for use on highly fluctuating inflows. \n",
        "\n",
        "Ferric sludge, which is what is being dealt with at the Fairmont plant, is easy to dewater. This lets the plant get away with using cheaper polymer as compared to traditional blends. Overall, it is important to understand the balance of requiring more polymer for cheaper varieties vs less polymer for more expensive varieties to yield similar results. City projects tend to rely on cheaper polymers, however, it is very important to do lab testing and realize the effects of differen polymers. Testing involves spinning samples in a centrifuge with different polymer types and solids concentrations.  Do testing! Spin it out in a lab centrifuge. We recommend using the centrysis company to do testing because they can use their centrifuge to directly test Fairmont sludge. Additionally, cenrisys would not actually be selling the polymer product, which ensures an unbiased suggestion, and the best possible option. Contact information for a California based worker managing these operations is listed in the Vendor Information.\n",
        "\n",
        "The volume and beach angle of the centrifuge also impacts polymer addition requirements. Every increase in volume is multiplied by an increase in the G-force of the centrifuge, creating something known as a \"G Volume\". A higher G Volume allows for the flocs to settle better, which results in a lower polymer requirement. Beach angle, or steepness, also affects volume of the centrifuge. A steeper angle allows for a higher volume, and in turn, a higher settling rate. Keeping these in mind, it is very important to note changes in centrifuge design specifications, and how polymer dosing should be altered to account for that. \n",
        "\n",
        "As usual, it is important to understand the ionic properties of the sludge, as the whole point of the polymer is to attract flocs. Always choose anionic polymers with cationic flocs, and vice versa. Another consideration includes the form of the polymer. Really large facilities tend to use dry polymer as it is comes in pure solid form and requires less storage volume and transportation costs. Emulsion polymers, on the other hand, are already absorbed into an oil or liquid, which means that they are already unraveled and ready to apply. Dry polymers need a makedown system in order to properly unravel. If this step is not considered, the polymer may not be as effective as advertised, and there should be considerations toward loss in the whole system. \n",
        "\n",
        "This brings the conversation towards considering injection points into the system. Some option inlude right before centrifuging, directly into the feed pump, in the holding tank, or even in the equalization basins. This all is determined by the type of polymer used. Fragile polymers should be fed into the solution right before the centrifuge. Robust or dry polymers need more retention time, or time to mix, and so need to be inserted earlier in the process.\n",
        "\n",
        "With water treatment plants that deal with reintriduction of dewatering liquid into the head of the plant will probably require NSF approved polymer, which drastically limits the possibilities of polymers in the plant. Since this is one of our team's main goals in the plant, this will be an important consideration.\n",
        "\n",
        "\n",
        "###Centrifuges\n",
        "After evaluating the necessary amount of centrifuges, we will choose a layout and an number of centrifuges that accomdates our design flow and allows for continued treatment even if one centrifuge malfunctions. Essentially, the number of centrifuges will be the number required plus 1.\n",
        "\n",
        "### Sludge Handling System\n",
        "We also have to choose a strategy to handle dewatered sludge. Because it requires the least amount of extra land at the lowest cost, we chose off site dumping. Given that our goal arsenic concentration is 10 $\\mu$g/L, our sludge will not be hazardous.\n",
        "### Transportation and Storages\n",
        "We will have to determine how often we want to remove dewatered residuals from the plant (based on truck capacity and removal cost), and how much storage we will need to accomdate the residuals between removals.\n",
        "\n",
        "\n",
        "\n",
        "\n",
        "\n",
        "\n",
        "\n",
        "\n"
      ]
    },
    {
      "cell_type": "markdown",
      "metadata": {
        "id": "0_Y2kMPGvETF",
        "colab_type": "text"
      },
      "source": [
        "#Physics: Sludge Composition\n",
        "\n",
        "Our first step is determining the amount and composition of the sludge that is coming from the treatment. We have designed a Sludge class in python to determine the characteristics of the sludge based on the treatment.\n",
        "\n",
        "Using the total mass of sludge equation, (adapted fromm equation 21-13 in MWH), we can find the weight of the total dry sludge produced from the different parts of treatment:\n",
        "\n",
        "$$W_s=D_{coagulant}*E_{coagulant}+(\\Delta turbidity)*E_{turbidity}+TOC+X$$\n",
        "\n",
        "$W_s=$ total dry sludge produced,  $kg/m^3$\n",
        "\n",
        "$\\Delta turbidity=$ influent turbidity - goal turbidity\n",
        "\n",
        "$D_{coagulant}=$ coagulant dose, $kg/m^3$\n",
        "\n",
        "$E_{coagulant/turbidity}=$ value used to estimate sludge quantities (from table 21-4 in MWH), kg sludge/kg coagulant or turbidity\n",
        "\n",
        "TOC= total organic carbon $kg/m^3$\n",
        "\n",
        "X= other coagulant aids\n",
        "\n",
        "According to the Fairmont SOW, they are using ferric chloride as a coagulant with the addition of a cationic polymer (emulsion polymer), and are also removing turbidity and TOC. \n",
        "We are in the process of figuring out how to account for the TOC removed.\n",
        "\n",
        "We then adapted equation Equation 21-3 from MWH to estimate the volume of sludge.\n",
        "\n",
        "$$V=\\frac{W_s}{\\rho_{s1}*P_s}$$\n",
        "\n",
        "$V =$ volume of wet sludge, $m^3$\n",
        "\n",
        "$W_s=$ weight of total dry solids, kg\n",
        "\n",
        "\n",
        "\n",
        "$\\rho_{sl}=$ density of sludge, $kg/m^3$\n",
        "\n",
        "$P_s$ = percent solids expressed as a decimal\n",
        "\n",
        "To determine the specific gravity of sludge, we adapted Equation 21-1:\n",
        "\n",
        "$$\\frac{W_s}{S_s\\rho_w}=\\frac{W_f}{S_f\\rho_w}+\\frac{W_v}{S_v\\rho_w}$$\n",
        "\n",
        "$$\\frac{W_s}{\\rho_s}=\\frac{W_f}{\\rho_f}+\\frac{W_v}{\\rho_v}$$\n",
        "\n",
        "$W_s=$ weight of total dry solids, kg\n",
        "\n",
        "$\\rho_s=$ density of total solids, $kg/m^3$\n",
        "\n",
        "$W_f=$ weight of fixed solids(mineralmatter),kg\n",
        "\n",
        "$\\rho_f=$ density of fixed solids, $kg/m^3$\n",
        "\n",
        "$W_v=$ weight of volatile solids, kg\n",
        "\n",
        "$\\rho_v=$ density of volatile solids, $kg/m^3$\n",
        "\n",
        "With the assumption that the density of the dry volatile solids is about 1.0 and dry fixed solids about 2.5.(DEU) The weight of volatile solids will come as a percent of the calculated weight of removed coagulant. We are currently using averages based on coagulant type from MWH table 21-5 which is laid out as the chemical/physical properties tables coded below.\n",
        "###Percent Solids\n",
        "Right now we don't have information on the percent of solids. Without solids input, our code uses the average percent of solids based on the coagulant type from MWH table 21-5. Based on this table, we have assumed that the sludge will be .25% solids. This is 4% of the total dry solids per day, so the amount of solids will be in kg/day.\n",
        "From these equations, we created a sludge class to calculate the mass of dry sludge, and volume and mass of wet sludge.\n",
        "\n",
        "From this information, we can determine the ideal treatment plan and the design and performance data.\n",
        "\n",
        "![image.png](https://github.com/MWSteams/4590FSP/raw/master/Images/Residuals/MWHTable21-4.png)"
      ]
    },
    {
      "cell_type": "code",
      "metadata": {
        "id": "fXJ7jqIJEXBf",
        "colab_type": "code",
        "outputId": "74280a6a-39c0-4f4c-9a33-0ae35beb2180",
        "colab": {
          "base_uri": "https://localhost:8080/",
          "height": 753
        }
      },
      "source": [
        "#residual production table 21.2\n",
        "data_residuals={'Min':[(.08),(4),(2),(1.5),(.08),(.3),(2),(10)],'Max':[.3,8,5,10,.3,6,8,50],'Typical':[.1,'-', ('2 or 3'),(5-8),.1,4,6,(20-30)]}\n",
        "rows_resid=['Alum','Direct filtration backwash water','Filter backwash water','Ion exchange brine','Iron coagulation sludge','Lime-softening sludge','Microfiltration backwash water','Reverse osmosis concentrate']\n",
        "data_residproduction=pd.DataFrame(data=data_residuals,index=rows_resid)\n",
        "#physical properties reference table from table 21-5 asumin max values\n",
        "#alum, iron\n",
        "data_physproperties={'Min Volume':[.05,.06],'Max Volume':[.15,.15],'Min Total Solids':[.1,.25], 'Max Total solids':[4,3.5],'Min Dry Density':[1200*u.kg/u.m**3,1200*u.kg/u.m**3],'Max Dry Density': [1500*u.kg/u.m**3,1800*u.kg/u.m**3],'Min Wet Density': [1025*u.kg/u.m**3,1050*u.kg/u.m**3], 'Max Wet Density': [1100*u.kg/u.m**3,1200*u.kg/u.m**3],'Min Spec Resistance':[10110*u.m/u.kg,40440*u.m/u.kg],'Max Spec Resistance':[50550*u.m/u.kg,151650*u.m/u.kg]}\n",
        "rows=['Alum','Iron']\n",
        "data_chemconstit={'Min Solids(Al/Fe)':[15,4],'Max Solids(Al/Fe)':[40,21],'Min Solids(Silicates and inert mats)':[35,35],'max Solids(Silicates and inert mats)':[70,70],'Min solids(organics/volatile)':[10,5],'Max solids(organics)':[25,15]}\n",
        "physical_properties=pd.DataFrame(data=data_physproperties,index=rows)\n",
        "chemical_constituents=pd.DataFrame(data=data_chemconstit,index=rows)\n",
        "display(physical_properties)\n",
        "display(chemical_constituents)"
      ],
      "execution_count": 18,
      "outputs": [
        {
          "output_type": "display_data",
          "data": {
            "text/html": [
              "<div>\n",
              "<style scoped>\n",
              "    .dataframe tbody tr th:only-of-type {\n",
              "        vertical-align: middle;\n",
              "    }\n",
              "\n",
              "    .dataframe tbody tr th {\n",
              "        vertical-align: top;\n",
              "    }\n",
              "\n",
              "    .dataframe thead th {\n",
              "        text-align: right;\n",
              "    }\n",
              "</style>\n",
              "<table border=\"1\" class=\"dataframe\">\n",
              "  <thead>\n",
              "    <tr style=\"text-align: right;\">\n",
              "      <th></th>\n",
              "      <th>Min Volume</th>\n",
              "      <th>Max Volume</th>\n",
              "      <th>Min Total Solids</th>\n",
              "      <th>Max Total solids</th>\n",
              "      <th>Min Dry Density</th>\n",
              "      <th>Max Dry Density</th>\n",
              "      <th>Min Wet Density</th>\n",
              "      <th>Max Wet Density</th>\n",
              "      <th>Min Spec Resistance</th>\n",
              "      <th>Max Spec Resistance</th>\n",
              "    </tr>\n",
              "  </thead>\n",
              "  <tbody>\n",
              "    <tr>\n",
              "      <th>Alum</th>\n",
              "      <td>0.05</td>\n",
              "      <td>0.15</td>\n",
              "      <td>0.1</td>\n",
              "      <td>4</td>\n",
              "      <td>1200 kilogram / meter ** 3</td>\n",
              "      <td>1500 kilogram / meter ** 3</td>\n",
              "      <td>1025 kilogram / meter ** 3</td>\n",
              "      <td>1100 kilogram / meter ** 3</td>\n",
              "      <td>1.011e+04 meter / kilogram</td>\n",
              "      <td>5.055e+04 meter / kilogram</td>\n",
              "    </tr>\n",
              "    <tr>\n",
              "      <th>Iron</th>\n",
              "      <td>0.06</td>\n",
              "      <td>0.15</td>\n",
              "      <td>0.25</td>\n",
              "      <td>3.5</td>\n",
              "      <td>1200 kilogram / meter ** 3</td>\n",
              "      <td>1800 kilogram / meter ** 3</td>\n",
              "      <td>1050 kilogram / meter ** 3</td>\n",
              "      <td>1200 kilogram / meter ** 3</td>\n",
              "      <td>4.044e+04 meter / kilogram</td>\n",
              "      <td>1.516e+05 meter / kilogram</td>\n",
              "    </tr>\n",
              "  </tbody>\n",
              "</table>\n",
              "</div>"
            ],
            "text/plain": [
              "      Min Volume  ...         Max Spec Resistance\n",
              "Alum        0.05  ...  5.055e+04 meter / kilogram\n",
              "Iron        0.06  ...  1.516e+05 meter / kilogram\n",
              "\n",
              "[2 rows x 10 columns]"
            ]
          },
          "metadata": {
            "tags": []
          }
        },
        {
          "output_type": "display_data",
          "data": {
            "text/html": [
              "<div>\n",
              "<style scoped>\n",
              "    .dataframe tbody tr th:only-of-type {\n",
              "        vertical-align: middle;\n",
              "    }\n",
              "\n",
              "    .dataframe tbody tr th {\n",
              "        vertical-align: top;\n",
              "    }\n",
              "\n",
              "    .dataframe thead th {\n",
              "        text-align: right;\n",
              "    }\n",
              "</style>\n",
              "<table border=\"1\" class=\"dataframe\">\n",
              "  <thead>\n",
              "    <tr style=\"text-align: right;\">\n",
              "      <th></th>\n",
              "      <th>Min Solids(Al/Fe)</th>\n",
              "      <th>Max Solids(Al/Fe)</th>\n",
              "      <th>Min Solids(Silicates and inert mats)</th>\n",
              "      <th>max Solids(Silicates and inert mats)</th>\n",
              "      <th>Min solids(organics/volatile)</th>\n",
              "      <th>Max solids(organics)</th>\n",
              "    </tr>\n",
              "  </thead>\n",
              "  <tbody>\n",
              "    <tr>\n",
              "      <th>Alum</th>\n",
              "      <td>15</td>\n",
              "      <td>40</td>\n",
              "      <td>35</td>\n",
              "      <td>70</td>\n",
              "      <td>10</td>\n",
              "      <td>25</td>\n",
              "    </tr>\n",
              "    <tr>\n",
              "      <th>Iron</th>\n",
              "      <td>4</td>\n",
              "      <td>21</td>\n",
              "      <td>35</td>\n",
              "      <td>70</td>\n",
              "      <td>5</td>\n",
              "      <td>15</td>\n",
              "    </tr>\n",
              "  </tbody>\n",
              "</table>\n",
              "</div>"
            ],
            "text/plain": [
              "      Min Solids(Al/Fe)  ...  Max solids(organics)\n",
              "Alum                 15  ...                    25\n",
              "Iron                  4  ...                    15\n",
              "\n",
              "[2 rows x 6 columns]"
            ]
          },
          "metadata": {
            "tags": []
          }
        },
        {
          "output_type": "display_data",
          "data": {
            "text/html": [
              "<div>\n",
              "<style scoped>\n",
              "    .dataframe tbody tr th:only-of-type {\n",
              "        vertical-align: middle;\n",
              "    }\n",
              "\n",
              "    .dataframe tbody tr th {\n",
              "        vertical-align: top;\n",
              "    }\n",
              "\n",
              "    .dataframe thead th {\n",
              "        text-align: right;\n",
              "    }\n",
              "</style>\n",
              "<table border=\"1\" class=\"dataframe\">\n",
              "  <thead>\n",
              "    <tr style=\"text-align: right;\">\n",
              "      <th></th>\n",
              "      <th>Min Volume</th>\n",
              "      <th>Max Volume</th>\n",
              "      <th>Min Total Solids</th>\n",
              "      <th>Max Total solids</th>\n",
              "      <th>Min Dry Density</th>\n",
              "      <th>Max Dry Density</th>\n",
              "      <th>Min Wet Density</th>\n",
              "      <th>Max Wet Density</th>\n",
              "      <th>Min Spec Resistance</th>\n",
              "      <th>Max Spec Resistance</th>\n",
              "    </tr>\n",
              "  </thead>\n",
              "  <tbody>\n",
              "    <tr>\n",
              "      <th>Alum</th>\n",
              "      <td>0.05</td>\n",
              "      <td>0.15</td>\n",
              "      <td>0.1</td>\n",
              "      <td>4</td>\n",
              "      <td>1200 kilogram / meter ** 3</td>\n",
              "      <td>1500 kilogram / meter ** 3</td>\n",
              "      <td>1025 kilogram / meter ** 3</td>\n",
              "      <td>1100 kilogram / meter ** 3</td>\n",
              "      <td>1.011e+04 meter / kilogram</td>\n",
              "      <td>5.055e+04 meter / kilogram</td>\n",
              "    </tr>\n",
              "    <tr>\n",
              "      <th>Iron</th>\n",
              "      <td>0.06</td>\n",
              "      <td>0.15</td>\n",
              "      <td>0.25</td>\n",
              "      <td>3.5</td>\n",
              "      <td>1200 kilogram / meter ** 3</td>\n",
              "      <td>1800 kilogram / meter ** 3</td>\n",
              "      <td>1050 kilogram / meter ** 3</td>\n",
              "      <td>1200 kilogram / meter ** 3</td>\n",
              "      <td>4.044e+04 meter / kilogram</td>\n",
              "      <td>1.516e+05 meter / kilogram</td>\n",
              "    </tr>\n",
              "  </tbody>\n",
              "</table>\n",
              "</div>"
            ],
            "text/plain": [
              "      Min Volume  ...         Max Spec Resistance\n",
              "Alum        0.05  ...  5.055e+04 meter / kilogram\n",
              "Iron        0.06  ...  1.516e+05 meter / kilogram\n",
              "\n",
              "[2 rows x 10 columns]"
            ]
          },
          "metadata": {
            "tags": []
          }
        },
        {
          "output_type": "display_data",
          "data": {
            "text/html": [
              "<div>\n",
              "<style scoped>\n",
              "    .dataframe tbody tr th:only-of-type {\n",
              "        vertical-align: middle;\n",
              "    }\n",
              "\n",
              "    .dataframe tbody tr th {\n",
              "        vertical-align: top;\n",
              "    }\n",
              "\n",
              "    .dataframe thead th {\n",
              "        text-align: right;\n",
              "    }\n",
              "</style>\n",
              "<table border=\"1\" class=\"dataframe\">\n",
              "  <thead>\n",
              "    <tr style=\"text-align: right;\">\n",
              "      <th></th>\n",
              "      <th>Min Solids(Al/Fe)</th>\n",
              "      <th>Max Solids(Al/Fe)</th>\n",
              "      <th>Min Solids(Silicates and inert mats)</th>\n",
              "      <th>max Solids(Silicates and inert mats)</th>\n",
              "      <th>Min solids(organics/volatile)</th>\n",
              "      <th>Max solids(organics)</th>\n",
              "    </tr>\n",
              "  </thead>\n",
              "  <tbody>\n",
              "    <tr>\n",
              "      <th>Alum</th>\n",
              "      <td>15</td>\n",
              "      <td>40</td>\n",
              "      <td>35</td>\n",
              "      <td>70</td>\n",
              "      <td>10</td>\n",
              "      <td>25</td>\n",
              "    </tr>\n",
              "    <tr>\n",
              "      <th>Iron</th>\n",
              "      <td>4</td>\n",
              "      <td>21</td>\n",
              "      <td>35</td>\n",
              "      <td>70</td>\n",
              "      <td>5</td>\n",
              "      <td>15</td>\n",
              "    </tr>\n",
              "  </tbody>\n",
              "</table>\n",
              "</div>"
            ],
            "text/plain": [
              "      Min Solids(Al/Fe)  ...  Max solids(organics)\n",
              "Alum                 15  ...                    25\n",
              "Iron                  4  ...                    15\n",
              "\n",
              "[2 rows x 6 columns]"
            ]
          },
          "metadata": {
            "tags": []
          }
        }
      ]
    },
    {
      "cell_type": "code",
      "metadata": {
        "id": "u-fec8gCrs0u",
        "colab_type": "code",
        "colab": {}
      },
      "source": [
        "class sludge:\n",
        "  def __init__(self,flow):\n",
        "    self.flow=flow\n",
        "  def dry_sludge(self,coag_type='None',coag_dose=0*u.mg/u.L,percent_al=0,\\\n",
        "                     influent_turbidity=0*u.NTU,goal_turbidity=0*u.NTU,removal_ratio=1.4*u.g/(u.m**3*u.NTU),\\\n",
        "                     polymer_dose=0*u.mg/u.L):\n",
        "    if coag_type =='Alum':\n",
        "      est_val=.26\n",
        "    elif coag_type =='Ferric sulfate':\n",
        "      est_val=.53\n",
        "    elif coag_type =='Ferric chloride':\n",
        "      est_val=.66\n",
        "    elif coag_type =='PACl':\n",
        "      est_val=.0489*percent_al\n",
        "    else: est_val=0\n",
        "    self.coag_type=coag_type\n",
        "    dry_sludge_coag=(self.flow*coag_dose*est_val).to(u.kg/u.day)\n",
        "    dry_sludge_turbidity=(self.flow*(influent_turbidity-goal_turbidity)*removal_ratio).to(u.kg/u.day)\n",
        "    dry_sludge_polymer=(self.flow*polymer_dose*1).to(u.kg/u.day)\n",
        "  #HOW DO WE ACCOUNT FOR TOC\n",
        "  #influent_TOC=0*u.mg/u.L,goal_TOC=0*u.mg/u.L\n",
        "    dry_sludge=(dry_sludge_coag+dry_sludge_turbidity+dry_sludge_polymer).to(u.kg/u.day)\n",
        "    self.dry_sludge=dry_sludge \n",
        "    self.coag=dry_sludge_coag\n",
        "    self.turbidity=dry_sludge_turbidity\n",
        "    self.polymer=dry_sludge_polymer\n",
        "    return self.dry_sludge\n",
        "  def wet_sludge_volume(self,dry_sludge= 0 *u.kg/u.day, temp=15*u.degC,percent_solids=0,rho_fixed=(2.5*1000)*u.kg/(u.m**3),rho_volatile=(1*1000)*u.kg/(u.m**3),volatile_solids=0*u.kg/u.day):\n",
        "    #REPLACE THIS HERE WHEN WE FIND OUT WHAT THE PERCENT SOLIDS\n",
        "    #REPLACE THIS WITH THE ASSUMPTION THAT THE VOLATILE SOLIDS WEIGHT = DRY WEIGHT OF TOC SLUDGE\n",
        "    if dry_sludge==0*u.kg/u.day:\n",
        "      dry_sludge=self.dry_sludge\n",
        "    else: self.dry_sludge=dry_sludge\n",
        "    self.percent_solids=percent_solids\n",
        "    if percent_solids == 0:\n",
        "      if self.coag_type =='Alum':\n",
        "        percent_solids=((4+.1)/2)/100\n",
        "      elif self.coag_type =='Ferric sulfate' or self.coag_type =='Ferric chloride':\n",
        "        percent_solids=((3.5+.25)/2)/100\n",
        "      else: percent_solids= .15\n",
        "    #Add in volatile\n",
        "    self.volatile=volatile_solids\n",
        "    if self.volatile==0 *u.kg/u.day:\n",
        "      if self.coag_type =='Alum':\n",
        "        self.volatile=(((10+25)/2)/100)*self.coag\n",
        "      elif self.coag_type =='Ferric sulfate' or self.coag_type =='Ferric chloride':\n",
        "        self.volatile=(((5+15)/2)/100)*self.coag\n",
        "      else: self.volatile=.1*self.coag \n",
        "    else: self.volatile=volatile_solids\n",
        "    rho_water=ac.density_water(temp)\n",
        "    rho_solids=(self.dry_sludge/(((self.dry_sludge-self.volatile)/(rho_fixed))+(self.volatile/(rho_volatile))))\n",
        "    rho_sludge_wet=(1/((percent_solids/rho_solids)+(1-percent_solids)/rho_water))\n",
        "    self.rho_sludge_wet=rho_sludge_wet\n",
        "    self.rho_solids=rho_solids\n",
        "    wet_sludge_volume=self.dry_sludge/(self.rho_sludge_wet*percent_solids)\n",
        "    self.wet_sludge_volume=wet_sludge_volume\n",
        "    return self.wet_sludge_volume.to(u.m**3/u.day)\n",
        "  def wet_sludge_mass(self):\n",
        "    wet_sludge_mass=self.wet_sludge_volume*self.rho_sludge_wet\n",
        "    self.wet_sludge_mass=wet_sludge_mass\n",
        "    return self.wet_sludge_mass.to(u.kg/u.day)\n",
        "  def dry_sludge_volume(self):\n",
        "    dry_sludge_volume=self.dry_sludge/self.rho_solids\n",
        "    self.dry_sludge_volume=dry_sludge_volume\n",
        "    return self.dry_sludge_volume\n",
        "  \n",
        "\n",
        "#test=sludge(flow=320*u.feet**3/u.s)\n",
        "\n",
        "#test.dry_sludge(coag_type='Alum',coag_dose=30*u.mg/u.L,influent_turbidity=25*u.NTU,polymer_dose=1*u.mg/u.L)\n",
        "#print(test.dry_sludge)\n",
        "#print(test.dry_sludge)\n",
        "#test.wet_sludge_volume(temp=15*u.degC,percent_solids=.05,rho_fixed=(2.65*1000)*u.kg/(u.m**3),rho_volatile=(1.05*1000)*u.kg/(u.m**3),volatile_solids=.06*test.dry_sludge)\n",
        "#print(test.rho_sludge_wet)\n",
        "#print(test.wet_sludge_volume)\n",
        "#print(test.coag)\n",
        "#(test.dry_sludge/(320*u.ft**3/u.sec)).to_base_units()\n",
        "#volatile_solids=.06*test.drysludge)\n",
        "#test.density_sludge_wet"
      ],
      "execution_count": 0,
      "outputs": []
    },
    {
      "cell_type": "markdown",
      "metadata": {
        "id": "Prcsk9Ehw9D5",
        "colab_type": "text"
      },
      "source": [
        "#Estimated Sludge Composition\n",
        "Using the following variables, we estimated the sludge composition using the sludge class.\n",
        "* Flow rate = design average flow rate = 320 cfs\n",
        "* Influent turbidity = 23 NTU\n",
        "* Goal Effluent turbidity = 3 NTU\n",
        "* Ferric chloride dose = 13.14 mg/L \n",
        "* Polymer dose = 0.5235 mg/L\n",
        "* Percent solids = 2 % (based on table 21-5 to make percent of water treated make sense)\n",
        "\n",
        "According to the SOW, the dewatering and thickening process should produce 144 wet tons of residuals. From this number, we calculated the percent of water that must be removed in that process.\n"
      ]
    },
    {
      "cell_type": "code",
      "metadata": {
        "id": "So3LRmfoHQou",
        "colab_type": "code",
        "outputId": "9dcfbddc-55e0-4e16-93c6-0002c76eed36",
        "colab": {
          "base_uri": "https://localhost:8080/",
          "height": 105
        }
      },
      "source": [
        "#our estimate\n",
        "percent_solids=.02\n",
        "sludge_estimate=sludge(flow=fmt.q_ave)\n",
        "dry_sludge=sludge_estimate.dry_sludge(coag_type='Ferric chloride',coag_dose=fmt.Fe_c_ave,influent_turbidity=fmt.turbidity_c_in_design,goal_turbidity=fmt.turbidity_c_out_design,polymer_dose=fmt.emulsionpolymer_c_ave)\n",
        "wet_sludge_volume=sludge_estimate.wet_sludge_volume(percent_solids=percent_solids)\n",
        "wet_sludge_mass=sludge_estimate.wet_sludge_mass()\n",
        "dry_sludge_volume=sludge_estimate.dry_sludge_volume()\n",
        "print('We estimate that the dry sludge mass produced will be', dry_sludge.to(u.US_ton/u.second),'or',dry_sludge.to(u.kg/u.second))\n",
        "\n",
        "print('We estimate that the wet sludge volume will be', wet_sludge_volume.to(u.gallon/u.second),'or', wet_sludge_volume.to(u.L/u.second))\n",
        "print('We estimate that the wet sludge mass will be', wet_sludge_mass.to(u.ton/u.second),'or', wet_sludge_mass.to(u.kg/u.second))\n",
        "print('The sludge will be', ((wet_sludge_volume/fmt.q_ave).to_base_units())*100, 'percent of the flow of the plant')\n",
        "\n"
      ],
      "execution_count": 32,
      "outputs": [
        {
          "output_type": "stream",
          "text": [
            "We estimate that the dry sludge mass produced will be 0.0003715 US_ton / second or 0.337 kilogram / second\n",
            "We estimate that the wet sludge volume will be 4.404 gallon / second or 16.67 liter / second\n",
            "We estimate that the wet sludge mass will be 0.01858 US_ton / second or 16.85 kilogram / second\n",
            "The sludge will be 0.184 dimensionless percent of the flow of the plant\n"
          ],
          "name": "stdout"
        }
      ]
    },
    {
      "cell_type": "markdown",
      "metadata": {
        "id": "Y2VAipbcs9FF",
        "colab_type": "text"
      },
      "source": [
        "#Preliminary Schematic and Process Descriptions\n",
        "![image.png](https://github.com/MWSteams/4590FSP/raw/master/Images/Residuals/treatment_train_diagram.png)\n",
        "\n",
        "1.   Equalization Basins: provide consistent influent flow to downstream processes by retaining high flow fluctuations\n",
        "  *   require aeration and mixing (due to the additional retention time)\n",
        "2.   Rapid mixing: efficiently spread coagulant to the water (either mechannically or turbulence cauusing channels)\n",
        "  *  We are also in the process of determining the neccesity of having rapid mix/sedimentation in our plant.\n",
        "3.   Clarifier: removes solid particulates and suspended solids from liquid (discharges fromt the bottom of the tank sludge and scum that floats to the surface)\n",
        "4.  Thickener/ Settling tank: increases solids concentration and decrease free water (minimizes load on downstream processes)\n",
        "5. Holding Tank: Holds condensed sludge to maintain centrifugation loading rates\n",
        "6. Centrifuge: further thickens solids into a cake\n",
        "  *  Need to use a decanter centrifuge because this decreases the water content of the sludge. \n",
        "  *  Treatment rate: 100-200 gpm\n",
        "  *  There is continuous recovery of the clarified liquid (centrate) by overflow, and continuous gravity discharge of dewatered solids.\n",
        "\n",
        "7.  Throughout the process: reintroduces water to the head of the plant\n",
        "  * This dewatered sludge is not expected to carry heavy contaiminants, as the main purpose of this plant is to treat arsenic laden waters, through the application of ferric chloride.  \n",
        "\n",
        "8. Off site disposal: solid cakes will be be hauled off in trucks to be disposed of off site (solids concentration of 20-30% to be held off site then applied to landfills)\n",
        "\n",
        "\n",
        "thickening->chemical conditioning-> centrifuge-> disposal"
      ]
    },
    {
      "cell_type": "markdown",
      "metadata": {
        "id": "ewjqcRNwH0nU",
        "colab_type": "text"
      },
      "source": [
        "#Centrifuges\n",
        "\n",
        "Information and images from [EPA](https://nepis.epa.gov/Exe/ZyNET.exe/2000CAKU.txt?ZyActionD=ZyDocument&Client=EPA&Index=1986%20Thru%201990&Docs=&Query=&Time=&EndTime=&SearchMethod=1&TocRestrict=n&Toc=&TocEntry=&QField=&QFieldYear=&QFieldMonth=&QFieldDay=&UseQField=&IntQFieldOp=0&ExtQFieldOp=0&XmlQuery=&File=D%3A%5CZYFILES%5CINDEX%20DATA%5C86THRU90%5CTXT%5C00000000%5C2000CAKU.txt&User=ANONYMOUS&Password=anonymous&SortMethod=h%7C-&MaximumDocuments=1&FuzzyDegree=0&ImageQuality=r75g8/r75g8/x150y150g16/i425&Display=hpfr&DefSeekPage=x&SearchBack=ZyActionL&Back=ZyActionS&BackDesc=Results%20page&MaximumPages=1&ZyEntry=1)\n",
        "\n",
        "Solid bowl centrifuges designed for large-scale municipal use are generally 25 feet long and 14 feet wide. These dimensions account for the rotating assembly, backdrive, and adjacent motor. Centrifuges used to dewater sludge can accomodate flow rates of 100-200 gallons per minute (gpm), while centrifuges used to thicken sludge can accomodate flow rates of 400-600 gpm. \n",
        "\n",
        "Solid bowl centrifuges come in two designs, a concurrent centrifuge and a countercurrent centrifuge. \n",
        "\n",
        "| Concurrent Centrifuge | Countercurrent Centrifuge  |\n",
        "|---|---|\n",
        "|Sludge feed introduced into rotating assembly though cylindrical end of bowl |Sludge feed introduced through conical end of bowl |\n",
        "|Helix orientation draws settle solids in direction of sludge feed towards conical portion of centrifuge|Helix draws solids against direction of sludge feed toward sludge discharge| \n",
        "\n",
        "\n",
        "a) Solid bowl concurrent centrifuge\n",
        "\n",
        "\n",
        "![alt text](https://github.com/MWSteams/4590FSP/raw/master/Images/Residuals/%20Solid_bowl_concurrent_centrifuge.png)\n",
        "\n",
        "b) Solid bowl countercurrent centrifuge \n",
        "\n",
        "\n",
        "![alt text](https://github.com/MWSteams/4590FSP/raw/master/Images/Residuals/Solid_bowl_countercurrent_centrifuge.png)\n",
        "\n",
        "Solid bowl centrifuges can be either low-speed (operate at gravitational forces less than 1100 g) or high-speed (operate at gravitational forces greater than 1100 g). \n",
        "\n",
        "| strategy | advantages  | disadvantages |\n",
        "|---|---|---|\n",
        "| Low-speed centrifuge | Lower energy consumption | Lower performance | \n",
        "| | Less noisy | Lower capacity to dewater sludge |\n",
        "||Lower maintenance costs|Need polymer conditioning|\n",
        "| High-speed centrifuge | Increased performance | Higher energy consumption | \n",
        "| | Increased capacity to dewater sludge (speeds up process) | Higher maintenance costs |\n",
        "| |Reduces need for polymer conditioning | |\n",
        "\n",
        "Although high-speed centrifuges have a higher maintence cost, they are now being constructed from improved wear-resistant materials which has lowered the amount of maintenance these centrifuges require. As such, high-speed centrifuges have gained popularity in the realm of municipal residual dewatering.  \n",
        "\n",
        "\n",
        "\n",
        "\n"
      ]
    },
    {
      "cell_type": "markdown",
      "metadata": {
        "id": "-sgyetTuo5li",
        "colab_type": "text"
      },
      "source": [
        "#Available Centrifuges\n",
        "\n",
        "##Thickening\n",
        "###[Centrisys Sludge Thickener THK350](https://cdn2.hubspot.net/hubfs/4299619/6-1%20Literature/EQUIPMENT%20THK%20Series%20Centrisys.pdf)\n",
        "* Does not require polymer addition for thickening\n",
        "* Maximum feed flow rate: 320 gpm\n",
        "* Average feed flow rate: 265 gpm\n",
        "* Performance:\n",
        "\n",
        "| Sludge Thickener | Performance | Waste Activated Sludge  |\n",
        "|---|---|---|\n",
        "| No polymer (kW/gpm)|  Min | .07 |\n",
        "| - |  Max | .18 |\n",
        "| -|  Avg | .12 |\n",
        "| With polymer (kW/gpm)|  Min | .05 |\n",
        "| -|  Min | .15 |\n",
        "| -|  Min | .08 |\n",
        "|Avg Solids Recovery (% wt/wt)| w polymer| 99\n",
        "|-| w/out polymer| 93\n",
        "|Avg Cake Solids  (% total solids)| w polymer| 5-10\n",
        "|-| w/out polymer| 4-7\n",
        "\n",
        "###[Flottweg X5E-4](https://www.flottweg.com/fileadmin/user_upload/data/pdf-downloads/Klaerschlamm-EN.pdf)\n",
        "* Flow capacity: 130-300 gpm\n",
        "* Dimensions: 162“ x 61“ x 48“\n",
        "* Motor for bowl drive: 45 – 75 kW \n",
        "* motor for scroll drive: 15 kW\n",
        "\n",
        "## Dewatering\n",
        "### [Centrisys Dewatering Centrifuge CS26-4](https://cdn2.hubspot.net/hubfs/4299619/6-1%20Literature/EQUIPMENT%20CS%20Series%20Centrisys.pdf)\n",
        "\n",
        "* Flow capacity: 200 to 400 gpm\n",
        "* 225'' x 56'' x 62''\n",
        "* Up to 40% cake dryness\n",
        "\n",
        "\n",
        "###[Flottweg C5E-4](https://www.flottweg.com/fileadmin/user_upload/data/pdf-downloads/Klaerschlamm-EN.pdf)\n",
        "* Flow capacity: 200-400 gpm\n",
        "* Dimensions: 161“ x 60“ x 48“\n",
        "* Motor for bowl drive: 45 – 75 kW \n",
        "* motor for scroll drive: 15 kW\n",
        "\n",
        "###[Hiller DecaPress DP66](http://www.hiller-us.com/decapress.php)\n",
        "* Flow capacity: up to 300 gpm\n",
        "* Bowl ratio: 4.2:1 L/D\n",
        "* dimensions: 26” x 109”\n",
        "* Max G: 3,100 “G”\n",
        "\n",
        "\n"
      ]
    },
    {
      "cell_type": "markdown",
      "metadata": {
        "id": "wc4XSSMYgvK9",
        "colab_type": "text"
      },
      "source": [
        "#Centrifuge Considerations\n",
        "##Design Considerations\n",
        "*Information from [SNF](https://www.snf.us/wp-content/uploads/2014/08/Sludge-Dewatering-E.pdf) and [Hiller US](http://www.hiller-us.com/sludge-dewatering.php)*\n",
        "* Plant flow rate\n",
        "* Sludge produced per day\n",
        "* Seasonal variations\n",
        "* Volume of thickened solids to be dewatered\n",
        "* Range of solids concentration\n",
        "* Operation hours and times\n",
        "* Capacity to handle future increases and chenages in sewer discharges\n",
        "\n",
        "\n",
        "The percent solids removal depends on:\n",
        "1. feed rate\n",
        "2. surface area to depth ratio\n",
        "3. design efficiency\n",
        "4. feed solids concentration\n",
        "5. solids characteristics\n",
        "6. coagulant dose\n",
        "\n",
        "\n",
        "##Centrifuge Capacities\n",
        "Below, we calculated the daily maximum and minimum capacity of both the thickening and dewatering centrifuges.\n",
        "\n",
        "To calculate the number of centrifuges needed to either thicken or dewater Fairmont's residuals, we divide the maximum daily flow rate of the Fairmont WTP by the the maximum daily flow rate one centrifuge can handle.\n",
        "###Thickened Sludge Volume\n",
        "Typically, thickening centrifuges thicken the sludge from 1-2% solids to 3-5% solids, reducing the volume by a proportional percentage of water. We determined the thickened sludge volume and water percentage from this relationship. Since \n",
        "$$v_0*p_0=v_1*p_1$$\n",
        "$v_0=$ initial volume of unprocessed sludge\n",
        "\n",
        "$p_0=$ initial percent of solids\n",
        "\n",
        "$v_1=$ thickened sludge volume\n",
        "\n",
        "$p_1=$ thickened sludge percent solids\n",
        "###Dewatered Sludge Volume\n",
        "Mechanical dewatering will produce a sludge with an approximately 10 to 60 percent solids content. Using the same volume/percent sludge relationship, we calculated the dewatered sludge volume. From the dewatered sludge volume, we caluclated the dewatered sludge mass.\n",
        "###Dewatering goals\n",
        "According to the SOW, the dewatering and thickening process should produce 144 wet tons of residuals.\n",
        "\n",
        "\n"
      ]
    },
    {
      "cell_type": "code",
      "metadata": {
        "id": "TPOFxkV1gjRR",
        "colab_type": "code",
        "outputId": "720f6dfb-6256-43f6-9fd7-83bc6980190f",
        "colab": {
          "base_uri": "https://localhost:8080/",
          "height": 241
        }
      },
      "source": [
        "#Thickened sludge volume\n",
        "thickening_percent_min=.03\n",
        "thickening_percent_max=.05\n",
        "thickened_sludge_min=(percent_solids/thickening_percent_max)*wet_sludge_volume\n",
        "thickened_sludge_max=(percent_solids/thickening_percent_min)*wet_sludge_volume\n",
        "print('The sludge will be thickened to a volume between', thickened_sludge_min,'and',thickened_sludge_max)\n",
        "\n",
        "#Centrifuge Thickening capacity (400-600 gpm)\n",
        "thickening_capacity_min=400*(u.gallon/u.minute)\n",
        "thickening_capacity_max=600*(u.gallon/u.minute)\n",
        "print('An estimate for the amount of residuals that a centrifuge can thicken is', thickening_capacity_min.to(u.gallon/u.day), 'to', thickening_capacity_max.to(u.gallon/u.day))\n",
        "\n",
        "#Number of centrifuges for thickening \n",
        "min_sludge_min_centrifuges_thickening=(thickened_sludge_min/thickening_capacity_max).to_base_units()\n",
        "min_sludge_max_centrifuges_thickening=(thickened_sludge_min/thickening_capacity_min).to_base_units()\n",
        "max_sludge_min_centrifuges_thickening=(thickened_sludge_max/thickening_capacity_max).to_base_units()\n",
        "max_sludge_max_centrifuges_thickening=(thickened_sludge_max/thickening_capacity_min).to_base_units()\n",
        "\n",
        "print('The number of centrifuges needed to thicken residuals will range from', np.ceil(min(min_sludge_min_centrifuges_thickening, min_sludge_max_centrifuges_thickening, max_sludge_min_centrifuges_thickening, max_sludge_max_centrifuges_thickening)),'to',np.ceil(max(min_sludge_min_centrifuges_thickening, min_sludge_max_centrifuges_thickening, max_sludge_min_centrifuges_thickening, max_sludge_max_centrifuges_thickening)))\n",
        "\n",
        "#Centrifuge Dewatering capacity(100-200 gpm)\n",
        "dewatering_capacity_min=85*(u.gallon/u.minute) #we should settle on the exact value we want the min gpm to be\n",
        "dewatering_capacity_max=200*(u.gallon/u.minute) \n",
        "print('An estimate for the amount of residuals that a centrifuge can dewater is', dewatering_capacity_min.to(u.gallon/u.day), 'to', dewatering_capacity_max.to(u.gallon/u.day))\n",
        "\n",
        "#Number of centrifuges for dewatering\n",
        "min_sludge_min_centrifuges_dewatering=(thickened_sludge_min/dewatering_capacity_max).to_base_units()\n",
        "min_sludge_max_centrifuges_dewatering=(thickened_sludge_min/dewatering_capacity_min).to_base_units()\n",
        "max_sludge_min_centrifuges_dewatering=(thickened_sludge_max/dewatering_capacity_max).to_base_units()\n",
        "max_sludge_max_centrifuges_dewatering=(thickened_sludge_max/dewatering_capacity_min).to_base_units()\n",
        "\n",
        "print('The number of centrifuges needed to dewater residuals will range from', np.ceil(min(min_sludge_min_centrifuges_dewatering, min_sludge_max_centrifuges_dewatering, max_sludge_min_centrifuges_dewatering, max_sludge_max_centrifuges_dewatering)),'to',np.ceil(max(min_sludge_min_centrifuges_dewatering, min_sludge_max_centrifuges_dewatering, max_sludge_min_centrifuges_dewatering, max_sludge_max_centrifuges_dewatering)))\n",
        "\n",
        "dewatering_percent_min=.1\n",
        "dewatering_percent_max=.6\n",
        "dewatered_sludge_min=(thickening_percent_min/dewatering_percent_max)*thickened_sludge_max\n",
        "dewatered_sludge_max=(thickening_percent_max/dewatering_percent_min)*thickened_sludge_min\n",
        "print('The sludge will be thickened to a volume between', dewatered_sludge_min,'and',dewatered_sludge_max)\n",
        "\n",
        "\n"
      ],
      "execution_count": 21,
      "outputs": [
        {
          "output_type": "stream",
          "text": [
            "The sludge will be thickened to a volume between 576.1 meter ** 3 / day and 960.2 meter ** 3 / day\n",
            "An estimate for the amount of residuals that a centrifuge can thicken is 5.76e+05 gallon / day to 8.64e+05 gallon / day\n",
            "The number of centrifuges needed to thicken residuals will range from 1 dimensionless to 1 dimensionless\n",
            "An estimate for the amount of residuals that a centrifuge can dewater is 1.224e+05 gallon / day to 2.88e+05 gallon / day\n",
            "The number of centrifuges needed to dewater residuals will range from 1 dimensionless to 3 dimensionless\n",
            "The sludge will be thickened to a volume between 48.01 meter ** 3 / day and 288.1 meter ** 3 / day\n",
            "The sludge will be thickened to a volume between 576.1 meter ** 3 / day and 960.2 meter ** 3 / day\n",
            "An estimate for the amount of residuals that a centrifuge can thicken is 5.76e+05 gallon / day to 8.64e+05 gallon / day\n",
            "The number of centrifuges needed to thicken residuals will range from 1 dimensionless to 1 dimensionless\n",
            "An estimate for the amount of residuals that a centrifuge can dewater is 1.224e+05 gallon / day to 2.88e+05 gallon / day\n",
            "The number of centrifuges needed to dewater residuals will range from 1 dimensionless to 3 dimensionless\n",
            "The sludge will be thickened to a volume between 48.01 meter ** 3 / day and 288.1 meter ** 3 / day\n"
          ],
          "name": "stdout"
        }
      ]
    },
    {
      "cell_type": "markdown",
      "metadata": {
        "id": "DnMgrZSYRi78",
        "colab_type": "text"
      },
      "source": [
        "# Dewatering Time\n",
        "\n",
        "Below, we calculate the amount of time each centrifuge must run per day in order to dewater the inputted residuals.\n",
        "\n",
        "\n",
        "\n"
      ]
    },
    {
      "cell_type": "code",
      "metadata": {
        "id": "28qiEwTFRkzS",
        "colab_type": "code",
        "outputId": "2548bb2b-d480-4abb-caf0-9cd08b178fe5",
        "colab": {
          "base_uri": "https://localhost:8080/",
          "height": 71
        }
      },
      "source": [
        "#Amount of time it takes for centrifuges to dewater sludge \n",
        "dewatering_time_fast=(thickened_sludge_max/dewatering_capacity_max).to(u.minute/u.day)\n",
        "dewatering_time_slow=(thickened_sludge_min/dewatering_capacity_min).to(u.minute/u.day)\n",
        "print('The daily time it will take each centrifuge to dewater sludge varies from', dewatering_time_fast.to(u.hour/u.day),'to',dewatering_time_slow.to(u.hour/u.day)/3,'depending on whether one or three centrifuges are utilized') #dividing by three because 3 centrifgues are required when slowest flow rate is fed into centrifuge"
      ],
      "execution_count": 22,
      "outputs": [
        {
          "output_type": "stream",
          "text": [
            "The daily time it will take each centrifuge to dewater sludge varies from 21.14 hour / day to 9.947 hour / day depending on whether one or three centrifuges are utilized\n",
            "The daily time it will take each centrifuge to dewater sludge varies from 21.14 hour / day to 9.947 hour / day depending on whether one or three centrifuges are utilized\n"
          ],
          "name": "stdout"
        }
      ]
    },
    {
      "cell_type": "markdown",
      "metadata": {
        "id": "OQAs4yi-UwP3",
        "colab_type": "text"
      },
      "source": [
        "#Loading Trucks\n",
        "Fairmont WTP will utilize 6,500 gallon tankers to transport dewatered residuals\n",
        "to disposal sites. The code below calculates the number of trucks needed to transport residuals per day based on our estimate of dry sludge"
      ]
    },
    {
      "cell_type": "code",
      "metadata": {
        "id": "BY4tOd7pV4K4",
        "colab_type": "code",
        "outputId": "02a7ae71-5d04-4fea-9a01-69feeedad47f",
        "colab": {
          "base_uri": "https://localhost:8080/",
          "height": 51
        }
      },
      "source": [
        "#must decide if we are doing this calculation in terms of gallons or tons of sludge\n",
        "truck_capacity=6500*u.gallon\n",
        "trucks_per_day=(dry_sludge_volume/truck_capacity).to_base_units() #must accounts for % liquids that remain in addition to dry sludge volume\n",
        "print('The number of trucks required to haul dewatered residuals off site is',np.ceil(trucks_per_day.to(1/u.day))) "
      ],
      "execution_count": 23,
      "outputs": [
        {
          "output_type": "stream",
          "text": [
            "The number of trucks required to haul dewatered residuals off site is 1 / day\n",
            "The number of trucks required to haul dewatered residuals off site is 1 / day\n"
          ],
          "name": "stdout"
        }
      ]
    },
    {
      "cell_type": "markdown",
      "metadata": {
        "id": "n3evD5Ye_8l_",
        "colab_type": "text"
      },
      "source": [
        "#Dry Solids Estimates and Variables\n",
        "In addition to inorganic chemicals including metal salts and polyelectrolites, a large variety of organic-based polymers are employed as coagulant aids either independently or in concert with the inorganic coagulation aids. A large number of different formulations of polymer beads, polyacrylamide, polyamines, and polydimethylammonium chloride are listed in ANSI/NSF Standard 60 and can be used to promote the removal of turbidity from drinking water. Some of these chemicals are also referred to as filtration aids, but function the same way as coagulants. Residuals are generated as underflow discharges from the sedimentation tanks. These residuals contain source water contaminants, as well as chemicals added to aid solid removal and formulation impurities in the added treatment chemicals.\n",
        "Below is a chart formed from data aquired by field testing regarding polymer addition and solids cpncentration output as it relates to three different polymers.\n",
        "\n",
        "![image.png](https://github.com/MWSteams/4590FSP/raw/master/Images/Residuals/polymer%20addition%20cake%20dryness.png)\n",
        "\n",
        "The graph below can also help us get an idea of how torque can influence the cake dryness of centrifugal solids. Fortunately, most centrifuges have a torque meter that can easily be read,which allows for a direct estimate of the cake dryness values. As the cake dryness increases, it requires more torque to convey or scroll the cake up through the conical section and out the cake discharge ports. \n",
        "\n",
        "![image.png](https://github.com/MWSteams/4590FSP/raw/master/Images/Residuals/torque%20cake%20dryness.png)\n",
        "\n",
        "The ANDRITZ separation company tested out three different polymers, and discovered that Polydyne C 9530 produced the best results, as highlighted in the blue graph.\n",
        "Furthermore, the highest cake dryness was produced with this polymer, at a dryness of 22%, which will meet our goal of 20 to 30 percent. This dryness was acheieved with the addition of 25 active pounds per ton of total solids. This graph also shows us that additional polymer dosing increases cake dryness, but these positive results taper off at a certain dosage. This research can help us determine the amount of polymer that should be added to our process.\n",
        "\n",
        "The below graph, also provided by research produced by the ANDRITZ company, shows the effects of throughput on solids production. In these terms, throughput represents the amount of sludge passing through the centrifuge. As the throughput increases, the differential speed between the bowl and scroll must be increased to maintain the solids capture rate. This reduction in sludge retention time causes the cake dryness to\n",
        "decrease as seen in the below graph. Therefore, we can deduce that, though centrifuges can pass 200 gallons per minute, this may not be a flow rate which can help meet our cake dryness goal. As presented below, the percent total solids decreased drmatically between 85 and 115 GPM, and continued to taper downwards. At throughputs between 50 and 85 GPM, therre was not a very noticeable difference in effectiveness of dewatering. \n",
        "![image.png](https://github.com/MWSteams/4590FSP/raw/master/Images/Residuals/throughput%20cake%20dryness.png)\n"
      ]
    },
    {
      "cell_type": "markdown",
      "metadata": {
        "id": "__jJjiFMSLVe",
        "colab_type": "text"
      },
      "source": [
        "# Hazardous Waste Disposal Costs\n",
        "\n",
        "\n",
        "Information from [Management of Water Treatment Plant Residuals](https://nepis.epa.gov/Exe/ZyNET.exe/30004PI0.TXT?ZyActionD=ZyDocument&Client=EPA&Index=1995+Thru+1999&Docs=&Query=&Time=&EndTime=&SearchMethod=1&TocRestrict=n&Toc=&TocEntry=&QField=&QFieldYear=&QFieldMonth=&QFieldDay=&IntQFieldOp=0&ExtQFieldOp=0&XmlQuery=&File=D%3A%5Czyfiles%5CIndex%20Data%5C95thru99%5CTxt%5C00000003%5C30004PI0.txt&User=ANONYMOUS&Password=anonymous&SortMethod=h%7C-&MaximumDocuments=1&FuzzyDegree=0&ImageQuality=r75g8/r75g8/x150y150g16/i425&Display=hpfr&DefSeekPage=x&SearchBack=ZyActionL&Back=ZyActionS&BackDesc=Results%20page&MaximumPages=1&ZyEntry=1&SeekPage=x&ZyPURL)\n",
        "\n",
        "The costs associated with hazardous waste disposal include tranportation costs, hazardous waste landfill costs, and stabilization costs. If wastes fail to pass the Paint Filter Liquids Test, they must be stabalized before they are disposed of. \n",
        "\n",
        "A PLF test is EPA-approved and is used to determine whether or not there are free liquids in a sample of waste. The use of centrifuges at the Fairmont WTP are to ensure that its residuals will pass the PLF test so that additional costs are not incurred when disposing of the residuals. \n",
        "\n",
        "**Hazardous Waste Disposal**\n",
        "\n",
        "Y=[Disposal]+[Transportation]\n",
        "\n",
        "Y=[200X]+{[7.9+0.22(Z)][X]}\n",
        "\n",
        "where\n",
        "\n",
        "Y=$/year\n",
        "\n",
        "X=tons of residuals disposed of/year\n",
        "\n",
        "Z=transportation distance (200-500 miles)\n",
        "\n",
        "\n",
        "**Stabilization and Hazardous Waste Disposal**\n",
        "\n",
        "Y=[Stabilization/Disposal]+[Transportation]\n",
        "\n",
        "Y=[400X]+{[7.9+0.22(Z)][X]}\n",
        "\n",
        "where\n",
        "\n",
        "Y=$/year\n",
        "\n",
        "X=tons of residuals disposed of/year\n",
        "\n",
        "Z=transportation distance (200-500 miles)\n",
        "\n",
        "\n",
        "**Additional information from a vender:**\n",
        "\n",
        "Vendor: Clean Management Environmental Group, Inc\n",
        "\n",
        "The man I spoke with estimated that in n Los Angelos, CA, one can expect to pay disposal costs of $350 per ton of hazardous waste or $3200 per load transported in a freight train, which has the capacity to hold 20 tons of residuals. "
      ]
    },
    {
      "cell_type": "code",
      "metadata": {
        "id": "SkwZPSKlX9Fl",
        "colab_type": "code",
        "colab": {}
      },
      "source": [
        "#Hazardous waste disposal costs\n",
        "\n",
        "#distance=350*u.mile #average of 200 and 500 miles\n",
        "#tons_residuals_disposed_per_year=6\n",
        "\n",
        "#hazardous_disposal_cost=(200+7.9+(0.22*distance))*tons_residuals_disposed_per_year\n"
      ],
      "execution_count": 0,
      "outputs": []
    },
    {
      "cell_type": "markdown",
      "metadata": {
        "id": "HyK3hSJX3x96",
        "colab_type": "text"
      },
      "source": [
        "# Electricity Usage and Costs\n",
        "\n",
        "Through a conversation with Jared Swanson, the primary contact for the California region of Centrisys Operations, I got exact estimates for lifecycle costs and electricity requirements for each centrifuge of our process.\n",
        "\n",
        "Electricity consumption varies by centrifuge loading, and so can best be calculated by kWh/gpm. Optimal loading varies between 0.1 to 0.2 kWh/gpm. Highest energy consumption, which comes from very low flow in a typically large centrifuge, can be expected to reach 0.3 kWh/gpm. For our purposes, we will calculate for each scenario, in order to be prepared for future requirements. Our baseline throughput will remain at 150 gpm. These calculations can and should be altered to reflect the changing throughput values within the plant.\n",
        "\n"
      ]
    },
    {
      "cell_type": "code",
      "metadata": {
        "id": "LexPSWQp85DV",
        "colab_type": "code",
        "outputId": "cc911336-7c89-445e-b9fd-13888ccb7963",
        "colab": {
          "base_uri": "https://localhost:8080/",
          "height": 139
        }
      },
      "source": [
        "Optimal_loading = .1*u.kilowatt_hour/(u.gallons/u.minute)\n",
        "Typical_loading = .2*u.kilowatt_hour/(u.gallons/u.minute)\n",
        "Poor_loading = .3*u.kilowatt_hour/(u.gallons/u.minute)\n",
        "\n",
        "throughput = 150*(u.gallons/u.minute) #change this value to flow rate we decide on \n",
        "hours_perday = 8/u.day #change this to reflect actual time\n",
        "\n",
        "optimal_energy = Optimal_loading * throughput * hours_perday \n",
        "# optimal_cost = cost_per_kWh*optimal_energy\n",
        "print ('The optimal energy requirement for each working centrifuge would be', optimal_energy)\n",
        "# print ('The cost of running a centrifuge for eight hours per day at optimal loading is approximated at', optimal_cost )\n",
        "\n",
        "typical_energy = Typical_loading * throughput * hours_perday\n",
        "print ('The typical expected energy requirement would be', typical_energy)\n",
        "\n",
        "poor_energy = Poor_loading * throughput * hours_perday\n",
        "print ('The worst typical energy requirement would be', poor_energy)\n",
        "\n",
        "\n"
      ],
      "execution_count": 25,
      "outputs": [
        {
          "output_type": "stream",
          "text": [
            "The optimal energy requirement for each working centrifuge would be 120 kilowatt_hour / day\n",
            "The typical expected energy requirement would be 240 kilowatt_hour / day\n",
            "The worst typical energy requirement would be 360 kilowatt_hour / day\n",
            "The optimal energy requirement for each working centrifuge would be 120 kilowatt_hour / day\n",
            "The typical expected energy requirement would be 240 kilowatt_hour / day\n",
            "The worst typical energy requirement would be 360 kilowatt_hour / day\n"
          ],
          "name": "stdout"
        }
      ]
    },
    {
      "cell_type": "markdown",
      "metadata": {
        "id": "ZOdRNMc2KUtl",
        "colab_type": "text"
      },
      "source": [
        "Based on these energy requirements, and the assumption that the average cost of electricity is 10 cents/kWh, the cost of electricity can be calculated from the following code:"
      ]
    },
    {
      "cell_type": "code",
      "metadata": {
        "id": "zj9yi-P232cU",
        "colab_type": "code",
        "outputId": "7e0ede54-1980-4722-f127-43b0908bd01e",
        "colab": {
          "base_uri": "https://localhost:8080/",
          "height": 119
        }
      },
      "source": [
        "#Electricity costs ($/kWh*kWh)\n",
        "\n",
        "low_electricity_cost=0.1*u.dollar/u.kilowatt_hour*optimal_energy\n",
        "print ('The optimal electricity cost to dewater residuals is', low_electricity_cost)\n",
        "\n",
        "average_electricity_cost=0.1*u.dollar/u.kilowatt_hour*typical_energy\n",
        "print ('The typical electricity cost to dewater residuals is', average_electricity_cost)\n",
        "\n",
        "high_electricity_cost=0.1*u.dollar/u.kilowatt_hour*poor_energy\n",
        "print ('The highest electricity cost to dewater resdiuals is', high_electricity_cost)\n"
      ],
      "execution_count": 26,
      "outputs": [
        {
          "output_type": "stream",
          "text": [
            "The optimal electricity cost to dewater residuals is 12 dollar / day\n",
            "The typical electricity cost to dewater residuals is 24 dollar / day\n",
            "The highest electricity cost to dewater resdiuals is 36 dollar / day\n",
            "The optimal electricity cost to dewater residuals is 12 dollar / day\n",
            "The typical electricity cost to dewater residuals is 24 dollar / day\n",
            "The highest electricity cost to dewater resdiuals is 36 dollar / day\n"
          ],
          "name": "stdout"
        }
      ]
    },
    {
      "cell_type": "markdown",
      "metadata": {
        "id": "JeE0Nv7B4ZiC",
        "colab_type": "text"
      },
      "source": [
        "# Centrifuge and Maintenance Costs\n",
        "\n",
        "Average operating and maintenance costs for centrifuges vary with hours of use. We will base this on our calculated vaue of 8 hrs of ontime per day for one centrifuge. Every 10,000-15,000 hours, a minor maintencance issue costing between $10,000 and $25,000 may be expected, and must be accounted for towards costs. Every 20,000-30,000 hours, a \"bowl and scroll\" fix will cost betwwen 40k-80k dollars. This will not happen every year, but it is still beneficial to budget for that.\n",
        "\n",
        "We rounded for average values in our calculations, at $18,000 every 12,000 hours, and $60,000 every 25,000 hours of opeeration. Again, these values are based off of centrifuge usage of 8 hours per day, and a given average lifecycle estimate of 20 years."
      ]
    },
    {
      "cell_type": "code",
      "metadata": {
        "id": "sRXUgeyTJlkE",
        "colab_type": "code",
        "outputId": "ed0f54cb-20f2-4088-9b0a-fa9c50758e0a",
        "colab": {
          "base_uri": "https://localhost:8080/",
          "height": 71
        }
      },
      "source": [
        "#Maintenance Costs\n",
        "\n",
        "days_minor = (12000/8) *u.day  #This value shows us how many days to expect before a minor failure occurs\n",
        "days_major = (25000/8) *u.day  #This value shows us how many days to expect before a minor failure occurs\n",
        "cost_minor = 18000*u.dollar\n",
        "cost_major = 60000*u.dollar\n",
        "days_peryear = 365*u.day/u.year\n",
        "\n",
        "annual_cost = ((cost_minor * days_peryear /days_minor) + (cost_major * (days_peryear/days_major))).to(u.dollar/u.year)\n",
        "print('The annual maintenace costs of one centrifuge would be approximated at', annual_cost)"
      ],
      "execution_count": 27,
      "outputs": [
        {
          "output_type": "stream",
          "text": [
            "The annual maintenace costs of one centrifuge would be approximated at 1.139e+04 dollar / year\n",
            "The annual maintenace costs of one centrifuge would be approximated at 1.139e+04 dollar / year\n"
          ],
          "name": "stdout"
        }
      ]
    },
    {
      "cell_type": "markdown",
      "metadata": {
        "id": "J9dPZVMbOka9",
        "colab_type": "text"
      },
      "source": [
        "# Vendors and contact information file\n",
        "\n",
        "See this [tab delimited spreadsheet](https://raw.githubusercontent.com/monroews/4590FSP/master/vendors.txt).\n",
        "\n",
        "Add rows to the vendor spreadsheet as you find them. The sheet can easily be edited in Excel. Just make sure to save it as a tab delimited sheet. Push your changes to github so the entire class has access to the document.\n",
        "\n"
      ]
    },
    {
      "cell_type": "code",
      "metadata": {
        "id": "l35d0BODlEsW",
        "colab_type": "code",
        "outputId": "37d619db-ee59-4863-95a5-a9812206e996",
        "colab": {
          "base_uri": "https://localhost:8080/",
          "height": 887
        }
      },
      "source": [
        "vendors = pd.read_csv('https://raw.githubusercontent.com/monroews/4590FSP/master/vendors.txt',sep='\\t')\n",
        "vendors.head()"
      ],
      "execution_count": 28,
      "outputs": [
        {
          "output_type": "execute_result",
          "data": {
            "text/html": [
              "<div>\n",
              "<style scoped>\n",
              "    .dataframe tbody tr th:only-of-type {\n",
              "        vertical-align: middle;\n",
              "    }\n",
              "\n",
              "    .dataframe tbody tr th {\n",
              "        vertical-align: top;\n",
              "    }\n",
              "\n",
              "    .dataframe thead th {\n",
              "        text-align: right;\n",
              "    }\n",
              "</style>\n",
              "<table border=\"1\" class=\"dataframe\">\n",
              "  <thead>\n",
              "    <tr style=\"text-align: right;\">\n",
              "      <th></th>\n",
              "      <th>item description</th>\n",
              "      <th>vendor</th>\n",
              "      <th>contact first name</th>\n",
              "      <th>contact last name</th>\n",
              "      <th>vendor website</th>\n",
              "      <th>product info</th>\n",
              "      <th>date of contact</th>\n",
              "      <th>who made the contact</th>\n",
              "      <th>notes</th>\n",
              "    </tr>\n",
              "  </thead>\n",
              "  <tbody>\n",
              "    <tr>\n",
              "      <th>0</th>\n",
              "      <td>plate settlers</td>\n",
              "      <td>MRI</td>\n",
              "      <td>still</td>\n",
              "      <td>pending</td>\n",
              "      <td>http://www.meurerresearch.com/</td>\n",
              "      <td>http://www.meurerresearch.com/literaturemedia/...</td>\n",
              "      <td>4/16/2020</td>\n",
              "      <td>Ian Cullings</td>\n",
              "      <td>NaN</td>\n",
              "    </tr>\n",
              "    <tr>\n",
              "      <th>1</th>\n",
              "      <td>sludge removal system</td>\n",
              "      <td>MRI</td>\n",
              "      <td>still</td>\n",
              "      <td>pending</td>\n",
              "      <td>http://www.meurerresearch.com/</td>\n",
              "      <td>http://www.meurerresearch.com/products/hoseles...</td>\n",
              "      <td>4/16/2020</td>\n",
              "      <td>Ian Cullings</td>\n",
              "      <td>NaN</td>\n",
              "    </tr>\n",
              "    <tr>\n",
              "      <th>2</th>\n",
              "      <td>plate settlers</td>\n",
              "      <td>Monore Environmental</td>\n",
              "      <td>still</td>\n",
              "      <td>pending</td>\n",
              "      <td>https://www.monroeenvironmental.com/</td>\n",
              "      <td>https://www.monroeenvironmental.com/water-and-...</td>\n",
              "      <td>4/16/2020</td>\n",
              "      <td>Ian Cullings</td>\n",
              "      <td>NaN</td>\n",
              "    </tr>\n",
              "    <tr>\n",
              "      <th>3</th>\n",
              "      <td>sludge removal system</td>\n",
              "      <td>Monore Environmental</td>\n",
              "      <td>still</td>\n",
              "      <td>pending</td>\n",
              "      <td>https://www.monroeenvironmental.com/</td>\n",
              "      <td>http://www.monroeenvironmental.com/water-and-w...</td>\n",
              "      <td>4/16/2020</td>\n",
              "      <td>Ian Cullings</td>\n",
              "      <td>NaN</td>\n",
              "    </tr>\n",
              "    <tr>\n",
              "      <th>4</th>\n",
              "      <td>plate settler with hopper</td>\n",
              "      <td>Parkson</td>\n",
              "      <td>still</td>\n",
              "      <td>pending</td>\n",
              "      <td>https://www.parkson.com/</td>\n",
              "      <td>https://www.parkson.com/products/lamella-ecoflow</td>\n",
              "      <td>4/16/2020</td>\n",
              "      <td>Ian Cullings</td>\n",
              "      <td>Includes sloped sludge hopper in design</td>\n",
              "    </tr>\n",
              "  </tbody>\n",
              "</table>\n",
              "</div>"
            ],
            "text/plain": [
              "            item description  ...                                    notes\n",
              "0             plate settlers  ...                                      NaN\n",
              "1      sludge removal system  ...                                      NaN\n",
              "2             plate settlers  ...                                      NaN\n",
              "3      sludge removal system  ...                                      NaN\n",
              "4  plate settler with hopper  ...  Includes sloped sludge hopper in design\n",
              "\n",
              "[5 rows x 9 columns]"
            ]
          },
          "metadata": {
            "tags": []
          },
          "execution_count": 14
        },
        {
          "output_type": "execute_result",
          "data": {
            "text/html": [
              "<div>\n",
              "<style scoped>\n",
              "    .dataframe tbody tr th:only-of-type {\n",
              "        vertical-align: middle;\n",
              "    }\n",
              "\n",
              "    .dataframe tbody tr th {\n",
              "        vertical-align: top;\n",
              "    }\n",
              "\n",
              "    .dataframe thead th {\n",
              "        text-align: right;\n",
              "    }\n",
              "</style>\n",
              "<table border=\"1\" class=\"dataframe\">\n",
              "  <thead>\n",
              "    <tr style=\"text-align: right;\">\n",
              "      <th></th>\n",
              "      <th>item description</th>\n",
              "      <th>vendor</th>\n",
              "      <th>contact first name</th>\n",
              "      <th>contact last name</th>\n",
              "      <th>vendor website</th>\n",
              "      <th>product info</th>\n",
              "      <th>date of contact</th>\n",
              "      <th>who made the contact</th>\n",
              "      <th>notes</th>\n",
              "    </tr>\n",
              "  </thead>\n",
              "  <tbody>\n",
              "    <tr>\n",
              "      <th>0</th>\n",
              "      <td>plate settlers</td>\n",
              "      <td>MRI</td>\n",
              "      <td>still</td>\n",
              "      <td>pending</td>\n",
              "      <td>http://www.meurerresearch.com/</td>\n",
              "      <td>http://www.meurerresearch.com/literaturemedia/...</td>\n",
              "      <td>4/16/2020</td>\n",
              "      <td>Ian Cullings</td>\n",
              "      <td>NaN</td>\n",
              "    </tr>\n",
              "    <tr>\n",
              "      <th>1</th>\n",
              "      <td>sludge removal system</td>\n",
              "      <td>MRI</td>\n",
              "      <td>still</td>\n",
              "      <td>pending</td>\n",
              "      <td>http://www.meurerresearch.com/</td>\n",
              "      <td>http://www.meurerresearch.com/products/hoseles...</td>\n",
              "      <td>4/16/2020</td>\n",
              "      <td>Ian Cullings</td>\n",
              "      <td>NaN</td>\n",
              "    </tr>\n",
              "    <tr>\n",
              "      <th>2</th>\n",
              "      <td>plate settlers</td>\n",
              "      <td>Monore Environmental</td>\n",
              "      <td>still</td>\n",
              "      <td>pending</td>\n",
              "      <td>https://www.monroeenvironmental.com/</td>\n",
              "      <td>https://www.monroeenvironmental.com/water-and-...</td>\n",
              "      <td>4/16/2020</td>\n",
              "      <td>Ian Cullings</td>\n",
              "      <td>NaN</td>\n",
              "    </tr>\n",
              "    <tr>\n",
              "      <th>3</th>\n",
              "      <td>sludge removal system</td>\n",
              "      <td>Monore Environmental</td>\n",
              "      <td>still</td>\n",
              "      <td>pending</td>\n",
              "      <td>https://www.monroeenvironmental.com/</td>\n",
              "      <td>http://www.monroeenvironmental.com/water-and-w...</td>\n",
              "      <td>4/16/2020</td>\n",
              "      <td>Ian Cullings</td>\n",
              "      <td>NaN</td>\n",
              "    </tr>\n",
              "    <tr>\n",
              "      <th>4</th>\n",
              "      <td>plate settler with hopper</td>\n",
              "      <td>Parkson</td>\n",
              "      <td>still</td>\n",
              "      <td>pending</td>\n",
              "      <td>https://www.parkson.com/</td>\n",
              "      <td>https://www.parkson.com/products/lamella-ecoflow</td>\n",
              "      <td>4/16/2020</td>\n",
              "      <td>Ian Cullings</td>\n",
              "      <td>Includes sloped sludge hopper in design</td>\n",
              "    </tr>\n",
              "  </tbody>\n",
              "</table>\n",
              "</div>"
            ],
            "text/plain": [
              "            item description  ...                                    notes\n",
              "0             plate settlers  ...                                      NaN\n",
              "1      sludge removal system  ...                                      NaN\n",
              "2             plate settlers  ...                                      NaN\n",
              "3      sludge removal system  ...                                      NaN\n",
              "4  plate settler with hopper  ...  Includes sloped sludge hopper in design\n",
              "\n",
              "[5 rows x 9 columns]"
            ]
          },
          "metadata": {
            "tags": []
          },
          "execution_count": 28
        }
      ]
    },
    {
      "cell_type": "markdown",
      "metadata": {
        "id": "WfMWNqI0a1Ix",
        "colab_type": "text"
      },
      "source": [
        "Resources:\n",
        "\n",
        "https://www.epa.gov/sites/production/files/2015-11/documents/dw-treatment-residuals-mgmt-tech-report-sept-2011.pdf\n",
        "\n",
        "https://www.epa.gov/sites/production/files/2015-10/documents/method_1684_draft_2001.pdf\n",
        "\n",
        "http://web.deu.edu.tr/atiksu/ana58/c-7.pdf\n",
        "\n",
        "https://vtechworks.lib.vt.edu/bitstream/handle/10919/26604/04Chapter3.pdf?sequence=3\n",
        "\n",
        "https://nepis.epa.gov/Exe/ZyNET.exe/30004PI0.txt?ZyActionD=ZyDocument&Client=EPA&Index=1995%20Thru%201999&Docs=&Query=&Time=&EndTime=&SearchMethod=1&TocRestrict=n&Toc=&TocEntry=&QField=&QFieldYear=&QFieldMonth=&QFieldDay=&UseQField=&IntQFieldOp=0&ExtQFieldOp=0&XmlQuery=&File=D%3A%5CZYFILES%5CINDEX%20DATA%5C95THRU99%5CTXT%5C00000003%5C30004PI0.txt&User=ANONYMOUS&Password=anonymous&SortMethod=h%7C-&MaximumDocuments=1&FuzzyDegree=0&ImageQuality=r75g8/r75g8/x150y150g16/i425&Display=hpfr&DefSeekPage=x&SearchBack=ZyActionL&Back=ZyActionS&BackDesc=Results%20page&MaximumPages=1&ZyEntry=213\n",
        "\n",
        "https://www.epa.gov/sites/production/files/2015-09/documents/train6-residuals.pdf\n",
        "\n",
        "https://nepis.epa.gov/Exe/ZyNET.exe/2000CAKU.txt?ZyActionD=ZyDocument&Client=EPA&Index=1986%20Thru%201990&Docs=&Query=&Time=&EndTime=&SearchMethod=1&TocRestrict=n&Toc=&TocEntry=&QField=&QFieldYear=&QFieldMonth=&QFieldDay=&UseQField=&IntQFieldOp=0&ExtQFieldOp=0&XmlQuery=&File=D%3A%5CZYFILES%5CINDEX%20DATA%5C86THRU90%5CTXT%5C00000000%5C2000CAKU.txt&User=ANONYMOUS&Password=anonymous&SortMethod=h%7C-&MaximumDocuments=1&FuzzyDegree=0&ImageQuality=r75g8/r75g8/x150y150g16/i425&Display=hpfr&DefSeekPage=x&SearchBack=ZyActionL&Back=ZyActionS&BackDesc=Results%20page&MaximumPages=1&ZyEntry=3"
      ]
    },
    {
      "cell_type": "markdown",
      "metadata": {
        "id": "c3m7JsWgBYyK",
        "colab_type": "text"
      },
      "source": [
        "#**Questions:**\n",
        "\n",
        "How do we know what the sludge compostion is?\n",
        "For physical properties which are we using in the range?"
      ]
    },
    {
      "cell_type": "markdown",
      "metadata": {
        "id": "VdKbdFMejIyB",
        "colab_type": "text"
      },
      "source": [
        ">How do we know how the centrifuge works/ how well it will dewater our sludge?"
      ]
    },
    {
      "cell_type": "markdown",
      "metadata": {
        "id": "x8iKFAlegV3d",
        "colab_type": "text"
      },
      "source": [
        "#Appendix \n",
        "##California Waste Discharge Requirements\n",
        "*Constraint information taken from [The California Water Code](https://www.easylawlookup.com/California-Law/Water-Code/pg-298/_easylookup.blp?data=WATER&sidfw=&site=EASY&location=78232&spon=&stype=P&sterm=+&smode=AND&sexact=ON&pgno=298&par=6901&dlevel=2#par_6901)\n",
        "and the\n",
        "[EPA](https://www.epa.gov/sites/production/files/2015-09/documents/train6-residuals.pdf).*\n",
        "\n",
        "* Only non hazardous residuals may be disposed in a solid waste landfill, \n",
        "\n",
        "\n",
        "The treatment of drinking water results in liquid and solid wastes that contain concentrated contaminants such as arsenic. ([EPA](https://www.epa.gov/sites/production/files/2015-09/documents/train6-residuals.pdf)) The Faimont Water Treatment Plant must dispose of their residuals in a way that complies with California law and minimizes environmental impact. Raw water characteristics that may impact the disposal optins of residuals include:\n",
        "* Excessively high or low pH;\n",
        "* High total suspended solids (TSS);\n",
        "* High total dissolved solids (TDS);\n",
        "* High concentrations of heavy metals, including arsenic, lead, and aluminum;\n",
        "* High concentrations of competing ions, including fluoride, sodium, sulfate chloride, and other salts concentrations;\n",
        "* High concentrations of radionuclides and daughter products.\n",
        "\n",
        "\n",
        "To dispose of residuals in a solid waste landfill, the residuals must be nonhazardous, otherwise they must be disposed of in a hazardous waste landfill. Liquid residuals cannot be disposed of in a land disposal unit. To discharge resdiuals directly to a body, the residuals must be non-hazardous and meet National Pollutant Discharge Elimination System (NPDES) discharge requirements.\n",
        "\n",
        "\n",
        "Depending on the concentrations of contanimants in a waste stream, intermediate processing may be neccessary before disposal. Types of **intermediate processing for liquid waste** includes flow equilization (detaining and mixing water system wastes before releasing residuals to a POTW), brine recycling (caution must be exercised, as reused brine streams can possess higher levels of suspended solids and contaminants), pH neutralization for wastes streams with a significantly high or low pH, settling or gravity thickening (removes contaminants from liquid waste stream, resulting in a cleaner liquid waste and a concentrated sludge), evaporation (leaves solids and contaminants behind), and chemical precipitation. Types of **intermediate processing for solid wastes** include mechanical dewatering processes (centrifugal filter presses, vacuumassisted dewatering beds, belt filter presses, plate-and-frame filter presses), filter presses, non-mechanical dewatering processes (lagoons, settling basins, gravity thickening, evaporation ponds, drying beds), and thermal processing (incineration, pyrolysis).\n",
        "\n",
        "\n",
        "For the most part, the dillution of hazardous waste in not recommended, as any mixture or derivative of a hazardous waste is also characterized as a hazardous waste. \n",
        "\n",
        "# Arsenic Standards \n",
        "\n",
        "The national TC (toxicity characteristic) for arsenic is 5 mg/L. If the concentration of arsenic in residuals exceeds this value, the waste in considered hazardous and is not acceptable for direct discharge. However, this value can vary region-to-region. The TBLL (technically based local limit) for arsenic is 1 mg/L in San Jose, CA and 2 mg/L in Orange County, CA. \n",
        "\n",
        "\n",
        "# Processing of Nonhazardous Residuals\n",
        "\n",
        "\n",
        "Nonhazardous residuals produced from sorption processes or chemical precipitation may be disposed of in the following ways:\n",
        "\n",
        ">Recycle backwash water to facility headwokrs, discharge backwash to recieving body or POTW, and dispose of solid wastes in landfill.\n",
        "\n",
        "Nonhazardous residuals produced from membrane processes may be disposed of in the following ways:\n",
        "\n",
        ">Solid wastes disposed in landfill, liquid wastes may need pretreatment before discharge into POTW. \n",
        "\n",
        "\n",
        "\n",
        "# Health-based acceptable loading limits established under 40 CFR 503:\n",
        "\n",
        "\n",
        "Pollutant | Ceiling concentration (mg/kg) | Cumulative pollutant loading rate (kg/hectare) | Monthly avg concentration (mg/kg) | Annual Pollutant loading rate (kg/hectare/365 day period)\n",
        "--- | --- | --- | --- | ---\n",
        "Arsenic| 75 | 41 | 41 | 2.0 \n",
        "Cadmium | 85 | 39 | 39 | 1.9 \n",
        "Copper | 4300 | 1500 | 1500 | 75\n",
        "Lead | 840 | 300 | 300 | 15\n",
        "Mercury | 57 | 17 | 17 | 0.85\n",
        "Molybdenum | 75 | -- | -- | -- \n",
        "Nickel | 420 | 420 | 420 | 21\n",
        "Selenium | 100 | 100 | 100 | 5.0\n",
        "Zinc | 7500 | 2800 | 2800 | 140\n",
        "\n",
        "\n",
        "\n",
        "The overall goal of Fairmont's residuals management team is to minimize the amount of hazardous waste generated, as hazardous waste is expensive to dispose of and carries a strict cradle-to-grave liability."
      ]
    },
    {
      "cell_type": "markdown",
      "metadata": {
        "id": "yIldv5Yr4XdY",
        "colab_type": "text"
      },
      "source": [
        "#Physics: Centrifuges\n",
        "\n",
        "$$G=\\frac{r\\omega^2}{g}$$\n",
        "$r=$ radius of centrifugal dewatering vessel\n",
        "\n",
        "$g=$ gravitational acceleration\n",
        "\n",
        "Using Darcy's law to predict the rate of drainage through the filter cake [1,12]:\n",
        "$$Q=\\frac{K\\Delta P A}{\\mu L}$$\n",
        "\n",
        "$Q=$ flow rate\n",
        "\n",
        "$K=$ permeability of cake\n",
        "\n",
        "$\\Delta P=$ pressure drop across the cake\n",
        "\n",
        "$A=$ filtration area\n",
        "\n",
        "$\\mu=$ dynamic viscosity of water\n",
        "\n",
        "$L=$ cake thickness\n",
        "\n",
        "During filtration period, the pressure drop across the cake is determined by the following relationship:\n",
        "$$\\Delta P=\\frac{1}{2}\\rho\\omega^2(r_s^2-r_0^2)$$\n",
        "\n",
        "$\\rho=$ density of the liquid\n",
        "\n",
        "$r_0=$ radial distance from the rotation axis of the centerfuge to the free water\n",
        "\n",
        "$r_s =$ radial distance from the rotation axis of the centerfuge to the cake surface\n",
        "\n",
        "Centrifugal dewatering is largely used for separating excess water from sludge. The applied centrifugal force created by the angular velocity of the rotating basket allows for w lower moisture content of the product, which is the goal of our team, both to limit the amount of waste that is being dumped, and to best salvage water for reintroduction into the treatment process. \n",
        "\n",
        "Centrifugal treatment starts with a process called filtration, in which water flows outwards through the sludge while the sludge is covered in a layer of water. In time, as the water is increasingly removed from the sludge, drainage occurs in the centrifuge. The pressure drop becomes negative during this slower process, as the thickness of the solid cake is increased. \n",
        "\n",
        "To start to observe the physical characteristics that outline the process of centrifugal dewatering, we calculated...\n",
        "\n",
        "\n",
        "From the top equations, we can deduce that the rate of filtration should increase with angular velocity and the thickness of the water\n",
        "over a filter cake. \n",
        "\n",
        "We also see that the change in pressure approaches zero when the water over the cake decreases. As the water level in the cake decreases further, the pressure within the cake becomes lower than the ambient pressure.This may be the fundamental reason that centrifuges cannot produce as low cake moistures as vacuum or pressure filters for\n",
        "the finer particles."
      ]
    },
    {
      "cell_type": "markdown",
      "metadata": {
        "id": "_Q-m_1d8pCcw",
        "colab_type": "text"
      },
      "source": [
        "# Constraints\n",
        "\n",
        "* Amount of material that must be disposed of\n",
        "* Toxicity of residuals\n",
        "* Specific resistance of sludge\n",
        "* Amount of water used (waste washwater comprises 2-5% of total water processed in a WTP plant)\n",
        "* Capacity of washwater facility to to accept high, intermittent flows from backwashing \n",
        "* Effective filtration rate and recover or production efficiency of filter\n",
        "* Number of centrifuged needed\n",
        "* Electricity requirements of centrifuges\n",
        "* Costs of hazardous waste disposal \n",
        "\n",
        "\n",
        "\n"
      ]
    },
    {
      "cell_type": "markdown",
      "metadata": {
        "id": "AkU2jgvI5zlt",
        "colab_type": "text"
      },
      "source": [
        "# Energy Requirements (can probably take this out for final report)\n",
        "\n",
        "From a stuy of Chinese WWTPs, the treatment of sludge amounts for 4.1-13.9% of the total energy consumption of a WWTP. The treatment processes examined were thickening, conditioning, and dewatering, which all serve to decrease the water composition of sludge. Gravity thickeners utilize electricty in order to rotate sludge scrapers at the bottom of the tank, while centifuges require electricty to run their electric motor. From this study, it was found that gravity thickening required 0.0019-0.0021 Kwh m^-3 for plants that serve over 50,000 people, while thickening centrigues required 0.015-0.035 kWh m^-3. At Beijung's Gaobeidian WWTP, sludge thickening accounts for 0.04% of the plant's energy consumption. Plate and frame filter presses utilize 100 kWh of electricty per dry ton of sludege while centrifugal dewatering utilizes 108 kWh of electricity per dry ton. \n",
        "\n",
        "`Given that we do not yet know how many dry tons of sludge will be produced per day, to calculate the approximate energy requirements of a centrifuge we will utilize our wet sludge mass. `To calculate daily energy required, Fairmont's daily *dry* sludge mass must be multiplied by the electricity requirement per ton. Once the dry sludge mass is calculated, we can determine the energy requirement given that centrifugal dewatering utilizes 108 kWh of electricity per dry ton of residuals. To calculate the cost of this electricity requirement, we will make the assuption that the average cost of electricity is 10 cents/kWh. "
      ]
    },
    {
      "cell_type": "code",
      "metadata": {
        "id": "mNy_1M0LLmm_",
        "colab_type": "code",
        "outputId": "4cb3763a-b8e4-43f7-f223-0fd760f50643",
        "colab": {
          "base_uri": "https://localhost:8080/",
          "height": 85
        }
      },
      "source": [
        "#daily energy requirement to run centrifuge\n",
        "#thickening_kWh_requirement=0.035*u.kilowatt_hour/u.meter**(3)\n",
        "#daily_electricity_requirement=thickening_kWh_requirement*wet_sludge_volume #use wet sludge volume until we know dry sludge volume\n",
        "dewatering_kWh_requirement=108*u.kilowatt_hour/u.ton\n",
        "daily_electricity_requirement=dewatering_kWh_requirement*dry_sludge.to(u.ton/u.day) \n",
        "print(daily_electricity_requirement, 'of electricity will be required to run a centrifuge')\n",
        "\n",
        "#daily electricty cost of running centrifuge\n",
        "cost_per_kWh=0.1*u.dollar/(u.kilowatt_hour)\n",
        "daily_electricity_cost=cost_per_kWh*daily_electricity_requirement\n",
        "print('It will cost',daily_electricity_cost,'to power a centrifuge')"
      ],
      "execution_count": 29,
      "outputs": [
        {
          "output_type": "stream",
          "text": [
            "3467 kilowatt_hour / day of electricity will be required to run a centrifuge\n",
            "It will cost 346.7 dollar / day to power a centrifuge\n",
            "3467 kilowatt_hour / day of electricity will be required to run a centrifuge\n",
            "It will cost 346.7 dollar / day to power a centrifuge\n"
          ],
          "name": "stdout"
        }
      ]
    },
    {
      "cell_type": "markdown",
      "metadata": {
        "id": "6ldwXptYBhJV",
        "colab_type": "text"
      },
      "source": [
        "# Conversation with EMA Resources, Inc (figure out if/where this info will be needed in report, perhaps make discussion comparing costs of us dewatering residuals ourselves vs having some bring their own equipment and do it on site)\n",
        "\n",
        "EMA travels to water treatment plants with their personal belt presses, which they connect to the plant's gravity settler through a pipe. The plant can choose to mechanically thicken their sludge before EMA arrives, but EMA does not recommend that the percent solids of the sludge exceed 6%, as this can lead to blockages in the pipe. EMA's belt presses are able to dewater 200 gpm of sludge at a cost of 6-8 cents per gallon. EMA then transports the dewatered residuals to a disposal site. \n",
        "\n",
        "Accoring to EMA's estimates, we can calculate the daily espense of a third party dewatering our reiduals on site by multiplying the cost per gallon by the gallons of resdidual sludge produced per day.\n",
        "We then calculated how long it will take one belt press to dewater a day's worth of residuals given that a belt press can dewater 200 gallons of sludge per minute."
      ]
    },
    {
      "cell_type": "markdown",
      "metadata": {
        "id": "C4HBgDjGyjSX",
        "colab_type": "text"
      },
      "source": [
        "\n",
        "# Next Steps and Challenges\n",
        "\n",
        "Challenges include trying to reduce the volume of residuals within the plant. This should be done by concentrating wastes as much as possible. This leftover water should be recycled back into the front end of the plant. Also, considering what to do with the residuals can be difficult. Another challenge includes finding safe ways to deal with Arsenic in the residuals, since it is a hazardous waste, and presents itself in high concentrations through the plant inflow. The management of liquid waste streams is also going to be challenging, as our team will try to recycle as much water as possible, and the constituents in the return flow are difficult to manage. Additionally, it will be difficult to choose the best polymer to satisfy all of the plant's requirements. \n"
      ]
    }
  ]
}