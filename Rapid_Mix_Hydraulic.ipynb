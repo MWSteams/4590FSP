{
  "nbformat": 4,
  "nbformat_minor": 0,
  "metadata": {
    "colab": {
      "name": "Rapid_Mix_Hydraulic.ipynb",
      "provenance": [],
      "collapsed_sections": []
    },
    "kernelspec": {
      "name": "python3",
      "display_name": "Python 3"
    }
  },
  "cells": [
    {
      "cell_type": "markdown",
      "metadata": {
        "id": "lZNgRSu1Uj8D",
        "colab_type": "text"
      },
      "source": [
        "# **Rapid Mix Hydraulic - Potential Energy**\n",
        "\n",
        "Authors: Cynthia Chu, Dominic Grasso, Yitzy Rosenberg\n",
        "\n",
        "Team Name: Many Power Corgi Mode\n"
      ]
    },
    {
      "cell_type": "code",
      "metadata": {
        "id": "QjwM4ovYUokZ",
        "colab_type": "code",
        "colab": {}
      },
      "source": [
        "!pip install aguaclara\n",
        "!pip install molmass"
      ],
      "execution_count": 0,
      "outputs": []
    },
    {
      "cell_type": "code",
      "metadata": {
        "id": "ttJT8q_wYhAV",
        "colab_type": "code",
        "colab": {}
      },
      "source": [
        "from aguaclara.core.units import unit_registry as u\n",
        "import aguaclara as ac\n",
        "import matplotlib.pyplot as plt\n",
        "import numpy as np\n",
        "import pandas as pd\n",
        "import molmass as mol\n",
        "!wget https://raw.githubusercontent.com/monroews/4590FSP/master/Fairmont.py\n",
        "import Fairmont as fmt"
      ],
      "execution_count": 0,
      "outputs": []
    },
    {
      "cell_type": "markdown",
      "metadata": {
        "id": "AvdltJ_h_Rvp",
        "colab_type": "text"
      },
      "source": [
        "#**Task Definition**\n",
        "\n",
        "The “Rapid Mix - Potential Energy” (RMPE) team aims to determine both the optimal number and type of mixing units required to evenly distribute coagulant dosages to influent water at the proposed Fairmont Sedimentation Plant (FSP).  While traditional mixing systems are mechanically operated- requiring large energy inputs, the RMPE team proposes harnessing the potential energy of influent water to achieve thorough blending of coagulant nanoparticles."
      ]
    },
    {
      "cell_type": "markdown",
      "metadata": {
        "id": "WoGtXtBGQZr5",
        "colab_type": "text"
      },
      "source": [
        "# **Executive Summary**\n",
        "\n",
        "Rapid mix is used to mix adhesive nanoparticles uniformly with the raw water, which is especially important if the flow is split between two treatment trains. Rapid mixing also ensures nanoparticles do not self aggregate into microclusters, and that nanoparticles are distributed evenly and uniformly between particles.\n",
        "\n",
        "Energy invested for rapid mixing processes is significant. Due to high energy consumption, in many cases, the amount of energy used is not practical for gravity-powered water treatment plants. The turbulent eddies in rapid mixing cause stretching and thinning of the concentration gradients, and expansions create energy dissipation that decrease with distance downstream. Intensity of turbulence is characterized by the rate at which mechanical energy is lost to thermal energy, or the mean flow through eddies and viscosity where kinetic energy is converted into heat. \n",
        "\n",
        "The electricity cost for mechanized rapid mix can be up to 1.5 million USD over 25 years for a package plant that uses 400J/L. A 100L/s AguaClara plant costs up to $1,000,000. Therefore, we analyze hydraulic rapid mix as a more efficient and cost effective alternative. The compelling reason for rapid mix is for prior to the flow splitting into multiple treatment trains. We aim to determine the optimal number of mixing units in order to maintain a distribution of coagulant that is sufficient for managing the influent water of a potential energy system at the Fairmont Sedimentation Plant. \n",
        "\n",
        "RPME takes into account the design constraints outlined in the FSP Scope of Work Document, including gravity flow operations without the use of water pumps, mixing basins constrained to expected flows through the FSP, as well as the constraint of the treatment train design outlined by the LAAWTP engineers. RPME will also minimize the number of chemical storage tanks and mixing tanks necessary to minimize capital, electric, and operational costs. The RPME process design equations will include design considerations such as inner viscous scale to gauge turbulence, energy dissipation rate for determination of height difference within mixing tanks, flow expansion to determine appropriate sizes and velocities of tank entrances and exits and influent water. Finally, our analysis will include designs for physical access to the rapid mixing basins, and an outline of operation requirements for harnessing the potential energy of the influent.\n"
      ]
    },
    {
      "cell_type": "markdown",
      "metadata": {
        "id": "49KBhJso_Vv0",
        "colab_type": "text"
      },
      "source": [
        "#**Constraints**\n",
        "\n",
        "**Regulations and Client Expectations** \n",
        "\n",
        "According to the FSP Scope of Work Document, FSP will be operated via gravity flow from both LAA1 and LAA2; therefore, the RMPE team will not consider the use of water pumps in its design.  Additionally, the estimated maximum head loss throughout the entirety of the plant is 2 feet.  The RMPE team must balance its goal of harnessing the potential energy of water to power the rapid mixing process with the constraint of maximum head loss alloted for the plant.  This will require the RMPE team to consider the expected head loss for downstream processes as estimated by the hydraulics subteam.\n",
        "\n",
        "The RMPE team must design the mixing basins such that they are functional given the minimum and maximum (720 cfs) expected flows through FSP.  Based upon the last 10 years of available water quality data, the average flow is 320 cfs, so the RMPE team will use 320 cfs as its optimal design parameter for flow.  The flow design flow through each mixing unit is also dependent on the number of proposed treatment trains.  This quantity will be determined to optimize each unit process.  \n",
        "\n",
        "Another design constraint is that the rapid mix tanks will be directly after coarse screening and before the flocculation/sedimentation tanks.  The treatment train design has already been laid out by the LAAWTP engineers.\n",
        "\n",
        "**Site and Budget**\n",
        "\n",
        "The exact dimensions of the project have yet to be determined; however, it is within the spatial interests of FSP to minimize the number of chemical storage tanks necessary.  As each mixing tank requires its own chemical feed line, the RMPE team aims to minimize the number of mixing tanks which are necessary.  Additionally, the RMPE team will report the expected plan view area for the mixing tanks so that it can be accounted for in overall plant design and changed in future design iterations if too large. \n",
        "\n",
        "In the FSP Scope of Work Document, the rate for cubic yards of concrete is placed at 300 USD/CY.  The RMPE team will estimate the expected capital cost (rough estimate) for the number of rapid mix tanks proposed.  Additionally, energy costs are 0.11 USD/kWh at this site.  The RMPE team will estimate the energy savings from forgoing mechanical mixing.  Operational costs are expected to be minimal and associated only with preventative maintenance and repair. \n",
        "\n",
        "**Process Capabilities - Process Design Equations** \n",
        "\n",
        "Several operating equations will influence the design considerations of this project, including (but not limited to):\n",
        "\n",
        "1. *Inner Viscous Scale:* the inner viscous scale is a way RMPE can gauge the degree to which turbulence created by influent can mix coagulant.  \n",
        "\n",
        "  $n = [\\frac{v^3}{\\varepsilon}]^{0.25}$\n",
        "\n",
        "2. *Energy Dissipation Rate:* the energy dissipation rate characterizes the head loss resulting from the dissipation of mechanical energy through viscosity to heat.  Therefore, the energy dissipation rate is a measure of turbulence.  This equation will aid RMPE in determining the effect of height difference within the mixing tanks.\n",
        "\n",
        "  $\\bar\\varepsilon \\theta = g h_L$\n",
        "\t\n",
        "3. *Flow Expansion Minor Head Loss:* minor head loss is related to change in flow geometry as opposed to major head loss (which is related to shear at solid boundaries). Since the rapid mixing units aim to convert mechanical energy to thermal energy, it is necessary to increase minor head loss where possible.  As minor losses are produced by flow expansions, the RMPE team must calculate these losses.  This equation will assist RMPE in determining the appropriate areas for tank entrance and exit as well as the approach velocity of influent water. \n",
        "\n",
        "  $he = [\\frac{Vin^2}{2g}][1-\\frac{Ain}{Aout}]^2$\n",
        "\n",
        "4. *Danckwerts’ Intensity of Segregation (Is):* this is a description of the degree to which two streams have been blended.  RMPE can use this metric to evaluate the degree of blending which occurs under various design scenarios.  While there is not data for this specific project, this statistic could be applied to analogous rapid mix units which are currently operating.  The general description of how completely the streams have been blended can be put the following way:\n",
        "\n",
        "  $Is = [\\frac{sigma(m)}{simga(u)}]^2$\n",
        "\n",
        "  simga(m) = standard deviation of concentration in blended stream\n",
        "\n",
        "  simga(u) = standard deviation between two streams in unblended condition\n",
        "\n",
        "  *   Is = 1, the two streams are completely unblended\n",
        "  *   Is = 0, the two streams are completely blended\n",
        "\n",
        "**Ease of Use**\n",
        "\n",
        "RMPE will allot for walk space around the edge of each basin so that plant operators have unimpaired visual access to the basins.  If any sort of maintenance work is required there will be easy physical access to the rapid mix basins as well. \n",
        "\n",
        "**Operation Requirements** \n",
        "\n",
        "Ferric chloride and a cationic polymer will be fed into the rapid mix units upstream of the plate settler sedimentation basins.  The rapid mix units will be powered entirely by harnessing the potential energy of influent water, so no pumps/mechanical mixing components will be required for the unit’s operation.\n",
        "\n",
        "Additionally, if there is not a considerable height difference between the influent and the water in the mixing tank, then a device to avoid backmixing will be necessary. \n",
        "\n",
        "**Maintenance Requirements**\n",
        "\n",
        "There are currently no expected maintenance procedures ascribed to the rapid mix tanks. These units contain no mechanical components requiring maintenance.  If there is any residue buildup, then the mixing units may require periodic cleaning as deemed necessary by plant operators.  Diffuser plates on the chemical inlets into the rapid mix tank may also require some maintenance. \n"
      ]
    },
    {
      "cell_type": "markdown",
      "metadata": {
        "id": "Jonv4dYSQghA",
        "colab_type": "text"
      },
      "source": [
        "# **Physics**\n",
        "\n",
        "**Solubility**\n",
        "\n",
        "Solubilty is an essential element of rapid mix. If your pH isn't right the chemicals just won't disolve. Most chemical aditives in the water treatment process are highly polar. \n",
        "\n",
        "In order to dissolve and disipate alum bound chemical must be within 6-8 pH.\n",
        "\n",
        "![alt text](https://aguaclara.github.io/Textbook/_images/Al_solubility.png)\n",
        "\n",
        "**Physical Physics**\n",
        "\n",
        "Mixing happens when one piece of fluid irreversibly displaces another piece of fluid. This process in water treatment systems take place through three stages:\n",
        "\n",
        "1. The inital formation of large eddies.\n",
        "2. Turbulence to break those eddies into smaller and smaller eddies.\n",
        "3. Fluid shear whether along pipe walls or during flocculation.\n",
        "4. Molecular diffusion.\n",
        "\n",
        "\n",
        "![alt text](https://aguaclara.github.io/Textbook/_images/rapid_mix_macro_to_nano_scale.png)\n",
        "\n",
        "We will use time scales to form relevant deisgn parametes from the physics behind each stage.\n",
        "\n",
        "\n",
        "**The inital formation of large eddies**\n",
        "\n",
        "Large eddies are formed by disturbance in flow. This disturbance causes irreversible energy transfers to heat in the form of dissipation due to the inertial resistance of the viscosity of the fluid. The rate of disipation can be related to amount of deformation as follows:\n",
        "\n",
        "[$$\\bar\\varepsilon {=} \\nu \\bar G^2$$](https://aguaclara.github.io/Textbook/Rapid_Mix/RM_Derivations.html#equation-rapid-mix-rm-derivations-24)\n",
        "\n",
        "Where $\\bar\\varepsilon$ is the average dissipation, $\\nu$ is the visocosity, and $\\bar G$ is the average velacity gradient. \n",
        "\n",
        "Substituting $\\bar\\varepsilon$ and solving for its relation to volumetric flow and residence time we get:\n",
        "\n",
        "[$$P = \\rho \\bar G^2 \\nu Q \\theta$$](https://aguaclara.github.io/Textbook/Rapid_Mix/RM_Intro.html#equation-rapid-mix-rm-intro-8)\n",
        "\n",
        "Where $P$ is power, $\\rho$ is density, $Q$ is volumetric flow, and $\\theta$ is residence time.\n",
        "\n",
        "Similaraly substituting the power to change in head eduation we can get gradients as a funtion of differnce in height:\n",
        "\n",
        "[$$\\Delta h=\\frac{G^2 \\nu \\theta}{g}$$](https://aguaclara.github.io/Textbook/Rapid_Mix/RM_Intro.html#equation-rapid-mix-rm-intro-10)\n",
        "\n",
        "Where $\\Delta h$ is the change in head and $g$ is the graviational constant.\n",
        "\n",
        "** Turbulence to break those eddies into smaller and smaller eddies **\n",
        "\n",
        "To create this turbulence we need to increase the Reynolds number and to increase the Reynolds number and as before it essentially means we need to have a high energy dissipation rate.\n",
        "\n",
        "![](https://github.com/yyr2/pics4520/blob/master/Annotation%202020-04-17%20185159.png?raw=true)\n",
        "\n",
        "[According to P.E.Dimotaka (1999) a Reyknolds $\\leq$ 100000 is needed for thurough mixing.](http://dimotakis.caltech.edu/pdf/Dimotakis_JFM2000.pdf) \n",
        "\n",
        "Mixing caused by turbulence goes down to 50 times the Kolmogorov length scale (KLC). Once at the KLC, diffusion and wall shear take care of the rest of the mixing. \n",
        "\n",
        "**Fluid shear due to geometry**\n",
        "\n",
        "Mixing or fluid deformation occurs where ever there is a differential in velocity. Flow across almost any surface and abrupt changes in geometry cause differentials. Examples of common geometries and the types of mixing the occur are: \n",
        "* Straight pipe (wall shear) - [uncommon, but included for completeness]\n",
        "* Coiled tube (wall shear and expansions) - [research scale mixing]\n",
        "* Series of expansions (expansions) - [hydraulic flocculators]\n",
        "* Mechanical mixing - [mechanical rapid mix and flocculators]\n",
        "* Between flat plates (wall shear) - [plate settlers]\n",
        "* Round jet (expansion) - [hydraulic rapid mix]\n",
        "* Plane jet (expansion) - [inlet into sedimentation tank]\n",
        "* Behind a flat plate (expansion) - [mechanical mixers]\n",
        "\n",
        "Source: [AguaClara Textbook](https://aguaclara.github.io/Textbook/Rapid_Mix/RM_Intro.html#energy-dissipation-rate-velocity-gradient-and-mixing)\n",
        "\n",
        "For a detailed table of the $h_L$, $\\bar G_{cs}$, and $\\bar\\varepsilon$ per geometry see AguaClara textbook.\n",
        "\n",
        "**Diffusion** \n",
        "The physics of diffusion, while essential for understanding the way coagulant and polymers  collide with particles, is not the driving forces in mixing, especially \"rapid mix\". For the sake of our analysis we're going to assume the purpose of mixing is to **disperse** and distribute the chemicals as quickly and uniformly as possible. That happens primary as a result of the physical manipulation of fluids and not as chemical interaction that guide the physics of diffusion.\n"
      ]
    },
    {
      "cell_type": "markdown",
      "metadata": {
        "id": "J3u0EgpBU1bq",
        "colab_type": "text"
      },
      "source": [
        "\n",
        "# **Table listing potential strategies to meet the constraints and treatment objectives**\n",
        "\n",
        "\n",
        "\n",
        "| strategy | advantages  | disadvantages | data needed for decision |\n",
        "|---|---|---|---|\n",
        "| In-line Venturi Mixer | high level of mixing | higher cost/maintenance | major head loss (pipe); variable flow rates |\n",
        "| Agua Clara Design | simple technology| may be difficult to scale up | scalability | Waterfall | wide range of flow rates | may not be feasible | are there similar projects?|\n",
        "\n"
      ]
    },
    {
      "cell_type": "markdown",
      "metadata": {
        "id": "J9dPZVMbOka9",
        "colab_type": "text"
      },
      "source": [
        "# **Vendors and contact information file**\n",
        "\n",
        "See this [tab delimited spreadsheet](https://raw.githubusercontent.com/monroews/4590FSP/master/vendors.txt).\n",
        "\n",
        "Add rows to the vendor spreadsheet as you find them. The sheet can easily be edited in Excel. Just make sure to save it as a tab delimited sheet. Push your changes to github so the entire class has access to the document.\n",
        "\n"
      ]
    },
    {
      "cell_type": "code",
      "metadata": {
        "id": "l35d0BODlEsW",
        "colab_type": "code",
        "outputId": "dc3dbe3f-4707-4a33-be6e-a6e037a1daad",
        "colab": {
          "base_uri": "https://localhost:8080/",
          "height": 80
        }
      },
      "source": [
        "vendors = pd.read_csv('https://raw.githubusercontent.com/monroews/4590FSP/master/vendors.txt',sep='\\t')\n",
        "vendors.head()"
      ],
      "execution_count": 0,
      "outputs": [
        {
          "output_type": "execute_result",
          "data": {
            "text/html": [
              "<div>\n",
              "<style scoped>\n",
              "    .dataframe tbody tr th:only-of-type {\n",
              "        vertical-align: middle;\n",
              "    }\n",
              "\n",
              "    .dataframe tbody tr th {\n",
              "        vertical-align: top;\n",
              "    }\n",
              "\n",
              "    .dataframe thead th {\n",
              "        text-align: right;\n",
              "    }\n",
              "</style>\n",
              "<table border=\"1\" class=\"dataframe\">\n",
              "  <thead>\n",
              "    <tr style=\"text-align: right;\">\n",
              "      <th></th>\n",
              "      <th>item description</th>\n",
              "      <th>vendor</th>\n",
              "      <th>contact first name</th>\n",
              "      <th>contact last name</th>\n",
              "      <th>vendor website</th>\n",
              "      <th>product info</th>\n",
              "      <th>date of contact</th>\n",
              "      <th>who made the contact</th>\n",
              "      <th>notes</th>\n",
              "    </tr>\n",
              "  </thead>\n",
              "  <tbody>\n",
              "    <tr>\n",
              "      <th>0</th>\n",
              "      <td>plate settlers</td>\n",
              "      <td>MRI</td>\n",
              "      <td>still</td>\n",
              "      <td>pending</td>\n",
              "      <td>http://www.meurerresearch.com/</td>\n",
              "      <td>http://www.meurerresearch.com/literaturemedia/...</td>\n",
              "      <td>4/4/2020</td>\n",
              "      <td>no one</td>\n",
              "      <td>nan</td>\n",
              "    </tr>\n",
              "  </tbody>\n",
              "</table>\n",
              "</div>"
            ],
            "text/plain": [
              "  item description vendor  ... who made the contact notes\n",
              "0   plate settlers    MRI  ...               no one   nan\n",
              "\n",
              "[1 rows x 9 columns]"
            ]
          },
          "metadata": {
            "tags": []
          },
          "execution_count": 8
        }
      ]
    },
    {
      "cell_type": "markdown",
      "metadata": {
        "id": "-jwNKdrCOmux",
        "colab_type": "text"
      },
      "source": [
        "# **Shared assumptions**\n",
        "\n",
        "See this [python file, Fairmont.py](https://github.com/monroews/4590FSP/blob/master/Fairmont.py)\n",
        "\n",
        "Use this file to hold parameters that are in the SOW or elsewhere that\n",
        "influence the design of the entire plant. This provides an easy mechanism\n",
        "for all of us to share the same assumptions. Read the SOW to find sections that relate to your part of the design and enter all pertinent variables into [Fairmont.py](https://github.com/monroews/4590FSP/blob/master/Fairmont.py) and then push those changes to github.\n",
        "\n",
        "# **Major Decisions**\n",
        "\n",
        "No decisions made yet!\n",
        "\n",
        "# **Next Steps and Challenges**\n",
        "\n",
        "The RMPE team will need to determine between the three different potential strategies developed so far: in-line Venturi mixer, Agua Clara design, and \"waterfall\" design (hydraulic jump). \n",
        "\n",
        "The RMPE team will additionally need to create more detailed estimates for the time required for coagulant nanoparticles to attach to the surfaces of suspended solids.  The RMPE team may also need to chart eddy turnover time as a function of length in order to achieve the time needed in the design. RMPE may also need to work with the chemical dosage team in order to determine if there will be any buffer added, or other unexpected chemicals, which may affect the reactor.  \n",
        "\n",
        "The RMPE will further its research by beginning to model basic and quantitatively interrogate chemical reactions and fluid mechanics within the reactor.  The RMPE team will additionally seek out rapid mix units in use in order to work off of an established precedent and choose a design. \n",
        "\n"
      ]
    },
    {
      "cell_type": "markdown",
      "metadata": {
        "id": "DXlB_I6ZOw2J",
        "colab_type": "text"
      },
      "source": [
        "# **Design**\n",
        "\n",
        "RMPE HAS NOT BEGUN THIS SECTION YET\n",
        "\n",
        "Begin writing the code to start your design. Define flow rates, mass rates, energy requirements, and any readily calculated dimensions, velocities, flows, etc."
      ]
    },
    {
      "cell_type": "code",
      "metadata": {
        "id": "IrwTrVM2hZqH",
        "colab_type": "code",
        "outputId": "de13eee1-e211-43b0-9575-9fbc122c061b",
        "colab": {
          "base_uri": "https://localhost:8080/",
          "height": 68
        }
      },
      "source": [
        "print('The average flow to be treated at Fairmont is',fmt.q_ave.to(u.Mgal/u.day),'or')\n",
        "print('The maximum flow to be treated at Fairmont is',fmt.q_max.to(u.Mgal/u.day))\n",
        "specific_energy = (fmt.electricity_power/fmt.q_ave).to(u.J/u.L)\n",
        "temp = 15 * u.degC\n",
        "specific_potential_energy = (specific_energy / u.gravity / ac.density_water(temp)).to(u.m)\n",
        "print('The average amount of energy used per liter of water is expected to be',specific_energy,'or',specific_potential_energy,'of potential energy')"
      ],
      "execution_count": 0,
      "outputs": [
        {
          "output_type": "stream",
          "text": [
            "The average flow to be treated at Fairmont is 206.8 megagallon / day or\n",
            "The maximum flow to be treated at Fairmont is 465.3 megagallon / day\n",
            "The average amount of energy used per liter of water is expected to be 118.1 joule / liter or 12.05 meter of potential energy\n"
          ],
          "name": "stdout"
        }
      ]
    },
    {
      "cell_type": "markdown",
      "metadata": {
        "id": "2SQpUtXCR5Xz",
        "colab_type": "text"
      },
      "source": [
        "# **Artistic Inspiration**\n",
        "\n",
        "Big whirls have little whirls,\n",
        "\n",
        "That feed on their velocity;\n",
        "\n",
        "And little whirls have lesser whirls,\n",
        "\n",
        "And so on to viscosity.”\n",
        "\n",
        "― Lewis Fry Richardson \n",
        "![alt text](https://www.moma.org/media/W1siZiIsIjQ2NzUxNyJdLFsicCIsImNvbnZlcnQiLCItcXVhbGl0eSA5MCAtcmVzaXplIDIwMDB4MjAwMFx1MDAzZSJdXQ.jpg?sha=314ebf8cc678676f)"
      ]
    }
  ]
}