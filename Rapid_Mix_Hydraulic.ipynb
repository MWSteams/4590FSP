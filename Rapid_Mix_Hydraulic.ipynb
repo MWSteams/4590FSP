{
  "nbformat": 4,
  "nbformat_minor": 0,
  "metadata": {
    "colab": {
      "name": "Rapid_Mix_Hydraulic.ipynb",
      "provenance": [],
      "collapsed_sections": [],
      "include_colab_link": true
    },
    "kernelspec": {
      "name": "python3",
      "display_name": "Python 3"
    }
  },
  "cells": [
    {
      "cell_type": "markdown",
      "metadata": {
        "id": "view-in-github",
        "colab_type": "text"
      },
      "source": [
        "<a href=\"https://colab.research.google.com/github/MWSteams/4590FSP/blob/master/Rapid_Mix_Hydraulic.ipynb\" target=\"_parent\"><img src=\"https://colab.research.google.com/assets/colab-badge.svg\" alt=\"Open In Colab\"/></a>"
      ]
    },
    {
      "cell_type": "markdown",
      "metadata": {
        "id": "lZNgRSu1Uj8D",
        "colab_type": "text"
      },
      "source": [
        "# **Rapid Mix Hydraulic - Potential Energy**\n",
        "\n",
        "Authors: Cynthia Chu, Dominic Grasso, Yitzy Rosenberg\n",
        "\n",
        "Team Name: Many Power Corgi Mode\n",
        "\n",
        "[/Monroe/]: # (Well done! Great start. Check out the Cottonwood plant that the Fairmont plant will be eliminating and the LA filtration plant. See this new resource... https://github.com/MWSteams/4590FSP/blob/master/resources.md. Can you figure out what the rapid mix system is at the Cottonwood plant? The big question is whether the rapid mix is supposed to do something in addition to getting the coagulant equally mixed with water before it divides into multiple treatment trains. Happy to discuss this!)\n"
      ]
    },
    {
      "cell_type": "code",
      "metadata": {
        "id": "QjwM4ovYUokZ",
        "colab_type": "code",
        "outputId": "7038d651-ebcd-4f84-bb46-b42988c5efd5",
        "colab": {
          "base_uri": "https://localhost:8080/",
          "height": 587
        }
      },
      "source": [
        "!pip install aguaclara\n",
        "!pip install molmass"
      ],
      "execution_count": 2,
      "outputs": [
        {
          "output_type": "stream",
          "text": [
            "Collecting aguaclara\n",
            "\u001b[?25l  Downloading https://files.pythonhosted.org/packages/28/bd/ce0f9f758e58a15e5cc55812679fe6ded155da1b6bac2278e574ce63d728/aguaclara-0.2.0.tar.gz (87kB)\n",
            "\r\u001b[K     |███▊                            | 10kB 15.6MB/s eta 0:00:01\r\u001b[K     |███████▌                        | 20kB 4.6MB/s eta 0:00:01\r\u001b[K     |███████████▏                    | 30kB 5.8MB/s eta 0:00:01\r\u001b[K     |███████████████                 | 40kB 6.7MB/s eta 0:00:01\r\u001b[K     |██████████████████▊             | 51kB 6.3MB/s eta 0:00:01\r\u001b[K     |██████████████████████▍         | 61kB 6.3MB/s eta 0:00:01\r\u001b[K     |██████████████████████████▏     | 71kB 6.6MB/s eta 0:00:01\r\u001b[K     |██████████████████████████████  | 81kB 6.2MB/s eta 0:00:01\r\u001b[K     |████████████████████████████████| 92kB 4.7MB/s \n",
            "\u001b[?25hRequirement already satisfied: matplotlib in /usr/local/lib/python3.6/dist-packages (from aguaclara) (3.2.1)\n",
            "Requirement already satisfied: urllib3 in /usr/local/lib/python3.6/dist-packages (from aguaclara) (1.24.3)\n",
            "Collecting pint==0.8.1\n",
            "\u001b[?25l  Downloading https://files.pythonhosted.org/packages/1e/40/6938f7d544eef208a8183c2c80624289e8a4f4e0aea43f4658b9527077de/Pint-0.8.1.tar.gz (162kB)\n",
            "\u001b[K     |████████████████████████████████| 163kB 9.3MB/s \n",
            "\u001b[?25hRequirement already satisfied: pandas in /usr/local/lib/python3.6/dist-packages (from aguaclara) (1.0.3)\n",
            "Requirement already satisfied: scipy in /usr/local/lib/python3.6/dist-packages (from aguaclara) (1.4.1)\n",
            "Requirement already satisfied: python-dateutil>=2.1 in /usr/local/lib/python3.6/dist-packages (from matplotlib->aguaclara) (2.8.1)\n",
            "Requirement already satisfied: cycler>=0.10 in /usr/local/lib/python3.6/dist-packages (from matplotlib->aguaclara) (0.10.0)\n",
            "Requirement already satisfied: pyparsing!=2.0.4,!=2.1.2,!=2.1.6,>=2.0.1 in /usr/local/lib/python3.6/dist-packages (from matplotlib->aguaclara) (2.4.7)\n",
            "Requirement already satisfied: numpy>=1.11 in /usr/local/lib/python3.6/dist-packages (from matplotlib->aguaclara) (1.18.3)\n",
            "Requirement already satisfied: kiwisolver>=1.0.1 in /usr/local/lib/python3.6/dist-packages (from matplotlib->aguaclara) (1.2.0)\n",
            "Requirement already satisfied: pytz>=2017.2 in /usr/local/lib/python3.6/dist-packages (from pandas->aguaclara) (2018.9)\n",
            "Requirement already satisfied: six>=1.5 in /usr/local/lib/python3.6/dist-packages (from python-dateutil>=2.1->matplotlib->aguaclara) (1.12.0)\n",
            "Building wheels for collected packages: aguaclara, pint\n",
            "  Building wheel for aguaclara (setup.py) ... \u001b[?25l\u001b[?25hdone\n",
            "  Created wheel for aguaclara: filename=aguaclara-0.2.0-cp36-none-any.whl size=99623 sha256=5d48e47d6dfc0e6d4adcd15a812ac4e3d869f7976fa87cc268f49eb54fd66bc9\n",
            "  Stored in directory: /root/.cache/pip/wheels/34/e9/34/0d3722243083a982623290c205c14a08b54ed290ee29219fd2\n",
            "  Building wheel for pint (setup.py) ... \u001b[?25l\u001b[?25hdone\n",
            "  Created wheel for pint: filename=Pint-0.8.1-py2.py3-none-any.whl size=134156 sha256=b8ebbe3123d7ab604d19f815a7b6f3e51849a8e005c80c2a08fa00902b13227f\n",
            "  Stored in directory: /root/.cache/pip/wheels/b4/56/36/7c4d6a4e3660e233b95e3b0482551915cb184abca0f93ee1dd\n",
            "Successfully built aguaclara pint\n",
            "Installing collected packages: pint, aguaclara\n",
            "Successfully installed aguaclara-0.2.0 pint-0.8.1\n",
            "Collecting molmass\n",
            "\u001b[?25l  Downloading https://files.pythonhosted.org/packages/12/2b/dd600a36b78bc9ebf9e8ff7c900150c7439af0c55504a4ab8213485cda94/molmass-2020.1.1-py3-none-any.whl (65kB)\n",
            "\u001b[K     |████████████████████████████████| 71kB 3.8MB/s \n",
            "\u001b[?25hInstalling collected packages: molmass\n",
            "Successfully installed molmass-2020.1.1\n"
          ],
          "name": "stdout"
        }
      ]
    },
    {
      "cell_type": "code",
      "metadata": {
        "id": "ttJT8q_wYhAV",
        "colab_type": "code",
        "outputId": "aac9d410-a6e5-4aa1-d2c0-ce83ece45cae",
        "colab": {
          "base_uri": "https://localhost:8080/",
          "height": 206
        }
      },
      "source": [
        "from aguaclara.core.units import unit_registry as u\n",
        "import aguaclara as ac\n",
        "import matplotlib.pyplot as plt\n",
        "import numpy as np\n",
        "import pandas as pd\n",
        "import molmass as mol\n",
        "!wget https://raw.githubusercontent.com/monroews/4590FSP/master/Fairmont.py\n",
        "import Fairmont as fmt"
      ],
      "execution_count": 3,
      "outputs": [
        {
          "output_type": "stream",
          "text": [
            "--2020-04-28 14:19:55--  https://raw.githubusercontent.com/monroews/4590FSP/master/Fairmont.py\n",
            "Resolving raw.githubusercontent.com (raw.githubusercontent.com)... 151.101.0.133, 151.101.64.133, 151.101.128.133, ...\n",
            "Connecting to raw.githubusercontent.com (raw.githubusercontent.com)|151.101.0.133|:443... connected.\n",
            "HTTP request sent, awaiting response... 200 OK\n",
            "Length: 2538 (2.5K) [text/plain]\n",
            "Saving to: ‘Fairmont.py’\n",
            "\n",
            "\rFairmont.py           0%[                    ]       0  --.-KB/s               \rFairmont.py         100%[===================>]   2.48K  --.-KB/s    in 0s      \n",
            "\n",
            "2020-04-28 14:19:56 (45.6 MB/s) - ‘Fairmont.py’ saved [2538/2538]\n",
            "\n"
          ],
          "name": "stdout"
        }
      ]
    },
    {
      "cell_type": "markdown",
      "metadata": {
        "id": "AvdltJ_h_Rvp",
        "colab_type": "text"
      },
      "source": [
        "#**Task Definition**\n",
        "\n",
        "The “Rapid Mix - Potential Energy” (RMPE) team aims to determine both the optimal number and type of mixing units required to evenly distribute coagulant dosages to influent water at the proposed Fairmont Sedimentation Plant (FSP).  While traditional mixing systems are mechanically operated- requiring large energy inputs, the RMPE team proposes harnessing the potential energy of influent water to achieve thorough blending of coagulant nanoparticles."
      ]
    },
    {
      "cell_type": "markdown",
      "metadata": {
        "id": "WoGtXtBGQZr5",
        "colab_type": "text"
      },
      "source": [
        "# **Executive Summary**\n",
        "\n",
        "Rapid mix is used to mix adhesive nanoparticles uniformly with the raw water, which is especially important if the flow is split between two treatment trains. Rapid mixing also ensures nanoparticles do not self aggregate into microclusters, and that nanoparticles are distributed evenly and uniformly between particles.\n",
        "\n",
        "Energy invested for rapid mixing processes is significant. Due to high energy consumption, in many cases, the amount of energy used is not practical for gravity-powered water treatment plants. The turbulent eddies in rapid mixing cause stretching and thinning of the concentration gradients, and expansions create energy dissipation that decrease with distance downstream. Intensity of turbulence is characterized by the rate at which mechanical energy is lost to thermal energy, or the mean flow through eddies and viscosity where kinetic energy is converted into heat. \n",
        "\n",
        "The compelling reason for rapid mix is for prior to the flow splitting into multiple treatment trains. We aim to determine the optimal number of mixing units in order to maintain a distribution of coagulant that is sufficient for managing the influent water of a potential energy system at the Fairmont Sedimentation Plant. \n",
        "\n",
        "[/Monroe/]: # (This cost example isn't relevant here. Use a mechanical design approach for the FSP.)\n",
        "\n",
        "[/Dominic/]: #deleted the example\n",
        "\n",
        "RPME takes into account the design constraints outlined in the FSP Scope of Work Document, including gravity flow operations without the use of water pumps, mixing basins constrained to expected flows through the FSP, as well as the constraint of the treatment train design outlined by the LAAWTP engineers. RPME will also minimize the number of chemical storage tanks and mixing tanks necessary to minimize capital, electric, and operational costs. The RPME process design equations will include design considerations such as inner viscous scale to gauge turbulence, energy dissipation rate for determination of height difference within mixing tanks, flow expansion to determine appropriate sizes and velocities of tank entrances and exits and influent water. Finally, our analysis will include designs for physical access to the rapid mixing basins, and an outline of operation requirements for harnessing the potential energy of the influent.\n",
        "\n",
        "[/Monroe/]: # (What do you mean by height difference within mixing tanks? A big question for your team is number of flocculators and number of rapid mix units.)\n",
        "\n",
        "\n"
      ]
    },
    {
      "cell_type": "markdown",
      "metadata": {
        "id": "49KBhJso_Vv0",
        "colab_type": "text"
      },
      "source": [
        "#**Constraints**\n",
        "\n",
        "**Regulations and Client Expectations** \n",
        "\n",
        "According to the FSP Scope of Work Document, FSP will be operated via gravity flow from both LAA1 and LAA2; therefore, the RMPE team will not consider the use of water pumps in its design.  Additionally, the estimated maximum head loss throughout the entirety of the plant is 2 feet.  The RMPE team must balance its goal of harnessing the potential energy of water to power the rapid mixing process with the constraint of maximum head loss alloted for the plant.  This will require the RMPE team to consider the expected head loss for downstream processes as estimated by the hydraulics subteam.\n",
        "\n",
        "[/Monroe/]: # (Rapid Mix units rarely use pumps. Excellent connection to the available head. How do you propose to divide that available head between processes? The hydraulics team is charged with moving the water between processes. Which process will use the most energy? How much energy is typically used? Is the amount of energy available sufficient? )\n",
        "\n",
        "The RMPE team must design the mixing basins such that they are functional given the minimum and maximum (720 cfs) expected flows through FSP.  Based upon the last 10 years of available water quality data, the average flow is 320 cfs, so the RMPE team will use 320 cfs as its optimal design parameter for flow.  The flow design flow through each mixing unit is also dependent on the number of proposed treatment trains.  This quantity will be determined to optimize each unit process.  \n",
        "\n",
        "[/Monroe/]: # (Your design has to be able to handle the maximum and the minimum flow. You can then create graphs showing how your design will perform over that full range of flows. The average flow is probably not an important design parameter for your team. )\n",
        "\n",
        "Another design constraint is that the rapid mix tanks will be directly after coarse screening and before the flocculation/sedimentation tanks.  The treatment train design has already been laid out by the LAAWTP engineers.\n",
        "\n",
        "**Site and Budget**\n",
        "\n",
        "The exact dimensions of the project have yet to be determined; however, it is within the spatial interests of FSP to minimize the number of chemical storage tanks necessary.  As each mixing tank requires its own chemical feed line, the RMPE team aims to minimize the number of mixing tanks which are necessary.  Additionally, the RMPE team will report the expected plan view area for the mixing tanks so that it can be accounted for in overall plant design and changed in future design iterations if too large. \n",
        "\n",
        "[/Monroe/]: # (Previous paragraph is confusing. Does your design control the number of chemical storage tanks? You seem to be confusing chemical storage tanks and rapid mix tanks. Do you expect to have rapid mix tanks if you use hydraulic rapid mixing? What is the rapid mix in an AguaClara plant? Note that your design will not look like an AguaClara plant because you will not be using pipes at this scale!)\n",
        "\n",
        "In the FSP Scope of Work Document, the rate for cubic yards of concrete is placed at 300 USD/CY.  The RMPE team will estimate the expected capital cost (rough estimate) for the number of rapid mix tanks proposed.  Additionally, energy costs are 0.11 USD/kWh at this site.  The RMPE team will estimate the energy savings from forgoing mechanical mixing.  Operational costs are expected to be minimal and associated only with preventative maintenance and repair. \n",
        "\n",
        "**Process Capabilities - Process Design Equations** \n",
        "\n",
        "Several operating equations will influence the design considerations of this project, including (but not limited to):\n",
        "\n",
        "1. *Inner Viscous Scale:* the inner viscous scale is a way RMPE can gauge the degree to which turbulence created by influent can mix coagulant.  \n",
        "\n",
        "  $n = [\\frac{v^3}{\\varepsilon}]^{0.25}$\n",
        "\n",
        "[/Monroe/]: # (see https://aguaclara.github.io/Textbook/Rapid_Mix/RM_Derivations.html#turbulent-mixing-time-as-a-function-of-scale where it shows that the slowest eddy turnover time is the large scale eddies. In that section of the textbook we show that turbulence and molecular diffusion can mix the coagulant nanoparticles with the water in a matter of seconds even without using a lot of energy. Transporting the coagulant nanoparticles to particle surfaces is a much slower process and must occur in the flocculator.)\n",
        "\n",
        "2. *Energy Dissipation Rate:* the energy dissipation rate characterizes the head loss resulting from the dissipation of mechanical energy through viscosity to heat.  Therefore, the energy dissipation rate is a measure of turbulence.  This equation will aid RMPE in determining the effect of height difference within the mixing tanks.\n",
        "\n",
        "  $\\bar\\varepsilon \\theta = g h_L$\n",
        "\n",
        "[/Monroe/]: # (I am not sure what type of mixing unit you are considering. Seems like that would be helpful to discuss early in this document. How are you planning to create energy dissipation?)  \n",
        "\t\n",
        "3. *Flow Expansion Minor Head Loss:* minor head loss is related to change in flow geometry as opposed to major head loss (which is related to shear at solid boundaries). Since the rapid mixing units aim to convert mechanical energy to thermal energy, it is necessary to increase minor head loss where possible.  As minor losses are produced by flow expansions, the RMPE team must calculate these losses.  This equation will assist RMPE in determining the appropriate areas for tank entrance and exit as well as the approach velocity of influent water. \n",
        "\n",
        "  $he = [\\frac{Vin^2}{2g}][1-\\frac{Ain}{Aout}]^2$\n",
        "\n",
        "4. *Danckwerts’ Intensity of Segregation (Is):* this is a description of the degree to which two streams have been blended.  RMPE can use this metric to evaluate the degree of blending which occurs under various design scenarios.  While there is not data for this specific project, this statistic could be applied to analogous rapid mix units which are currently operating.  The general description of how completely the streams have been blended can be put the following way:\n",
        "\n",
        "  $Is = [\\frac{sigma(m)}{simga(u)}]^2$\n",
        "\n",
        "  simga(m) = standard deviation of concentration in blended stream\n",
        "\n",
        "  simga(u) = standard deviation between two streams in unblended condition\n",
        "\n",
        "  *   Is = 1, the two streams are completely unblended\n",
        "  *   Is = 0, the two streams are completely blended\n",
        "\n",
        "[/Monroe/]: # (The section in the AguaClara text on required mixing time. https://aguaclara.github.io/Textbook/Rapid_Mix/RM_Derivations.html#estimates-of-time-required-for-mixing-processes. That will provide a fluids basis for design if the only goal is to ensure that mixing occurs before flow splitting.)\n",
        "\n",
        "**Ease of Use**\n",
        "\n",
        "RMPE will allot for walk space around the edge of each basin so that plant operators have unimpaired visual access to the basins.  If any sort of maintenance work is required there will be easy physical access to the rapid mix basins as well. \n",
        "\n",
        "**Operation Requirements** \n",
        "\n",
        "Ferric chloride and a cationic polymer will be fed into the rapid mix units upstream of the plate settler sedimentation basins.  The rapid mix units will be powered entirely by harnessing the potential energy of influent water, so no pumps/mechanical mixing components will be required for the unit’s operation.\n",
        "\n",
        "Additionally, if there is not a considerable height difference between the influent and the water in the mixing tank, then a device to avoid backmixing will be necessary. \n",
        "\n",
        "[/Monroe/]: # (I'm confident that backmixing will not be a problem. I think a description of how you will create energy dissipation is needed. What methods are used to mix chemicals hydrualically? A list of options is needed.)\n",
        "\n",
        "**Maintenance Requirements**\n",
        "\n",
        "There are currently no expected maintenance procedures ascribed to the rapid mix tanks. These units contain no mechanical components requiring maintenance.  If there is any residue buildup, then the mixing units may require periodic cleaning as deemed necessary by plant operators.  Diffuser plates on the chemical inlets into the rapid mix tank may also require some maintenance. \n",
        "\n",
        "[/Monroe/]: # (What are the diffuser plates and is that the only option for injecting chemicals?)\n"
      ]
    },
    {
      "cell_type": "markdown",
      "metadata": {
        "id": "Jonv4dYSQghA",
        "colab_type": "text"
      },
      "source": [
        "# **Physics**\n",
        "\n",
        "**Solubility**\n",
        "\n",
        "Solubilty is an essential element of rapid mix. If your pH isn't right the chemicals just won't disolve. Most chemical aditives in the water treatment process are highly polar. \n",
        "\n",
        "In order to dissolve and disipate alum bound chemical must be within 6-8 pH.\n",
        "\n",
        "![alt text](https://aguaclara.github.io/Textbook/_images/Al_solubility.png)\n",
        "\n",
        "**Physical Physics**\n",
        "\n",
        "Mixing happens when one piece of fluid irreversibly displaces another piece of fluid. This process in water treatment systems take place through three stages:\n",
        "\n",
        "1. The inital formation of large eddies.\n",
        "2. Turbulence to break those eddies into smaller and smaller eddies.\n",
        "3. Fluid shear whether along pipe walls or during flocculation.\n",
        "4. Molecular diffusion.\n",
        "\n",
        "\n",
        "![alt text](https://aguaclara.github.io/Textbook/_images/rapid_mix_macro_to_nano_scale.png)\n",
        "\n",
        "We will use time scales to form relevant deisgn parametes from the physics behind each stage.\n",
        "\n",
        "\n",
        "**The inital formation of large eddies**\n",
        "\n",
        "Large eddies are formed by disturbance in flow. This disturbance causes irreversible energy transfers to heat in the form of dissipation due to the inertial resistance of the viscosity of the fluid. The rate of disipation can be related to amount of deformation as follows:\n",
        "\n",
        "[$$\\bar\\varepsilon {=} \\nu \\bar G^2$$](https://aguaclara.github.io/Textbook/Rapid_Mix/RM_Derivations.html#equation-rapid-mix-rm-derivations-24)\n",
        "\n",
        "Where $\\bar\\varepsilon$ is the average dissipation, $\\nu$ is the visocosity, and $\\bar G$ is the average velacity gradient. \n",
        "\n",
        "Substituting $\\bar\\varepsilon$ and solving for its relation to volumetric flow and residence time we get:\n",
        "\n",
        "[$$P = \\rho \\bar G^2 \\nu Q \\theta$$](https://aguaclara.github.io/Textbook/Rapid_Mix/RM_Intro.html#equation-rapid-mix-rm-intro-8)\n",
        "\n",
        "Where $P$ is power, $\\rho$ is density, $Q$ is volumetric flow, and $\\theta$ is residence time.\n",
        "\n",
        "Similaraly substituting the power to change in head eduation we can get gradients as a funtion of differnce in height:\n",
        "\n",
        "[$$\\Delta h=\\frac{G^2 \\nu \\theta}{g}$$](https://aguaclara.github.io/Textbook/Rapid_Mix/RM_Intro.html#equation-rapid-mix-rm-intro-10)\n",
        "\n",
        "Where $\\Delta h$ is the change in head and $g$ is the graviational constant.\n",
        "\n",
        "** Turbulence to break those eddies into smaller and smaller eddies **\n",
        "\n",
        "To create this turbulence we need to increase the Reynolds number and to increase the Reynolds number and as before it essentially means we need to have a high energy dissipation rate.\n",
        "\n",
        "![](https://github.com/yyr2/pics4520/blob/master/Annotation%202020-04-17%20185159.png?raw=true)\n",
        "\n",
        "[According to P.E.Dimotaka (1999) a Reyknolds $\\leq$ 100000 is needed for thurough mixing.](http://dimotakis.caltech.edu/pdf/Dimotakis_JFM2000.pdf) \n",
        "\n",
        "Mixing caused by turbulence goes down to 50 times the Kolmogorov length scale (KLC). Once at the KLC, diffusion and wall shear take care of the rest of the mixing. \n",
        "\n",
        "[/Monroe/]: # (What Reynolds number do you estimate you will have in your rapid mix unit? It would have been appropriate to at least mention that Reynolds number increases with the scale of the flow.  Wall shear is NOT responsible for mixing. What is the actual mechanism for transport of coagulant nanoparticles to particle surfaces?) \n",
        "\n",
        "**Fluid shear due to geometry**\n",
        "\n",
        "Mixing or fluid deformation occurs where ever there is a differential in velocity. Flow across almost any surface and abrupt changes in geometry cause differentials. Examples of common geometries and the types of mixing the occur are: \n",
        "* Straight pipe (wall shear) - [uncommon, but included for completeness]\n",
        "* Coiled tube (wall shear and expansions) - [research scale mixing]\n",
        "* Series of expansions (expansions) - [hydraulic flocculators]\n",
        "* Mechanical mixing - [mechanical rapid mix and flocculators]\n",
        "* Between flat plates (wall shear) - [plate settlers]\n",
        "* Round jet (expansion) - [hydraulic rapid mix]\n",
        "* Plane jet (expansion) - [inlet into sedimentation tank]\n",
        "* Behind a flat plate (expansion) - [mechanical mixers]\n",
        "\n",
        "Source: [AguaClara Textbook](https://aguaclara.github.io/Textbook/Rapid_Mix/RM_Intro.html#energy-dissipation-rate-velocity-gradient-and-mixing)\n",
        "\n",
        "For a detailed table of the $h_L$, $\\bar G_{cs}$, and $\\bar\\varepsilon$ per geometry see AguaClara textbook.\n",
        "\n",
        "**Diffusion** \n",
        "The physics of diffusion, while essential for understanding the way coagulant and polymers  collide with particles, is not the driving forces in mixing, especially \"rapid mix\". For the sake of our analysis we're going to assume the purpose of mixing is to **disperse** and distribute the chemicals as quickly and uniformly as possible. That happens primary as a result of the physical manipulation of fluids and not as chemical interaction that guide the physics of diffusion.\n"
      ]
    },
    {
      "cell_type": "markdown",
      "metadata": {
        "id": "J3u0EgpBU1bq",
        "colab_type": "text"
      },
      "source": [
        "\n",
        "# **Table listing potential strategies to meet the constraints and treatment objectives**\n",
        "\n",
        "\n",
        "\n",
        "| strategy | advantages  | disadvantages | data needed for decision |\n",
        "|---|---|---|---|\n",
        "| In-line Venturi Mixer | high level of mixing | higher cost/maintenance | major head loss (pipe); variable flow rates |\n",
        "| Agua Clara Design | simple technology| may be difficult to scale up | scalability | Waterfall | wide range of flow rates | may not be feasible | are there similar projects?|\n",
        "\n"
      ]
    },
    {
      "cell_type": "markdown",
      "metadata": {
        "id": "J9dPZVMbOka9",
        "colab_type": "text"
      },
      "source": [
        "# **Vendors and contact information file**\n",
        "\n",
        "See this [tab delimited spreadsheet](https://raw.githubusercontent.com/monroews/4590FSP/master/vendors.txt).\n",
        "\n",
        "Add rows to the vendor spreadsheet as you find them. The sheet can easily be edited in Excel. Just make sure to save it as a tab delimited sheet. Push your changes to github so the entire class has access to the document.\n",
        "\n"
      ]
    },
    {
      "cell_type": "code",
      "metadata": {
        "id": "l35d0BODlEsW",
        "colab_type": "code",
        "outputId": "461c61e0-ed39-4a1b-bd84-4e374ef01bf2",
        "colab": {
          "base_uri": "https://localhost:8080/",
          "height": 619
        }
      },
      "source": [
        "vendors = pd.read_csv('https://raw.githubusercontent.com/monroews/4590FSP/master/vendors.txt',sep='\\t')\n",
        "vendors"
      ],
      "execution_count": 4,
      "outputs": [
        {
          "output_type": "execute_result",
          "data": {
            "text/html": [
              "<div>\n",
              "<style scoped>\n",
              "    .dataframe tbody tr th:only-of-type {\n",
              "        vertical-align: middle;\n",
              "    }\n",
              "\n",
              "    .dataframe tbody tr th {\n",
              "        vertical-align: top;\n",
              "    }\n",
              "\n",
              "    .dataframe thead th {\n",
              "        text-align: right;\n",
              "    }\n",
              "</style>\n",
              "<table border=\"1\" class=\"dataframe\">\n",
              "  <thead>\n",
              "    <tr style=\"text-align: right;\">\n",
              "      <th></th>\n",
              "      <th>item description</th>\n",
              "      <th>vendor</th>\n",
              "      <th>contact first name</th>\n",
              "      <th>contact last name</th>\n",
              "      <th>vendor website</th>\n",
              "      <th>product info</th>\n",
              "      <th>date of contact</th>\n",
              "      <th>who made the contact</th>\n",
              "      <th>notes</th>\n",
              "    </tr>\n",
              "  </thead>\n",
              "  <tbody>\n",
              "    <tr>\n",
              "      <th>0</th>\n",
              "      <td>plate settlers</td>\n",
              "      <td>MRI</td>\n",
              "      <td>still</td>\n",
              "      <td>pending</td>\n",
              "      <td>http://www.meurerresearch.com/</td>\n",
              "      <td>http://www.meurerresearch.com/literaturemedia/...</td>\n",
              "      <td>4/16/2020</td>\n",
              "      <td>Ian Cullings</td>\n",
              "      <td>NaN</td>\n",
              "    </tr>\n",
              "    <tr>\n",
              "      <th>1</th>\n",
              "      <td>sludge removal system</td>\n",
              "      <td>MRI</td>\n",
              "      <td>still</td>\n",
              "      <td>pending</td>\n",
              "      <td>http://www.meurerresearch.com/</td>\n",
              "      <td>http://www.meurerresearch.com/products/hoseles...</td>\n",
              "      <td>4/16/2020</td>\n",
              "      <td>Ian Cullings</td>\n",
              "      <td>NaN</td>\n",
              "    </tr>\n",
              "    <tr>\n",
              "      <th>2</th>\n",
              "      <td>plate settlers</td>\n",
              "      <td>Monore Environmental</td>\n",
              "      <td>still</td>\n",
              "      <td>pending</td>\n",
              "      <td>https://www.monroeenvironmental.com/</td>\n",
              "      <td>https://www.monroeenvironmental.com/water-and-...</td>\n",
              "      <td>4/16/2020</td>\n",
              "      <td>Ian Cullings</td>\n",
              "      <td>NaN</td>\n",
              "    </tr>\n",
              "    <tr>\n",
              "      <th>3</th>\n",
              "      <td>sludge removal system</td>\n",
              "      <td>Monore Environmental</td>\n",
              "      <td>still</td>\n",
              "      <td>pending</td>\n",
              "      <td>https://www.monroeenvironmental.com/</td>\n",
              "      <td>http://www.monroeenvironmental.com/water-and-w...</td>\n",
              "      <td>4/16/2020</td>\n",
              "      <td>Ian Cullings</td>\n",
              "      <td>NaN</td>\n",
              "    </tr>\n",
              "    <tr>\n",
              "      <th>4</th>\n",
              "      <td>plate settler with hopper</td>\n",
              "      <td>Parkson</td>\n",
              "      <td>still</td>\n",
              "      <td>pending</td>\n",
              "      <td>https://www.parkson.com/</td>\n",
              "      <td>https://www.parkson.com/products/lamella-ecoflow</td>\n",
              "      <td>4/16/2020</td>\n",
              "      <td>Ian Cullings</td>\n",
              "      <td>Includes sloped sludge hopper in design</td>\n",
              "    </tr>\n",
              "    <tr>\n",
              "      <th>5</th>\n",
              "      <td>rapid mixer (mech)</td>\n",
              "      <td>Dynamix</td>\n",
              "      <td>still</td>\n",
              "      <td>pending</td>\n",
              "      <td>https://www.dynamixinc.com</td>\n",
              "      <td>https://www.dynamixinc.com/industries/waste-wa...</td>\n",
              "      <td>4/16/2020</td>\n",
              "      <td>Lynn Li</td>\n",
              "      <td>NaN</td>\n",
              "    </tr>\n",
              "    <tr>\n",
              "      <th>6</th>\n",
              "      <td>rapid mixer (mech)</td>\n",
              "      <td>Meurer Research</td>\n",
              "      <td>still</td>\n",
              "      <td>pending</td>\n",
              "      <td>http://www.meurerresearch.com</td>\n",
              "      <td>http://www.meurerresearch.com/products/mixer/</td>\n",
              "      <td>4/16/2020</td>\n",
              "      <td>Lynn Li</td>\n",
              "      <td>NaN</td>\n",
              "    </tr>\n",
              "    <tr>\n",
              "      <th>7</th>\n",
              "      <td>rapid mixer (mech)</td>\n",
              "      <td>Philadelphia Mixing Solutions</td>\n",
              "      <td>still</td>\n",
              "      <td>pending</td>\n",
              "      <td>https://www.philamixers.com</td>\n",
              "      <td>https://www.philamixers.com/industries/water-w...</td>\n",
              "      <td>4/16/20</td>\n",
              "      <td>Lynn Li</td>\n",
              "      <td>NaN</td>\n",
              "    </tr>\n",
              "  </tbody>\n",
              "</table>\n",
              "</div>"
            ],
            "text/plain": [
              "            item description  ...                                    notes\n",
              "0             plate settlers  ...                                      NaN\n",
              "1      sludge removal system  ...                                      NaN\n",
              "2             plate settlers  ...                                      NaN\n",
              "3      sludge removal system  ...                                      NaN\n",
              "4  plate settler with hopper  ...  Includes sloped sludge hopper in design\n",
              "5         rapid mixer (mech)  ...                                      NaN\n",
              "6         rapid mixer (mech)  ...                                      NaN\n",
              "7         rapid mixer (mech)  ...                                      NaN\n",
              "\n",
              "[8 rows x 9 columns]"
            ]
          },
          "metadata": {
            "tags": []
          },
          "execution_count": 4
        }
      ]
    },
    {
      "cell_type": "markdown",
      "metadata": {
        "id": "-jwNKdrCOmux",
        "colab_type": "text"
      },
      "source": [
        "# **Shared assumptions**\n",
        "\n",
        "See this [python file, Fairmont.py](https://github.com/monroews/4590FSP/blob/master/Fairmont.py)\n",
        "\n",
        "Use this file to hold parameters that are in the SOW or elsewhere that\n",
        "influence the design of the entire plant. This provides an easy mechanism\n",
        "for all of us to share the same assumptions. Read the SOW to find sections that relate to your part of the design and enter all pertinent variables into [Fairmont.py](https://github.com/monroews/4590FSP/blob/master/Fairmont.py) and then push those changes to github.\n",
        "\n",
        "# **Major Decisions**\n",
        "\n",
        "No decisions made yet!\n",
        "\n",
        "# **Next Steps and Challenges**\n",
        "\n",
        "The RMPE team will need to determine between the three different potential strategies developed so far: in-line Venturi mixer, AguaClara design, and \"waterfall\" design (hydraulic jump). \n",
        "\n",
        "[/Monroe/]: # (What are the physics of the AguaClara design and what might that look like at FSP scale? Why would you use a Venturi given that it is designed to minimize head loss and you want to generate turbulence?)\n",
        "\n",
        "The RMPE team will additionally need to create more detailed estimates for the time required for coagulant nanoparticles to attach to the surfaces of suspended solids.  The RMPE team may also need to chart eddy turnover time as a function of length in order to achieve the time needed in the design. RMPE may also need to work with the chemical dosage team in order to determine if there will be any buffer added, or other unexpected chemicals, which may affect the reactor.  \n",
        "\n",
        "[/Monroe/]: # (The time for coagulant nanoparticles to attach to particle surfaces is far in excess of the time allotted to rapid mix.  You don't need to consider that step in your design because it happens in the flocculator.)\n",
        "\n",
        "The RMPE will further its research by beginning to model basic and quantitatively interrogate chemical reactions and fluid mechanics within the reactor.  The RMPE team will additionally seek out rapid mix units in use in order to work off of an established precedent and choose a design. \n",
        "\n"
      ]
    },
    {
      "cell_type": "markdown",
      "metadata": {
        "id": "DXlB_I6ZOw2J",
        "colab_type": "text"
      },
      "source": [
        "# **Design - Rapid Mix**\n",
        "\n",
        "RMPE HAS NOT BEGUN THIS SECTION YET\n",
        "\n",
        "[/Monroe/]: # (Do a quick preliminary design next.) \n",
        "[/Dominic/]: #okay!\n",
        "\n"
      ]
    },
    {
      "cell_type": "code",
      "metadata": {
        "id": "IrwTrVM2hZqH",
        "colab_type": "code",
        "outputId": "a50337c2-a994-41e6-e16c-66e39431e768",
        "colab": {
          "base_uri": "https://localhost:8080/",
          "height": 69
        }
      },
      "source": [
        "#provided code \n",
        "print('The average flow to be treated at Fairmont is',fmt.q_ave.to(u.Mgal/u.day),'or')\n",
        "print('The maximum flow to be treated at Fairmont is',fmt.q_max.to(u.Mgal/u.day))\n",
        "specific_energy = (fmt.electricity_power/fmt.q_ave).to(u.J/u.L)\n",
        "temp = 15 * u.degC\n",
        "specific_potential_energy = (specific_energy / u.gravity / ac.density_water(temp)).to(u.m)\n",
        "print('The average amount of energy used per liter of water is expected to be',specific_energy,'or',specific_potential_energy,'of potential energy')"
      ],
      "execution_count": 5,
      "outputs": [
        {
          "output_type": "stream",
          "text": [
            "The average flow to be treated at Fairmont is 206.8 megagallon / day or\n",
            "The maximum flow to be treated at Fairmont is 465.3 megagallon / day\n",
            "The average amount of energy used per liter of water is expected to be 118.1 joule / liter or 12.05 meter of potential energy\n"
          ],
          "name": "stdout"
        }
      ]
    },
    {
      "cell_type": "markdown",
      "metadata": {
        "id": "1DOFQQw0FfN7",
        "colab_type": "text"
      },
      "source": [
        "Hydraulic Jump Calculations"
      ]
    },
    {
      "cell_type": "code",
      "metadata": {
        "id": "eMhaStEQFftL",
        "colab_type": "code",
        "colab": {
          "base_uri": "https://localhost:8080/",
          "height": 395
        },
        "outputId": "bbf7a8f4-9e3c-463d-a4fa-6f842d794121"
      },
      "source": [
        "#identify number of rapid mix units and flow through each\n",
        "num_rm_units = 3\n",
        "max_flow_per_jump = fmt.q_max/num_rm_units\n",
        "\n",
        "#determine the height ratio between Y2 and Y1\n",
        "g = 9.8 * (u.m/u.s**2) \n",
        "F1 = 9\n",
        "height_ratio = 0.5 * (((1+8*(F1**2))**0.5) - 1)\n",
        "print('ratio of Y2 to Y1 is ', height_ratio)\n",
        "\n",
        "#goal is to adjust height (Y1) to current flow rate\n",
        "jump_width = 5 * (u.m)\n",
        "Y1 = max_flow_per_jump/()\n",
        "V1 = F1*((g*Y1)**0.5)\n",
        "V2 = V1 / height_ratio\n",
        "print(V2)\n",
        "F2 = V2/(g*(height_ratio*Y1))**0.5\n",
        "print(F2)\n",
        "\n",
        "#calculate length of jump\n",
        "L = 220 * Y1 * np.arctanh((F1-1)/22)\n",
        "\n",
        "#calculate total energy flow difference between points 1 and 2\n",
        "theta = np.arctan((Y2-Y2)/L)\n",
        "Et1 = z1 + d1*np.cos(theta) + ((V1**2)/2*g)\n",
        "Et2 = z2 + d2*np.cos(theta) + ((V2**2)/2*g)\n",
        "energy_difference = Et2 - Et1\n",
        "\n",
        "#determine power\n",
        "spc_wght_water = g*ac.density_water(temp)\n",
        "power = spc_wght_water * max_flow_per_jump * energy_difference\n",
        "\n",
        "#estimate volume of jump \n",
        "jump_volume_est = 0.5*jump_width*(Y2-Y1)*L\n",
        "\n",
        "#estimate power dissipation for a given Q\n",
        "G = power/jump_volume_est\n",
        "\n",
        "\n",
        "\n",
        "\n",
        "\n",
        "\n",
        "\n",
        "\n",
        "\n"
      ],
      "execution_count": 27,
      "outputs": [
        {
          "output_type": "stream",
          "text": [
            "ratio of Y2 to Y1 is  12.237739202856996\n"
          ],
          "name": "stdout"
        },
        {
          "output_type": "error",
          "ename": "TypeError",
          "evalue": "ignored",
          "traceback": [
            "\u001b[0;31m---------------------------------------------------------------------------\u001b[0m",
            "\u001b[0;31mTypeError\u001b[0m                                 Traceback (most recent call last)",
            "\u001b[0;32m<ipython-input-27-993ed7061308>\u001b[0m in \u001b[0;36m<module>\u001b[0;34m()\u001b[0m\n\u001b[1;32m     13\u001b[0m \u001b[0mV1\u001b[0m \u001b[0;34m=\u001b[0m \u001b[0mF1\u001b[0m\u001b[0;34m*\u001b[0m\u001b[0;34m(\u001b[0m\u001b[0;34m(\u001b[0m\u001b[0mg\u001b[0m\u001b[0;34m*\u001b[0m\u001b[0mY1\u001b[0m\u001b[0;34m)\u001b[0m\u001b[0;34m**\u001b[0m\u001b[0;36m0.5\u001b[0m\u001b[0;34m)\u001b[0m\u001b[0;34m\u001b[0m\u001b[0;34m\u001b[0m\u001b[0m\n\u001b[1;32m     14\u001b[0m \u001b[0mV2\u001b[0m \u001b[0;34m=\u001b[0m \u001b[0mV1\u001b[0m \u001b[0;34m/\u001b[0m \u001b[0mheight_ratio\u001b[0m\u001b[0;34m\u001b[0m\u001b[0;34m\u001b[0m\u001b[0m\n\u001b[0;32m---> 15\u001b[0;31m \u001b[0mprint\u001b[0m\u001b[0;34m(\u001b[0m\u001b[0mV2\u001b[0m\u001b[0;34m)\u001b[0m\u001b[0;34m\u001b[0m\u001b[0;34m\u001b[0m\u001b[0m\n\u001b[0m\u001b[1;32m     16\u001b[0m \u001b[0mF2\u001b[0m \u001b[0;34m=\u001b[0m \u001b[0mV2\u001b[0m\u001b[0;34m/\u001b[0m\u001b[0;34m(\u001b[0m\u001b[0mg\u001b[0m\u001b[0;34m*\u001b[0m\u001b[0;34m(\u001b[0m\u001b[0mheight_ratio\u001b[0m\u001b[0;34m*\u001b[0m\u001b[0mY1\u001b[0m\u001b[0;34m)\u001b[0m\u001b[0;34m)\u001b[0m\u001b[0;34m**\u001b[0m\u001b[0;36m0.5\u001b[0m\u001b[0;34m\u001b[0m\u001b[0;34m\u001b[0m\u001b[0m\n\u001b[1;32m     17\u001b[0m \u001b[0mprint\u001b[0m\u001b[0;34m(\u001b[0m\u001b[0mF2\u001b[0m\u001b[0;34m)\u001b[0m\u001b[0;34m\u001b[0m\u001b[0;34m\u001b[0m\u001b[0m\n",
            "\u001b[0;32m/usr/local/lib/python3.6/dist-packages/pint/quantity.py\u001b[0m in \u001b[0;36m__str__\u001b[0;34m(self)\u001b[0m\n\u001b[1;32m    138\u001b[0m \u001b[0;34m\u001b[0m\u001b[0m\n\u001b[1;32m    139\u001b[0m     \u001b[0;32mdef\u001b[0m \u001b[0m__str__\u001b[0m\u001b[0;34m(\u001b[0m\u001b[0mself\u001b[0m\u001b[0;34m)\u001b[0m\u001b[0;34m:\u001b[0m\u001b[0;34m\u001b[0m\u001b[0;34m\u001b[0m\u001b[0m\n\u001b[0;32m--> 140\u001b[0;31m         \u001b[0;32mreturn\u001b[0m \u001b[0mformat\u001b[0m\u001b[0;34m(\u001b[0m\u001b[0mself\u001b[0m\u001b[0;34m)\u001b[0m\u001b[0;34m\u001b[0m\u001b[0;34m\u001b[0m\u001b[0m\n\u001b[0m\u001b[1;32m    141\u001b[0m \u001b[0;34m\u001b[0m\u001b[0m\n\u001b[1;32m    142\u001b[0m     \u001b[0;32mdef\u001b[0m \u001b[0m__repr__\u001b[0m\u001b[0;34m(\u001b[0m\u001b[0mself\u001b[0m\u001b[0;34m)\u001b[0m\u001b[0;34m:\u001b[0m\u001b[0;34m\u001b[0m\u001b[0;34m\u001b[0m\u001b[0m\n",
            "\u001b[0;32m/usr/local/lib/python3.6/dist-packages/pint/quantity.py\u001b[0m in \u001b[0;36m__format__\u001b[0;34m(self, spec)\u001b[0m\n\u001b[1;32m    184\u001b[0m                 \u001b[0mmstr\u001b[0m \u001b[0;34m=\u001b[0m \u001b[0mparts\u001b[0m\u001b[0;34m[\u001b[0m\u001b[0;36m0\u001b[0m\u001b[0;34m]\u001b[0m\u001b[0;34m\u001b[0m\u001b[0;34m\u001b[0m\u001b[0m\n\u001b[1;32m    185\u001b[0m             \u001b[0;32melse\u001b[0m\u001b[0;34m:\u001b[0m\u001b[0;34m\u001b[0m\u001b[0;34m\u001b[0m\u001b[0m\n\u001b[0;32m--> 186\u001b[0;31m                 \u001b[0mmstr\u001b[0m \u001b[0;34m=\u001b[0m \u001b[0mformat\u001b[0m\u001b[0;34m(\u001b[0m\u001b[0mobj\u001b[0m\u001b[0;34m.\u001b[0m\u001b[0mmagnitude\u001b[0m\u001b[0;34m,\u001b[0m \u001b[0mmspec\u001b[0m\u001b[0;34m)\u001b[0m\u001b[0;34m.\u001b[0m\u001b[0mreplace\u001b[0m\u001b[0;34m(\u001b[0m\u001b[0;34m'\\n'\u001b[0m\u001b[0;34m,\u001b[0m \u001b[0;34m''\u001b[0m\u001b[0;34m)\u001b[0m\u001b[0;34m\u001b[0m\u001b[0;34m\u001b[0m\u001b[0m\n\u001b[0m\u001b[1;32m    187\u001b[0m         \u001b[0;32melse\u001b[0m\u001b[0;34m:\u001b[0m\u001b[0;34m\u001b[0m\u001b[0;34m\u001b[0m\u001b[0m\n\u001b[1;32m    188\u001b[0m             \u001b[0mmstr\u001b[0m \u001b[0;34m=\u001b[0m \u001b[0mformat\u001b[0m\u001b[0;34m(\u001b[0m\u001b[0mobj\u001b[0m\u001b[0;34m.\u001b[0m\u001b[0mmagnitude\u001b[0m\u001b[0;34m,\u001b[0m \u001b[0mmspec\u001b[0m\u001b[0;34m)\u001b[0m\u001b[0;34m.\u001b[0m\u001b[0mreplace\u001b[0m\u001b[0;34m(\u001b[0m\u001b[0;34m'\\n'\u001b[0m\u001b[0;34m,\u001b[0m \u001b[0;34m''\u001b[0m\u001b[0;34m)\u001b[0m\u001b[0;34m\u001b[0m\u001b[0;34m\u001b[0m\u001b[0m\n",
            "\u001b[0;31mTypeError\u001b[0m: unsupported format string passed to numpy.ndarray.__format__"
          ]
        }
      ]
    },
    {
      "cell_type": "markdown",
      "metadata": {
        "id": "QtJcFDCBGmKF",
        "colab_type": "text"
      },
      "source": [
        "#**Design - Flocculation**"
      ]
    },
    {
      "cell_type": "code",
      "metadata": {
        "id": "4b6AiYkrGqHl",
        "colab_type": "code",
        "colab": {}
      },
      "source": [
        ""
      ],
      "execution_count": 0,
      "outputs": []
    },
    {
      "cell_type": "markdown",
      "metadata": {
        "id": "2SQpUtXCR5Xz",
        "colab_type": "text"
      },
      "source": [
        "# **Artistic Inspiration**\n",
        "\n",
        "Big whirls have little whirls,\n",
        "\n",
        "That feed on their velocity;\n",
        "\n",
        "And little whirls have lesser whirls,\n",
        "\n",
        "And so on to viscosity.”\n",
        "\n",
        "― Lewis Fry Richardson \n",
        "![alt text](https://www.moma.org/media/W1siZiIsIjQ2NzUxNyJdLFsicCIsImNvbnZlcnQiLCItcXVhbGl0eSA5MCAtcmVzaXplIDIwMDB4MjAwMFx1MDAzZSJdXQ.jpg?sha=314ebf8cc678676f)"
      ]
    }
  ]
}