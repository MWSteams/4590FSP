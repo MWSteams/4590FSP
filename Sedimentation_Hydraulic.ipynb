{
  "nbformat": 4,
  "nbformat_minor": 0,
  "metadata": {
    "colab": {
      "name": "Copy of Sedimentation_Hydraulic.ipynb",
      "provenance": [],
      "collapsed_sections": [],
      "include_colab_link": true
    },
    "kernelspec": {
      "name": "python3",
      "display_name": "Python 3"
    }
  },
  "cells": [
    {
      "cell_type": "markdown",
      "metadata": {
        "id": "view-in-github",
        "colab_type": "text"
      },
      "source": [
        "<a href=\"https://colab.research.google.com/github/MWSteams/4590FSP/blob/master/Sedimentation_Hydraulic.ipynb\" target=\"_parent\"><img src=\"https://colab.research.google.com/assets/colab-badge.svg\" alt=\"Open In Colab\"/></a>"
      ]
    },
    {
      "cell_type": "markdown",
      "metadata": {
        "id": "lZNgRSu1Uj8D",
        "colab_type": "text"
      },
      "source": [
        "# Sedimentation Hydraulic\n",
        "\n",
        "Claudia Buchard, Emma Payne, Kevin Sarmiento\n",
        "\n",
        "[/Monroe/]: # (Excellent! Great job bringing in the relevant equations. The AguaClara team has attempted to operate sedimentation tanks at higher upflow velocities and it is at least possible to operate at higher velocities than the 1 mm/s that AguaClara has used. Kevin has the perfect apparatus for testing this once we have permission to begin research again! Fortunately you can create designs that will respond correctly to changes in the upflow velocity and thus you can make it easy for the client to see what the designs would be for a range of upflow velocities.) \n"
      ]
    },
    {
      "cell_type": "code",
      "metadata": {
        "id": "QjwM4ovYUokZ",
        "colab_type": "code",
        "outputId": "4f475288-8ff6-42e8-8f61-307bdcf5aafd",
        "colab": {
          "base_uri": "https://localhost:8080/",
          "height": 561
        }
      },
      "source": [
        "!pip install aguaclara\n",
        "!pip install molmass"
      ],
      "execution_count": 0,
      "outputs": [
        {
          "output_type": "stream",
          "text": [
            "Collecting aguaclara\n",
            "\u001b[?25l  Downloading https://files.pythonhosted.org/packages/28/bd/ce0f9f758e58a15e5cc55812679fe6ded155da1b6bac2278e574ce63d728/aguaclara-0.2.0.tar.gz (87kB)\n",
            "\u001b[K     |████████████████████████████████| 92kB 2.4MB/s \n",
            "\u001b[?25hRequirement already satisfied: matplotlib in /usr/local/lib/python3.6/dist-packages (from aguaclara) (3.2.1)\n",
            "Requirement already satisfied: urllib3 in /usr/local/lib/python3.6/dist-packages (from aguaclara) (1.24.3)\n",
            "Collecting pint==0.8.1\n",
            "\u001b[?25l  Downloading https://files.pythonhosted.org/packages/1e/40/6938f7d544eef208a8183c2c80624289e8a4f4e0aea43f4658b9527077de/Pint-0.8.1.tar.gz (162kB)\n",
            "\u001b[K     |████████████████████████████████| 163kB 4.2MB/s \n",
            "\u001b[?25hRequirement already satisfied: pandas in /usr/local/lib/python3.6/dist-packages (from aguaclara) (1.0.3)\n",
            "Requirement already satisfied: scipy in /usr/local/lib/python3.6/dist-packages (from aguaclara) (1.4.1)\n",
            "Requirement already satisfied: pyparsing!=2.0.4,!=2.1.2,!=2.1.6,>=2.0.1 in /usr/local/lib/python3.6/dist-packages (from matplotlib->aguaclara) (2.4.7)\n",
            "Requirement already satisfied: numpy>=1.11 in /usr/local/lib/python3.6/dist-packages (from matplotlib->aguaclara) (1.18.2)\n",
            "Requirement already satisfied: kiwisolver>=1.0.1 in /usr/local/lib/python3.6/dist-packages (from matplotlib->aguaclara) (1.2.0)\n",
            "Requirement already satisfied: python-dateutil>=2.1 in /usr/local/lib/python3.6/dist-packages (from matplotlib->aguaclara) (2.8.1)\n",
            "Requirement already satisfied: cycler>=0.10 in /usr/local/lib/python3.6/dist-packages (from matplotlib->aguaclara) (0.10.0)\n",
            "Requirement already satisfied: pytz>=2017.2 in /usr/local/lib/python3.6/dist-packages (from pandas->aguaclara) (2018.9)\n",
            "Requirement already satisfied: six>=1.5 in /usr/local/lib/python3.6/dist-packages (from python-dateutil>=2.1->matplotlib->aguaclara) (1.12.0)\n",
            "Building wheels for collected packages: aguaclara, pint\n",
            "  Building wheel for aguaclara (setup.py) ... \u001b[?25l\u001b[?25hdone\n",
            "  Created wheel for aguaclara: filename=aguaclara-0.2.0-cp36-none-any.whl size=99623 sha256=adb3b7e2f7478a896f390dc718bd48c4067bbba471b7718d31cd3de0fd910af8\n",
            "  Stored in directory: /root/.cache/pip/wheels/34/e9/34/0d3722243083a982623290c205c14a08b54ed290ee29219fd2\n",
            "  Building wheel for pint (setup.py) ... \u001b[?25l\u001b[?25hdone\n",
            "  Created wheel for pint: filename=Pint-0.8.1-py2.py3-none-any.whl size=134156 sha256=a9dde43b0cbea9ae236c915aaa6eb90432a1faf59fbe581fd9850ec611b80725\n",
            "  Stored in directory: /root/.cache/pip/wheels/b4/56/36/7c4d6a4e3660e233b95e3b0482551915cb184abca0f93ee1dd\n",
            "Successfully built aguaclara pint\n",
            "Installing collected packages: pint, aguaclara\n",
            "Successfully installed aguaclara-0.2.0 pint-0.8.1\n",
            "Collecting molmass\n",
            "\u001b[?25l  Downloading https://files.pythonhosted.org/packages/12/2b/dd600a36b78bc9ebf9e8ff7c900150c7439af0c55504a4ab8213485cda94/molmass-2020.1.1-py3-none-any.whl (65kB)\n",
            "\u001b[K     |████████████████████████████████| 71kB 2.1MB/s \n",
            "\u001b[?25hInstalling collected packages: molmass\n",
            "Successfully installed molmass-2020.1.1\n"
          ],
          "name": "stdout"
        }
      ]
    },
    {
      "cell_type": "code",
      "metadata": {
        "id": "ttJT8q_wYhAV",
        "colab_type": "code",
        "outputId": "6c828394-2313-42c2-aba8-7451bf271673",
        "colab": {
          "base_uri": "https://localhost:8080/",
          "height": 204
        }
      },
      "source": [
        "from aguaclara.core.units import unit_registry as u\n",
        "import aguaclara as ac\n",
        "import matplotlib.pyplot as plt\n",
        "import numpy as np\n",
        "import pandas as pd\n",
        "import molmass as mol\n",
        "!wget https://raw.githubusercontent.com/monroews/4590FSP/master/Fairmont.py\n",
        "import Fairmont as fmt"
      ],
      "execution_count": 0,
      "outputs": [
        {
          "output_type": "stream",
          "text": [
            "--2020-04-20 13:13:35--  https://raw.githubusercontent.com/monroews/4590FSP/master/Fairmont.py\n",
            "Resolving raw.githubusercontent.com (raw.githubusercontent.com)... 151.101.0.133, 151.101.64.133, 151.101.128.133, ...\n",
            "Connecting to raw.githubusercontent.com (raw.githubusercontent.com)|151.101.0.133|:443... connected.\n",
            "HTTP request sent, awaiting response... 200 OK\n",
            "Length: 1604 (1.6K) [text/plain]\n",
            "Saving to: ‘Fairmont.py’\n",
            "\n",
            "\rFairmont.py           0%[                    ]       0  --.-KB/s               \rFairmont.py         100%[===================>]   1.57K  --.-KB/s    in 0s      \n",
            "\n",
            "2020-04-20 13:13:35 (153 MB/s) - ‘Fairmont.py’ saved [1604/1604]\n",
            "\n"
          ],
          "name": "stdout"
        }
      ]
    },
    {
      "cell_type": "markdown",
      "metadata": {
        "id": "2SQpUtXCR5Xz",
        "colab_type": "text"
      },
      "source": [
        "# Task Definition\n",
        "\n",
        "[/Monroe/]: # (Good task definition)\n",
        "\n",
        "The overall project has three main goals: \n",
        "\n",
        "1. To improve the source water quality of the LAAFP and lighten the burden on its filters by building a sedimentation plant upstream, \n",
        "2. To eliminate the need to operate the Cottonwood Treatment Plant and \n",
        "3. To mitigate the risk associated with arsenic sediment build up in the North Haiwee Reservoir. \n",
        "\n",
        "The goal of our team’s project is to design a sedimentation system with a floc blanket that can treat arsenic, TOC, and turbidity to allowable limits while maintaining high efficiency and minimizing space requirements at the treatment plant. This sedimentation system must be able to treat a design flow of 720 CFS and operate efficiently under a variety of turbidity, arsenic, TOC and emerging contaminant conditions. To complete this task we will need to decide on a set of design variables such as plan view area of the sedimentation tank, the geometry of the tank, upflow velocity, number of treatment trains, depth of the floc blanket, the physics of the diffusers in the resuspension system and the height of the floc hopper, as well as constraints for the plate settlers. With these variables decided we must then confirm that the flocculation-sedimentation system can treat the contaminants to allowable limits for various flow and concentration conditions."
      ]
    },
    {
      "cell_type": "markdown",
      "metadata": {
        "id": "WoGtXtBGQZr5",
        "colab_type": "text"
      },
      "source": [
        "# Executive Summary \n",
        "\n",
        "Highlight dominant constraints and your recommendation for the design.\n"
      ]
    },
    {
      "cell_type": "markdown",
      "metadata": {
        "id": "7DztAMPPJhqW",
        "colab_type": "text"
      },
      "source": [
        "The sedimentation tank must be able to process a design flow of 720 CFS to be sent to the LAAFP. The estimated influent water quality of 55 μg/L of arsenic, 4 mg/L of TOC, and 23 NTU of turbidity must be reduced to 10 μg/L, 3mg/L, and 3 NTU in order to meet the client standards. The proposed plan view area for the sedimentation tanks is 250' X 510', making maximum upflow velocity of the system 1.7 mm/s, and the surface loading rate is 0.5 gpm/ft^2. However, these values may be altered to create a better functioning system. The overall sedimentation tanks must be easily accessible for operations and maintenance, so must have adequate platforms and walkways for visibility. \n",
        "\n",
        "[/Monroe/]: # (What else could you add as high level summary? How about something about reducing the number of moving parts, improving the performance of the sedimentation tanks with a floc blanket, and ... ?)\n",
        "\n",
        "[/Monroe/]: # (Define what is meant by surface loading rate and show that number in mm/s as well. Good work doing some design calculations, but why didn't you use python to calculate these values? Goal is to get to the place where you default to python as your calculator of choice!)\n",
        "\n"
      ]
    },
    {
      "cell_type": "markdown",
      "metadata": {
        "id": "Jonv4dYSQghA",
        "colab_type": "text"
      },
      "source": [
        "# Constraints\n",
        "\n",
        "\n",
        "Constraint information taken from [Fairmont Sedimentation Plant Scope of Work Document](file:///C:/Users/Claudia/Downloads/Fairmont%20Sedimentation%20Plant%20Scope%20of%20Work%20_FINAL%2006-01-17.pdf) and [AguaClara Textbook](https://aguaclara.github.io/Textbook/Sedimentation/Sed_Derivations.html#floc-blanket-design)\n",
        "* Relevant regulations\n",
        "\n",
        ">>Permits required found in section X of document\n",
        "\n",
        "\n",
        "* client expectations\n",
        "\n",
        ">>Fairmont WTP will pre-treat incoming waters from LAA1, LAA2, and SWP-E then send them to the LAAFP for final treatment. \n",
        "\n",
        ">>Must eliminate the need for the Cottonwood Treatment Plant, thus preventing arsenic sedimentation in the North Haiwee Reservoir.\n",
        "\n",
        ">> Must be capable of treating 720 cfs\n",
        "\n",
        ">>Treatment standards: \n",
        "\n",
        "| Contaminant | Design Influent Water Quality  | Fairmont Sedimentation Plant Settled Water Goal | \n",
        "|---|---|---|\n",
        "| Arsenic (μg/L) | 55 | 10 |\n",
        "| TOC (mg/L)| 4 | 3 |\n",
        "|Turbidity (NTU) | 23 | 3 |\n",
        "\n",
        "\n",
        "* Site\n",
        "\n",
        ">>Water system-owned Fairmont Reservoir property\n",
        "\n",
        ">>Ave H and 170th street, Lancaster, CA\n",
        "\n",
        ">>Zone A-2-2, heavy agricultural\n",
        "\n",
        ">>250’ x 510’ proposed area for sedimentation- may want to break this constraint and use a larger area to use a smaller upflow velocity\n",
        "\n",
        "\n",
        "* budget\n",
        "\n",
        ">>Estimated to cost $220 million for the whole project\n",
        "\n",
        "* process capabilities including process design equations\n",
        "\n",
        ">>See **Physics** section\n",
        "\n",
        "\n",
        "* ease of use \n",
        "\n",
        ">>Adequate floc hopper height for easy sludge removal\n",
        "\n",
        "* operation requirements\n",
        "\n",
        ">>ferric chloride and a cationic polymer in flocculation\n",
        "\n",
        ">>Follows rapid mix and flocculation\n",
        "\n",
        ">>Estimated 416 hrs/year of treatment operations\n",
        "\n",
        "[/Monroe/]: # (Where does this number come from and what does it mean? Is this plant really only going to operate for a couple of weeks per year???)\n",
        "\n",
        "\n",
        "* maintainence requirements\n",
        "\n",
        ">>Walkways and platforms for easier maintenance and operation, open top for visibility\n",
        "\n",
        ">>Estimated 288 hrs/year of maintenance and construction hours\n",
        "\n",
        "* geometry/size requirements\n",
        "\n",
        ">>Surface loading rate for plate settlers- 0.5 gpm/ft^2, 0.339 mm/s \n",
        "\n",
        ">>Surface loading rate for AguaClara: 0.12mm/s\n",
        "\n",
        ">>60 degree angle for sedimentation tank\n",
        "\n",
        ">>Sedimentation tank 7m X 1m for AguaClara\n",
        "\n",
        ">>1/8th-¼ of an inch diffuser width minimum to make sure all particles can pass through\n",
        "\n",
        ">>Roughly less than 1cm of headless through diffusers\n",
        "\n",
        ">>1.7 mm/s upflow velocity if we use their plan view area, may want to use 1 mm/s instead to make it comparable to AguaClara sedimentation tanks\n",
        "\n",
        "\n",
        "# Physics\n",
        "\n",
        "Our goal is to design a sedimentation tank for the LAAWTP with many of the features of an AguaClara sedimentation tank. This would include a floc blanket and the bottom geometry used in current AguaClara sedimentation tanks. However, due to the large flow rate required for this plant a few features will be modified to be more efficient with space. We are looking to increase the overall size of each sedimentation unit from the AguaClara standard of 7 meters length and 1 meter width. To do this we will design a sedimentation tank with multiple influent manifolds and jet reversers. We will optimize the overall size and number of manifolds and reversers to reduce the overall footprint and material use. \n",
        "\n",
        "## Manifolds and diffusers \n",
        "One of the important things we need to design are the inlet manifolds and diffusers. The following are relevant equations that we will use for the design. \n",
        "\n",
        "Equation 645 in [AguaClara textbook](https://aguaclara.github.io/Textbook/Hydraulics/Hydraulics_Intro.html?highlight=manifold#equation-sed-diffuser-jet-velocity) is used to calculate the width of a diffuser based on the design upflow velocity and sedimentation tank dimensions.\n",
        "\n",
        "$$W_{diffuser} = \\frac{V_{floc Blanket} W_{Sed} B_{Diffuser}}{V_{Jet} S_{Diffuser}} $$\n",
        "\n",
        "The velocity of the jet from the diffuser is determined from the desired head loss. This is important because the greater the head loss at the diffusers the more uniform the flow throughout the entire length of the manifold that feeds the diffusers. \n",
        "\n",
        "Headloss from diffusers: \n",
        "$$H_{L\\space Diffuser}= \\frac{V_{Jet}^2}{2g}$$\n",
        "\n",
        "The following equation is the ratio between port velocity and manifold velocity from [AguaClara textbook](https://aguaclara.github.io/Textbook/Hydraulics/Hydraulics_Intro.html?highlight=manifold#equation-manifold-max-v-no-hl-series). This is an important design equation because it ensures that we have as uniform flow as possible. Keeping flow uniform helps prevent undesired circulations in the sedimentation tank which can lead to decreased performance. Additionally, this equation will be important when designing the piping between sedimentation basins. We would want to ensure even distribution between each sedimentation units.\n",
        "\n",
        "$$\\frac{\\bar v_{P}}{\\bar v_{M_1}} = \\sqrt{\\frac{\\Pi_{Q}^2 + 1}{2(1 - \\Pi_{Q}^2)}}$$\n",
        "\n",
        "Where $\\Pi_{Q}$ is the ratio of flow between the first and last oriface in the manifold which we like to keep at around a value of 0.85. \n",
        "\n",
        "$$\\Pi_{Q} = \\frac{Q_{Diffuser \\space 1 }}{Q_{Diffuser \\space n }}$$\n",
        "\n",
        "\n",
        "\n",
        "##plate settlers\n",
        "Plate settlers are important for verticle flow sedimentation tanks because they allow for greater removal efficiencies compared to vertical flow sedimentation tanks without them. The following equation is for finding length of plate settlers [AguaClara Textbook](https://aguaclara.github.io/Textbook/Sedimentation/Sed_Derivations.html#equation-sedimentation-sed-derivations-8) based on design parameters described below.\n",
        "\n",
        "$$L = \\frac{S\\left(\\frac{\\bar v_{z_{Plate}}}{\\bar v_c}-1\\right) + T\\left(\\frac{\\bar v_{z_{Plate}}}{\\bar v_c}\\right)}{sin\\alpha cos\\alpha}$$\n",
        "where:\n",
        "- $S$ is spacing between plates\n",
        "- $T$ is the thickness of the plates\n",
        "- $v_{up}$ is the upflow velocity\n",
        "- $v_c$ is the capture velocity\n",
        "- $\\alpha$ is the angle of the plate settlers\n",
        "\n",
        "For most of these variables we will be using the same constants that have been used in previous AguaClara plants. Some of these constants are not yet optimized and therefore require further research into how they affect overall plant performance. \n",
        "\n",
        "## particle sedimentation \n",
        "To find the terminal velocity of single particles in the sedimentation tank and plate settlers we can use the following equation if the flow regime is laminar. Retrieved from [AguaClara textbook](https://aguaclara.github.io/Textbook/Sedimentation/Sed_Intro.html#equation-sedimentation-sed-intro-3)\n",
        "\n",
        "$$ V_t = \\frac{gD^2}{18\\nu}\\frac{\\rho_{floc} - \\rho_{H_2O}}{\\rho_{H_2O}}$$\n",
        "\n",
        "If flow is turbulent the the terminal velocity equation will be as follows: \n",
        "$$v_t = \\sqrt{\\frac{4}{3}\\frac{gD}{C_D}\\frac{(\\rho_{floc}-\\rho_{H_2O})}{\\rho_{H_2O}}} $$ \n",
        "where $ C_D = \\frac{24}{Re}(1+0.150Re^{0.681})+\\frac{0.407}{1+ \\frac{8710}{Re}} $\n",
        "\n",
        "### Floc sedimentation \n",
        "To find the terminal velocity of flocs which are agrigates of primary particles we use the following equation: \n",
        "$$ v_t = \\frac{D_0^2g}{18\\Phi\\nu}\\frac{\\rho_{floc_0} -\\rho_{H_2O}}{\\rho_{H_2O}} \\left( \\frac{D}{D_0} \\right) ^{D_{fractal}-1} $$ Retrieved from eq. 405 in the [AguaClara Textbook](https://aguaclara.github.io/Textbook/Sedimentation/Sed_Intro.html#equation-sedimentation-sed-intro-6)\n",
        "\n",
        "With this we can get an approximation of the smallest size floc that our sedimentation tank can capture. \n",
        "\n",
        "##Tank Geometry\n",
        "We will using trigonometry to optimize the bottom geometry of the sedimentation tank. \n",
        "\n",
        "## Floc hopper \n",
        "\n",
        "The development of a model for sludge accumulation in the floc hopper would be useful. This would help us make decisions about the size and storage capacity that we should plan for in the floc hopper. Additionally, it would be informative for the operators to know how often to purge the floc hopper of sludge. \n",
        "\n",
        "# Table listing potential strategies to meet the constraints and treatment objectives\n",
        "\n",
        "\n",
        "| strategy | advantages  | disadvantages | data needed for decision |\n",
        "|---|---|---|---|\n",
        "| Experience + physics | high potential for success | requires knowledge | lots |\n",
        "| Playing with geometry| Can lead to simple and elegant designs | Requires a lot of imagination | Clear constraints|"
      ]
    },
    {
      "cell_type": "markdown",
      "metadata": {
        "id": "J9dPZVMbOka9",
        "colab_type": "text"
      },
      "source": [
        "# Vendors and contact information file\n",
        "\n",
        "See this [tab delimited spreadsheet](https://raw.githubusercontent.com/monroews/4590FSP/master/vendors.txt).\n",
        "\n",
        "Add rows to the vendor spreadsheet as you find them. The sheet can easily be edited in Excel. Just make sure to save it as a tab delimited sheet. Push your changes to github so the entire class has access to the document.\n",
        "\n"
      ]
    },
    {
      "cell_type": "code",
      "metadata": {
        "id": "l35d0BODlEsW",
        "colab_type": "code",
        "outputId": "631e7bca-a4eb-444e-c755-bd50f47c79b4",
        "colab": {
          "base_uri": "https://localhost:8080/",
          "height": 382
        }
      },
      "source": [
        "vendors = pd.read_csv('https://raw.githubusercontent.com/monroews/4590FSP/master/vendors.txt',sep='\\t')\n",
        "vendors"
      ],
      "execution_count": 0,
      "outputs": [
        {
          "output_type": "execute_result",
          "data": {
            "text/html": [
              "<div>\n",
              "<style scoped>\n",
              "    .dataframe tbody tr th:only-of-type {\n",
              "        vertical-align: middle;\n",
              "    }\n",
              "\n",
              "    .dataframe tbody tr th {\n",
              "        vertical-align: top;\n",
              "    }\n",
              "\n",
              "    .dataframe thead th {\n",
              "        text-align: right;\n",
              "    }\n",
              "</style>\n",
              "<table border=\"1\" class=\"dataframe\">\n",
              "  <thead>\n",
              "    <tr style=\"text-align: right;\">\n",
              "      <th></th>\n",
              "      <th>item description</th>\n",
              "      <th>vendor</th>\n",
              "      <th>contact first name</th>\n",
              "      <th>contact last name</th>\n",
              "      <th>vendor website</th>\n",
              "      <th>product info</th>\n",
              "      <th>date of contact</th>\n",
              "      <th>who made the contact</th>\n",
              "      <th>notes</th>\n",
              "    </tr>\n",
              "  </thead>\n",
              "  <tbody>\n",
              "    <tr>\n",
              "      <th>0</th>\n",
              "      <td>plate settlers</td>\n",
              "      <td>MRI</td>\n",
              "      <td>still</td>\n",
              "      <td>pending</td>\n",
              "      <td>http://www.meurerresearch.com/</td>\n",
              "      <td>http://www.meurerresearch.com/literaturemedia/...</td>\n",
              "      <td>4/16/2020</td>\n",
              "      <td>Ian Cullings</td>\n",
              "      <td>NaN</td>\n",
              "    </tr>\n",
              "    <tr>\n",
              "      <th>1</th>\n",
              "      <td>sludge removal system</td>\n",
              "      <td>MRI</td>\n",
              "      <td>still</td>\n",
              "      <td>pending</td>\n",
              "      <td>http://www.meurerresearch.com/</td>\n",
              "      <td>http://www.meurerresearch.com/products/hoseles...</td>\n",
              "      <td>4/16/2020</td>\n",
              "      <td>Ian Cullings</td>\n",
              "      <td>NaN</td>\n",
              "    </tr>\n",
              "    <tr>\n",
              "      <th>2</th>\n",
              "      <td>plate settlers</td>\n",
              "      <td>Monore Environmental</td>\n",
              "      <td>still</td>\n",
              "      <td>pending</td>\n",
              "      <td>https://www.monroeenvironmental.com/</td>\n",
              "      <td>https://www.monroeenvironmental.com/water-and-...</td>\n",
              "      <td>4/16/2020</td>\n",
              "      <td>Ian Cullings</td>\n",
              "      <td>NaN</td>\n",
              "    </tr>\n",
              "    <tr>\n",
              "      <th>3</th>\n",
              "      <td>sludge removal system</td>\n",
              "      <td>Monore Environmental</td>\n",
              "      <td>still</td>\n",
              "      <td>pending</td>\n",
              "      <td>https://www.monroeenvironmental.com/</td>\n",
              "      <td>http://www.monroeenvironmental.com/water-and-w...</td>\n",
              "      <td>4/16/2020</td>\n",
              "      <td>Ian Cullings</td>\n",
              "      <td>NaN</td>\n",
              "    </tr>\n",
              "    <tr>\n",
              "      <th>4</th>\n",
              "      <td>plate settler with hopper</td>\n",
              "      <td>Parkson</td>\n",
              "      <td>still</td>\n",
              "      <td>pending</td>\n",
              "      <td>https://www.parkson.com/</td>\n",
              "      <td>https://www.parkson.com/products/lamella-ecoflow</td>\n",
              "      <td>4/16/2020</td>\n",
              "      <td>Ian Cullings</td>\n",
              "      <td>Includes sloped sludge hopper in design</td>\n",
              "    </tr>\n",
              "    <tr>\n",
              "      <th>5</th>\n",
              "      <td>rapid mixer (mech)</td>\n",
              "      <td>Dynamix</td>\n",
              "      <td>still</td>\n",
              "      <td>pending</td>\n",
              "      <td>https://www.dynamixinc.com</td>\n",
              "      <td>https://www.dynamixinc.com/industries/waste-wa...</td>\n",
              "      <td>4/16/2020</td>\n",
              "      <td>Lynn Li</td>\n",
              "      <td>NaN</td>\n",
              "    </tr>\n",
              "    <tr>\n",
              "      <th>6</th>\n",
              "      <td>rapid mixer (mech)</td>\n",
              "      <td>Meurer Research</td>\n",
              "      <td>still</td>\n",
              "      <td>pending</td>\n",
              "      <td>http://www.meurerresearch.com</td>\n",
              "      <td>http://www.meurerresearch.com/products/mixer/</td>\n",
              "      <td>4/16/2020</td>\n",
              "      <td>Lynn Li</td>\n",
              "      <td>NaN</td>\n",
              "    </tr>\n",
              "    <tr>\n",
              "      <th>7</th>\n",
              "      <td>rapid mixer (mech)</td>\n",
              "      <td>Philadelphia Mixing Solutions</td>\n",
              "      <td>still</td>\n",
              "      <td>pending</td>\n",
              "      <td>https://www.philamixers.com</td>\n",
              "      <td>https://www.philamixers.com/industries/water-w...</td>\n",
              "      <td>4/16/20</td>\n",
              "      <td>Lynn Li</td>\n",
              "      <td>NaN</td>\n",
              "    </tr>\n",
              "  </tbody>\n",
              "</table>\n",
              "</div>"
            ],
            "text/plain": [
              "            item description  ...                                    notes\n",
              "0             plate settlers  ...                                      NaN\n",
              "1      sludge removal system  ...                                      NaN\n",
              "2             plate settlers  ...                                      NaN\n",
              "3      sludge removal system  ...                                      NaN\n",
              "4  plate settler with hopper  ...  Includes sloped sludge hopper in design\n",
              "5         rapid mixer (mech)  ...                                      NaN\n",
              "6         rapid mixer (mech)  ...                                      NaN\n",
              "7         rapid mixer (mech)  ...                                      NaN\n",
              "\n",
              "[8 rows x 9 columns]"
            ]
          },
          "metadata": {
            "tags": []
          },
          "execution_count": 3
        }
      ]
    },
    {
      "cell_type": "markdown",
      "metadata": {
        "id": "-jwNKdrCOmux",
        "colab_type": "text"
      },
      "source": [
        "# Shared assumptions\n",
        "\n",
        "See this [python file, Fairmont.py](https://github.com/monroews/4590FSP/blob/master/Fairmont.py)\n",
        "\n",
        "Use this file to hold parameters that are in the SOW or elsewhere that\n",
        "influence the design of the entire plant. This provides an easy mechanism\n",
        "for all of us to share the same assumptions. Read the SOW to find sections that relate to your part of the design and enter all pertinent variables into [Fairmont.py](https://github.com/monroews/4590FSP/blob/master/Fairmont.py) and then push those changes to github.\n",
        "\n",
        "# Major Decisions\n",
        "\n",
        "Write several paragraphs describing the major decisions that you will need to make in order to create a design and outline a strategy for how you will obtain the necessary information to make those decisions.\n",
        "\n",
        "# Next Steps and Challenges\n",
        "\n",
        "Summarize the next steps that you will be taking to move the design forward. Identify any challenges where you may need assistance."
      ]
    },
    {
      "cell_type": "markdown",
      "metadata": {
        "id": "DXlB_I6ZOw2J",
        "colab_type": "text"
      },
      "source": [
        "# Design\n",
        "\n",
        "Begin writing the code to start your design. Define flow rates, mass rates, energy requirements, and any readily calculated dimensions, velocities, flows, etc."
      ]
    },
    {
      "cell_type": "code",
      "metadata": {
        "id": "IrwTrVM2hZqH",
        "colab_type": "code",
        "outputId": "f64ca475-7d00-4def-ced1-f23b31ed0906",
        "colab": {
          "base_uri": "https://localhost:8080/",
          "height": 68
        }
      },
      "source": [
        "print('The average flow to be treated at Fairmont is',fmt.q_ave.to(u.Mgal/u.day),'or')\n",
        "print('The maximum flow to be treated at Fairmont is',fmt.q_max.to(u.Mgal/u.day))\n",
        "specific_energy = (fmt.electricity_power/fmt.q_ave).to(u.J/u.L)\n",
        "temp = 15 * u.degC\n",
        "specific_potential_energy = (specific_energy / u.gravity / ac.density_water(temp)).to(u.m)\n",
        "print('The average amount of energy used per liter of water is expected to be',specific_energy,'or',specific_potential_energy,'of potential energy')"
      ],
      "execution_count": 0,
      "outputs": [
        {
          "output_type": "stream",
          "text": [
            "The average flow to be treated at Fairmont is 206.8 megagallon / day or\n",
            "The maximum flow to be treated at Fairmont is 465.3 megagallon / day\n",
            "The average amount of energy used per liter of water is expected to be 118.1 joule / liter or 12.05 meter of potential energy\n"
          ],
          "name": "stdout"
        }
      ]
    },
    {
      "cell_type": "code",
      "metadata": {
        "id": "t3-geiBtYuN4",
        "colab_type": "code",
        "colab": {}
      },
      "source": [
        "##Number of treatment trains\n",
        "#The flow through the sedimentation tank unit cannot drop so low that the velocity is not sufficient to resuspend flocs\n",
        "# Hi "
      ],
      "execution_count": 0,
      "outputs": []
    },
    {
      "cell_type": "markdown",
      "metadata": {
        "id": "EXV9e_BjZm54",
        "colab_type": "text"
      },
      "source": [
        "For sand in a rapid sand filter the minimum fluidization velocity is found by \n",
        "\n",
        "$\\bar v_{MinFluidization} = \\frac{\\phi_{FiSand}^3 g D_{60}^2}{36 k \\nu \\left( 1 - \\phi_{FiSand} \\right)} \\left( \\frac{\\rho_{Sand}}{\\rho_{Water}} - 1 \\right)$\n",
        "\n",
        "If we assume resuspension of flocs follows the same physics we can find the minimum velocity, and thus minimum flow rate through a sedimentation tank unit, if we now the porosity, diameter and density of the flocs.\n",
        "\n"
      ]
    }
  ]
}