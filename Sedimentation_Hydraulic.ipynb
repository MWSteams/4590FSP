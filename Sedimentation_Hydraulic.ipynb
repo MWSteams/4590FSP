{
  "nbformat": 4,
  "nbformat_minor": 0,
  "metadata": {
    "colab": {
      "name": "Copy of Sedimentation_Hydraulic.ipynb",
      "provenance": [],
      "collapsed_sections": [],
      "include_colab_link": true
    },
    "kernelspec": {
      "name": "python3",
      "display_name": "Python 3"
    }
  },
  "cells": [
    {
      "cell_type": "markdown",
      "metadata": {
        "id": "view-in-github",
        "colab_type": "text"
      },
      "source": [
        "<a href=\"https://colab.research.google.com/github/MWSteams/4590FSP/blob/master/Sedimentation_Hydraulic.ipynb\" target=\"_parent\"><img src=\"https://colab.research.google.com/assets/colab-badge.svg\" alt=\"Open In Colab\"/></a>"
      ]
    },
    {
      "cell_type": "markdown",
      "metadata": {
        "id": "lZNgRSu1Uj8D",
        "colab_type": "text"
      },
      "source": [
        "# Sedimentation Hydraulic\n",
        "\n",
        "Claudia Buchard, Emma Payne, Kevin Sarmiento\n",
        "\n",
        "[/Monroe/]: # (Excellent! Great job bringing in the relevant equations. The AguaClara team has attempted to operate sedimentation tanks at higher upflow velocities and it is at least possible to operate at higher velocities than the 1 mm/s that AguaClara has used. Kevin has the perfect apparatus for testing this once we have permission to begin research again! Fortunately you can create designs that will respond correctly to changes in the upflow velocity and thus you can make it easy for the client to see what the designs would be for a range of upflow velocities.) \n"
      ]
    },
    {
      "cell_type": "code",
      "metadata": {
        "id": "QjwM4ovYUokZ",
        "colab_type": "code",
        "outputId": "0df62337-12ce-4164-c396-cbdfe12d8f92",
        "colab": {
          "base_uri": "https://localhost:8080/",
          "height": 260
        }
      },
      "source": [
        "!pip install aguaclara\n",
        "!pip install molmass"
      ],
      "execution_count": 31,
      "outputs": [
        {
          "output_type": "stream",
          "text": [
            "Requirement already satisfied: aguaclara in /usr/local/lib/python3.6/dist-packages (0.2.0)\n",
            "Requirement already satisfied: pint==0.8.1 in /usr/local/lib/python3.6/dist-packages (from aguaclara) (0.8.1)\n",
            "Requirement already satisfied: pandas in /usr/local/lib/python3.6/dist-packages (from aguaclara) (1.0.3)\n",
            "Requirement already satisfied: scipy in /usr/local/lib/python3.6/dist-packages (from aguaclara) (1.4.1)\n",
            "Requirement already satisfied: matplotlib in /usr/local/lib/python3.6/dist-packages (from aguaclara) (3.2.1)\n",
            "Requirement already satisfied: urllib3 in /usr/local/lib/python3.6/dist-packages (from aguaclara) (1.24.3)\n",
            "Requirement already satisfied: numpy>=1.13.3 in /usr/local/lib/python3.6/dist-packages (from pandas->aguaclara) (1.18.3)\n",
            "Requirement already satisfied: pytz>=2017.2 in /usr/local/lib/python3.6/dist-packages (from pandas->aguaclara) (2018.9)\n",
            "Requirement already satisfied: python-dateutil>=2.6.1 in /usr/local/lib/python3.6/dist-packages (from pandas->aguaclara) (2.8.1)\n",
            "Requirement already satisfied: pyparsing!=2.0.4,!=2.1.2,!=2.1.6,>=2.0.1 in /usr/local/lib/python3.6/dist-packages (from matplotlib->aguaclara) (2.4.7)\n",
            "Requirement already satisfied: kiwisolver>=1.0.1 in /usr/local/lib/python3.6/dist-packages (from matplotlib->aguaclara) (1.2.0)\n",
            "Requirement already satisfied: cycler>=0.10 in /usr/local/lib/python3.6/dist-packages (from matplotlib->aguaclara) (0.10.0)\n",
            "Requirement already satisfied: six>=1.5 in /usr/local/lib/python3.6/dist-packages (from python-dateutil>=2.6.1->pandas->aguaclara) (1.12.0)\n",
            "Requirement already satisfied: molmass in /usr/local/lib/python3.6/dist-packages (2020.1.1)\n"
          ],
          "name": "stdout"
        }
      ]
    },
    {
      "cell_type": "code",
      "metadata": {
        "id": "ttJT8q_wYhAV",
        "colab_type": "code",
        "outputId": "96a2f1bb-6ac2-42e0-a5aa-f71cd2983e3a",
        "colab": {
          "base_uri": "https://localhost:8080/",
          "height": 208
        }
      },
      "source": [
        "from aguaclara.core.units import unit_registry as u\n",
        "import aguaclara as ac\n",
        "import matplotlib.pyplot as plt\n",
        "import numpy as np\n",
        "import pandas as pd\n",
        "import molmass as mol\n",
        "!wget https://raw.githubusercontent.com/monroews/4590FSP/master/Fairmont.py\n",
        "import Fairmont as fmt"
      ],
      "execution_count": 32,
      "outputs": [
        {
          "output_type": "stream",
          "text": [
            "--2020-04-28 00:35:04--  https://raw.githubusercontent.com/monroews/4590FSP/master/Fairmont.py\n",
            "Resolving raw.githubusercontent.com (raw.githubusercontent.com)... 151.101.0.133, 151.101.64.133, 151.101.128.133, ...\n",
            "Connecting to raw.githubusercontent.com (raw.githubusercontent.com)|151.101.0.133|:443... connected.\n",
            "HTTP request sent, awaiting response... 200 OK\n",
            "Length: 2397 (2.3K) [text/plain]\n",
            "Saving to: ‘Fairmont.py.2’\n",
            "\n",
            "\rFairmont.py.2         0%[                    ]       0  --.-KB/s               \rFairmont.py.2       100%[===================>]   2.34K  --.-KB/s    in 0s      \n",
            "\n",
            "2020-04-28 00:35:05 (41.3 MB/s) - ‘Fairmont.py.2’ saved [2397/2397]\n",
            "\n"
          ],
          "name": "stdout"
        }
      ]
    },
    {
      "cell_type": "markdown",
      "metadata": {
        "id": "2SQpUtXCR5Xz",
        "colab_type": "text"
      },
      "source": [
        "# Task Definition\n",
        "\n",
        "[/Monroe/]: # (Good task definition)\n",
        "\n",
        "The overall project has three main goals: \n",
        "\n",
        "1. To improve the source water quality of the LAAFP and lighten the burden on its filters by building a sedimentation plant upstream, \n",
        "2. To eliminate the need to operate the Cottonwood Treatment Plant and \n",
        "3. To mitigate the risk associated with arsenic sediment build up in the North Haiwee Reservoir. \n",
        "\n",
        "The goal of our team’s project is to design a sedimentation system with a floc blanket that can treat arsenic, TOC, and turbidity to allowable limits while maintaining high efficiency and minimizing space requirements at the treatment plant. This sedimentation system must be able to treat a design flow of 720 CFS and operate efficiently under a variety of turbidity, arsenic, TOC and emerging contaminant conditions. To complete this task we will need to decide on a set of design variables such as plan view area of the sedimentation tank, the geometry of the tank, upflow velocity, number of treatment trains, depth of the floc blanket, the physics of the diffusers in the resuspension system and the height of the floc hopper, as well as constraints for the plate settlers. With these variables decided we must then confirm that the flocculation-sedimentation system can treat the contaminants to allowable limits for various flow and concentration conditions."
      ]
    },
    {
      "cell_type": "markdown",
      "metadata": {
        "id": "WoGtXtBGQZr5",
        "colab_type": "text"
      },
      "source": [
        "# Executive Summary \n",
        "\n",
        "Highlight dominant constraints and your recommendation for the design.\n"
      ]
    },
    {
      "cell_type": "markdown",
      "metadata": {
        "id": "7DztAMPPJhqW",
        "colab_type": "text"
      },
      "source": [
        "The sedimentation tank must be able to process a design flow of 720 CFS to be sent to the LAAFP. The estimated influent water quality of 55 μg/L of arsenic, 4 mg/L of TOC, and 23 NTU of turbidity must be reduced to 10 μg/L, 3mg/L, and 3 NTU in order to meet the client standards. The proposed plan view area for the sedimentation tanks is 250' X 510', making maximum upflow velocity of the system 1.7 mm/s, and the surface loading rate is 0.5 gpm/ft^2. However, these values may be altered to create a better functioning system. The overall sedimentation tanks must be easily accessible for operations and maintenance, so must have adequate platforms and walkways for visibility. \n",
        "\n",
        "[/Monroe/]: # (What else could you add as high level summary? How about something about reducing the number of moving parts, improving the performance of the sedimentation tanks with a floc blanket, and ... ?)\n",
        "\n",
        "[/Monroe/]: # (Define what is meant by surface loading rate and show that number in mm/s as well. Good work doing some design calculations, but why didn't you use python to calculate these values? Goal is to get to the place where you default to python as your calculator of choice!)\n",
        "\n"
      ]
    },
    {
      "cell_type": "markdown",
      "metadata": {
        "id": "Jonv4dYSQghA",
        "colab_type": "text"
      },
      "source": [
        "# Constraints\n",
        "\n",
        "\n",
        "Constraint information taken from [Fairmont Sedimentation Plant Scope of Work Document](file:///C:/Users/Claudia/Downloads/Fairmont%20Sedimentation%20Plant%20Scope%20of%20Work%20_FINAL%2006-01-17.pdf) and [AguaClara Textbook](https://aguaclara.github.io/Textbook/Sedimentation/Sed_Derivations.html#floc-blanket-design)\n",
        "* Relevant regulations\n",
        "\n",
        ">>Permits required found in section X of document\n",
        "\n",
        "\n",
        "* client expectations\n",
        "\n",
        ">>Fairmont WTP will pre-treat incoming waters from LAA1, LAA2, and SWP-E then send them to the LAAFP for final treatment. \n",
        "\n",
        ">>Must eliminate the need for the Cottonwood Treatment Plant, thus preventing arsenic sedimentation in the North Haiwee Reservoir.\n",
        "\n",
        ">> Must be capable of treating 720 cfs\n",
        "\n",
        ">>Treatment standards: \n",
        "\n",
        "| Contaminant | Design Influent Water Quality  | Fairmont Sedimentation Plant Settled Water Goal | \n",
        "|---|---|---|\n",
        "| Arsenic (μg/L) | 55 | 10 |\n",
        "| TOC (mg/L)| 4 | 3 |\n",
        "|Turbidity (NTU) | 23 | 3 |\n",
        "\n",
        "\n",
        "* Site\n",
        "\n",
        ">>Water system-owned Fairmont Reservoir property\n",
        "\n",
        ">>Ave H and 170th street, Lancaster, CA\n",
        "\n",
        ">>Zone A-2-2, heavy agricultural\n",
        "\n",
        ">>250’ x 510’ proposed area for sedimentation- may want to break this constraint and use a larger area to use a smaller upflow velocity\n",
        "\n",
        "\n",
        "* budget\n",
        "\n",
        ">>Estimated to cost $220 million for the whole project\n",
        "\n",
        "* process capabilities including process design equations\n",
        "\n",
        ">>See **Physics** section\n",
        "\n",
        "\n",
        "* ease of use \n",
        "\n",
        ">>Adequate floc hopper height for easy sludge removal\n",
        "\n",
        "* operation requirements\n",
        "\n",
        ">>ferric chloride and a cationic polymer in flocculation\n",
        "\n",
        ">>Follows rapid mix and flocculation\n",
        "\n",
        ">>Estimated 416 hrs/year of treatment operations\n",
        "\n",
        "[/Monroe/]: # (Where does this number come from and what does it mean? Is this plant really only going to operate for a couple of weeks per year???)\n",
        "\n",
        "\n",
        "* maintainence requirements\n",
        "\n",
        ">>Walkways and platforms for easier maintenance and operation, open top for visibility\n",
        "\n",
        ">>Estimated 288 hrs/year of maintenance and construction hours\n",
        "\n",
        "* geometry/size requirements\n",
        "\n",
        ">>Surface loading rate for plate settlers- 0.5 gpm/ft^2, 0.339 mm/s \n",
        "\n",
        ">>Surface loading rate for AguaClara: 0.12mm/s\n",
        "\n",
        ">>60 degree angle for sedimentation tank\n",
        "\n",
        ">>Sedimentation tank 7m X 1m for AguaClara\n",
        "\n",
        ">>1/8th-¼ of an inch diffuser width minimum to make sure all particles can pass through\n",
        "\n",
        ">>Roughly less than 1cm of headless through diffusers\n",
        "\n",
        ">>1.7 mm/s upflow velocity if we use their plan view area, may want to use 1 mm/s instead to make it comparable to AguaClara sedimentation tanks\n",
        "\n",
        "\n",
        "# Physics\n",
        "\n",
        "Our goal is to design a sedimentation tank for the LAAWTP with many of the features of an AguaClara sedimentation tank. This would include a floc blanket and the bottom geometry used in current AguaClara sedimentation tanks. However, due to the large flow rate required for this plant a few features will be modified to be more efficient with space. We are looking to increase the overall size of each sedimentation unit from the AguaClara standard of 7 meters length and 1 meter width. To do this we will design a sedimentation tank with multiple influent manifolds and jet reversers. We will optimize the overall size and number of manifolds and reversers to reduce the overall footprint and material use. \n",
        "\n",
        "## Manifolds and diffusers \n",
        "One of the important things we need to design are the inlet manifolds and diffusers. The following are relevant equations that we will use for the design. \n",
        "\n",
        "Equation 645 in [AguaClara textbook](https://aguaclara.github.io/Textbook/Hydraulics/Hydraulics_Intro.html?highlight=manifold#equation-sed-diffuser-jet-velocity) is used to calculate the width of a diffuser based on the design upflow velocity and sedimentation tank dimensions.\n",
        "\n",
        "$$W_{diffuser} = \\frac{V_{floc Blanket} W_{Sed} B_{Diffuser}}{V_{Jet} S_{Diffuser}} $$\n",
        "\n",
        "The velocity of the jet from the diffuser is determined from the desired head loss. This is important because the greater the head loss at the diffusers the more uniform the flow throughout the entire length of the manifold that feeds the diffusers. \n",
        "\n",
        "Headloss from diffusers: \n",
        "$$H_{L\\space Diffuser}= \\frac{V_{Jet}^2}{2g}$$\n",
        "\n",
        "The following equation is the ratio between port velocity and manifold velocity from [AguaClara textbook](https://aguaclara.github.io/Textbook/Hydraulics/Hydraulics_Intro.html?highlight=manifold#equation-manifold-max-v-no-hl-series). This is an important design equation because it ensures that we have as uniform flow as possible. Keeping flow uniform helps prevent undesired circulations in the sedimentation tank which can lead to decreased performance. Additionally, this equation will be important when designing the piping between sedimentation basins. We would want to ensure even distribution between each sedimentation units.\n",
        "\n",
        "$$\\frac{\\bar v_{P}}{\\bar v_{M_1}} = \\sqrt{\\frac{\\Pi_{Q}^2 + 1}{2(1 - \\Pi_{Q}^2)}}$$\n",
        "\n",
        "Where $\\Pi_{Q}$ is the ratio of flow between the first and last oriface in the manifold which we like to keep at around a value of 0.85. \n",
        "\n",
        "$$\\Pi_{Q} = \\frac{Q_{Diffuser \\space 1 }}{Q_{Diffuser \\space n }}$$\n",
        "\n",
        "\n",
        "\n",
        "##plate settlers\n",
        "Plate settlers are important for verticle flow sedimentation tanks because they allow for greater removal efficiencies compared to vertical flow sedimentation tanks without them. The following equation is for finding length of plate settlers [AguaClara Textbook](https://aguaclara.github.io/Textbook/Sedimentation/Sed_Derivations.html#equation-sedimentation-sed-derivations-8) based on design parameters described below.\n",
        "\n",
        "$$L = \\frac{S\\left(\\frac{\\bar v_{z_{Plate}}}{\\bar v_c}-1\\right) + T\\left(\\frac{\\bar v_{z_{Plate}}}{\\bar v_c}\\right)}{sin\\alpha cos\\alpha}$$\n",
        "where:\n",
        "- $S$ is spacing between plates\n",
        "- $T$ is the thickness of the plates\n",
        "- $v_{up}$ is the upflow velocity\n",
        "- $v_c$ is the capture velocity\n",
        "- $\\alpha$ is the angle of the plate settlers\n",
        "\n",
        "For most of these variables we will be using the same constants that have been used in previous AguaClara plants. Some of these constants are not yet optimized and therefore require further research into how they affect overall plant performance. \n",
        "\n",
        "## particle sedimentation \n",
        "To find the terminal velocity of single particles in the sedimentation tank and plate settlers we can use the following equation if the flow regime is laminar. Retrieved from [AguaClara textbook](https://aguaclara.github.io/Textbook/Sedimentation/Sed_Intro.html#equation-sedimentation-sed-intro-3)\n",
        "\n",
        "$$ V_t = \\frac{gD^2}{18\\nu}\\frac{\\rho_{floc} - \\rho_{H_2O}}{\\rho_{H_2O}}$$\n",
        "\n",
        "If flow is turbulent the the terminal velocity equation will be as follows: \n",
        "$$v_t = \\sqrt{\\frac{4}{3}\\frac{gD}{C_D}\\frac{(\\rho_{floc}-\\rho_{H_2O})}{\\rho_{H_2O}}} $$ \n",
        "where $ C_D = \\frac{24}{Re}(1+0.150Re^{0.681})+\\frac{0.407}{1+ \\frac{8710}{Re}} $\n",
        "\n",
        "### Floc sedimentation \n",
        "To find the terminal velocity of flocs which are agrigates of primary particles we use the following equation: \n",
        "$$ v_t = \\frac{D_0^2g}{18\\Phi\\nu}\\frac{\\rho_{floc_0} -\\rho_{H_2O}}{\\rho_{H_2O}} \\left( \\frac{D}{D_0} \\right) ^{D_{fractal}-1} $$ Retrieved from eq. 405 in the [AguaClara Textbook](https://aguaclara.github.io/Textbook/Sedimentation/Sed_Intro.html#equation-sedimentation-sed-intro-6)\n",
        "\n",
        "With this we can get an approximation of the smallest size floc that our sedimentation tank can capture. \n",
        "\n",
        "##Tank Geometry\n",
        "We will using trigonometry to optimize the bottom geometry of the sedimentation tank. \n",
        "\n",
        "## Floc hopper \n",
        "\n",
        "The development of a model for sludge accumulation in the floc hopper would be useful. This would help us make decisions about the size and storage capacity that we should plan for in the floc hopper. Additionally, it would be informative for the operators to know how often to purge the floc hopper of sludge. \n",
        "\n",
        "# Table listing potential strategies to meet the constraints and treatment objectives\n",
        "\n",
        "\n",
        "| strategy | advantages  | disadvantages | data needed for decision |\n",
        "|---|---|---|---|\n",
        "| Experience + physics | high potential for success | requires knowledge | lots |\n",
        "| Playing with geometry| Can lead to simple and elegant designs | Requires a lot of imagination | Clear constraints|"
      ]
    },
    {
      "cell_type": "markdown",
      "metadata": {
        "id": "J9dPZVMbOka9",
        "colab_type": "text"
      },
      "source": [
        "# Vendors and contact information file\n",
        "\n",
        "See this [tab delimited spreadsheet](https://raw.githubusercontent.com/monroews/4590FSP/master/vendors.txt).\n",
        "\n",
        "Add rows to the vendor spreadsheet as you find them. The sheet can easily be edited in Excel. Just make sure to save it as a tab delimited sheet. Push your changes to github so the entire class has access to the document.\n",
        "\n"
      ]
    },
    {
      "cell_type": "code",
      "metadata": {
        "id": "l35d0BODlEsW",
        "colab_type": "code",
        "outputId": "44e3c318-08fa-4af8-a2fe-e62e727694e3",
        "colab": {
          "base_uri": "https://localhost:8080/",
          "height": 537
        }
      },
      "source": [
        "vendors = pd.read_csv('https://raw.githubusercontent.com/monroews/4590FSP/master/vendors.txt',sep='\\t')\n",
        "vendors"
      ],
      "execution_count": 33,
      "outputs": [
        {
          "output_type": "execute_result",
          "data": {
            "text/html": [
              "<div>\n",
              "<style scoped>\n",
              "    .dataframe tbody tr th:only-of-type {\n",
              "        vertical-align: middle;\n",
              "    }\n",
              "\n",
              "    .dataframe tbody tr th {\n",
              "        vertical-align: top;\n",
              "    }\n",
              "\n",
              "    .dataframe thead th {\n",
              "        text-align: right;\n",
              "    }\n",
              "</style>\n",
              "<table border=\"1\" class=\"dataframe\">\n",
              "  <thead>\n",
              "    <tr style=\"text-align: right;\">\n",
              "      <th></th>\n",
              "      <th>item description</th>\n",
              "      <th>vendor</th>\n",
              "      <th>contact first name</th>\n",
              "      <th>contact last name</th>\n",
              "      <th>vendor website</th>\n",
              "      <th>product info</th>\n",
              "      <th>date of contact</th>\n",
              "      <th>who made the contact</th>\n",
              "      <th>notes</th>\n",
              "    </tr>\n",
              "  </thead>\n",
              "  <tbody>\n",
              "    <tr>\n",
              "      <th>0</th>\n",
              "      <td>plate settlers</td>\n",
              "      <td>MRI</td>\n",
              "      <td>still</td>\n",
              "      <td>pending</td>\n",
              "      <td>http://www.meurerresearch.com/</td>\n",
              "      <td>http://www.meurerresearch.com/literaturemedia/...</td>\n",
              "      <td>4/16/2020</td>\n",
              "      <td>Ian Cullings</td>\n",
              "      <td>NaN</td>\n",
              "    </tr>\n",
              "    <tr>\n",
              "      <th>1</th>\n",
              "      <td>sludge removal system</td>\n",
              "      <td>MRI</td>\n",
              "      <td>still</td>\n",
              "      <td>pending</td>\n",
              "      <td>http://www.meurerresearch.com/</td>\n",
              "      <td>http://www.meurerresearch.com/products/hoseles...</td>\n",
              "      <td>4/16/2020</td>\n",
              "      <td>Ian Cullings</td>\n",
              "      <td>NaN</td>\n",
              "    </tr>\n",
              "    <tr>\n",
              "      <th>2</th>\n",
              "      <td>plate settlers</td>\n",
              "      <td>Monore Environmental</td>\n",
              "      <td>still</td>\n",
              "      <td>pending</td>\n",
              "      <td>https://www.monroeenvironmental.com/</td>\n",
              "      <td>https://www.monroeenvironmental.com/water-and-...</td>\n",
              "      <td>4/16/2020</td>\n",
              "      <td>Ian Cullings</td>\n",
              "      <td>NaN</td>\n",
              "    </tr>\n",
              "    <tr>\n",
              "      <th>3</th>\n",
              "      <td>sludge removal system</td>\n",
              "      <td>Monore Environmental</td>\n",
              "      <td>still</td>\n",
              "      <td>pending</td>\n",
              "      <td>https://www.monroeenvironmental.com/</td>\n",
              "      <td>http://www.monroeenvironmental.com/water-and-w...</td>\n",
              "      <td>4/16/2020</td>\n",
              "      <td>Ian Cullings</td>\n",
              "      <td>NaN</td>\n",
              "    </tr>\n",
              "    <tr>\n",
              "      <th>4</th>\n",
              "      <td>plate settler with hopper</td>\n",
              "      <td>Parkson</td>\n",
              "      <td>still</td>\n",
              "      <td>pending</td>\n",
              "      <td>https://www.parkson.com/</td>\n",
              "      <td>https://www.parkson.com/products/lamella-ecoflow</td>\n",
              "      <td>4/16/2020</td>\n",
              "      <td>Ian Cullings</td>\n",
              "      <td>Includes sloped sludge hopper in design</td>\n",
              "    </tr>\n",
              "    <tr>\n",
              "      <th>5</th>\n",
              "      <td>rapid mixer (mech)</td>\n",
              "      <td>Dynamix</td>\n",
              "      <td>still</td>\n",
              "      <td>pending</td>\n",
              "      <td>https://www.dynamixinc.com</td>\n",
              "      <td>https://www.dynamixinc.com/industries/waste-wa...</td>\n",
              "      <td>4/16/2020</td>\n",
              "      <td>Lynn Li</td>\n",
              "      <td>NaN</td>\n",
              "    </tr>\n",
              "    <tr>\n",
              "      <th>6</th>\n",
              "      <td>rapid mixer (mech)</td>\n",
              "      <td>Meurer Research</td>\n",
              "      <td>still</td>\n",
              "      <td>pending</td>\n",
              "      <td>http://www.meurerresearch.com</td>\n",
              "      <td>http://www.meurerresearch.com/products/mixer/</td>\n",
              "      <td>4/16/2020</td>\n",
              "      <td>Lynn Li</td>\n",
              "      <td>NaN</td>\n",
              "    </tr>\n",
              "    <tr>\n",
              "      <th>7</th>\n",
              "      <td>rapid mixer (mech)</td>\n",
              "      <td>Philadelphia Mixing Solutions</td>\n",
              "      <td>still</td>\n",
              "      <td>pending</td>\n",
              "      <td>https://www.philamixers.com</td>\n",
              "      <td>https://www.philamixers.com/industries/water-w...</td>\n",
              "      <td>4/16/20</td>\n",
              "      <td>Lynn Li</td>\n",
              "      <td>NaN</td>\n",
              "    </tr>\n",
              "  </tbody>\n",
              "</table>\n",
              "</div>"
            ],
            "text/plain": [
              "            item description  ...                                    notes\n",
              "0             plate settlers  ...                                      NaN\n",
              "1      sludge removal system  ...                                      NaN\n",
              "2             plate settlers  ...                                      NaN\n",
              "3      sludge removal system  ...                                      NaN\n",
              "4  plate settler with hopper  ...  Includes sloped sludge hopper in design\n",
              "5         rapid mixer (mech)  ...                                      NaN\n",
              "6         rapid mixer (mech)  ...                                      NaN\n",
              "7         rapid mixer (mech)  ...                                      NaN\n",
              "\n",
              "[8 rows x 9 columns]"
            ]
          },
          "metadata": {
            "tags": []
          },
          "execution_count": 33
        }
      ]
    },
    {
      "cell_type": "markdown",
      "metadata": {
        "id": "-jwNKdrCOmux",
        "colab_type": "text"
      },
      "source": [
        "# Shared assumptions\n",
        "\n",
        "See this [python file, Fairmont.py](https://github.com/monroews/4590FSP/blob/master/Fairmont.py)\n",
        "\n",
        "Use this file to hold parameters that are in the SOW or elsewhere that\n",
        "influence the design of the entire plant. This provides an easy mechanism\n",
        "for all of us to share the same assumptions. Read the SOW to find sections that relate to your part of the design and enter all pertinent variables into [Fairmont.py](https://github.com/monroews/4590FSP/blob/master/Fairmont.py) and then push those changes to github.\n",
        "\n",
        "# Major Decisions\n",
        "\n",
        "Write several paragraphs describing the major decisions that you will need to make in order to create a design and outline a strategy for how you will obtain the necessary information to make those decisions.\n",
        "\n",
        "# Next Steps and Challenges\n",
        "\n",
        "Summarize the next steps that you will be taking to move the design forward. Identify any challenges where you may need assistance."
      ]
    },
    {
      "cell_type": "markdown",
      "metadata": {
        "id": "DXlB_I6ZOw2J",
        "colab_type": "text"
      },
      "source": [
        "# Design\n",
        "\n",
        "Begin writing the code to start your design. Define flow rates, mass rates, energy requirements, and any readily calculated dimensions, velocities, flows, etc."
      ]
    },
    {
      "cell_type": "code",
      "metadata": {
        "id": "IrwTrVM2hZqH",
        "colab_type": "code",
        "outputId": "60bd92e9-3adf-4608-c4b9-051888eb615d",
        "colab": {
          "base_uri": "https://localhost:8080/",
          "height": 69
        }
      },
      "source": [
        "print('The average flow to be treated at Fairmont is',fmt.q_ave.to(u.Mgal/u.day),'or')\n",
        "print('The maximum flow to be treated at Fairmont is',fmt.q_max.to(u.Mgal/u.day))\n",
        "specific_energy = (fmt.electricity_power/fmt.q_ave).to(u.J/u.L)\n",
        "temp = 15 * u.degC\n",
        "specific_potential_energy = (specific_energy / u.gravity / ac.density_water(temp)).to(u.m)\n",
        "print('The average amount of energy used per liter of water is expected to be',specific_energy,'or',specific_potential_energy,'of potential energy')"
      ],
      "execution_count": 34,
      "outputs": [
        {
          "output_type": "stream",
          "text": [
            "The average flow to be treated at Fairmont is 206.8 megagallon / day or\n",
            "The maximum flow to be treated at Fairmont is 465.3 megagallon / day\n",
            "The average amount of energy used per liter of water is expected to be 118.1 joule / liter or 12.05 meter of potential energy\n"
          ],
          "name": "stdout"
        }
      ]
    },
    {
      "cell_type": "markdown",
      "metadata": {
        "id": "xxVD4xni5rrw",
        "colab_type": "text"
      },
      "source": [
        "In choosing the number of sedimentation units and their size it is important to consider a few constrains. If a plant has many smaller sedimentation units then it would be combersome and inefficient to run them all. However, having smaller units allows operators to more precisly control the upflow velocities in the active sedimentation tanks if the total water demand increases or drops. At the other end of the spectrum, if there is a small number of very large sedimentation units then it would be easier for operators to control those few units. However, if there is a need to take one unit offline then the total production decreases at a higher percent of the total flow than with smaller units. Somewhere in between is the \"ideal\". Based on this notion, we propose the Fairmont Sedimentation Plant use 8 sedimentation units. To find the dimensions of each unit we must define the maximum operating upflow velocity in the sedimentation units. \n",
        "\n",
        "The sedimentation tanks that we are designing are vertical upflow sed tanks that will have a fluidized/suspended bed of flocs in what we call a floc blanket. The upward velocity in the sedimentation tanks will impact whether or not a floc blanket can be formed. If the upflow velocity is too high then only the very large flocs will be captured by the plate settlers, no floc blanket will form, and plant performance will drop below desired. AguaClara designs sedimentation tanks with floc blankets and upflow velocities of 1 mm/s. This design has proven to be very effective at producing effluent turbidities below 1 NTU. Given the design max flow rate of this plant and the space constrictions a higher upflow velocity is considered for sedimentation. In 2015, Casey Garland, a Ph.D. student working on floc blanket research carried out experiments to test if higher Energy Dissipation Rates(EDR) at the injection site of the sedimentation tank affected performance. She carried these lab scale tests out at 1.2 mm/s and 1.6 mm/s upflow velocities with great performance. This is promising because it allows us to increase the maximum upflow velocity from 1mm/s to 1.6 mm/s at the Fairmont plant. \n",
        "\n",
        "Based on the maximum upflow velocity, maximum design flow rate of 720 cubic feet per second, and the number of units we want (8) we calculated each unit would be 40 meters long by 39.8 meters wide. It would perhaps be alright to round the dimensions out to 40 x 40 meters to make the tanks uniform. The total active sedimentation area required for all 8 units is 12,800 square meters. While this is more area than what the Scope of Work alocated for the sedimentation units, 11,850 square meters, we believe it is still feasible. \n",
        "\n",
        "<p align=\"center\">\n",
        "  <img src=\"https://raw.githubusercontent.com/MWSteams/4590FSP/master/Images/Sedimentation_Hydraulic/FSP_sed_tank_top_view_1.0.JPG\" height=400>\n",
        "</p>\n",
        "<p align=\"center\">\n",
        "\n",
        "**Figure 1:** A bird's-eye view of the proposed sedimentation unit with floc hopper channel visible and preliminary dimensions\n",
        "\n",
        "<p align=\"center\">\n",
        "  <img src=\"https://raw.githubusercontent.com/MWSteams/4590FSP/master/Images/Sedimentation_Hydraulic/FSP_sed_tank_side_view_1.0.JPG\" height=250>\n",
        "</p>\n",
        "<p align=\"center\">\n",
        "\n",
        "**Figure 2:** A side view of the proposed sedimentation unit with floc hopper channel visible and bottom geometry\n",
        "\n",
        "The following code illustrates how the dimensions of the tank were calculated. It also shows that this preliminary design is feasable in a number of ways. The first thing we wanted to check was the range of flow rates that this plant could operate in. We are designing the plant so that it could meet all the treatment goals at maximum capacity. However, the plant will operate at a range of different flow rates. To predict if this would be an issue we created code that allowed us to easily find the upflow velocities at different flow rates with different number of sedimentation units online. \n",
        "\n",
        "We saw that when the plant is operating at its average flow rate of 9.06 cubic meters per second and all sed units are in operation the resulting upflow velocity is 0.71mm/s. There is no evidence suggesting a floc blanket could not form at this slower velocity. However, we were concerned that the reduced flow rate in each tank would make it more difficult for the jet reverser to resuspend settling flocs and as a result begin to fill with sludge. This would be a failure mode and we want to avoid this. \n",
        "\n",
        "<p align=\"center\">\n",
        "  <img src=\"https://raw.githubusercontent.com/MWSteams/4590FSP/master/Images/Sedimentation_Hydraulic/screenshot_jet_reverser_Garland_2015.JPG\" height=250>\n",
        "</p>\n",
        "<p align=\"center\"> \n",
        "\n",
        "**[(Garland, 2015)](https://www.researchgate.net/publication/287358758_Influence_of_Variable_Inlet_Jet_Velocity_on_Failure_Modes_of_a_Floc_Blanket_in_a_Water_Treatment_Process_Train)**\n",
        "\n",
        "Casey Garland examined this failure mode in her Ph.D thesis and concluded that in order to prevent flocs from filling up the jet reverses an Energy Dissipation Rate (EDR) above ~1 mW/kg was desired. \n",
        "\n",
        "$$\\epsilon_{Jet} = \\frac{(\\Pi_{Jet}V_{Jet})^3}{D_{Jet}} $$\n",
        "\n",
        "**[(Garland, 2015)](https://www.researchgate.net/publication/287358758_Influence_of_Variable_Inlet_Jet_Velocity_on_Failure_Modes_of_a_Floc_Blanket_in_a_Water_Treatment_Process_Train)**\n",
        "\n",
        "\n",
        "\n",
        "<p align=\"center\">\n",
        "  <img src=\"https://raw.githubusercontent.com/MWSteams/4590FSP/master/Images/Sedimentation_Hydraulic/jet_reverser_Garland_2015.JPG\" height=300>\n",
        "</p>\n",
        "<p align=\"center\">\n",
        "\n",
        "We will use this as a design constraint as we move towards the design of the diffusers and jet reversers. "
      ]
    },
    {
      "cell_type": "code",
      "metadata": {
        "id": "Jtqs_Ez7513P",
        "colab_type": "code",
        "outputId": "112218d8-e0bb-40cf-d6b3-c5e3ea3d20f7",
        "colab": {
          "base_uri": "https://localhost:8080/",
          "height": 124
        }
      },
      "source": [
        "# calculations for finding size of sedimentation unit based on the number sed \n",
        "# units desired for the entire plant \n",
        "\n",
        "max_V_up = 1.6*u.mm/u.s\n",
        "length_sed_unit = 40*u.m\n",
        "max_num_sed_units = 8\n",
        "width_sed_unit = fmt.q_max / (max_V_up * length_sed_unit *max_num_sed_units)\n",
        "print('Based on limiting parameters the sedimentation tank dimensions are: Length-' +str(length_sed_unit.to(u.m)) +\n",
        "      ' and width-'+ str(width_sed_unit.to(u.m)) )\n",
        "\n",
        "area_sed_tanks = (length_sed_unit * width_sed_unit * max_num_sed_units).to(u.m**2)\n",
        "planned_area_fairmont = (250 * 510 *u.feet**2).to(u.meter**2) # From Scope of Work \n",
        "print ('Total active area for hydraulic sed tank design is '+str(area_sed_tanks) + ' while the planned are was '+str(planned_area_fairmont))\n",
        "\n",
        "Q_max_sed_hydraulic_unit = (1.6*u.mm/u.s * length_sed_unit * width_sed_unit).to(u.megagallon/u.day)\n",
        "print('Each sedimentation unit can treat up to '+str(Q_max_sed_hydraulic_unit))\n",
        "\n",
        "# This function calculates the upflow velocity of all the sedimentation basins \n",
        "# that are online based on plant total flow rate and the number of sedimentation\n",
        "# units online at that moment. This is useful because we would want to ensure that \n",
        "# we can meet peak and average demand and do it while staying between a min and max \n",
        "# upflow velocity. \n",
        "\n",
        "def upflow_velo_sed(Q ,num_sed_units, length_sed_unit,width_sed_unit ):\n",
        "  return (Q / ( num_sed_units *length_sed_unit * width_sed_unit)).to(u.mm/u.s)\n",
        "\n",
        "num_sed_units = 8 # This value can be changed to see how removing sed units affects upflow velo in the other tanks and the EDR at the jet reverser \n",
        "Q_example = fmt.q_ave.to(u.m**3/u.s)\n",
        "V_up_sed = upflow_velo_sed( Q_example, num_sed_units, length_sed_unit , width_sed_unit)\n",
        "print ('When the plant flow rate is '+str(Q_example) +' and '+str (num_sed_units)+\n",
        "       ' out of '+str(max_num_sed_units)+ \n",
        "       ' sedimentation tanks are online, then the upflow velocity in those tanks is ' +str(V_up_sed))\n",
        "\n",
        "\n",
        "# Jet reverser Energy Dissipation Rate\n",
        "# Perhaps this could be used as a constraint. \n",
        "# if EDR gets too low, we can have issues resuspending flocs and an accumulation of \n",
        "# sludge can occur at the bottom of the tank \n",
        "# Garland et al show good performace at every EDR except 0.25 mW/kg due to the jet reverser \n",
        "# becoming filled. The next EDR sucessfully tested was ~1mW/kg. This will be set as the minumum for our design\n",
        "\n",
        "# function to calculate the EDR from a jet reverser: from Garland 2015 \n",
        "def EDR_jet(pi_jet , upflow_velo_sed , width_jet, width_section):\n",
        "  V_jet = width_section * upflow_velo_sed / width_jet  # velocity of the reversed jet  \n",
        "  return ((pi_jet*V_jet)**3 / width_jet).to(u.milliwatt/u.kg)\n",
        "\n",
        "pi_jet_circular = 0.5\n",
        "pi_jet_plane = 0.23 # from Garland 2015 \n",
        "width_jet = 10*u.mm # this is determined by the diameter or width of the diffuser oriface which we can change\n",
        "width_section = 1.5*u.meter # spaceing between jet reversers is adjustable: traditional AC plants it is 1 meter\n",
        "EDR_sed_unit = EDR_jet(pi_jet_plane , V_up_sed , width_jet, width_section)\n",
        "\n",
        "print ('For a sed tank with upflow velo of '+str(V_up_sed)+' sectional width of '+ \n",
        "       str(width_section)+' and jet width of '+str(width_jet)+' the EDR is '+str(EDR_sed_unit))"
      ],
      "execution_count": 35,
      "outputs": [
        {
          "output_type": "stream",
          "text": [
            "Based on limiting parameters the sedimentation tank dimensions are: Length-40 meter and width-39.82 meter\n",
            "Total active area for hydraulic sed tank design is 1.274e+04 meter ** 2 while the planned are was 1.185e+04 meter ** 2\n",
            "Each sedimentation unit can treat up to 58.17 megagallon / day\n",
            "When the plant flow rate is 9.061 meter ** 3 / second and 8 out of 8 sedimentation tanks are online, then the upflow velocity in those tanks is 0.7111 millimeter / second\n",
            "For a sed tank with upflow velo of 0.7111 millimeter / second sectional width of 1.5 meter and jet width of 10 millimeter the EDR is 1.477 milliwatt / kilogram\n"
          ],
          "name": "stdout"
        }
      ]
    },
    {
      "cell_type": "markdown",
      "metadata": {
        "id": "EXV9e_BjZm54",
        "colab_type": "text"
      },
      "source": [
        "## Size of Manifolds\n",
        "\n"
      ]
    },
    {
      "cell_type": "code",
      "metadata": {
        "id": "t3-geiBtYuN4",
        "colab_type": "code",
        "outputId": "26bd9c2b-06ac-4a37-ceaf-1a09a25f2256",
        "colab": {
          "base_uri": "https://localhost:8080/",
          "height": 55
        }
      },
      "source": [
        "## Relationship between length and diameter of manifolds\n",
        "v_upflow=1.6*u.mm/u.s\n",
        "v_manifold=0.2313*u.m/u.s\n",
        "h_tomanifold=1*u.m\n",
        "D=[]\n",
        "\n",
        "for l in range(1,45):\n",
        "  l=l*u.m\n",
        "  A=v_upflow*h_tomanifold*l/v_manifold\n",
        "  d=(2*np.sqrt(A/np.pi)).to(u.m)\n",
        "  D.append(d)\n",
        "\n",
        "#biggest diameter is 60 cm? This probably isn't right"
      ],
      "execution_count": 45,
      "outputs": [
        {
          "output_type": "stream",
          "text": [
            "[<Quantity(0.09384847810217087, 'meter')>, <Quantity(0.13272179054016447, 'meter')>, <Quantity(0.16255033228597518, 'meter')>, <Quantity(0.18769695620434174, 'meter')>, <Quantity(0.2098515766213545, 'meter')>, <Quantity(0.22988088448707927, 'meter')>, <Quantity(0.2482997339802351, 'meter')>, <Quantity(0.26544358108032895, 'meter')>, <Quantity(0.2815454343065126, 'meter')>, <Quantity(0.29677494574329627, 'meter')>, <Quantity(0.3112601890107858, 'meter')>, <Quantity(0.32510066457195036, 'meter')>, <Quantity(0.33837549992163646, 'meter')>, <Quantity(0.35114885132848017, 'meter')>, <Quantity(0.36347359275661917, 'meter')>, <Quantity(0.37539391240868347, 'meter')>, <Quantity(0.3869471880187165, 'meter')>, <Quantity(0.39816537162049337, 'meter')>, <Quantity(0.4090760320524527, 'meter')>, <Quantity(0.419703153242709, 'meter')>, <Quantity(0.43006775475960357, 'meter')>, <Quantity(0.4401883807258663, 'meter')>, <Quantity(0.4500814896973145, 'meter')>, <Quantity(0.45976176897415855, 'meter')>, <Quantity(0.4692423905108543, 'meter')>, <Quantity(0.4785352211639544, 'meter')>, <Quantity(0.4876509968579255, 'meter')>, <Quantity(0.4965994679604702, 'meter')>, <Quantity(0.5053895214789438, 'meter')>, <Quantity(0.514029284440886, 'meter')>, <Quantity(0.5225262118831007, 'meter')>, <Quantity(0.5308871621606579, 'meter')>, <Quantity(0.539118461740173, 'meter')>, <Quantity(0.5472259612182009, 'meter')>, <Quantity(0.55521508397492, 'meter')>, <Quantity(0.5630908686130252, 'meter')>, <Quantity(0.5708580061253979, 'meter')>, <Quantity(0.5785208725703495, 'meter')>, <Quantity(0.5860835579007929, 'meter')>, <Quantity(0.5935498914865925, 'meter')>, <Quantity(0.6009234647821962, 'meter')>, <Quantity(0.6082076515203776, 'meter')>, <Quantity(0.615405625754288, 'meter')>, <Quantity(0.6225203780215716, 'meter')>]\n"
          ],
          "name": "stdout"
        }
      ]
    },
    {
      "cell_type": "markdown",
      "metadata": {
        "id": "-YpnxcYEDPth",
        "colab_type": "text"
      },
      "source": [
        "## Plate Settlers\n",
        "\n",
        "The length of plate settlers is important to determine because if they are too short, insufficient amounts of particles will have time to settle and be captured, and if they are too long, the plat will not be at maximum efficiency. As shown in the **Physics** section above, $$L = \\frac{S\\left(\\frac{\\bar v_{z_{Plate}}}{\\bar v_c}-1\\right) + T\\left(\\frac{\\bar v_{z_{Plate}}}{\\bar v_c}\\right)}{sin\\alpha cos\\alpha}$$ AguaClara plate settlers have a capture velocity of 0.12 mm/s, which is the value we will use as the basis of our design. S, or spacing between plates can be calculated using the equation\n",
        "\n",
        "$$S_{min} \\approx \\frac{3 D_0}{sin^2\\alpha} \\frac{\\bar v_{z_{Plate}}}{v_c}  \\left( \\frac{18 v_c \\Phi \\nu }{D_0^2g} \\frac{ \\rho_{H_2O}}{ \\rho_{floc_0} - \\rho_{H_2O}} \\right) ^{\\frac{1}{ D_{fractal} - 1}}$$\n",
        "\n",
        "from the [AguaClara textbook](https://aguaclara.github.io/Textbook/Sedimentation/Sed_Derivations.html?highlight=slide#equation-sedimentation-sed-derivations-46).\n",
        "\n",
        "Because the properties of the flocs entering the sedimetation system are still unknown, we will use clay are a filler value."
      ]
    }
  ]
}