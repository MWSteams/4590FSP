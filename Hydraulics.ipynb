{
  "nbformat": 4,
  "nbformat_minor": 0,
  "metadata": {
    "colab": {
      "name": "Hydraulics.ipynb",
      "provenance": [],
      "collapsed_sections": [],
      "include_colab_link": true
    },
    "kernelspec": {
      "display_name": "Python 3",
      "language": "python",
      "name": "python3"
    },
    "language_info": {
      "codemirror_mode": {
        "name": "ipython",
        "version": 3
      },
      "file_extension": ".py",
      "mimetype": "text/x-python",
      "name": "python",
      "nbconvert_exporter": "python",
      "pygments_lexer": "ipython3",
      "version": "3.6.3"
    }
  },
  "cells": [
    {
      "cell_type": "markdown",
      "metadata": {
        "id": "view-in-github",
        "colab_type": "text"
      },
      "source": [
        "<a href=\"https://colab.research.google.com/github/MWSteams/4590FSP/blob/master/Hydraulics.ipynb\" target=\"_parent\"><img src=\"https://colab.research.google.com/assets/colab-badge.svg\" alt=\"Open In Colab\"/></a>"
      ]
    },
    {
      "cell_type": "markdown",
      "metadata": {
        "colab_type": "text",
        "id": "lZNgRSu1Uj8D"
      },
      "source": [
        "#Hydraulics\n",
        "\n",
        "Authors: Jonathan Harris, Matthew Snyder, Ke Xu\n",
        "\n",
        "[/Monroe/]: # (Reasonable start, but not sufficient to stay on track for completing this design by the end of the semester. This BODC was very general with a lack of details that can actually guide your design.)\n",
        "\n",
        "[/Monroe/]: # (See the AguaClara textbook chapter on Hydraulics. It should be very helpful for your design. https://aguaclara.github.io/Textbook/Hydraulics/Hydraulics_Intro.html)\n",
        "\n",
        "[/Monroe/]: # (In AguaClara plants we have one long channel to distribute flow to sed tanks and another long channel to collect the flow from the sed tanks. How big would those channels be if you used that same design for Fairmont? How much of the plan view area of the plant would be occupied by those channels? Are there any ways to reduce the required area taken up by the channels?)\n",
        "\n",
        "[/Matt/]: # (My first thought is to look into deeper channels so that the width may be able to be smaller. Is that a reasonable assumption or should we need to look into a different way?)\n",
        "\n"
      ]
    },
    {
      "cell_type": "code",
      "metadata": {
        "colab_type": "code",
        "id": "QjwM4ovYUokZ",
        "outputId": "1fa613d4-3a9e-40d6-c429-c5492297040c",
        "colab": {
          "base_uri": "https://localhost:8080/",
          "height": 255
        }
      },
      "source": [
        "!pip install aguaclara\n",
        "!pip install molmass"
      ],
      "execution_count": 0,
      "outputs": [
        {
          "output_type": "stream",
          "text": [
            "Requirement already satisfied: aguaclara in /usr/local/lib/python3.6/dist-packages (0.2.0)\n",
            "Requirement already satisfied: pint==0.8.1 in /usr/local/lib/python3.6/dist-packages (from aguaclara) (0.8.1)\n",
            "Requirement already satisfied: scipy in /usr/local/lib/python3.6/dist-packages (from aguaclara) (1.4.1)\n",
            "Requirement already satisfied: matplotlib in /usr/local/lib/python3.6/dist-packages (from aguaclara) (3.2.1)\n",
            "Requirement already satisfied: pandas in /usr/local/lib/python3.6/dist-packages (from aguaclara) (1.0.3)\n",
            "Requirement already satisfied: urllib3 in /usr/local/lib/python3.6/dist-packages (from aguaclara) (1.24.3)\n",
            "Requirement already satisfied: numpy>=1.13.3 in /usr/local/lib/python3.6/dist-packages (from scipy->aguaclara) (1.18.3)\n",
            "Requirement already satisfied: python-dateutil>=2.1 in /usr/local/lib/python3.6/dist-packages (from matplotlib->aguaclara) (2.8.1)\n",
            "Requirement already satisfied: pyparsing!=2.0.4,!=2.1.2,!=2.1.6,>=2.0.1 in /usr/local/lib/python3.6/dist-packages (from matplotlib->aguaclara) (2.4.7)\n",
            "Requirement already satisfied: kiwisolver>=1.0.1 in /usr/local/lib/python3.6/dist-packages (from matplotlib->aguaclara) (1.2.0)\n",
            "Requirement already satisfied: cycler>=0.10 in /usr/local/lib/python3.6/dist-packages (from matplotlib->aguaclara) (0.10.0)\n",
            "Requirement already satisfied: pytz>=2017.2 in /usr/local/lib/python3.6/dist-packages (from pandas->aguaclara) (2018.9)\n",
            "Requirement already satisfied: six>=1.5 in /usr/local/lib/python3.6/dist-packages (from python-dateutil>=2.1->matplotlib->aguaclara) (1.12.0)\n",
            "Requirement already satisfied: molmass in /usr/local/lib/python3.6/dist-packages (2020.1.1)\n"
          ],
          "name": "stdout"
        }
      ]
    },
    {
      "cell_type": "code",
      "metadata": {
        "colab_type": "code",
        "id": "ttJT8q_wYhAV",
        "outputId": "815275e9-7a81-41cd-af4a-09abd9c8cc3e",
        "colab": {
          "base_uri": "https://localhost:8080/",
          "height": 204
        }
      },
      "source": [
        "from aguaclara.core.units import unit_registry as u\n",
        "import aguaclara as ac\n",
        "import aguaclara.core.physchem as pc\n",
        "import matplotlib.pyplot as plt\n",
        "import numpy as np\n",
        "import pandas as pd\n",
        "import molmass as mol\n",
        "!wget https://raw.githubusercontent.com/monroews/4590FSP/master/Fairmont.py\n",
        "import Fairmont as fmt"
      ],
      "execution_count": 0,
      "outputs": [
        {
          "output_type": "stream",
          "text": [
            "--2020-04-27 22:39:19--  https://raw.githubusercontent.com/monroews/4590FSP/master/Fairmont.py\n",
            "Resolving raw.githubusercontent.com (raw.githubusercontent.com)... 151.101.0.133, 151.101.64.133, 151.101.128.133, ...\n",
            "Connecting to raw.githubusercontent.com (raw.githubusercontent.com)|151.101.0.133|:443... connected.\n",
            "HTTP request sent, awaiting response... 200 OK\n",
            "Length: 2397 (2.3K) [text/plain]\n",
            "Saving to: ‘Fairmont.py.1’\n",
            "\n",
            "\rFairmont.py.1         0%[                    ]       0  --.-KB/s               \rFairmont.py.1       100%[===================>]   2.34K  --.-KB/s    in 0s      \n",
            "\n",
            "2020-04-27 22:39:19 (39.5 MB/s) - ‘Fairmont.py.1’ saved [2397/2397]\n",
            "\n"
          ],
          "name": "stdout"
        }
      ]
    },
    {
      "cell_type": "markdown",
      "metadata": {
        "colab_type": "text",
        "id": "2SQpUtXCR5Xz"
      },
      "source": [
        "# Task Definition\n",
        "\n",
        "Simply put, hydraulics involved getting the water through the plant. This task can involve anything from splitting water into different trains to simply getting water into each unit process. This plant is a flocculation and sedimentation plant with gravity powered transport of water. Thus, head calculations are critical to make sure there is enough power to get the water through the plant. The average flow of this plant is around 207 MGD, with a peak flow as high as 465 MGD. Additionally, there will be an addition of coagulation, rapid mix, flocculation and finally sedimentation unit processes. These processes will be constrained to happening one after another in a sequential order so that the water can move through on gravity alone.\n",
        " \n",
        "Conventional treatment practices show that there should be sufficient trains of water so that if part of the plant needs to be shut down for maintenance or cleaning, the whole plant does not need to shut down. Keeping this in mind, a treatment plant should have at least two trains. However, if there are only two trains and one is down, then one train will need to be big enough to hold the capacity of the max flow of the plant, which is not ideal. That is why there should be at least three different flow patterns that water can travel so that one can be down and there will still be two trains left to handle even the peak flow.\n",
        " \n",
        "This can be done in many ways. The first way would be to have three separate trains that are identical in every way. That is, they have the same number of each process. This is hard to do, especially using gravity as the power source, because this would require a lot of space. An additional model could be to add more individual models to each unit process. For example, this could be three rapid mix units, four flocculators and three sedimentation tanks. So that one rapid mix could be offline without disrupting any of the other unit processes.\n",
        " \n",
        "Using the second approach to this design seems to be the best way to do this. So, the goal of the hydraulics team will be to design an open channel, gravity-powered flow from the start to the end where each process will have the water split into it and then brought back together to be distributed into the next unit process. For rapid mix this would mean allowing the water to flow into different channels at the start of the plant that can be closed off to flow when that rapid mix is offline. For flocculation, this will mean taking the water from the rapid mix and having it enter flocculators so that any flocculators can be blocked of flow when they are offline. In the sedimentation tanks, the flow will go down a large open channel with outlets into each sedimentation tank and each of those outlets can be blocked if the sedimentation tank is offline. At the end of the sedimentation tanks, the water will flow into another open channel so that at the end of the plant all of the water enters one final channel then can flow into the reservoir.\n",
        " \n",
        "[/Monroe/]: # (This is so vague. What are the details? You must define the details so that you know what you need to design. What are the flows you must handle for each unit process? What are the constraints given that this is supposed to be a gravity powered transport of water.)\n",
        " \n",
        "[/Matt/]: # (I think I have altered this to meet this comment. Please let me know if adding actual numbers for how much water each process can take is necessary in this section or can be addressed in the code)\n",
        " \n",
        "[/Monroe/]: # (How will you design the treatment trains? If you take a rapid mix unit off line will you need to take the flocculator and sed tanks in that treatment train off line too? How else could you design this. Look at how Gracias was designed to see another strategy for arranging processes in series and in parallel.)\n",
        " \n",
        "[/Matt/]: # (I also think that I have addressed this comment. let me know if the strategy is not feasible)"
      ]
    },
    {
      "cell_type": "markdown",
      "metadata": {
        "colab_type": "text",
        "id": "WoGtXtBGQZr5"
      },
      "source": [
        "# Executive Summary \n",
        "\n",
        "Highlight dominant constraints and your recommendation for the design.\n"
      ]
    },
    {
      "cell_type": "markdown",
      "metadata": {
        "colab_type": "text",
        "id": "Jonv4dYSQghA"
      },
      "source": [
        "# Constraints\n",
        "* Relevant regulations\n",
        "    * [California Drinking Water Standards](https://www.waterboards.ca.gov/drinking_water/certlic/drinkingwater/Lawbook.html)\n",
        "    * 10 State Standards\n",
        "    * [2012 Recommendations](https://www.health.state.mn.us/communities/environment/water/docs/tenstates/waterrev2012.pdf)\n",
        "    * [OSHA requirements of confined space and trench excavations](https://www.osha.gov/Publications/osha2226.pdf)\n",
        "* client expectations\n",
        "    * Being able to treat a wide range of flow rates\n",
        "    * Take a train offline without disrupting the plant\n",
        "    * Having a redundant treatment train\n",
        "* site and budget\n",
        "    * With such a wide range of flow rates, how can there be an adequate amount of flow splits while also not making the plant too large and expensive\n",
        "    * Can we have all of the treatment trains needed in the site limits?\n",
        "* process capabilities including process design equations\n",
        "    * Fluid Mechanics\n",
        "    * Looking at channel dimensions so that there is adequate flow to all the treatment trains and sedimentation tanks\n",
        "    * What will the channels look like? This will greatly depend on what other teams decide\n",
        "* ease of use \n",
        "    * Channels and pipes that can take the various flow rates to be experienced\n",
        "    * Operators will need to worry about:\n",
        "        * Opening/closing treatment trains\n",
        "        * Changing chemical dosages\n",
        "    * Budget vs Ease of Use\n",
        "* operation requirements\n",
        "    * What amount of skills will be req to operate?\n",
        "        * What do operators need to know and calculate?\n",
        "        * How will they know when to open/close treatment trains?\n",
        "        * How much will be automated?\n",
        "* maintainence requirements\n",
        "    * Life-time of valves\n",
        "* Pressure Recovery\n",
        "  * conversion from kinetic to potential energy will determine the necessary depth of the channels\n",
        "* Minimum velocity in the channel of 0.15 m/s (10 State Standards)\n",
        "  * This will be used to set the depth and width of the channels\n",
        "  * How can the depth and width be changed without compromising \n",
        "# Physics\n",
        "\n",
        "[/Monroe/]: # (You missed two of the major constraints. 1- Pressure recovery rather than head loss will likely control flow distribution and will set maximum velocities in flow distribution channels. 2- Minimum velocity will be set by the goal of preventing sedimentation in the channels. This is set by a scour velocity and this is likely what has historically set the minimum velocity for channel flow in wtps. )\n",
        "[/Jonathan/]: # (addressed and added to constraints.)\n",
        "\n",
        "* Pressure recovery: Bernoulli's equation\n",
        "$$z_A+\\frac{v_A^2}{2g}+\\frac{P_A}{\\gamma}=z_B+\\frac{v_B^2}{2g}+\\frac{P_B}{\\gamma}$$\n",
        "\n",
        "* Head loss\n",
        "    \n",
        "    friction loss equation\n",
        "    $$ h_f= \\lambda\\frac{L}{D} \\frac{V^2}{2g}$$\n",
        "    Minor loss equation\n",
        "    $$ h_L = K \\frac{V^2}{2g}$$\n",
        "\n",
        "* Open channel Flow equations: Manning's Equation\n",
        "\n",
        "[/Monroe/]: # (Your equation wasn't formatted correctly. It is easy to fix using codecogs if you are not yet familiar with Latex.)\n",
        "\n",
        "$$ Q = (1/n)*KA R^{2/3} S^{1/2} $$\n",
        "\n",
        "[/Monroe/]: # (I am opposed to using equations that are dimensionally incorrect especially when we have equations that are dimensionally correct. Pipe flow equations can be used for open channels.) \n",
        "[/Ingrid/]: # (addressed.)\n",
        "\n",
        "\n",
        "\n",
        "# Table listing potential strategies to meet the constraints and treatment objectives\n",
        "\n",
        "\n",
        "| strategy | advantages  | disadvantages | data needed for decision |\n",
        "|---|---|---|---|\n",
        "| Reading relevant regulations | Knowing what will need to be done for the design | Time consuming | all relevant local, state, and federal regulations |\n",
        "|Clear communications with client|No mysteries between us and the client|Time consuming, Client may not want to hear about what **can't** be done|Correspondence method with clients|\n",
        "| Constant Communication with other teams | Will know important info as it becomes available |Will have to rely on other teams for information | N/a |\n",
        "| Including lifetime of valves when looking at treatment trains | Holistic view of cost of treatment | Time needed for vendor locating, may not be necessary | vendors of valves |\n",
        "\n",
        "[/Monroe/]: # (I think you realized that these are large flows, but you didn't do ANY calculations to see what the dimensions might be. Flow control to enable taking a treatment train offline will be one of the fun design challenges and I doubt that you will be using valves at this scale. )\n"
      ]
    },
    {
      "cell_type": "markdown",
      "metadata": {
        "colab_type": "text",
        "id": "J9dPZVMbOka9"
      },
      "source": [
        "# Vendors and contact information file\n",
        "\n",
        "See this [tab delimited spreadsheet](https://raw.githubusercontent.com/monroews/4590FSP/master/vendors.txt).\n",
        "\n",
        "Add rows to the vendor spreadsheet as you find them. The sheet can easily be edited in Excel. Just make sure to save it as a tab delimited sheet. Push your changes to github so the entire class has access to the document.\n",
        "\n"
      ]
    },
    {
      "cell_type": "code",
      "metadata": {
        "colab_type": "code",
        "id": "l35d0BODlEsW",
        "outputId": "e7d3c141-8c4b-4f51-d0c3-459da0add689",
        "colab": {
          "base_uri": "https://localhost:8080/",
          "height": 399
        }
      },
      "source": [
        "vendors = pd.read_csv('https://raw.githubusercontent.com/monroews/4590FSP/master/vendors.txt',sep='\\t')\n",
        "vendors\n"
      ],
      "execution_count": 0,
      "outputs": [
        {
          "output_type": "execute_result",
          "data": {
            "text/html": [
              "<div>\n",
              "<style scoped>\n",
              "    .dataframe tbody tr th:only-of-type {\n",
              "        vertical-align: middle;\n",
              "    }\n",
              "\n",
              "    .dataframe tbody tr th {\n",
              "        vertical-align: top;\n",
              "    }\n",
              "\n",
              "    .dataframe thead th {\n",
              "        text-align: right;\n",
              "    }\n",
              "</style>\n",
              "<table border=\"1\" class=\"dataframe\">\n",
              "  <thead>\n",
              "    <tr style=\"text-align: right;\">\n",
              "      <th></th>\n",
              "      <th>item description</th>\n",
              "      <th>vendor</th>\n",
              "      <th>contact first name</th>\n",
              "      <th>contact last name</th>\n",
              "      <th>vendor website</th>\n",
              "      <th>product info</th>\n",
              "      <th>date of contact</th>\n",
              "      <th>who made the contact</th>\n",
              "      <th>notes</th>\n",
              "    </tr>\n",
              "  </thead>\n",
              "  <tbody>\n",
              "    <tr>\n",
              "      <th>0</th>\n",
              "      <td>plate settlers</td>\n",
              "      <td>MRI</td>\n",
              "      <td>still</td>\n",
              "      <td>pending</td>\n",
              "      <td>http://www.meurerresearch.com/</td>\n",
              "      <td>http://www.meurerresearch.com/literaturemedia/...</td>\n",
              "      <td>4/16/2020</td>\n",
              "      <td>Ian Cullings</td>\n",
              "      <td>NaN</td>\n",
              "    </tr>\n",
              "    <tr>\n",
              "      <th>1</th>\n",
              "      <td>sludge removal system</td>\n",
              "      <td>MRI</td>\n",
              "      <td>still</td>\n",
              "      <td>pending</td>\n",
              "      <td>http://www.meurerresearch.com/</td>\n",
              "      <td>http://www.meurerresearch.com/products/hoseles...</td>\n",
              "      <td>4/16/2020</td>\n",
              "      <td>Ian Cullings</td>\n",
              "      <td>NaN</td>\n",
              "    </tr>\n",
              "    <tr>\n",
              "      <th>2</th>\n",
              "      <td>plate settlers</td>\n",
              "      <td>Monore Environmental</td>\n",
              "      <td>still</td>\n",
              "      <td>pending</td>\n",
              "      <td>https://www.monroeenvironmental.com/</td>\n",
              "      <td>https://www.monroeenvironmental.com/water-and-...</td>\n",
              "      <td>4/16/2020</td>\n",
              "      <td>Ian Cullings</td>\n",
              "      <td>NaN</td>\n",
              "    </tr>\n",
              "    <tr>\n",
              "      <th>3</th>\n",
              "      <td>sludge removal system</td>\n",
              "      <td>Monore Environmental</td>\n",
              "      <td>still</td>\n",
              "      <td>pending</td>\n",
              "      <td>https://www.monroeenvironmental.com/</td>\n",
              "      <td>http://www.monroeenvironmental.com/water-and-w...</td>\n",
              "      <td>4/16/2020</td>\n",
              "      <td>Ian Cullings</td>\n",
              "      <td>NaN</td>\n",
              "    </tr>\n",
              "    <tr>\n",
              "      <th>4</th>\n",
              "      <td>plate settler with hopper</td>\n",
              "      <td>Parkson</td>\n",
              "      <td>still</td>\n",
              "      <td>pending</td>\n",
              "      <td>https://www.parkson.com/</td>\n",
              "      <td>https://www.parkson.com/products/lamella-ecoflow</td>\n",
              "      <td>4/16/2020</td>\n",
              "      <td>Ian Cullings</td>\n",
              "      <td>Includes sloped sludge hopper in design</td>\n",
              "    </tr>\n",
              "    <tr>\n",
              "      <th>5</th>\n",
              "      <td>rapid mixer (mech)</td>\n",
              "      <td>Dynamix</td>\n",
              "      <td>still</td>\n",
              "      <td>pending</td>\n",
              "      <td>https://www.dynamixinc.com</td>\n",
              "      <td>https://www.dynamixinc.com/industries/waste-wa...</td>\n",
              "      <td>4/16/2020</td>\n",
              "      <td>Lynn Li</td>\n",
              "      <td>NaN</td>\n",
              "    </tr>\n",
              "    <tr>\n",
              "      <th>6</th>\n",
              "      <td>rapid mixer (mech)</td>\n",
              "      <td>Meurer Research</td>\n",
              "      <td>still</td>\n",
              "      <td>pending</td>\n",
              "      <td>http://www.meurerresearch.com</td>\n",
              "      <td>http://www.meurerresearch.com/products/mixer/</td>\n",
              "      <td>4/16/2020</td>\n",
              "      <td>Lynn Li</td>\n",
              "      <td>NaN</td>\n",
              "    </tr>\n",
              "    <tr>\n",
              "      <th>7</th>\n",
              "      <td>rapid mixer (mech)</td>\n",
              "      <td>Philadelphia Mixing Solutions</td>\n",
              "      <td>still</td>\n",
              "      <td>pending</td>\n",
              "      <td>https://www.philamixers.com</td>\n",
              "      <td>https://www.philamixers.com/industries/water-w...</td>\n",
              "      <td>4/16/20</td>\n",
              "      <td>Lynn Li</td>\n",
              "      <td>NaN</td>\n",
              "    </tr>\n",
              "  </tbody>\n",
              "</table>\n",
              "</div>"
            ],
            "text/plain": [
              "            item description  ...                                    notes\n",
              "0             plate settlers  ...                                      NaN\n",
              "1      sludge removal system  ...                                      NaN\n",
              "2             plate settlers  ...                                      NaN\n",
              "3      sludge removal system  ...                                      NaN\n",
              "4  plate settler with hopper  ...  Includes sloped sludge hopper in design\n",
              "5         rapid mixer (mech)  ...                                      NaN\n",
              "6         rapid mixer (mech)  ...                                      NaN\n",
              "7         rapid mixer (mech)  ...                                      NaN\n",
              "\n",
              "[8 rows x 9 columns]"
            ]
          },
          "metadata": {
            "tags": []
          },
          "execution_count": 15
        }
      ]
    },
    {
      "cell_type": "markdown",
      "metadata": {
        "colab_type": "text",
        "id": "-jwNKdrCOmux"
      },
      "source": [
        "# Shared assumptions\n",
        "\n",
        "See this [python file, Fairmont.py](https://github.com/monroews/4590FSP/blob/master/Fairmont.py)\n",
        "\n",
        "Use this file to hold parameters that are in the SOW or elsewhere that\n",
        "influence the design of the entire plant. This provides an easy mechanism\n",
        "for all of us to share the same assumptions. Read the SOW to find sections that relate to your part of the design and enter all pertinent variables into [Fairmont.py](https://github.com/monroews/4590FSP/blob/master/Fairmont.py) and then push those changes to github.\n",
        "\n",
        "# Major Decisions\n",
        "\n",
        "The first major decision is to think about the treatment trains. How many trains will the plant have? And, what is the most effective way to have trains so that the least amount of processes would need to be shut down? To answer this the decision was made to effectively only have one train. That is, have each single unit of the unit process be able to be offline without any other downstream process needing to be offline. This is the best way to go about this but does also bring up some other rather large decisions.\n",
        " \n",
        "The next major decision that needs to be made is how big can these channels be. This plant is rated to move a lot of water through its processes and therefore will require some large channels. This will take up a lot of space and can also cause serious construction limitations. The strategy to come to a choice is to do some preliminary calculations and then also add in how many of each process we will have. Then we can add or subtract from there. To get this information we will need to look at the preliminary designs from each team.\n",
        " \n",
        "Another big decision that needs to be made is how to take a treatment train or unit process offline. Once again, since there are large flows involved in this plant simple valves may not be strong enough to stop the flow out of the channel. References from other plants this size will be needed so that we can gauge all options. We can also design what we think will work then address its feasibility with others.\n",
        " \n",
        "In order to get the water from open channels to multiple sedimentation tanks, using a large channel with outlets to each tank seems to be the best option. However doing this will lead to a large plan view area for these channels. There is not a lot of space for this plant so having a large area taken up by these channels may not work for construction purposes. Moving forward, the area of these channels will be calculated and compared to the area of the rest of the plant to see just how much space will be taken up. Additionally, further research will be done into how to make the plan view area of these tanks smaller whether that is making them deeper or potentially having a couple channels.\n",
        "\n",
        "\n",
        "# Next Steps and Challenges\n",
        "\n",
        "Next steps are to continue to get data needed from each of the unit processes so that our design may be furthered or edited as needed. We will also need to figure out the best way to take a train offline and cut-off these large flows from the process. This is also a major challenge because indications are that a simple valve may not be big or strong enough to handle the flows of the plant. Additionally, the dimensions of these channels will need to be kept in mind. At the end of the day we could end up with big enough channels to account for more than half of the area of the plant and that would not be ideal. So, we will need to check these dimensions and adjust certain parameters so that they are not that large in comparison. This is also a challenge because these channels cannot be such that particles start to settle out and block potential flow. We also have the challenge of the size such that channels for sedimentation tanks will become overly large and not be feasible to construct or maintain."
      ]
    },
    {
      "cell_type": "markdown",
      "metadata": {
        "colab_type": "text",
        "id": "DXlB_I6ZOw2J"
      },
      "source": [
        "# Design\n",
        "\n",
        "Begin writing the code to start your design. Define flow rates, mass rates, energy requirements, and any readily calculated dimensions, velocities, flows, etc."
      ]
    },
    {
      "cell_type": "code",
      "metadata": {
        "colab_type": "code",
        "id": "IrwTrVM2hZqH",
        "outputId": "4891c0e5-8600-44cd-ea64-3109e6027ddf",
        "colab": {
          "base_uri": "https://localhost:8080/",
          "height": 136
        }
      },
      "source": [
        "print('The average flow to be treated at Fairmont is',fmt.q_ave.to(u.Mgal/u.day),'or')\n",
        "print('The maximum flow to be treated at Fairmont is',fmt.q_max.to(u.Mgal/u.day))\n",
        "specific_energy = (fmt.electricity_power/fmt.q_ave).to(u.J/u.L)\n",
        "temp = 15 * u.degC\n",
        "specific_potential_energy = (specific_energy / u.gravity / ac.density_water(temp)).to(u.m)\n",
        "print('The average amount of energy used per liter of water is expected to be',specific_energy,'or',specific_potential_energy,'of potential energy')\n",
        "\n",
        "\n",
        "# Rough Channel Area calculations\n",
        "minvel = 0.15*u.m/u.s\n",
        "maxvel = 0.45*u.m/u.s\n",
        "areas = np.array([0,0])*u.m**2\n",
        "areas[0] = fmt.q_max/maxvel\n",
        "areas[1] = fmt.q_max/minvel\n",
        "print('The range of channel areas are (', areas[0],',',areas[1],')')\n",
        "\n",
        "# assuming the specific potential energy is the minimum channel depth needed\n",
        "width_channel = (areas/specific_potential_energy).to(u.m)\n",
        "print('Channel widths:', width_channel[0],',',width_channel[1])\n",
        "\n",
        "# Can use AguaClara PhysChem functions https://aguaclara.github.io/aguaclara/core/physchem.html\n",
        "openchannel = True\n",
        "\n",
        "# Determining area available for channels\n",
        "# Calculate areas of unit processes\n",
        "A_rm_hyd = fmt.n_rm_hyd * fmt.L_rm_hyd * fmt.W_rm_hyd \n",
        "A_rm_mech = fmt.n_rm_mech * fmt.L_rm_mech * fmt.W_rm_mech \n",
        "A_floc_hyd = fmt.n_floc_hyd * fmt.L_floc_hyd * fmt.W_floc_hyd\n",
        "A_floc_mech = fmt.n_floc_mech * fmt.L_floc_mech * fmt.W_floc_mech \n",
        "A_sed_hyd = fmt.n_sed_hyd * fmt.L_sed_hyd * fmt.W_sed_hyd \n",
        "A_sed_mech = fmt.n_sed_mech * fmt.L_sed_mech * fmt.W_sed_mech\n",
        "\n",
        "# Potential areas\n",
        "A_channel_hyd = fmt.project_a - (A_rm_hyd + A_floc_hyd + A_sed_hyd)\n",
        "A_channel_mech = fmt.project_a - (A_rm_mech + A_floc_mech + A_sed_mech)\n",
        "print('The area available for a hydraulic plant is',A_channel_hyd)\n",
        "print('The area available for a mechanical plant is',A_channel_mech)"
      ],
      "execution_count": 0,
      "outputs": [
        {
          "output_type": "stream",
          "text": [
            "The average flow to be treated at Fairmont is 206.8 megagallon / day or\n",
            "The maximum flow to be treated at Fairmont is 465.3 megagallon / day\n",
            "The average amount of energy used per liter of water is expected to be 118.1 joule / liter or 12.05 meter of potential energy\n",
            "The range of channel areas are ( 45 meter ** 2 , 135 meter ** 2 )\n",
            "Channel widths: 3.735 meter , 11.2 meter\n",
            "The area available for a hydraulic plant is -6835 meter ** 2\n",
            "The area available for a mechanical plant is -6835 meter ** 2\n"
          ],
          "name": "stdout"
        }
      ]
    }
  ]
}