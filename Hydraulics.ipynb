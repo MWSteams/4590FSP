{
  "nbformat": 4,
  "nbformat_minor": 0,
  "metadata": {
    "colab": {
      "name": "Hydraulics.ipynb",
      "provenance": [],
      "collapsed_sections": [],
      "include_colab_link": true
    },
    "kernelspec": {
      "display_name": "Python 3",
      "language": "python",
      "name": "python3"
    },
    "language_info": {
      "codemirror_mode": {
        "name": "ipython",
        "version": 3
      },
      "file_extension": ".py",
      "mimetype": "text/x-python",
      "name": "python",
      "nbconvert_exporter": "python",
      "pygments_lexer": "ipython3",
      "version": "3.6.3"
    }
  },
  "cells": [
    {
      "cell_type": "markdown",
      "metadata": {
        "id": "view-in-github",
        "colab_type": "text"
      },
      "source": [
        "<a href=\"https://colab.research.google.com/github/MWSteams/4590FSP/blob/master/Hydraulics.ipynb\" target=\"_parent\"><img src=\"https://colab.research.google.com/assets/colab-badge.svg\" alt=\"Open In Colab\"/></a>"
      ]
    },
    {
      "cell_type": "markdown",
      "metadata": {
        "colab_type": "text",
        "id": "lZNgRSu1Uj8D"
      },
      "source": [
        "#Hydraulics\n",
        "\n",
        "Authors: Jonathan Harris, Matthew Snyder, Ke Xu\n",
        "\n",
        "[/Monroe/]: # (You added a few simple calculations. The report can be strengthen by adding discussion about flow splitting, valves or gates that could be used to turn sections of the plant off for maintenance, and multiple plan view sketches of how channels could deliver water to and extract water from the various units. The end of the semester is coming soon and the amount of effort to date isn't matching the project timeline. There isn't evidence yet that you've thought about flow division. See the hydraulics chapter of the AguaClara textbook. There may also be a section on this in MWH. I found a reference in Chpater 6 Elements of Detailed Designs in Integrated Design and Operation of Water Treatment Facilities by Susumu Kawamua with this advice that includes minimum velocity for sludge. You might also find google maps of large WTPs that would allow you to see how they transfer water to multiple sed tanks.)\n",
        "\n",
        "see [page from Kawamua](https://photos.app.goo.gl/fBWUG31KimHAmVzk8)\n",
        "\n",
        "[/Monroe/]: # (In AguaClara plants we have one long channel to distribute flow to sed tanks and another long channel to collect the flow from the sed tanks. How big would those channels be if you used that same design for Fairmont? How much of the plan view area of the plant would be occupied by those channels? Are there any ways to reduce the required area taken up by the channels?)\n",
        "\n",
        "[/Matt/]: # (My first thought is to look into deeper channels so that the width may be able to be smaller. Is that a reasonable assumption or should we need to look into a different way?)\n",
        "\n",
        "[/Monroe/]: # (Yes, deeper channels will be needed! This flow is 200 times larger than any AguaClara plant. I think you need to draw some quick sketches. You used my random guesses in Fairmont.py and calulated that the area left for the channels was negative. Don't simply do a calculation and present it without any comments. That implies that you don't see any challenges in designing channels using negative plan view area.)\n",
        "\n",
        "\n"
      ]
    },
    {
      "cell_type": "code",
      "metadata": {
        "colab_type": "code",
        "id": "QjwM4ovYUokZ",
        "outputId": "6e36c417-ee99-45b0-cf1e-ad7211f886f9",
        "colab": {
          "base_uri": "https://localhost:8080/",
          "height": 561
        }
      },
      "source": [
        "!pip install aguaclara\n",
        "!pip install molmass"
      ],
      "execution_count": 1,
      "outputs": [
        {
          "output_type": "stream",
          "text": [
            "Collecting aguaclara\n",
            "\u001b[?25l  Downloading https://files.pythonhosted.org/packages/6d/b5/24c20d548db5d6dbbce2899e0c9e24eab6c5f593a2898b353f356bb9cd3b/aguaclara-0.2.1.tar.gz (87kB)\n",
            "\u001b[K     |████████████████████████████████| 92kB 3.7MB/s \n",
            "\u001b[?25hRequirement already satisfied: matplotlib in /usr/local/lib/python3.6/dist-packages (from aguaclara) (3.2.1)\n",
            "Requirement already satisfied: urllib3 in /usr/local/lib/python3.6/dist-packages (from aguaclara) (1.24.3)\n",
            "Collecting pint==0.8.1\n",
            "\u001b[?25l  Downloading https://files.pythonhosted.org/packages/1e/40/6938f7d544eef208a8183c2c80624289e8a4f4e0aea43f4658b9527077de/Pint-0.8.1.tar.gz (162kB)\n",
            "\u001b[K     |████████████████████████████████| 163kB 16.2MB/s \n",
            "\u001b[?25hRequirement already satisfied: pandas in /usr/local/lib/python3.6/dist-packages (from aguaclara) (1.0.3)\n",
            "Requirement already satisfied: scipy in /usr/local/lib/python3.6/dist-packages (from aguaclara) (1.4.1)\n",
            "Requirement already satisfied: pyparsing!=2.0.4,!=2.1.2,!=2.1.6,>=2.0.1 in /usr/local/lib/python3.6/dist-packages (from matplotlib->aguaclara) (2.4.7)\n",
            "Requirement already satisfied: kiwisolver>=1.0.1 in /usr/local/lib/python3.6/dist-packages (from matplotlib->aguaclara) (1.2.0)\n",
            "Requirement already satisfied: python-dateutil>=2.1 in /usr/local/lib/python3.6/dist-packages (from matplotlib->aguaclara) (2.8.1)\n",
            "Requirement already satisfied: numpy>=1.11 in /usr/local/lib/python3.6/dist-packages (from matplotlib->aguaclara) (1.18.4)\n",
            "Requirement already satisfied: cycler>=0.10 in /usr/local/lib/python3.6/dist-packages (from matplotlib->aguaclara) (0.10.0)\n",
            "Requirement already satisfied: pytz>=2017.2 in /usr/local/lib/python3.6/dist-packages (from pandas->aguaclara) (2018.9)\n",
            "Requirement already satisfied: six>=1.5 in /usr/local/lib/python3.6/dist-packages (from python-dateutil>=2.1->matplotlib->aguaclara) (1.12.0)\n",
            "Building wheels for collected packages: aguaclara, pint\n",
            "  Building wheel for aguaclara (setup.py) ... \u001b[?25l\u001b[?25hdone\n",
            "  Created wheel for aguaclara: filename=aguaclara-0.2.1-cp36-none-any.whl size=99466 sha256=b98dad224ac2ee19eb0d39f490035783fcda899661a25b7accc0e350c8e0df4e\n",
            "  Stored in directory: /root/.cache/pip/wheels/7f/ff/4f/10d76e6a261d392aefbdf6ce8d3d5519e924dc334b102ca49b\n",
            "  Building wheel for pint (setup.py) ... \u001b[?25l\u001b[?25hdone\n",
            "  Created wheel for pint: filename=Pint-0.8.1-py2.py3-none-any.whl size=134156 sha256=bc0bdc518fcdce5752d7459ff9e9f8d379e948fb28bde33554c3c880b9e03852\n",
            "  Stored in directory: /root/.cache/pip/wheels/b4/56/36/7c4d6a4e3660e233b95e3b0482551915cb184abca0f93ee1dd\n",
            "Successfully built aguaclara pint\n",
            "Installing collected packages: pint, aguaclara\n",
            "Successfully installed aguaclara-0.2.1 pint-0.8.1\n",
            "Collecting molmass\n",
            "\u001b[?25l  Downloading https://files.pythonhosted.org/packages/12/2b/dd600a36b78bc9ebf9e8ff7c900150c7439af0c55504a4ab8213485cda94/molmass-2020.1.1-py3-none-any.whl (65kB)\n",
            "\u001b[K     |████████████████████████████████| 71kB 3.1MB/s \n",
            "\u001b[?25hInstalling collected packages: molmass\n",
            "Successfully installed molmass-2020.1.1\n"
          ],
          "name": "stdout"
        }
      ]
    },
    {
      "cell_type": "code",
      "metadata": {
        "colab_type": "code",
        "id": "ttJT8q_wYhAV",
        "outputId": "a034884d-9946-4895-f3ab-61a5e7aa495c",
        "colab": {
          "base_uri": "https://localhost:8080/",
          "height": 204
        }
      },
      "source": [
        "from aguaclara.core.units import unit_registry as u\n",
        "import aguaclara as ac\n",
        "import aguaclara.core.physchem as pc\n",
        "import matplotlib.pyplot as plt\n",
        "import numpy as np\n",
        "import pandas as pd\n",
        "import molmass as mol\n",
        "!wget https://raw.githubusercontent.com/monroews/4590FSP/master/Fairmont.py\n",
        "import Fairmont as fmt"
      ],
      "execution_count": 2,
      "outputs": [
        {
          "output_type": "stream",
          "text": [
            "--2020-05-18 13:04:22--  https://raw.githubusercontent.com/monroews/4590FSP/master/Fairmont.py\n",
            "Resolving raw.githubusercontent.com (raw.githubusercontent.com)... 151.101.0.133, 151.101.64.133, 151.101.128.133, ...\n",
            "Connecting to raw.githubusercontent.com (raw.githubusercontent.com)|151.101.0.133|:443... connected.\n",
            "HTTP request sent, awaiting response... 200 OK\n",
            "Length: 3057 (3.0K) [text/plain]\n",
            "Saving to: ‘Fairmont.py’\n",
            "\n",
            "\rFairmont.py           0%[                    ]       0  --.-KB/s               \rFairmont.py         100%[===================>]   2.99K  --.-KB/s    in 0s      \n",
            "\n",
            "2020-05-18 13:04:23 (42.5 MB/s) - ‘Fairmont.py’ saved [3057/3057]\n",
            "\n"
          ],
          "name": "stdout"
        }
      ]
    },
    {
      "cell_type": "markdown",
      "metadata": {
        "colab_type": "text",
        "id": "2SQpUtXCR5Xz"
      },
      "source": [
        "# Task Definition\n",
        "\n",
        "Simply put, hydraulics involved getting the water through the plant. This task can involve anything from splitting water into different trains to simply getting water into each unit process. This plant is a flocculation and sedimentation plant with gravity powered transport of water. Thus, head calculations are critical to make sure there is enough power to get the water through the plant. The average flow of this plant is around 207 MGD, with a peak flow as high as 465 MGD. Additionally, there will be an addition of coagulation, rapid mix, flocculation and finally sedimentation unit processes. These processes will be constrained to happening one after another in a sequential order so that the water can move through on gravity alone.\n",
        " \n",
        "Conventional treatment practices show that there should be sufficient trains of water so that if part of the plant needs to be shut down for maintenance or cleaning, the whole plant does not need to shut down. Keeping this in mind, a treatment plant should have at least two trains. However, if there are only two trains and one is down, then one train will need to be big enough to hold the capacity of the max flow of the plant, which is not ideal. That is why there should be at least three different flow patterns that water can travel so that one can be down and there will still be two trains left to handle even the peak flow.\n",
        " \n",
        "This can be done in many ways. The first way would be to have three separate trains that are identical in every way. That is, they have the same number of each process. This is hard to do, especially using gravity as the power source, because this would require a lot of space. \n",
        "\n",
        " ![alt text](https://drive.google.com/uc?id=1-oEiGO-Uvdc2MzwP6UFg6JT-jU12HT0u)\n",
        "\n",
        "An additional model could be to add more individual modules to each unit process. For example, this could be two rapid mix units, three flocculators and four sedimentation tanks. So that one rapid mix could be offline without disrupting any of the other unit processes.\n",
        "\n",
        " ![alt text](https://drive.google.com/uc?id=1gr4L6FPkaMUrKfec8dRGqTYjqw3XmIM_)\n",
        "\n",
        "Using the second approach to this design seems to be the best way to do this. So, the goal of the hydraulics team will be to design an open channel, gravity-powered flow from the start to the end where each process will have the water split into it and then brought back together to be distributed into the next unit process. For rapid mix this would mean allowing the water to flow into different channels at the start of the plant that can be closed off to flow when that rapid mix is offline. For flocculation, this will mean taking the water from the rapid mix and having it enter flocculators so that any flocculators can be blocked of flow when they are offline. In the sedimentation tanks, the flow will go down a large open channel with outlets into each sedimentation tank and each of those outlets can be blocked if the sedimentation tank is offline. At the end of the sedimentation tanks, the water will flow into another open channel so that at the end of the plant all of the water enters one final channel then can flow into the reservoir.\n",
        " \n",
        "[/Monroe/]: # (Good discussion here. Now create sketches to show both of these ideas. 1- treatment trains that are either all on or all off and 2- unit processes where small units can be taken off line.) \n",
        "\n",
        "[/Matt/]: # (Added Sketches.)"
      ]
    },
    {
      "cell_type": "markdown",
      "metadata": {
        "colab_type": "text",
        "id": "WoGtXtBGQZr5"
      },
      "source": [
        "# Executive Summary \n",
        "\n",
        "Highlight dominant constraints and your recommendation for the design.\n"
      ]
    },
    {
      "cell_type": "markdown",
      "metadata": {
        "colab_type": "text",
        "id": "Jonv4dYSQghA"
      },
      "source": [
        "# Constraints\n",
        "* Relevant regulations\n",
        "    * [California Drinking Water Standards](https://www.waterboards.ca.gov/drinking_water/certlic/drinkingwater/Lawbook.html)\n",
        "    * 10 State Standards\n",
        "    * [2012 Recommendations](https://www.health.state.mn.us/communities/environment/water/docs/tenstates/waterrev2012.pdf)\n",
        "    * [OSHA requirements of confined space and trench excavations](https://www.osha.gov/Publications/osha2226.pdf)\n",
        "* client expectations\n",
        "    * Being able to treat a wide range of flow rates\n",
        "    * Take a train offline without disrupting the plant\n",
        "    * Having a redundant treatment train\n",
        "* site and budget\n",
        "    * With such a wide range of flow rates, how can there be an adequate amount of flow splits while also not making the plant too large and expensive\n",
        "    * Can we have all of the treatment trains needed in the site limits?\n",
        "* process capabilities including process design equations\n",
        "    * Fluid Mechanics\n",
        "    * Looking at channel dimensions so that there is adequate flow to all the treatment trains and sedimentation tanks\n",
        "    * What will the channels look like? This will greatly depend on what other teams decide\n",
        "* ease of use \n",
        "    * Channels and pipes that can take the various flow rates to be experienced\n",
        "    * Operators will need to worry about:\n",
        "        * Opening/closing treatment trains\n",
        "        * Changing chemical dosages\n",
        "    * Budget vs Ease of Use\n",
        "* operation requirements\n",
        "    * What amount of skills will be req to operate?\n",
        "        * What do operators need to know and calculate?\n",
        "        * How will they know when to open/close treatment trains?\n",
        "        * How much will be automated?\n",
        "* maintainence requirements\n",
        "    * Life-time of valves\n",
        "* Pressure Recovery\n",
        "  * conversion from kinetic to potential energy will determine the necessary depth of the channels\n",
        "* Minimum velocity in the channel of 0.15 m/s (10 State Standards)\n",
        "  * This will be used to set the depth and width of the channels\n",
        "  * How can the depth and width be changed without compromising \n",
        "# Physics\n",
        "\n",
        "[/Monroe/]: # (You missed two of the major constraints. 1- Pressure recovery rather than head loss will likely control flow distribution and will set maximum velocities in flow distribution channels. 2- Minimum velocity will be set by the goal of preventing sedimentation in the channels. This is set by a scour velocity and this is likely what has historically set the minimum velocity for channel flow in wtps. )\n",
        "[/Jonathan/]: # (addressed and added to constraints.)\n",
        "\n",
        "* Pressure recovery: Bernoulli's equation\n",
        "$$z_A+\\frac{v_A^2}{2g}+\\frac{P_A}{\\gamma}=z_B+\\frac{v_B^2}{2g}+\\frac{P_B}{\\gamma}$$\n",
        "\n",
        "* Head loss\n",
        "    \n",
        "    Darcy-Weisbach equation\n",
        "    $$ h_f= \\lambda\\frac{L}{D} \\frac{V^2}{2g}$$\n",
        "    Manning equation\n",
        "    $$ Q=\\frac{1.49}{n} A R^(\\frac{2}{3})S^(\\frac{1}{2})$$\n",
        "    Swamee-Jain equation\n",
        "    $$f=\\frac{0.25}{[log(\\frac{\\epsilon}{3.7D}+\\frac{5.74}{Re^(0.9)})]^2}$$\n",
        "\n",
        "* Open channel Flow equations: Manning's Equation\n",
        "\n",
        "[/Monroe/]: # (Your equation wasn't formatted correctly. It is easy to fix using codecogs if you are not yet familiar with Latex.)\n",
        "\n",
        "$$ Q = (1/n)*KA R^{2/3} S^{1/2} $$\n",
        "\n",
        "[/Monroe/]: # (I am opposed to using equations that are dimensionally incorrect especially when we have equations that are dimensionally correct. Pipe flow equations can be used for open channels.) \n",
        "[/Ingrid/]: # (addressed.)\n",
        "\n",
        "\n",
        "\n",
        "# Table listing potential strategies to meet the constraints and treatment objectives\n",
        "\n",
        "\n",
        "| strategy | advantages  | disadvantages | data needed for decision |\n",
        "|---|---|---|---|\n",
        "| Reading relevant regulations | Knowing what will need to be done for the design | Time consuming | all relevant local, state, and federal regulations |\n",
        "|Clear communications with client|No mysteries between us and the client|Time consuming, Client may not want to hear about what **can't** be done|Correspondence method with clients|\n",
        "| Constant Communication with other teams | Will know important info as it becomes available |Will have to rely on other teams for information | N/a |\n",
        "| Including lifetime of valves when looking at treatment trains | Holistic view of cost of treatment | Time needed for vendor locating, may not be necessary | vendors of valves |\n",
        "| **Reading relevant regulations** | Knowing what will need to be done for the design | Time consuming | all relevant local, state, and federal regulations |\n",
        "|**Clear communications with client**|No mysteries between us and the client|Time consuming, Client may not want to hear about what **can't** be done|Correspondence method with clients|\n",
        "| **Constant Communication with other teams** | Will know important info as it becomes available |Will have to rely on other teams for information | N/a |\n",
        "|**Sliding doors to open/close channels**|Can be made to fit what ever channel dimensions are made|would they be manual (operator has to do it)? automatic(could break)?|Find out what other plants do|\n",
        "|**Deeper channels**|Decreases area needed|Construction feasbility, how deep would we go?|area of other parts of the plant|\n",
        "|**Weirs along inlet channel to sedimentation tanks**|During lower flow rates, tanks not needed wont be used|Variable flows may lead to trains going on and off|Look at the variability of the flows and what that means for|\n",
        "\n",
        "\n",
        "[/Monroe/]: # (I think you realized that these are large flows, but you didn't do ANY calculations to see what the dimensions might be. Flow control to enable taking a treatment train offline will be one of the fun design challenges and I doubt that you will be using valves at this scale. )\n",
        "[/Jonathan/]: # (Added new strategies, calculated the area, it is 45 m^2 so yeah a valve is probably not the best option!)"
      ]
    },
    {
      "cell_type": "markdown",
      "metadata": {
        "colab_type": "text",
        "id": "J9dPZVMbOka9"
      },
      "source": [
        "# Vendors and contact information file\n",
        "\n",
        "See this [tab delimited spreadsheet](https://raw.githubusercontent.com/monroews/4590FSP/master/vendors.txt).\n",
        "\n",
        "Add rows to the vendor spreadsheet as you find them. The sheet can easily be edited in Excel. Just make sure to save it as a tab delimited sheet. Push your changes to github so the entire class has access to the document.\n",
        "\n"
      ]
    },
    {
      "cell_type": "code",
      "metadata": {
        "colab_type": "code",
        "id": "l35d0BODlEsW",
        "outputId": "ce7e33a1-7511-4b03-8b6f-009a77713368",
        "colab": {
          "base_uri": "https://localhost:8080/",
          "height": 701
        }
      },
      "source": [
        "vendors = pd.read_csv('https://raw.githubusercontent.com/monroews/4590FSP/master/vendors.txt',sep='\\t')\n",
        "vendors\n"
      ],
      "execution_count": 3,
      "outputs": [
        {
          "output_type": "execute_result",
          "data": {
            "text/html": [
              "<div>\n",
              "<style scoped>\n",
              "    .dataframe tbody tr th:only-of-type {\n",
              "        vertical-align: middle;\n",
              "    }\n",
              "\n",
              "    .dataframe tbody tr th {\n",
              "        vertical-align: top;\n",
              "    }\n",
              "\n",
              "    .dataframe thead th {\n",
              "        text-align: right;\n",
              "    }\n",
              "</style>\n",
              "<table border=\"1\" class=\"dataframe\">\n",
              "  <thead>\n",
              "    <tr style=\"text-align: right;\">\n",
              "      <th></th>\n",
              "      <th>item description</th>\n",
              "      <th>vendor</th>\n",
              "      <th>contact first name</th>\n",
              "      <th>contact last name</th>\n",
              "      <th>vendor website</th>\n",
              "      <th>product info</th>\n",
              "      <th>date of contact</th>\n",
              "      <th>who made the contact</th>\n",
              "      <th>notes</th>\n",
              "    </tr>\n",
              "  </thead>\n",
              "  <tbody>\n",
              "    <tr>\n",
              "      <th>0</th>\n",
              "      <td>plate settlers</td>\n",
              "      <td>MRI</td>\n",
              "      <td>still</td>\n",
              "      <td>pending</td>\n",
              "      <td>http://www.meurerresearch.com/</td>\n",
              "      <td>http://www.meurerresearch.com/literaturemedia/...</td>\n",
              "      <td>4/16/2020</td>\n",
              "      <td>Ian Cullings</td>\n",
              "      <td>NaN</td>\n",
              "    </tr>\n",
              "    <tr>\n",
              "      <th>1</th>\n",
              "      <td>sludge removal system</td>\n",
              "      <td>MRI</td>\n",
              "      <td>still</td>\n",
              "      <td>pending</td>\n",
              "      <td>http://www.meurerresearch.com/</td>\n",
              "      <td>http://www.meurerresearch.com/products/hoseles...</td>\n",
              "      <td>4/16/2020</td>\n",
              "      <td>Ian Cullings</td>\n",
              "      <td>NaN</td>\n",
              "    </tr>\n",
              "    <tr>\n",
              "      <th>2</th>\n",
              "      <td>plate settlers</td>\n",
              "      <td>Monore Environmental</td>\n",
              "      <td>still</td>\n",
              "      <td>pending</td>\n",
              "      <td>https://www.monroeenvironmental.com/</td>\n",
              "      <td>https://www.monroeenvironmental.com/water-and-...</td>\n",
              "      <td>4/16/2020</td>\n",
              "      <td>Ian Cullings</td>\n",
              "      <td>NaN</td>\n",
              "    </tr>\n",
              "    <tr>\n",
              "      <th>3</th>\n",
              "      <td>sludge removal system</td>\n",
              "      <td>Monore Environmental</td>\n",
              "      <td>still</td>\n",
              "      <td>pending</td>\n",
              "      <td>https://www.monroeenvironmental.com/</td>\n",
              "      <td>http://www.monroeenvironmental.com/water-and-w...</td>\n",
              "      <td>4/16/2020</td>\n",
              "      <td>Ian Cullings</td>\n",
              "      <td>NaN</td>\n",
              "    </tr>\n",
              "    <tr>\n",
              "      <th>4</th>\n",
              "      <td>plate settler with hopper</td>\n",
              "      <td>Parkson</td>\n",
              "      <td>still</td>\n",
              "      <td>pending</td>\n",
              "      <td>https://www.parkson.com/</td>\n",
              "      <td>https://www.parkson.com/products/lamella-ecoflow</td>\n",
              "      <td>4/16/2020</td>\n",
              "      <td>Ian Cullings</td>\n",
              "      <td>Includes sloped sludge hopper in design</td>\n",
              "    </tr>\n",
              "    <tr>\n",
              "      <th>5</th>\n",
              "      <td>rapid mixer (mech)</td>\n",
              "      <td>Dynamix</td>\n",
              "      <td>still</td>\n",
              "      <td>pending</td>\n",
              "      <td>https://www.dynamixinc.com</td>\n",
              "      <td>https://www.dynamixinc.com/industries/waste-wa...</td>\n",
              "      <td>4/16/2020</td>\n",
              "      <td>Lynn Li</td>\n",
              "      <td>NaN</td>\n",
              "    </tr>\n",
              "    <tr>\n",
              "      <th>6</th>\n",
              "      <td>rapid mixer (mech)</td>\n",
              "      <td>Meurer Research</td>\n",
              "      <td>still</td>\n",
              "      <td>pending</td>\n",
              "      <td>http://www.meurerresearch.com</td>\n",
              "      <td>http://www.meurerresearch.com/products/mixer/</td>\n",
              "      <td>4/16/2020</td>\n",
              "      <td>Lynn Li</td>\n",
              "      <td>NaN</td>\n",
              "    </tr>\n",
              "    <tr>\n",
              "      <th>7</th>\n",
              "      <td>rapid mixer (mech)</td>\n",
              "      <td>Philadelphia Mixing Solutions</td>\n",
              "      <td>still</td>\n",
              "      <td>pending</td>\n",
              "      <td>https://www.philamixers.com</td>\n",
              "      <td>https://www.philamixers.com/industries/water-w...</td>\n",
              "      <td>4/16/20</td>\n",
              "      <td>Lynn Li</td>\n",
              "      <td>NaN</td>\n",
              "    </tr>\n",
              "    <tr>\n",
              "      <th>8</th>\n",
              "      <td>flocculator (mech)</td>\n",
              "      <td>Sereco</td>\n",
              "      <td>still</td>\n",
              "      <td>pending</td>\n",
              "      <td>http://www.sereco.it/</td>\n",
              "      <td>https://www.directindustry.com/prod/sereco/pro...</td>\n",
              "      <td>05/04/2020</td>\n",
              "      <td>Lynn Li</td>\n",
              "      <td>NaN</td>\n",
              "    </tr>\n",
              "    <tr>\n",
              "      <th>9</th>\n",
              "      <td>decanter centrifuge (resid)  GN Solids Control...</td>\n",
              "      <td>NaN</td>\n",
              "      <td>NaN</td>\n",
              "      <td>NaN</td>\n",
              "      <td>NaN</td>\n",
              "      <td>NaN</td>\n",
              "      <td>NaN</td>\n",
              "      <td>NaN</td>\n",
              "      <td>NaN</td>\n",
              "    </tr>\n",
              "    <tr>\n",
              "      <th>10</th>\n",
              "      <td>decanter centrifuge (resid)     ANDRITZ Group ...</td>\n",
              "      <td>NaN</td>\n",
              "      <td>NaN</td>\n",
              "      <td>NaN</td>\n",
              "      <td>NaN</td>\n",
              "      <td>NaN</td>\n",
              "      <td>NaN</td>\n",
              "      <td>NaN</td>\n",
              "      <td>NaN</td>\n",
              "    </tr>\n",
              "    <tr>\n",
              "      <th>11</th>\n",
              "      <td>pump calibration column McMaster Carr n/a n/a ...</td>\n",
              "      <td>NaN</td>\n",
              "      <td>NaN</td>\n",
              "      <td>NaN</td>\n",
              "      <td>NaN</td>\n",
              "      <td>NaN</td>\n",
              "      <td>NaN</td>\n",
              "      <td>NaN</td>\n",
              "      <td>NaN</td>\n",
              "    </tr>\n",
              "    <tr>\n",
              "      <th>12</th>\n",
              "      <td>eye wash stations McMaster Carr n/a n/a https:...</td>\n",
              "      <td>NaN</td>\n",
              "      <td>NaN</td>\n",
              "      <td>NaN</td>\n",
              "      <td>NaN</td>\n",
              "      <td>NaN</td>\n",
              "      <td>NaN</td>\n",
              "      <td>NaN</td>\n",
              "      <td>NaN</td>\n",
              "    </tr>\n",
              "    <tr>\n",
              "      <th>13</th>\n",
              "      <td>safety showers with eye wash stations McMaster...</td>\n",
              "      <td>NaN</td>\n",
              "      <td>NaN</td>\n",
              "      <td>NaN</td>\n",
              "      <td>NaN</td>\n",
              "      <td>NaN</td>\n",
              "      <td>NaN</td>\n",
              "      <td>NaN</td>\n",
              "      <td>NaN</td>\n",
              "    </tr>\n",
              "    <tr>\n",
              "      <th>14</th>\n",
              "      <td>40% FeCl3 solution  Brenntag  n/a n/a https://...</td>\n",
              "      <td>NaN</td>\n",
              "      <td>NaN</td>\n",
              "      <td>NaN</td>\n",
              "      <td>NaN</td>\n",
              "      <td>NaN</td>\n",
              "      <td>NaN</td>\n",
              "      <td>NaN</td>\n",
              "      <td>NaN</td>\n",
              "    </tr>\n",
              "  </tbody>\n",
              "</table>\n",
              "</div>"
            ],
            "text/plain": [
              "                                     item description  ...                                    notes\n",
              "0                                      plate settlers  ...                                      NaN\n",
              "1                               sludge removal system  ...                                      NaN\n",
              "2                                      plate settlers  ...                                      NaN\n",
              "3                               sludge removal system  ...                                      NaN\n",
              "4                           plate settler with hopper  ...  Includes sloped sludge hopper in design\n",
              "5                                  rapid mixer (mech)  ...                                      NaN\n",
              "6                                  rapid mixer (mech)  ...                                      NaN\n",
              "7                                  rapid mixer (mech)  ...                                      NaN\n",
              "8                                  flocculator (mech)  ...                                      NaN\n",
              "9   decanter centrifuge (resid)  GN Solids Control...  ...                                      NaN\n",
              "10  decanter centrifuge (resid)     ANDRITZ Group ...  ...                                      NaN\n",
              "11  pump calibration column McMaster Carr n/a n/a ...  ...                                      NaN\n",
              "12  eye wash stations McMaster Carr n/a n/a https:...  ...                                      NaN\n",
              "13  safety showers with eye wash stations McMaster...  ...                                      NaN\n",
              "14  40% FeCl3 solution  Brenntag  n/a n/a https://...  ...                                      NaN\n",
              "\n",
              "[15 rows x 9 columns]"
            ]
          },
          "metadata": {
            "tags": []
          },
          "execution_count": 3
        }
      ]
    },
    {
      "cell_type": "markdown",
      "metadata": {
        "colab_type": "text",
        "id": "-jwNKdrCOmux"
      },
      "source": [
        "# Shared assumptions\n",
        "\n",
        "See this [python file, Fairmont.py](https://github.com/monroews/4590FSP/blob/master/Fairmont.py)\n",
        "\n",
        "Use this file to hold parameters that are in the SOW or elsewhere that\n",
        "influence the design of the entire plant. This provides an easy mechanism\n",
        "for all of us to share the same assumptions. Read the SOW to find sections that relate to your part of the design and enter all pertinent variables into [Fairmont.py](https://github.com/monroews/4590FSP/blob/master/Fairmont.py) and then push those changes to github.\n",
        "\n",
        "# Major Decisions\n",
        "\n",
        "The first major decision is to think about the treatment trains. How many trains will the plant have? And, what is the most effective way to have trains so that the least amount of processes would need to be shut down? To answer this the decision was made to effectively only have one train. That is, have each single unit of the unit process be able to be offline without any other downstream process needing to be offline. This is the best way to go about this but does also bring up some other rather large decisions.\n",
        " \n",
        "The next major decision that needs to be made is how big can these channels be. This plant is rated to move a lot of water through its processes and therefore will require some large channels. This will take up a lot of space and can also cause serious construction limitations. The strategy to come to a choice is to do some preliminary calculations and then also add in how many of each process we will have. Then we can add or subtract from there. To get this information we will need to look at the preliminary designs from each team.\n",
        " \n",
        "Another big decision that needs to be made is how to take a treatment train or unit process offline. Once again, since there are large flows involved in this plant simple valves may not be strong enough to stop the flow out of the channel. References from other plants this size will be needed so that we can gauge all options. We can also design what we think will work then address its feasibility with others.\n",
        " \n",
        "In order to get the water from open channels to multiple sedimentation tanks, using a large channel with outlets to each tank seems to be the best option. However doing this will lead to a large plan view area for these channels. There is not a lot of space for this plant so having a large area taken up by these channels may not work for construction purposes. Moving forward, the area of these channels will be calculated and compared to the area of the rest of the plant to see just how much space will be taken up. Additionally, further research will be done into how to make the plan view area of these tanks smaller whether that is making them deeper or potentially having a couple channels.\n",
        "\n",
        "\n",
        "# Next Steps and Challenges\n",
        "\n",
        "Next steps are to continue to get data needed from each of the unit processes so that our design may be furthered or edited as needed. We will also need to figure out the best way to take a train offline and cut-off these large flows from the process. This is also a major challenge because indications are that a simple valve may not be big or strong enough to handle the flows of the plant. Additionally, the dimensions of these channels will need to be kept in mind. At the end of the day we could end up with big enough channels to account for more than half of the area of the plant and that would not be ideal. So, we will need to check these dimensions and adjust certain parameters so that they are not that large in comparison. This is also a challenge because these channels cannot be such that particles start to settle out and block potential flow. We also have the challenge of the size such that channels for sedimentation tanks will become overly large and not be feasible to construct or maintain."
      ]
    },
    {
      "cell_type": "markdown",
      "metadata": {
        "id": "STMVeAnJfeZX",
        "colab_type": "text"
      },
      "source": [
        "# Flow Splitting\n",
        "The plant will have plenty of variability in flow. The sedimentation tanks, in particular, need to have the ability to run in any number of configurations to accommodate the different flows. Therefore, the water will need to be split into multiple sedimentation tanks so that the tanks can be run in any set in order to accommodate flow. This is the major splitting of the water necessary for the plant. Below is a sample configuration for discussion:\n",
        " \n",
        "![alt text](https://drive.google.com/uc?id=1EA6UTVM7dSfAVRIA5woZqRI0mmoCmRjn)\n",
        " \n",
        "This example shows six different sedimentation tank units that can be shut off using a gate on the influent side. In this type of tank the flow will be split four times. The first split is off the main channel (blue), second into either side of the sedimentation tank  (orange), third into a plate settler and finally deposited into the effluent (yellow) where the water is free to flow into the reservoir. Any of these six tanks can be taken offline using the black gate off of the main channel. This allows for the plant to take on the smallest and largest flows possible. The figure below shows the cross-section of a sedimentation tank unit with a possible flow path shown.\n",
        " \n",
        "![alt text](https://drive.google.com/uc?id=1a7iNuPTlB8SBk9f5aQoCL-5Z6mlTLcay)\n",
        " \n",
        "Additionally to add water back into the unit, there is another gate (shown in purple) to add settled water back into the unit. This is where the effluent would meet the influent water in the channel just before the sedimentation tanks. This will allow to take tanks on and offline without worrying about floc breakout. As seen in the cross-sectional of the sedimentation unit, the effluent will be at a lower height than the influent water (although it is exaggerated for effect). This helps the water to flow downhill into the reservoir and the free flowing drop will also help with flow distribution into the effluent. While the settled water will not be able to fully fill the tank, the influent gate can be opened slowly enough to fill the small amount left. Doing this will make any break-up negligible.\n",
        " \n",
        "The most important constraints in this are the velocities in the channels and the pressure recovery in this process. It is known that in order to not break-up flocs, the velocity in the channel should be around 0.3 m/s (0.15-0.4 m/s). Therefore, the channel will be constrained to this and quite possibly will be very large in which the depth of the channel may be to be tweaked as it is set to the depth of the sedimentation tanks currently. The calculations for this constraint are below. The other main constraint is the pressure recovery. The highest flow will be at the last plate settler furthest from the inlet of the main channel. Therefore, the pressure at the beginning plates will need to be accounted for and is calculated and discussed further below. \n",
        " "
      ]
    },
    {
      "cell_type": "markdown",
      "metadata": {
        "colab_type": "text",
        "id": "DXlB_I6ZOw2J"
      },
      "source": [
        "# Design\n",
        "\n",
        "Begin writing the code to start your design. Define flow rates, mass rates, energy requirements, and any readily calculated dimensions, velocities, flows, etc."
      ]
    },
    {
      "cell_type": "code",
      "metadata": {
        "colab_type": "code",
        "id": "IrwTrVM2hZqH",
        "outputId": "038337d5-5103-4e81-e4e9-c978f0c2c6e1",
        "colab": {
          "base_uri": "https://localhost:8080/",
          "height": 830
        }
      },
      "source": [
        "print('The average flow to be treated at Fairmont is',fmt.q_ave.to(u.Mgal/u.day),'or')\n",
        "print('The maximum flow to be treated at Fairmont is',fmt.q_max.to(u.Mgal/u.day))\n",
        "specific_energy = (fmt.electricity_power/fmt.q_ave).to(u.J/u.L)\n",
        "temp = 15 * u.degC\n",
        "specific_potential_energy = (specific_energy / u.gravity / ac.density_water(temp)).to(u.m)\n",
        "print('The average amount of energy used per liter of water is expected to be',specific_energy,'or',specific_potential_energy,'of potential energy')\n",
        "\n",
        "\n",
        "# Rough Channel Area calculations\n",
        "minvel = 0.15*u.m/u.s\n",
        "maxvel = 0.45*u.m/u.s\n",
        "areas = np.array([0,0])*u.m**2\n",
        "areas[0] = fmt.q_max/maxvel\n",
        "areas[1] = fmt.q_max/minvel\n",
        "print('The range of channel areas are (', areas[0],',',areas[1],')')\n",
        "\n",
        "# we will use a velocity of 0.3 m/s\n",
        "\n",
        "vel = 0.3*u.m/u.s\n",
        "area = fmt.q_max/vel\n",
        "pressure_recovery = vel**2/(2*ac.GRAVITY)\n",
        "# assuming the is the minimum channel depth needed\n",
        "print('The final area used:',area.to(u.m**2))\n",
        "width_channel = (area/pressure_recovery).to(u.m)\n",
        "print('The pressure recovery that would happen in the channel is',pressure_recovery.to(u.mm),'.','\\n')\n",
        "\n",
        "# Looking at modeling after the sed tank depth:\n",
        "depth_sed = 3 * u.m\n",
        "width_channel_sed = area/depth_sed\n",
        "print('The width of the channel based on the sedimentation tank depth is',round(width_channel_sed.to(u.m)),'\\n')\n",
        "\n",
        "# Can use AguaClara PhysChem functions https://aguaclara.github.io/aguaclara/core/physchem.html\n",
        "openchannel = True\n",
        "\n",
        "# Determining area available for channels\n",
        "# Calculate areas of unit processes\n",
        "A_rm_hyd = fmt.n_rm_hyd * fmt.L_rm_hyd * fmt.W_rm_hyd \n",
        "A_rm_mech = fmt.n_rm_mech * fmt.L_rm_mech * fmt.W_rm_mech \n",
        "A_floc_hyd = fmt.n_floc_hyd * fmt.L_floc_hyd * fmt.W_floc_hyd\n",
        "A_floc_mech = fmt.n_floc_mech * fmt.L_floc_mech * fmt.W_floc_mech \n",
        "A_sed_hyd = fmt.n_sed_hyd * fmt.L_sed_hyd * fmt.W_sed_hyd \n",
        "A_sed_mech = fmt.n_sed_mech * fmt.L_sed_mech * fmt.W_sed_mech\n",
        "\n",
        "# Potential areas\n",
        "A_channel_hyd = fmt.project_a - (A_rm_hyd + A_floc_hyd + A_sed_hyd)\n",
        "A_channel_mech = fmt.project_a - (A_rm_mech + A_floc_mech + A_sed_mech)\n",
        "print('The area available for a hydraulic plant is',A_channel_hyd)\n",
        "print('The area available for a mechanical plant is',A_channel_mech,'\\n')\n",
        "\n",
        "# Channel Splits\n",
        "n_channels = np.array([2,4,6,8,10,12,14,16,18,20]) # range of possible number of channel splits. Each channel split feed 2 sedimentation tanks\n",
        "channel_area = area/n_channels\n",
        "#print('Channel areas:',*channel_area.to(u.m**2))\n",
        "diameters = 2*((channel_area/np.pi)**.5)\n",
        "channel_width = channel_area/depth_sed\n",
        "#print('Channel Widths:', *channel_width.to(u.m))\n",
        "#print('Pipe diameters:', *diameters.to(u.m))\n",
        "channels = pd.DataFrame()\n",
        "channels['Channel Splits'] = n_channels\n",
        "channels['Area(m2)'] = channel_area.to(u.m**2)\n",
        "channels['Width(m)'] = channel_width.to(u.m)\n",
        "channels['PipeID(m)'] = diameters.to(u.m)\n",
        "# we do not know how many manifolds there will be in the sed tank, currently a variable and will be updated after information from the sed teams\n",
        "n_manifolds = 20\n",
        "sed_area = channel_area/n_manifolds\n",
        "diameter_manifold = 2*((sed_area/np.pi)**.5)\n",
        "print('Manifold diameters:', *diameter_manifold.to(u.cm),'\\n')\n",
        "\n",
        "# These will be pipes, calculate ND,OD of pipes\n",
        "ID=(area/np.pi)**0.5\n",
        "\n",
        "# ND is chosen with concidering the price, pressure of the pipe needed\n",
        "plt.figure(figsize=[12,6])\n",
        "plt.plot(channels['Channel Splits'],channels['Width(m)'])\n",
        "plt.xlabel('Number of Channels')\n",
        "plt.ylabel('Channel Width (m)')\n",
        "plt.show()\n",
        "\n",
        "print('Channels:')\n",
        "print(channels.to_string(index=False))"
      ],
      "execution_count": 4,
      "outputs": [
        {
          "output_type": "stream",
          "text": [
            "The average flow to be treated at Fairmont is 206.8 megagallon / day or\n",
            "The maximum flow to be treated at Fairmont is 465.3 megagallon / day\n",
            "The average amount of energy used per liter of water is expected to be 118.1 joule / liter or 12.05 meter of potential energy\n",
            "The range of channel areas are ( 45 meter ** 2 , 135 meter ** 2 )\n",
            "The final area used: 67.96 meter ** 2\n",
            "The pressure recovery that would happen in the channel is 4.589 millimeter . \n",
            "\n",
            "The width of the channel based on the sedimentation tank depth is 23 meter \n",
            "\n",
            "The area available for a hydraulic plant is -4071 meter ** 2\n",
            "The area available for a mechanical plant is -4035 meter ** 2 \n",
            "\n",
            "Manifold diameters: 147.1 centimeter 104 centimeter 84.92 centimeter 73.54 centimeter 65.78 centimeter 60.05 centimeter 55.59 centimeter 52 centimeter 49.03 centimeter 46.51 centimeter \n",
            "\n"
          ],
          "name": "stdout"
        },
        {
          "output_type": "display_data",
          "data": {
            "image/png": "[encoded data removed]",
            "text/plain": [
              "<Figure size 864x432 with 1 Axes>"
            ]
          },
          "metadata": {
            "tags": [],
            "needs_background": "light"
          }
        },
        {
          "output_type": "stream",
          "text": [
            "Channels:\n",
            " Channel Splits  Area(m2)  Width(m)  PipeID(m)\n",
            "              2     33.98     11.33      6.578\n",
            "              4     16.99     5.663      4.651\n",
            "              6     11.33     3.776      3.798\n",
            "              8     8.495     2.832      3.289\n",
            "             10     6.796     2.265      2.942\n",
            "             12     5.663     1.888      2.685\n",
            "             14     4.854     1.618      2.486\n",
            "             16     4.248     1.416      2.326\n",
            "             18     3.776     1.259      2.193\n",
            "             20     3.398     1.133       2.08\n"
          ],
          "name": "stdout"
        }
      ]
    },
    {
      "cell_type": "code",
      "metadata": {
        "id": "EWc4it9zhL61",
        "colab_type": "code",
        "outputId": "51d4d8a5-8ca5-42e1-e694-e7fbc80a9cb2",
        "colab": {
          "base_uri": "https://localhost:8080/",
          "height": 232
        }
      },
      "source": [
        "# head loss\n",
        "# variables\n",
        "n = 0.010 # Manning's n, range: 0.010-0.013\n",
        "R = 1 # find hydraulic radius\n",
        "S = 0.01 # find channel slope\n",
        "FlowRate = fmt.q_ave.to(u.Mgal/u.day)\n",
        "\n",
        "# based on the assumption of the laminar flow\n",
        "# using Darcy-Weisbach equation\n",
        "# pc.headloss_fric(FlowRate, Diam, Length, Nu, PipeRough)\n",
        "\n",
        "\n",
        "# using Swamee-Jain equation\n",
        "pc.fric(FlowRate, Diam, Nu, PipeRough)\n",
        "\n",
        "def manningsV(n,R,S):\n",
        "  # n is the mannings coeffecient\n",
        "  # R is the hydraulic radius\n",
        "  # S is the slope of channel\n",
        "  (1/n)*R**(2/3)*S**.5\n",
        "\n",
        "def manningsloss(n,L,Q,D):\n",
        "  # n is the mannings coeffecient\n",
        "  #taken: https://www.slideshare.net/louyalhamy/hydro-chapter3-by-louy-al-hami\n",
        "  (10.3*(n**2)*L*(Q**2))/(D**(16/3))\n",
        "\n"
      ],
      "execution_count": 5,
      "outputs": [
        {
          "output_type": "error",
          "ename": "NameError",
          "evalue": "ignored",
          "traceback": [
            "\u001b[0;31m---------------------------------------------------------------------------\u001b[0m",
            "\u001b[0;31mNameError\u001b[0m                                 Traceback (most recent call last)",
            "\u001b[0;32m<ipython-input-5-e26c2092fe9e>\u001b[0m in \u001b[0;36m<module>\u001b[0;34m()\u001b[0m\n\u001b[1;32m      8\u001b[0m \u001b[0;31m# based on the assumption of the laminar flow\u001b[0m\u001b[0;34m\u001b[0m\u001b[0;34m\u001b[0m\u001b[0;34m\u001b[0m\u001b[0m\n\u001b[1;32m      9\u001b[0m \u001b[0;31m# using Darcy-Weisbach equation\u001b[0m\u001b[0;34m\u001b[0m\u001b[0;34m\u001b[0m\u001b[0;34m\u001b[0m\u001b[0m\n\u001b[0;32m---> 10\u001b[0;31m \u001b[0mpc\u001b[0m\u001b[0;34m.\u001b[0m\u001b[0mheadloss_fric\u001b[0m\u001b[0;34m(\u001b[0m\u001b[0mFlowRate\u001b[0m\u001b[0;34m,\u001b[0m \u001b[0mDiam\u001b[0m\u001b[0;34m,\u001b[0m \u001b[0mLength\u001b[0m\u001b[0;34m,\u001b[0m \u001b[0mNu\u001b[0m\u001b[0;34m,\u001b[0m \u001b[0mPipeRough\u001b[0m\u001b[0;34m)\u001b[0m\u001b[0;34m\u001b[0m\u001b[0;34m\u001b[0m\u001b[0m\n\u001b[0m\u001b[1;32m     11\u001b[0m \u001b[0;34m\u001b[0m\u001b[0m\n\u001b[1;32m     12\u001b[0m \u001b[0;34m\u001b[0m\u001b[0m\n",
            "\u001b[0;31mNameError\u001b[0m: name 'Diam' is not defined"
          ]
        }
      ]
    },
    {
      "cell_type": "code",
      "metadata": {
        "id": "iKwjcOL7Is86",
        "colab_type": "code",
        "outputId": "72c62d12-3dfe-4135-c589-d730be49af22",
        "colab": {
          "base_uri": "https://localhost:8080/",
          "height": 51
        }
      },
      "source": [
        "# port velocity\n",
        "def Ratio_Pipe_Manifold_V_Port_to_V_Man(Ratio_flow):\n",
        "  return np.sqrt((Ratio_flow**2 + 1)/(2*(1-Ratio_flow**2)))\n",
        "\n",
        "Ratio_flow = 0.85 # based on flow of first and last port in diffuser \n",
        "# ask sed team why\n",
        "\n",
        "# assume celovity in main channel will be the velocity in the manifold\n",
        "vel_port = vel * Ratio_Pipe_Manifold_V_Port_to_V_Man(Ratio_flow)\n",
        "print(vel_port)\n",
        "pressure_recovery = vel_port**2/(2*ac.GRAVITY)\n",
        "print(pressure_recovery.to(u.cm))"
      ],
      "execution_count": 6,
      "outputs": [
        {
          "output_type": "stream",
          "text": [
            "0.5285 meter / second\n",
            "1.424 centimeter\n"
          ],
          "name": "stdout"
        }
      ]
    },
    {
      "cell_type": "code",
      "metadata": {
        "id": "mtz7xNf9Iraz",
        "colab_type": "code",
        "outputId": "caa19e0f-ea03-4338-8eab-3aafa941509c",
        "colab": {
          "base_uri": "https://localhost:8080/",
          "height": 34
        }
      },
      "source": [
        "# slope\n",
        "L_sed =40*u.m\n",
        "W_channel = channels['Width(m)'][1]*u.m\n",
        "L_tot = L_sed*4 + W_channel*2\n",
        "S = pressure_recovery/L_tot\n",
        "print(S.to(u.dimensionless))"
      ],
      "execution_count": 7,
      "outputs": [
        {
          "output_type": "stream",
          "text": [
            "8.313e-05 dimensionless\n"
          ],
          "name": "stdout"
        }
      ]
    },
    {
      "cell_type": "markdown",
      "metadata": {
        "id": "Bp7Fj3q_yC5-",
        "colab_type": "text"
      },
      "source": [
        "# Analysis\n",
        "\n",
        "## Pressure Recovery\n",
        "The pressure recovery is calculated using the equation:\n",
        "\n",
        "$$ Pressure \\space Recovery = \\frac{V^2}{2g}, $$\n",
        "however, the calculated length is so tiny that the depth of the channel will really depend on this calculation. The pressure recovery is only 4.589 mm.\n",
        "\n",
        "-Jonathan"
      ]
    },
    {
      "cell_type": "markdown",
      "metadata": {
        "id": "nJ7pvQTyJaT8",
        "colab_type": "text"
      },
      "source": [
        "## Head Loss\n",
        "The head loss in longest channel is calculated in three ways to find the actual impact to the whole system."
      ]
    },
    {
      "cell_type": "markdown",
      "metadata": {
        "id": "3Q37dqVgJavT",
        "colab_type": "text"
      },
      "source": [
        "## Sedimentation Inlet Channel Width\n",
        "The next depth used to calculate the channel width was the depth of the hydraulic sendimentation tank of 3 meters. This depth leadsto a channel width of 23 meters. \n",
        "\n",
        "As the team was looking at ways to save space, we thought about decreasing the channel width as the plant split off. However, one potential issue with that design is if early sedimentation tanks are turned off, and the channel downstream would need to be able to handel the full flow."
      ]
    },
    {
      "cell_type": "markdown",
      "metadata": {
        "id": "xKmIh8KiJbHk",
        "colab_type": "text"
      },
      "source": [
        "## Sloped Bottom vs decreasing channel width\n",
        "sloping the channel bottom\n",
        "[Equation 655](https://aguaclara.github.io/Textbook/Hydraulics/Hydraulics_Intro.html#equation-manifold-max-v-no-hl-series)\n",
        "\n",
        "### constant slope vs slope up at slipt\n"
      ]
    },
    {
      "cell_type": "markdown",
      "metadata": {
        "id": "5ZXNVQsuJbre",
        "colab_type": "text"
      },
      "source": [
        "## Worst Case Scenario: Lowest Flowrate expected:\n",
        "\n",
        "as turning off capacity, what is lowest you can go with\n",
        "\n",
        "-jonathan"
      ]
    },
    {
      "cell_type": "code",
      "metadata": {
        "id": "MlNcC48f2seK",
        "colab_type": "code",
        "colab": {
          "base_uri": "https://localhost:8080/",
          "height": 575
        },
        "outputId": "420f2304-6885-4919-f74d-efd2fa953c72"
      },
      "source": [
        "# Worst Case Scenario\n",
        "q_low = fmt.q_min\n",
        "v_low = q_low/(channel_area)\n",
        "#print(*v_low.to(u.m/u.s))\n",
        "channels['V_low(m/s)'] = v_low.to(u.m/u.s)\n",
        "print(channels.to_string(index=False))\n",
        "# would need a minimum of 8 Channel Splits \n",
        "\n",
        "plt.figure(figsize=[12,6])\n",
        "plt.plot(channels['Channel Splits'],channels['V_low(m/s)'],label='Low Flow Channel Velocity')\n",
        "plt.xlabel('Number of Channels')\n",
        "plt.ylabel('Velocity (m/s)')\n",
        "plt.axhline(y=0.15,ls='--',c='r',label='Minimum Standard')\n",
        "plt.axhline(y=0.45,ls='--',c='r',label='Maximum Standard')\n",
        "#plt.axvline(x=8,ymax=0.35,label='8 Treatment Trains',c='b')\n",
        "plt.xticks(np.arange(0, 21, 1.0))\n",
        "plt.legend()\n",
        "plt.show()"
      ],
      "execution_count": 15,
      "outputs": [
        {
          "output_type": "stream",
          "text": [
            " Channel Splits  Area(m2)  Width(m)  PipeID(m)  V_low(m/s)\n",
            "              2     33.98     11.33      6.578     0.07736\n",
            "              4     16.99     5.663      4.651      0.1547\n",
            "              6     11.33     3.776      3.798      0.2321\n",
            "              8     8.495     2.832      3.289      0.3094\n",
            "             10     6.796     2.265      2.942      0.3868\n",
            "             12     5.663     1.888      2.685      0.4642\n",
            "             14     4.854     1.618      2.486      0.5415\n",
            "             16     4.248     1.416      2.326      0.6189\n",
            "             18     3.776     1.259      2.193      0.6963\n",
            "             20     3.398     1.133       2.08      0.7736\n"
          ],
          "name": "stdout"
        },
        {
          "output_type": "display_data",
          "data": {
            "image/png": "[encoded data removed]",
            "text/plain": [
              "<Figure size 864x432 with 1 Axes>"
            ]
          },
          "metadata": {
            "tags": [],
            "needs_background": "light"
          }
        }
      ]
    },
    {
      "cell_type": "markdown",
      "metadata": {
        "id": "KGqzsIObJcao",
        "colab_type": "text"
      },
      "source": [
        "## Available Area\n",
        "The Fairmont.py file contains the length, width, and number of unit processes. These were used to calculate the available area in the plant for channels. With the values in the file currently, there is negative space for the channels. Hopefully, as teams update the values in the available area will become clear. Also, it may be better for the Hydraulics team to reach out to each team to see what their processes are looking like in order to design their channels. "
      ]
    },
    {
      "cell_type": "markdown",
      "metadata": {
        "id": "9BnXV9ncJyQ_",
        "colab_type": "text"
      },
      "source": [
        "# hydraulic head profile (maybe?)\n",
        "\n",
        "```\n",
        "# This is formatted as code\n",
        "```\n",
        "\n"
      ]
    },
    {
      "cell_type": "markdown",
      "metadata": {
        "id": "Y3roR4ULYBs-",
        "colab_type": "text"
      },
      "source": [
        "# Cost Estimate \n",
        "\n",
        "A simple estimation of the possible cost for the design is implemented here to better visualize the project. \n",
        "\n",
        "| ITEM | QTY  | UNIT PRICE | COST | \n",
        "|---|---|---|---|\n",
        "| Concrete | 210 | 735 dollar/cy | 735000 |  \n",
        "| Excavation | 20 | 200 dollar/hour | 4000 |\n",
        "| **Total** | | |**775000** |"
      ]
    }
  ]
}