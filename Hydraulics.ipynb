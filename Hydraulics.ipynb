{
 "cells": [
  {
   "cell_type": "markdown",
   "metadata": {
    "colab_type": "text",
    "id": "lZNgRSu1Uj8D"
   },
   "source": [
    "#Hydraulics\n",
    "\n",
    "Authors: Jonathan Harris, Matthew Snyder, Ke Xu\n",
    "\n"
   ]
  },
  {
   "cell_type": "code",
   "execution_count": 0,
   "metadata": {
    "colab": {
     "base_uri": "https://localhost:8080/",
     "height": 578
    },
    "colab_type": "code",
    "executionInfo": {
     "elapsed": 13626,
     "status": "ok",
     "timestamp": 1585840297660,
     "user": {
      "displayName": "Monroe Weber-Shirk",
      "photoUrl": "https://lh3.googleusercontent.com/a-/AOh14GhiyXo1Qg5VXy1DQuWFQH2sfql2blbIcZrp2jsd8MY=s64",
      "userId": "08369668289863895493"
     },
     "user_tz": 240
    },
    "id": "QjwM4ovYUokZ",
    "outputId": "70ee6a45-d1c0-421a-b7c0-35c8fca4c7cf"
   },
   "outputs": [
    {
     "name": "stdout",
     "output_type": "stream",
     "text": [
      "Collecting aguaclara\n",
      "\u001b[?25l  Downloading https://files.pythonhosted.org/packages/28/bd/ce0f9f758e58a15e5cc55812679fe6ded155da1b6bac2278e574ce63d728/aguaclara-0.2.0.tar.gz (87kB)\n",
      "\u001b[K     |████████████████████████████████| 92kB 2.8MB/s \n",
      "\u001b[?25hRequirement already satisfied: matplotlib in /usr/local/lib/python3.6/dist-packages (from aguaclara) (3.2.1)\n",
      "Requirement already satisfied: urllib3 in /usr/local/lib/python3.6/dist-packages (from aguaclara) (1.24.3)\n",
      "Collecting pint==0.8.1\n",
      "\u001b[?25l  Downloading https://files.pythonhosted.org/packages/1e/40/6938f7d544eef208a8183c2c80624289e8a4f4e0aea43f4658b9527077de/Pint-0.8.1.tar.gz (162kB)\n",
      "\u001b[K     |████████████████████████████████| 163kB 8.8MB/s \n",
      "\u001b[?25hRequirement already satisfied: pandas in /usr/local/lib/python3.6/dist-packages (from aguaclara) (1.0.3)\n",
      "Requirement already satisfied: scipy in /usr/local/lib/python3.6/dist-packages (from aguaclara) (1.4.1)\n",
      "Requirement already satisfied: cycler>=0.10 in /usr/local/lib/python3.6/dist-packages (from matplotlib->aguaclara) (0.10.0)\n",
      "Requirement already satisfied: python-dateutil>=2.1 in /usr/local/lib/python3.6/dist-packages (from matplotlib->aguaclara) (2.8.1)\n",
      "Requirement already satisfied: pyparsing!=2.0.4,!=2.1.2,!=2.1.6,>=2.0.1 in /usr/local/lib/python3.6/dist-packages (from matplotlib->aguaclara) (2.4.6)\n",
      "Requirement already satisfied: kiwisolver>=1.0.1 in /usr/local/lib/python3.6/dist-packages (from matplotlib->aguaclara) (1.1.0)\n",
      "Requirement already satisfied: numpy>=1.11 in /usr/local/lib/python3.6/dist-packages (from matplotlib->aguaclara) (1.18.2)\n",
      "Requirement already satisfied: pytz>=2017.2 in /usr/local/lib/python3.6/dist-packages (from pandas->aguaclara) (2018.9)\n",
      "Requirement already satisfied: six in /usr/local/lib/python3.6/dist-packages (from cycler>=0.10->matplotlib->aguaclara) (1.12.0)\n",
      "Requirement already satisfied: setuptools in /usr/local/lib/python3.6/dist-packages (from kiwisolver>=1.0.1->matplotlib->aguaclara) (46.0.0)\n",
      "Building wheels for collected packages: aguaclara, pint\n",
      "  Building wheel for aguaclara (setup.py) ... \u001b[?25l\u001b[?25hdone\n",
      "  Created wheel for aguaclara: filename=aguaclara-0.2.0-cp36-none-any.whl size=99623 sha256=4880676afe0c30e0e16ad8b964a7a96c5522c7aa7f231962cbdf9a0d25894c05\n",
      "  Stored in directory: /root/.cache/pip/wheels/34/e9/34/0d3722243083a982623290c205c14a08b54ed290ee29219fd2\n",
      "  Building wheel for pint (setup.py) ... \u001b[?25l\u001b[?25hdone\n",
      "  Created wheel for pint: filename=Pint-0.8.1-py2.py3-none-any.whl size=134156 sha256=7600138d6c2d35c6ad84745d3773cecab810be630e2ea22cdc6afcf0a1814fac\n",
      "  Stored in directory: /root/.cache/pip/wheels/b4/56/36/7c4d6a4e3660e233b95e3b0482551915cb184abca0f93ee1dd\n",
      "Successfully built aguaclara pint\n",
      "Installing collected packages: pint, aguaclara\n",
      "Successfully installed aguaclara-0.2.0 pint-0.8.1\n",
      "Collecting molmass\n",
      "\u001b[?25l  Downloading https://files.pythonhosted.org/packages/12/2b/dd600a36b78bc9ebf9e8ff7c900150c7439af0c55504a4ab8213485cda94/molmass-2020.1.1-py3-none-any.whl (65kB)\n",
      "\u001b[K     |████████████████████████████████| 71kB 2.2MB/s \n",
      "\u001b[?25hInstalling collected packages: molmass\n",
      "Successfully installed molmass-2020.1.1\n"
     ]
    }
   ],
   "source": [
    "!pip install aguaclara\n",
    "!pip install molmass"
   ]
  },
  {
   "cell_type": "code",
   "execution_count": 0,
   "metadata": {
    "colab": {
     "base_uri": "https://localhost:8080/",
     "height": 204
    },
    "colab_type": "code",
    "executionInfo": {
     "elapsed": 15004,
     "status": "ok",
     "timestamp": 1585840299054,
     "user": {
      "displayName": "Monroe Weber-Shirk",
      "photoUrl": "https://lh3.googleusercontent.com/a-/AOh14GhiyXo1Qg5VXy1DQuWFQH2sfql2blbIcZrp2jsd8MY=s64",
      "userId": "08369668289863895493"
     },
     "user_tz": 240
    },
    "id": "ttJT8q_wYhAV",
    "outputId": "394ba1d8-46de-43ae-81b5-70d68ca0fafc"
   },
   "outputs": [
    {
     "name": "stdout",
     "output_type": "stream",
     "text": [
      "--2020-04-02 15:11:36--  https://raw.githubusercontent.com/monroews/4590FSP/master/Fairmont.py\n",
      "Resolving raw.githubusercontent.com (raw.githubusercontent.com)... 151.101.0.133, 151.101.64.133, 151.101.128.133, ...\n",
      "Connecting to raw.githubusercontent.com (raw.githubusercontent.com)|151.101.0.133|:443... connected.\n",
      "HTTP request sent, awaiting response... 200 OK\n",
      "Length: 1632 (1.6K) [text/plain]\n",
      "Saving to: ‘Fairmont.py’\n",
      "\n",
      "\r",
      "Fairmont.py           0%[                    ]       0  --.-KB/s               \r",
      "Fairmont.py         100%[===================>]   1.59K  --.-KB/s    in 0s      \n",
      "\n",
      "2020-04-02 15:11:36 (209 MB/s) - ‘Fairmont.py’ saved [1632/1632]\n",
      "\n"
     ]
    }
   ],
   "source": [
    "from aguaclara.core.units import unit_registry as u\n",
    "import aguaclara as ac\n",
    "import matplotlib.pyplot as plt\n",
    "import numpy as np\n",
    "import pandas as pd\n",
    "import molmass as mol\n",
    "!wget https://raw.githubusercontent.com/monroews/4590FSP/master/Fairmont.py\n",
    "import Fairmont as fmt"
   ]
  },
  {
   "cell_type": "markdown",
   "metadata": {
    "colab_type": "text",
    "id": "2SQpUtXCR5Xz"
   },
   "source": [
    "# Task Definition\n",
    "\n",
    "Hydraulics involves getting the water through the plant. This will involve the necessary design criteria to split the water to the different trains of flows we have. The main basis for design will be finding the right size and ways to split the water so that each of the trains will be able to be in use. The tricky parts of this task will be coordinating with each team so that flows are feasible into each of the parts of each process. Some of the processes might need the water to be split more ways than others so using conservation of mass will be key in this task. "
   ]
  },
  {
   "cell_type": "markdown",
   "metadata": {
    "colab_type": "text",
    "id": "WoGtXtBGQZr5"
   },
   "source": [
    "# Executive Summary \n",
    "\n",
    "Highlight dominant constraints and your recommendation for the design.\n"
   ]
  },
  {
   "cell_type": "markdown",
   "metadata": {
    "colab_type": "text",
    "id": "Jonv4dYSQghA"
   },
   "source": [
    "# Constraints\n",
    "\n",
    "* Relevant regulations\n",
    "    * [California Drinking Water Standards](https://www.waterboards.ca.gov/drinking_water/certlic/drinkingwater/Lawbook.html)\n",
    "    * 10 State Standards\n",
    "    * [2012 Recommendations](https://www.health.state.mn.us/communities/environment/water/docs/tenstates/waterrev2012.pdf)\n",
    "* client expectations\n",
    "    * Being able to treat a wide range of flow rates\n",
    "    * Take a train offline without disrupting the plant\n",
    "    * Having a redundant treatment train\n",
    "* site and budget\n",
    "    * With such a wide range of flow rates, how can there be an adequate amount of flow splits while also not making the plant too large and expensive\n",
    "    * Can we have all of the treatment trains needed in the site limits?\n",
    "* process capabilities including process design equations\n",
    "    * Fluid Mechanics\n",
    "    * Looking at channel dimensions so that there is adequate flow to all the treatment trains and sedimentation tanks\n",
    "    * What will the channels look like? This will greatly depend on what other teams decide\n",
    "* ease of use \n",
    "    * Channels and pipes that can take the various flow rates to be experienced\n",
    "    * Operators will need to worry about:\n",
    "        * Opening/closing treatment trains\n",
    "        * Changing chemical dosages\n",
    "    * Budget vs Ease of Use\n",
    "* operation requirements\n",
    "    * What amount of skills will be req to operate?\n",
    "        * What do operators need to know and calculate?\n",
    "        * How will they know when to open/close treatment trains?\n",
    "        * How much will be automated?\n",
    "* maintainence requirements\n",
    "    * Life-time of valves\n",
    "\n",
    "# Physics\n",
    "\n",
    "* Calculate the inflow in each section\n",
    "    * Mass of conservation\n",
    "    * Head loss function \n",
    "* Backflow calculation\n",
    "* Split flow progress \n",
    "* Open channel Flow equations: Manning's Equation\n",
    "* Pipe flow equations\n",
    "\n",
    "$$ Q = (1/n)*KA R^{2/3} S^{1/2) $$\n",
    "\n",
    "\n",
    "# Table listing potential strategies to meet the constraints and treatment objectives\n",
    "\n",
    "Please remove my two rows of examples!\n",
    "\n",
    "| strategy | advantages  | disadvantages | data needed for decision |\n",
    "|---|---|---|---|\n",
    "| Reading relevant regulations | Knowing what will need to be done for the design | Time consuming | all relevant local, state, and federal regulations |\n",
    "|Clear communications with client|No mysteries between us and the client|Time consuming, Client may not want to hear about what **can't** be done|Correspondence method with clients|\n",
    "| Constant Communication with other teams | Will know important info as it becomes available |Will have to rely on other teams for information | N/a |\n",
    "| Including lifetime of valves when looking at treatment trains | Holistic view of cost of treatment | Time needed for vendor locating, may not be necessary | vendors of valves |\n"
   ]
  },
  {
   "cell_type": "markdown",
   "metadata": {
    "colab_type": "text",
    "id": "J9dPZVMbOka9"
   },
   "source": [
    "# Vendors and contact information file\n",
    "\n",
    "See this [tab delimited spreadsheet](https://raw.githubusercontent.com/monroews/4590FSP/master/vendors.txt).\n",
    "\n",
    "Add rows to the vendor spreadsheet as you find them. The sheet can easily be edited in Excel. Just make sure to save it as a tab delimited sheet. Push your changes to github so the entire class has access to the document.\n",
    "\n"
   ]
  },
  {
   "cell_type": "code",
   "execution_count": 0,
   "metadata": {
    "colab": {
     "base_uri": "https://localhost:8080/",
     "height": 80
    },
    "colab_type": "code",
    "executionInfo": {
     "elapsed": 15001,
     "status": "ok",
     "timestamp": 1585840299061,
     "user": {
      "displayName": "Monroe Weber-Shirk",
      "photoUrl": "https://lh3.googleusercontent.com/a-/AOh14GhiyXo1Qg5VXy1DQuWFQH2sfql2blbIcZrp2jsd8MY=s64",
      "userId": "08369668289863895493"
     },
     "user_tz": 240
    },
    "id": "l35d0BODlEsW",
    "outputId": "bf91c26d-7a87-4ede-d5a6-691a4a93f487"
   },
   "outputs": [
    {
     "data": {
      "text/html": [
       "<div>\n",
       "<style scoped>\n",
       "    .dataframe tbody tr th:only-of-type {\n",
       "        vertical-align: middle;\n",
       "    }\n",
       "\n",
       "    .dataframe tbody tr th {\n",
       "        vertical-align: top;\n",
       "    }\n",
       "\n",
       "    .dataframe thead th {\n",
       "        text-align: right;\n",
       "    }\n",
       "</style>\n",
       "<table border=\"1\" class=\"dataframe\">\n",
       "  <thead>\n",
       "    <tr style=\"text-align: right;\">\n",
       "      <th></th>\n",
       "      <th>item description</th>\n",
       "      <th>vendor</th>\n",
       "      <th>contact first name</th>\n",
       "      <th>contact last name</th>\n",
       "      <th>vendor website</th>\n",
       "      <th>product info</th>\n",
       "      <th>date of contact</th>\n",
       "      <th>who made the contact</th>\n",
       "      <th>notes</th>\n",
       "    </tr>\n",
       "  </thead>\n",
       "  <tbody>\n",
       "    <tr>\n",
       "      <th>0</th>\n",
       "      <td>plate settlers</td>\n",
       "      <td>MRI</td>\n",
       "      <td>still</td>\n",
       "      <td>pending</td>\n",
       "      <td>http://www.meurerresearch.com/</td>\n",
       "      <td>http://www.meurerresearch.com/literaturemedia/...</td>\n",
       "      <td>4/4/2020</td>\n",
       "      <td>no one</td>\n",
       "      <td>nan</td>\n",
       "    </tr>\n",
       "  </tbody>\n",
       "</table>\n",
       "</div>"
      ],
      "text/plain": [
       "  item description vendor  ... who made the contact notes\n",
       "0   plate settlers    MRI  ...               no one   nan\n",
       "\n",
       "[1 rows x 9 columns]"
      ]
     },
     "execution_count": 3,
     "metadata": {
      "tags": []
     },
     "output_type": "execute_result"
    }
   ],
   "source": [
    "vendors = pd.read_csv('https://raw.githubusercontent.com/monroews/4590FSP/master/vendors.txt',sep='\\t')\n",
    "vendors.head()"
   ]
  },
  {
   "cell_type": "markdown",
   "metadata": {
    "colab_type": "text",
    "id": "-jwNKdrCOmux"
   },
   "source": [
    "# Shared assumptions\n",
    "\n",
    "See this [python file, Fairmont.py](https://github.com/monroews/4590FSP/blob/master/Fairmont.py)\n",
    "\n",
    "Use this file to hold parameters that are in the SOW or elsewhere that\n",
    "influence the design of the entire plant. This provides an easy mechanism\n",
    "for all of us to share the same assumptions. Read the SOW to find sections that relate to your part of the design and enter all pertinent variables into [Fairmont.py](https://github.com/monroews/4590FSP/blob/master/Fairmont.py) and then push those changes to github.\n",
    "\n",
    "# Major Decisions\n",
    "\n",
    "Write several paragraphs describing the major decisions that you will need to make in order to create a design and outline a strategy for how you will obtain the necessary information to make those decisions.\n",
    "\n",
    "# Next Steps and Challenges\n",
    "\n",
    "Summarize the next steps that you will be taking to move the design forward. Identify any challenges where you may need assistance."
   ]
  },
  {
   "cell_type": "markdown",
   "metadata": {
    "colab_type": "text",
    "id": "DXlB_I6ZOw2J"
   },
   "source": [
    "# Design\n",
    "\n",
    "Begin writing the code to start your design. Define flow rates, mass rates, energy requirements, and any readily calculated dimensions, velocities, flows, etc."
   ]
  },
  {
   "cell_type": "code",
   "execution_count": 0,
   "metadata": {
    "colab": {
     "base_uri": "https://localhost:8080/",
     "height": 68
    },
    "colab_type": "code",
    "executionInfo": {
     "elapsed": 14991,
     "status": "ok",
     "timestamp": 1585840299065,
     "user": {
      "displayName": "Monroe Weber-Shirk",
      "photoUrl": "https://lh3.googleusercontent.com/a-/AOh14GhiyXo1Qg5VXy1DQuWFQH2sfql2blbIcZrp2jsd8MY=s64",
      "userId": "08369668289863895493"
     },
     "user_tz": 240
    },
    "id": "IrwTrVM2hZqH",
    "outputId": "c4f6e2ce-8409-4d75-8429-9680a00cc532"
   },
   "outputs": [
    {
     "name": "stdout",
     "output_type": "stream",
     "text": [
      "The average flow to be treated at Fairmont is 206.8 megagallon / day or\n",
      "The maximum flow to be treated at Fairmont is 465.3 megagallon / day\n",
      "The average amount of energy used per liter of water is expected to be 118.1 joule / liter or 12.05 meter of potential energy\n"
     ]
    }
   ],
   "source": [
    "print('The average flow to be treated at Fairmont is',fmt.q_ave.to(u.Mgal/u.day),'or')\n",
    "print('The maximum flow to be treated at Fairmont is',fmt.q_max.to(u.Mgal/u.day))\n",
    "specific_energy = (fmt.electricity_power/fmt.q_ave).to(u.J/u.L)\n",
    "temp = 15 * u.degC\n",
    "specific_potential_energy = (specific_energy / u.gravity / ac.density_water(temp)).to(u.m)\n",
    "print('The average amount of energy used per liter of water is expected to be',specific_energy,'or',specific_potential_energy,'of potential energy')"
   ]
  }
 ],
 "metadata": {
  "colab": {
   "collapsed_sections": [],
   "name": "Hydraulics.ipynb",
   "provenance": []
  },
  "kernelspec": {
   "display_name": "Python 3",
   "language": "python",
   "name": "python3"
  },
  "language_info": {
   "codemirror_mode": {
    "name": "ipython",
    "version": 3
   },
   "file_extension": ".py",
   "mimetype": "text/x-python",
   "name": "python",
   "nbconvert_exporter": "python",
   "pygments_lexer": "ipython3",
   "version": "3.6.3"
  }
 },
 "nbformat": 4,
 "nbformat_minor": 1
}
