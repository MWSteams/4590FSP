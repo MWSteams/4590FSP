{
  "nbformat": 4,
  "nbformat_minor": 0,
  "metadata": {
    "colab": {
      "name": "Rapid_Mix_Flocculation_Mechanical.ipynb",
      "provenance": [],
      "collapsed_sections": [],
      "include_colab_link": true
    },
    "kernelspec": {
      "name": "python3",
      "display_name": "Python 3"
    }
  },
  "cells": [
    {
      "cell_type": "markdown",
      "metadata": {
        "id": "view-in-github",
        "colab_type": "text"
      },
      "source": [
        "<a href=\"https://colab.research.google.com/github/MWSteams/4590FSP/blob/master/Rapid_Mix_Flocculation_Mechanical.ipynb\" target=\"_parent\"><img src=\"https://colab.research.google.com/assets/colab-badge.svg\" alt=\"Open In Colab\"/></a>"
      ]
    },
    {
      "cell_type": "markdown",
      "metadata": {
        "id": "lZNgRSu1Uj8D",
        "colab_type": "text"
      },
      "source": [
        "# Rapid-Mix and Flocculation Mechanical\n",
        "\n",
        "Authors: Ariel Ben-Sorek, Lynn Li, and Allison Tran\n",
        "\n",
        "[/Monroe/]: # (See my email for general comments.)"
      ]
    },
    {
      "cell_type": "code",
      "metadata": {
        "id": "QjwM4ovYUokZ",
        "colab_type": "code",
        "outputId": "4f056b95-1d5c-4aef-da9c-5131bc2a0811",
        "colab": {
          "base_uri": "https://localhost:8080/",
          "height": 265
        }
      },
      "source": [
        "!pip install aguaclara\n",
        "!pip install molmass"
      ],
      "execution_count": 43,
      "outputs": [
        {
          "output_type": "stream",
          "text": [
            "Requirement already satisfied: aguaclara in /usr/local/lib/python3.6/dist-packages (0.2.1)\n",
            "Requirement already satisfied: matplotlib in /usr/local/lib/python3.6/dist-packages (from aguaclara) (3.2.1)\n",
            "Requirement already satisfied: pandas in /usr/local/lib/python3.6/dist-packages (from aguaclara) (1.0.3)\n",
            "Requirement already satisfied: pint==0.8.1 in /usr/local/lib/python3.6/dist-packages (from aguaclara) (0.8.1)\n",
            "Requirement already satisfied: urllib3 in /usr/local/lib/python3.6/dist-packages (from aguaclara) (1.24.3)\n",
            "Requirement already satisfied: scipy in /usr/local/lib/python3.6/dist-packages (from aguaclara) (1.4.1)\n",
            "Requirement already satisfied: cycler>=0.10 in /usr/local/lib/python3.6/dist-packages (from matplotlib->aguaclara) (0.10.0)\n",
            "Requirement already satisfied: numpy>=1.11 in /usr/local/lib/python3.6/dist-packages (from matplotlib->aguaclara) (1.18.4)\n",
            "Requirement already satisfied: python-dateutil>=2.1 in /usr/local/lib/python3.6/dist-packages (from matplotlib->aguaclara) (2.8.1)\n",
            "Requirement already satisfied: kiwisolver>=1.0.1 in /usr/local/lib/python3.6/dist-packages (from matplotlib->aguaclara) (1.2.0)\n",
            "Requirement already satisfied: pyparsing!=2.0.4,!=2.1.2,!=2.1.6,>=2.0.1 in /usr/local/lib/python3.6/dist-packages (from matplotlib->aguaclara) (2.4.7)\n",
            "Requirement already satisfied: pytz>=2017.2 in /usr/local/lib/python3.6/dist-packages (from pandas->aguaclara) (2018.9)\n",
            "Requirement already satisfied: six in /usr/local/lib/python3.6/dist-packages (from cycler>=0.10->matplotlib->aguaclara) (1.12.0)\n",
            "Requirement already satisfied: molmass in /usr/local/lib/python3.6/dist-packages (2020.1.1)\n"
          ],
          "name": "stdout"
        }
      ]
    },
    {
      "cell_type": "code",
      "metadata": {
        "id": "ttJT8q_wYhAV",
        "colab_type": "code",
        "outputId": "949ee0bd-2b72-4d6a-d696-82ae4eed287b",
        "colab": {
          "base_uri": "https://localhost:8080/",
          "height": 212
        }
      },
      "source": [
        "from aguaclara.core.units import unit_registry as u\n",
        "import aguaclara as ac\n",
        "import matplotlib.pyplot as plt\n",
        "import numpy as np\n",
        "import pandas as pd\n",
        "import molmass as mol\n",
        "!wget https://raw.githubusercontent.com/MWSteams/4590FSP/master/Fairmont.py\n",
        "import Fairmont as fmt\n",
        "import math"
      ],
      "execution_count": 44,
      "outputs": [
        {
          "output_type": "stream",
          "text": [
            "--2020-05-18 18:26:56--  https://raw.githubusercontent.com/MWSteams/4590FSP/master/Fairmont.py\n",
            "Resolving raw.githubusercontent.com (raw.githubusercontent.com)... 151.101.0.133, 151.101.64.133, 151.101.128.133, ...\n",
            "Connecting to raw.githubusercontent.com (raw.githubusercontent.com)|151.101.0.133|:443... connected.\n",
            "HTTP request sent, awaiting response... 200 OK\n",
            "Length: 3057 (3.0K) [text/plain]\n",
            "Saving to: ‘Fairmont.py.5’\n",
            "\n",
            "Fairmont.py.5       100%[===================>]   2.99K  --.-KB/s    in 0s      \n",
            "\n",
            "2020-05-18 18:26:57 (47.7 MB/s) - ‘Fairmont.py.5’ saved [3057/3057]\n",
            "\n"
          ],
          "name": "stdout"
        }
      ]
    },
    {
      "cell_type": "markdown",
      "metadata": {
        "id": "2SQpUtXCR5Xz",
        "colab_type": "text"
      },
      "source": [
        "# Task Definition\n",
        "\n",
        "Our task was to evaluate both processes of mechanical rapid mix and mechanical flocculation, in order to determine the most effective methods for distributing coagulant for mixing and floc formation for the Fairmont Sedimentation Plant. In a standard water treatment train, rapid mix occurs between coagulant addition and flocculation, and provides an enhanced method of distributing coagulant evenly through the water. Flocculation is a method to coagulate contaminant particles together for easy removal through sedimentation or filtration, and is an instrumental part of the water treatment train. Our goal is to optimize both treatment processes at the Fairmont Sedimentation Plant through modifying parameters such as tank volume, residence time, and flocculator blades, to maximize the amount of contaminant removed through flocculation against maintenance and operation costs."
      ]
    },
    {
      "cell_type": "markdown",
      "metadata": {
        "id": "WoGtXtBGQZr5",
        "colab_type": "text"
      },
      "source": [
        "# Executive Summary \n",
        "\n",
        "Regarding both rapid-mix and flocculation, we will be using energy dissipation rates and velocity gradients as the main constraints to figure out how effectively coagulant is being distributed in our system via mechanical mixing, as well how effectively the coagulant is working to form flocs.\n",
        "\n",
        "Focusing more specifically on design,  we recommend a pump diffusor as our mechanical rapid-mix mechanism. For mechanical flocculation, we will be using rotating blade flocculators. We have not yet determined whether or not we want to implement horizontal or vertical blade flocculators. Regardless of the orientation of the blades, we recommend using three flocculation units as well as an additional unit for redundancy. Each flocculation unit will be further divided into three flocculation chambers, which will each operate using a unique velocity gradient in order to create a tapered velocity gradient profile. A high-to-low velocity gradient in subsequent flocculation compartments will create dense flocs, as well as reduce the total retention time for all three units. This velocity gradient will be determined by the turbidity of the flow, as well as chosen to minimize energy and operation costs.\n",
        "\n",
        "From the scope of work (SOW) of the Fairmont Sedimentation Plant, the influent turbidity is 23 NTU with a final turbidity goal of 3 NTU. Due to the classification of the incoming and outgoing turbidity of the water, the tapered velocity gradient profile would be 180/s, 70/s, and 20/s for each flocculation compartment of each unit, in order. This would mean a total operating cost of $978.60 per day for all three flocculation units, given the incoming plant flow. \n",
        "\n",
        "The SOW for the Fairmont Sedimentation Plant shows an available space of 200ft by 125ft for the flocculator. We are assuming that the width of the flocculator will occupy as much of the square footage as possible, leaving about 25m as a buffer space. We are also assuming a tank depth of 4m, modeled after the Aguaclara mechanical flocculators. This means that the length of each compartment of the flocculator would be 22.3 meters, and the width of each flocculator compartment would be 10.16 meters. Using these values, the diameter of the impeller of the flocculator would be 6.803 meters and the speed of the impellers would be 6.738 revolutions per minute.\n",
        "\n",
        "[/Monroe/]: # (Mixing coagulant uniformly with the raw water before splitting the flow into multiple treatment trains might be one of the goals of rapid mix in this plant. I suspect that your design will not be influenced in any way by knowing the contaminant that controls the coagulant dosage because we don't have a physics-based model for the design of the rapid mix. See https://aguaclara.github.io/Textbook/Rapid_Mix/RM_Derivations.html#turbulent-large-scale-eddies for mixing length estimates. Note that you would want to include a safety factor on these equations.)\n"
      ]
    },
    {
      "cell_type": "markdown",
      "metadata": {
        "id": "Jonv4dYSQghA",
        "colab_type": "text"
      },
      "source": [
        "# Constraints\n",
        "\n",
        "* Relevant Regulations\n",
        "\n",
        "\n",
        "* Client Expectations\n",
        "    * Redundancy plan (at least one backup unit for both rapid mix and floccculation)\n",
        "\n",
        "\n",
        "* Site and Budget\n",
        "    * Mechcanical mechanisms require a power input which then adds to operation costs\n",
        "    * Rapid mix mechanical is one of the most energy intensive units in treatment train\n",
        "    * 200ft*125ft is the proposed rapid mix and flocculation on the plant diagram in the SOW\n",
        "    \n",
        "\n",
        "* Process Capabilities Including Process Design Equations\n",
        "    * Residence time will determine the required volume of rapid-mix\n",
        "\n",
        "\n",
        "* Ease of Use\n",
        "    * Static mixers are simple and reliable but they are prone to clogging (MWH)\n",
        "\n",
        "\n",
        "* Operation Requirements\n",
        "    * If there are multiple treatment trains, parallel treatment trains must receive the same concentration of coagulant; coagulant must be mixed equally if rapid mix units are before flow splitting\n",
        "    * Type of coagulant used/dosage\n",
        "    * The optimal pH for aluminum coagulant nanoparticle formation is between pH of 6.5 and 8.5. Adding coagulant usually reduces pH so somtimes it is necessary to add a base to increase the pH of the raw water\n",
        "    * pH in the 4.4 to 6 range is optimal for flocculation\n",
        "    * High temperature accelerates the flocculation process (flocculation may be slower in the winter and therefore operators may need to allow for more time when the temp is colder)\n",
        "\n",
        "\n",
        "* Maintenance Requirements\n",
        "    * Needs to be easy to clean\n",
        "    * Parts that can be easily bought and replaced\n",
        "    * Vertical shaft rotating blades don't require underwater bearings where as horizonal shaft rotating blades do\n",
        "\n",
        "\n",
        "[/Monroe/]: # (Quote from Benjamin and Lawler [https://newcatalog.library.cornell.edu/catalog/8516026] page 546: \"While much research remains to be done on the interactions of chemicals, paricles, and mixing, the emerging picture at this point is tha ta high degree of turbulence leads to more efficient chemical use for destabilization by adsorption and charge neutralization, whereas destabilization by precipitation is less sensitive to the mixing conditions.\" My understanding is that drinking water treatment plants use destabilization by precipitation; the only mechanism that we have been able to replicate in our labs here at Cornell. We now recognize that it isn't destabilization, but rather is simply that the coagulant nanoparticles are sticky.)"
      ]
    },
    {
      "cell_type": "markdown",
      "metadata": {
        "id": "ThTr6ag8a0FN",
        "colab_type": "text"
      },
      "source": [
        "\n",
        "# Physics\n",
        "\n",
        "$$G=\\frac{\\Delta v}{\\Delta h}$$\n",
        "\n",
        "where $G$ is the velocity gradient, $\\Delta v$ is the difference in velocity between two points on two different streamlines and $\\Delta h$ is the distance between the streamlines.\n",
        "\n",
        "G is a measure of how quickly one point of water along one streamline moves in comparison to another point on a different streamline.\n",
        "\n",
        "$$\\varepsilon = G^2 \\nu$$ \n",
        "\n",
        "where $\\epsilon$ is the energy dissipation rate, $G$ is the velocity gradient, and $\\nu$ is the kinematic viscosity of water.\n",
        "\n",
        "It is hypotheiszed that it's ultimately velocity gradients that transport coagulant nanoparticles to the surface of particles.\n",
        "\n",
        "$$P = \\rho \\bar G^2 \\nu Q \\theta$$ \n",
        "\n",
        "where $P$ is power input required, $\\rho$ is density of water, $Q$ is the flow rate, and $\\theta$ is the hydraulic residence time.\n",
        "\n",
        "This equation can be used to estimate electrical motor sizing requirements for mechanical rapid mix units.\n",
        "\n",
        "$$\\lambda_\\nu = \\Pi_{K\\nu}\\left( \\frac{\\nu^3}{\\varepsilon} \\right)^{\\frac{1}{4}}$$\n",
        "\n",
        "where $\\lambda_\\nu$ is the inner viscous length scale, $\\Pi_{K\\nu}=5-$, $\\nu$ is the kinematic viscosity of water, and $\\epsilon$ is the energy dissipation rate.\n",
        "\n",
        "\"At length scales larger than the inner viscous length scale the dominant transport mechanism is by turbulent eddies. At length scales smaller than the inner viscous length scale the dominant transport mechanism is fluid deformation due to shear.\" (AguaClara) This equations strongly suggests that the coagulant nanoparticles are not transported to the clay surfaces in the short amount of time spent in the rapid mix.\n",
        "\n",
        "[/Monroe/]: # (The previous equation needs to be combined with an estimate of the diffusion length scale for the coagulant nanoparticles. In any case that equation strongly suggests that the coagulant nanoparticles are not transported to the clay surfaces in the short amount of time spent in the rapid mix.)\n",
        "[/Lynn/]: # (Added)\n",
        "\n",
        "[/Monroe/]: # (Another equation is the eddy turnover time\n",
        "https://aguaclara.github.io/Textbook/Rapid_Mix/RM_Derivations.html#equation-rapid-mix-rm-derivations-38)\n",
        "[/Ariel/]: # (Added)\n",
        "\n",
        "We can calculate the volume of water being mixed by assuming the length of the mixing zone is $L=1.5D$, where D is the diameter of the pipe. According to the SOW, the diameter is 87 inches, or 2.2098 meters.\n",
        "Thus, mixing time $t=\\frac{V}{L}$\n",
        "\n"
      ]
    },
    {
      "cell_type": "markdown",
      "metadata": {
        "id": "HsnX16jYa3Ow",
        "colab_type": "text"
      },
      "source": [
        "# Table Listing Potential Strategies to Meet the Constraints and Treatment Objectives\n",
        "\n",
        "| strategies | advantages | disadvantages | data needed for decision |\n",
        "| ---------- | ---------- | ---------- | ---------- |\n",
        "| Reducing energy used to power mechanical mixers | Lower cost, lower electricity usage | Less power to mixers affects energy dissipation, velocity, residence time, and more | Power usage typical for mechanical rapid mix |\n",
        "| Modifying coagulant dosage to ensure removal of arsenic | Meet water treatment plant standards for arsenic removal | Rapid mix can be expensive (coagulant and electricity to power mixers) | Coagulant dosage needed to remove certain concentration of arsenic, cost of powering rapid mixers\n",
        "| Modifying coagulant dosage to ensure even distribution | Increased coagulant will remove more contaminant (arsenic) | Increased coagulant will be more expensive | Type of coagulant used, velocity gradient, ideal dosage, residence time of mixer |\n",
        "|Horizontal Rotating Blades| More simple compartmentalization, different tapered G values are produced for one particular drive shaft rotational speed| Requires underwater bearings| Flocculation performance|\n",
        "|Vertical Rotating Blades| Do not require underwater bearings| A much wider diversity of G values within the flocculation basin for a given mean velocity gradient| Flocculation performance|\n",
        "|Flocculator tank size|Larger tanks result in a longer residence time for flocs|Possible increase in maintenance/operation costs for larger tanks| Flocculation performance using tanks of various sizes|"
      ]
    },
    {
      "cell_type": "markdown",
      "metadata": {
        "id": "J9dPZVMbOka9",
        "colab_type": "text"
      },
      "source": [
        "# Vendors and Contact Information File\n",
        "\n",
        "[/Monroe/]: # (Excellent work finding some suppliers)"
      ]
    },
    {
      "cell_type": "code",
      "metadata": {
        "id": "l35d0BODlEsW",
        "colab_type": "code",
        "outputId": "33239470-49a3-46e3-b8a0-bb5a744fca09",
        "colab": {
          "base_uri": "https://localhost:8080/",
          "height": 797
        }
      },
      "source": [
        "vendors = pd.read_csv('https://raw.githubusercontent.com/MWSteams/4590FSP/master/vendors.txt',sep='\\t')\n",
        "vendors"
      ],
      "execution_count": 45,
      "outputs": [
        {
          "output_type": "execute_result",
          "data": {
            "text/html": [
              "<div>\n",
              "<style scoped>\n",
              "    .dataframe tbody tr th:only-of-type {\n",
              "        vertical-align: middle;\n",
              "    }\n",
              "\n",
              "    .dataframe tbody tr th {\n",
              "        vertical-align: top;\n",
              "    }\n",
              "\n",
              "    .dataframe thead th {\n",
              "        text-align: right;\n",
              "    }\n",
              "</style>\n",
              "<table border=\"1\" class=\"dataframe\">\n",
              "  <thead>\n",
              "    <tr style=\"text-align: right;\">\n",
              "      <th></th>\n",
              "      <th>item description</th>\n",
              "      <th>vendor</th>\n",
              "      <th>contact first name</th>\n",
              "      <th>contact last name</th>\n",
              "      <th>vendor website</th>\n",
              "      <th>product info</th>\n",
              "      <th>date of contact</th>\n",
              "      <th>who made the contact</th>\n",
              "      <th>notes</th>\n",
              "    </tr>\n",
              "  </thead>\n",
              "  <tbody>\n",
              "    <tr>\n",
              "      <th>0</th>\n",
              "      <td>plate settlers</td>\n",
              "      <td>MRI</td>\n",
              "      <td>still</td>\n",
              "      <td>pending</td>\n",
              "      <td>http://www.meurerresearch.com/</td>\n",
              "      <td>http://www.meurerresearch.com/literaturemedia/...</td>\n",
              "      <td>4/16/2020</td>\n",
              "      <td>Ian Cullings</td>\n",
              "      <td>NaN</td>\n",
              "    </tr>\n",
              "    <tr>\n",
              "      <th>1</th>\n",
              "      <td>sludge removal system</td>\n",
              "      <td>MRI</td>\n",
              "      <td>still</td>\n",
              "      <td>pending</td>\n",
              "      <td>http://www.meurerresearch.com/</td>\n",
              "      <td>http://www.meurerresearch.com/products/hoseles...</td>\n",
              "      <td>4/16/2020</td>\n",
              "      <td>Ian Cullings</td>\n",
              "      <td>NaN</td>\n",
              "    </tr>\n",
              "    <tr>\n",
              "      <th>2</th>\n",
              "      <td>plate settlers</td>\n",
              "      <td>Monore Environmental</td>\n",
              "      <td>still</td>\n",
              "      <td>pending</td>\n",
              "      <td>https://www.monroeenvironmental.com/</td>\n",
              "      <td>https://www.monroeenvironmental.com/water-and-...</td>\n",
              "      <td>4/16/2020</td>\n",
              "      <td>Ian Cullings</td>\n",
              "      <td>NaN</td>\n",
              "    </tr>\n",
              "    <tr>\n",
              "      <th>3</th>\n",
              "      <td>sludge removal system</td>\n",
              "      <td>Monore Environmental</td>\n",
              "      <td>still</td>\n",
              "      <td>pending</td>\n",
              "      <td>https://www.monroeenvironmental.com/</td>\n",
              "      <td>http://www.monroeenvironmental.com/water-and-w...</td>\n",
              "      <td>4/16/2020</td>\n",
              "      <td>Ian Cullings</td>\n",
              "      <td>NaN</td>\n",
              "    </tr>\n",
              "    <tr>\n",
              "      <th>4</th>\n",
              "      <td>plate settler with hopper</td>\n",
              "      <td>Parkson</td>\n",
              "      <td>still</td>\n",
              "      <td>pending</td>\n",
              "      <td>https://www.parkson.com/</td>\n",
              "      <td>https://www.parkson.com/products/lamella-ecoflow</td>\n",
              "      <td>4/16/2020</td>\n",
              "      <td>Ian Cullings</td>\n",
              "      <td>Includes sloped sludge hopper in design</td>\n",
              "    </tr>\n",
              "    <tr>\n",
              "      <th>5</th>\n",
              "      <td>rapid mixer (mech)</td>\n",
              "      <td>Dynamix</td>\n",
              "      <td>still</td>\n",
              "      <td>pending</td>\n",
              "      <td>https://www.dynamixinc.com</td>\n",
              "      <td>https://www.dynamixinc.com/industries/waste-wa...</td>\n",
              "      <td>4/16/2020</td>\n",
              "      <td>Lynn Li</td>\n",
              "      <td>NaN</td>\n",
              "    </tr>\n",
              "    <tr>\n",
              "      <th>6</th>\n",
              "      <td>rapid mixer (mech)</td>\n",
              "      <td>Meurer Research</td>\n",
              "      <td>still</td>\n",
              "      <td>pending</td>\n",
              "      <td>http://www.meurerresearch.com</td>\n",
              "      <td>http://www.meurerresearch.com/products/mixer/</td>\n",
              "      <td>4/16/2020</td>\n",
              "      <td>Lynn Li</td>\n",
              "      <td>NaN</td>\n",
              "    </tr>\n",
              "    <tr>\n",
              "      <th>7</th>\n",
              "      <td>rapid mixer (mech)</td>\n",
              "      <td>Philadelphia Mixing Solutions</td>\n",
              "      <td>still</td>\n",
              "      <td>pending</td>\n",
              "      <td>https://www.philamixers.com</td>\n",
              "      <td>https://www.philamixers.com/industries/water-w...</td>\n",
              "      <td>4/16/20</td>\n",
              "      <td>Lynn Li</td>\n",
              "      <td>NaN</td>\n",
              "    </tr>\n",
              "    <tr>\n",
              "      <th>8</th>\n",
              "      <td>flocculator (mech)</td>\n",
              "      <td>Sereco</td>\n",
              "      <td>still</td>\n",
              "      <td>pending</td>\n",
              "      <td>http://www.sereco.it/</td>\n",
              "      <td>https://www.directindustry.com/prod/sereco/pro...</td>\n",
              "      <td>05/04/2020</td>\n",
              "      <td>Lynn Li</td>\n",
              "      <td>NaN</td>\n",
              "    </tr>\n",
              "    <tr>\n",
              "      <th>9</th>\n",
              "      <td>decanter centrifuge (resid)  GN Solids Control...</td>\n",
              "      <td>NaN</td>\n",
              "      <td>NaN</td>\n",
              "      <td>NaN</td>\n",
              "      <td>NaN</td>\n",
              "      <td>NaN</td>\n",
              "      <td>NaN</td>\n",
              "      <td>NaN</td>\n",
              "      <td>NaN</td>\n",
              "    </tr>\n",
              "    <tr>\n",
              "      <th>10</th>\n",
              "      <td>decanter centrifuge (resid)     ANDRITZ Group ...</td>\n",
              "      <td>NaN</td>\n",
              "      <td>NaN</td>\n",
              "      <td>NaN</td>\n",
              "      <td>NaN</td>\n",
              "      <td>NaN</td>\n",
              "      <td>NaN</td>\n",
              "      <td>NaN</td>\n",
              "      <td>NaN</td>\n",
              "    </tr>\n",
              "    <tr>\n",
              "      <th>11</th>\n",
              "      <td>pump calibration column McMaster Carr n/a n/a ...</td>\n",
              "      <td>NaN</td>\n",
              "      <td>NaN</td>\n",
              "      <td>NaN</td>\n",
              "      <td>NaN</td>\n",
              "      <td>NaN</td>\n",
              "      <td>NaN</td>\n",
              "      <td>NaN</td>\n",
              "      <td>NaN</td>\n",
              "    </tr>\n",
              "    <tr>\n",
              "      <th>12</th>\n",
              "      <td>eye wash stations McMaster Carr n/a n/a https:...</td>\n",
              "      <td>NaN</td>\n",
              "      <td>NaN</td>\n",
              "      <td>NaN</td>\n",
              "      <td>NaN</td>\n",
              "      <td>NaN</td>\n",
              "      <td>NaN</td>\n",
              "      <td>NaN</td>\n",
              "      <td>NaN</td>\n",
              "    </tr>\n",
              "    <tr>\n",
              "      <th>13</th>\n",
              "      <td>safety showers with eye wash stations McMaster...</td>\n",
              "      <td>NaN</td>\n",
              "      <td>NaN</td>\n",
              "      <td>NaN</td>\n",
              "      <td>NaN</td>\n",
              "      <td>NaN</td>\n",
              "      <td>NaN</td>\n",
              "      <td>NaN</td>\n",
              "      <td>NaN</td>\n",
              "    </tr>\n",
              "    <tr>\n",
              "      <th>14</th>\n",
              "      <td>40% FeCl3 solution  Brenntag  n/a n/a https://...</td>\n",
              "      <td>NaN</td>\n",
              "      <td>NaN</td>\n",
              "      <td>NaN</td>\n",
              "      <td>NaN</td>\n",
              "      <td>NaN</td>\n",
              "      <td>NaN</td>\n",
              "      <td>NaN</td>\n",
              "      <td>NaN</td>\n",
              "    </tr>\n",
              "  </tbody>\n",
              "</table>\n",
              "</div>"
            ],
            "text/plain": [
              "                                     item description  ...                                    notes\n",
              "0                                      plate settlers  ...                                      NaN\n",
              "1                               sludge removal system  ...                                      NaN\n",
              "2                                      plate settlers  ...                                      NaN\n",
              "3                               sludge removal system  ...                                      NaN\n",
              "4                           plate settler with hopper  ...  Includes sloped sludge hopper in design\n",
              "5                                  rapid mixer (mech)  ...                                      NaN\n",
              "6                                  rapid mixer (mech)  ...                                      NaN\n",
              "7                                  rapid mixer (mech)  ...                                      NaN\n",
              "8                                  flocculator (mech)  ...                                      NaN\n",
              "9   decanter centrifuge (resid)  GN Solids Control...  ...                                      NaN\n",
              "10  decanter centrifuge (resid)     ANDRITZ Group ...  ...                                      NaN\n",
              "11  pump calibration column McMaster Carr n/a n/a ...  ...                                      NaN\n",
              "12  eye wash stations McMaster Carr n/a n/a https:...  ...                                      NaN\n",
              "13  safety showers with eye wash stations McMaster...  ...                                      NaN\n",
              "14  40% FeCl3 solution  Brenntag  n/a n/a https://...  ...                                      NaN\n",
              "\n",
              "[15 rows x 9 columns]"
            ]
          },
          "metadata": {
            "tags": []
          },
          "execution_count": 45
        }
      ]
    },
    {
      "cell_type": "markdown",
      "metadata": {
        "id": "-jwNKdrCOmux",
        "colab_type": "text"
      },
      "source": [
        "# Shared Assumptions\n",
        "\n",
        "See this [python file, Fairmont.py](https://github.com/monroews/4590FSP/blob/master/Fairmont.py)"
      ]
    },
    {
      "cell_type": "markdown",
      "metadata": {
        "id": "2d_HqzBWfj4k",
        "colab_type": "text"
      },
      "source": [
        "We are creating our model for flocculation on the assumption that the main constituents for removal by flocculation are arsenic and dissolved organic matter. Rapid mixing before flocculation will determine the degree of removal by flocs.\n",
        "\n",
        "[/Monroe/]: # (Rewrite this now that you recall that rapid mix doesn't remove anything.)\n",
        "\n",
        "[/Monroe/]: # (You can also create a range of rapid mix volumes, power requirements, and annual operating costs for standard designs for rapid mix units. Those preliminary designs are trivial and will help give insight for goal of reducing the energy footprint of this facility.)\n",
        "\n",
        "Preliminary assumptions we will be making involve associated costs, such as costs for powering the mixers and operation and maintenance costs for each treatment process. As we begin to develop the code for each process, we will decide on which variables we will be changing and which will be assumed to be fixed."
      ]
    },
    {
      "cell_type": "markdown",
      "metadata": {
        "id": "XStSmjO36duL",
        "colab_type": "text"
      },
      "source": [
        "# Major Decisions\n",
        "\n",
        "### Rapid-Mix\n",
        "\n",
        "1. First, we need to determine the number of treatment trains that would be adequate to handle the large flow of the Fairmont Sedimentation Plant. Unfortunately, there is no way to calculate this number exactly and therefore we will be using an estimation of 3 that was determined with the help of Monroe Weber-Shirk. This means that the flow through each individual rapid-mix mechancial unit will be 1/3 of the total plant flow.\n",
        "\n",
        "2. Next, we would hypothetically determine the residence time for the mechanical rapid-mix units. For a typical mechanical vertical-shaft mixer along with other various rapid-mix systems the residence time would be provided by its manufactuer. If not, it can be assumed to be around 1 minute based off of the literature that we have read (provided in the resources section) and consultation with Monroe Weber-Shirk. However, since we've decided on a pump diffusion system for our particular design, there is no need for a residence time.\n",
        "\n",
        "3. After the residence time has been determined, we then need to determine a G value. This G value will also have to be an estimate found from prior case studies as well as consultations from professional engineers. This G value will later go on to help us find the diameter of the conal jet.\n",
        "\n",
        "4. Once the jet size is determined, we will then use this value to find the energy/power required of the pump to produce this jet.\n",
        "\n",
        "5. Finally, we will use this power value to determine operation costs given typical LA industiral electricity prices. Additionally, we can use the power value to find a head value in order to better visualize how energy is being consumed by the entire rapid-mix mechanical process.\n",
        "\n",
        "### Flocculation\n",
        "\n",
        "1. Like rapid-mix mechancial, the first step of the design process would be to determine the number of treatment trains required to handle the flow of the Fairmont Sedimentation Plant. Again, we will be using an estimation of 3 that was also determined with the help of Monroe Weber-Shirk. To reiterate, this means that the flow through each individual rapid-mix mechancial unit will be 1/3 of the total plant flow.\n",
        "\n",
        "2. Next, we would determine the residence time for the flocculators. Unlike rapid-mix, the residence time of the flocculators can be varied by changing the flocculator tank size. Using literature and consulations, we will assume a residence time of 20 min for each flocculation unit. We will compartementalize these individual flocculation units into three chambers of decending G values that will therefore each have a residence time of 20/3 min. Compartmentalizing flocculator units is standard for the flocculation process because it creates denser flocs.\n",
        "\n",
        "3. The next step then would be to determine an array for the 3 different G values for the 3 chambers of each flocculation unit. These G values would be dependent on incoming turbidity.\n",
        "\n",
        "4. Lastly, we will be using the design values to find the energy/power required to run our mechanical flocculators which can then be used to determine operation costs given typical LA industiral electricity prices."
      ]
    },
    {
      "cell_type": "markdown",
      "metadata": {
        "id": "JeobVYWx6fp4",
        "colab_type": "text"
      },
      "source": [
        "# Future Avenues\n",
        "\n",
        "Given various time and data constraints, there are limitations to our proposed design which should be explored in the future for more accurate results.\n",
        "\n",
        "Regarding mechanical rapid-mix, we only considered a flash-pump mechanism even though there are many other mechancial rapid-mix options which will affect both operating and captial cost as well as efficiency. We've also estimated a G value which might not actually be the optimal G value for this system design. In addition, it would be worth looking into a standard static in line mixer to see how it compares with our chosen design. It would also be interesting to look into chemical costs and compare these to operating costs of a rapid-mix unit to see if it would be more financially feasible to add in more coagulant versus implimenting a rapid-mix unit. \n",
        "\n",
        "On a similar note, as we've metioned before, there is also a lot to discover about the rapid-mix process itself. More case studies need to be done in exisiting water treatment facilities to determine whether or not rapid-mix is actually integral to the entire water treatment process. Most of this stems from the fact that \"we do not yet understand the origin of the bonds that form between coagulant nanoparticles, between a coagulant nanoparticle and a suspented particles, and between coagulant nanoparticles and dissolved organic molecules\" (Aguaclara).\n",
        "\n",
        "Regarding mechanical flocculation, we mainly focused on the optimal velocity gradients for each flocculation unit, taking into account the turbidity of the incoming flow as well as the energy and operation costs of the flocculator. However, removing turbidity is not the only goal of a mechanical flocculator, which can also be used for removing dissolved organic matter and chemical contaminants. Therefore, we can build on top of the code we have already written to take into account other contaminants in the incoming flow, and how removal of these contaminants via flocculation would affect the chosen velocity gradients for the flocculation compartments. \n",
        "\n",
        "Lastly, in regard to our code, a future avenue for this design code would be to make this code interactive so that it's not just one dimensional and calculating various outputs given very specific inputs. It would be really interesting to see if code can be developed to calculate number of flocculator/rapid-mix treatment trains are required given a variety of inputs."
      ]
    },
    {
      "cell_type": "markdown",
      "metadata": {
        "id": "DXlB_I6ZOw2J",
        "colab_type": "text"
      },
      "source": [
        "# Design\n",
        "\n"
      ]
    },
    {
      "cell_type": "markdown",
      "metadata": {
        "id": "59xSfbgWLoXl",
        "colab_type": "text"
      },
      "source": [
        "![Proposed Plan View Area](https://github.com/MWSteams/4590FSP/raw/master/Images/Rapid_Mix_Mechanical/rm_floc_mech_final_plan.jpg)\n",
        "\n",
        "![Proposed Flocculator](https://github.com/MWSteams/4590FSP/raw/master/Images/Rapid_Mix_Mechanical/floc_mech.jpg)\n",
        "\n",
        "![Pumped Flash Mixer](https://github.com/MWSteams/4590FSP/raw/Rapid_Mix_Mechanical/pump1.PNG)"
      ]
    },
    {
      "cell_type": "code",
      "metadata": {
        "id": "IrwTrVM2hZqH",
        "colab_type": "code",
        "colab": {}
      },
      "source": [
        "## Givens\n",
        "\n",
        "specific_energy = (fmt.electricity_power/fmt.q_ave).to(u.J/u.L)\n",
        "temp = 15 * u.degC\n",
        "specific_potential_energy = (specific_energy / u.gravity / ac.density_water(temp)).to(u.m)\n",
        "fsp_flow = fmt.q_max.to(u.Mgal/u.day)\n",
        "rm_num_trains = 3\n",
        "\n",
        "#Adjusting pH (operating at an optimum pOH mitigates the need to shift optimum pH based on temp)\n",
        "#pkW = (0.01760*temp.to(u.degK))+(4470.99/temp.to(u.degK))-6.0875\n",
        "#pH + pOH = pKW\n",
        "\n",
        "## Constants (random by Monroe)\n",
        "fmt.n_rm_mech #4 units (one for redunancy)\n",
        "fmt.L_rm_mech #3m\n",
        "fmt.W_rm_mech #3m\n",
        "\n",
        "fmt.n_floc_mech #4 units\n",
        "fmt.L_floc_mech #10m\n",
        "fmt.W_floc_mech #10m\n",
        "\n",
        "elec_price_la = 0.1173*((u.USD)/(u.kW*u.hr)) #average industrial electricity rate in Los Angeles\n",
        "\n",
        "#print('The average flow to be treated at Fairmont is',fmt.q_ave.to(u.Mgal/u.day),'or')\n",
        "#print('The maximum flow to be treated at Fairmont is',fmt.q_max.to(u.Mgal/u.day))\n",
        "#print('The average amount of energy used per liter of water is expected to be',specific_energy,'or',specific_potential_energy,'of potential energy')"
      ],
      "execution_count": 0,
      "outputs": []
    },
    {
      "cell_type": "markdown",
      "metadata": {
        "id": "001QLULEBuqw",
        "colab_type": "text"
      },
      "source": [
        "We can assume the pump flow rate is approximately 3% of plant flow rate, based on the rule-of-thumb provided by Kawamura's manual *Integrated Design of Water Treatment Facilities* (p. 95), as well as his principle that rapid mix units have a volume of mixing approximately 1.5 times the diameter of the pipe where it occurs. Combined with some geometry, we get the following results:"
      ]
    },
    {
      "cell_type": "code",
      "metadata": {
        "id": "lenNXwRK3Qms",
        "colab_type": "code",
        "colab": {}
      },
      "source": [
        "## Rapid-Mix Mechanical\n",
        "\n",
        "# Diameter of rapid mix injection pipe given in SOW\n",
        "diameter_rm_mech_pipe = 87 * u.inch\n",
        "rapid_mix_length_ratio = 1.5\n",
        "length_in_rm = rapid_mix_length_ratio * diameter_rm_mech_pipe\n",
        "\n",
        "volume_rm_mech = np.pi*diameter_rm_mech_pipe**2*length_in_rm/4\n",
        "injection_time = (volume_rm_mech) / fsp_flow\n",
        "\n",
        "# We can assume the pump flow rate is approximately 3% of plant flow rate, \n",
        "# and we can divide by the number of treatment trains later to get a full picture\n",
        "rm_mech_pump_flow_ratio = 0.03\n",
        "rm_mech_pump_flow = fsp_flow * rm_mech_pump_flow_ratio\n",
        "\n",
        "rm_num_pumps_per_train = 1\n",
        "# Kawamura p. 95 and MWH p. 377 both recommend one nozzle to avoid clogging.\n",
        "# More pumps/nozzles per train can be added easily by changing this value.\n",
        "rm_total_pumps = rm_num_trains * rm_num_pumps_per_train\n",
        "\n",
        "rm_mech_flow_per_pump = rm_mech_pump_flow / rm_total_pumps\n"
      ],
      "execution_count": 0,
      "outputs": []
    },
    {
      "cell_type": "markdown",
      "metadata": {
        "id": "nD0PTfRZi0fr",
        "colab_type": "text"
      },
      "source": [
        "Based on the above, we now know the volume of water that is being pumped by the rapid-mix system at any time.\n",
        "\n",
        "We will be assuming a velocity gradient in the rapid mix system of 700 Hz. This is the industry-standard range (Kawamura p. 94)\n",
        "This can be used to determine the power required for the rapid mix pumps. \n",
        "\n",
        "$$P=G^{2} 2 \\mu V$$\n",
        "\n",
        "Next, we can take the pumping volume determined above, $Q_{pump}$, and compute hydraulic head with the following formula:\n",
        "\n",
        "$$E_{mix}= \\frac{g*Q_{pump}*\\rho*H}{e} $$\n"
      ]
    },
    {
      "cell_type": "code",
      "metadata": {
        "id": "UM-PAiYIhcdA",
        "colab_type": "code",
        "outputId": "6038cb0b-8208-48f5-9ca0-1e84f3d99aa4",
        "colab": {
          "base_uri": "https://localhost:8080/",
          "height": 52
        }
      },
      "source": [
        "# Compute hydraulic head by plugging in mixing energy assuming pump efficiency = 1:\n",
        "# Temporary velocity gradient for now to verify equations work\n",
        "rm_velocity_gradient = 700 / u.s\n",
        "rm_mech_pump_energy_total = rm_velocity_gradient**2 * ac.viscosity_dynamic_water(temp)* volume_rm_mech\n",
        "rm_mech_energy_per_pump = rm_mech_pump_energy_total/rm_total_pumps\n",
        "print('The total energy required for rapid mix pumps is', rm_mech_pump_energy_total.to(u.kW), 'with each pump requiring ',rm_mech_energy_per_pump.to(u.kW) )\n",
        "efficiency_rm_mech_pump = 1\n",
        "hydraulic_head_rm_mech = rm_mech_pump_energy_total * efficiency_rm_mech_pump / (u.gravity  * ac.density_water(temp) * rm_mech_pump_flow)\n",
        "print('The total hydraulic head of the rapid mix pumps is ', hydraulic_head_rm_mech.to(u.m))\n"
      ],
      "execution_count": 48,
      "outputs": [
        {
          "output_type": "stream",
          "text": [
            "The total energy required for rapid mix pumps is 7.076 kilowatt with each pump requiring  2.359 kilowatt\n",
            "The total hydraulic head of the rapid mix pumps is  1.181 meter\n"
          ],
          "name": "stdout"
        }
      ]
    },
    {
      "cell_type": "markdown",
      "metadata": {
        "id": "I3EKOhG5hAQM",
        "colab_type": "text"
      },
      "source": [
        "Because we know that $H=\\frac{v^2}{2g}$, we can solve for viscosity with the hydraulic head H that we just determined:\n",
        "$$v = \\sqrt{2gH}$$\n",
        "\n",
        "After solving for viscosity, one can solve for the required diameter of the rapid mix nozzles like so:\n",
        "$$d= \\sqrt\\frac{4Q_{pump}}{\\pi \\nu} $$"
      ]
    },
    {
      "cell_type": "code",
      "metadata": {
        "id": "OjkGUYKziiVz",
        "colab_type": "code",
        "outputId": "be965f66-9632-42e2-bdcd-416fc641832a",
        "colab": {
          "base_uri": "https://localhost:8080/",
          "height": 34
        }
      },
      "source": [
        "# Solve for viscosity:\n",
        "viscosity_kinematic_rm_mech = np.sqrt(2*u.gravity*hydraulic_head_rm_mech)\n",
        "\n",
        "# Required diameter:\n",
        "diamter_rm_mech_injection = np.sqrt(4*rm_mech_flow_per_pump/(np.pi*viscosity_kinematic_rm_mech))\n",
        "print('The diameter of each jet orifice is',diamter_rm_mech_injection.to(u.centimeter) )"
      ],
      "execution_count": 49,
      "outputs": [
        {
          "output_type": "stream",
          "text": [
            "The diameter of each jet orifice is 23.23 centimeter\n"
          ],
          "name": "stdout"
        }
      ]
    },
    {
      "cell_type": "markdown",
      "metadata": {
        "id": "whFu6k4UCEX0",
        "colab_type": "text"
      },
      "source": [
        "Using mass conservation, we know that the flow into a pipe must equal the flow out of a pipe. Because flow $Q=A*v$, where A is area of the pipe and v is velocity, we can solve for the velocity out of the pipes."
      ]
    },
    {
      "cell_type": "code",
      "metadata": {
        "id": "6TT5QLXkCD_A",
        "colab_type": "code",
        "colab": {
          "base_uri": "https://localhost:8080/",
          "height": 34
        },
        "outputId": "6df3d4d3-9afc-4e26-b908-7c95b60909a4"
      },
      "source": [
        "\n",
        "# Mass Conservation\n",
        "area_rm_mech_injection = diamter_rm_mech_injection**2 * np.pi / 4\n",
        "velocity_rm_injection = (rm_mech_flow_per_pump / area_rm_mech_injection).to(u.m/u.s)\n",
        "print('The velocity from each jet is',velocity_rm_injection)\n"
      ],
      "execution_count": 50,
      "outputs": [
        {
          "output_type": "stream",
          "text": [
            "The velocity from each jet is 4.812 meter / second\n"
          ],
          "name": "stdout"
        }
      ]
    },
    {
      "cell_type": "markdown",
      "metadata": {
        "id": "h8oLM6IGCZxK",
        "colab_type": "text"
      },
      "source": [
        "\n",
        "Lastly, we can solve for the operating cost using the energy of the pump that was determined above and the price of electricity at the facility."
      ]
    },
    {
      "cell_type": "code",
      "metadata": {
        "id": "icvh6pKECb5s",
        "colab_type": "code",
        "colab": {
          "base_uri": "https://localhost:8080/",
          "height": 34
        },
        "outputId": "4bb7db0f-5e40-4766-a994-d8e0be653f16"
      },
      "source": [
        "# Operation Cost\n",
        "daily_elec_rm_mech = (rm_mech_pump_energy_total*(24*u.hr)).to(u.kW*u.hr)\n",
        "daily_cost_rm_mech = daily_elec_rm_mech*elec_price_la\n",
        "print('The daily electricity cost to run rapid mix is', daily_cost_rm_mech, '.')"
      ],
      "execution_count": 51,
      "outputs": [
        {
          "output_type": "stream",
          "text": [
            "The daily electricity cost to run rapid mix is 19.92 dollar .\n"
          ],
          "name": "stdout"
        }
      ]
    },
    {
      "cell_type": "markdown",
      "metadata": {
        "id": "Nell0LEuz7Q9",
        "colab_type": "text"
      },
      "source": [
        "**Mechanical Flocculation**\n",
        "\n",
        "The velocity gradient (G) will depend on the incoming turbidity of the water. We wanted to create a graph of the energy requirement needed to meet the corresponding velociy gradient in the mechanical flocculator. We were given a range of values of the velocity gradient dependent on turbidity, and we also assumed parameters such as the residence time for each of the 3 flocculation units, the incoming flow rate of the water, and the temperature of the water in the flocculator. Each unit of the flocculator is further divided into 3 flocculation compartments. "
      ]
    },
    {
      "cell_type": "code",
      "metadata": {
        "id": "87QSjs4u0dls",
        "colab_type": "code",
        "colab": {}
      },
      "source": [
        "rm_num_trains = 3\n",
        "\n",
        "# assuming the residence time for each compartment of each flocculation unit\n",
        "residence_time_floc_mech = (20/rm_num_trains)*u.min \n",
        "\n",
        "# Given parameters for each flocculation unit\n",
        "floc_flow = fsp_flow/rm_num_trains\n",
        "floc_temp = 15 * u.degC"
      ],
      "execution_count": 0,
      "outputs": []
    },
    {
      "cell_type": "markdown",
      "metadata": {
        "id": "xIbQ1CGZ0qiZ",
        "colab_type": "text"
      },
      "source": [
        "We used this table from the Aguaclara textbook to create an array of possible velocity gradient values, given the incoming turbidity.\n",
        "\n",
        "|Type|Velocity gradient (G) (1/s)|Energy dissipation rate|Gt|t (min)|\n",
        "|----|----|----|----|----|\n",
        "|Low turbidity, color removal|20-70|0.4-4.9|50,000-250,000|11-210|\n",
        "|High turbidity, solids removal|70-180|4.9-32|80,000-190,000|7-45|\n",
        "\n",
        "Using the range of velocity gradient values, we solve for the corresponding average energy dissipation rate of each velocity gradient value.\n",
        "\n",
        "Equation for energy dissipation rate: $\\bar \\varepsilon = \\nu G_{CS}^2$"
      ]
    },
    {
      "cell_type": "code",
      "metadata": {
        "id": "vDqeyn8u2Ik0",
        "colab_type": "code",
        "colab": {}
      },
      "source": [
        "# Creating an array with the range of velocity gradient values \n",
        "G_mech = []\n",
        "\n",
        "for x in range(20,180):\n",
        "  G_mech.append(x)\n",
        "\n",
        "G_mech = G_mech * (1/u.s)\n",
        "\n",
        "# Solving for an array of Gt values given the velocity gradients\n",
        "Gt_mech = []\n",
        "\n",
        "for x in range(len(G_mech)):\n",
        "  Gt_mech.append((G_mech[x] * residence_time_floc_mech).to(u.dimensionless))\n",
        "\n",
        "# Calculating the equivalent average energy dissipation rate for the range of \n",
        "# velocity gradients (for each compartment of each flocculation unit)\n",
        "energy_dis_rate = []\n",
        "\n",
        "for x in range(len(G_mech)):\n",
        "  energy_dis_rate.append((G_mech[x]**2 * ac.viscosity_kinematic_water(floc_temp)).to(u.mW/u.kg))"
      ],
      "execution_count": 0,
      "outputs": []
    },
    {
      "cell_type": "markdown",
      "metadata": {
        "id": "9hwqKEYk2MAg",
        "colab_type": "text"
      },
      "source": [
        "Once we solved for the energy dissipation rate of each velocity gradient value, we solved for the corresponding power and energy requirement for that energy dissipation rate.\n",
        "\n",
        "Equation for shaft power: $P = \\nu Qt_{res}G^2$"
      ]
    },
    {
      "cell_type": "code",
      "metadata": {
        "id": "Xjcs1wGP3COP",
        "colab_type": "code",
        "colab": {}
      },
      "source": [
        "# Calculating power requirement for the compartments\n",
        "power_floc = []\n",
        "\n",
        "def power_floc_shaft(Q,G,t,temp):\n",
        "  return ((G**2 * Q * t * ac.viscosity_dynamic_water(temp)).to(u.kW))\n",
        "\n",
        "for x in range(len(G_mech)):\n",
        "  power_floc.append(power_floc_shaft(floc_flow, G_mech[x], residence_time_floc_mech, floc_temp))\n",
        "\n",
        "# Solving for the energy requirement for each compartment given the power of the \n",
        "# flocculator unit\n",
        "def energy_mech(Q,G,t,temp):\n",
        "  return(((power_floc_shaft(Q,G,t,temp))/Q).to(u.J/u.L))\n",
        "\n",
        "energy_req = []\n",
        "\n",
        "for x in range(len(G_mech)):\n",
        "  energy_req.append((energy_mech(floc_flow, G_mech[x], residence_time_floc_mech, \n",
        "                                 floc_temp)).magnitude)\n",
        "\n",
        "energy_req = energy_req * (u.J/u.L)"
      ],
      "execution_count": 0,
      "outputs": []
    },
    {
      "cell_type": "markdown",
      "metadata": {
        "id": "fiMQESGv3LpE",
        "colab_type": "text"
      },
      "source": [
        "Assuming the cost of electricity in Los Angeles, we were able to solve for the total cost of electricity for all 3 flocculation units and plotted this cost against the range of velocity gradient values."
      ]
    },
    {
      "cell_type": "code",
      "metadata": {
        "id": "vCMAwt4Y3UBd",
        "colab_type": "code",
        "outputId": "b864f5de-3d44-4a04-c0a2-c1d3a24dcee0",
        "colab": {
          "base_uri": "https://localhost:8080/",
          "height": 664
        }
      },
      "source": [
        "# Solving for the total cost of electricity per hour for all 3 flocculation units\n",
        "total_energy_cost = []\n",
        "\n",
        "for x in range(len(G_mech)):\n",
        "  total_energy_cost.append(((elec_price_la * energy_req[x]).to(u.USD/u.L)).magnitude)\n",
        "\n",
        "total_energy_cost = total_energy_cost * (u.USD/u.L)\n",
        "\n",
        "# Plot the energy requirement as a function of the possible velocity gradient values\n",
        "plt.plot(G_mech, energy_req)\n",
        "plt.xlabel('Velocity gradient (1/s)') \n",
        "plt.ylabel('Energy requirement (J/L)') \n",
        "plt.title('Energy requirement as a function of velocity gradient') \n",
        "plt.show()\n",
        "\n",
        "plt.plot(G_mech, total_energy_cost)\n",
        "plt.xlabel('Velocity gradient (1/s)')\n",
        "plt.ylabel('Total cost of electricity (USD/L per hour)')\n",
        "plt.title('Cost of electricity  as a function of velocity gradient')\n",
        "plt.show()\n",
        "\n",
        "\n",
        "# Solving for the cost of operation given the high-to-low velocity gradient for each flocculation unit\n",
        "total_energy_cost_actual= total_energy_cost[1] + total_energy_cost[51] + total_energy_cost[159]\n",
        "\n",
        "daily_total_energy_cost_actual = (total_energy_cost_actual * rm_num_trains * floc_flow).to(u.USD/u.day)\n",
        "\n",
        "print('The total cost of operating this tapered velocity gradient profile for each flocculation unit would be', total_energy_cost_actual,'per hour. That means the daily cost of operating all three mechanical flocculator units would be', daily_total_energy_cost_actual)\n",
        "\n",
        "print('The power required for the first compartment of each flocculator unit would be', power_floc[1])\n",
        "print('The power required for the second compartment of each flocculator unit would be', power_floc[51])\n",
        "print('The power required for the third compartment of each flocculator unit would be', power_floc[159])"
      ],
      "execution_count": 55,
      "outputs": [
        {
          "output_type": "display_data",
          "data": {
            "image/png": "[encoded data removed]",
            "text/plain": [
              "<Figure size 432x288 with 1 Axes>"
            ]
          },
          "metadata": {
            "tags": [],
            "needs_background": "light"
          }
        },
        {
          "output_type": "display_data",
          "data": {
            "image/png": "[encoded data removed]",
            "text/plain": [
              "<Figure size 432x288 with 1 Axes>"
            ]
          },
          "metadata": {
            "tags": [],
            "needs_background": "light"
          }
        },
        {
          "output_type": "stream",
          "text": [
            "The total cost of operating this tapered velocity gradient profile for each flocculation unit would be 5.555e-07 dollar / liter per hour. That means the daily cost of operating all three mechanical flocculator units would be 978.6 dollar / day\n",
            "The power required for the first compartment of each flocculator unit would be 1.362 kilowatt\n",
            "The power required for the second compartment of each flocculator unit would be 15.57 kilowatt\n",
            "The power required for the third compartment of each flocculator unit would be 98.94 kilowatt\n"
          ],
          "name": "stdout"
        }
      ]
    },
    {
      "cell_type": "markdown",
      "metadata": {
        "id": "CFcX9UK-3WIa",
        "colab_type": "text"
      },
      "source": [
        "From the SOW, the influent turbidity is 23 NTU, which is classified as very high turbidity (using values provided by the Aguaclara textbook). The turbidity goal is 3 NTU, which is classified as low turbidity and an acceptable turbidity for treated water. Therefore, the velocity gradient of the first flocculation chamber in each unit must be between 70-180 (1/s), and the velocity gradient of the third flocculation chamber in each unit must be between 20-70 (1/s). Given this information, we estimate that the tapered velocity gradient profile for each flocculation unit will be 180/s for the first compartment, 70/s for the second compartment, and 20/s for the third compartment. \n",
        "\n",
        "Using the incoming flow rate, we can solve for the volume (assuming a flocculator depth of 4m, same as the Aguaclara mechanical flocculators)."
      ]
    },
    {
      "cell_type": "code",
      "metadata": {
        "id": "Wva2-tCY4QHl",
        "colab_type": "code",
        "outputId": "7c805c77-9d63-45cd-b802-00fb75c7f80a",
        "colab": {
          "base_uri": "https://localhost:8080/",
          "height": 54
        }
      },
      "source": [
        "# Solving for the volume of each individual flocculation unit \n",
        "floc_volume = (residence_time_floc_mech * floc_flow).to(u.m**3)\n",
        "\n",
        "# Assuming that the flocculator depth is 4m, same as the Aguaclara mechanical flocculators \n",
        "floc_depth = 4 * u.m \n",
        "\n",
        "floc_area = (floc_volume / floc_depth).to(u.m**2)\n",
        "total_floc_area = (floc_area*rm_num_trains)\n",
        "\n",
        "print('The required area for the flocculator would be',total_floc_area,'. Given that the available area in the Fairmont plant is 200ft by 125ft, there would be adequate space to accomodate a flocculator of this depth.')"
      ],
      "execution_count": 56,
      "outputs": [
        {
          "output_type": "stream",
          "text": [
            "The required area for the flocculator would be 2039 meter ** 2 . Given that the available area in the Fairmont plant is 200ft by 125ft, there would be adequate space to accomodate a flocculator of this depth.\n"
          ],
          "name": "stdout"
        }
      ]
    },
    {
      "cell_type": "markdown",
      "metadata": {
        "id": "XFLFPpFh4Rpd",
        "colab_type": "text"
      },
      "source": [
        "To solve for the flocculator dimensions, we see that the width of the given area for the flocculator is 125ft according to the plant layout in the SOW. We will assume that the flocculator occupies this entire width, with about 25 ft as a buffer space. Knowing this, we can solve for the length and width of each flocculator compartment."
      ]
    },
    {
      "cell_type": "code",
      "metadata": {
        "id": "X3RjFfE34g-x",
        "colab_type": "code",
        "outputId": "aed7c850-bba1-4183-c130-d3e86eb9f19a",
        "colab": {
          "base_uri": "https://localhost:8080/",
          "height": 34
        }
      },
      "source": [
        "floc_width = (125-25) * u.ft\n",
        "floc_compartment_width = (floc_width/rm_num_trains).to(u.m)\n",
        "floc_compartment_length = ((total_floc_area/floc_width)/rm_num_trains).to(u.m)\n",
        "\n",
        "print('The length of each flocculator compartment would be', floc_compartment_length, 'and the width of each flocculator compartment would be', floc_compartment_width)"
      ],
      "execution_count": 57,
      "outputs": [
        {
          "output_type": "stream",
          "text": [
            "The length of each flocculator compartment would be 22.3 meter and the width of each flocculator compartment would be 10.16 meter\n"
          ],
          "name": "stdout"
        }
      ]
    },
    {
      "cell_type": "markdown",
      "metadata": {
        "id": "MygJWEvr4iGj",
        "colab_type": "text"
      },
      "source": [
        "In order to solve for the impeller diameter and impeller speed, the tank diameter value must be calculated using the length and width of each flocculation compartment. The ratio of impeller diameter to tank diameter for a vertical shaft flocculator is between 0.35 to 0.40, so we will assume a ratio of 0.40.\n",
        "\n",
        "Equation for tank diameter: $T_{e}=1.13(L * W)^{0.5}$\n",
        "\n",
        "Equation for impeller diameter: $I_{D}/T_{E} = 0.40$"
      ]
    },
    {
      "cell_type": "code",
      "metadata": {
        "id": "2RdOOZdi5O7D",
        "colab_type": "code",
        "colab": {}
      },
      "source": [
        "imp_diam_to_tank_diam = 0.40\n",
        "tank_diameter = 1.13 * ((floc_compartment_length * floc_compartment_width)**0.5)\n",
        "imp_diam = tank_diameter * imp_diam_to_tank_diam"
      ],
      "execution_count": 0,
      "outputs": []
    },
    {
      "cell_type": "markdown",
      "metadata": {
        "id": "adpOQgy45QkY",
        "colab_type": "text"
      },
      "source": [
        "Using the diameter of the impeller, we can solve for the impeller speed. We are assuming a value for the maximum impeller speed, which varies depending on the type of blade used in the flocculator and ranges from 2.1 to 2.4 meters per second. We will assume a value of 2.4 meters per second for the maximum impeller tip speed and use this to solve for the impeller speed in revolutions per minute."
      ]
    },
    {
      "cell_type": "code",
      "metadata": {
        "id": "B7WKEfjv249_",
        "colab_type": "code",
        "outputId": "590ad32a-979c-4777-d582-a3e469fde6d0",
        "colab": {
          "base_uri": "https://localhost:8080/",
          "height": 34
        }
      },
      "source": [
        "max_tip_speed = 2.4 * (u.m/u.s)\n",
        "\n",
        "# Converting meters per second to radians per second\n",
        "\n",
        "max_tip_speed_rad = (max_tip_speed/(imp_diam/2)).to(u.rad/u.sec)\n",
        "\n",
        "# Converting radians per second to revolutions per minute\n",
        "\n",
        "impeller_speed = (max_tip_speed_rad).to(u.revolution/u.min)\n",
        "\n",
        "print('The diameter of the impeller would be', imp_diam, 'and the speed of the impeller would be',impeller_speed)"
      ],
      "execution_count": 59,
      "outputs": [
        {
          "output_type": "stream",
          "text": [
            "The diameter of the impeller would be 6.803 meter and the speed of the impeller would be 6.738 turn / minute\n"
          ],
          "name": "stdout"
        }
      ]
    },
    {
      "cell_type": "markdown",
      "metadata": {
        "id": "4CqcnOUCyGk3",
        "colab_type": "text"
      },
      "source": [
        "# References\n",
        "\n",
        "https://aguaclara.github.io/Textbook/Rapid_Mix/RM_Intro.html\n",
        "\n",
        "https://education.seattlepi.com/flocculation-wastewater-4866.html\n",
        "\n",
        "https://www.iwapublishing.com/news/coagulation-and-flocculation-water-and-wastewater-treatment\n",
        "\n",
        "https://www.electricitylocal.com/states/california/los-angeles/\n",
        "\n",
        "http://literature.puertoricosupplier.com/017/IU17190.pdf"
      ]
    }
  ]
}