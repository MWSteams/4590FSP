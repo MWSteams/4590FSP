{
  "nbformat": 4,
  "nbformat_minor": 0,
  "metadata": {
    "colab": {
      "name": "Rapid_Mix_Flocculation_Mechanical.ipynb",
      "provenance": [],
      "collapsed_sections": [],
      "include_colab_link": true
    },
    "kernelspec": {
      "name": "python3",
      "display_name": "Python 3"
    }
  },
  "cells": [
    {
      "cell_type": "markdown",
      "metadata": {
        "id": "view-in-github",
        "colab_type": "text"
      },
      "source": [
        "<a href=\"https://colab.research.google.com/github/MWSteams/4590FSP/blob/master/Rapid_Mix_Flocculation_Mechanical.ipynb\" target=\"_parent\"><img src=\"https://colab.research.google.com/assets/colab-badge.svg\" alt=\"Open In Colab\"/></a>"
      ]
    },
    {
      "cell_type": "markdown",
      "metadata": {
        "id": "lZNgRSu1Uj8D",
        "colab_type": "text"
      },
      "source": [
        "# Rapid-Mix and Flocculation Mechanical\n",
        "\n",
        "Authors: Ariel Ben-Sorek, Lynn Li, and Allison Tran\n",
        "\n",
        "[/Monroe/]: # (See my email for general comments.)"
      ]
    },
    {
      "cell_type": "code",
      "metadata": {
        "id": "QjwM4ovYUokZ",
        "colab_type": "code",
        "outputId": "75e286bc-c151-4ef4-b8ed-e6e273c65a14",
        "colab": {
          "base_uri": "https://localhost:8080/",
          "height": 260
        }
      },
      "source": [
        "!pip install aguaclara\n",
        "!pip install molmass"
      ],
      "execution_count": 12,
      "outputs": [
        {
          "output_type": "stream",
          "text": [
            "Requirement already satisfied: aguaclara in /usr/local/lib/python3.6/dist-packages (0.2.1)\n",
            "Requirement already satisfied: pint==0.8.1 in /usr/local/lib/python3.6/dist-packages (from aguaclara) (0.8.1)\n",
            "Requirement already satisfied: urllib3 in /usr/local/lib/python3.6/dist-packages (from aguaclara) (1.24.3)\n",
            "Requirement already satisfied: matplotlib in /usr/local/lib/python3.6/dist-packages (from aguaclara) (3.2.1)\n",
            "Requirement already satisfied: scipy in /usr/local/lib/python3.6/dist-packages (from aguaclara) (1.4.1)\n",
            "Requirement already satisfied: pandas in /usr/local/lib/python3.6/dist-packages (from aguaclara) (1.0.3)\n",
            "Requirement already satisfied: numpy>=1.11 in /usr/local/lib/python3.6/dist-packages (from matplotlib->aguaclara) (1.18.3)\n",
            "Requirement already satisfied: python-dateutil>=2.1 in /usr/local/lib/python3.6/dist-packages (from matplotlib->aguaclara) (2.8.1)\n",
            "Requirement already satisfied: kiwisolver>=1.0.1 in /usr/local/lib/python3.6/dist-packages (from matplotlib->aguaclara) (1.2.0)\n",
            "Requirement already satisfied: cycler>=0.10 in /usr/local/lib/python3.6/dist-packages (from matplotlib->aguaclara) (0.10.0)\n",
            "Requirement already satisfied: pyparsing!=2.0.4,!=2.1.2,!=2.1.6,>=2.0.1 in /usr/local/lib/python3.6/dist-packages (from matplotlib->aguaclara) (2.4.7)\n",
            "Requirement already satisfied: pytz>=2017.2 in /usr/local/lib/python3.6/dist-packages (from pandas->aguaclara) (2018.9)\n",
            "Requirement already satisfied: six>=1.5 in /usr/local/lib/python3.6/dist-packages (from python-dateutil>=2.1->matplotlib->aguaclara) (1.12.0)\n",
            "Requirement already satisfied: molmass in /usr/local/lib/python3.6/dist-packages (2020.1.1)\n"
          ],
          "name": "stdout"
        }
      ]
    },
    {
      "cell_type": "code",
      "metadata": {
        "id": "ttJT8q_wYhAV",
        "colab_type": "code",
        "outputId": "38c8a60e-3b82-483d-988f-f53906ac1c96",
        "colab": {
          "base_uri": "https://localhost:8080/",
          "height": 208
        }
      },
      "source": [
        "from aguaclara.core.units import unit_registry as u\n",
        "import aguaclara as ac\n",
        "import matplotlib.pyplot as plt\n",
        "import numpy as np\n",
        "import pandas as pd\n",
        "import molmass as mol\n",
        "!wget https://raw.githubusercontent.com/MWSteams/4590FSP/master/Fairmont.py\n",
        "import Fairmont as fmt\n",
        "import math"
      ],
      "execution_count": 13,
      "outputs": [
        {
          "output_type": "stream",
          "text": [
            "--2020-05-04 22:25:58--  https://raw.githubusercontent.com/MWSteams/4590FSP/master/Fairmont.py\n",
            "Resolving raw.githubusercontent.com (raw.githubusercontent.com)... 151.101.0.133, 151.101.64.133, 151.101.128.133, ...\n",
            "Connecting to raw.githubusercontent.com (raw.githubusercontent.com)|151.101.0.133|:443... connected.\n",
            "HTTP request sent, awaiting response... 200 OK\n",
            "Length: 3025 (3.0K) [text/plain]\n",
            "Saving to: ‘Fairmont.py.2’\n",
            "\n",
            "\rFairmont.py.2         0%[                    ]       0  --.-KB/s               \rFairmont.py.2       100%[===================>]   2.95K  --.-KB/s    in 0s      \n",
            "\n",
            "2020-05-04 22:25:58 (49.8 MB/s) - ‘Fairmont.py.2’ saved [3025/3025]\n",
            "\n"
          ],
          "name": "stdout"
        }
      ]
    },
    {
      "cell_type": "markdown",
      "metadata": {
        "id": "2SQpUtXCR5Xz",
        "colab_type": "text"
      },
      "source": [
        "# Task Definition\n",
        "\n",
        "Our task was to evaluate both processes of mechanical rapid mix and mechanical flocculation, in order to determine the most effective methods for distributing coagulant for mixing and floc formation. In a standard water treatment train, rapid mix occurs between coagulant addition and flocculation, and provides an enhanced method of distributing coagulant evenly through the water. Flocculation is a method to coagulate contaminant particles together for easy removal through sedimentation or filtration, and is an instrumental part of the water treatment train. Our goal is to optimize both treatment processes through modifying parameters such as tank volume, residence time, and flocculator blades, to maximize the amount of contaminant removed through flocculation against maintenance and operation costs."
      ]
    },
    {
      "cell_type": "markdown",
      "metadata": {
        "id": "WoGtXtBGQZr5",
        "colab_type": "text"
      },
      "source": [
        "# Executive Summary \n",
        "\n",
        "Regarding both rapid-mix and flocculation we will be using energy dissipation rates as the main constraint to figure out how effectively cogulatant is being distributed in our system as well how effectively the coagulant is forming flocs.\n",
        "\n",
        "Focusing more specifically on design,  we recommend a pump diffusor as our mechanical rapid-mix mechanism. For mechanical flocculation we will be using rotating blade flocculators. We have not yet determined whether or not we want to implement horizontal or vertical blade flocculators. Regardless of the orientation of the blades, we will compartmentalize the flocculation tank so that a tapered velocity graidnet profile can be imposed. A high to low velocity gradient in subsequent compartments will create dense flocs. It will also reduce the total retention time.\n",
        "\n",
        "We will be determining the required rapid-mix volumne by it's residence time. The flocculation tank volume will also be termined by it's residence time; however this volume will be more open ended because the residence time is not necessarily constant.\n",
        "\n",
        "[/Monroe/]: # (Mixing coagulant uniformly with the raw water before splitting the flow into multiple treatment trains might be one of the goals of rapid mix in this plant. I suspect that your design will not be influenced in any way by knowing the contaminant that controls the coagulant dosage because we don't have a physics-based model for the design of the rapid mix. See https://aguaclara.github.io/Textbook/Rapid_Mix/RM_Derivations.html#turbulent-large-scale-eddies for mixing length estimates. Note that you would want to include a safety factor on these equations.)\n"
      ]
    },
    {
      "cell_type": "markdown",
      "metadata": {
        "id": "Jonv4dYSQghA",
        "colab_type": "text"
      },
      "source": [
        "# Constraints\n",
        "\n",
        "* Relevant Regulations\n",
        "\n",
        "\n",
        "* Client Expectations\n",
        "    * Redundancy plan (at least one backup unit for both rapid mix and floccculation\n",
        "\n",
        "\n",
        "* Site and Budget\n",
        "    * Mechcanical mechanisms require a power input which then adds to operation costs\n",
        "    * Rapid mix mechanical is one of the most energy intensive units in treatment train\n",
        "    * 200ft*125ft is the proposed rapid mix and flocculation on the plant diagram in the SOW\n",
        "    \n",
        "\n",
        "* Process Capabilities Including Process Design Equations\n",
        "    * Residence time will determine the required volume of rapid-mix\n",
        "\n",
        "\n",
        "* Ease of Use\n",
        "    * Static mixers are simple and reliable but they are prone to clogging (MWH)\n",
        "\n",
        "\n",
        "* Operation Requirements\n",
        "    * If there are multiple treatment trains, parallel treatment trains must receive the same concentration of coagulant; coagulant must be mixed equally if rapid mix units are before flow splitting\n",
        "    * Type of coagulant used/dosage\n",
        "    * The optimal pH for aluminum coagulant nanoparticle formation is between pH of 6.5 and 8.5. Adding coagulant usually reduces pH so somtimes it is necessary to add a base to increase the pH of the raw water\n",
        "    * pH in the 4.4 to 6 range is optimal for flocculation\n",
        "    * High temperature accelerates the flocculation process (flocculation may be slower in the winter and therefore operators may need to allow for more time when the temp is colder)\n",
        "\n",
        "\n",
        "* Maintenance Requirements\n",
        "    * Needs to be easy to clean\n",
        "    * Parts that can be easily bought and replaced\n",
        "    * Vertical shaft rotating blades don't require underwater bearings where as horizonal shaft rotating blades do\n",
        "\n",
        "\n",
        "[/Monroe/]: # (Quote from Benjamin and Lawler [https://newcatalog.library.cornell.edu/catalog/8516026] page 546: \"While much research remains to be done on the interactions of chemicals, paricles, and mixing, the emerging picture at this point is tha ta high degree of turbulence leads to more efficient chemical use for destabilization by adsorption and charge neutralization, whereas destabilization by precipitation is less sensitive to the mixing conditions.\" My understanding is that drinking water treatment plants use destabilization by precipitation; the only mechanism that we have been able to replicate in our labs here at Cornell. We now recognize that it isn't destabilization, but rather is simply that the coagulant nanoparticles are sticky.)\n",
        "\n",
        "See [new resources](https://raw.githubusercontent.com/MWSteams/4590FSP/master/resources.md) for information on rapid mix and the Cottonwood plant."
      ]
    },
    {
      "cell_type": "markdown",
      "metadata": {
        "id": "ThTr6ag8a0FN",
        "colab_type": "text"
      },
      "source": [
        "\n",
        "# Physics\n",
        "\n",
        "$$G=\\frac{\\Delta v}{\\Delta h}$$\n",
        "\n",
        "where $G$ is the velocity gradient, $\\Delta v$ is the difference in velocity between two points on two different streamlines and $\\Delta h$ is the distance between the streamlines.\n",
        "\n",
        "G is a measure of how quickly one point of water along one streamline moves in comparison to another point on a different streamline.\n",
        "\n",
        "$$\\varepsilon = G^2 \\nu$$ \n",
        "\n",
        "where $\\epsilon$ is the energy dissipation rate, $G$ is the velocity gradient, and $\\nu$ is the kinematic viscosity of water.\n",
        "\n",
        "It is hypotheiszed that it's ultimately velocity gradients that transport coagulant nanoparticles to the surface of particles.\n",
        "\n",
        "$$P = \\rho \\bar G^2 \\nu Q \\theta$$ \n",
        "\n",
        "where $P$ is power input required, $\\rho$ is density of water, $Q$ is the flow rate, and $\\theta$ is the hydraulic residence time.\n",
        "\n",
        "This equation can be used to estimate electrical motor sizing requirements for mechanical rapid mix units.\n",
        "\n",
        "$$\\lambda_\\nu = \\Pi_{K\\nu}\\left( \\frac{\\nu^3}{\\varepsilon} \\right)^{\\frac{1}{4}}$$\n",
        "\n",
        "where $\\lambda_\\nu$ is the inner viscous length scale, $\\Pi_{K\\nu}=5-$, $\\nu$ is the kinematic viscosity of water, and $\\epsilon$ is the energy dissipation rate.\n",
        "\n",
        "\"At length scales larger than the inner viscous length scale the dominant transport mechanism is by turbulent eddies. At length scales smaller than the inner viscous length scale the dominant transport mechanism is fluid deformation due to shear.\" (AguaClara) This equations strongly suggests that the coagulant nanoparticles are not transported to the clay surfaces in the short amount of time spent in the rapid mix.\n",
        "\n",
        "[/Monroe/]: # (The previous equation needs to be combined with an estimate of the diffusion length scale for the coagulant nanoparticles. In any case that equation strongly suggests that the coagulant nanoparticles are not transported to the clay surfaces in the short amount of time spent in the rapid mix.)\n",
        "[/Lynn/]: # (Added)\n",
        "\n",
        "[/Monroe/]: # (Another equation is the eddy turnover time\n",
        "https://aguaclara.github.io/Textbook/Rapid_Mix/RM_Derivations.html#equation-rapid-mix-rm-derivations-38)\n",
        "[/Ariel/]: # (Added)\n",
        "\n",
        "We can calculate the volume of water being mixed by assuming the length of the mixing zone is $L=1.5D$, where D is the diameter of the pipe. According to the SOW, the diameter is 87 inches, or 2.2098 meters.\n",
        "Thus, mixing time $t=\\frac{V}{L}$\n",
        "\n",
        "Next, we can assume the pump flow rate is approximately 3% of plant flow rate, thus\n",
        "$$Q_{pump} = 26.335 \\frac{m^3}{s} * 0.03=0.79 \\frac{m^3}{s}$$\n",
        "\n",
        "Then, we compute hydraulic head by pluggin in mixing energy:\n",
        "$$E_{mix}= \\frac{g*Q_{pump}*\\rho*H}{e} $$\n",
        "\n",
        "Next, we simply solve for viscosity:\n",
        "$H=\\frac{v^2}{2g}$ so $v = \\sqrt{2gH}$\n",
        "\n",
        "Lastly, after solving for hydraulic head, one can solve for the required diameter like so:\n",
        "$$d= \\sqrt\\frac{4Q_{pump}}{\\pi \\nu} $$"
      ]
    },
    {
      "cell_type": "markdown",
      "metadata": {
        "id": "HsnX16jYa3Ow",
        "colab_type": "text"
      },
      "source": [
        "# Table Listing Potential Strategies to Meet the Constraints and Treatment Objectives\n",
        "\n",
        "| strategies | advantages | disadvantages | data needed for decision |\n",
        "| ---------- | ---------- | ---------- | ---------- |\n",
        "| Reducing energy used to power mechanical mixers | Lower cost, lower electricity usage | Less power to mixers affects energy dissipation, velocity, residence time, and more | Power usage typical for mechanical rapid mix |\n",
        "| Modifying coagulant dosage to ensure removal of arsenic | Meet water treatment plant standards for arsenic removal | Rapid mix can be expensive (coagulant and electricity to power mixers) | Coagulant dosage needed to remove certain concentration of arsenic, cost of powering rapid mixers\n",
        "| Modifying coagulant dosage to ensure even distribution | Increased coagulant will remove more contaminant (arsenic) | Increased coagulant will be more expensive | Type of coagulant used, velocity gradient, ideal dosage, residence time of mixer |\n",
        "|Horizontal Rotating Blades| More simple compartmentalization, different tapered G values are produced for one particular drive shaft rotational speed| Requires underwater bearings| Flocculation performance|\n",
        "|Vertical Rotating Blades| Do not require underwater bearings| A much wider diversity of G values within the flocculation basin for a given mean velocity gradient| Flocculation performance|\n",
        "|Flocculator tank size|Larger tanks result in a longer residence time for flocs|Possible increase in maintenance/operation costs for larger tanks| Flocculation performance using tanks of various sizes|"
      ]
    },
    {
      "cell_type": "markdown",
      "metadata": {
        "id": "2YfVeqBxwJmw",
        "colab_type": "text"
      },
      "source": [
        "\n",
        "![](https://github.com/MWSteams/4590FSP/raw/Rapid_Mix_Mechanical/pump1.PNG)\n",
        "\n",
        "[Pumped Flash Mixer]"
      ]
    },
    {
      "cell_type": "markdown",
      "metadata": {
        "id": "J9dPZVMbOka9",
        "colab_type": "text"
      },
      "source": [
        "# Vendors and Contact Information File\n",
        "\n",
        "[/Monroe/]: # (Excellent work finding some suppliers)"
      ]
    },
    {
      "cell_type": "code",
      "metadata": {
        "id": "l35d0BODlEsW",
        "colab_type": "code",
        "outputId": "c8490ed4-bf28-47a3-b79e-e77edf623ba8",
        "colab": {
          "base_uri": "https://localhost:8080/",
          "height": 674
        }
      },
      "source": [
        "vendors = pd.read_csv('https://raw.githubusercontent.com/MWSteams/4590FSP/master/vendors.txt',sep='\\t')\n",
        "vendors"
      ],
      "execution_count": 14,
      "outputs": [
        {
          "output_type": "execute_result",
          "data": {
            "text/html": [
              "<div>\n",
              "<style scoped>\n",
              "    .dataframe tbody tr th:only-of-type {\n",
              "        vertical-align: middle;\n",
              "    }\n",
              "\n",
              "    .dataframe tbody tr th {\n",
              "        vertical-align: top;\n",
              "    }\n",
              "\n",
              "    .dataframe thead th {\n",
              "        text-align: right;\n",
              "    }\n",
              "</style>\n",
              "<table border=\"1\" class=\"dataframe\">\n",
              "  <thead>\n",
              "    <tr style=\"text-align: right;\">\n",
              "      <th></th>\n",
              "      <th>item description</th>\n",
              "      <th>vendor</th>\n",
              "      <th>contact first name</th>\n",
              "      <th>contact last name</th>\n",
              "      <th>vendor website</th>\n",
              "      <th>product info</th>\n",
              "      <th>date of contact</th>\n",
              "      <th>who made the contact</th>\n",
              "      <th>notes</th>\n",
              "    </tr>\n",
              "  </thead>\n",
              "  <tbody>\n",
              "    <tr>\n",
              "      <th>0</th>\n",
              "      <td>plate settlers</td>\n",
              "      <td>MRI</td>\n",
              "      <td>still</td>\n",
              "      <td>pending</td>\n",
              "      <td>http://www.meurerresearch.com/</td>\n",
              "      <td>http://www.meurerresearch.com/literaturemedia/...</td>\n",
              "      <td>4/16/2020</td>\n",
              "      <td>Ian Cullings</td>\n",
              "      <td>NaN</td>\n",
              "    </tr>\n",
              "    <tr>\n",
              "      <th>1</th>\n",
              "      <td>sludge removal system</td>\n",
              "      <td>MRI</td>\n",
              "      <td>still</td>\n",
              "      <td>pending</td>\n",
              "      <td>http://www.meurerresearch.com/</td>\n",
              "      <td>http://www.meurerresearch.com/products/hoseles...</td>\n",
              "      <td>4/16/2020</td>\n",
              "      <td>Ian Cullings</td>\n",
              "      <td>NaN</td>\n",
              "    </tr>\n",
              "    <tr>\n",
              "      <th>2</th>\n",
              "      <td>plate settlers</td>\n",
              "      <td>Monore Environmental</td>\n",
              "      <td>still</td>\n",
              "      <td>pending</td>\n",
              "      <td>https://www.monroeenvironmental.com/</td>\n",
              "      <td>https://www.monroeenvironmental.com/water-and-...</td>\n",
              "      <td>4/16/2020</td>\n",
              "      <td>Ian Cullings</td>\n",
              "      <td>NaN</td>\n",
              "    </tr>\n",
              "    <tr>\n",
              "      <th>3</th>\n",
              "      <td>sludge removal system</td>\n",
              "      <td>Monore Environmental</td>\n",
              "      <td>still</td>\n",
              "      <td>pending</td>\n",
              "      <td>https://www.monroeenvironmental.com/</td>\n",
              "      <td>http://www.monroeenvironmental.com/water-and-w...</td>\n",
              "      <td>4/16/2020</td>\n",
              "      <td>Ian Cullings</td>\n",
              "      <td>NaN</td>\n",
              "    </tr>\n",
              "    <tr>\n",
              "      <th>4</th>\n",
              "      <td>plate settler with hopper</td>\n",
              "      <td>Parkson</td>\n",
              "      <td>still</td>\n",
              "      <td>pending</td>\n",
              "      <td>https://www.parkson.com/</td>\n",
              "      <td>https://www.parkson.com/products/lamella-ecoflow</td>\n",
              "      <td>4/16/2020</td>\n",
              "      <td>Ian Cullings</td>\n",
              "      <td>Includes sloped sludge hopper in design</td>\n",
              "    </tr>\n",
              "    <tr>\n",
              "      <th>5</th>\n",
              "      <td>rapid mixer (mech)</td>\n",
              "      <td>Dynamix</td>\n",
              "      <td>still</td>\n",
              "      <td>pending</td>\n",
              "      <td>https://www.dynamixinc.com</td>\n",
              "      <td>https://www.dynamixinc.com/industries/waste-wa...</td>\n",
              "      <td>4/16/2020</td>\n",
              "      <td>Lynn Li</td>\n",
              "      <td>NaN</td>\n",
              "    </tr>\n",
              "    <tr>\n",
              "      <th>6</th>\n",
              "      <td>rapid mixer (mech)</td>\n",
              "      <td>Meurer Research</td>\n",
              "      <td>still</td>\n",
              "      <td>pending</td>\n",
              "      <td>http://www.meurerresearch.com</td>\n",
              "      <td>http://www.meurerresearch.com/products/mixer/</td>\n",
              "      <td>4/16/2020</td>\n",
              "      <td>Lynn Li</td>\n",
              "      <td>NaN</td>\n",
              "    </tr>\n",
              "    <tr>\n",
              "      <th>7</th>\n",
              "      <td>rapid mixer (mech)</td>\n",
              "      <td>Philadelphia Mixing Solutions</td>\n",
              "      <td>still</td>\n",
              "      <td>pending</td>\n",
              "      <td>https://www.philamixers.com</td>\n",
              "      <td>https://www.philamixers.com/industries/water-w...</td>\n",
              "      <td>4/16/20</td>\n",
              "      <td>Lynn Li</td>\n",
              "      <td>NaN</td>\n",
              "    </tr>\n",
              "    <tr>\n",
              "      <th>8</th>\n",
              "      <td>flocculator (mech)</td>\n",
              "      <td>Sereco</td>\n",
              "      <td>still</td>\n",
              "      <td>pending</td>\n",
              "      <td>http://www.sereco.it/</td>\n",
              "      <td>05/04/2020</td>\n",
              "      <td>Lynn Li</td>\n",
              "      <td>NaN</td>\n",
              "      <td>NaN</td>\n",
              "    </tr>\n",
              "  </tbody>\n",
              "</table>\n",
              "</div>"
            ],
            "text/plain": [
              "            item description  ...                                    notes\n",
              "0             plate settlers  ...                                      NaN\n",
              "1      sludge removal system  ...                                      NaN\n",
              "2             plate settlers  ...                                      NaN\n",
              "3      sludge removal system  ...                                      NaN\n",
              "4  plate settler with hopper  ...  Includes sloped sludge hopper in design\n",
              "5         rapid mixer (mech)  ...                                      NaN\n",
              "6         rapid mixer (mech)  ...                                      NaN\n",
              "7         rapid mixer (mech)  ...                                      NaN\n",
              "8         flocculator (mech)  ...                                      NaN\n",
              "\n",
              "[9 rows x 9 columns]"
            ]
          },
          "metadata": {
            "tags": []
          },
          "execution_count": 14
        }
      ]
    },
    {
      "cell_type": "markdown",
      "metadata": {
        "id": "-jwNKdrCOmux",
        "colab_type": "text"
      },
      "source": [
        "# Shared Assumptions\n",
        "\n",
        "See this [python file, Fairmont.py](https://github.com/monroews/4590FSP/blob/master/Fairmont.py)\n",
        "\n",
        "Use this file to hold parameters that are in the SOW or elsewhere that\n",
        "influence the design of the entire plant. This provides an easy mechanism\n",
        "for all of us to share the same assumptions. Read the SOW to find sections that relate to your part of the design and enter all pertinent variables into [Fairmont.py](https://github.com/monroews/4590FSP/blob/master/Fairmont.py) and then push those changes to github."
      ]
    },
    {
      "cell_type": "markdown",
      "metadata": {
        "id": "2d_HqzBWfj4k",
        "colab_type": "text"
      },
      "source": [
        "We are creating our model for flocculation on the assumption that the main constituents for removal by flocculation are arsenic and dissolved organic matter. Rapid mixing before flocculation will determine the degree of removal by flocs.\n",
        "\n",
        "[/Monroe/]: # (Rewrite this now that you recall that rapid mix doesn't remove anything.)\n",
        "\n",
        "[/Monroe/]: # (You can also create a range of rapid mix volumes, power requirements, and annual operating costs for standard designs for rapid mix units. Those preliminary designs are trivial and will help give insight for goal of reducing the energy footprint of this facility.)\n",
        "\n",
        "Preliminary assumptions we will be making involve associated costs, such as costs for powering the mixers and operation and maintenance costs for each treatment process. As we begin to develop the code for each process, we will decide on which variables we will be changing and which will be assumed to be fixed."
      ]
    },
    {
      "cell_type": "markdown",
      "metadata": {
        "id": "XStSmjO36duL",
        "colab_type": "text"
      },
      "source": [
        "# Major Decisions\n",
        "\n",
        "Write several paragraphs describing the major decisions that you will need to make in order to create a design and outline a strategy for how you will obtain the necessary information to make those decisions."
      ]
    },
    {
      "cell_type": "markdown",
      "metadata": {
        "id": "JeobVYWx6fp4",
        "colab_type": "text"
      },
      "source": [
        "# Next Steps and Challenges\n",
        "\n",
        "As a next step we will need to:\n",
        "\n",
        "1) Continue to contact vendors for more specific values regarding cost.\n",
        "\n",
        "2) Perhaps contact the chemicals team to compare electricity costs of running rapid mix vs coagualant price. \n",
        "\n",
        "3) Overall, just refine our code."
      ]
    },
    {
      "cell_type": "markdown",
      "metadata": {
        "id": "DXlB_I6ZOw2J",
        "colab_type": "text"
      },
      "source": [
        "# Design\n",
        "\n"
      ]
    },
    {
      "cell_type": "markdown",
      "metadata": {
        "id": "59xSfbgWLoXl",
        "colab_type": "text"
      },
      "source": [
        "## Design Plan\n",
        "\n",
        "### Rapid-Mix\n",
        "\n",
        "**Assumptions**: We will assume a residence time of 1 min for the vertical turbine rapid-mix system. (No need for a residence time for the pump diffusion system)\n",
        "\n",
        "1. We will optimize length scale in order to find G (conventional design is based on G)\n",
        "2. Using this G value we will then find the diameter of the conal jet (the flow through each channel will be 1/3 of the overall flow of the plant)\n",
        "3. Once the jet size is determined we will find the energy required of the pump to produce this jet\n",
        "4. Finally we will use this energy value to determine operation costs\n",
        "5. Additionally we can use the power value to find a head height\n",
        "6. Additionally we can compare and contrast energy requirements for various numbers of rapid mix units (more units = less flow through each)\n",
        "\n",
        "### Flocculation\n",
        "\n",
        "**Assumptions**: We will assume a residence time of 20 min for each flocculation unit (each unit will have 3 chambers of decending G values that will each have a residence time of 20/3 min)\n",
        "\n",
        "1. Set an array for 3 different G values for the 3 chambers of each flocculation unit\n",
        "2. Using the incoming turbidity, flow, and residence time we will calculate the energy requirement (the flow through each channel will be 1/3 of the overall flow of the plant)"
      ]
    },
    {
      "cell_type": "code",
      "metadata": {
        "id": "IrwTrVM2hZqH",
        "colab_type": "code",
        "outputId": "b482906a-891e-4eda-891d-bcd404cc493e",
        "colab": {
          "base_uri": "https://localhost:8080/",
          "height": 69
        }
      },
      "source": [
        "## Givens\n",
        "#print('The average flow to be treated at Fairmont is',fmt.q_ave.to(u.Mgal/u.day),'or')\n",
        "#print('The maximum flow to be treated at Fairmont is',fmt.q_max.to(u.Mgal/u.day))\n",
        "specific_energy = (fmt.electricity_power/fmt.q_ave).to(u.J/u.L)\n",
        "temp = 15 * u.degC\n",
        "specific_potential_energy = (specific_energy / u.gravity / ac.density_water(temp)).to(u.m)\n",
        "fsp_flow = fmt.q_max.to(u.Mgal/u.day)\n",
        "\n",
        "#print('The average amount of energy used per liter of water is expected to be',specific_energy,'or',specific_potential_energy,'of potential energy')\n",
        "\n",
        "# Adjusting pH (operating at an optimum pOH mitigates the need to shift optimum pH based on temp)\n",
        "#pkW = (0.01760*temp.to(u.degK))+(4470.99/temp.to(u.degK))-6.0875\n",
        "#pH + pOH = pKW\n",
        "\n",
        "## Constants (random by Monroe)\n",
        "fmt.n_rm_mech #4 units (one for redunancy)\n",
        "fmt.L_rm_mech #3m\n",
        "fmt.W_rm_mech #3m\n",
        "\n",
        "fmt.n_floc_mech #4 units\n",
        "fmt.L_floc_mech #10m\n",
        "fmt.W_floc_mech #10m\n",
        "elec_price_la = 0.1173*((u.USD)/(u.kW*u.hr)) #average industrial electricity rate in Los Angeles"
      ],
      "execution_count": 15,
      "outputs": [
        {
          "output_type": "stream",
          "text": [
            "13.16 meter\n",
            "The diameter of the jet orifice is  25.95 centimeter\n",
            "The velocity from the jet is 11.56 meter / second\n"
          ],
          "name": "stdout"
        }
      ]
    },
    {
      "cell_type": "code",
      "metadata": {
        "id": "lenNXwRK3Qms",
        "colab_type": "code",
        "colab": {}
      },
      "source": [
        "# Rapid-Mix Mechanical\n",
        "\n",
        "# Diameter of rapid mix injection pipe\n",
        "length_in_rm = 1.5 * diameter_rm_mech_pipe\n",
        "\n",
        "injection_time = (volume_rm_mech) / fsp_flow\n",
        "\n",
        "# We can assume the pump flow rate is approximately 3% of plant flow rate, thus\n",
        "rm_mech_pump_flow_ratio = 0.03\n",
        "rm_mech_pump_flow = fsp_flow * rm_mech_pump_flow_ratio\n",
        "\n",
        "# Compute hydraulic head by plugging in mixing energy assuming pump efficiency = 1:\n",
        "# Temporary velocity gradient for now to verify equations work\n",
        "rm_velocity_gradient = 700 / u.s\n",
        "rm_mech_pump_energy = rm_velocity_gradient**2 * 2 * ac.viscosity_dynamic_water(temp)* volume_rm_mech\n",
        "efficiency_rm_mech_pump = 1\n",
        "hydraulic_head_rm_mech = rm_mech_pump_energy * efficiency_rm_mech_pump / (u.gravity * ac.density_water(temp) * fsp_flow)\n",
        "\n",
        "# Next, we simply solve for viscosity:\n",
        "viscosity_kinematic_rm_mech = np.sqrt(2*u.gravity*hydraulic_head_rm_mech)\n",
        "\n",
        "# Lastly, after solving for hydraulic head, solve for the required diameter like so:\n",
        "diamter_rm_mech_injection = np.sqrt(4*rm_mech_pump_flow/(np.pi*viscosity_kinematic_rm_mech))\n",
        "print(\"The diameter of the jet orifice is \",diamter_rm_mech_injection.to(u.centimeter) )\n",
        "\n",
        "# Mass conservation\n",
        "area_rm_mech_injection = diamter_rm_mech_injection**2 * np.pi / 4\n",
        "velocity_rm_injection = (rm_mech_pump_flow / area_rm_mech_injection).to(u.m/u.s)\n",
        "print(\"The velocity from the jet is\",velocity_rm_injection)"
      ],
      "execution_count": 0,
      "outputs": []
    },
    {
      "cell_type": "code",
      "metadata": {
        "id": "B7WKEfjv249_",
        "colab_type": "code",
        "colab": {}
      },
      "source": [
        "# Flocculation Mechanical\n",
        "residence_time_floc_mech = 20*u.min\n",
        "volume_floc_mech = (fsp_flow*residence_time_floc_mech).to(u.gal)"
      ],
      "execution_count": 0,
      "outputs": []
    },
    {
      "cell_type": "markdown",
      "metadata": {
        "id": "4CqcnOUCyGk3",
        "colab_type": "text"
      },
      "source": [
        "# References\n",
        "\n",
        "https://aguaclara.github.io/Textbook/Rapid_Mix\n",
        "\n",
        "https://education.seattlepi.com/flocculation-wastewater-4866.html\n",
        "\n",
        "https://www.iwapublishing.com/news/coagulation-and-flocculation-water-and-wastewater-treatment\n",
        "\n",
        "https://www.electricitylocal.com/states/california/los-angeles/"
      ]
    }
  ]
}